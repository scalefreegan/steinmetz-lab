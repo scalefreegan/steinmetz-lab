{
 "cells": [
  {
   "cell_type": "code",
   "execution_count": 1,
   "metadata": {
    "collapsed": true
   },
   "outputs": [],
   "source": [
    "%matplotlib inline\n",
    "import matplotlib.pyplot as plt"
   ]
  },
  {
   "cell_type": "code",
   "execution_count": 2,
   "metadata": {
    "collapsed": false
   },
   "outputs": [
    {
     "name": "stdout",
     "output_type": "stream",
     "text": [
      "/g/steinmetz\n"
     ]
    }
   ],
   "source": [
    "cd /g/steinmetz/"
   ]
  },
  {
   "cell_type": "code",
   "execution_count": 3,
   "metadata": {
    "collapsed": true
   },
   "outputs": [],
   "source": [
    "import os\n",
    "import pandas as pd\n",
    "import numpy as np\n",
    "import subprocess\n",
    "import csv\n",
    "import datetime as dt "
   ]
  },
  {
   "cell_type": "code",
   "execution_count": 4,
   "metadata": {
    "collapsed": false
   },
   "outputs": [],
   "source": [
    "def calcDateCumSum(df, startDate = \"min\", endMax = 3650, rangeFreq = \"30D\", corrF = 1e9):\n",
    "    end = pd.to_datetime(dt.date.today())\n",
    "    if startDate == \"min\":\n",
    "        start = min(df.loc[:,\"date\"])\n",
    "        if (end - start) > pd.Timedelta('%s days' % endMax):\n",
    "            start = end - pd.Timedelta('%s days' % endMax)\n",
    "    else:\n",
    "        start = pd.to_datetime(startDate)\n",
    "\n",
    "    rng = pd.date_range(start, end, freq = rangeFreq)\n",
    "    csum = [df.loc[df.loc[:,\"date\"] <= j,\"size\"].sum()/corrF for j in rng] # output in corrF units, eg GB\n",
    "    return pd.DataFrame({\"date\" : rng, \"usage\" : csum})"
   ]
  },
  {
   "cell_type": "code",
   "execution_count": 26,
   "metadata": {
    "collapsed": false
   },
   "outputs": [
    {
     "name": "stdout",
     "output_type": "stream",
     "text": [
      "<_csv.reader object at 0x7f8e21bcf7c0>\n"
     ]
    }
   ],
   "source": [
    "name2email = {}\n",
    "with open(\"/g/steinmetz/brooks/steinmetzUsers.csv\") as f:\n",
    "    next(f)\n",
    "    reader = csv.reader(f,delimiter=\",\")\n",
    "    print reader\n",
    "    for x,y in reader:\n",
    "        name2email[x] = y"
   ]
  },
  {
   "cell_type": "code",
   "execution_count": null,
   "metadata": {
    "collapsed": false,
    "scrolled": true
   },
   "outputs": [],
   "source": [
    "#name2email"
   ]
  },
  {
   "cell_type": "code",
   "execution_count": null,
   "metadata": {
    "collapsed": false
   },
   "outputs": [],
   "source": [
    "proc = subprocess.Popen([\"find `pwd` -type f -exec ls -l -k --time-style=long-iso {} \\;\"], stdout=subprocess.PIPE, shell=True)\n",
    "(out, err) = proc.communicate()"
   ]
  },
  {
   "cell_type": "code",
   "execution_count": null,
   "metadata": {
    "collapsed": false
   },
   "outputs": [],
   "source": [
    "out2 = pd.DataFrame([s.split(None, 7) for s in out.splitlines()],\n",
    "    columns = [\"permissions\",\"nlinks\",\"owner\",\"group\",\"size\",\"date\",\"time\",\"fname\"])\n",
    "#out2 = out2.convert_objects(convert_numeric=True)\n",
    "out2.loc[:,\"size\"] = pd.to_numeric(out2.loc[:,\"size\"])\n",
    "out2.loc[:,\"date\"] = pd.to_datetime(out2.loc[:,\"date\"])"
   ]
  },
  {
   "cell_type": "code",
   "execution_count": null,
   "metadata": {
    "collapsed": false
   },
   "outputs": [],
   "source": [
    "out2.head()"
   ]
  },
  {
   "cell_type": "code",
   "execution_count": null,
   "metadata": {
    "collapsed": false
   },
   "outputs": [],
   "source": [
    "i = \"brooks\"\n",
    "thisdf = out2.loc[out2.loc[:,\"owner\"]==i,:]"
   ]
  },
  {
   "cell_type": "code",
   "execution_count": null,
   "metadata": {
    "collapsed": false
   },
   "outputs": [],
   "source": [
    "total = round(thisdf.loc[:,\"size\"].sum() / 1e6, 2)\n",
    "median_other = round(out2.groupby(\"owner\").agg({'size' : sum}).median()[0] / 1e6, 2)"
   ]
  },
  {
   "cell_type": "code",
   "execution_count": null,
   "metadata": {
    "collapsed": false
   },
   "outputs": [],
   "source": [
    "# larger than 1 GB\n",
    "thisdf_L = thisdf.loc[thisdf.loc[:,\"size\"]>=1e6,:]\n",
    "thisdf_L = thisdf_L.sort_values(\"size\",ascending=False)\n",
    "thisL = (thisdf_L[\"size\"]/1e6).map(str) + \" \" + thisdf_L[\"fname\"]\n",
    "lfiles = (\"\\n\").join(j for j in thisL)\n",
    "otherdf_L = out2.loc[out2.loc[:,\"size\"]>=1e6,:]\n",
    "median_other_L = otherdf_L.groupby(\"owner\").size().median()"
   ]
  },
  {
   "cell_type": "code",
   "execution_count": null,
   "metadata": {
    "collapsed": false
   },
   "outputs": [],
   "source": [
    "# cum sum over time plot\n",
    "out3 = calcDateCumSum(thisdf, startDate = \"min\", endMax = 3650, rangeFreq = \"1D\", corrF = 1e6)\n",
    "myplt = out3.plot(x = \"date\", y = \"usage\", kind = \"area\", legend = False, title = \"Tier-1 Data Usage: %s\" % i)\n",
    "myplt.set_xlabel(\"date\")\n",
    "myplt.set_ylabel(\"usage (GB)\")\n",
    "plt.savefig(\"/g/steinmetz/brooks/tier1-usage.png\", dpi = 150)"
   ]
  },
  {
   "cell_type": "code",
   "execution_count": null,
   "metadata": {
    "collapsed": true
   },
   "outputs": [],
   "source": [
    "proc = subprocess.Popen([\"df -h /g/steinmetz/\"], stdout=subprocess.PIPE, shell=True)\n",
    "(out, err) = proc.communicate()\n",
    "usage = out.splitlines()[2].split()"
   ]
  },
  {
   "cell_type": "code",
   "execution_count": null,
   "metadata": {
    "collapsed": true
   },
   "outputs": [],
   "source": [
    "statement = 'Hello from the Steinmetz Tier-1 Storage Robowizard,\\n\\nMy job is to alert you about data usage on the Steinmetz Tier-1 storage drive. Space on this centrally managed service is expensive and limited. Currently our Tier-1 storage drive is %s full! We are using %s of %s of purchased space.\\n\\nPlease carefully evaluate your usage. Delete unnessary files and archive old projects and files to Tier-2 at /g/tier2/steinmetz/\\n\\nSave space for others!!\\n\\nIf you need any assistance, you can send a mail to Aaron Brooks (aaron.brooks@embl.de)\\n\\nThanks for your help! You will recieve a biannual update about your usage.\\n\\nYour stats:\\n\\nA plot with your usage statistics over time is attached\\n\\nYou are using: %s GBs. The median usage for all other users is %s GBs.\\n\\nYou have %s files larger than 1 GB. Other users have %s on average.\\n\\nYour large files (>= 1GB) include: \\n\\nSize(GB) File\\n%s'"
   ]
  },
  {
   "cell_type": "code",
   "execution_count": null,
   "metadata": {
    "collapsed": false
   },
   "outputs": [],
   "source": [
    "# send mail\n",
    "msend3 = 'echo \"%s\" | mailx -v -s \"Tier-1 Usage Report\" -a \"/g/steinmetz/brooks/tier1-usage.png\" %s'\n",
    "m = statement % (usage[3], usage[1], usage[0], total, median_other, thisdf_L.size, median_other_L, lfiles)\n",
    "proc = subprocess.Popen([msend3 % (m,name2email[i])], stdout=subprocess.PIPE, shell=True)\n",
    "(out, err) = proc.communicate()"
   ]
  },
  {
   "cell_type": "code",
   "execution_count": 27,
   "metadata": {
    "collapsed": false
   },
   "outputs": [
    {
     "data": {
      "text/plain": [
       "['gagneur',\n",
       " 'xing',\n",
       " 'wuwei',\n",
       " 'gen',\n",
       " 'xshi',\n",
       " 'chabbert',\n",
       " 'root',\n",
       " 'matthey',\n",
       " 'jakob',\n",
       " 'pelechan',\n",
       " 'fritsch',\n",
       " 'velten',\n",
       " 'adjalley',\n",
       " 'galaxy',\n",
       " 'wilkenin',\n",
       " 'gupta',\n",
       " 'landry',\n",
       " 'solexa',\n",
       " 'tekkedil',\n",
       " 'czhu',\n",
       " 'wmueller',\n",
       " 'jaerveli',\n",
       " 'lsteinme',\n",
       " 'granovsk',\n",
       " 'schmitt',\n",
       " 'clauder',\n",
       " 'delhomme',\n",
       " 'mancera',\n",
       " 'sinha',\n",
       " 'aiyar',\n",
       " 'klett',\n",
       " 'wegener',\n",
       " 'jann',\n",
       " 'zxu',\n",
       " 'blandin',\n",
       " 'perocchi',\n",
       " 'zaugg',\n",
       " 'hughes',\n",
       " 'pekowska',\n",
       " 'sanchon',\n",
       " 'whuber',\n",
       " 'brooks',\n",
       " 'smolik',\n",
       " 'rwang',\n",
       " 'xiao',\n",
       " 'parts',\n",
       " 'hennig',\n",
       " None,\n",
       " 'ajones',\n",
       " 'schuon',\n",
       " 'pakozdi',\n",
       " 'anders',\n",
       " 'gpau',\n",
       " 'schlattl',\n",
       " 'schirmer',\n",
       " 'nfsnobody',\n",
       " 'base',\n",
       " 'reiland',\n",
       " 'befische',\n",
       " 'brenneck',\n",
       " 'tessmer',\n",
       " 'briganti',\n",
       " 'zeis',\n",
       " 'tang',\n",
       " 'padiolea',\n",
       " 'pxie',\n",
       " 'wertek',\n",
       " 'hsun',\n",
       " 'tataru',\n",
       " 'drainas',\n",
       " 'baccin',\n",
       " 'renganaa']"
      ]
     },
     "execution_count": 27,
     "metadata": {},
     "output_type": "execute_result"
    }
   ],
   "source": [
    "owners = [i for i in out2[\"owner\"].unique()]\n",
    "for i in owners:\n",
    "    if i not in name2email.keys(): # send email alert to aaron.brooks@embl.de\n",
    "        msend1 = 'echo \"%s\" | mailx -v -s \"Add /g/steinmetz/ user\" aaron.brooks@embl.de'\n",
    "        m = \"You need to add user %s to /g/steinmetz/brooks/steinmetzUsers.csv\" % i\n",
    "        proc = subprocess.Popen([msend1 % m], stdout=subprocess.PIPE, shell=True)\n",
    "        (out, err) = proc.communicate()\n",
    "    else:\n",
    "        if name2email[i] == \"NA\": # send email alert to aaron.brooks@embl.de\n",
    "            msend2 = 'echo \"%s\" | mailx -v -s \"Add /g/steinmetz/ user email\" aaron.brooks@embl.de'\n",
    "            m = \"You need to add an email address for user %s to /g/steinmetz/brooks/steinmetzUsers.csv\" % i\n",
    "            proc = subprocess.Popen([msend2 % m], stdout=subprocess.PIPE, shell=True)\n",
    "            (out, err) = proc.communicate()\n",
    "        else:\n",
    "            # compile alert for named individual\n",
    "            owners_pass.append(i)\n",
    "owners"
   ]
  },
  {
   "cell_type": "code",
   "execution_count": null,
   "metadata": {
    "collapsed": true
   },
   "outputs": [],
   "source": [
    "for i in owners:\n",
    "    thisdf = out2.loc[out2.loc[:,\"owner\"]==i,:]\n",
    "\n",
    "    # total usage GB\n",
    "    total = round(thisdf.loc[:,\"size\"].sum() / 1e6, 2)\n",
    "    median_other = round(out2.groupby(\"owner\").agg({'size' : np.sum}).median()[0] / 1e6, 2)\n",
    "\n",
    "    # larger than 1 GB\n",
    "    thisdf_L = thisdf.loc[thisdf.loc[:,\"size\"]>=1e6,:]\n",
    "    thisdf_L = thisdf_L.sort_values(\"size\",ascending=False)\n",
    "    thisL = (thisdf_L[\"size\"]/1e6).map(str) + \" \" + thisdf_L[\"fname\"]\n",
    "    lfiles = (\"\\n\").join(j for j in thisL)\n",
    "    otherdf_L = out2.loc[out2.loc[:,\"size\"]>=1e6,:]\n",
    "    median_other_L = otherdf_L.groupby(\"owner\").size().median()\n",
    "\n",
    "    # cum sum over time plot\n",
    "    out3 = calcDateCumSum(thisdf, startDate = \"min\", endMax = 3650, rangeFreq = \"1D\", corrF = 1e6)\n",
    "    myplt = out3.plot(x = \"date\", y = \"usage\", kind = \"area\", legend = False, title = \"Tier-1 Data Usage: %s\" % i)\n",
    "    myplt.set_xlabel(\"date\")\n",
    "    myplt.set_ylabel(\"usage (GB)\")\n",
    "    plt.savefig(\"/g/steinmetz/brooks/tier1-usage.png\", dpi = 150)\n",
    "\n",
    "    # send mail\n",
    "    proc = subprocess.Popen([\"df -h /g/steinmetz/\"], stdout=subprocess.PIPE, shell=True)\n",
    "    (out, err) = proc.communicate()\n",
    "    usage = out.splitlines()[2].split()\n",
    "    statement = 'Dear %s,\\n\\n Hello from the Steinmetz Tier-1 Storage Robowizard!\\n\\nMy job is to alert you about data usage on the Steinmetz Tier-1 storage drive. Space on this centrally managed service is expensive and limited. Currently our Tier-1 storage drive is %s full! We are using %s of %s of purchased space.\\n\\nPlease carefully evaluate your usage. Delete unnessary files and archive old projects and files to Tier-2 at /g/tier2/steinmetz/\\n\\nSave space for others!!\\n\\nIf you need any assistance, you can send a mail to Aaron Brooks (aaron.brooks@embl.de)\\n\\nThanks for your help! You will recieve a biannual update about your usage.\\n\\nYour stats:\\n\\nA plot with your usage statistics over time is attached\\n\\nYou are using: %s GBs. The median usage for all other users is %s GBs.\\n\\nYou have %s files larger than 1 GB. Other users have %s on average.\\n\\nYour large files (>= 1GB) include: \\n\\nSize(GB) File\\n%s'\n",
    "\n",
    "    # send mail\n",
    "    msend3 = 'echo \"%s\" | mailx -v -s \"Tier-1 Usage Report\" -a \"/g/steinmetz/brooks/tier1-usage.png\" %s'\n",
    "    m = statement % (i, usage[3], usage[1], usage[0], total, median_other, thisdf_L.size, median_other_L, lfiles)\n",
    "    proc = subprocess.Popen([msend3 % (m,\"aaron.brooks@embl.de\")], stdout=subprocess.PIPE, shell=True)\n",
    "    (out, err) = proc.communicate()"
   ]
  }
 ],
 "metadata": {
  "kernelspec": {
   "display_name": "Python 2",
   "language": "python",
   "name": "python2"
  },
  "language_info": {
   "codemirror_mode": {
    "name": "ipython",
    "version": 2
   },
   "file_extension": ".py",
   "mimetype": "text/x-python",
   "name": "python",
   "nbconvert_exporter": "python",
   "pygments_lexer": "ipython2",
   "version": "2.7.11"
  }
 },
 "nbformat": 4,
 "nbformat_minor": 0
}
