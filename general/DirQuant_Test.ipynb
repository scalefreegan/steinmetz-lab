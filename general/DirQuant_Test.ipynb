{
 "cells": [
  {
   "cell_type": "code",
   "execution_count": 1,
   "metadata": {
    "collapsed": true
   },
   "outputs": [],
   "source": [
    "%matplotlib inline\n",
    "import matplotlib.pyplot as plt"
   ]
  },
  {
   "cell_type": "code",
   "execution_count": 2,
   "metadata": {
    "collapsed": false
   },
   "outputs": [
    {
     "name": "stdout",
     "output_type": "stream",
     "text": [
<<<<<<< Updated upstream
      "/g/steinmetz\n"
=======
      "/g/steinmetz/project\n"
>>>>>>> Stashed changes
     ]
    }
   ],
   "source": [
    "cd /g/steinmetz/"
   ]
  },
  {
   "cell_type": "code",
   "execution_count": 3,
   "metadata": {
    "collapsed": true
   },
   "outputs": [],
   "source": [
    "import os\n",
    "import pandas as pd\n",
    "import numpy as np\n",
    "import subprocess\n",
    "import csv\n",
    "import datetime as dt "
   ]
  },
  {
   "cell_type": "code",
   "execution_count": 4,
   "metadata": {
    "collapsed": false
   },
   "outputs": [],
   "source": [
    "def calcDateCumSum(df, startDate = \"min\", endMax = 3650, rangeFreq = \"30D\", corrF = 1e9):\n",
    "    end = pd.to_datetime(dt.date.today())\n",
    "    if startDate == \"min\":\n",
    "        start = min(df.loc[:,\"date\"])\n",
    "        if (end - start) > pd.Timedelta('%s days' % endMax):\n",
    "            start = end - pd.Timedelta('%s days' % endMax)\n",
    "    else:\n",
    "        start = pd.to_datetime(startDate)\n",
    "\n",
    "    rng = pd.date_range(start, end, freq = rangeFreq)\n",
    "    csum = [df.loc[df.loc[:,\"date\"] <= j,\"size\"].sum()/corrF for j in rng] # output in corrF units, eg GB\n",
    "    return pd.DataFrame({\"date\" : rng, \"usage\" : csum})"
   ]
  },
  {
   "cell_type": "code",
<<<<<<< Updated upstream
   "execution_count": 26,
=======
   "execution_count": 5,
>>>>>>> Stashed changes
   "metadata": {
    "collapsed": false
   },
   "outputs": [
    {
     "name": "stdout",
     "output_type": "stream",
     "text": [
<<<<<<< Updated upstream
      "<_csv.reader object at 0x7f8e21bcf7c0>\n"
=======
      "<_csv.reader object at 0x7f20bc9ea670>\n"
>>>>>>> Stashed changes
     ]
    }
   ],
   "source": [
    "name2email = {}\n",
    "with open(\"/g/steinmetz/brooks/steinmetzUsers.csv\") as f:\n",
    "    next(f)\n",
    "    reader = csv.reader(f,delimiter=\",\")\n",
    "    print reader\n",
    "    for x,y in reader:\n",
    "        name2email[x] = y"
   ]
  },
  {
   "cell_type": "code",
<<<<<<< Updated upstream
   "execution_count": null,
=======
   "execution_count": 6,
>>>>>>> Stashed changes
   "metadata": {
    "collapsed": false,
    "scrolled": true
   },
   "outputs": [],
   "source": [
    "#name2email"
   ]
  },
  {
   "cell_type": "code",
<<<<<<< Updated upstream
   "execution_count": null,
=======
   "execution_count": 7,
>>>>>>> Stashed changes
   "metadata": {
    "collapsed": false
   },
   "outputs": [],
   "source": [
    "proc = subprocess.Popen([\"find `pwd` -type f -exec ls -l -k --time-style=long-iso {} \\;\"], stdout=subprocess.PIPE, shell=True)\n",
    "(out, err) = proc.communicate()"
   ]
  },
  {
   "cell_type": "code",
<<<<<<< Updated upstream
   "execution_count": null,
=======
   "execution_count": 8,
>>>>>>> Stashed changes
   "metadata": {
    "collapsed": false
   },
   "outputs": [],
   "source": [
    "out2 = pd.DataFrame([s.split(None, 7) for s in out.splitlines()],\n",
    "    columns = [\"permissions\",\"nlinks\",\"owner\",\"group\",\"size\",\"date\",\"time\",\"fname\"])\n",
    "#out2 = out2.convert_objects(convert_numeric=True)\n",
    "out2.loc[:,\"size\"] = pd.to_numeric(out2.loc[:,\"size\"])\n",
    "out2.loc[:,\"date\"] = pd.to_datetime(out2.loc[:,\"date\"])"
   ]
  },
  {
   "cell_type": "code",
<<<<<<< Updated upstream
   "execution_count": null,
   "metadata": {
    "collapsed": false
   },
   "outputs": [],
=======
   "execution_count": 9,
   "metadata": {
    "collapsed": false
   },
   "outputs": [
    {
     "data": {
      "text/html": [
       "<div>\n",
       "<table border=\"1\" class=\"dataframe\">\n",
       "  <thead>\n",
       "    <tr style=\"text-align: right;\">\n",
       "      <th></th>\n",
       "      <th>permissions</th>\n",
       "      <th>nlinks</th>\n",
       "      <th>owner</th>\n",
       "      <th>group</th>\n",
       "      <th>size</th>\n",
       "      <th>date</th>\n",
       "      <th>time</th>\n",
       "      <th>fname</th>\n",
       "    </tr>\n",
       "  </thead>\n",
       "  <tbody>\n",
       "    <tr>\n",
       "      <th>0</th>\n",
       "      <td>-rw-rw----</td>\n",
       "      <td>1</td>\n",
       "      <td>jaerveli</td>\n",
       "      <td>lsteinme</td>\n",
       "      <td>5</td>\n",
       "      <td>2011-03-17</td>\n",
       "      <td>17:14</td>\n",
       "      <td>/g/steinmetz/project/yeastProteinExpression/ye...</td>\n",
       "    </tr>\n",
       "    <tr>\n",
       "      <th>1</th>\n",
       "      <td>-rw-rw----</td>\n",
       "      <td>1</td>\n",
       "      <td>jaerveli</td>\n",
       "      <td>lsteinme</td>\n",
       "      <td>3</td>\n",
       "      <td>2011-03-17</td>\n",
       "      <td>17:29</td>\n",
       "      <td>/g/steinmetz/project/yeastProteinExpression/ye...</td>\n",
       "    </tr>\n",
       "    <tr>\n",
       "      <th>2</th>\n",
       "      <td>-rw-rw----</td>\n",
       "      <td>1</td>\n",
       "      <td>jaerveli</td>\n",
       "      <td>lsteinme</td>\n",
       "      <td>2</td>\n",
       "      <td>2011-03-17</td>\n",
       "      <td>17:18</td>\n",
       "      <td>/g/steinmetz/project/yeastProteinExpression/ye...</td>\n",
       "    </tr>\n",
       "    <tr>\n",
       "      <th>3</th>\n",
       "      <td>-rw-rw----</td>\n",
       "      <td>1</td>\n",
       "      <td>jaerveli</td>\n",
       "      <td>lsteinme</td>\n",
       "      <td>7</td>\n",
       "      <td>2011-03-17</td>\n",
       "      <td>17:17</td>\n",
       "      <td>/g/steinmetz/project/yeastProteinExpression/ye...</td>\n",
       "    </tr>\n",
       "    <tr>\n",
       "      <th>4</th>\n",
       "      <td>-rw-r-----</td>\n",
       "      <td>1</td>\n",
       "      <td>jaerveli</td>\n",
       "      <td>lsteinme</td>\n",
       "      <td>251</td>\n",
       "      <td>2011-02-16</td>\n",
       "      <td>16:33</td>\n",
       "      <td>/g/steinmetz/project/yeastProteinExpression/ye...</td>\n",
       "    </tr>\n",
       "  </tbody>\n",
       "</table>\n",
       "</div>"
      ],
      "text/plain": [
       "  permissions nlinks     owner     group  size       date   time  \\\n",
       "0  -rw-rw----      1  jaerveli  lsteinme     5 2011-03-17  17:14   \n",
       "1  -rw-rw----      1  jaerveli  lsteinme     3 2011-03-17  17:29   \n",
       "2  -rw-rw----      1  jaerveli  lsteinme     2 2011-03-17  17:18   \n",
       "3  -rw-rw----      1  jaerveli  lsteinme     7 2011-03-17  17:17   \n",
       "4  -rw-r-----      1  jaerveli  lsteinme   251 2011-02-16  16:33   \n",
       "\n",
       "                                               fname  \n",
       "0  /g/steinmetz/project/yeastProteinExpression/ye...  \n",
       "1  /g/steinmetz/project/yeastProteinExpression/ye...  \n",
       "2  /g/steinmetz/project/yeastProteinExpression/ye...  \n",
       "3  /g/steinmetz/project/yeastProteinExpression/ye...  \n",
       "4  /g/steinmetz/project/yeastProteinExpression/ye...  "
      ]
     },
     "execution_count": 9,
     "metadata": {},
     "output_type": "execute_result"
    }
   ],
>>>>>>> Stashed changes
   "source": [
    "out2.head()"
   ]
  },
  {
   "cell_type": "code",
<<<<<<< Updated upstream
   "execution_count": null,
=======
   "execution_count": 10,
>>>>>>> Stashed changes
   "metadata": {
    "collapsed": false
   },
   "outputs": [],
   "source": [
    "i = \"brooks\"\n",
    "thisdf = out2.loc[out2.loc[:,\"owner\"]==i,:]"
   ]
  },
  {
   "cell_type": "code",
<<<<<<< Updated upstream
   "execution_count": null,
=======
   "execution_count": 11,
>>>>>>> Stashed changes
   "metadata": {
    "collapsed": false
   },
   "outputs": [],
   "source": [
    "total = round(thisdf.loc[:,\"size\"].sum() / 1e6, 2)\n",
    "median_other = round(out2.groupby(\"owner\").agg({'size' : sum}).median()[0] / 1e6, 2)"
<<<<<<< Updated upstream
=======
   ]
  },
  {
   "cell_type": "code",
   "execution_count": 12,
   "metadata": {
    "collapsed": false
   },
   "outputs": [],
   "source": [
    "# larger than 1 GB\n",
    "thisdf_L = thisdf.loc[thisdf.loc[:,\"size\"]>=1e6,:]\n",
    "thisdf_L = thisdf_L.sort_values(\"size\",ascending=False)\n",
    "thisL = (thisdf_L[\"size\"]/1e6).map(str) + \" \" + thisdf_L[\"fname\"]\n",
    "lfiles = (\"\\n\").join(j for j in thisL)\n",
    "otherdf_L = out2.loc[out2.loc[:,\"size\"]>=1e6,:]\n",
    "median_other_L = otherdf_L.groupby(\"owner\").size().median()"
>>>>>>> Stashed changes
   ]
  },
  {
   "cell_type": "code",
<<<<<<< Updated upstream
   "execution_count": null,
   "metadata": {
    "collapsed": false
   },
   "outputs": [],
   "source": [
    "# larger than 1 GB\n",
    "thisdf_L = thisdf.loc[thisdf.loc[:,\"size\"]>=1e6,:]\n",
    "thisdf_L = thisdf_L.sort_values(\"size\",ascending=False)\n",
    "thisL = (thisdf_L[\"size\"]/1e6).map(str) + \" \" + thisdf_L[\"fname\"]\n",
    "lfiles = (\"\\n\").join(j for j in thisL)\n",
    "otherdf_L = out2.loc[out2.loc[:,\"size\"]>=1e6,:]\n",
    "median_other_L = otherdf_L.groupby(\"owner\").size().median()"
   ]
  },
  {
   "cell_type": "code",
   "execution_count": null,
   "metadata": {
    "collapsed": false
   },
   "outputs": [],
   "source": [
    "# cum sum over time plot\n",
    "out3 = calcDateCumSum(thisdf, startDate = \"min\", endMax = 3650, rangeFreq = \"1D\", corrF = 1e6)\n",
    "myplt = out3.plot(x = \"date\", y = \"usage\", kind = \"area\", legend = False, title = \"Tier-1 Data Usage: %s\" % i)\n",
    "myplt.set_xlabel(\"date\")\n",
    "myplt.set_ylabel(\"usage (GB)\")\n",
    "plt.savefig(\"/g/steinmetz/brooks/tier1-usage.png\", dpi = 150)"
   ]
  },
  {
   "cell_type": "code",
   "execution_count": null,
   "metadata": {
    "collapsed": true
   },
   "outputs": [],
   "source": [
    "proc = subprocess.Popen([\"df -h /g/steinmetz/\"], stdout=subprocess.PIPE, shell=True)\n",
    "(out, err) = proc.communicate()\n",
    "usage = out.splitlines()[2].split()"
   ]
  },
  {
   "cell_type": "code",
   "execution_count": null,
   "metadata": {
    "collapsed": true
   },
   "outputs": [],
   "source": [
    "statement = 'Hello from the Steinmetz Tier-1 Storage Robowizard,\\n\\nMy job is to alert you about data usage on the Steinmetz Tier-1 storage drive. Space on this centrally managed service is expensive and limited. Currently our Tier-1 storage drive is %s full! We are using %s of %s of purchased space.\\n\\nPlease carefully evaluate your usage. Delete unnessary files and archive old projects and files to Tier-2 at /g/tier2/steinmetz/\\n\\nSave space for others!!\\n\\nIf you need any assistance, you can send a mail to Aaron Brooks (aaron.brooks@embl.de)\\n\\nThanks for your help! You will recieve a biannual update about your usage.\\n\\nYour stats:\\n\\nA plot with your usage statistics over time is attached\\n\\nYou are using: %s GBs. The median usage for all other users is %s GBs.\\n\\nYou have %s files larger than 1 GB. Other users have %s on average.\\n\\nYour large files (>= 1GB) include: \\n\\nSize(GB) File\\n%s'"
   ]
  },
  {
   "cell_type": "code",
   "execution_count": null,
   "metadata": {
    "collapsed": false
   },
   "outputs": [],
   "source": [
    "# send mail\n",
    "msend3 = 'echo \"%s\" | mailx -v -s \"Tier-1 Usage Report\" -a \"/g/steinmetz/brooks/tier1-usage.png\" %s'\n",
    "m = statement % (usage[3], usage[1], usage[0], total, median_other, thisdf_L.size, median_other_L, lfiles)\n",
    "proc = subprocess.Popen([msend3 % (m,name2email[i])], stdout=subprocess.PIPE, shell=True)\n",
    "(out, err) = proc.communicate()"
   ]
  },
  {
   "cell_type": "code",
   "execution_count": 27,
=======
   "execution_count": 13,
>>>>>>> Stashed changes
   "metadata": {
    "collapsed": false
   },
   "outputs": [
    {
     "data": {
      "image/png": "iVBORw0KGgoAAAANSUhEUgAAAYwAAAElCAYAAAD3KtVsAAAABHNCSVQICAgIfAhkiAAAAAlwSFlz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\nYII=\n",
      "text/plain": [
<<<<<<< Updated upstream
       "['gagneur',\n",
       " 'xing',\n",
       " 'wuwei',\n",
       " 'gen',\n",
       " 'xshi',\n",
       " 'chabbert',\n",
       " 'root',\n",
       " 'matthey',\n",
       " 'jakob',\n",
       " 'pelechan',\n",
       " 'fritsch',\n",
       " 'velten',\n",
       " 'adjalley',\n",
       " 'galaxy',\n",
       " 'wilkenin',\n",
       " 'gupta',\n",
       " 'landry',\n",
       " 'solexa',\n",
       " 'tekkedil',\n",
       " 'czhu',\n",
       " 'wmueller',\n",
       " 'jaerveli',\n",
       " 'lsteinme',\n",
       " 'granovsk',\n",
       " 'schmitt',\n",
       " 'clauder',\n",
       " 'delhomme',\n",
       " 'mancera',\n",
       " 'sinha',\n",
       " 'aiyar',\n",
       " 'klett',\n",
       " 'wegener',\n",
       " 'jann',\n",
       " 'zxu',\n",
       " 'blandin',\n",
       " 'perocchi',\n",
       " 'zaugg',\n",
       " 'hughes',\n",
       " 'pekowska',\n",
       " 'sanchon',\n",
       " 'whuber',\n",
       " 'brooks',\n",
       " 'smolik',\n",
       " 'rwang',\n",
       " 'xiao',\n",
       " 'parts',\n",
       " 'hennig',\n",
       " None,\n",
       " 'ajones',\n",
       " 'schuon',\n",
       " 'pakozdi',\n",
       " 'anders',\n",
       " 'gpau',\n",
       " 'schlattl',\n",
       " 'schirmer',\n",
       " 'nfsnobody',\n",
       " 'base',\n",
       " 'reiland',\n",
       " 'befische',\n",
       " 'brenneck',\n",
       " 'tessmer',\n",
       " 'briganti',\n",
       " 'zeis',\n",
       " 'tang',\n",
       " 'padiolea',\n",
       " 'pxie',\n",
       " 'wertek',\n",
       " 'hsun',\n",
       " 'tataru',\n",
       " 'drainas',\n",
       " 'baccin',\n",
       " 'renganaa']"
      ]
     },
     "execution_count": 27,
=======
       "<matplotlib.figure.Figure at 0x7f20bca10f10>"
      ]
     },
>>>>>>> Stashed changes
     "metadata": {},
     "output_type": "display_data"
    }
   ],
   "source": [
<<<<<<< Updated upstream
    "owners = [i for i in out2[\"owner\"].unique()]\n",
    "for i in owners:\n",
    "    if i not in name2email.keys(): # send email alert to aaron.brooks@embl.de\n",
    "        msend1 = 'echo \"%s\" | mailx -v -s \"Add /g/steinmetz/ user\" aaron.brooks@embl.de'\n",
    "        m = \"You need to add user %s to /g/steinmetz/brooks/steinmetzUsers.csv\" % i\n",
    "        proc = subprocess.Popen([msend1 % m], stdout=subprocess.PIPE, shell=True)\n",
    "        (out, err) = proc.communicate()\n",
    "    else:\n",
    "        if name2email[i] == \"NA\": # send email alert to aaron.brooks@embl.de\n",
    "            msend2 = 'echo \"%s\" | mailx -v -s \"Add /g/steinmetz/ user email\" aaron.brooks@embl.de'\n",
    "            m = \"You need to add an email address for user %s to /g/steinmetz/brooks/steinmetzUsers.csv\" % i\n",
    "            proc = subprocess.Popen([msend2 % m], stdout=subprocess.PIPE, shell=True)\n",
    "            (out, err) = proc.communicate()\n",
    "        else:\n",
    "            # compile alert for named individual\n",
    "            owners_pass.append(i)\n",
    "owners"
=======
    "# cum sum over time plot\n",
    "out3 = calcDateCumSum(thisdf, startDate = \"min\", endMax = 3650, rangeFreq = \"1D\", corrF = 1e6)\n",
    "myplt = out3.plot(x = \"date\", y = \"usage\", kind = \"area\", legend = False, title = \"Tier-1 Data Usage: %s\" % i)\n",
    "myplt.set_xlabel(\"date\")\n",
    "myplt.set_ylabel(\"usage (GB)\")\n",
    "plt.savefig(\"/g/steinmetz/brooks/tier1-usage.png\", dpi = 150)"
>>>>>>> Stashed changes
   ]
  },
  {
   "cell_type": "code",
<<<<<<< Updated upstream
   "execution_count": null,
   "metadata": {
    "collapsed": false
   },
   "outputs": [],
   "source": [
    "for i in owners_pass:\n",
    "    try:\n",
    "        thisdf = out2.loc[out2.loc[:,\"owner\"]==i,:]\n",
    "\n",
    "        # total usage GB\n",
    "        total = round(thisdf.loc[:,\"size\"].sum() / 1e6, 2)\n",
    "        median_other = round(out2.groupby(\"owner\").agg({'size' : np.sum}).median()[0] / 1e6, 2)\n",
    "\n",
    "        # larger than 1 GB\n",
    "        thisdf_L = thisdf.loc[thisdf.loc[:,\"size\"]>=1e6,:]\n",
    "        thisdf_L = thisdf_L.sort_values(\"size\",ascending=False)\n",
    "        thisL = (thisdf_L[\"size\"]/1e6).map(str) + \" \" + thisdf_L[\"fname\"]\n",
    "        lfiles = (\"\\n\").join(j for j in thisL)\n",
    "        otherdf_L = out2.loc[out2.loc[:,\"size\"]>=1e6,:]\n",
    "        median_other_L = otherdf_L.groupby(\"owner\").size().median()\n",
    "\n",
    "        # cum sum over time plot\n",
    "        out3 = calcDateCumSum(thisdf, startDate = \"min\", endMax = 3650, rangeFreq = \"1D\", corrF = 1e6)\n",
    "        myplt = out3.plot(x = \"date\", y = \"usage\", kind = \"area\", legend = False, title = \"Tier-1 Data Usage: %s\" % i)\n",
    "        myplt.set_xlabel(\"date\")\n",
    "        myplt.set_ylabel(\"usage (GB)\")\n",
    "        plt.savefig(\"/g/steinmetz/brooks/tier1-usage.png\", dpi = 150)\n",
    "\n",
    "        # send mail\n",
    "        proc = subprocess.Popen([\"df -h /g/steinmetz/\"], stdout=subprocess.PIPE, shell=True)\n",
    "        (out, err) = proc.communicate()\n",
    "        usage = out.splitlines()[2].split()\n",
    "        statement = 'Dear %s,\\n\\nHello from the Steinmetz Tier-1 Storage Robowizard!\\n\\nMy job is to alert you about data usage on the Steinmetz Tier-1 storage drive. Space on this centrally managed service is expensive and limited. Currently our Tier-1 storage drive is %s full! We are using %s of %s of purchased space.\\n\\nPlease carefully evaluate your usage. Delete unnessary files and archive old projects and files to Tier-2 at /g/tier2/steinmetz/\\n\\nSave space for others!!\\n\\nIf you need any assistance, you can send a mail to Aaron Brooks (aaron.brooks@embl.de)\\n\\nThanks for your help! You will recieve a biannual update about your usage.\\n\\nYour stats:\\n\\nA plot with your usage statistics over time is attached\\n\\nYou are using: %s GBs. The median usage for all other users is %s GBs.\\n\\nYou have %s files larger than 1 GB. Other users have %s on average.\\n\\nYour large files (>= 1GB) include: \\n\\nSize(GB) File\\n%s'\n",
    "\n",
    "        # send mail\n",
    "        msend3 = 'echo \"%s\" | mailx -v -s \"Tier-1 Usage Report\" -a \"/g/steinmetz/brooks/tier1-usage.png\" %s'\n",
    "        m = statement % (i, usage[3], usage[1], usage[0], total, median_other, thisdf_L.size, median_other_L, lfiles)\n",
    "        proc = subprocess.Popen([msend3 % (m,name2email[i])], stdout=subprocess.PIPE, shell=True)\n",
    "        (out, err) = proc.communicate()\n",
    "    except:\n",
    "        pass"
=======
   "execution_count": 14,
   "metadata": {
    "collapsed": true
   },
   "outputs": [],
   "source": [
    "proc = subprocess.Popen([\"df -h /g/steinmetz/\"], stdout=subprocess.PIPE, shell=True)\n",
    "(out, err) = proc.communicate()\n",
    "usage = out.splitlines()[2].split()"
>>>>>>> Stashed changes
   ]
  },
  {
   "cell_type": "code",
   "execution_count": 15,
   "metadata": {
    "collapsed": true
   },
   "outputs": [],
   "source": [
<<<<<<< Updated upstream
    "import pickle\n",
    "pickle.dump( out2, open( \"/g/steinmetz/brooks/tier1fs.pickle\", \"wb\" ) )"
=======
    "statement = 'Hello from the Steinmetz Tier-1 Storage Robowizard,\\n\\nMy job is to alert you about data usage on the Steinmetz Tier-1 storage drive. Space on this centrally managed service is expensive and limited. Currently our Tier-1 storage drive is %s full! We are using %s of %s of purchased space.\\n\\nPlease carefully evaluate your usage. Delete unnessary files and archive old projects and files to Tier-2 at /g/tier2/steinmetz/\\n\\nSave space for others!!\\n\\nIf you need any assistance, you can send a mail to Aaron Brooks (aaron.brooks@embl.de)\\n\\nThanks for your help! You will recieve a biannual update about your usage.\\n\\nYour stats:\\n\\nA plot with your usage statistics over time is attached\\n\\nYou are using: %s GBs. The median usage for all other users is %s GBs.\\n\\nYou have %s files larger than 1 GB. Other users have %s on average.\\n\\nYour large files (>= 1GB) include: \\n\\nSize(GB) File\\n%s'"
   ]
  },
  {
   "cell_type": "code",
   "execution_count": 16,
   "metadata": {
    "collapsed": false
   },
   "outputs": [],
   "source": [
    "# send mail\n",
    "msend3 = 'echo \"%s\" | mailx -v -s \"Tier-1 Usage Report\" -a \"/g/steinmetz/brooks/tier1-usage.png\" %s'\n",
    "m = statement % (usage[3], usage[1], usage[0], total, median_other, thisdf_L.size, median_other_L, lfiles)\n",
    "proc = subprocess.Popen([msend3 % (m,name2email[i])], stdout=subprocess.PIPE, shell=True)\n",
    "(out, err) = proc.communicate()"
>>>>>>> Stashed changes
   ]
  }
 ],
 "metadata": {
  "kernelspec": {
   "display_name": "Python 2",
   "language": "python",
   "name": "python2"
  },
  "language_info": {
   "codemirror_mode": {
    "name": "ipython",
    "version": 2
   },
   "file_extension": ".py",
   "mimetype": "text/x-python",
   "name": "python",
   "nbconvert_exporter": "python",
   "pygments_lexer": "ipython2",
   "version": "2.7.11"
  }
 },
 "nbformat": 4,
 "nbformat_minor": 0
}
