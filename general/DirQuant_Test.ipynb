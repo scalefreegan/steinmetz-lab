{
 "cells": [
  {
   "cell_type": "code",
   "execution_count": 3,
   "metadata": {
    "collapsed": false
   },
   "outputs": [
    {
     "name": "stdout",
     "output_type": "stream",
     "text": [
      "/g/steinmetz/project/GenPhen/web\n"
     ]
    }
   ],
   "source": [
    "cd /g/steinmetz/project/GenPhen/web/"
   ]
  },
  {
   "cell_type": "code",
   "execution_count": 4,
   "metadata": {
    "collapsed": true
   },
   "outputs": [],
   "source": [
    "import os\n",
    "import pandas as pd\n",
    "import numpy as np\n",
    "import subprocess\n",
    "import csv"
   ]
  },
  {
   "cell_type": "code",
   "execution_count": 6,
   "metadata": {
    "collapsed": false
   },
   "outputs": [
    {
     "name": "stdout",
     "output_type": "stream",
     "text": [
      "<_csv.reader object at 0x7f88d0a68360>\n"
     ]
    }
   ],
   "source": [
    "name2email = {}\n",
    "with open(\"/g/steinmetz/brooks/steinmetzUsers.csv\") as f:\n",
    "    next(f)\n",
    "    reader = csv.reader(f,delimiter=\",\")\n",
    "    print reader\n",
    "    for x,y in reader:\n",
    "        name2email[x] = y"
   ]
  },
  {
   "cell_type": "code",
   "execution_count": 10,
   "metadata": {
    "collapsed": false,
    "scrolled": true
   },
   "outputs": [
    {
     "data": {
      "text/plain": [
       "{'adjalley': 'sophieady@gmail.com',\n",
       " 'aiyar': 'raiyar@stanford.edu',\n",
       " 'ajones': 'allan.jones@embl.de',\n",
       " 'briganti': 'francesca.briganti@embl.de',\n",
       " 'brooks': 'aaron.brooks@embl.de',\n",
       " 'chabbert': 'chrischabbert@gmail.com',\n",
       " 'clauder': 'clauder@embl.de',\n",
       " 'czhu': 'chenchen.zhu@embl.de',\n",
       " 'delhomme': 'delhomme@embl.de',\n",
       " 'fritsch': 'NA',\n",
       " 'gagneur': 'gagneur@genzentrum.lmu.de',\n",
       " 'gen': 'gen@embl.de',\n",
       " 'gupta': 'ishaan.gupta@embl.de',\n",
       " 'hennig': 'bianca.hennig@embl.de',\n",
       " 'hsun': 'NA',\n",
       " 'hughes': 'NA',\n",
       " 'jaerveli': 'NA',\n",
       " 'jakob': 'jakob@embl.de',\n",
       " 'klett': 'NA',\n",
       " 'landry': 'NA',\n",
       " 'lsteinme': 'aaron.brooks@embl.de',\n",
       " 'mancera': 'NA',\n",
       " 'parts': 'leopold.parts@sanger.ac.uk',\n",
       " 'pelechan': 'vicente.pelechano.garcia@ki.se',\n",
       " 'pxie': 'NA',\n",
       " 'schuon': 'NA',\n",
       " 'tekkedil': 'NA',\n",
       " 'tessmer': 'william.mueller@embl.de',\n",
       " 'velten': 'lars.velten@embl.de',\n",
       " 'vonesch': 'sibylle.vonesch@embl.de',\n",
       " 'wegener': 'NA',\n",
       " 'wertek': 'aaron.brooks@embl.de',\n",
       " 'wilkenin': 'NA',\n",
       " 'wmueller': 'william.mueller@embl.de',\n",
       " 'wuwei': 'NA',\n",
       " 'xing': 'NA',\n",
       " 'xshi': 'NA',\n",
       " 'zaugg': 'judith.zaugg@embl.de',\n",
       " 'zeis': 'vicente.pelechano.garcia@ki.se',\n",
       " 'zxu': 'NA'}"
      ]
     },
     "execution_count": 10,
     "metadata": {},
     "output_type": "execute_result"
    }
   ],
   "source": [
    "name2email"
   ]
  },
  {
   "cell_type": "code",
   "execution_count": 19,
   "metadata": {
    "collapsed": false
   },
   "outputs": [],
   "source": [
    "proc = subprocess.Popen([\"find `pwd` -type f -exec ls -l -k --time-style=long-iso {} \\; 2> /dev/null\"], stdout=subprocess.PIPE, shell=True)\n",
    "(out, err) = proc.communicate()"
   ]
  },
  {
   "cell_type": "code",
   "execution_count": 21,
   "metadata": {
    "collapsed": false
   },
   "outputs": [],
   "source": [
    "out2 = pd.DataFrame([s.split(None, ) for s in out.splitlines()],\n",
    "    columns = [\"permissions\",\"nlinks\",\"owner\",\"group\",\"size\",\"date\",\"time\",\"fname\"])\n",
    "#out2 = out2.convert_objects(convert_numeric=True)\n",
    "out2.loc[:,\"size\"] = pd.to_numeric(out2.loc[:,\"size\"])\n",
    "out2.loc[:,\"date\"] = pd.to_datetime(out2.loc[:,\"date\"])"
   ]
  },
  {
   "cell_type": "code",
   "execution_count": 17,
   "metadata": {
    "collapsed": false
   },
   "outputs": [
    {
     "data": {
      "text/html": [
       "<div>\n",
       "<table border=\"1\" class=\"dataframe\">\n",
       "  <thead>\n",
       "    <tr style=\"text-align: right;\">\n",
       "      <th></th>\n",
       "      <th>permissions</th>\n",
       "      <th>nlinks</th>\n",
       "      <th>owner</th>\n",
       "      <th>group</th>\n",
       "      <th>size</th>\n",
       "      <th>date</th>\n",
       "      <th>time</th>\n",
       "      <th>fname</th>\n",
       "    </tr>\n",
       "  </thead>\n",
       "  <tbody>\n",
       "    <tr>\n",
       "      <th>0</th>\n",
       "      <td>-rw-rw-r--</td>\n",
       "      <td>1</td>\n",
       "      <td>czhu</td>\n",
       "      <td>lsgenphe</td>\n",
       "      <td>65</td>\n",
       "      <td>2015-11-13</td>\n",
       "      <td>18:40</td>\n",
       "      <td>/g/steinmetz/project/GenPhen/web/mQTL_plots/20...</td>\n",
       "    </tr>\n",
       "    <tr>\n",
       "      <th>1</th>\n",
       "      <td>-rw-rw-r--</td>\n",
       "      <td>1</td>\n",
       "      <td>czhu</td>\n",
       "      <td>lsgenphe</td>\n",
       "      <td>65</td>\n",
       "      <td>2015-11-13</td>\n",
       "      <td>18:40</td>\n",
       "      <td>/g/steinmetz/project/GenPhen/web/mQTL_plots/20...</td>\n",
       "    </tr>\n",
       "    <tr>\n",
       "      <th>2</th>\n",
       "      <td>-rw-rw-r--</td>\n",
       "      <td>1</td>\n",
       "      <td>czhu</td>\n",
       "      <td>lsgenphe</td>\n",
       "      <td>65</td>\n",
       "      <td>2015-11-13</td>\n",
       "      <td>18:40</td>\n",
       "      <td>/g/steinmetz/project/GenPhen/web/mQTL_plots/20...</td>\n",
       "    </tr>\n",
       "    <tr>\n",
       "      <th>3</th>\n",
       "      <td>-rw-rw-r--</td>\n",
       "      <td>1</td>\n",
       "      <td>czhu</td>\n",
       "      <td>lsgenphe</td>\n",
       "      <td>65</td>\n",
       "      <td>2015-11-13</td>\n",
       "      <td>18:40</td>\n",
       "      <td>/g/steinmetz/project/GenPhen/web/mQTL_plots/20...</td>\n",
       "    </tr>\n",
       "    <tr>\n",
       "      <th>4</th>\n",
       "      <td>-rw-rw-r--</td>\n",
       "      <td>1</td>\n",
       "      <td>czhu</td>\n",
       "      <td>lsgenphe</td>\n",
       "      <td>65</td>\n",
       "      <td>2015-11-13</td>\n",
       "      <td>18:40</td>\n",
       "      <td>/g/steinmetz/project/GenPhen/web/mQTL_plots/20...</td>\n",
       "    </tr>\n",
       "  </tbody>\n",
       "</table>\n",
       "</div>"
      ],
      "text/plain": [
       "  permissions nlinks owner     group  size        date   time  \\\n",
       "0  -rw-rw-r--      1  czhu  lsgenphe    65  2015-11-13  18:40   \n",
       "1  -rw-rw-r--      1  czhu  lsgenphe    65  2015-11-13  18:40   \n",
       "2  -rw-rw-r--      1  czhu  lsgenphe    65  2015-11-13  18:40   \n",
       "3  -rw-rw-r--      1  czhu  lsgenphe    65  2015-11-13  18:40   \n",
       "4  -rw-rw-r--      1  czhu  lsgenphe    65  2015-11-13  18:40   \n",
       "\n",
       "                                               fname  \n",
       "0  /g/steinmetz/project/GenPhen/web/mQTL_plots/20...  \n",
       "1  /g/steinmetz/project/GenPhen/web/mQTL_plots/20...  \n",
       "2  /g/steinmetz/project/GenPhen/web/mQTL_plots/20...  \n",
       "3  /g/steinmetz/project/GenPhen/web/mQTL_plots/20...  \n",
       "4  /g/steinmetz/project/GenPhen/web/mQTL_plots/20...  "
      ]
     },
     "execution_count": 17,
     "metadata": {},
     "output_type": "execute_result"
    }
   ],
   "source": [
    "out2.head()"
   ]
  },
  {
   "cell_type": "code",
   "execution_count": 22,
   "metadata": {
    "collapsed": false
   },
   "outputs": [
    {
     "data": {
      "text/plain": [
       "permissions            object\n",
       "nlinks                 object\n",
       "owner                  object\n",
       "group                  object\n",
       "size                    int64\n",
       "date           datetime64[ns]\n",
       "time                   object\n",
       "fname                  object\n",
       "dtype: object"
      ]
     },
     "execution_count": 22,
     "metadata": {},
     "output_type": "execute_result"
    }
   ],
   "source": [
    "out2.dtypes"
   ]
  },
  {
   "cell_type": "code",
   "execution_count": 25,
   "metadata": {
    "collapsed": false
   },
   "outputs": [],
   "source": [
    "owners = [i for i in out2[\"owner\"].unique()]\n",
    "owners_pass = []\n",
    "for i in owners:\n",
    "    if i not in name2email.keys(): # send email alert to aaron.brooks@embl.de\n",
    "        print \"Not in\"\n",
    "    else:\n",
    "        if name2email[i] == \"NA\":\n",
    "            # send email alert to aaron.brooks@embl.de\n",
    "            print \"NA\"\n",
    "        else:\n",
    "            # compile alert for named individual\n",
    "            owners_pass.append(i)"
   ]
  },
  {
   "cell_type": "code",
   "execution_count": 26,
   "metadata": {
    "collapsed": false
   },
   "outputs": [
    {
     "data": {
      "text/plain": [
       "['czhu', 'brooks']"
      ]
     },
     "execution_count": 26,
     "metadata": {},
     "output_type": "execute_result"
    }
   ],
   "source": [
    "owners_pass"
   ]
  },
  {
   "cell_type": "code",
   "execution_count": null,
   "metadata": {
    "collapsed": true
   },
   "outputs": [],
   "source": []
  }
 ],
 "metadata": {
  "kernelspec": {
   "display_name": "Python 2",
   "language": "python",
   "name": "python2"
  },
  "language_info": {
   "codemirror_mode": {
    "name": "ipython",
    "version": 2
   },
   "file_extension": ".py",
   "mimetype": "text/x-python",
   "name": "python",
   "nbconvert_exporter": "python",
   "pygments_lexer": "ipython2",
   "version": "2.7.11"
  }
 },
 "nbformat": 4,
 "nbformat_minor": 0
}
