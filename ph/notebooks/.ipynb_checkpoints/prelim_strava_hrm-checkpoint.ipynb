{
 "cells": [
  {
   "cell_type": "markdown",
   "metadata": {},
   "source": [
    "<center><h1>Preliminary analysis of Strava HRM data</h1></center>"
   ]
  },
  {
   "cell_type": "code",
   "execution_count": 1,
   "metadata": {
    "collapsed": true
   },
   "outputs": [],
   "source": [
    ".libPaths(\"~/R/x86_64-redhat-linux-gnu-library/3.2/\")\n",
    "options(jupyter.plot_mimetypes = 'image/png')"
   ]
  },
  {
   "cell_type": "code",
   "execution_count": 2,
   "metadata": {
    "collapsed": false
   },
   "outputs": [
    {
     "name": "stderr",
     "output_type": "stream",
     "text": [
      "\n",
      "Attaching package: ‘dplyr’\n",
      "\n",
      "The following objects are masked from ‘package:stats’:\n",
      "\n",
      "    filter, lag\n",
      "\n",
      "The following objects are masked from ‘package:base’:\n",
      "\n",
      "    intersect, setdiff, setequal, union\n",
      "\n",
      "\n",
      "Attaching package: ‘lubridate’\n",
      "\n",
      "The following object is masked from ‘package:base’:\n",
      "\n",
      "    date\n",
      "\n"
     ]
    }
   ],
   "source": [
    "library(XML)\n",
    "library(dplyr)\n",
    "library(ggplot2)\n",
    "library(lubridate)\n",
    "library(reshape2)\n",
    "library(ggmap)"
   ]
  },
  {
   "cell_type": "code",
   "execution_count": 121,
   "metadata": {
    "collapsed": false
   },
   "outputs": [],
   "source": [
    "# get list of all GPX files\n",
    "tracks = list.files(\"/g/steinmetz/brooks/ph/data/strava/\", full.names = T)\n",
    "existing_data = tracks[grep(\"^strava(*).*RData\",\n",
    "                            list.files(\"/g/steinmetz/brooks/ph/data/strava/\"))]\n",
    "# limit to running tracks\n",
    "tracks = tracks[grep(\"Run\",tracks)]"
   ]
  },
  {
   "cell_type": "code",
   "execution_count": 129,
   "metadata": {
    "collapsed": false
   },
   "outputs": [],
   "source": [
    "override = F\n",
    "\n",
    "if ( (override) && (file.exists(existing_data)) ) {\n",
    "    if (override) {\n",
    "        file.remove(existing_data)\n",
    "    }\n",
    "    data = do.call(rbind, lapply(tracks, function(f){\n",
    "    o = try({\n",
    "        # Parse the GPX file\n",
    "        pfile = htmlTreeParse(f, useInternalNodes = T)\n",
    "        # Get all elevations, times coordinates, and heart rate via the respective xpath\n",
    "        elevations <- as.numeric(xpathSApply(pfile, path = \"//trkpt/ele\", xmlValue))\n",
    "        times <- xpathSApply(pfile, path = \"//trkpt/time\", xmlValue)\n",
    "        coords <- xpathSApply(pfile, path = \"//trkpt\", xmlAttrs)\n",
    "        hr <- as.numeric(xpathSApply(pfile, path = \"//trkpt/extensions\", xmlValue))\n",
    "        # Extract latitude and longitude from the coordinates\n",
    "        lats <- as.numeric(coords[\"lat\",])\n",
    "        lons <- as.numeric(coords[\"lon\",])\n",
    "        # Put everything in a dataframe and get rid of old variables\n",
    "        data.frame(lat = lats, lon = lons, ele = elevations, time = times, hr = hr)\n",
    "    })\n",
    "    if (class(o) != \"try-error\") {\n",
    "        return(o)\n",
    "    } else {\n",
    "        return(NULL)\n",
    "    }\n",
    "    }))\n",
    "    save(data, \n",
    "         file = paste(\"/g/steinmetz/brooks/ph/data/strava/strava-\", Sys.Date(), \".RData\",sep = \"\"))\n",
    "} else {\n",
    "    load(existing_data)\n",
    "}"
   ]
  },
  {
   "cell_type": "code",
   "execution_count": 11,
   "metadata": {
    "collapsed": false
   },
   "outputs": [
    {
     "data": {
      "text/html": [
       "<table>\n",
       "<thead><tr><th></th><th scope=col>lat</th><th scope=col>lon</th><th scope=col>ele</th><th scope=col>time</th><th scope=col>hr</th></tr></thead>\n",
       "<tbody>\n",
       "\t<tr><th scope=row>1</th><td>49.41127</td><td>8.764216</td><td>214</td><td>2016-03-15T07:32:31Z</td><td>80</td></tr>\n",
       "\t<tr><th scope=row>2</th><td>49.4113</td><td>8.764179</td><td>214</td><td>2016-03-15T07:32:33Z</td><td>83</td></tr>\n",
       "\t<tr><th scope=row>3</th><td>49.4113</td><td>8.764155</td><td>214</td><td>2016-03-15T07:32:34Z</td><td>85</td></tr>\n",
       "\t<tr><th scope=row>4</th><td>49.41132</td><td>8.764096</td><td>214</td><td>2016-03-15T07:32:36Z</td><td>93</td></tr>\n",
       "\t<tr><th scope=row>5</th><td>49.41132</td><td>8.764075</td><td>214</td><td>2016-03-15T07:32:37Z</td><td>94</td></tr>\n",
       "\t<tr><th scope=row>6</th><td>49.41134</td><td>8.764018</td><td>214</td><td>2016-03-15T07:32:39Z</td><td>96</td></tr>\n",
       "</tbody>\n",
       "</table>\n"
      ],
      "text/latex": [
       "\\begin{tabular}{r|lllll}\n",
       "  & lat & lon & ele & time & hr\\\\\n",
       "\\hline\n",
       "\t1 & 49.41127 & 8.764216 & 214 & 2016-03-15T07:32:31Z & 80\\\\\n",
       "\t2 & 49.4113 & 8.764179 & 214 & 2016-03-15T07:32:33Z & 83\\\\\n",
       "\t3 & 49.4113 & 8.764155 & 214 & 2016-03-15T07:32:34Z & 85\\\\\n",
       "\t4 & 49.41132 & 8.764096 & 214 & 2016-03-15T07:32:36Z & 93\\\\\n",
       "\t5 & 49.41132 & 8.764075 & 214 & 2016-03-15T07:32:37Z & 94\\\\\n",
       "\t6 & 49.41134 & 8.764018 & 214 & 2016-03-15T07:32:39Z & 96\\\\\n",
       "\\end{tabular}\n"
      ],
      "text/plain": [
       "       lat      lon ele                 time hr\n",
       "1 49.41127 8.764216 214 2016-03-15T07:32:31Z 80\n",
       "2 49.41130 8.764179 214 2016-03-15T07:32:33Z 83\n",
       "3 49.41130 8.764155 214 2016-03-15T07:32:34Z 85\n",
       "4 49.41132 8.764096 214 2016-03-15T07:32:36Z 93\n",
       "5 49.41132 8.764075 214 2016-03-15T07:32:37Z 94\n",
       "6 49.41134 8.764018 214 2016-03-15T07:32:39Z 96"
      ]
     },
     "execution_count": 11,
     "metadata": {},
     "output_type": "execute_result"
    }
   ],
   "source": [
    "\n",
    "head(geodf)"
   ]
  },
  {
   "cell_type": "code",
   "execution_count": 132,
   "metadata": {
    "collapsed": false
   },
   "outputs": [],
   "source": [
    "HD_left = 8.7\n",
    "HD_bottom = 49.35\n",
    "HD_right = 8.8\n",
    "HD_top = 49.45"
   ]
  },
  {
   "cell_type": "code",
   "execution_count": 135,
   "metadata": {
    "collapsed": false
   },
   "outputs": [],
   "source": [
    "# reference for one line\n",
    "# hd <- c(left = HD_left, bottom = HD_bottom, right = HD_right, top = HD_top)\n",
    "# map <- get_map(hd, maptype = \"terrain\")\n",
    "# ggmap(map) + \n",
    "#     geom_point(data = geodf[1:1000,], aes(x = lon, y = lat, color = hr, size = ele), \n",
    "#                alpha = .5) +\n",
    "#     scale_colour_gradient(\"Heart Rate\", low = \"white\", high = \"red\") +\n",
    "#     scale_size(\"Elevation\", range = c(0, 3))"
   ]
  },
  {
   "cell_type": "code",
   "execution_count": null,
   "metadata": {
    "collapsed": false
   },
   "outputs": [],
   "source": [
    "hd <- c(left = HD_left, bottom = HD_bottom, right = HD_right, top = HD_top)\n",
    "map <- get_map(hd, maptype = \"terrain\")\n",
    "ggmap(map) + \n",
    "    geom_point(data = geodf[1:1000,], aes(x = lon, y = lat, color = hr, size = ele), \n",
    "               alpha = .5) +\n",
    "    scale_colour_gradient(\"Heart Rate\", low = \"white\", high = \"red\") +\n",
    "    scale_size(\"Elevation\", range = c(0, 3))\n",
    "\n",
    "\n"
   ]
  },
  {
   "cell_type": "code",
   "execution_count": null,
   "metadata": {
    "collapsed": true
   },
   "outputs": [],
   "source": []
  },
  {
   "cell_type": "code",
   "execution_count": null,
   "metadata": {
    "collapsed": true
   },
   "outputs": [],
   "source": []
  }
 ],
 "metadata": {
  "kernelspec": {
   "display_name": "R",
   "language": "R",
   "name": "ir"
  },
  "language_info": {
   "codemirror_mode": "r",
   "file_extension": ".r",
   "mimetype": "text/x-r-source",
   "name": "R",
   "pygments_lexer": "r",
   "version": "3.2.2"
  }
 },
 "nbformat": 4,
 "nbformat_minor": 0
}
