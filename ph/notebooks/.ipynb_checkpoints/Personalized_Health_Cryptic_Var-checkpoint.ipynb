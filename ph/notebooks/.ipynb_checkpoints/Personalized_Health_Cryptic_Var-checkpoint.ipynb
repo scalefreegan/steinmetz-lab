{
 "cells": [
  {
   "cell_type": "markdown",
   "metadata": {},
   "source": [
    "<center><h1>Future of Personalized Health</h1></center>"
   ]
  },
  {
   "cell_type": "markdown",
   "metadata": {},
   "source": [
    "<img src=\"oldph.png\" width=600px>\n",
    "<br>\n",
    "<center>Steinmetz and Jones (2016)</center>"
   ]
  },
  {
   "cell_type": "markdown",
   "metadata": {},
   "source": [
    "<center><h1>Cryptic Genetic Variation</h1></center>"
   ]
  },
  {
   "cell_type": "markdown",
   "metadata": {},
   "source": [
    "<center><h1><i>Astyanax mexicanus</i></h1></center>\n",
    "<img src=\"http://www.biosciencetechnology.com/sites/biosciencetechnology.com/files/bt1312hms7.jpg\">\n",
    "<br>\n",
    "<center>Cave dwelling lost eyes and pigmentation within ~thousand years. How?</center>"
   ]
  },
  {
   "cell_type": "markdown",
   "metadata": {},
   "source": [
    "<img src=\"http://www.nature.com/nrg/journal/v5/n9/images/nrg1426-f1.jpg\">\n",
    "<br>\n",
    "<center>[Gibson, G., & Dworkin, I. (2004). Uncovering cryptic genetic variation. Nature Reviews Genetics, 5(9), 681-690.](http://www.nature.com/nrg/journal/v5/n9/abs/nrg1426.html)</center>\n"
   ]
  },
  {
   "cell_type": "markdown",
   "metadata": {
    "collapsed": true
   },
   "source": [
    "<img src=\"hrcompare.png\" width=800px>"
   ]
  },
  {
   "cell_type": "code",
   "execution_count": null,
   "metadata": {
    "collapsed": true
   },
   "outputs": [],
   "source": []
  }
 ],
 "metadata": {
  "kernelspec": {
   "display_name": "Python 3",
   "language": "python",
   "name": "python3"
  },
  "language_info": {
   "codemirror_mode": {
    "name": "ipython",
    "version": 3
   },
   "file_extension": ".py",
   "mimetype": "text/x-python",
   "name": "python",
   "nbconvert_exporter": "python",
   "pygments_lexer": "ipython3",
   "version": "3.5.1"
  }
 },
 "nbformat": 4,
 "nbformat_minor": 0
}
