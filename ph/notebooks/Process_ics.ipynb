{
 "cells": [
  {
   "cell_type": "markdown",
   "metadata": {
    "collapsed": true
   },
   "source": [
    "<center><h1>Load and Mine Google Calendar Data</h1></center>\n",
    "<br>"
   ]
  },
  {
   "cell_type": "markdown",
   "metadata": {},
   "source": [
    "<img src=\"cal.png\" width=800px>"
   ]
  },
  {
   "cell_type": "code",
   "execution_count": 47,
   "metadata": {
    "collapsed": false
   },
   "outputs": [],
   "source": [
    "from icalendar import Calendar, Event\n",
    "from datetime import datetime\n",
    "import re\n",
    "import pandas as pd\n",
    "import numpy as np\n",
    "import matplotlib.pyplot as plt"
   ]
  },
  {
   "cell_type": "code",
   "execution_count": 48,
   "metadata": {
    "collapsed": false
   },
   "outputs": [],
   "source": [
    "#g = open('/g/steinmetz/brooks/ph/data/ics/aaron.brooks@embl.de.ics','rb')\n",
    "g = open('/g/steinmetz/brooks/ph/data/ics/lars.steinmetz@embl.de.ics','rb')\n",
    "gcal = Calendar.from_ical(g.read())"
   ]
  },
  {
   "cell_type": "code",
   "execution_count": 49,
   "metadata": {
    "collapsed": false
   },
   "outputs": [],
   "source": [
    "#gcal"
   ]
  },
  {
   "cell_type": "code",
   "execution_count": 61,
   "metadata": {
    "collapsed": false
   },
   "outputs": [],
   "source": [
    "p1 = re.compile('^Flight')\n",
    "p2 = re.compile('^Arrival')\n",
    "depart = []\n",
    "arrive = []\n",
    "desc = []\n",
    "for component in gcal.walk():\n",
    "    if component.name == \"VEVENT\":\n",
    "        if p1.match(component.get('summary')) or p2.match(component.get('summary')):\n",
    "            depart.append(component.get('dtstart').dt)\n",
    "            arrive.append(component.get('dtend').dt)\n",
    "            desc.append(component.get('summary'))\n",
    "dcal = pd.DataFrame({ \"depart\":depart, \"arrive\":arrive, \"desc\":desc }, columns = [\"depart\",\"arrive\",\"desc\"])\n",
    "    "
   ]
  },
  {
   "cell_type": "code",
   "execution_count": 62,
   "metadata": {
    "collapsed": false
   },
   "outputs": [
    {
     "data": {
      "text/html": [
       "<div>\n",
       "<table border=\"1\" class=\"dataframe\">\n",
       "  <thead>\n",
       "    <tr style=\"text-align: right;\">\n",
       "      <th></th>\n",
       "      <th>depart</th>\n",
       "      <th>arrive</th>\n",
       "      <th>desc</th>\n",
       "    </tr>\n",
       "  </thead>\n",
       "  <tbody>\n",
       "    <tr>\n",
       "      <th>0</th>\n",
       "      <td>2015-12-26 18:10:00+01:00</td>\n",
       "      <td>2015-12-26 19:10:00+01:00</td>\n",
       "      <td>Flight ORD-FRA</td>\n",
       "    </tr>\n",
       "    <tr>\n",
       "      <th>1</th>\n",
       "      <td>2016-01-30 21:29:00+01:00</td>\n",
       "      <td>2016-01-30 23:29:00+01:00</td>\n",
       "      <td>Flight MIA-SFO, arrival at 00:55</td>\n",
       "    </tr>\n",
       "    <tr>\n",
       "      <th>2</th>\n",
       "      <td>2015-03-18 10:00:00+01:00</td>\n",
       "      <td>2015-03-18 13:25:00+01:00</td>\n",
       "      <td>Flight FRA-SFO</td>\n",
       "    </tr>\n",
       "    <tr>\n",
       "      <th>3</th>\n",
       "      <td>2014-09-05 08:15:00+02:00</td>\n",
       "      <td>2014-09-05 09:35:00+02:00</td>\n",
       "      <td>Flight Zadar-Stuttgart</td>\n",
       "    </tr>\n",
       "    <tr>\n",
       "      <th>4</th>\n",
       "      <td>2015-12-04 19:53:00+01:00</td>\n",
       "      <td>2015-12-04 22:58:00+01:00</td>\n",
       "      <td>Flight IAD-SFO</td>\n",
       "    </tr>\n",
       "  </tbody>\n",
       "</table>\n",
       "</div>"
      ],
      "text/plain": [
       "                     depart                    arrive  \\\n",
       "0 2015-12-26 18:10:00+01:00 2015-12-26 19:10:00+01:00   \n",
       "1 2016-01-30 21:29:00+01:00 2016-01-30 23:29:00+01:00   \n",
       "2 2015-03-18 10:00:00+01:00 2015-03-18 13:25:00+01:00   \n",
       "3 2014-09-05 08:15:00+02:00 2014-09-05 09:35:00+02:00   \n",
       "4 2015-12-04 19:53:00+01:00 2015-12-04 22:58:00+01:00   \n",
       "\n",
       "                               desc  \n",
       "0                    Flight ORD-FRA  \n",
       "1  Flight MIA-SFO, arrival at 00:55  \n",
       "2                    Flight FRA-SFO  \n",
       "3            Flight Zadar-Stuttgart  \n",
       "4                    Flight IAD-SFO  "
      ]
     },
     "execution_count": 62,
     "metadata": {},
     "output_type": "execute_result"
    }
   ],
   "source": [
    "dcal.head()"
   ]
  },
  {
   "cell_type": "code",
   "execution_count": 63,
   "metadata": {
    "collapsed": false
   },
   "outputs": [
    {
     "data": {
      "text/plain": [
       "(119, 3)"
      ]
     },
     "execution_count": 63,
     "metadata": {},
     "output_type": "execute_result"
    }
   ],
   "source": [
    "dcal.shape"
   ]
  }
 ],
 "metadata": {
  "kernelspec": {
   "display_name": "Python 3",
   "language": "python",
   "name": "python3"
  },
  "language_info": {
   "codemirror_mode": {
    "name": "ipython",
    "version": 3
   },
   "file_extension": ".py",
   "mimetype": "text/x-python",
   "name": "python",
   "nbconvert_exporter": "python",
   "pygments_lexer": "ipython3",
   "version": "3.5.1"
  }
 },
 "nbformat": 4,
 "nbformat_minor": 0
}
