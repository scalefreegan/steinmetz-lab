{
 "cells": [
  {
   "cell_type": "markdown",
   "metadata": {},
   "source": [
    "## Purpose: "
   ]
  },
  {
   "cell_type": "markdown",
   "metadata": {},
   "source": [
    "Find the correct genome version for Gagneur et al 2013 growthQTL. liftOver coordinates to most recent genome (V64_2011_02_03) "
   ]
  },
  {
   "cell_type": "code",
   "execution_count": 42,
   "metadata": {
    "collapsed": false
   },
   "outputs": [],
   "source": [
    "library(rtracklayer);\n",
    "library(VariantAnnotation);\n",
    "library(parallel);"
   ]
  },
  {
   "cell_type": "code",
   "execution_count": 43,
   "metadata": {
    "collapsed": false
   },
   "outputs": [],
   "source": [
    "# read in gene coordinates from Gagneur et al 2013 \n",
    "gagneur_gene_coords = read.table(\"../data/journal.pgen.1003803.s017.TXT\", sep = \"\\t\", header = T)"
   ]
  },
  {
   "cell_type": "code",
   "execution_count": 44,
   "metadata": {
    "collapsed": false,
    "scrolled": true
   },
   "outputs": [
    {
     "data": {
      "text/html": [
       "<table>\n",
       "<thead><tr><th></th><th scope=col>chrom</th><th scope=col>start</th><th scope=col>end</th><th scope=col>strand</th><th scope=col>name</th><th scope=col>commonName</th><th scope=col>type</th><th scope=col>source</th><th scope=col>novel</th></tr></thead>\n",
       "<tbody>\n",
       "\t<tr><th scope=row>1</th><td>chr01</td><td>6601</td><td>9080</td><td>+</td><td>SY_A0001W</td><td>SY_A0001W</td><td>SUT</td><td>genenv</td><td>TRUE</td></tr>\n",
       "\t<tr><th scope=row>2</th><td>chr01</td><td>9392</td><td>9954</td><td>+</td><td>SUT001</td><td>SUT001</td><td>SUT</td><td>XU09</td><td>FALSE</td></tr>\n",
       "\t<tr><th scope=row>3</th><td>chr01</td><td>11378</td><td>11715</td><td>+</td><td>SY_A0003W</td><td>SY_A0003W</td><td>SUT</td><td>genenv</td><td>TRUE</td></tr>\n",
       "\t<tr><th scope=row>4</th><td>chr01</td><td>28205</td><td>28501</td><td>+</td><td>SY_A0004W</td><td>SY_A0004W</td><td>SUT</td><td>genenv</td><td>TRUE</td></tr>\n",
       "\t<tr><th scope=row>5</th><td>chr01</td><td>29136</td><td>29934</td><td>+</td><td>SY_A0005W</td><td>SY_A0005W</td><td>SUT</td><td>genenv</td><td>TRUE</td></tr>\n",
       "\t<tr><th scope=row>6</th><td>chr01</td><td>31860</td><td>32320</td><td>+</td><td>YAL062W</td><td>GDH3</td><td>ORF-T</td><td>XU09</td><td>FALSE</td></tr>\n",
       "</tbody>\n",
       "</table>\n"
      ],
      "text/latex": [
       "\\begin{tabular}{r|lllllllll}\n",
       "  & chrom & start & end & strand & name & commonName & type & source & novel\\\\\n",
       "\\hline\n",
       "\t1 & chr01 & 6601 & 9080 & + & SY_A0001W & SY_A0001W & SUT & genenv & TRUE\\\\\n",
       "\t2 & chr01 & 9392 & 9954 & + & SUT001 & SUT001 & SUT & XU09 & FALSE\\\\\n",
       "\t3 & chr01 & 11378 & 11715 & + & SY_A0003W & SY_A0003W & SUT & genenv & TRUE\\\\\n",
       "\t4 & chr01 & 28205 & 28501 & + & SY_A0004W & SY_A0004W & SUT & genenv & TRUE\\\\\n",
       "\t5 & chr01 & 29136 & 29934 & + & SY_A0005W & SY_A0005W & SUT & genenv & TRUE\\\\\n",
       "\t6 & chr01 & 31860 & 32320 & + & YAL062W & GDH3 & ORF-T & XU09 & FALSE\\\\\n",
       "\\end{tabular}\n"
      ],
      "text/plain": [
       "  chrom start   end strand      name commonName  type source novel\n",
       "1 chr01  6601  9080      + SY_A0001W  SY_A0001W   SUT genenv  TRUE\n",
       "2 chr01  9392  9954      +    SUT001     SUT001   SUT   XU09 FALSE\n",
       "3 chr01 11378 11715      + SY_A0003W  SY_A0003W   SUT genenv  TRUE\n",
       "4 chr01 28205 28501      + SY_A0004W  SY_A0004W   SUT genenv  TRUE\n",
       "5 chr01 29136 29934      + SY_A0005W  SY_A0005W   SUT genenv  TRUE\n",
       "6 chr01 31860 32320      +   YAL062W       GDH3 ORF-T   XU09 FALSE"
      ]
     },
     "execution_count": 44,
     "metadata": {},
     "output_type": "execute_result"
    }
   ],
   "source": [
    "head(gagneur_gene_coords)"
   ]
  },
  {
   "cell_type": "code",
   "execution_count": 123,
   "metadata": {
    "collapsed": false
   },
   "outputs": [
    {
     "data": {
      "text/html": [
       "<table>\n",
       "<thead><tr><th></th><th scope=col>chrom</th><th scope=col>start</th><th scope=col>end</th><th scope=col>ID</th><th scope=col>Name</th></tr></thead>\n",
       "<tbody>\n",
       "\t<tr><th scope=row>1</th><td>chr01</td><td>10732</td><td>11140</td><td>ST3636</td><td>CUT436</td></tr>\n",
       "\t<tr><th scope=row>2</th><td>chr01</td><td>30072</td><td>30904</td><td>ST0002</td><td>CUT001</td></tr>\n",
       "\t<tr><th scope=row>3</th><td>chr01</td><td>30532</td><td>30892</td><td>ST3638</td><td>CUT437</td></tr>\n",
       "\t<tr><th scope=row>4</th><td>chr01</td><td>34380</td><td>34748</td><td>ST3641</td><td>CUT438</td></tr>\n",
       "\t<tr><th scope=row>5</th><td>chr01</td><td>35796</td><td>36348</td><td>ST3642</td><td>CUT439</td></tr>\n",
       "\t<tr><th scope=row>6</th><td>chr01</td><td>67850</td><td>67962</td><td>ST3652</td><td>CUT440</td></tr>\n",
       "</tbody>\n",
       "</table>\n"
      ],
      "text/latex": [
       "\\begin{tabular}{r|lllll}\n",
       "  & chrom & start & end & ID & Name\\\\\n",
       "\\hline\n",
       "\t1 & chr01 & 10732 & 11140 & ST3636 & CUT436\\\\\n",
       "\t2 & chr01 & 30072 & 30904 & ST0002 & CUT001\\\\\n",
       "\t3 & chr01 & 30532 & 30892 & ST3638 & CUT437\\\\\n",
       "\t4 & chr01 & 34380 & 34748 & ST3641 & CUT438\\\\\n",
       "\t5 & chr01 & 35796 & 36348 & ST3642 & CUT439\\\\\n",
       "\t6 & chr01 & 67850 & 67962 & ST3652 & CUT440\\\\\n",
       "\\end{tabular}\n"
      ],
      "text/plain": [
       "  chrom start   end     ID   Name\n",
       "1 chr01 10732 11140 ST3636 CUT436\n",
       "2 chr01 30072 30904 ST0002 CUT001\n",
       "3 chr01 30532 30892 ST3638 CUT437\n",
       "4 chr01 34380 34748 ST3641 CUT438\n",
       "5 chr01 35796 36348 ST3642 CUT439\n",
       "6 chr01 67850 67962 ST3652 CUT440"
      ]
     },
     "execution_count": 123,
     "metadata": {},
     "output_type": "execute_result"
    }
   ],
   "source": [
    "# load current gene coords\n",
    "load(\"/g/steinmetz/project/GenPhen/data/external_data/Xu_2009/txGR.rda\")\n",
    "# make into data.frame\n",
    "zu_gene_coords = data.frame(chrom=as.character(seqnames(txGR)),start=start(ranges(txGR)),\n",
    "                            end=end(ranges(txGR)),ID = mcols(txGR)$ID, Name = mcols(txGR)$Name)\n",
    "#\n",
    "# NOTE\n",
    "#\n",
    "# These gene coordinates are not consistent with SGD coords bc they are transcript boundaries\n",
    "#\n",
    "head(zu_gene_coords)\n"
   ]
  },
  {
   "cell_type": "code",
   "execution_count": 113,
   "metadata": {
    "collapsed": false
   },
   "outputs": [
    {
     "data": {
      "text/html": [
       "<table>\n",
       "<thead><tr><th></th><th scope=col>chrom</th><th scope=col>start</th><th scope=col>end</th><th scope=col>Name</th><th scope=col>gene</th></tr></thead>\n",
       "<tbody>\n",
       "\t<tr><th scope=row>1</th><td>chrI</td><td>1</td><td>230218</td><td>chrI</td><td>NA</td></tr>\n",
       "\t<tr><th scope=row>2</th><td>chrI</td><td>1</td><td>801</td><td>TEL01L</td><td>NA</td></tr>\n",
       "\t<tr><th scope=row>3</th><td>chrI</td><td>337</td><td>801</td><td>TEL01L_X_element</td><td>NA</td></tr>\n",
       "\t<tr><th scope=row>4</th><td>chrI</td><td>63</td><td>336</td><td>TEL01L_X_element_combinatorial_repeat</td><td>NA</td></tr>\n",
       "\t<tr><th scope=row>5</th><td>chrI</td><td>1</td><td>62</td><td>TEL01L_telomeric_repeat</td><td>NA</td></tr>\n",
       "\t<tr><th scope=row>6</th><td>chrI</td><td>335</td><td>649</td><td>YAL069W</td><td>NA</td></tr>\n",
       "</tbody>\n",
       "</table>\n"
      ],
      "text/latex": [
       "\\begin{tabular}{r|lllll}\n",
       "  & chrom & start & end & Name & gene\\\\\n",
       "\\hline\n",
       "\t1 & chrI & 1 & 230218 & chrI & NA\\\\\n",
       "\t2 & chrI & 1 & 801 & TEL01L & NA\\\\\n",
       "\t3 & chrI & 337 & 801 & TEL01L_X_element & NA\\\\\n",
       "\t4 & chrI & 63 & 336 & TEL01L_X_element_combinatorial_repeat & NA\\\\\n",
       "\t5 & chrI & 1 & 62 & TEL01L_telomeric_repeat & NA\\\\\n",
       "\t6 & chrI & 335 & 649 & YAL069W & NA\\\\\n",
       "\\end{tabular}\n"
      ],
      "text/plain": [
       "  chrom start    end                                  Name gene\n",
       "1  chrI     1 230218                                  chrI <NA>\n",
       "2  chrI     1    801                                TEL01L <NA>\n",
       "3  chrI   337    801                      TEL01L_X_element <NA>\n",
       "4  chrI    63    336 TEL01L_X_element_combinatorial_repeat <NA>\n",
       "5  chrI     1     62               TEL01L_telomeric_repeat <NA>\n",
       "6  chrI   335    649                               YAL069W <NA>"
      ]
     },
     "execution_count": 113,
     "metadata": {},
     "output_type": "execute_result"
    }
   ],
   "source": [
    "# load current gene coords\n",
    "sgd_gff = import.gff(\"~/Documents/git/steinmetz-lab/CRISPR/data/saccharomyces_cerevisiae.gff\")\n",
    "# sgd_gene_coords = data.frame(chrom=as.character(seqnames(sgd_gff)),start=start(ranges(sgd_gff)),\n",
    "#                             end=end(ranges(sgd_gff)), Name = mcols(sgd_gff)$Name, \n",
    "#                             Alias = mcols(sgd_gff)$Alias, gene = mcols(sgd_gff)$gene)\n",
    "\n",
    "sgd_gene_coords = data.frame(chrom=as.character(seqnames(sgd_gff)),start=start(ranges(sgd_gff)),\n",
    "    end=end(ranges(sgd_gff)), Name = mcols(sgd_gff)$Name,gene = mcols(sgd_gff)$gene)\n",
    "head(sgd_gene_coords)"
   ]
  },
  {
   "cell_type": "code",
   "execution_count": 47,
   "metadata": {
    "collapsed": false
   },
   "outputs": [],
   "source": [
    "# restrict both gene sets to make common reference set\n",
    "common_genes_sgd = sgd_gene_coords$gene[which(sgd_gene_coords$gene %in% gagneur_gene_coords$commonName)]\n",
    "common_genes_zu = zu_gene_coords$Name[which(zu_gene_coords$Name %in% gagneur_gene_coords$name)]\n",
    "\n",
    "# find genes that occur more than once in gagneur set\n",
    "toExclude_sgd = c(names(which(table(unlist(gagneur_gene_coords[,\"commonName\"]))>1,useNames = T)),\n",
    "              names(which(table(unlist(sgd_gene_coords[,\"gene\"]))>1,useNames = T)))\n",
    "common_genes_sgd = setdiff(common_genes_sgd,toExclude_sgd)\n",
    "toExclude_zu = c(names(which(table(unlist(gagneur_gene_coords[,\"name\"]))>1,useNames = T)),\n",
    "              names(which(table(unlist(zu_gene_coords[,\"Name\"]))>1,useNames = T)))\n",
    "common_genes_zu = setdiff(common_genes_zu,toExclude_zu)\n",
    "\n",
    "gagneur_gene_coords_zu = subset(gagneur_gene_coords, name %in% common_genes_zu)\n",
    "gagneur_gene_coords_sgd = subset(gagneur_gene_coords, commonName %in% common_genes_sgd)\n",
    "sgd_gene_coords = subset(sgd_gene_coords, gene %in% common_genes_sgd)\n",
    "zu_gene_coords = subset(zu_gene_coords, Name %in% common_genes_zu)"
   ]
  },
  {
   "cell_type": "code",
   "execution_count": 48,
   "metadata": {
    "collapsed": false
   },
   "outputs": [
    {
     "data": {
      "text/html": [
       "<ol class=list-inline>\n",
       "\t<li>5853</li>\n",
       "\t<li>9</li>\n",
       "</ol>\n"
      ],
      "text/latex": [
       "\\begin{enumerate*}\n",
       "\\item 5853\n",
       "\\item 9\n",
       "\\end{enumerate*}\n"
      ],
      "text/markdown": [
       "1. 5853\n",
       "2. 9\n",
       "\n",
       "\n"
      ],
      "text/plain": [
       "[1] 5853    9"
      ]
     },
     "execution_count": 48,
     "metadata": {},
     "output_type": "execute_result"
    },
    {
     "data": {
      "text/html": [
       "<ol class=list-inline>\n",
       "\t<li>5853</li>\n",
       "\t<li>5</li>\n",
       "</ol>\n"
      ],
      "text/latex": [
       "\\begin{enumerate*}\n",
       "\\item 5853\n",
       "\\item 5\n",
       "\\end{enumerate*}\n"
      ],
      "text/markdown": [
       "1. 5853\n",
       "2. 5\n",
       "\n",
       "\n"
      ],
      "text/plain": [
       "[1] 5853    5"
      ]
     },
     "execution_count": 48,
     "metadata": {},
     "output_type": "execute_result"
    },
    {
     "data": {
      "text/html": [
       "<ol class=list-inline>\n",
       "\t<li>4570</li>\n",
       "\t<li>9</li>\n",
       "</ol>\n"
      ],
      "text/latex": [
       "\\begin{enumerate*}\n",
       "\\item 4570\n",
       "\\item 9\n",
       "\\end{enumerate*}\n"
      ],
      "text/markdown": [
       "1. 4570\n",
       "2. 9\n",
       "\n",
       "\n"
      ],
      "text/plain": [
       "[1] 4570    9"
      ]
     },
     "execution_count": 48,
     "metadata": {},
     "output_type": "execute_result"
    },
    {
     "data": {
      "text/html": [
       "<ol class=list-inline>\n",
       "\t<li>4570</li>\n",
       "\t<li>5</li>\n",
       "</ol>\n"
      ],
      "text/latex": [
       "\\begin{enumerate*}\n",
       "\\item 4570\n",
       "\\item 5\n",
       "\\end{enumerate*}\n"
      ],
      "text/markdown": [
       "1. 4570\n",
       "2. 5\n",
       "\n",
       "\n"
      ],
      "text/plain": [
       "[1] 4570    5"
      ]
     },
     "execution_count": 48,
     "metadata": {},
     "output_type": "execute_result"
    }
   ],
   "source": [
    "dim(gagneur_gene_coords_zu)\n",
    "dim(zu_gene_coords)\n",
    "dim(gagneur_gene_coords_sgd)\n",
    "dim(sgd_gene_coords)"
   ]
  },
  {
   "cell_type": "code",
   "execution_count": 49,
   "metadata": {
    "collapsed": false
   },
   "outputs": [],
   "source": [
    "# combine gene coords\n",
    "combined_gene_coords_sgd = merge(gagneur_gene_coords, sgd_gene_coords, by.x = \"commonName\", by.y = \"gene\")\n",
    "combined_gene_coords_zu = merge(gagneur_gene_coords, zu_gene_coords, by.x = \"name\", by.y = \"Name\")"
   ]
  },
  {
   "cell_type": "code",
   "execution_count": 50,
   "metadata": {
    "collapsed": false
   },
   "outputs": [
    {
     "data": {
      "text/html": [
       "<table>\n",
       "<thead><tr><th></th><th scope=col>name</th><th scope=col>chrom.x</th><th scope=col>start.x</th><th scope=col>end.x</th><th scope=col>strand</th><th scope=col>commonName</th><th scope=col>type</th><th scope=col>source</th><th scope=col>novel</th><th scope=col>chrom.y</th><th scope=col>start.y</th><th scope=col>end.y</th><th scope=col>ID</th></tr></thead>\n",
       "<tbody>\n",
       "\t<tr><th scope=row>1</th><td>CUT006</td><td>chr02</td><td>96596</td><td>98332</td><td>+</td><td>CUT006</td><td>CUT</td><td>XU09</td><td>FALSE</td><td>chr02</td><td>96352</td><td>96568</td><td>ST0064</td></tr>\n",
       "\t<tr><th scope=row>2</th><td>CUT014</td><td>chr02</td><td>324730</td><td>325644</td><td>+</td><td>CUT014</td><td>CUT</td><td>XU09</td><td>FALSE</td><td>chr02</td><td>324513</td><td>325361</td><td>ST0128</td></tr>\n",
       "\t<tr><th scope=row>3</th><td>CUT016</td><td>chr02</td><td>339934</td><td>341200</td><td>+</td><td>CUT016</td><td>CUT</td><td>XU09</td><td>FALSE</td><td>chr02</td><td>339602</td><td>339946</td><td>ST0132</td></tr>\n",
       "\t<tr><th scope=row>4</th><td>CUT023</td><td>chr02</td><td>381736</td><td>382288</td><td>+</td><td>CUT023</td><td>CUT</td><td>XU09</td><td>FALSE</td><td>chr02</td><td>381378</td><td>381642</td><td>ST0146</td></tr>\n",
       "\t<tr><th scope=row>5</th><td>CUT025</td><td>chr02</td><td>436333</td><td>438133</td><td>+</td><td>CUT025</td><td>CUT</td><td>XU09</td><td>FALSE</td><td>chr02</td><td>429669</td><td>431781</td><td>ST0156</td></tr>\n",
       "\t<tr><th scope=row>6</th><td>CUT027</td><td>chr02</td><td>499590</td><td>500238</td><td>+</td><td>CUT027</td><td>CUT</td><td>XU09</td><td>FALSE</td><td>chr02</td><td>493094</td><td>493686</td><td>ST0174</td></tr>\n",
       "</tbody>\n",
       "</table>\n"
      ],
      "text/latex": [
       "\\begin{tabular}{r|lllllllllllll}\n",
       "  & name & chrom.x & start.x & end.x & strand & commonName & type & source & novel & chrom.y & start.y & end.y & ID\\\\\n",
       "\\hline\n",
       "\t1 & CUT006 & chr02 & 96596 & 98332 & + & CUT006 & CUT & XU09 & FALSE & chr02 & 96352 & 96568 & ST0064\\\\\n",
       "\t2 & CUT014 & chr02 & 324730 & 325644 & + & CUT014 & CUT & XU09 & FALSE & chr02 & 324513 & 325361 & ST0128\\\\\n",
       "\t3 & CUT016 & chr02 & 339934 & 341200 & + & CUT016 & CUT & XU09 & FALSE & chr02 & 339602 & 339946 & ST0132\\\\\n",
       "\t4 & CUT023 & chr02 & 381736 & 382288 & + & CUT023 & CUT & XU09 & FALSE & chr02 & 381378 & 381642 & ST0146\\\\\n",
       "\t5 & CUT025 & chr02 & 436333 & 438133 & + & CUT025 & CUT & XU09 & FALSE & chr02 & 429669 & 431781 & ST0156\\\\\n",
       "\t6 & CUT027 & chr02 & 499590 & 500238 & + & CUT027 & CUT & XU09 & FALSE & chr02 & 493094 & 493686 & ST0174\\\\\n",
       "\\end{tabular}\n"
      ],
      "text/plain": [
       "    name chrom.x start.x  end.x strand commonName type source novel chrom.y\n",
       "1 CUT006   chr02   96596  98332      +     CUT006  CUT   XU09 FALSE   chr02\n",
       "2 CUT014   chr02  324730 325644      +     CUT014  CUT   XU09 FALSE   chr02\n",
       "3 CUT016   chr02  339934 341200      +     CUT016  CUT   XU09 FALSE   chr02\n",
       "4 CUT023   chr02  381736 382288      +     CUT023  CUT   XU09 FALSE   chr02\n",
       "5 CUT025   chr02  436333 438133      +     CUT025  CUT   XU09 FALSE   chr02\n",
       "6 CUT027   chr02  499590 500238      +     CUT027  CUT   XU09 FALSE   chr02\n",
       "  start.y  end.y     ID\n",
       "1   96352  96568 ST0064\n",
       "2  324513 325361 ST0128\n",
       "3  339602 339946 ST0132\n",
       "4  381378 381642 ST0146\n",
       "5  429669 431781 ST0156\n",
       "6  493094 493686 ST0174"
      ]
     },
     "execution_count": 50,
     "metadata": {},
     "output_type": "execute_result"
    }
   ],
   "source": [
    "head(combined_gene_coords_zu)"
   ]
  },
  {
   "cell_type": "code",
   "execution_count": 124,
   "metadata": {
    "collapsed": false
   },
   "outputs": [
    {
     "data": {
      "text/html": [
       "<table>\n",
       "<thead><tr><th></th><th scope=col>chrom</th><th scope=col>start</th><th scope=col>end</th><th scope=col>Name</th><th scope=col>gene</th></tr></thead>\n",
       "<tbody>\n",
       "\t<tr><th scope=row>48</th><td>chrI</td><td>31567</td><td>32940</td><td>YAL062W</td><td>GDH3</td></tr>\n",
       "</tbody>\n",
       "</table>\n"
      ],
      "text/latex": [
       "\\begin{tabular}{r|lllll}\n",
       "  & chrom & start & end & Name & gene\\\\\n",
       "\\hline\n",
       "\t48 & chrI & 31567 & 32940 & YAL062W & GDH3\\\\\n",
       "\\end{tabular}\n"
      ],
      "text/plain": [
       "   chrom start   end    Name gene\n",
       "48  chrI 31567 32940 YAL062W GDH3"
      ]
     },
     "execution_count": 124,
     "metadata": {},
     "output_type": "execute_result"
    },
    {
     "data": {
      "text/html": [
       "<table>\n",
       "<thead><tr><th></th><th scope=col>chrom</th><th scope=col>start</th><th scope=col>end</th><th scope=col>ID</th><th scope=col>Name</th></tr></thead>\n",
       "<tbody>\n",
       "\t<tr><th scope=row>927</th><td>chr01</td><td>31152</td><td>32984</td><td>ST0003</td><td>YAL062W</td></tr>\n",
       "</tbody>\n",
       "</table>\n"
      ],
      "text/latex": [
       "\\begin{tabular}{r|lllll}\n",
       "  & chrom & start & end & ID & Name\\\\\n",
       "\\hline\n",
       "\t927 & chr01 & 31152 & 32984 & ST0003 & YAL062W\\\\\n",
       "\\end{tabular}\n"
      ],
      "text/plain": [
       "    chrom start   end     ID    Name\n",
       "927 chr01 31152 32984 ST0003 YAL062W"
      ]
     },
     "execution_count": 124,
     "metadata": {},
     "output_type": "execute_result"
    },
    {
     "data": {
      "text/html": [
       "<table>\n",
       "<thead><tr><th></th><th scope=col>chrom</th><th scope=col>start</th><th scope=col>end</th><th scope=col>strand</th><th scope=col>name</th><th scope=col>commonName</th><th scope=col>type</th><th scope=col>source</th><th scope=col>novel</th></tr></thead>\n",
       "<tbody>\n",
       "\t<tr><th scope=row>6</th><td>chr01</td><td>31860</td><td>32320</td><td>+</td><td>YAL062W</td><td>GDH3</td><td>ORF-T</td><td>XU09</td><td>FALSE</td></tr>\n",
       "\t<tr><th scope=row>7</th><td>chr01</td><td>32340</td><td>33710</td><td>+</td><td>YAL062W</td><td>GDH3</td><td>ORF-T</td><td>SGD</td><td>FALSE</td></tr>\n",
       "</tbody>\n",
       "</table>\n"
      ],
      "text/latex": [
       "\\begin{tabular}{r|lllllllll}\n",
       "  & chrom & start & end & strand & name & commonName & type & source & novel\\\\\n",
       "\\hline\n",
       "\t6 & chr01 & 31860 & 32320 & + & YAL062W & GDH3 & ORF-T & XU09 & FALSE\\\\\n",
       "\t7 & chr01 & 32340 & 33710 & + & YAL062W & GDH3 & ORF-T & SGD & FALSE\\\\\n",
       "\\end{tabular}\n"
      ],
      "text/plain": [
       "  chrom start   end strand    name commonName  type source novel\n",
       "6 chr01 31860 32320      + YAL062W       GDH3 ORF-T   XU09 FALSE\n",
       "7 chr01 32340 33710      + YAL062W       GDH3 ORF-T    SGD FALSE"
      ]
     },
     "execution_count": 124,
     "metadata": {},
     "output_type": "execute_result"
    }
   ],
   "source": [
    "subset(sgd_gene_coords,Name== \"YAL062W\")\n",
    "subset(zu_gene_coords,Name== \"YAL062W\")\n",
    "subset(gagneur_gene_coords,name== \"YAL062W\")\n"
   ]
  },
  {
   "cell_type": "code",
   "execution_count": 51,
   "metadata": {
    "collapsed": false
   },
   "outputs": [
    {
     "data": {
      "text/html": [
       "<ol class=list-inline>\n",
       "\t<li>'/Users/brooks/Documents/steinmetz_local/yeast/genomes/liftover/V01_1996_07_31_V64_2011_02_03.over.chain'</li>\n",
       "\t<li>'/Users/brooks/Documents/steinmetz_local/yeast/genomes/liftover/V02_1997_07_27_V64_2011_02_03.over.chain'</li>\n",
       "\t<li>'/Users/brooks/Documents/steinmetz_local/yeast/genomes/liftover/V03_1997_07_30_V64_2011_02_03.over.chain'</li>\n",
       "\t<li>'/Users/brooks/Documents/steinmetz_local/yeast/genomes/liftover/V04_1997_08_11_V64_2011_02_03.over.chain'</li>\n",
       "\t<li>'/Users/brooks/Documents/steinmetz_local/yeast/genomes/liftover/V05_1998_05_21_V64_2011_02_03.over.chain'</li>\n",
       "\t<li>'/Users/brooks/Documents/steinmetz_local/yeast/genomes/liftover/V06_1998_09_13_V64_2011_02_03.over.chain'</li>\n",
       "</ol>\n"
      ],
      "text/latex": [
       "\\begin{enumerate*}\n",
       "\\item '/Users/brooks/Documents/steinmetz_local/yeast/genomes/liftover/V01_1996_07_31_V64_2011_02_03.over.chain'\n",
       "\\item '/Users/brooks/Documents/steinmetz_local/yeast/genomes/liftover/V02_1997_07_27_V64_2011_02_03.over.chain'\n",
       "\\item '/Users/brooks/Documents/steinmetz_local/yeast/genomes/liftover/V03_1997_07_30_V64_2011_02_03.over.chain'\n",
       "\\item '/Users/brooks/Documents/steinmetz_local/yeast/genomes/liftover/V04_1997_08_11_V64_2011_02_03.over.chain'\n",
       "\\item '/Users/brooks/Documents/steinmetz_local/yeast/genomes/liftover/V05_1998_05_21_V64_2011_02_03.over.chain'\n",
       "\\item '/Users/brooks/Documents/steinmetz_local/yeast/genomes/liftover/V06_1998_09_13_V64_2011_02_03.over.chain'\n",
       "\\end{enumerate*}\n"
      ],
      "text/markdown": [
       "1. '/Users/brooks/Documents/steinmetz_local/yeast/genomes/liftover/V01_1996_07_31_V64_2011_02_03.over.chain'\n",
       "2. '/Users/brooks/Documents/steinmetz_local/yeast/genomes/liftover/V02_1997_07_27_V64_2011_02_03.over.chain'\n",
       "3. '/Users/brooks/Documents/steinmetz_local/yeast/genomes/liftover/V03_1997_07_30_V64_2011_02_03.over.chain'\n",
       "4. '/Users/brooks/Documents/steinmetz_local/yeast/genomes/liftover/V04_1997_08_11_V64_2011_02_03.over.chain'\n",
       "5. '/Users/brooks/Documents/steinmetz_local/yeast/genomes/liftover/V05_1998_05_21_V64_2011_02_03.over.chain'\n",
       "6. '/Users/brooks/Documents/steinmetz_local/yeast/genomes/liftover/V06_1998_09_13_V64_2011_02_03.over.chain'\n",
       "\n",
       "\n"
      ],
      "text/plain": [
       "[1] \"/Users/brooks/Documents/steinmetz_local/yeast/genomes/liftover/V01_1996_07_31_V64_2011_02_03.over.chain\"\n",
       "[2] \"/Users/brooks/Documents/steinmetz_local/yeast/genomes/liftover/V02_1997_07_27_V64_2011_02_03.over.chain\"\n",
       "[3] \"/Users/brooks/Documents/steinmetz_local/yeast/genomes/liftover/V03_1997_07_30_V64_2011_02_03.over.chain\"\n",
       "[4] \"/Users/brooks/Documents/steinmetz_local/yeast/genomes/liftover/V04_1997_08_11_V64_2011_02_03.over.chain\"\n",
       "[5] \"/Users/brooks/Documents/steinmetz_local/yeast/genomes/liftover/V05_1998_05_21_V64_2011_02_03.over.chain\"\n",
       "[6] \"/Users/brooks/Documents/steinmetz_local/yeast/genomes/liftover/V06_1998_09_13_V64_2011_02_03.over.chain\""
      ]
     },
     "execution_count": 51,
     "metadata": {},
     "output_type": "execute_result"
    }
   ],
   "source": [
    "fs = system(\"ls -d -1 ~/Documents/steinmetz_local/yeast/genomes/liftover/*.chain\", inter = T)\n",
    "head(fs)"
   ]
  },
  {
   "cell_type": "markdown",
   "metadata": {},
   "source": [
    "The liftOver chain files from SGD have this realy annoying feature that the chromosomes within each file AND between every chromosome within a file have different names. Each chromosme has a weird data extension to its name - but it's impossible to predict what the extension will be. This sucks b/c liftOver will not map if the chr name isn't correct. \n",
    "\n",
    "To solve the problem I will go through each chain file and remove the trailing date from the chr name. "
   ]
  },
  {
   "cell_type": "code",
   "execution_count": 52,
   "metadata": {
    "collapsed": false
   },
   "outputs": [],
   "source": [
    "# rename all chrs names within all chain files\n",
    "# for (i in fs) {\n",
    "#     fin = readLines(i)\n",
    "#     for (x in seq(1,length(fin))) {\n",
    "#         if (grepl(\"^chain\",fin[x])) {\n",
    "#             ls = strsplit(fin[x],split = \" \")[[1]]\n",
    "#             ls[3] = strsplit(ls[3],split=\"_\")[[1]][1]\n",
    "#             ls[8] = strsplit(ls[8],split=\"_\")[[1]][1]\n",
    "#             fin[x] = paste(ls,collapse=\" \")\n",
    "#         }\n",
    "#     }\n",
    "#     writeLines(fin,con = i,sep = \"\\n\")\n",
    "# }\n",
    "# DONE AB 2/23/2016. Shouldn't be a problem anymore"
   ]
  },
  {
   "cell_type": "code",
   "execution_count": 66,
   "metadata": {
    "collapsed": false
   },
   "outputs": [],
   "source": [
    "perfomLiftOver = function(combined_df, chain) {\n",
    "    # expects df to include three columns, chrom, start, end, name, commonName\n",
    "    # chrom.x, start.x, end.x should correspond to input coords (coords to liftOver)\n",
    "    \n",
    "    # open chain file to see what the name of chrs should be\n",
    "    # assumes these names are in the 3rd line, positions 3 and 8\n",
    "    chainData = strsplit(readLines(chain)[3], split = \" \")[[1]]\n",
    "    chr1 = paste(strsplit(chainData[3], split = \"_\")[[1]][-1], collapse = \"_\")\n",
    "    chr1_format = gsub(\"^chr\",\"\",strsplit(chainData[3], split = \"_\")[[1]][1])\n",
    "    if (length(grep(\"[0-9]\",chr1_format)) == 0) {\n",
    "        chr1_isroman = T\n",
    "    } else {\n",
    "        chr1_isroman = F\n",
    "    }\n",
    "    chr2 = paste(strsplit(chainData[8], split = \"_\")[[1]][-1], collapse = \"_\")\n",
    "    chr2_format = gsub(\"^chr\",\"\",strsplit(chainData[8], split = \"_\")[[1]][1])\n",
    "    if (length(grep(\"[0-9]\",chr2_format)) == 0) {\n",
    "        chr2_isroman = T\n",
    "    } else {\n",
    "        chr2_isroman = F\n",
    "    }\n",
    "    # modify chr1 names\n",
    "    if (chr1_isroman == F) {\n",
    "        if (nchar(chr1)>1) {\n",
    "            tmp_chr_names = paste(combined_df[,\"chrom.x\"], chr1, sep = \"_\")\n",
    "        } else {\n",
    "            tmp_chr_names = combined_df[,\"chrom.x\"]\n",
    "        }\n",
    "        \n",
    "    } else {\n",
    "        # convert to roman \n",
    "        tmp_chr_names = sapply(gsub(\"^chr\", \"\", combined_df[,\"chrom.x\"]),\n",
    "                               function(i){paste(\"chr\", as.roman(i), sep = \"\")})\n",
    "    }\n",
    "    # need write permission is current dir\n",
    "    write.table(cbind(tmp_chr_names,combined_df[,c(\"start.x\",\"end.x\",\"name\")]), \n",
    "                file=\"tmp_input.bed\",quote = F,row.names = F,col.names = F,sep = \" \")\n",
    "    # run liftOver\n",
    "    system(paste(\"liftOver tmp_input.bed\", chain, \"tmp_output.bed tmp_unlifted.bed\",sep=\" \"))\n",
    "    # read liftOver\n",
    "    lift_coords = read.table(\"tmp_output.bed\", sep = \"\\t\", header = F)\n",
    "    colnames(lift_coords) = c(\"chr\",\"start\",\"stop\",\"gene\")\n",
    "    combined_df_2 = merge(combined_df, lift_coords, by.x = \"commonName\", by.y = \"gene\")\n",
    "    # merge with combined_df1\n",
    "    combined_df_2 = merge(combined_df, lift_coords, by.x = \"name\", by.y = \"gene\")\n",
    "    score1 = (sum(combined_df_2$start.y == combined_df_2$start) \n",
    "             + sum(combined_df_2$stop.y == combined_df_2$stop))/(dim(combined_df_2)[1]*2)\n",
    "    score2 = (sum(abs(combined_df_2$start.y - combined_df_2$start)) \n",
    "             + sum(abs(combined_df_2$stop.y - combined_df_2$stop)))/(dim(combined_df_2)[1]*2)\n",
    "    o = list()\n",
    "    o$scoreABS = score1\n",
    "    o$scorePROX = score2\n",
    "    o$df = combined_df_2\n",
    "    return(o)\n",
    "}"
   ]
  },
  {
   "cell_type": "code",
   "execution_count": 69,
   "metadata": {
    "collapsed": false
   },
   "outputs": [],
   "source": [
    "liftScores_sgd = lapply(fs,function(i){\n",
    "    perfomLiftOver(combined_gene_coords_sgd,i)\n",
    "})\n",
    "names(liftScores_sgd) = fs\n",
    "liftScores_zu = lapply(fs,function(i){\n",
    "    perfomLiftOver(combined_gene_coords_zu,i)\n",
    "})\n",
    "names(liftScores_zu) = fs"
   ]
  },
  {
   "cell_type": "code",
   "execution_count": 102,
   "metadata": {
    "collapsed": false,
    "scrolled": false
   },
   "outputs": [
    {
     "data": {
      "text/html": [],
      "text/latex": [],
      "text/markdown": [],
      "text/plain": [
       "character(0)"
      ]
     },
     "execution_count": 102,
     "metadata": {},
     "output_type": "execute_result"
    },
    {
     "data": {
      "image/png": "[encoded data removed]",
      "image/svg+xml": [
       "<?xml version=\"1.0\" encoding=\"UTF-8\"?>\n",
       "<svg xmlns=\"http://www.w3.org/2000/svg\" xmlns:xlink=\"http://www.w3.org/1999/xlink\" width=\"504pt\" height=\"504pt\" viewBox=\"0 0 504 504\" version=\"1.1\">\n",
       "<defs>\n",
       "<g>\n",
       "<symbol overflow=\"visible\" id=\"glyph0-0\">\n",
       "<path style=\"stroke:none;\" d=\"M 0.390625 0 L 0.390625 -8.609375 L 7.21875 -8.609375 L 7.21875 0 Z M 6.140625 -1.078125 L 6.140625 -7.53125 L 1.46875 -7.53125 L 1.46875 -1.078125 Z M 6.140625 -1.078125 \"/>\n",
       "</symbol>\n",
       "<symbol overflow=\"visible\" id=\"glyph0-1\">\n",
       "<path style=\"stroke:none;\" d=\"M 3.25 -8.390625 C 4.332031 -8.390625 5.117188 -7.941406 5.609375 -7.046875 C 5.984375 -6.359375 6.171875 -5.410156 6.171875 -4.203125 C 6.171875 -3.066406 6 -2.125 5.65625 -1.375 C 5.164062 -0.300781 4.359375 0.234375 3.234375 0.234375 C 2.234375 0.234375 1.484375 -0.203125 0.984375 -1.078125 C 0.578125 -1.816406 0.375 -2.800781 0.375 -4.03125 C 0.375 -4.976562 0.5 -5.796875 0.75 -6.484375 C 1.207031 -7.753906 2.039062 -8.390625 3.25 -8.390625 Z M 3.234375 -0.734375 C 3.785156 -0.734375 4.222656 -0.972656 4.546875 -1.453125 C 4.867188 -1.941406 5.03125 -2.847656 5.03125 -4.171875 C 5.03125 -5.117188 4.910156 -5.898438 4.671875 -6.515625 C 4.441406 -7.128906 3.988281 -7.4375 3.3125 -7.4375 C 2.6875 -7.4375 2.226562 -7.144531 1.9375 -6.5625 C 1.65625 -5.976562 1.515625 -5.117188 1.515625 -3.984375 C 1.515625 -3.128906 1.609375 -2.441406 1.796875 -1.921875 C 2.078125 -1.128906 2.554688 -0.734375 3.234375 -0.734375 Z M 3.234375 -0.734375 \"/>\n",
       "</symbol>\n",
       "<symbol overflow=\"visible\" id=\"glyph0-2\">\n",
       "<path style=\"stroke:none;\" d=\"M 1.15625 -5.9375 L 1.15625 -6.75 C 1.914062 -6.820312 2.441406 -6.945312 2.734375 -7.125 C 3.035156 -7.300781 3.265625 -7.710938 3.421875 -8.359375 L 4.25 -8.359375 L 4.25 0 L 3.125 0 L 3.125 -5.9375 Z M 1.15625 -5.9375 \"/>\n",
       "</symbol>\n",
       "<symbol overflow=\"visible\" id=\"glyph0-3\">\n",
       "<path style=\"stroke:none;\" d=\"M 0.375 0 C 0.414062 -0.71875 0.566406 -1.34375 0.828125 -1.875 C 1.085938 -2.414062 1.59375 -2.90625 2.34375 -3.34375 L 3.46875 -4 C 3.96875 -4.289062 4.320312 -4.539062 4.53125 -4.75 C 4.851562 -5.070312 5.015625 -5.441406 5.015625 -5.859375 C 5.015625 -6.347656 4.863281 -6.734375 4.5625 -7.015625 C 4.269531 -7.304688 3.882812 -7.453125 3.40625 -7.453125 C 2.675781 -7.453125 2.175781 -7.179688 1.90625 -6.640625 C 1.75 -6.335938 1.664062 -5.929688 1.65625 -5.421875 L 0.578125 -5.421875 C 0.585938 -6.148438 0.722656 -6.742188 0.984375 -7.203125 C 1.441406 -8.015625 2.25 -8.421875 3.40625 -8.421875 C 4.363281 -8.421875 5.0625 -8.160156 5.5 -7.640625 C 5.945312 -7.117188 6.171875 -6.539062 6.171875 -5.90625 C 6.171875 -5.238281 5.9375 -4.664062 5.46875 -4.1875 C 5.195312 -3.90625 4.707031 -3.566406 4 -3.171875 L 3.1875 -2.734375 C 2.8125 -2.523438 2.515625 -2.320312 2.296875 -2.125 C 1.898438 -1.789062 1.648438 -1.414062 1.546875 -1 L 6.140625 -1 L 6.140625 0 Z M 0.375 0 \"/>\n",
       "</symbol>\n",
       "<symbol overflow=\"visible\" id=\"glyph0-4\">\n",
       "<path style=\"stroke:none;\" d=\"M 3.125 0.234375 C 2.125 0.234375 1.398438 -0.0351562 0.953125 -0.578125 C 0.503906 -1.128906 0.28125 -1.796875 0.28125 -2.578125 L 1.390625 -2.578125 C 1.429688 -2.035156 1.53125 -1.640625 1.6875 -1.390625 C 1.96875 -0.953125 2.460938 -0.734375 3.171875 -0.734375 C 3.734375 -0.734375 4.179688 -0.878906 4.515625 -1.171875 C 4.847656 -1.472656 5.015625 -1.859375 5.015625 -2.328125 C 5.015625 -2.898438 4.835938 -3.300781 4.484375 -3.53125 C 4.128906 -3.769531 3.640625 -3.890625 3.015625 -3.890625 C 2.941406 -3.890625 2.867188 -3.882812 2.796875 -3.875 C 2.722656 -3.875 2.648438 -3.875 2.578125 -3.875 L 2.578125 -4.8125 C 2.691406 -4.789062 2.785156 -4.78125 2.859375 -4.78125 C 2.929688 -4.78125 3.007812 -4.78125 3.09375 -4.78125 C 3.488281 -4.78125 3.8125 -4.84375 4.0625 -4.96875 C 4.507812 -5.1875 4.734375 -5.578125 4.734375 -6.140625 C 4.734375 -6.554688 4.582031 -6.875 4.28125 -7.09375 C 3.988281 -7.320312 3.644531 -7.4375 3.25 -7.4375 C 2.550781 -7.4375 2.066406 -7.203125 1.796875 -6.734375 C 1.648438 -6.484375 1.566406 -6.117188 1.546875 -5.640625 L 0.5 -5.640625 C 0.5 -6.265625 0.625 -6.796875 0.875 -7.234375 C 1.300781 -8.015625 2.054688 -8.40625 3.140625 -8.40625 C 3.992188 -8.40625 4.65625 -8.210938 5.125 -7.828125 C 5.59375 -7.453125 5.828125 -6.898438 5.828125 -6.171875 C 5.828125 -5.660156 5.691406 -5.242188 5.421875 -4.921875 C 5.242188 -4.722656 5.019531 -4.566406 4.75 -4.453125 C 5.1875 -4.328125 5.53125 -4.09375 5.78125 -3.75 C 6.03125 -3.40625 6.15625 -2.984375 6.15625 -2.484375 C 6.15625 -1.679688 5.890625 -1.023438 5.359375 -0.515625 C 4.835938 -0.015625 4.09375 0.234375 3.125 0.234375 Z M 3.125 0.234375 \"/>\n",
       "</symbol>\n",
       "<symbol overflow=\"visible\" id=\"glyph0-5\">\n",
       "<path style=\"stroke:none;\" d=\"M 3.96875 -2.96875 L 3.96875 -6.78125 L 1.28125 -2.96875 Z M 3.984375 0 L 3.984375 -2.046875 L 0.3125 -2.046875 L 0.3125 -3.078125 L 4.15625 -8.421875 L 5.046875 -8.421875 L 5.046875 -2.96875 L 6.28125 -2.96875 L 6.28125 -2.046875 L 5.046875 -2.046875 L 5.046875 0 Z M 3.984375 0 \"/>\n",
       "</symbol>\n",
       "<symbol overflow=\"visible\" id=\"glyph0-6\">\n",
       "<path style=\"stroke:none;\" d=\"M 1.484375 -2.140625 C 1.554688 -1.535156 1.835938 -1.117188 2.328125 -0.890625 C 2.578125 -0.773438 2.863281 -0.71875 3.1875 -0.71875 C 3.8125 -0.71875 4.273438 -0.914062 4.578125 -1.3125 C 4.878906 -1.707031 5.03125 -2.148438 5.03125 -2.640625 C 5.03125 -3.222656 4.847656 -3.675781 4.484375 -4 C 4.128906 -4.320312 3.703125 -4.484375 3.203125 -4.484375 C 2.835938 -4.484375 2.523438 -4.410156 2.265625 -4.265625 C 2.003906 -4.128906 1.785156 -3.9375 1.609375 -3.6875 L 0.6875 -3.734375 L 1.328125 -8.25 L 5.6875 -8.25 L 5.6875 -7.234375 L 2.125 -7.234375 L 1.765625 -4.90625 C 1.960938 -5.050781 2.148438 -5.160156 2.328125 -5.234375 C 2.640625 -5.359375 3 -5.421875 3.40625 -5.421875 C 4.175781 -5.421875 4.828125 -5.171875 5.359375 -4.671875 C 5.898438 -4.179688 6.171875 -3.554688 6.171875 -2.796875 C 6.171875 -2.003906 5.921875 -1.300781 5.421875 -0.6875 C 4.929688 -0.0820312 4.148438 0.21875 3.078125 0.21875 C 2.398438 0.21875 1.796875 0.0234375 1.265625 -0.359375 C 0.742188 -0.742188 0.453125 -1.335938 0.390625 -2.140625 Z M 1.484375 -2.140625 \"/>\n",
       "</symbol>\n",
       "<symbol overflow=\"visible\" id=\"glyph0-7\">\n",
       "<path style=\"stroke:none;\" d=\"M 3.515625 -8.421875 C 4.453125 -8.421875 5.101562 -8.175781 5.46875 -7.6875 C 5.84375 -7.207031 6.03125 -6.707031 6.03125 -6.1875 L 4.984375 -6.1875 C 4.921875 -6.519531 4.820312 -6.78125 4.6875 -6.96875 C 4.425781 -7.320312 4.039062 -7.5 3.53125 -7.5 C 2.9375 -7.5 2.460938 -7.222656 2.109375 -6.671875 C 1.765625 -6.128906 1.578125 -5.351562 1.546875 -4.34375 C 1.785156 -4.695312 2.085938 -4.960938 2.453125 -5.140625 C 2.785156 -5.296875 3.160156 -5.375 3.578125 -5.375 C 4.285156 -5.375 4.898438 -5.148438 5.421875 -4.703125 C 5.941406 -4.253906 6.203125 -3.582031 6.203125 -2.6875 C 6.203125 -1.925781 5.953125 -1.25 5.453125 -0.65625 C 4.960938 -0.0703125 4.257812 0.21875 3.34375 0.21875 C 2.550781 0.21875 1.867188 -0.078125 1.296875 -0.671875 C 0.734375 -1.273438 0.453125 -2.28125 0.453125 -3.6875 C 0.453125 -4.726562 0.578125 -5.613281 0.828125 -6.34375 C 1.316406 -7.726562 2.210938 -8.421875 3.515625 -8.421875 Z M 3.4375 -0.71875 C 3.988281 -0.71875 4.398438 -0.90625 4.671875 -1.28125 C 4.953125 -1.65625 5.09375 -2.097656 5.09375 -2.609375 C 5.09375 -3.035156 4.96875 -3.441406 4.71875 -3.828125 C 4.476562 -4.210938 4.03125 -4.40625 3.375 -4.40625 C 2.925781 -4.40625 2.53125 -4.253906 2.1875 -3.953125 C 1.84375 -3.660156 1.671875 -3.210938 1.671875 -2.609375 C 1.671875 -2.078125 1.828125 -1.628906 2.140625 -1.265625 C 2.453125 -0.898438 2.882812 -0.71875 3.4375 -0.71875 Z M 3.4375 -0.71875 \"/>\n",
       "</symbol>\n",
       "<symbol overflow=\"visible\" id=\"glyph0-8\">\n",
       "<path style=\"stroke:none;\" d=\"M 1.171875 -8.609375 L 2.359375 -8.609375 L 2.359375 0 L 1.171875 0 Z M 1.171875 -8.609375 \"/>\n",
       "</symbol>\n",
       "<symbol overflow=\"visible\" id=\"glyph0-9\">\n",
       "<path style=\"stroke:none;\" d=\"M 0.78125 -6.28125 L 1.78125 -6.28125 L 1.78125 -5.390625 C 2.070312 -5.753906 2.382812 -6.015625 2.71875 -6.171875 C 3.050781 -6.335938 3.421875 -6.421875 3.828125 -6.421875 C 4.710938 -6.421875 5.3125 -6.109375 5.625 -5.484375 C 5.800781 -5.140625 5.890625 -4.65625 5.890625 -4.03125 L 5.890625 0 L 4.8125 0 L 4.8125 -3.953125 C 4.8125 -4.335938 4.753906 -4.644531 4.640625 -4.875 C 4.453125 -5.269531 4.113281 -5.46875 3.625 -5.46875 C 3.375 -5.46875 3.171875 -5.441406 3.015625 -5.390625 C 2.722656 -5.304688 2.46875 -5.132812 2.25 -4.875 C 2.070312 -4.664062 1.957031 -4.453125 1.90625 -4.234375 C 1.851562 -4.015625 1.828125 -3.695312 1.828125 -3.28125 L 1.828125 0 L 0.78125 0 Z M 3.25 -6.421875 Z M 3.25 -6.421875 \"/>\n",
       "</symbol>\n",
       "<symbol overflow=\"visible\" id=\"glyph0-10\">\n",
       "<path style=\"stroke:none;\" d=\"M 1.4375 -3.0625 C 1.4375 -2.394531 1.578125 -1.832031 1.859375 -1.375 C 2.148438 -0.925781 2.609375 -0.703125 3.234375 -0.703125 C 3.722656 -0.703125 4.125 -0.910156 4.4375 -1.328125 C 4.757812 -1.742188 4.921875 -2.347656 4.921875 -3.140625 C 4.921875 -3.929688 4.753906 -4.515625 4.421875 -4.890625 C 4.097656 -5.273438 3.703125 -5.46875 3.234375 -5.46875 C 2.703125 -5.46875 2.269531 -5.265625 1.9375 -4.859375 C 1.601562 -4.453125 1.4375 -3.851562 1.4375 -3.0625 Z M 3.03125 -6.390625 C 3.507812 -6.390625 3.910156 -6.285156 4.234375 -6.078125 C 4.421875 -5.960938 4.632812 -5.757812 4.875 -5.46875 L 4.875 -8.640625 L 5.890625 -8.640625 L 5.890625 0 L 4.9375 0 L 4.9375 -0.875 C 4.695312 -0.488281 4.40625 -0.207031 4.0625 -0.03125 C 3.726562 0.132812 3.34375 0.21875 2.90625 0.21875 C 2.207031 0.21875 1.601562 -0.0703125 1.09375 -0.65625 C 0.582031 -1.25 0.328125 -2.03125 0.328125 -3 C 0.328125 -3.914062 0.5625 -4.707031 1.03125 -5.375 C 1.5 -6.050781 2.164062 -6.390625 3.03125 -6.390625 Z M 3.03125 -6.390625 \"/>\n",
       "</symbol>\n",
       "<symbol overflow=\"visible\" id=\"glyph0-11\">\n",
       "<path style=\"stroke:none;\" d=\"M 3.390625 -6.421875 C 3.835938 -6.421875 4.269531 -6.316406 4.6875 -6.109375 C 5.101562 -5.898438 5.421875 -5.628906 5.640625 -5.296875 C 5.847656 -4.972656 5.988281 -4.601562 6.0625 -4.1875 C 6.125 -3.894531 6.15625 -3.429688 6.15625 -2.796875 L 1.546875 -2.796875 C 1.566406 -2.160156 1.71875 -1.648438 2 -1.265625 C 2.28125 -0.878906 2.71875 -0.6875 3.3125 -0.6875 C 3.863281 -0.6875 4.300781 -0.867188 4.625 -1.234375 C 4.8125 -1.441406 4.945312 -1.6875 5.03125 -1.96875 L 6.0625 -1.96875 C 6.039062 -1.738281 5.953125 -1.484375 5.796875 -1.203125 C 5.640625 -0.921875 5.46875 -0.6875 5.28125 -0.5 C 4.957031 -0.1875 4.554688 0.0195312 4.078125 0.125 C 3.828125 0.1875 3.539062 0.21875 3.21875 0.21875 C 2.4375 0.21875 1.773438 -0.0625 1.234375 -0.625 C 0.691406 -1.195312 0.421875 -1.992188 0.421875 -3.015625 C 0.421875 -4.023438 0.691406 -4.84375 1.234375 -5.46875 C 1.785156 -6.101562 2.503906 -6.421875 3.390625 -6.421875 Z M 5.0625 -3.640625 C 5.019531 -4.097656 4.921875 -4.460938 4.765625 -4.734375 C 4.484375 -5.242188 4.003906 -5.5 3.328125 -5.5 C 2.835938 -5.5 2.425781 -5.320312 2.09375 -4.96875 C 1.769531 -4.625 1.597656 -4.179688 1.578125 -3.640625 Z M 3.28125 -6.421875 Z M 3.28125 -6.421875 \"/>\n",
       "</symbol>\n",
       "<symbol overflow=\"visible\" id=\"glyph0-12\">\n",
       "<path style=\"stroke:none;\" d=\"M 0.171875 -6.28125 L 1.546875 -6.28125 L 2.984375 -4.0625 L 4.4375 -6.28125 L 5.71875 -6.25 L 3.609375 -3.21875 L 5.8125 0 L 4.46875 0 L 2.90625 -2.359375 L 1.40625 0 L 0.0625 0 L 2.28125 -3.21875 Z M 0.171875 -6.28125 \"/>\n",
       "</symbol>\n",
       "<symbol overflow=\"visible\" id=\"glyph1-0\">\n",
       "<path style=\"stroke:none;\" d=\"M 0 -0.390625 L -8.609375 -0.390625 L -8.609375 -7.21875 L 0 -7.21875 Z M -1.078125 -6.140625 L -7.53125 -6.140625 L -7.53125 -1.46875 L -1.078125 -1.46875 Z M -1.078125 -6.140625 \"/>\n",
       "</symbol>\n",
       "<symbol overflow=\"visible\" id=\"glyph1-1\">\n",
       "<path style=\"stroke:none;\" d=\"M -2.140625 -1.484375 C -1.535156 -1.554688 -1.117188 -1.835938 -0.890625 -2.328125 C -0.773438 -2.578125 -0.71875 -2.863281 -0.71875 -3.1875 C -0.71875 -3.8125 -0.914062 -4.273438 -1.3125 -4.578125 C -1.707031 -4.878906 -2.148438 -5.03125 -2.640625 -5.03125 C -3.222656 -5.03125 -3.675781 -4.847656 -4 -4.484375 C -4.320312 -4.128906 -4.484375 -3.703125 -4.484375 -3.203125 C -4.484375 -2.835938 -4.410156 -2.523438 -4.265625 -2.265625 C -4.128906 -2.003906 -3.9375 -1.785156 -3.6875 -1.609375 L -3.734375 -0.6875 L -8.25 -1.328125 L -8.25 -5.6875 L -7.234375 -5.6875 L -7.234375 -2.125 L -4.90625 -1.765625 C -5.050781 -1.960938 -5.160156 -2.148438 -5.234375 -2.328125 C -5.359375 -2.640625 -5.421875 -3 -5.421875 -3.40625 C -5.421875 -4.175781 -5.171875 -4.828125 -4.671875 -5.359375 C -4.179688 -5.898438 -3.554688 -6.171875 -2.796875 -6.171875 C -2.003906 -6.171875 -1.300781 -5.921875 -0.6875 -5.421875 C -0.0820312 -4.929688 0.21875 -4.148438 0.21875 -3.078125 C 0.21875 -2.398438 0.0234375 -1.796875 -0.359375 -1.265625 C -0.742188 -0.742188 -1.335938 -0.453125 -2.140625 -0.390625 Z M -2.140625 -1.484375 \"/>\n",
       "</symbol>\n",
       "<symbol overflow=\"visible\" id=\"glyph1-2\">\n",
       "<path style=\"stroke:none;\" d=\"M -8.390625 -3.25 C -8.390625 -4.332031 -7.941406 -5.117188 -7.046875 -5.609375 C -6.359375 -5.984375 -5.410156 -6.171875 -4.203125 -6.171875 C -3.066406 -6.171875 -2.125 -6 -1.375 -5.65625 C -0.300781 -5.164062 0.234375 -4.359375 0.234375 -3.234375 C 0.234375 -2.234375 -0.203125 -1.484375 -1.078125 -0.984375 C -1.816406 -0.578125 -2.800781 -0.375 -4.03125 -0.375 C -4.976562 -0.375 -5.796875 -0.5 -6.484375 -0.75 C -7.753906 -1.207031 -8.390625 -2.039062 -8.390625 -3.25 Z M -0.734375 -3.234375 C -0.734375 -3.785156 -0.972656 -4.222656 -1.453125 -4.546875 C -1.941406 -4.867188 -2.847656 -5.03125 -4.171875 -5.03125 C -5.117188 -5.03125 -5.898438 -4.910156 -6.515625 -4.671875 C -7.128906 -4.441406 -7.4375 -3.988281 -7.4375 -3.3125 C -7.4375 -2.6875 -7.144531 -2.226562 -6.5625 -1.9375 C -5.976562 -1.65625 -5.117188 -1.515625 -3.984375 -1.515625 C -3.128906 -1.515625 -2.441406 -1.609375 -1.921875 -1.796875 C -1.128906 -2.078125 -0.734375 -2.554688 -0.734375 -3.234375 Z M -0.734375 -3.234375 \"/>\n",
       "</symbol>\n",
       "<symbol overflow=\"visible\" id=\"glyph1-3\">\n",
       "<path style=\"stroke:none;\" d=\"M -8.421875 -3.515625 C -8.421875 -4.453125 -8.175781 -5.101562 -7.6875 -5.46875 C -7.207031 -5.84375 -6.707031 -6.03125 -6.1875 -6.03125 L -6.1875 -4.984375 C -6.519531 -4.921875 -6.78125 -4.820312 -6.96875 -4.6875 C -7.320312 -4.425781 -7.5 -4.039062 -7.5 -3.53125 C -7.5 -2.9375 -7.222656 -2.460938 -6.671875 -2.109375 C -6.128906 -1.765625 -5.351562 -1.578125 -4.34375 -1.546875 C -4.695312 -1.785156 -4.960938 -2.085938 -5.140625 -2.453125 C -5.296875 -2.785156 -5.375 -3.160156 -5.375 -3.578125 C -5.375 -4.285156 -5.148438 -4.898438 -4.703125 -5.421875 C -4.253906 -5.941406 -3.582031 -6.203125 -2.6875 -6.203125 C -1.925781 -6.203125 -1.25 -5.953125 -0.65625 -5.453125 C -0.0703125 -4.960938 0.21875 -4.257812 0.21875 -3.34375 C 0.21875 -2.550781 -0.078125 -1.867188 -0.671875 -1.296875 C -1.273438 -0.734375 -2.28125 -0.453125 -3.6875 -0.453125 C -4.726562 -0.453125 -5.613281 -0.578125 -6.34375 -0.828125 C -7.726562 -1.316406 -8.421875 -2.210938 -8.421875 -3.515625 Z M -0.71875 -3.4375 C -0.71875 -3.988281 -0.90625 -4.398438 -1.28125 -4.671875 C -1.65625 -4.953125 -2.097656 -5.09375 -2.609375 -5.09375 C -3.035156 -5.09375 -3.441406 -4.96875 -3.828125 -4.71875 C -4.210938 -4.476562 -4.40625 -4.03125 -4.40625 -3.375 C -4.40625 -2.925781 -4.253906 -2.53125 -3.953125 -2.1875 C -3.660156 -1.84375 -3.210938 -1.671875 -2.609375 -1.671875 C -2.078125 -1.671875 -1.628906 -1.828125 -1.265625 -2.140625 C -0.898438 -2.453125 -0.71875 -2.882812 -0.71875 -3.4375 Z M -0.71875 -3.4375 \"/>\n",
       "</symbol>\n",
       "<symbol overflow=\"visible\" id=\"glyph1-4\">\n",
       "<path style=\"stroke:none;\" d=\"M -8.25 -6.28125 L -7.328125 -6.28125 C -7.066406 -6.007812 -6.613281 -5.648438 -5.96875 -5.203125 C -5.320312 -4.753906 -4.625 -4.359375 -3.875 -4.015625 C -3.132812 -3.671875 -2.46875 -3.410156 -1.875 -3.234375 C -1.488281 -3.128906 -0.863281 -2.984375 0 -2.796875 L 0 -1.640625 C -1.601562 -1.898438 -3.195312 -2.484375 -4.78125 -3.390625 C -5.707031 -3.929688 -6.507812 -4.492188 -7.1875 -5.078125 L -7.1875 -0.4375 L -8.25 -0.4375 Z M -8.25 -6.28125 \"/>\n",
       "</symbol>\n",
       "<symbol overflow=\"visible\" id=\"glyph1-5\">\n",
       "<path style=\"stroke:none;\" d=\"M -4.875 -3.265625 C -4.875 -3.734375 -5.003906 -4.097656 -5.265625 -4.359375 C -5.523438 -4.617188 -5.832031 -4.75 -6.1875 -4.75 C -6.5 -4.75 -6.785156 -4.625 -7.046875 -4.375 C -7.316406 -4.125 -7.453125 -3.742188 -7.453125 -3.234375 C -7.453125 -2.722656 -7.316406 -2.351562 -7.046875 -2.125 C -6.785156 -1.894531 -6.484375 -1.78125 -6.140625 -1.78125 C -5.742188 -1.78125 -5.429688 -1.925781 -5.203125 -2.21875 C -4.984375 -2.519531 -4.875 -2.867188 -4.875 -3.265625 Z M -0.71875 -3.328125 C -0.71875 -3.816406 -0.847656 -4.222656 -1.109375 -4.546875 C -1.378906 -4.867188 -1.773438 -5.03125 -2.296875 -5.03125 C -2.835938 -5.03125 -3.25 -4.863281 -3.53125 -4.53125 C -3.8125 -4.195312 -3.953125 -3.769531 -3.953125 -3.25 C -3.953125 -2.75 -3.804688 -2.335938 -3.515625 -2.015625 C -3.234375 -1.703125 -2.835938 -1.546875 -2.328125 -1.546875 C -1.890625 -1.546875 -1.507812 -1.691406 -1.1875 -1.984375 C -0.875 -2.273438 -0.71875 -2.722656 -0.71875 -3.328125 Z M -4.46875 -1.828125 C -4.59375 -1.535156 -4.738281 -1.304688 -4.90625 -1.140625 C -5.21875 -0.835938 -5.625 -0.6875 -6.125 -0.6875 C -6.75 -0.6875 -7.285156 -0.910156 -7.734375 -1.359375 C -8.191406 -1.816406 -8.421875 -2.457031 -8.421875 -3.28125 C -8.421875 -4.09375 -8.207031 -4.722656 -7.78125 -5.171875 C -7.351562 -5.628906 -6.859375 -5.859375 -6.296875 -5.859375 C -5.773438 -5.859375 -5.347656 -5.726562 -5.015625 -5.46875 C -4.835938 -5.320312 -4.660156 -5.09375 -4.484375 -4.78125 C -4.328125 -5.125 -4.144531 -5.394531 -3.9375 -5.59375 C -3.539062 -5.96875 -3.03125 -6.15625 -2.40625 -6.15625 C -1.664062 -6.15625 -1.039062 -5.90625 -0.53125 -5.40625 C -0.0195312 -4.914062 0.234375 -4.21875 0.234375 -3.3125 C 0.234375 -2.488281 0.015625 -1.796875 -0.421875 -1.234375 C -0.867188 -0.671875 -1.515625 -0.390625 -2.359375 -0.390625 C -2.847656 -0.390625 -3.273438 -0.507812 -3.640625 -0.75 C -4.003906 -0.988281 -4.28125 -1.347656 -4.46875 -1.828125 Z M -4.46875 -1.828125 \"/>\n",
       "</symbol>\n",
       "<symbol overflow=\"visible\" id=\"glyph1-6\">\n",
       "<path style=\"stroke:none;\" d=\"M -2.03125 -1.59375 C -1.445312 -1.625 -1.046875 -1.847656 -0.828125 -2.265625 C -0.703125 -2.484375 -0.640625 -2.726562 -0.640625 -3 C -0.640625 -3.5 -0.847656 -3.925781 -1.265625 -4.28125 C -1.691406 -4.632812 -2.546875 -4.890625 -3.828125 -5.046875 C -3.460938 -4.804688 -3.203125 -4.515625 -3.046875 -4.171875 C -2.898438 -3.828125 -2.828125 -3.453125 -2.828125 -3.046875 C -2.828125 -2.242188 -3.078125 -1.601562 -3.578125 -1.125 C -4.085938 -0.65625 -4.738281 -0.421875 -5.53125 -0.421875 C -6.289062 -0.421875 -6.957031 -0.65625 -7.53125 -1.125 C -8.113281 -1.59375 -8.40625 -2.28125 -8.40625 -3.1875 C -8.40625 -4.40625 -7.851562 -5.25 -6.75 -5.71875 C -6.144531 -5.96875 -5.390625 -6.09375 -4.484375 -6.09375 C -3.453125 -6.09375 -2.539062 -5.941406 -1.75 -5.640625 C -0.425781 -5.128906 0.234375 -4.257812 0.234375 -3.03125 C 0.234375 -2.21875 0.0195312 -1.597656 -0.40625 -1.171875 C -0.84375 -0.742188 -1.382812 -0.53125 -2.03125 -0.53125 Z M -3.75 -3.1875 C -3.75 -3.613281 -3.882812 -4 -4.15625 -4.34375 C -4.4375 -4.6875 -4.921875 -4.859375 -5.609375 -4.859375 C -6.222656 -4.859375 -6.679688 -4.703125 -6.984375 -4.390625 C -7.285156 -4.078125 -7.4375 -3.679688 -7.4375 -3.203125 C -7.4375 -2.691406 -7.265625 -2.285156 -6.921875 -1.984375 C -6.578125 -1.679688 -6.113281 -1.53125 -5.53125 -1.53125 C -4.988281 -1.53125 -4.554688 -1.660156 -4.234375 -1.921875 C -3.910156 -2.191406 -3.75 -2.613281 -3.75 -3.1875 Z M -3.75 -3.1875 \"/>\n",
       "</symbol>\n",
       "<symbol overflow=\"visible\" id=\"glyph1-7\">\n",
       "<path style=\"stroke:none;\" d=\"M -5.9375 -1.15625 L -6.75 -1.15625 C -6.820312 -1.914062 -6.945312 -2.441406 -7.125 -2.734375 C -7.300781 -3.035156 -7.710938 -3.265625 -8.359375 -3.421875 L -8.359375 -4.25 L 0 -4.25 L 0 -3.125 L -5.9375 -3.125 Z M -5.9375 -1.15625 \"/>\n",
       "</symbol>\n",
       "<symbol overflow=\"visible\" id=\"glyph1-8\">\n",
       "<path style=\"stroke:none;\" d=\"M -1.671875 -1.578125 C -1.367188 -1.578125 -1.128906 -1.6875 -0.953125 -1.90625 C -0.773438 -2.132812 -0.6875 -2.398438 -0.6875 -2.703125 C -0.6875 -3.078125 -0.769531 -3.4375 -0.9375 -3.78125 C -1.226562 -4.375 -1.695312 -4.671875 -2.34375 -4.671875 L -3.1875 -4.671875 C -3.113281 -4.535156 -3.046875 -4.363281 -2.984375 -4.15625 C -2.929688 -3.957031 -2.894531 -3.757812 -2.875 -3.5625 L -2.796875 -2.9375 C -2.742188 -2.550781 -2.660156 -2.257812 -2.546875 -2.0625 C -2.367188 -1.738281 -2.078125 -1.578125 -1.671875 -1.578125 Z M -3.796875 -4.140625 C -3.828125 -4.378906 -3.929688 -4.539062 -4.109375 -4.625 C -4.203125 -4.664062 -4.335938 -4.6875 -4.515625 -4.6875 C -4.867188 -4.6875 -5.125 -4.554688 -5.28125 -4.296875 C -5.445312 -4.046875 -5.53125 -3.6875 -5.53125 -3.21875 C -5.53125 -2.664062 -5.382812 -2.273438 -5.09375 -2.046875 C -4.925781 -1.910156 -4.679688 -1.820312 -4.359375 -1.78125 L -4.359375 -0.796875 C -5.128906 -0.816406 -5.664062 -1.066406 -5.96875 -1.546875 C -6.269531 -2.035156 -6.421875 -2.597656 -6.421875 -3.234375 C -6.421875 -3.972656 -6.28125 -4.570312 -6 -5.03125 C -5.71875 -5.488281 -5.28125 -5.71875 -4.6875 -5.71875 L -1.078125 -5.71875 C -0.972656 -5.71875 -0.882812 -5.738281 -0.8125 -5.78125 C -0.75 -5.832031 -0.71875 -5.929688 -0.71875 -6.078125 C -0.71875 -6.117188 -0.71875 -6.164062 -0.71875 -6.21875 C -0.726562 -6.28125 -0.738281 -6.347656 -0.75 -6.421875 L 0.03125 -6.421875 C 0.0703125 -6.253906 0.0976562 -6.125 0.109375 -6.03125 C 0.128906 -5.945312 0.140625 -5.832031 0.140625 -5.6875 C 0.140625 -5.320312 0.0078125 -5.0625 -0.25 -4.90625 C -0.382812 -4.8125 -0.578125 -4.75 -0.828125 -4.71875 C -0.546875 -4.5 -0.300781 -4.1875 -0.09375 -3.78125 C 0.113281 -3.382812 0.21875 -2.945312 0.21875 -2.46875 C 0.21875 -1.882812 0.0390625 -1.40625 -0.3125 -1.03125 C -0.664062 -0.664062 -1.109375 -0.484375 -1.640625 -0.484375 C -2.222656 -0.484375 -2.675781 -0.664062 -3 -1.03125 C -3.320312 -1.394531 -3.519531 -1.867188 -3.59375 -2.453125 Z M -6.421875 -3.265625 Z M -6.421875 -3.265625 \"/>\n",
       "</symbol>\n",
       "<symbol overflow=\"visible\" id=\"glyph1-9\">\n",
       "<path style=\"stroke:none;\" d=\"M -8.609375 -0.796875 L -8.609375 -1.859375 L 0 -1.859375 L 0 -0.796875 Z M -8.609375 -0.796875 \"/>\n",
       "</symbol>\n",
       "<symbol overflow=\"visible\" id=\"glyph1-10\">\n",
       "<path style=\"stroke:none;\" d=\"M 1.5 0 L 0.90625 0 L 0.90625 -6.671875 L 1.5 -6.671875 Z M 1.5 0 \"/>\n",
       "</symbol>\n",
       "<symbol overflow=\"visible\" id=\"glyph1-11\">\n",
       "<path style=\"stroke:none;\" d=\"M -1.96875 -1.40625 C -1.613281 -1.4375 -1.34375 -1.523438 -1.15625 -1.671875 C -0.820312 -1.929688 -0.65625 -2.390625 -0.65625 -3.046875 C -0.65625 -3.441406 -0.738281 -3.785156 -0.90625 -4.078125 C -1.070312 -4.378906 -1.332031 -4.53125 -1.6875 -4.53125 C -1.957031 -4.53125 -2.164062 -4.410156 -2.3125 -4.171875 C -2.394531 -4.015625 -2.492188 -3.710938 -2.609375 -3.265625 L -2.8125 -2.421875 C -2.945312 -1.890625 -3.097656 -1.5 -3.265625 -1.25 C -3.546875 -0.789062 -3.941406 -0.5625 -4.453125 -0.5625 C -5.046875 -0.5625 -5.523438 -0.773438 -5.890625 -1.203125 C -6.253906 -1.628906 -6.4375 -2.207031 -6.4375 -2.9375 C -6.4375 -3.875 -6.160156 -4.550781 -5.609375 -4.96875 C -5.253906 -5.238281 -4.875 -5.367188 -4.46875 -5.359375 L -4.46875 -4.359375 C -4.707031 -4.335938 -4.925781 -4.253906 -5.125 -4.109375 C -5.394531 -3.867188 -5.53125 -3.445312 -5.53125 -2.84375 C -5.53125 -2.445312 -5.453125 -2.144531 -5.296875 -1.9375 C -5.148438 -1.738281 -4.953125 -1.640625 -4.703125 -1.640625 C -4.429688 -1.640625 -4.210938 -1.773438 -4.046875 -2.046875 C -3.953125 -2.203125 -3.867188 -2.429688 -3.796875 -2.734375 L -3.625 -3.421875 C -3.4375 -4.179688 -3.257812 -4.691406 -3.09375 -4.953125 C -2.820312 -5.359375 -2.394531 -5.5625 -1.8125 -5.5625 C -1.257812 -5.5625 -0.78125 -5.347656 -0.375 -4.921875 C 0.03125 -4.503906 0.234375 -3.863281 0.234375 -3 C 0.234375 -2.0625 0.0234375 -1.394531 -0.390625 -1 C -0.816406 -0.613281 -1.34375 -0.410156 -1.96875 -0.390625 Z M -6.421875 -2.953125 Z M -6.421875 -2.953125 \"/>\n",
       "</symbol>\n",
       "<symbol overflow=\"visible\" id=\"glyph1-12\">\n",
       "<path style=\"stroke:none;\" d=\"M -6.453125 -3.1875 C -6.453125 -3.894531 -6.28125 -4.46875 -5.9375 -4.90625 C -5.59375 -5.351562 -5.003906 -5.625 -4.171875 -5.71875 L -4.171875 -4.6875 C -4.554688 -4.625 -4.875 -4.484375 -5.125 -4.265625 C -5.382812 -4.046875 -5.515625 -3.6875 -5.515625 -3.1875 C -5.515625 -2.519531 -5.1875 -2.039062 -4.53125 -1.75 C -4.101562 -1.5625 -3.578125 -1.46875 -2.953125 -1.46875 C -2.328125 -1.46875 -1.796875 -1.597656 -1.359375 -1.859375 C -0.929688 -2.128906 -0.71875 -2.550781 -0.71875 -3.125 C -0.71875 -3.5625 -0.851562 -3.90625 -1.125 -4.15625 C -1.394531 -4.414062 -1.757812 -4.59375 -2.21875 -4.6875 L -2.21875 -5.71875 C -1.382812 -5.601562 -0.773438 -5.3125 -0.390625 -4.84375 C -0.00390625 -4.375 0.1875 -3.773438 0.1875 -3.046875 C 0.1875 -2.222656 -0.113281 -1.566406 -0.71875 -1.078125 C -1.320312 -0.585938 -2.070312 -0.34375 -2.96875 -0.34375 C -4.070312 -0.34375 -4.925781 -0.609375 -5.53125 -1.140625 C -6.144531 -1.679688 -6.453125 -2.363281 -6.453125 -3.1875 Z M -6.421875 -3.03125 Z M -6.421875 -3.03125 \"/>\n",
       "</symbol>\n",
       "<symbol overflow=\"visible\" id=\"glyph1-13\">\n",
       "<path style=\"stroke:none;\" d=\"M -0.6875 -3.265625 C -0.6875 -3.960938 -0.945312 -4.441406 -1.46875 -4.703125 C -2 -4.960938 -2.585938 -5.09375 -3.234375 -5.09375 C -3.828125 -5.09375 -4.304688 -5 -4.671875 -4.8125 C -5.242188 -4.507812 -5.53125 -4 -5.53125 -3.28125 C -5.53125 -2.632812 -5.285156 -2.164062 -4.796875 -1.875 C -4.304688 -1.582031 -3.710938 -1.4375 -3.015625 -1.4375 C -2.347656 -1.4375 -1.789062 -1.582031 -1.34375 -1.875 C -0.90625 -2.164062 -0.6875 -2.628906 -0.6875 -3.265625 Z M -6.453125 -3.3125 C -6.453125 -4.113281 -6.179688 -4.789062 -5.640625 -5.34375 C -5.109375 -5.90625 -4.316406 -6.1875 -3.265625 -6.1875 C -2.253906 -6.1875 -1.414062 -5.941406 -0.75 -5.453125 C -0.09375 -4.960938 0.234375 -4.203125 0.234375 -3.171875 C 0.234375 -2.304688 -0.0546875 -1.617188 -0.640625 -1.109375 C -1.234375 -0.597656 -2.019531 -0.34375 -3 -0.34375 C -4.050781 -0.34375 -4.890625 -0.609375 -5.515625 -1.140625 C -6.140625 -1.679688 -6.453125 -2.40625 -6.453125 -3.3125 Z M -6.421875 -3.265625 Z M -6.421875 -3.265625 \"/>\n",
       "</symbol>\n",
       "<symbol overflow=\"visible\" id=\"glyph1-14\">\n",
       "<path style=\"stroke:none;\" d=\"M -6.28125 -0.796875 L -6.28125 -1.8125 L -5.1875 -1.8125 C -5.40625 -1.882812 -5.664062 -2.082031 -5.96875 -2.40625 C -6.269531 -2.726562 -6.421875 -3.097656 -6.421875 -3.515625 C -6.421875 -3.535156 -6.414062 -3.566406 -6.40625 -3.609375 C -6.40625 -3.660156 -6.398438 -3.742188 -6.390625 -3.859375 L -5.28125 -3.859375 C -5.289062 -3.796875 -5.296875 -3.738281 -5.296875 -3.6875 C -5.296875 -3.632812 -5.296875 -3.578125 -5.296875 -3.515625 C -5.296875 -2.984375 -5.125 -2.570312 -4.78125 -2.28125 C -4.445312 -2 -4.054688 -1.859375 -3.609375 -1.859375 L 0 -1.859375 L 0 -0.796875 Z M -6.28125 -0.796875 \"/>\n",
       "</symbol>\n",
       "<symbol overflow=\"visible\" id=\"glyph1-15\">\n",
       "<path style=\"stroke:none;\" d=\"M -6.421875 -3.390625 C -6.421875 -3.835938 -6.316406 -4.269531 -6.109375 -4.6875 C -5.898438 -5.101562 -5.628906 -5.421875 -5.296875 -5.640625 C -4.972656 -5.847656 -4.601562 -5.988281 -4.1875 -6.0625 C -3.894531 -6.125 -3.429688 -6.15625 -2.796875 -6.15625 L -2.796875 -1.546875 C -2.160156 -1.566406 -1.648438 -1.71875 -1.265625 -2 C -0.878906 -2.28125 -0.6875 -2.71875 -0.6875 -3.3125 C -0.6875 -3.863281 -0.867188 -4.300781 -1.234375 -4.625 C -1.441406 -4.8125 -1.6875 -4.945312 -1.96875 -5.03125 L -1.96875 -6.0625 C -1.738281 -6.039062 -1.484375 -5.953125 -1.203125 -5.796875 C -0.921875 -5.640625 -0.6875 -5.46875 -0.5 -5.28125 C -0.1875 -4.957031 0.0195312 -4.554688 0.125 -4.078125 C 0.1875 -3.828125 0.21875 -3.539062 0.21875 -3.21875 C 0.21875 -2.4375 -0.0625 -1.773438 -0.625 -1.234375 C -1.195312 -0.691406 -1.992188 -0.421875 -3.015625 -0.421875 C -4.023438 -0.421875 -4.84375 -0.691406 -5.46875 -1.234375 C -6.101562 -1.785156 -6.421875 -2.503906 -6.421875 -3.390625 Z M -3.640625 -5.0625 C -4.097656 -5.019531 -4.460938 -4.921875 -4.734375 -4.765625 C -5.242188 -4.484375 -5.5 -4.003906 -5.5 -3.328125 C -5.5 -2.835938 -5.320312 -2.425781 -4.96875 -2.09375 C -4.625 -1.769531 -4.179688 -1.597656 -3.640625 -1.578125 Z M -6.421875 -3.28125 Z M -6.421875 -3.28125 \"/>\n",
       "</symbol>\n",
       "</g>\n",
       "</defs>\n",
       "<g id=\"surface41\">\n",
       "<rect x=\"0\" y=\"0\" width=\"504\" height=\"504\" style=\"fill:rgb(100%,100%,100%);fill-opacity:1;stroke:none;\"/>\n",
       "<path style=\"fill:none;stroke-width:0.75;stroke-linecap:round;stroke-linejoin:round;stroke:rgb(100%,0%,0%);stroke-opacity:1;stroke-miterlimit:10;\" d=\"M 77.101562 213.933594 C 77.101562 217.53125 71.699219 217.53125 71.699219 213.933594 C 71.699219 210.332031 77.101562 210.332031 77.101562 213.933594 \"/>\n",
       "<path style=\"fill:none;stroke-width:0.75;stroke-linecap:round;stroke-linejoin:round;stroke:rgb(100%,0%,0%);stroke-opacity:1;stroke-miterlimit:10;\" d=\"M 83.195312 213.960938 C 83.195312 217.5625 77.796875 217.5625 77.796875 213.960938 C 77.796875 210.359375 83.195312 210.359375 83.195312 213.960938 \"/>\n",
       "<path style=\"fill:none;stroke-width:0.75;stroke-linecap:round;stroke-linejoin:round;stroke:rgb(100%,0%,0%);stroke-opacity:1;stroke-miterlimit:10;\" d=\"M 89.289062 213.984375 C 89.289062 217.585938 83.890625 217.585938 83.890625 213.984375 C 83.890625 210.386719 89.289062 210.386719 89.289062 213.984375 \"/>\n",
       "<path style=\"fill:none;stroke-width:0.75;stroke-linecap:round;stroke-linejoin:round;stroke:rgb(100%,0%,0%);stroke-opacity:1;stroke-miterlimit:10;\" d=\"M 95.386719 213.984375 C 95.386719 217.585938 89.984375 217.585938 89.984375 213.984375 C 89.984375 210.386719 95.386719 210.386719 95.386719 213.984375 \"/>\n",
       "<path style=\"fill:none;stroke-width:0.75;stroke-linecap:round;stroke-linejoin:round;stroke:rgb(100%,0%,0%);stroke-opacity:1;stroke-miterlimit:10;\" d=\"M 101.480469 213.984375 C 101.480469 217.585938 96.082031 217.585938 96.082031 213.984375 C 96.082031 210.382812 101.480469 210.382812 101.480469 213.984375 \"/>\n",
       "<path style=\"fill:none;stroke-width:0.75;stroke-linecap:round;stroke-linejoin:round;stroke:rgb(100%,0%,0%);stroke-opacity:1;stroke-miterlimit:10;\" d=\"M 107.578125 214.050781 C 107.578125 217.652344 102.175781 217.652344 102.175781 214.050781 C 102.175781 210.453125 107.578125 210.453125 107.578125 214.050781 \"/>\n",
       "<path style=\"fill:none;stroke-width:0.75;stroke-linecap:round;stroke-linejoin:round;stroke:rgb(100%,0%,0%);stroke-opacity:1;stroke-miterlimit:10;\" d=\"M 113.671875 214.023438 C 113.671875 217.621094 108.269531 217.621094 108.269531 214.023438 C 108.269531 210.421875 113.671875 210.421875 113.671875 214.023438 \"/>\n",
       "<path style=\"fill:none;stroke-width:0.75;stroke-linecap:round;stroke-linejoin:round;stroke:rgb(100%,0%,0%);stroke-opacity:1;stroke-miterlimit:10;\" d=\"M 119.765625 214.023438 C 119.765625 217.621094 114.367188 217.621094 114.367188 214.023438 C 114.367188 210.421875 119.765625 210.421875 119.765625 214.023438 \"/>\n",
       "<path style=\"fill:none;stroke-width:0.75;stroke-linecap:round;stroke-linejoin:round;stroke:rgb(100%,0%,0%);stroke-opacity:1;stroke-miterlimit:10;\" d=\"M 125.863281 212.539062 C 125.863281 216.136719 120.460938 216.136719 120.460938 212.539062 C 120.460938 208.9375 125.863281 208.9375 125.863281 212.539062 \"/>\n",
       "<path style=\"fill:none;stroke-width:0.75;stroke-linecap:round;stroke-linejoin:round;stroke:rgb(100%,0%,0%);stroke-opacity:1;stroke-miterlimit:10;\" d=\"M 131.957031 212.484375 C 131.957031 216.082031 126.558594 216.082031 126.558594 212.484375 C 126.558594 208.882812 131.957031 208.882812 131.957031 212.484375 \"/>\n",
       "<path style=\"fill:none;stroke-width:0.75;stroke-linecap:round;stroke-linejoin:round;stroke:rgb(100%,0%,0%);stroke-opacity:1;stroke-miterlimit:10;\" d=\"M 138.050781 212.484375 C 138.050781 216.082031 132.652344 216.082031 132.652344 212.484375 C 132.652344 208.882812 138.050781 208.882812 138.050781 212.484375 \"/>\n",
       "<path style=\"fill:none;stroke-width:0.75;stroke-linecap:round;stroke-linejoin:round;stroke:rgb(100%,0%,0%);stroke-opacity:1;stroke-miterlimit:10;\" d=\"M 144.148438 212.484375 C 144.148438 216.085938 138.746094 216.085938 138.746094 212.484375 C 138.746094 208.886719 144.148438 208.886719 144.148438 212.484375 \"/>\n",
       "<path style=\"fill:none;stroke-width:0.75;stroke-linecap:round;stroke-linejoin:round;stroke:rgb(100%,0%,0%);stroke-opacity:1;stroke-miterlimit:10;\" d=\"M 150.242188 212.492188 C 150.242188 216.089844 144.84375 216.089844 144.84375 212.492188 C 144.84375 208.890625 150.242188 208.890625 150.242188 212.492188 \"/>\n",
       "<path style=\"fill:none;stroke-width:0.75;stroke-linecap:round;stroke-linejoin:round;stroke:rgb(100%,0%,0%);stroke-opacity:1;stroke-miterlimit:10;\" d=\"M 156.339844 212.488281 C 156.339844 216.085938 150.9375 216.085938 150.9375 212.488281 C 150.9375 208.886719 156.339844 208.886719 156.339844 212.488281 \"/>\n",
       "<path style=\"fill:none;stroke-width:0.75;stroke-linecap:round;stroke-linejoin:round;stroke:rgb(100%,0%,0%);stroke-opacity:1;stroke-miterlimit:10;\" d=\"M 162.433594 212.488281 C 162.433594 216.085938 157.035156 216.085938 157.035156 212.488281 C 157.035156 208.886719 162.433594 208.886719 162.433594 212.488281 \"/>\n",
       "<path style=\"fill:none;stroke-width:0.75;stroke-linecap:round;stroke-linejoin:round;stroke:rgb(100%,0%,0%);stroke-opacity:1;stroke-miterlimit:10;\" d=\"M 168.527344 218.570312 C 168.527344 222.167969 163.128906 222.167969 163.128906 218.570312 C 163.128906 214.96875 168.527344 214.96875 168.527344 218.570312 \"/>\n",
       "<path style=\"fill:none;stroke-width:0.75;stroke-linecap:round;stroke-linejoin:round;stroke:rgb(100%,0%,0%);stroke-opacity:1;stroke-miterlimit:10;\" d=\"M 174.625 218.546875 C 174.625 222.148438 169.222656 222.148438 169.222656 218.546875 C 169.222656 214.949219 174.625 214.949219 174.625 218.546875 \"/>\n",
       "<path style=\"fill:none;stroke-width:0.75;stroke-linecap:round;stroke-linejoin:round;stroke:rgb(100%,0%,0%);stroke-opacity:1;stroke-miterlimit:10;\" d=\"M 180.71875 218.578125 C 180.71875 222.175781 175.320312 222.175781 175.320312 218.578125 C 175.320312 214.976562 180.71875 214.976562 180.71875 218.578125 \"/>\n",
       "<path style=\"fill:none;stroke-width:0.75;stroke-linecap:round;stroke-linejoin:round;stroke:rgb(100%,0%,0%);stroke-opacity:1;stroke-miterlimit:10;\" d=\"M 186.8125 218.585938 C 186.8125 222.183594 181.414062 222.183594 181.414062 218.585938 C 181.414062 214.984375 186.8125 214.984375 186.8125 218.585938 \"/>\n",
       "<path style=\"fill:none;stroke-width:0.75;stroke-linecap:round;stroke-linejoin:round;stroke:rgb(100%,0%,0%);stroke-opacity:1;stroke-miterlimit:10;\" d=\"M 192.910156 218.625 C 192.910156 222.222656 187.507812 222.222656 187.507812 218.625 C 187.507812 215.023438 192.910156 215.023438 192.910156 218.625 \"/>\n",
       "<path style=\"fill:none;stroke-width:0.75;stroke-linecap:round;stroke-linejoin:round;stroke:rgb(100%,0%,0%);stroke-opacity:1;stroke-miterlimit:10;\" d=\"M 199.003906 218.570312 C 199.003906 222.171875 193.605469 222.171875 193.605469 218.570312 C 193.605469 214.972656 199.003906 214.972656 199.003906 218.570312 \"/>\n",
       "<path style=\"fill:none;stroke-width:0.75;stroke-linecap:round;stroke-linejoin:round;stroke:rgb(100%,0%,0%);stroke-opacity:1;stroke-miterlimit:10;\" d=\"M 205.101562 218.589844 C 205.101562 222.191406 199.699219 222.191406 199.699219 218.589844 C 199.699219 214.992188 205.101562 214.992188 205.101562 218.589844 \"/>\n",
       "<path style=\"fill:none;stroke-width:0.75;stroke-linecap:round;stroke-linejoin:round;stroke:rgb(100%,0%,0%);stroke-opacity:1;stroke-miterlimit:10;\" d=\"M 211.195312 218.734375 C 211.195312 222.335938 205.796875 222.335938 205.796875 218.734375 C 205.796875 215.136719 211.195312 215.136719 211.195312 218.734375 \"/>\n",
       "<path style=\"fill:none;stroke-width:0.75;stroke-linecap:round;stroke-linejoin:round;stroke:rgb(100%,0%,0%);stroke-opacity:1;stroke-miterlimit:10;\" d=\"M 217.289062 218.734375 C 217.289062 222.335938 211.890625 222.335938 211.890625 218.734375 C 211.890625 215.136719 217.289062 215.136719 217.289062 218.734375 \"/>\n",
       "<path style=\"fill:none;stroke-width:0.75;stroke-linecap:round;stroke-linejoin:round;stroke:rgb(100%,0%,0%);stroke-opacity:1;stroke-miterlimit:10;\" d=\"M 223.386719 218.738281 C 223.386719 222.335938 217.984375 222.335938 217.984375 218.738281 C 217.984375 215.136719 223.386719 215.136719 223.386719 218.738281 \"/>\n",
       "<path style=\"fill:none;stroke-width:0.75;stroke-linecap:round;stroke-linejoin:round;stroke:rgb(100%,0%,0%);stroke-opacity:1;stroke-miterlimit:10;\" d=\"M 229.480469 218.714844 C 229.480469 222.316406 224.082031 222.316406 224.082031 218.714844 C 224.082031 215.117188 229.480469 215.117188 229.480469 218.714844 \"/>\n",
       "<path style=\"fill:none;stroke-width:0.75;stroke-linecap:round;stroke-linejoin:round;stroke:rgb(100%,0%,0%);stroke-opacity:1;stroke-miterlimit:10;\" d=\"M 235.578125 218.722656 C 235.578125 222.324219 230.175781 222.324219 230.175781 218.722656 C 230.175781 215.125 235.578125 215.125 235.578125 218.722656 \"/>\n",
       "<path style=\"fill:none;stroke-width:0.75;stroke-linecap:round;stroke-linejoin:round;stroke:rgb(100%,0%,0%);stroke-opacity:1;stroke-miterlimit:10;\" d=\"M 241.671875 218.722656 C 241.671875 222.324219 236.269531 222.324219 236.269531 218.722656 C 236.269531 215.125 241.671875 215.125 241.671875 218.722656 \"/>\n",
       "<path style=\"fill:none;stroke-width:0.75;stroke-linecap:round;stroke-linejoin:round;stroke:rgb(100%,0%,0%);stroke-opacity:1;stroke-miterlimit:10;\" d=\"M 247.765625 218.730469 C 247.765625 222.328125 242.367188 222.328125 242.367188 218.730469 C 242.367188 215.128906 247.765625 215.128906 247.765625 218.730469 \"/>\n",
       "<path style=\"fill:none;stroke-width:0.75;stroke-linecap:round;stroke-linejoin:round;stroke:rgb(100%,0%,0%);stroke-opacity:1;stroke-miterlimit:10;\" d=\"M 253.863281 218.730469 C 253.863281 222.328125 248.460938 222.328125 248.460938 218.730469 C 248.460938 215.128906 253.863281 215.128906 253.863281 218.730469 \"/>\n",
       "<path style=\"fill:none;stroke-width:0.75;stroke-linecap:round;stroke-linejoin:round;stroke:rgb(100%,0%,0%);stroke-opacity:1;stroke-miterlimit:10;\" d=\"M 259.957031 218.726562 C 259.957031 222.328125 254.558594 222.328125 254.558594 218.726562 C 254.558594 215.125 259.957031 215.125 259.957031 218.726562 \"/>\n",
       "<path style=\"fill:none;stroke-width:0.75;stroke-linecap:round;stroke-linejoin:round;stroke:rgb(100%,0%,0%);stroke-opacity:1;stroke-miterlimit:10;\" d=\"M 266.050781 218.730469 C 266.050781 222.332031 260.652344 222.332031 260.652344 218.730469 C 260.652344 215.128906 266.050781 215.128906 266.050781 218.730469 \"/>\n",
       "<path style=\"fill:none;stroke-width:0.75;stroke-linecap:round;stroke-linejoin:round;stroke:rgb(100%,0%,0%);stroke-opacity:1;stroke-miterlimit:10;\" d=\"M 272.148438 218.839844 C 272.148438 222.441406 266.746094 222.441406 266.746094 218.839844 C 266.746094 215.242188 272.148438 215.242188 272.148438 218.839844 \"/>\n",
       "<path style=\"fill:none;stroke-width:0.75;stroke-linecap:round;stroke-linejoin:round;stroke:rgb(100%,0%,0%);stroke-opacity:1;stroke-miterlimit:10;\" d=\"M 278.242188 218.796875 C 278.242188 222.398438 272.84375 222.398438 272.84375 218.796875 C 272.84375 215.195312 278.242188 215.195312 278.242188 218.796875 \"/>\n",
       "<path style=\"fill:none;stroke-width:0.75;stroke-linecap:round;stroke-linejoin:round;stroke:rgb(100%,0%,0%);stroke-opacity:1;stroke-miterlimit:10;\" d=\"M 284.339844 218.804688 C 284.339844 222.40625 278.9375 222.40625 278.9375 218.804688 C 278.9375 215.207031 284.339844 215.207031 284.339844 218.804688 \"/>\n",
       "<path style=\"fill:none;stroke-width:0.75;stroke-linecap:round;stroke-linejoin:round;stroke:rgb(100%,0%,0%);stroke-opacity:1;stroke-miterlimit:10;\" d=\"M 290.433594 218.8125 C 290.433594 222.410156 285.035156 222.410156 285.035156 218.8125 C 285.035156 215.210938 290.433594 215.210938 290.433594 218.8125 \"/>\n",
       "<path style=\"fill:none;stroke-width:0.75;stroke-linecap:round;stroke-linejoin:round;stroke:rgb(100%,0%,0%);stroke-opacity:1;stroke-miterlimit:10;\" d=\"M 296.527344 218.953125 C 296.527344 222.554688 291.128906 222.554688 291.128906 218.953125 C 291.128906 215.355469 296.527344 215.355469 296.527344 218.953125 \"/>\n",
       "<path style=\"fill:none;stroke-width:0.75;stroke-linecap:round;stroke-linejoin:round;stroke:rgb(100%,0%,0%);stroke-opacity:1;stroke-miterlimit:10;\" d=\"M 302.625 222.804688 C 302.625 226.40625 297.222656 226.40625 297.222656 222.804688 C 297.222656 219.203125 302.625 219.203125 302.625 222.804688 \"/>\n",
       "<path style=\"fill:none;stroke-width:0.75;stroke-linecap:round;stroke-linejoin:round;stroke:rgb(100%,0%,0%);stroke-opacity:1;stroke-miterlimit:10;\" d=\"M 308.71875 222.800781 C 308.71875 226.402344 303.320312 226.402344 303.320312 222.800781 C 303.320312 219.203125 308.71875 219.203125 308.71875 222.800781 \"/>\n",
       "<path style=\"fill:none;stroke-width:0.75;stroke-linecap:round;stroke-linejoin:round;stroke:rgb(100%,0%,0%);stroke-opacity:1;stroke-miterlimit:10;\" d=\"M 314.8125 222.8125 C 314.8125 226.414062 309.414062 226.414062 309.414062 222.8125 C 309.414062 219.210938 314.8125 219.210938 314.8125 222.8125 \"/>\n",
       "<path style=\"fill:none;stroke-width:0.75;stroke-linecap:round;stroke-linejoin:round;stroke:rgb(100%,0%,0%);stroke-opacity:1;stroke-miterlimit:10;\" d=\"M 320.910156 223.605469 C 320.910156 227.203125 315.507812 227.203125 315.507812 223.605469 C 315.507812 220.003906 320.910156 220.003906 320.910156 223.605469 \"/>\n",
       "<path style=\"fill:none;stroke-width:0.75;stroke-linecap:round;stroke-linejoin:round;stroke:rgb(100%,0%,0%);stroke-opacity:1;stroke-miterlimit:10;\" d=\"M 327.003906 223.722656 C 327.003906 227.324219 321.605469 227.324219 321.605469 223.722656 C 321.605469 220.125 327.003906 220.125 327.003906 223.722656 \"/>\n",
       "<path style=\"fill:none;stroke-width:0.75;stroke-linecap:round;stroke-linejoin:round;stroke:rgb(100%,0%,0%);stroke-opacity:1;stroke-miterlimit:10;\" d=\"M 333.101562 223.730469 C 333.101562 227.328125 327.699219 227.328125 327.699219 223.730469 C 327.699219 220.128906 333.101562 220.128906 333.101562 223.730469 \"/>\n",
       "<path style=\"fill:none;stroke-width:0.75;stroke-linecap:round;stroke-linejoin:round;stroke:rgb(100%,0%,0%);stroke-opacity:1;stroke-miterlimit:10;\" d=\"M 339.195312 223.75 C 339.195312 227.351562 333.796875 227.351562 333.796875 223.75 C 333.796875 220.152344 339.195312 220.152344 339.195312 223.75 \"/>\n",
       "<path style=\"fill:none;stroke-width:0.75;stroke-linecap:round;stroke-linejoin:round;stroke:rgb(100%,0%,0%);stroke-opacity:1;stroke-miterlimit:10;\" d=\"M 345.289062 223.773438 C 345.289062 227.375 339.890625 227.375 339.890625 223.773438 C 339.890625 220.171875 345.289062 220.171875 345.289062 223.773438 \"/>\n",
       "<path style=\"fill:none;stroke-width:0.75;stroke-linecap:round;stroke-linejoin:round;stroke:rgb(100%,0%,0%);stroke-opacity:1;stroke-miterlimit:10;\" d=\"M 351.386719 223.789062 C 351.386719 227.390625 345.984375 227.390625 345.984375 223.789062 C 345.984375 220.1875 351.386719 220.1875 351.386719 223.789062 \"/>\n",
       "<path style=\"fill:none;stroke-width:0.75;stroke-linecap:round;stroke-linejoin:round;stroke:rgb(100%,0%,0%);stroke-opacity:1;stroke-miterlimit:10;\" d=\"M 357.480469 223.785156 C 357.480469 227.386719 352.082031 227.386719 352.082031 223.785156 C 352.082031 220.1875 357.480469 220.1875 357.480469 223.785156 \"/>\n",
       "<path style=\"fill:none;stroke-width:0.75;stroke-linecap:round;stroke-linejoin:round;stroke:rgb(100%,0%,0%);stroke-opacity:1;stroke-miterlimit:10;\" d=\"M 363.578125 223.789062 C 363.578125 227.390625 358.175781 227.390625 358.175781 223.789062 C 358.175781 220.191406 363.578125 220.191406 363.578125 223.789062 \"/>\n",
       "<path style=\"fill:none;stroke-width:0.75;stroke-linecap:round;stroke-linejoin:round;stroke:rgb(100%,0%,0%);stroke-opacity:1;stroke-miterlimit:10;\" d=\"M 369.671875 223.78125 C 369.671875 227.382812 364.269531 227.382812 364.269531 223.78125 C 364.269531 220.183594 369.671875 220.183594 369.671875 223.78125 \"/>\n",
       "<path style=\"fill:none;stroke-width:0.75;stroke-linecap:round;stroke-linejoin:round;stroke:rgb(100%,0%,0%);stroke-opacity:1;stroke-miterlimit:10;\" d=\"M 375.765625 223.820312 C 375.765625 227.421875 370.367188 227.421875 370.367188 223.820312 C 370.367188 220.222656 375.765625 220.222656 375.765625 223.820312 \"/>\n",
       "<path style=\"fill:none;stroke-width:0.75;stroke-linecap:round;stroke-linejoin:round;stroke:rgb(100%,0%,0%);stroke-opacity:1;stroke-miterlimit:10;\" d=\"M 381.863281 223.832031 C 381.863281 227.429688 376.460938 227.429688 376.460938 223.832031 C 376.460938 220.230469 381.863281 220.230469 381.863281 223.832031 \"/>\n",
       "<path style=\"fill:none;stroke-width:0.75;stroke-linecap:round;stroke-linejoin:round;stroke:rgb(100%,0%,0%);stroke-opacity:1;stroke-miterlimit:10;\" d=\"M 387.957031 223.875 C 387.957031 227.476562 382.558594 227.476562 382.558594 223.875 C 382.558594 220.273438 387.957031 220.273438 387.957031 223.875 \"/>\n",
       "<path style=\"fill:none;stroke-width:0.75;stroke-linecap:round;stroke-linejoin:round;stroke:rgb(100%,0%,0%);stroke-opacity:1;stroke-miterlimit:10;\" d=\"M 394.050781 223.90625 C 394.050781 227.503906 388.652344 227.503906 388.652344 223.90625 C 388.652344 220.304688 394.050781 220.304688 394.050781 223.90625 \"/>\n",
       "<path style=\"fill:none;stroke-width:0.75;stroke-linecap:round;stroke-linejoin:round;stroke:rgb(100%,0%,0%);stroke-opacity:1;stroke-miterlimit:10;\" d=\"M 400.148438 225.242188 C 400.148438 228.839844 394.746094 228.839844 394.746094 225.242188 C 394.746094 221.640625 400.148438 221.640625 400.148438 225.242188 \"/>\n",
       "<path style=\"fill:none;stroke-width:0.75;stroke-linecap:round;stroke-linejoin:round;stroke:rgb(100%,0%,0%);stroke-opacity:1;stroke-miterlimit:10;\" d=\"M 406.242188 225.242188 C 406.242188 228.839844 400.84375 228.839844 400.84375 225.242188 C 400.84375 221.640625 406.242188 221.640625 406.242188 225.242188 \"/>\n",
       "<path style=\"fill:none;stroke-width:0.75;stroke-linecap:round;stroke-linejoin:round;stroke:rgb(100%,0%,0%);stroke-opacity:1;stroke-miterlimit:10;\" d=\"M 412.339844 225.242188 C 412.339844 228.839844 406.9375 228.839844 406.9375 225.242188 C 406.9375 221.640625 412.339844 221.640625 412.339844 225.242188 \"/>\n",
       "<path style=\"fill:none;stroke-width:0.75;stroke-linecap:round;stroke-linejoin:round;stroke:rgb(100%,0%,0%);stroke-opacity:1;stroke-miterlimit:10;\" d=\"M 418.433594 225.242188 C 418.433594 228.839844 413.035156 228.839844 413.035156 225.242188 C 413.035156 221.640625 418.433594 221.640625 418.433594 225.242188 \"/>\n",
       "<path style=\"fill:none;stroke-width:0.75;stroke-linecap:round;stroke-linejoin:round;stroke:rgb(100%,0%,0%);stroke-opacity:1;stroke-miterlimit:10;\" d=\"M 424.527344 225.242188 C 424.527344 228.839844 419.128906 228.839844 419.128906 225.242188 C 419.128906 221.640625 424.527344 221.640625 424.527344 225.242188 \"/>\n",
       "<path style=\"fill:none;stroke-width:0.75;stroke-linecap:round;stroke-linejoin:round;stroke:rgb(100%,0%,0%);stroke-opacity:1;stroke-miterlimit:10;\" d=\"M 430.625 225.242188 C 430.625 228.839844 425.222656 228.839844 425.222656 225.242188 C 425.222656 221.640625 430.625 221.640625 430.625 225.242188 \"/>\n",
       "<path style=\"fill:none;stroke-width:0.75;stroke-linecap:round;stroke-linejoin:round;stroke:rgb(100%,0%,0%);stroke-opacity:1;stroke-miterlimit:10;\" d=\"M 436.71875 225.230469 C 436.71875 228.832031 431.320312 228.832031 431.320312 225.230469 C 431.320312 221.628906 436.71875 221.628906 436.71875 225.230469 \"/>\n",
       "<path style=\"fill:none;stroke-width:0.75;stroke-linecap:round;stroke-linejoin:round;stroke:rgb(100%,0%,0%);stroke-opacity:1;stroke-miterlimit:10;\" d=\"M 442.8125 225.261719 C 442.8125 228.863281 437.414062 228.863281 437.414062 225.261719 C 437.414062 221.664062 442.8125 221.664062 442.8125 225.261719 \"/>\n",
       "<path style=\"fill:none;stroke-width:0.75;stroke-linecap:round;stroke-linejoin:round;stroke:rgb(100%,0%,0%);stroke-opacity:1;stroke-miterlimit:10;\" d=\"M 448.910156 225.246094 C 448.910156 228.847656 443.507812 228.847656 443.507812 225.246094 C 443.507812 221.644531 448.910156 221.644531 448.910156 225.246094 \"/>\n",
       "<path style=\"fill:none;stroke-width:0.75;stroke-linecap:round;stroke-linejoin:round;stroke:rgb(100%,0%,0%);stroke-opacity:1;stroke-miterlimit:10;\" d=\"M 455.003906 225.257812 C 455.003906 228.855469 449.605469 228.855469 449.605469 225.257812 C 449.605469 221.65625 455.003906 221.65625 455.003906 225.257812 \"/>\n",
       "<path style=\"fill:none;stroke-width:0.75;stroke-linecap:round;stroke-linejoin:round;stroke:rgb(100%,0%,0%);stroke-opacity:1;stroke-miterlimit:10;\" d=\"M 461.101562 230.570312 C 461.101562 234.171875 455.699219 234.171875 455.699219 230.570312 C 455.699219 226.96875 461.101562 226.96875 461.101562 230.570312 \"/>\n",
       "<path style=\"fill:none;stroke-width:0.75;stroke-linecap:round;stroke-linejoin:round;stroke:rgb(0%,0%,0%);stroke-opacity:1;stroke-miterlimit:10;\" d=\"M 68.304688 430.558594 L 434.019531 430.558594 \"/>\n",
       "<path style=\"fill:none;stroke-width:0.75;stroke-linecap:round;stroke-linejoin:round;stroke:rgb(0%,0%,0%);stroke-opacity:1;stroke-miterlimit:10;\" d=\"M 68.304688 430.558594 L 68.304688 437.761719 \"/>\n",
       "<path style=\"fill:none;stroke-width:0.75;stroke-linecap:round;stroke-linejoin:round;stroke:rgb(0%,0%,0%);stroke-opacity:1;stroke-miterlimit:10;\" d=\"M 129.257812 430.558594 L 129.257812 437.761719 \"/>\n",
       "<path style=\"fill:none;stroke-width:0.75;stroke-linecap:round;stroke-linejoin:round;stroke:rgb(0%,0%,0%);stroke-opacity:1;stroke-miterlimit:10;\" d=\"M 190.210938 430.558594 L 190.210938 437.761719 \"/>\n",
       "<path style=\"fill:none;stroke-width:0.75;stroke-linecap:round;stroke-linejoin:round;stroke:rgb(0%,0%,0%);stroke-opacity:1;stroke-miterlimit:10;\" d=\"M 251.160156 430.558594 L 251.160156 437.761719 \"/>\n",
       "<path style=\"fill:none;stroke-width:0.75;stroke-linecap:round;stroke-linejoin:round;stroke:rgb(0%,0%,0%);stroke-opacity:1;stroke-miterlimit:10;\" d=\"M 312.113281 430.558594 L 312.113281 437.761719 \"/>\n",
       "<path style=\"fill:none;stroke-width:0.75;stroke-linecap:round;stroke-linejoin:round;stroke:rgb(0%,0%,0%);stroke-opacity:1;stroke-miterlimit:10;\" d=\"M 373.066406 430.558594 L 373.066406 437.761719 \"/>\n",
       "<path style=\"fill:none;stroke-width:0.75;stroke-linecap:round;stroke-linejoin:round;stroke:rgb(0%,0%,0%);stroke-opacity:1;stroke-miterlimit:10;\" d=\"M 434.019531 430.558594 L 434.019531 437.761719 \"/>\n",
       "<g style=\"fill:rgb(0%,0%,0%);fill-opacity:1;\">\n",
       "  <use xlink:href=\"#glyph0-1\" x=\"64.96875\" y=\"456.480469\"/>\n",
       "</g>\n",
       "<g style=\"fill:rgb(0%,0%,0%);fill-opacity:1;\">\n",
       "  <use xlink:href=\"#glyph0-2\" x=\"122.585938\" y=\"456.480469\"/>\n",
       "  <use xlink:href=\"#glyph0-1\" x=\"129.259766\" y=\"456.480469\"/>\n",
       "</g>\n",
       "<g style=\"fill:rgb(0%,0%,0%);fill-opacity:1;\">\n",
       "  <use xlink:href=\"#glyph0-3\" x=\"183.539062\" y=\"456.480469\"/>\n",
       "  <use xlink:href=\"#glyph0-1\" x=\"190.212891\" y=\"456.480469\"/>\n",
       "</g>\n",
       "<g style=\"fill:rgb(0%,0%,0%);fill-opacity:1;\">\n",
       "  <use xlink:href=\"#glyph0-4\" x=\"244.488281\" y=\"456.480469\"/>\n",
       "  <use xlink:href=\"#glyph0-1\" x=\"251.162109\" y=\"456.480469\"/>\n",
       "</g>\n",
       "<g style=\"fill:rgb(0%,0%,0%);fill-opacity:1;\">\n",
       "  <use xlink:href=\"#glyph0-5\" x=\"305.441406\" y=\"456.480469\"/>\n",
       "  <use xlink:href=\"#glyph0-1\" x=\"312.115234\" y=\"456.480469\"/>\n",
       "</g>\n",
       "<g style=\"fill:rgb(0%,0%,0%);fill-opacity:1;\">\n",
       "  <use xlink:href=\"#glyph0-6\" x=\"366.394531\" y=\"456.480469\"/>\n",
       "  <use xlink:href=\"#glyph0-1\" x=\"373.068359\" y=\"456.480469\"/>\n",
       "</g>\n",
       "<g style=\"fill:rgb(0%,0%,0%);fill-opacity:1;\">\n",
       "  <use xlink:href=\"#glyph0-7\" x=\"427.347656\" y=\"456.480469\"/>\n",
       "  <use xlink:href=\"#glyph0-1\" x=\"434.021484\" y=\"456.480469\"/>\n",
       "</g>\n",
       "<path style=\"fill:none;stroke-width:0.75;stroke-linecap:round;stroke-linejoin:round;stroke:rgb(0%,0%,0%);stroke-opacity:1;stroke-miterlimit:10;\" d=\"M 59.039062 416.800781 L 59.039062 72.800781 \"/>\n",
       "<path style=\"fill:none;stroke-width:0.75;stroke-linecap:round;stroke-linejoin:round;stroke:rgb(0%,0%,0%);stroke-opacity:1;stroke-miterlimit:10;\" d=\"M 59.039062 416.800781 L 51.839844 416.800781 \"/>\n",
       "<path style=\"fill:none;stroke-width:0.75;stroke-linecap:round;stroke-linejoin:round;stroke:rgb(0%,0%,0%);stroke-opacity:1;stroke-miterlimit:10;\" d=\"M 59.039062 348 L 51.839844 348 \"/>\n",
       "<path style=\"fill:none;stroke-width:0.75;stroke-linecap:round;stroke-linejoin:round;stroke:rgb(0%,0%,0%);stroke-opacity:1;stroke-miterlimit:10;\" d=\"M 59.039062 279.199219 L 51.839844 279.199219 \"/>\n",
       "<path style=\"fill:none;stroke-width:0.75;stroke-linecap:round;stroke-linejoin:round;stroke:rgb(0%,0%,0%);stroke-opacity:1;stroke-miterlimit:10;\" d=\"M 59.039062 210.398438 L 51.839844 210.398438 \"/>\n",
       "<path style=\"fill:none;stroke-width:0.75;stroke-linecap:round;stroke-linejoin:round;stroke:rgb(0%,0%,0%);stroke-opacity:1;stroke-miterlimit:10;\" d=\"M 59.039062 141.601562 L 51.839844 141.601562 \"/>\n",
       "<path style=\"fill:none;stroke-width:0.75;stroke-linecap:round;stroke-linejoin:round;stroke:rgb(0%,0%,0%);stroke-opacity:1;stroke-miterlimit:10;\" d=\"M 59.039062 72.800781 L 51.839844 72.800781 \"/>\n",
       "<g style=\"fill:rgb(0%,0%,0%);fill-opacity:1;\">\n",
       "  <use xlink:href=\"#glyph1-1\" x=\"41.761719\" y=\"426.8125\"/>\n",
       "  <use xlink:href=\"#glyph1-2\" x=\"41.761719\" y=\"420.138672\"/>\n",
       "  <use xlink:href=\"#glyph1-2\" x=\"41.761719\" y=\"413.464844\"/>\n",
       "</g>\n",
       "<g style=\"fill:rgb(0%,0%,0%);fill-opacity:1;\">\n",
       "  <use xlink:href=\"#glyph1-3\" x=\"41.761719\" y=\"358.011719\"/>\n",
       "  <use xlink:href=\"#glyph1-2\" x=\"41.761719\" y=\"351.337891\"/>\n",
       "  <use xlink:href=\"#glyph1-2\" x=\"41.761719\" y=\"344.664062\"/>\n",
       "</g>\n",
       "<g style=\"fill:rgb(0%,0%,0%);fill-opacity:1;\">\n",
       "  <use xlink:href=\"#glyph1-4\" x=\"41.761719\" y=\"289.210938\"/>\n",
       "  <use xlink:href=\"#glyph1-2\" x=\"41.761719\" y=\"282.537109\"/>\n",
       "  <use xlink:href=\"#glyph1-2\" x=\"41.761719\" y=\"275.863281\"/>\n",
       "</g>\n",
       "<g style=\"fill:rgb(0%,0%,0%);fill-opacity:1;\">\n",
       "  <use xlink:href=\"#glyph1-5\" x=\"41.761719\" y=\"220.410156\"/>\n",
       "  <use xlink:href=\"#glyph1-2\" x=\"41.761719\" y=\"213.736328\"/>\n",
       "  <use xlink:href=\"#glyph1-2\" x=\"41.761719\" y=\"207.0625\"/>\n",
       "</g>\n",
       "<g style=\"fill:rgb(0%,0%,0%);fill-opacity:1;\">\n",
       "  <use xlink:href=\"#glyph1-6\" x=\"41.761719\" y=\"151.613281\"/>\n",
       "  <use xlink:href=\"#glyph1-2\" x=\"41.761719\" y=\"144.939453\"/>\n",
       "  <use xlink:href=\"#glyph1-2\" x=\"41.761719\" y=\"138.265625\"/>\n",
       "</g>\n",
       "<g style=\"fill:rgb(0%,0%,0%);fill-opacity:1;\">\n",
       "  <use xlink:href=\"#glyph1-7\" x=\"41.761719\" y=\"86.148438\"/>\n",
       "  <use xlink:href=\"#glyph1-2\" x=\"41.761719\" y=\"79.474609\"/>\n",
       "  <use xlink:href=\"#glyph1-2\" x=\"41.761719\" y=\"72.800781\"/>\n",
       "  <use xlink:href=\"#glyph1-2\" x=\"41.761719\" y=\"66.126953\"/>\n",
       "</g>\n",
       "<path style=\"fill:none;stroke-width:0.75;stroke-linecap:round;stroke-linejoin:round;stroke:rgb(0%,0%,0%);stroke-opacity:1;stroke-miterlimit:10;\" d=\"M 59.039062 430.558594 L 473.761719 430.558594 L 473.761719 59.039062 L 59.039062 59.039062 L 59.039062 430.558594 \"/>\n",
       "<g style=\"fill:rgb(0%,0%,0%);fill-opacity:1;\">\n",
       "  <use xlink:href=\"#glyph0-8\" x=\"251.71875\" y=\"485.28125\"/>\n",
       "  <use xlink:href=\"#glyph0-9\" x=\"255.052734\" y=\"485.28125\"/>\n",
       "  <use xlink:href=\"#glyph0-10\" x=\"261.726562\" y=\"485.28125\"/>\n",
       "  <use xlink:href=\"#glyph0-11\" x=\"268.400391\" y=\"485.28125\"/>\n",
       "  <use xlink:href=\"#glyph0-12\" x=\"275.074219\" y=\"485.28125\"/>\n",
       "</g>\n",
       "<g style=\"fill:rgb(0%,0%,0%);fill-opacity:1;\">\n",
       "  <use xlink:href=\"#glyph1-8\" x=\"12.960938\" y=\"275.148438\"/>\n",
       "  <use xlink:href=\"#glyph1-9\" x=\"12.960938\" y=\"268.474609\"/>\n",
       "  <use xlink:href=\"#glyph1-9\" x=\"12.960938\" y=\"265.808594\"/>\n",
       "  <use xlink:href=\"#glyph1-10\" x=\"12.960938\" y=\"263.142578\"/>\n",
       "  <use xlink:href=\"#glyph1-11\" x=\"12.960938\" y=\"256.46875\"/>\n",
       "  <use xlink:href=\"#glyph1-12\" x=\"12.960938\" y=\"250.46875\"/>\n",
       "  <use xlink:href=\"#glyph1-13\" x=\"12.960938\" y=\"244.46875\"/>\n",
       "  <use xlink:href=\"#glyph1-14\" x=\"12.960938\" y=\"237.794922\"/>\n",
       "  <use xlink:href=\"#glyph1-15\" x=\"12.960938\" y=\"233.798828\"/>\n",
       "  <use xlink:href=\"#glyph1-11\" x=\"12.960938\" y=\"227.125\"/>\n",
       "  <use xlink:href=\"#glyph1-7\" x=\"12.960938\" y=\"221.125\"/>\n",
       "</g>\n",
       "<path style=\"fill:none;stroke-width:0.75;stroke-linecap:round;stroke-linejoin:round;stroke:rgb(0%,0%,100%);stroke-opacity:1;stroke-miterlimit:10;\" d=\"M 77.101562 224.355469 C 77.101562 227.953125 71.699219 227.953125 71.699219 224.355469 C 71.699219 220.753906 77.101562 220.753906 77.101562 224.355469 \"/>\n",
       "<path style=\"fill:none;stroke-width:0.75;stroke-linecap:round;stroke-linejoin:round;stroke:rgb(0%,0%,100%);stroke-opacity:1;stroke-miterlimit:10;\" d=\"M 83.195312 224.390625 C 83.195312 227.992188 77.796875 227.992188 77.796875 224.390625 C 77.796875 220.789062 83.195312 220.789062 83.195312 224.390625 \"/>\n",
       "<path style=\"fill:none;stroke-width:0.75;stroke-linecap:round;stroke-linejoin:round;stroke:rgb(0%,0%,100%);stroke-opacity:1;stroke-miterlimit:10;\" d=\"M 89.289062 224.414062 C 89.289062 228.011719 83.890625 228.011719 83.890625 224.414062 C 83.890625 220.8125 89.289062 220.8125 89.289062 224.414062 \"/>\n",
       "<path style=\"fill:none;stroke-width:0.75;stroke-linecap:round;stroke-linejoin:round;stroke:rgb(0%,0%,100%);stroke-opacity:1;stroke-miterlimit:10;\" d=\"M 95.386719 224.414062 C 95.386719 228.011719 89.984375 228.011719 89.984375 224.414062 C 89.984375 220.8125 95.386719 220.8125 95.386719 224.414062 \"/>\n",
       "<path style=\"fill:none;stroke-width:0.75;stroke-linecap:round;stroke-linejoin:round;stroke:rgb(0%,0%,100%);stroke-opacity:1;stroke-miterlimit:10;\" d=\"M 101.480469 224.40625 C 101.480469 228.003906 96.082031 228.003906 96.082031 224.40625 C 96.082031 220.804688 101.480469 220.804688 101.480469 224.40625 \"/>\n",
       "<path style=\"fill:none;stroke-width:0.75;stroke-linecap:round;stroke-linejoin:round;stroke:rgb(0%,0%,100%);stroke-opacity:1;stroke-miterlimit:10;\" d=\"M 107.578125 224.472656 C 107.578125 228.074219 102.175781 228.074219 102.175781 224.472656 C 102.175781 220.871094 107.578125 220.871094 107.578125 224.472656 \"/>\n",
       "<path style=\"fill:none;stroke-width:0.75;stroke-linecap:round;stroke-linejoin:round;stroke:rgb(0%,0%,100%);stroke-opacity:1;stroke-miterlimit:10;\" d=\"M 113.671875 224.445312 C 113.671875 228.042969 108.269531 228.042969 108.269531 224.445312 C 108.269531 220.84375 113.671875 220.84375 113.671875 224.445312 \"/>\n",
       "<path style=\"fill:none;stroke-width:0.75;stroke-linecap:round;stroke-linejoin:round;stroke:rgb(0%,0%,100%);stroke-opacity:1;stroke-miterlimit:10;\" d=\"M 119.765625 224.445312 C 119.765625 228.042969 114.367188 228.042969 114.367188 224.445312 C 114.367188 220.84375 119.765625 220.84375 119.765625 224.445312 \"/>\n",
       "<path style=\"fill:none;stroke-width:0.75;stroke-linecap:round;stroke-linejoin:round;stroke:rgb(0%,0%,100%);stroke-opacity:1;stroke-miterlimit:10;\" d=\"M 125.863281 222.898438 C 125.863281 226.5 120.460938 226.5 120.460938 222.898438 C 120.460938 219.300781 125.863281 219.300781 125.863281 222.898438 \"/>\n",
       "<path style=\"fill:none;stroke-width:0.75;stroke-linecap:round;stroke-linejoin:round;stroke:rgb(0%,0%,100%);stroke-opacity:1;stroke-miterlimit:10;\" d=\"M 131.957031 222.855469 C 131.957031 226.453125 126.558594 226.453125 126.558594 222.855469 C 126.558594 219.253906 131.957031 219.253906 131.957031 222.855469 \"/>\n",
       "<path style=\"fill:none;stroke-width:0.75;stroke-linecap:round;stroke-linejoin:round;stroke:rgb(0%,0%,100%);stroke-opacity:1;stroke-miterlimit:10;\" d=\"M 138.050781 222.855469 C 138.050781 226.453125 132.652344 226.453125 132.652344 222.855469 C 132.652344 219.253906 138.050781 219.253906 138.050781 222.855469 \"/>\n",
       "<path style=\"fill:none;stroke-width:0.75;stroke-linecap:round;stroke-linejoin:round;stroke:rgb(0%,0%,100%);stroke-opacity:1;stroke-miterlimit:10;\" d=\"M 144.148438 222.859375 C 144.148438 226.457031 138.746094 226.457031 138.746094 222.859375 C 138.746094 219.257812 144.148438 219.257812 144.148438 222.859375 \"/>\n",
       "<path style=\"fill:none;stroke-width:0.75;stroke-linecap:round;stroke-linejoin:round;stroke:rgb(0%,0%,100%);stroke-opacity:1;stroke-miterlimit:10;\" d=\"M 150.242188 222.863281 C 150.242188 226.464844 144.84375 226.464844 144.84375 222.863281 C 144.84375 219.261719 150.242188 219.261719 150.242188 222.863281 \"/>\n",
       "<path style=\"fill:none;stroke-width:0.75;stroke-linecap:round;stroke-linejoin:round;stroke:rgb(0%,0%,100%);stroke-opacity:1;stroke-miterlimit:10;\" d=\"M 156.339844 222.859375 C 156.339844 226.460938 150.9375 226.460938 150.9375 222.859375 C 150.9375 219.261719 156.339844 219.261719 156.339844 222.859375 \"/>\n",
       "<path style=\"fill:none;stroke-width:0.75;stroke-linecap:round;stroke-linejoin:round;stroke:rgb(0%,0%,100%);stroke-opacity:1;stroke-miterlimit:10;\" d=\"M 162.433594 222.859375 C 162.433594 226.460938 157.035156 226.460938 157.035156 222.859375 C 157.035156 219.261719 162.433594 219.261719 162.433594 222.859375 \"/>\n",
       "<path style=\"fill:none;stroke-width:0.75;stroke-linecap:round;stroke-linejoin:round;stroke:rgb(0%,0%,100%);stroke-opacity:1;stroke-miterlimit:10;\" d=\"M 168.527344 228.214844 C 168.527344 231.816406 163.128906 231.816406 163.128906 228.214844 C 163.128906 224.613281 168.527344 224.613281 168.527344 228.214844 \"/>\n",
       "<path style=\"fill:none;stroke-width:0.75;stroke-linecap:round;stroke-linejoin:round;stroke:rgb(0%,0%,100%);stroke-opacity:1;stroke-miterlimit:10;\" d=\"M 174.625 228.195312 C 174.625 231.792969 169.222656 231.792969 169.222656 228.195312 C 169.222656 224.59375 174.625 224.59375 174.625 228.195312 \"/>\n",
       "<path style=\"fill:none;stroke-width:0.75;stroke-linecap:round;stroke-linejoin:round;stroke:rgb(0%,0%,100%);stroke-opacity:1;stroke-miterlimit:10;\" d=\"M 180.71875 228.222656 C 180.71875 231.824219 175.320312 231.824219 175.320312 228.222656 C 175.320312 224.625 180.71875 224.625 180.71875 228.222656 \"/>\n",
       "<path style=\"fill:none;stroke-width:0.75;stroke-linecap:round;stroke-linejoin:round;stroke:rgb(0%,0%,100%);stroke-opacity:1;stroke-miterlimit:10;\" d=\"M 186.8125 228.230469 C 186.8125 231.832031 181.414062 231.832031 181.414062 228.230469 C 181.414062 224.632812 186.8125 224.632812 186.8125 228.230469 \"/>\n",
       "<path style=\"fill:none;stroke-width:0.75;stroke-linecap:round;stroke-linejoin:round;stroke:rgb(0%,0%,100%);stroke-opacity:1;stroke-miterlimit:10;\" d=\"M 192.910156 228.269531 C 192.910156 231.867188 187.507812 231.867188 187.507812 228.269531 C 187.507812 224.667969 192.910156 224.667969 192.910156 228.269531 \"/>\n",
       "<path style=\"fill:none;stroke-width:0.75;stroke-linecap:round;stroke-linejoin:round;stroke:rgb(0%,0%,100%);stroke-opacity:1;stroke-miterlimit:10;\" d=\"M 199.003906 228.21875 C 199.003906 231.820312 193.605469 231.820312 193.605469 228.21875 C 193.605469 224.621094 199.003906 224.621094 199.003906 228.21875 \"/>\n",
       "<path style=\"fill:none;stroke-width:0.75;stroke-linecap:round;stroke-linejoin:round;stroke:rgb(0%,0%,100%);stroke-opacity:1;stroke-miterlimit:10;\" d=\"M 205.101562 228.234375 C 205.101562 231.835938 199.699219 231.835938 199.699219 228.234375 C 199.699219 224.636719 205.101562 224.636719 205.101562 228.234375 \"/>\n",
       "<path style=\"fill:none;stroke-width:0.75;stroke-linecap:round;stroke-linejoin:round;stroke:rgb(0%,0%,100%);stroke-opacity:1;stroke-miterlimit:10;\" d=\"M 211.195312 228.375 C 211.195312 231.972656 205.796875 231.972656 205.796875 228.375 C 205.796875 224.773438 211.195312 224.773438 211.195312 228.375 \"/>\n",
       "<path style=\"fill:none;stroke-width:0.75;stroke-linecap:round;stroke-linejoin:round;stroke:rgb(0%,0%,100%);stroke-opacity:1;stroke-miterlimit:10;\" d=\"M 217.289062 228.375 C 217.289062 231.972656 211.890625 231.972656 211.890625 228.375 C 211.890625 224.773438 217.289062 224.773438 217.289062 228.375 \"/>\n",
       "<path style=\"fill:none;stroke-width:0.75;stroke-linecap:round;stroke-linejoin:round;stroke:rgb(0%,0%,100%);stroke-opacity:1;stroke-miterlimit:10;\" d=\"M 223.386719 228.375 C 223.386719 231.976562 217.984375 231.976562 217.984375 228.375 C 217.984375 224.777344 223.386719 224.777344 223.386719 228.375 \"/>\n",
       "<path style=\"fill:none;stroke-width:0.75;stroke-linecap:round;stroke-linejoin:round;stroke:rgb(0%,0%,100%);stroke-opacity:1;stroke-miterlimit:10;\" d=\"M 229.480469 228.351562 C 229.480469 231.953125 224.082031 231.953125 224.082031 228.351562 C 224.082031 224.75 229.480469 224.75 229.480469 228.351562 \"/>\n",
       "<path style=\"fill:none;stroke-width:0.75;stroke-linecap:round;stroke-linejoin:round;stroke:rgb(0%,0%,100%);stroke-opacity:1;stroke-miterlimit:10;\" d=\"M 235.578125 228.359375 C 235.578125 231.960938 230.175781 231.960938 230.175781 228.359375 C 230.175781 224.757812 235.578125 224.757812 235.578125 228.359375 \"/>\n",
       "<path style=\"fill:none;stroke-width:0.75;stroke-linecap:round;stroke-linejoin:round;stroke:rgb(0%,0%,100%);stroke-opacity:1;stroke-miterlimit:10;\" d=\"M 241.671875 228.359375 C 241.671875 231.960938 236.269531 231.960938 236.269531 228.359375 C 236.269531 224.761719 241.671875 224.761719 241.671875 228.359375 \"/>\n",
       "<path style=\"fill:none;stroke-width:0.75;stroke-linecap:round;stroke-linejoin:round;stroke:rgb(0%,0%,100%);stroke-opacity:1;stroke-miterlimit:10;\" d=\"M 247.765625 228.363281 C 247.765625 231.964844 242.367188 231.964844 242.367188 228.363281 C 242.367188 224.765625 247.765625 224.765625 247.765625 228.363281 \"/>\n",
       "<path style=\"fill:none;stroke-width:0.75;stroke-linecap:round;stroke-linejoin:round;stroke:rgb(0%,0%,100%);stroke-opacity:1;stroke-miterlimit:10;\" d=\"M 253.863281 228.367188 C 253.863281 231.964844 248.460938 231.964844 248.460938 228.367188 C 248.460938 224.765625 253.863281 224.765625 253.863281 228.367188 \"/>\n",
       "<path style=\"fill:none;stroke-width:0.75;stroke-linecap:round;stroke-linejoin:round;stroke:rgb(0%,0%,100%);stroke-opacity:1;stroke-miterlimit:10;\" d=\"M 259.957031 228.359375 C 259.957031 231.960938 254.558594 231.960938 254.558594 228.359375 C 254.558594 224.761719 259.957031 224.761719 259.957031 228.359375 \"/>\n",
       "<path style=\"fill:none;stroke-width:0.75;stroke-linecap:round;stroke-linejoin:round;stroke:rgb(0%,0%,100%);stroke-opacity:1;stroke-miterlimit:10;\" d=\"M 266.050781 228.363281 C 266.050781 231.964844 260.652344 231.964844 260.652344 228.363281 C 260.652344 224.765625 266.050781 224.765625 266.050781 228.363281 \"/>\n",
       "<path style=\"fill:none;stroke-width:0.75;stroke-linecap:round;stroke-linejoin:round;stroke:rgb(0%,0%,100%);stroke-opacity:1;stroke-miterlimit:10;\" d=\"M 272.148438 228.480469 C 272.148438 232.078125 266.746094 232.078125 266.746094 228.480469 C 266.746094 224.878906 272.148438 224.878906 272.148438 228.480469 \"/>\n",
       "<path style=\"fill:none;stroke-width:0.75;stroke-linecap:round;stroke-linejoin:round;stroke:rgb(0%,0%,100%);stroke-opacity:1;stroke-miterlimit:10;\" d=\"M 278.242188 228.433594 C 278.242188 232.035156 272.84375 232.035156 272.84375 228.433594 C 272.84375 224.832031 278.242188 224.832031 278.242188 228.433594 \"/>\n",
       "<path style=\"fill:none;stroke-width:0.75;stroke-linecap:round;stroke-linejoin:round;stroke:rgb(0%,0%,100%);stroke-opacity:1;stroke-miterlimit:10;\" d=\"M 284.339844 228.441406 C 284.339844 232.042969 278.9375 232.042969 278.9375 228.441406 C 278.9375 224.839844 284.339844 224.839844 284.339844 228.441406 \"/>\n",
       "<path style=\"fill:none;stroke-width:0.75;stroke-linecap:round;stroke-linejoin:round;stroke:rgb(0%,0%,100%);stroke-opacity:1;stroke-miterlimit:10;\" d=\"M 290.433594 228.445312 C 290.433594 232.046875 285.035156 232.046875 285.035156 228.445312 C 285.035156 224.84375 290.433594 224.84375 290.433594 228.445312 \"/>\n",
       "<path style=\"fill:none;stroke-width:0.75;stroke-linecap:round;stroke-linejoin:round;stroke:rgb(0%,0%,100%);stroke-opacity:1;stroke-miterlimit:10;\" d=\"M 296.527344 228.574219 C 296.527344 232.171875 291.128906 232.171875 291.128906 228.574219 C 291.128906 224.972656 296.527344 224.972656 296.527344 228.574219 \"/>\n",
       "<path style=\"fill:none;stroke-width:0.75;stroke-linecap:round;stroke-linejoin:round;stroke:rgb(0%,0%,100%);stroke-opacity:1;stroke-miterlimit:10;\" d=\"M 302.625 232.125 C 302.625 235.726562 297.222656 235.726562 297.222656 232.125 C 297.222656 228.527344 302.625 228.527344 302.625 232.125 \"/>\n",
       "<path style=\"fill:none;stroke-width:0.75;stroke-linecap:round;stroke-linejoin:round;stroke:rgb(0%,0%,100%);stroke-opacity:1;stroke-miterlimit:10;\" d=\"M 308.71875 232.121094 C 308.71875 235.722656 303.320312 235.722656 303.320312 232.121094 C 303.320312 228.523438 308.71875 228.523438 308.71875 232.121094 \"/>\n",
       "<path style=\"fill:none;stroke-width:0.75;stroke-linecap:round;stroke-linejoin:round;stroke:rgb(0%,0%,100%);stroke-opacity:1;stroke-miterlimit:10;\" d=\"M 314.8125 232.132812 C 314.8125 235.734375 309.414062 235.734375 309.414062 232.132812 C 309.414062 228.535156 314.8125 228.535156 314.8125 232.132812 \"/>\n",
       "<path style=\"fill:none;stroke-width:0.75;stroke-linecap:round;stroke-linejoin:round;stroke:rgb(0%,0%,100%);stroke-opacity:1;stroke-miterlimit:10;\" d=\"M 320.910156 232.949219 C 320.910156 236.546875 315.507812 236.546875 315.507812 232.949219 C 315.507812 229.347656 320.910156 229.347656 320.910156 232.949219 \"/>\n",
       "<path style=\"fill:none;stroke-width:0.75;stroke-linecap:round;stroke-linejoin:round;stroke:rgb(0%,0%,100%);stroke-opacity:1;stroke-miterlimit:10;\" d=\"M 327.003906 233.0625 C 327.003906 236.664062 321.605469 236.664062 321.605469 233.0625 C 321.605469 229.464844 327.003906 229.464844 327.003906 233.0625 \"/>\n",
       "<path style=\"fill:none;stroke-width:0.75;stroke-linecap:round;stroke-linejoin:round;stroke:rgb(0%,0%,100%);stroke-opacity:1;stroke-miterlimit:10;\" d=\"M 333.101562 233.066406 C 333.101562 236.667969 327.699219 236.667969 327.699219 233.066406 C 327.699219 229.46875 333.101562 229.46875 333.101562 233.066406 \"/>\n",
       "<path style=\"fill:none;stroke-width:0.75;stroke-linecap:round;stroke-linejoin:round;stroke:rgb(0%,0%,100%);stroke-opacity:1;stroke-miterlimit:10;\" d=\"M 339.195312 233.089844 C 339.195312 236.6875 333.796875 236.6875 333.796875 233.089844 C 333.796875 229.488281 339.195312 229.488281 339.195312 233.089844 \"/>\n",
       "<path style=\"fill:none;stroke-width:0.75;stroke-linecap:round;stroke-linejoin:round;stroke:rgb(0%,0%,100%);stroke-opacity:1;stroke-miterlimit:10;\" d=\"M 345.289062 233.109375 C 345.289062 236.710938 339.890625 236.710938 339.890625 233.109375 C 339.890625 229.507812 345.289062 229.507812 345.289062 233.109375 \"/>\n",
       "<path style=\"fill:none;stroke-width:0.75;stroke-linecap:round;stroke-linejoin:round;stroke:rgb(0%,0%,100%);stroke-opacity:1;stroke-miterlimit:10;\" d=\"M 351.386719 233.125 C 351.386719 236.722656 345.984375 236.722656 345.984375 233.125 C 345.984375 229.523438 351.386719 229.523438 351.386719 233.125 \"/>\n",
       "<path style=\"fill:none;stroke-width:0.75;stroke-linecap:round;stroke-linejoin:round;stroke:rgb(0%,0%,100%);stroke-opacity:1;stroke-miterlimit:10;\" d=\"M 357.480469 233.121094 C 357.480469 236.71875 352.082031 236.71875 352.082031 233.121094 C 352.082031 229.519531 357.480469 229.519531 357.480469 233.121094 \"/>\n",
       "<path style=\"fill:none;stroke-width:0.75;stroke-linecap:round;stroke-linejoin:round;stroke:rgb(0%,0%,100%);stroke-opacity:1;stroke-miterlimit:10;\" d=\"M 363.578125 233.125 C 363.578125 236.722656 358.175781 236.722656 358.175781 233.125 C 358.175781 229.523438 363.578125 229.523438 363.578125 233.125 \"/>\n",
       "<path style=\"fill:none;stroke-width:0.75;stroke-linecap:round;stroke-linejoin:round;stroke:rgb(0%,0%,100%);stroke-opacity:1;stroke-miterlimit:10;\" d=\"M 369.671875 233.117188 C 369.671875 236.71875 364.269531 236.71875 364.269531 233.117188 C 364.269531 229.515625 369.671875 229.515625 369.671875 233.117188 \"/>\n",
       "<path style=\"fill:none;stroke-width:0.75;stroke-linecap:round;stroke-linejoin:round;stroke:rgb(0%,0%,100%);stroke-opacity:1;stroke-miterlimit:10;\" d=\"M 375.765625 233.15625 C 375.765625 236.753906 370.367188 236.753906 370.367188 233.15625 C 370.367188 229.554688 375.765625 229.554688 375.765625 233.15625 \"/>\n",
       "<path style=\"fill:none;stroke-width:0.75;stroke-linecap:round;stroke-linejoin:round;stroke:rgb(0%,0%,100%);stroke-opacity:1;stroke-miterlimit:10;\" d=\"M 381.863281 233.160156 C 381.863281 236.761719 376.460938 236.761719 376.460938 233.160156 C 376.460938 229.5625 381.863281 229.5625 381.863281 233.160156 \"/>\n",
       "<path style=\"fill:none;stroke-width:0.75;stroke-linecap:round;stroke-linejoin:round;stroke:rgb(0%,0%,100%);stroke-opacity:1;stroke-miterlimit:10;\" d=\"M 387.957031 233.203125 C 387.957031 236.804688 382.558594 236.804688 382.558594 233.203125 C 382.558594 229.601562 387.957031 229.601562 387.957031 233.203125 \"/>\n",
       "<path style=\"fill:none;stroke-width:0.75;stroke-linecap:round;stroke-linejoin:round;stroke:rgb(0%,0%,100%);stroke-opacity:1;stroke-miterlimit:10;\" d=\"M 394.050781 233.234375 C 394.050781 236.835938 388.652344 236.835938 388.652344 233.234375 C 388.652344 229.632812 394.050781 229.632812 394.050781 233.234375 \"/>\n",
       "<path style=\"fill:none;stroke-width:0.75;stroke-linecap:round;stroke-linejoin:round;stroke:rgb(0%,0%,100%);stroke-opacity:1;stroke-miterlimit:10;\" d=\"M 400.148438 234.332031 C 400.148438 237.933594 394.746094 237.933594 394.746094 234.332031 C 394.746094 230.730469 400.148438 230.730469 400.148438 234.332031 \"/>\n",
       "<path style=\"fill:none;stroke-width:0.75;stroke-linecap:round;stroke-linejoin:round;stroke:rgb(0%,0%,100%);stroke-opacity:1;stroke-miterlimit:10;\" d=\"M 406.242188 234.332031 C 406.242188 237.933594 400.84375 237.933594 400.84375 234.332031 C 400.84375 230.730469 406.242188 230.730469 406.242188 234.332031 \"/>\n",
       "<path style=\"fill:none;stroke-width:0.75;stroke-linecap:round;stroke-linejoin:round;stroke:rgb(0%,0%,100%);stroke-opacity:1;stroke-miterlimit:10;\" d=\"M 412.339844 234.332031 C 412.339844 237.933594 406.9375 237.933594 406.9375 234.332031 C 406.9375 230.730469 412.339844 230.730469 412.339844 234.332031 \"/>\n",
       "<path style=\"fill:none;stroke-width:0.75;stroke-linecap:round;stroke-linejoin:round;stroke:rgb(0%,0%,100%);stroke-opacity:1;stroke-miterlimit:10;\" d=\"M 418.433594 234.332031 C 418.433594 237.933594 413.035156 237.933594 413.035156 234.332031 C 413.035156 230.734375 418.433594 230.734375 418.433594 234.332031 \"/>\n",
       "<path style=\"fill:none;stroke-width:0.75;stroke-linecap:round;stroke-linejoin:round;stroke:rgb(0%,0%,100%);stroke-opacity:1;stroke-miterlimit:10;\" d=\"M 424.527344 234.332031 C 424.527344 237.933594 419.128906 237.933594 419.128906 234.332031 C 419.128906 230.734375 424.527344 230.734375 424.527344 234.332031 \"/>\n",
       "<path style=\"fill:none;stroke-width:0.75;stroke-linecap:round;stroke-linejoin:round;stroke:rgb(0%,0%,100%);stroke-opacity:1;stroke-miterlimit:10;\" d=\"M 430.625 234.332031 C 430.625 237.933594 425.222656 237.933594 425.222656 234.332031 C 425.222656 230.734375 430.625 230.734375 430.625 234.332031 \"/>\n",
       "<path style=\"fill:none;stroke-width:0.75;stroke-linecap:round;stroke-linejoin:round;stroke:rgb(0%,0%,100%);stroke-opacity:1;stroke-miterlimit:10;\" d=\"M 436.71875 234.324219 C 436.71875 237.921875 431.320312 237.921875 431.320312 234.324219 C 431.320312 230.722656 436.71875 230.722656 436.71875 234.324219 \"/>\n",
       "<path style=\"fill:none;stroke-width:0.75;stroke-linecap:round;stroke-linejoin:round;stroke:rgb(0%,0%,100%);stroke-opacity:1;stroke-miterlimit:10;\" d=\"M 442.8125 234.355469 C 442.8125 237.957031 437.414062 237.957031 437.414062 234.355469 C 437.414062 230.757812 442.8125 230.757812 442.8125 234.355469 \"/>\n",
       "<path style=\"fill:none;stroke-width:0.75;stroke-linecap:round;stroke-linejoin:round;stroke:rgb(0%,0%,100%);stroke-opacity:1;stroke-miterlimit:10;\" d=\"M 448.910156 234.34375 C 448.910156 237.941406 443.507812 237.941406 443.507812 234.34375 C 443.507812 230.742188 448.910156 230.742188 448.910156 234.34375 \"/>\n",
       "<path style=\"fill:none;stroke-width:0.75;stroke-linecap:round;stroke-linejoin:round;stroke:rgb(0%,0%,100%);stroke-opacity:1;stroke-miterlimit:10;\" d=\"M 455.003906 234.351562 C 455.003906 237.953125 449.605469 237.953125 449.605469 234.351562 C 449.605469 230.753906 455.003906 230.753906 455.003906 234.351562 \"/>\n",
       "<path style=\"fill:none;stroke-width:0.75;stroke-linecap:round;stroke-linejoin:round;stroke:rgb(0%,0%,100%);stroke-opacity:1;stroke-miterlimit:10;\" d=\"M 461.101562 239.460938 C 461.101562 243.0625 455.699219 243.0625 455.699219 239.460938 C 455.699219 235.863281 461.101562 235.863281 461.101562 239.460938 \"/>\n",
       "</g>\n",
       "</svg>\n"
      ],
      "text/plain": [
       "plot without title"
      ]
     },
     "metadata": {
      "image/svg+xml": {
       "isolated": true
      }
     },
     "output_type": "display_data"
    }
   ],
   "source": [
    "all_scores1 = unlist(sapply(liftScores_zu,function(i){i$scorePROX}))\n",
    "all_scores2 = unlist(sapply(liftScores_sgd,function(i){i$scorePROX}))\n",
    "plot(all_scores1, col = \"red\", ylim = c(500,1000))\n",
    "points(all_scores2, col = \"blue\")\n",
    "minf1 = which(all_scores==max(all_scores1))\n",
    "minf2 = which(all_scores==max(all_scores2))\n",
    "fs[minf1]"
   ]
  },
  {
   "cell_type": "code",
   "execution_count": 93,
   "metadata": {
    "collapsed": false
   },
   "outputs": [],
   "source": [
    "# load in QTL data\n",
    "qtls = read.delim(\"../data/journal.pgen.1003803.s016.TXT\",sep=\"\\t\",skip=5)\n",
    "qtls = qtls[,c(\"chrom\",\"start\",\"stop\")]\n",
    "qtls = cbind(qtls,seq(1,dim(qtls)[1]),seq(1,dim(qtls)[1]))\n",
    "# rename columns\n",
    "colnames(qtls) = c(\"chrom.x\", \"start.x\", \"end.x\", \"name\",\"commonName\")\n",
    "# add 1 to SNPs\n",
    "qtls[which(qtls$start.x==qtls$end.x),\"end.x\"] = qtls[which(qtls$start.x==qtls$end.x),\"end.x\"] + 1"
   ]
  },
  {
   "cell_type": "code",
   "execution_count": 94,
   "metadata": {
    "collapsed": false
   },
   "outputs": [],
   "source": [
    "# convert QTL data\n",
    "qtl_out = perfomLiftOver(qtls, fs[minf[1]])\n",
    "# correct SNP coord change\n",
    "qtl_out$df[which(qtl_out$df$end.x - qtl_out$df$start.x == 1),\"stop\"] = \n",
    "    qtl_out$df[which(qtl_out$df$end.x - qtl_out$df$start.x == 1),\"start\"]"
   ]
  },
  {
   "cell_type": "code",
   "execution_count": 96,
   "metadata": {
    "collapsed": false
   },
   "outputs": [
    {
     "data": {
      "text/html": [
       "<table>\n",
       "<thead><tr><th></th><th scope=col>name</th><th scope=col>chrom.x</th><th scope=col>start.x</th><th scope=col>end.x</th><th scope=col>commonName</th><th scope=col>chr</th><th scope=col>start</th><th scope=col>stop</th></tr></thead>\n",
       "<tbody>\n",
       "\t<tr><th scope=row>1</th><td>1</td><td>chr01</td><td>194689</td><td>194964</td><td>1</td><td>chr01</td><td>194695</td><td>194970</td></tr>\n",
       "\t<tr><th scope=row>2</th><td>2</td><td>chr02</td><td>164136</td><td>164249</td><td>2</td><td>chr02</td><td>164133</td><td>164246</td></tr>\n",
       "\t<tr><th scope=row>3</th><td>3</td><td>chr02</td><td>522911</td><td>552978</td><td>3</td><td>chr02</td><td>522917</td><td>552984</td></tr>\n",
       "\t<tr><th scope=row>4</th><td>4</td><td>chr02</td><td>669013</td><td>669014</td><td>4</td><td>chr02</td><td>669018</td><td>669018</td></tr>\n",
       "\t<tr><th scope=row>5</th><td>5</td><td>chr04</td><td>17940</td><td>22923</td><td>5</td><td>chr04</td><td>17940</td><td>22923</td></tr>\n",
       "\t<tr><th scope=row>6</th><td>6</td><td>chr04</td><td>1416729</td><td>1416730</td><td>6</td><td>chr04</td><td>1416738</td><td>1416738</td></tr>\n",
       "\t<tr><th scope=row>7</th><td>7</td><td>chr05</td><td>191729</td><td>192062</td><td>7</td><td>chr05</td><td>191730</td><td>192063</td></tr>\n",
       "\t<tr><th scope=row>8</th><td>8</td><td>chr05</td><td>336234</td><td>340922</td><td>8</td><td>chr05</td><td>336238</td><td>340926</td></tr>\n",
       "\t<tr><th scope=row>9</th><td>9</td><td>chr07</td><td>176331</td><td>176592</td><td>9</td><td>chr07</td><td>176325</td><td>176586</td></tr>\n",
       "\t<tr><th scope=row>10</th><td>10</td><td>chr07</td><td>809072</td><td>839419</td><td>10</td><td>chr07</td><td>809067</td><td>839414</td></tr>\n",
       "\t<tr><th scope=row>11</th><td>11</td><td>chr07</td><td>1059901</td><td>1069033</td><td>11</td><td>chr07</td><td>1059895</td><td>1069027</td></tr>\n",
       "\t<tr><th scope=row>12</th><td>12</td><td>chr09</td><td>271985</td><td>271986</td><td>12</td><td>chr09</td><td>271986</td><td>271986</td></tr>\n",
       "\t<tr><th scope=row>13</th><td>13</td><td>chr09</td><td>420934</td><td>423953</td><td>13</td><td>chr09</td><td>420937</td><td>423956</td></tr>\n",
       "\t<tr><th scope=row>14</th><td>14</td><td>chr10</td><td>67942</td><td>68549</td><td>14</td><td>chr10</td><td>67943</td><td>68550</td></tr>\n",
       "\t<tr><th scope=row>15</th><td>15</td><td>chr10</td><td>529710</td><td>529906</td><td>15</td><td>chr10</td><td>529795</td><td>529991</td></tr>\n",
       "\t<tr><th scope=row>16</th><td>16</td><td>chr10</td><td>731061</td><td>731070</td><td>16</td><td>chr10</td><td>731145</td><td>731154</td></tr>\n",
       "\t<tr><th scope=row>17</th><td>17</td><td>chr11</td><td>63715</td><td>63901</td><td>17</td><td>chr11</td><td>63714</td><td>63900</td></tr>\n",
       "\t<tr><th scope=row>18</th><td>18</td><td>chr11</td><td>231494</td><td>231495</td><td>18</td><td>chr11</td><td>231850</td><td>231850</td></tr>\n",
       "\t<tr><th scope=row>19</th><td>19</td><td>chr11</td><td>575206</td><td>575207</td><td>19</td><td>chr11</td><td>575564</td><td>575564</td></tr>\n",
       "\t<tr><th scope=row>20</th><td>20</td><td>chr12</td><td>582969</td><td>582978</td><td>20</td><td>chr12</td><td>582967</td><td>582976</td></tr>\n",
       "\t<tr><th scope=row>21</th><td>21</td><td>chr12</td><td>645025</td><td>645377</td><td>21</td><td>chr12</td><td>645023</td><td>645375</td></tr>\n",
       "\t<tr><th scope=row>22</th><td>22</td><td>chr13</td><td>26443</td><td>26444</td><td>22</td><td>chr13</td><td>26442</td><td>26442</td></tr>\n",
       "\t<tr><th scope=row>23</th><td>23</td><td>chr14</td><td>441876</td><td>491226</td><td>23</td><td>chr14</td><td>441874</td><td>491225</td></tr>\n",
       "\t<tr><th scope=row>24</th><td>24</td><td>chr15</td><td>487524</td><td>487533</td><td>24</td><td>chr15</td><td>487522</td><td>487531</td></tr>\n",
       "\t<tr><th scope=row>25</th><td>25</td><td>chr15</td><td>798654</td><td>798736</td><td>25</td><td>chr15</td><td>798653</td><td>798735</td></tr>\n",
       "\t<tr><th scope=row>26</th><td>26</td><td>chr16</td><td>723861</td><td>723872</td><td>26</td><td>chr16</td><td>723863</td><td>723874</td></tr>\n",
       "\t<tr><th scope=row>27</th><td>27</td><td>chr16</td><td>898658</td><td>898678</td><td>27</td><td>chr16</td><td>898662</td><td>898682</td></tr>\n",
       "</tbody>\n",
       "</table>\n"
      ],
      "text/latex": [
       "\\begin{tabular}{r|llllllll}\n",
       "  & name & chrom.x & start.x & end.x & commonName & chr & start & stop\\\\\n",
       "\\hline\n",
       "\t1 & 1 & chr01 & 194689 & 194964 & 1 & chr01 & 194695 & 194970\\\\\n",
       "\t2 & 2 & chr02 & 164136 & 164249 & 2 & chr02 & 164133 & 164246\\\\\n",
       "\t3 & 3 & chr02 & 522911 & 552978 & 3 & chr02 & 522917 & 552984\\\\\n",
       "\t4 & 4 & chr02 & 669013 & 669014 & 4 & chr02 & 669018 & 669018\\\\\n",
       "\t5 & 5 & chr04 & 17940 & 22923 & 5 & chr04 & 17940 & 22923\\\\\n",
       "\t6 & 6 & chr04 & 1416729 & 1416730 & 6 & chr04 & 1416738 & 1416738\\\\\n",
       "\t7 & 7 & chr05 & 191729 & 192062 & 7 & chr05 & 191730 & 192063\\\\\n",
       "\t8 & 8 & chr05 & 336234 & 340922 & 8 & chr05 & 336238 & 340926\\\\\n",
       "\t9 & 9 & chr07 & 176331 & 176592 & 9 & chr07 & 176325 & 176586\\\\\n",
       "\t10 & 10 & chr07 & 809072 & 839419 & 10 & chr07 & 809067 & 839414\\\\\n",
       "\t11 & 11 & chr07 & 1059901 & 1069033 & 11 & chr07 & 1059895 & 1069027\\\\\n",
       "\t12 & 12 & chr09 & 271985 & 271986 & 12 & chr09 & 271986 & 271986\\\\\n",
       "\t13 & 13 & chr09 & 420934 & 423953 & 13 & chr09 & 420937 & 423956\\\\\n",
       "\t14 & 14 & chr10 & 67942 & 68549 & 14 & chr10 & 67943 & 68550\\\\\n",
       "\t15 & 15 & chr10 & 529710 & 529906 & 15 & chr10 & 529795 & 529991\\\\\n",
       "\t16 & 16 & chr10 & 731061 & 731070 & 16 & chr10 & 731145 & 731154\\\\\n",
       "\t17 & 17 & chr11 & 63715 & 63901 & 17 & chr11 & 63714 & 63900\\\\\n",
       "\t18 & 18 & chr11 & 231494 & 231495 & 18 & chr11 & 231850 & 231850\\\\\n",
       "\t19 & 19 & chr11 & 575206 & 575207 & 19 & chr11 & 575564 & 575564\\\\\n",
       "\t20 & 20 & chr12 & 582969 & 582978 & 20 & chr12 & 582967 & 582976\\\\\n",
       "\t21 & 21 & chr12 & 645025 & 645377 & 21 & chr12 & 645023 & 645375\\\\\n",
       "\t22 & 22 & chr13 & 26443 & 26444 & 22 & chr13 & 26442 & 26442\\\\\n",
       "\t23 & 23 & chr14 & 441876 & 491226 & 23 & chr14 & 441874 & 491225\\\\\n",
       "\t24 & 24 & chr15 & 487524 & 487533 & 24 & chr15 & 487522 & 487531\\\\\n",
       "\t25 & 25 & chr15 & 798654 & 798736 & 25 & chr15 & 798653 & 798735\\\\\n",
       "\t26 & 26 & chr16 & 723861 & 723872 & 26 & chr16 & 723863 & 723874\\\\\n",
       "\t27 & 27 & chr16 & 898658 & 898678 & 27 & chr16 & 898662 & 898682\\\\\n",
       "\\end{tabular}\n"
      ],
      "text/plain": [
       "   name chrom.x start.x   end.x commonName   chr   start    stop\n",
       "1     1   chr01  194689  194964          1 chr01  194695  194970\n",
       "2     2   chr02  164136  164249          2 chr02  164133  164246\n",
       "3     3   chr02  522911  552978          3 chr02  522917  552984\n",
       "4     4   chr02  669013  669014          4 chr02  669018  669018\n",
       "5     5   chr04   17940   22923          5 chr04   17940   22923\n",
       "6     6   chr04 1416729 1416730          6 chr04 1416738 1416738\n",
       "7     7   chr05  191729  192062          7 chr05  191730  192063\n",
       "8     8   chr05  336234  340922          8 chr05  336238  340926\n",
       "9     9   chr07  176331  176592          9 chr07  176325  176586\n",
       "10   10   chr07  809072  839419         10 chr07  809067  839414\n",
       "11   11   chr07 1059901 1069033         11 chr07 1059895 1069027\n",
       "12   12   chr09  271985  271986         12 chr09  271986  271986\n",
       "13   13   chr09  420934  423953         13 chr09  420937  423956\n",
       "14   14   chr10   67942   68549         14 chr10   67943   68550\n",
       "15   15   chr10  529710  529906         15 chr10  529795  529991\n",
       "16   16   chr10  731061  731070         16 chr10  731145  731154\n",
       "17   17   chr11   63715   63901         17 chr11   63714   63900\n",
       "18   18   chr11  231494  231495         18 chr11  231850  231850\n",
       "19   19   chr11  575206  575207         19 chr11  575564  575564\n",
       "20   20   chr12  582969  582978         20 chr12  582967  582976\n",
       "21   21   chr12  645025  645377         21 chr12  645023  645375\n",
       "22   22   chr13   26443   26444         22 chr13   26442   26442\n",
       "23   23   chr14  441876  491226         23 chr14  441874  491225\n",
       "24   24   chr15  487524  487533         24 chr15  487522  487531\n",
       "25   25   chr15  798654  798736         25 chr15  798653  798735\n",
       "26   26   chr16  723861  723872         26 chr16  723863  723874\n",
       "27   27   chr16  898658  898678         27 chr16  898662  898682"
      ]
     },
     "execution_count": 96,
     "metadata": {},
     "output_type": "execute_result"
    }
   ],
   "source": [
    "qtl_out$df"
   ]
  }
 ],
 "metadata": {
  "kernelspec": {
   "display_name": "R",
   "language": "R",
   "name": "ir"
  },
  "language_info": {
   "codemirror_mode": "r",
   "file_extension": ".r",
   "mimetype": "text/x-r-source",
   "name": "R",
   "pygments_lexer": "r",
   "version": "3.2.3"
  }
 },
 "nbformat": 4,
 "nbformat_minor": 0
}
