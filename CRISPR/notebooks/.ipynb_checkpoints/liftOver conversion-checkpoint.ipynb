{
 "cells": [
  {
   "cell_type": "markdown",
   "metadata": {},
   "source": [
    "## Purpose: "
   ]
  },
  {
   "cell_type": "markdown",
   "metadata": {},
   "source": [
    "Find the correct genome version for Gagneur et al 2013 growthQTL. liftOver coordinates to most recent genome (V64_2011_02_03) "
   ]
  },
  {
   "cell_type": "code",
   "execution_count": 42,
   "metadata": {
    "collapsed": false
   },
   "outputs": [],
   "source": [
    "library(rtracklayer);\n",
    "library(VariantAnnotation);\n",
    "library(parallel);"
   ]
  },
  {
   "cell_type": "code",
   "execution_count": 43,
   "metadata": {
    "collapsed": false
   },
   "outputs": [],
   "source": [
    "# read in gene coordinates from Gagneur et al 2013 \n",
    "gagneur_gene_coords = read.table(\"../data/journal.pgen.1003803.s017.TXT\", sep = \"\\t\", header = T)"
   ]
  },
  {
   "cell_type": "code",
   "execution_count": 44,
   "metadata": {
    "collapsed": false,
    "scrolled": true
   },
   "outputs": [
    {
     "data": {
      "text/html": [
       "<table>\n",
       "<thead><tr><th></th><th scope=col>chrom</th><th scope=col>start</th><th scope=col>end</th><th scope=col>strand</th><th scope=col>name</th><th scope=col>commonName</th><th scope=col>type</th><th scope=col>source</th><th scope=col>novel</th></tr></thead>\n",
       "<tbody>\n",
       "\t<tr><th scope=row>1</th><td>chr01</td><td>6601</td><td>9080</td><td>+</td><td>SY_A0001W</td><td>SY_A0001W</td><td>SUT</td><td>genenv</td><td>TRUE</td></tr>\n",
       "\t<tr><th scope=row>2</th><td>chr01</td><td>9392</td><td>9954</td><td>+</td><td>SUT001</td><td>SUT001</td><td>SUT</td><td>XU09</td><td>FALSE</td></tr>\n",
       "\t<tr><th scope=row>3</th><td>chr01</td><td>11378</td><td>11715</td><td>+</td><td>SY_A0003W</td><td>SY_A0003W</td><td>SUT</td><td>genenv</td><td>TRUE</td></tr>\n",
       "\t<tr><th scope=row>4</th><td>chr01</td><td>28205</td><td>28501</td><td>+</td><td>SY_A0004W</td><td>SY_A0004W</td><td>SUT</td><td>genenv</td><td>TRUE</td></tr>\n",
       "\t<tr><th scope=row>5</th><td>chr01</td><td>29136</td><td>29934</td><td>+</td><td>SY_A0005W</td><td>SY_A0005W</td><td>SUT</td><td>genenv</td><td>TRUE</td></tr>\n",
       "\t<tr><th scope=row>6</th><td>chr01</td><td>31860</td><td>32320</td><td>+</td><td>YAL062W</td><td>GDH3</td><td>ORF-T</td><td>XU09</td><td>FALSE</td></tr>\n",
       "</tbody>\n",
       "</table>\n"
      ],
      "text/latex": [
       "\\begin{tabular}{r|lllllllll}\n",
       "  & chrom & start & end & strand & name & commonName & type & source & novel\\\\\n",
       "\\hline\n",
       "\t1 & chr01 & 6601 & 9080 & + & SY_A0001W & SY_A0001W & SUT & genenv & TRUE\\\\\n",
       "\t2 & chr01 & 9392 & 9954 & + & SUT001 & SUT001 & SUT & XU09 & FALSE\\\\\n",
       "\t3 & chr01 & 11378 & 11715 & + & SY_A0003W & SY_A0003W & SUT & genenv & TRUE\\\\\n",
       "\t4 & chr01 & 28205 & 28501 & + & SY_A0004W & SY_A0004W & SUT & genenv & TRUE\\\\\n",
       "\t5 & chr01 & 29136 & 29934 & + & SY_A0005W & SY_A0005W & SUT & genenv & TRUE\\\\\n",
       "\t6 & chr01 & 31860 & 32320 & + & YAL062W & GDH3 & ORF-T & XU09 & FALSE\\\\\n",
       "\\end{tabular}\n"
      ],
      "text/plain": [
       "  chrom start   end strand      name commonName  type source novel\n",
       "1 chr01  6601  9080      + SY_A0001W  SY_A0001W   SUT genenv  TRUE\n",
       "2 chr01  9392  9954      +    SUT001     SUT001   SUT   XU09 FALSE\n",
       "3 chr01 11378 11715      + SY_A0003W  SY_A0003W   SUT genenv  TRUE\n",
       "4 chr01 28205 28501      + SY_A0004W  SY_A0004W   SUT genenv  TRUE\n",
       "5 chr01 29136 29934      + SY_A0005W  SY_A0005W   SUT genenv  TRUE\n",
       "6 chr01 31860 32320      +   YAL062W       GDH3 ORF-T   XU09 FALSE"
      ]
     },
     "execution_count": 44,
     "metadata": {},
     "output_type": "execute_result"
    }
   ],
   "source": [
    "head(gagneur_gene_coords)"
   ]
  },
  {
   "cell_type": "code",
   "execution_count": 45,
   "metadata": {
    "collapsed": false
   },
   "outputs": [
    {
     "data": {
      "text/html": [
       "<table>\n",
       "<thead><tr><th></th><th scope=col>chrom</th><th scope=col>start</th><th scope=col>end</th><th scope=col>ID</th><th scope=col>Name</th></tr></thead>\n",
       "<tbody>\n",
       "\t<tr><th scope=row>1</th><td>chr01</td><td>10732</td><td>11140</td><td>ST3636</td><td>CUT436</td></tr>\n",
       "\t<tr><th scope=row>2</th><td>chr01</td><td>30072</td><td>30904</td><td>ST0002</td><td>CUT001</td></tr>\n",
       "\t<tr><th scope=row>3</th><td>chr01</td><td>30532</td><td>30892</td><td>ST3638</td><td>CUT437</td></tr>\n",
       "\t<tr><th scope=row>4</th><td>chr01</td><td>34380</td><td>34748</td><td>ST3641</td><td>CUT438</td></tr>\n",
       "\t<tr><th scope=row>5</th><td>chr01</td><td>35796</td><td>36348</td><td>ST3642</td><td>CUT439</td></tr>\n",
       "\t<tr><th scope=row>6</th><td>chr01</td><td>67850</td><td>67962</td><td>ST3652</td><td>CUT440</td></tr>\n",
       "</tbody>\n",
       "</table>\n"
      ],
      "text/latex": [
       "\\begin{tabular}{r|lllll}\n",
       "  & chrom & start & end & ID & Name\\\\\n",
       "\\hline\n",
       "\t1 & chr01 & 10732 & 11140 & ST3636 & CUT436\\\\\n",
       "\t2 & chr01 & 30072 & 30904 & ST0002 & CUT001\\\\\n",
       "\t3 & chr01 & 30532 & 30892 & ST3638 & CUT437\\\\\n",
       "\t4 & chr01 & 34380 & 34748 & ST3641 & CUT438\\\\\n",
       "\t5 & chr01 & 35796 & 36348 & ST3642 & CUT439\\\\\n",
       "\t6 & chr01 & 67850 & 67962 & ST3652 & CUT440\\\\\n",
       "\\end{tabular}\n"
      ],
      "text/plain": [
       "  chrom start   end     ID   Name\n",
       "1 chr01 10732 11140 ST3636 CUT436\n",
       "2 chr01 30072 30904 ST0002 CUT001\n",
       "3 chr01 30532 30892 ST3638 CUT437\n",
       "4 chr01 34380 34748 ST3641 CUT438\n",
       "5 chr01 35796 36348 ST3642 CUT439\n",
       "6 chr01 67850 67962 ST3652 CUT440"
      ]
     },
     "execution_count": 45,
     "metadata": {},
     "output_type": "execute_result"
    }
   ],
   "source": [
    "# load current gene coords\n",
    "load(\"/g/steinmetz/project/GenPhen/data/external_data/Xu_2009/txGR.rda\")\n",
    "# make into data.frame\n",
    "zu_gene_coords = data.frame(chrom=as.character(seqnames(txGR)),start=start(ranges(txGR)),\n",
    "                            end=end(ranges(txGR)),ID = mcols(txGR)$ID, Name = mcols(txGR)$Name)\n",
    "#\n",
    "# NOTE\n",
    "#\n",
    "# These gene coordinates are not consistent with SGD coords bc they are transcript boundaries\n",
    "#\n",
    "head(zu_gene_coords)"
   ]
  },
  {
   "cell_type": "code",
   "execution_count": 46,
   "metadata": {
    "collapsed": false
   },
   "outputs": [],
   "source": [
    "# load current gene coords\n",
    "sgd_gff = import.gff(\"~/Documents/git/steinmetz-lab/CRISPR/data/saccharomyces_cerevisiae.gff\")\n",
    "# sgd_gene_coords = data.frame(chrom=as.character(seqnames(sgd_gff)),start=start(ranges(sgd_gff)),\n",
    "#                             end=end(ranges(sgd_gff)), Name = mcols(sgd_gff)$Name, \n",
    "#                             Alias = mcols(sgd_gff)$Alias, gene = mcols(sgd_gff)$gene)\n",
    "\n",
    "sgd_gene_coords = data.frame(chrom=as.character(seqnames(sgd_gff)),start=start(ranges(sgd_gff)),\n",
    "    end=end(ranges(sgd_gff)), Name = mcols(sgd_gff)$Name,gene = mcols(sgd_gff)$gene)"
   ]
  },
  {
   "cell_type": "code",
   "execution_count": 47,
   "metadata": {
    "collapsed": false
   },
   "outputs": [],
   "source": [
    "# restrict both gene sets to make common reference set\n",
    "common_genes_sgd = sgd_gene_coords$gene[which(sgd_gene_coords$gene %in% gagneur_gene_coords$commonName)]\n",
    "common_genes_zu = zu_gene_coords$Name[which(zu_gene_coords$Name %in% gagneur_gene_coords$name)]\n",
    "\n",
    "# find genes that occur more than once in gagneur set\n",
    "toExclude_sgd = c(names(which(table(unlist(gagneur_gene_coords[,\"commonName\"]))>1,useNames = T)),\n",
    "              names(which(table(unlist(sgd_gene_coords[,\"gene\"]))>1,useNames = T)))\n",
    "common_genes_sgd = setdiff(common_genes_sgd,toExclude_sgd)\n",
    "toExclude_zu = c(names(which(table(unlist(gagneur_gene_coords[,\"name\"]))>1,useNames = T)),\n",
    "              names(which(table(unlist(zu_gene_coords[,\"Name\"]))>1,useNames = T)))\n",
    "common_genes_zu = setdiff(common_genes_zu,toExclude_zu)\n",
    "\n",
    "gagneur_gene_coords_zu = subset(gagneur_gene_coords, name %in% common_genes_zu)\n",
    "gagneur_gene_coords_sgd = subset(gagneur_gene_coords, commonName %in% common_genes_sgd)\n",
    "sgd_gene_coords = subset(sgd_gene_coords, gene %in% common_genes_sgd)\n",
    "zu_gene_coords = subset(zu_gene_coords, Name %in% common_genes_zu)"
   ]
  },
  {
   "cell_type": "code",
   "execution_count": 48,
   "metadata": {
    "collapsed": false
   },
   "outputs": [
    {
     "data": {
      "text/html": [
       "<ol class=list-inline>\n",
       "\t<li>5853</li>\n",
       "\t<li>9</li>\n",
       "</ol>\n"
      ],
      "text/latex": [
       "\\begin{enumerate*}\n",
       "\\item 5853\n",
       "\\item 9\n",
       "\\end{enumerate*}\n"
      ],
      "text/markdown": [
       "1. 5853\n",
       "2. 9\n",
       "\n",
       "\n"
      ],
      "text/plain": [
       "[1] 5853    9"
      ]
     },
     "execution_count": 48,
     "metadata": {},
     "output_type": "execute_result"
    },
    {
     "data": {
      "text/html": [
       "<ol class=list-inline>\n",
       "\t<li>5853</li>\n",
       "\t<li>5</li>\n",
       "</ol>\n"
      ],
      "text/latex": [
       "\\begin{enumerate*}\n",
       "\\item 5853\n",
       "\\item 5\n",
       "\\end{enumerate*}\n"
      ],
      "text/markdown": [
       "1. 5853\n",
       "2. 5\n",
       "\n",
       "\n"
      ],
      "text/plain": [
       "[1] 5853    5"
      ]
     },
     "execution_count": 48,
     "metadata": {},
     "output_type": "execute_result"
    },
    {
     "data": {
      "text/html": [
       "<ol class=list-inline>\n",
       "\t<li>4570</li>\n",
       "\t<li>9</li>\n",
       "</ol>\n"
      ],
      "text/latex": [
       "\\begin{enumerate*}\n",
       "\\item 4570\n",
       "\\item 9\n",
       "\\end{enumerate*}\n"
      ],
      "text/markdown": [
       "1. 4570\n",
       "2. 9\n",
       "\n",
       "\n"
      ],
      "text/plain": [
       "[1] 4570    9"
      ]
     },
     "execution_count": 48,
     "metadata": {},
     "output_type": "execute_result"
    },
    {
     "data": {
      "text/html": [
       "<ol class=list-inline>\n",
       "\t<li>4570</li>\n",
       "\t<li>5</li>\n",
       "</ol>\n"
      ],
      "text/latex": [
       "\\begin{enumerate*}\n",
       "\\item 4570\n",
       "\\item 5\n",
       "\\end{enumerate*}\n"
      ],
      "text/markdown": [
       "1. 4570\n",
       "2. 5\n",
       "\n",
       "\n"
      ],
      "text/plain": [
       "[1] 4570    5"
      ]
     },
     "execution_count": 48,
     "metadata": {},
     "output_type": "execute_result"
    }
   ],
   "source": [
    "dim(gagneur_gene_coords_zu)\n",
    "dim(zu_gene_coords)\n",
    "dim(gagneur_gene_coords_sgd)\n",
    "dim(sgd_gene_coords)"
   ]
  },
  {
   "cell_type": "code",
   "execution_count": 49,
   "metadata": {
    "collapsed": false
   },
   "outputs": [],
   "source": [
    "# combine gene coords\n",
    "combined_gene_coords_sgd = merge(gagneur_gene_coords, sgd_gene_coords, by.x = \"commonName\", by.y = \"gene\")\n",
    "combined_gene_coords_zu = merge(gagneur_gene_coords, zu_gene_coords, by.x = \"name\", by.y = \"Name\")"
   ]
  },
  {
   "cell_type": "code",
   "execution_count": 50,
   "metadata": {
    "collapsed": false
   },
   "outputs": [
    {
     "data": {
      "text/html": [
       "<table>\n",
       "<thead><tr><th></th><th scope=col>name</th><th scope=col>chrom.x</th><th scope=col>start.x</th><th scope=col>end.x</th><th scope=col>strand</th><th scope=col>commonName</th><th scope=col>type</th><th scope=col>source</th><th scope=col>novel</th><th scope=col>chrom.y</th><th scope=col>start.y</th><th scope=col>end.y</th><th scope=col>ID</th></tr></thead>\n",
       "<tbody>\n",
       "\t<tr><th scope=row>1</th><td>CUT006</td><td>chr02</td><td>96596</td><td>98332</td><td>+</td><td>CUT006</td><td>CUT</td><td>XU09</td><td>FALSE</td><td>chr02</td><td>96352</td><td>96568</td><td>ST0064</td></tr>\n",
       "\t<tr><th scope=row>2</th><td>CUT014</td><td>chr02</td><td>324730</td><td>325644</td><td>+</td><td>CUT014</td><td>CUT</td><td>XU09</td><td>FALSE</td><td>chr02</td><td>324513</td><td>325361</td><td>ST0128</td></tr>\n",
       "\t<tr><th scope=row>3</th><td>CUT016</td><td>chr02</td><td>339934</td><td>341200</td><td>+</td><td>CUT016</td><td>CUT</td><td>XU09</td><td>FALSE</td><td>chr02</td><td>339602</td><td>339946</td><td>ST0132</td></tr>\n",
       "\t<tr><th scope=row>4</th><td>CUT023</td><td>chr02</td><td>381736</td><td>382288</td><td>+</td><td>CUT023</td><td>CUT</td><td>XU09</td><td>FALSE</td><td>chr02</td><td>381378</td><td>381642</td><td>ST0146</td></tr>\n",
       "\t<tr><th scope=row>5</th><td>CUT025</td><td>chr02</td><td>436333</td><td>438133</td><td>+</td><td>CUT025</td><td>CUT</td><td>XU09</td><td>FALSE</td><td>chr02</td><td>429669</td><td>431781</td><td>ST0156</td></tr>\n",
       "\t<tr><th scope=row>6</th><td>CUT027</td><td>chr02</td><td>499590</td><td>500238</td><td>+</td><td>CUT027</td><td>CUT</td><td>XU09</td><td>FALSE</td><td>chr02</td><td>493094</td><td>493686</td><td>ST0174</td></tr>\n",
       "</tbody>\n",
       "</table>\n"
      ],
      "text/latex": [
       "\\begin{tabular}{r|lllllllllllll}\n",
       "  & name & chrom.x & start.x & end.x & strand & commonName & type & source & novel & chrom.y & start.y & end.y & ID\\\\\n",
       "\\hline\n",
       "\t1 & CUT006 & chr02 & 96596 & 98332 & + & CUT006 & CUT & XU09 & FALSE & chr02 & 96352 & 96568 & ST0064\\\\\n",
       "\t2 & CUT014 & chr02 & 324730 & 325644 & + & CUT014 & CUT & XU09 & FALSE & chr02 & 324513 & 325361 & ST0128\\\\\n",
       "\t3 & CUT016 & chr02 & 339934 & 341200 & + & CUT016 & CUT & XU09 & FALSE & chr02 & 339602 & 339946 & ST0132\\\\\n",
       "\t4 & CUT023 & chr02 & 381736 & 382288 & + & CUT023 & CUT & XU09 & FALSE & chr02 & 381378 & 381642 & ST0146\\\\\n",
       "\t5 & CUT025 & chr02 & 436333 & 438133 & + & CUT025 & CUT & XU09 & FALSE & chr02 & 429669 & 431781 & ST0156\\\\\n",
       "\t6 & CUT027 & chr02 & 499590 & 500238 & + & CUT027 & CUT & XU09 & FALSE & chr02 & 493094 & 493686 & ST0174\\\\\n",
       "\\end{tabular}\n"
      ],
      "text/plain": [
       "    name chrom.x start.x  end.x strand commonName type source novel chrom.y\n",
       "1 CUT006   chr02   96596  98332      +     CUT006  CUT   XU09 FALSE   chr02\n",
       "2 CUT014   chr02  324730 325644      +     CUT014  CUT   XU09 FALSE   chr02\n",
       "3 CUT016   chr02  339934 341200      +     CUT016  CUT   XU09 FALSE   chr02\n",
       "4 CUT023   chr02  381736 382288      +     CUT023  CUT   XU09 FALSE   chr02\n",
       "5 CUT025   chr02  436333 438133      +     CUT025  CUT   XU09 FALSE   chr02\n",
       "6 CUT027   chr02  499590 500238      +     CUT027  CUT   XU09 FALSE   chr02\n",
       "  start.y  end.y     ID\n",
       "1   96352  96568 ST0064\n",
       "2  324513 325361 ST0128\n",
       "3  339602 339946 ST0132\n",
       "4  381378 381642 ST0146\n",
       "5  429669 431781 ST0156\n",
       "6  493094 493686 ST0174"
      ]
     },
     "execution_count": 50,
     "metadata": {},
     "output_type": "execute_result"
    }
   ],
   "source": [
    "head(combined_gene_coords_zu)"
   ]
  },
  {
   "cell_type": "code",
   "execution_count": 51,
   "metadata": {
    "collapsed": false
   },
   "outputs": [
    {
     "data": {
      "text/html": [
       "<ol class=list-inline>\n",
       "\t<li>'/Users/brooks/Documents/steinmetz_local/yeast/genomes/liftover/V01_1996_07_31_V64_2011_02_03.over.chain'</li>\n",
       "\t<li>'/Users/brooks/Documents/steinmetz_local/yeast/genomes/liftover/V02_1997_07_27_V64_2011_02_03.over.chain'</li>\n",
       "\t<li>'/Users/brooks/Documents/steinmetz_local/yeast/genomes/liftover/V03_1997_07_30_V64_2011_02_03.over.chain'</li>\n",
       "\t<li>'/Users/brooks/Documents/steinmetz_local/yeast/genomes/liftover/V04_1997_08_11_V64_2011_02_03.over.chain'</li>\n",
       "\t<li>'/Users/brooks/Documents/steinmetz_local/yeast/genomes/liftover/V05_1998_05_21_V64_2011_02_03.over.chain'</li>\n",
       "\t<li>'/Users/brooks/Documents/steinmetz_local/yeast/genomes/liftover/V06_1998_09_13_V64_2011_02_03.over.chain'</li>\n",
       "</ol>\n"
      ],
      "text/latex": [
       "\\begin{enumerate*}\n",
       "\\item '/Users/brooks/Documents/steinmetz_local/yeast/genomes/liftover/V01_1996_07_31_V64_2011_02_03.over.chain'\n",
       "\\item '/Users/brooks/Documents/steinmetz_local/yeast/genomes/liftover/V02_1997_07_27_V64_2011_02_03.over.chain'\n",
       "\\item '/Users/brooks/Documents/steinmetz_local/yeast/genomes/liftover/V03_1997_07_30_V64_2011_02_03.over.chain'\n",
       "\\item '/Users/brooks/Documents/steinmetz_local/yeast/genomes/liftover/V04_1997_08_11_V64_2011_02_03.over.chain'\n",
       "\\item '/Users/brooks/Documents/steinmetz_local/yeast/genomes/liftover/V05_1998_05_21_V64_2011_02_03.over.chain'\n",
       "\\item '/Users/brooks/Documents/steinmetz_local/yeast/genomes/liftover/V06_1998_09_13_V64_2011_02_03.over.chain'\n",
       "\\end{enumerate*}\n"
      ],
      "text/markdown": [
       "1. '/Users/brooks/Documents/steinmetz_local/yeast/genomes/liftover/V01_1996_07_31_V64_2011_02_03.over.chain'\n",
       "2. '/Users/brooks/Documents/steinmetz_local/yeast/genomes/liftover/V02_1997_07_27_V64_2011_02_03.over.chain'\n",
       "3. '/Users/brooks/Documents/steinmetz_local/yeast/genomes/liftover/V03_1997_07_30_V64_2011_02_03.over.chain'\n",
       "4. '/Users/brooks/Documents/steinmetz_local/yeast/genomes/liftover/V04_1997_08_11_V64_2011_02_03.over.chain'\n",
       "5. '/Users/brooks/Documents/steinmetz_local/yeast/genomes/liftover/V05_1998_05_21_V64_2011_02_03.over.chain'\n",
       "6. '/Users/brooks/Documents/steinmetz_local/yeast/genomes/liftover/V06_1998_09_13_V64_2011_02_03.over.chain'\n",
       "\n",
       "\n"
      ],
      "text/plain": [
       "[1] \"/Users/brooks/Documents/steinmetz_local/yeast/genomes/liftover/V01_1996_07_31_V64_2011_02_03.over.chain\"\n",
       "[2] \"/Users/brooks/Documents/steinmetz_local/yeast/genomes/liftover/V02_1997_07_27_V64_2011_02_03.over.chain\"\n",
       "[3] \"/Users/brooks/Documents/steinmetz_local/yeast/genomes/liftover/V03_1997_07_30_V64_2011_02_03.over.chain\"\n",
       "[4] \"/Users/brooks/Documents/steinmetz_local/yeast/genomes/liftover/V04_1997_08_11_V64_2011_02_03.over.chain\"\n",
       "[5] \"/Users/brooks/Documents/steinmetz_local/yeast/genomes/liftover/V05_1998_05_21_V64_2011_02_03.over.chain\"\n",
       "[6] \"/Users/brooks/Documents/steinmetz_local/yeast/genomes/liftover/V06_1998_09_13_V64_2011_02_03.over.chain\""
      ]
     },
     "execution_count": 51,
     "metadata": {},
     "output_type": "execute_result"
    }
   ],
   "source": [
    "fs = system(\"ls -d -1 ~/Documents/steinmetz_local/yeast/genomes/liftover/*.chain\", inter = T)\n",
    "head(fs)"
   ]
  },
  {
   "cell_type": "markdown",
   "metadata": {},
   "source": [
    "The liftOver chain files from SGD have this realy annoying feature that the chromosomes within each file AND between every chromosome within a file have different names. Each chromosme has a weird data extension to its name - but it's impossible to predict what the extension will be. This sucks b/c liftOver will not map if the chr name isn't correct. \n",
    "\n",
    "To solve the problem I will go through each chain file and remove the trailing date from the chr name. "
   ]
  },
  {
   "cell_type": "code",
   "execution_count": 52,
   "metadata": {
    "collapsed": false
   },
   "outputs": [],
   "source": [
    "# rename all chrs names within all chain files\n",
    "# for (i in fs) {\n",
    "#     fin = readLines(i)\n",
    "#     for (x in seq(1,length(fin))) {\n",
    "#         if (grepl(\"^chain\",fin[x])) {\n",
    "#             ls = strsplit(fin[x],split = \" \")[[1]]\n",
    "#             ls[3] = strsplit(ls[3],split=\"_\")[[1]][1]\n",
    "#             ls[8] = strsplit(ls[8],split=\"_\")[[1]][1]\n",
    "#             fin[x] = paste(ls,collapse=\" \")\n",
    "#         }\n",
    "#     }\n",
    "#     writeLines(fin,con = i,sep = \"\\n\")\n",
    "# }\n",
    "# DONE AB 2/23/2016. Shouldn't be a problem anymore"
   ]
  },
  {
   "cell_type": "code",
   "execution_count": 53,
   "metadata": {
    "collapsed": false
   },
   "outputs": [],
   "source": [
    "perfomLiftOver = function(combined_df, chain) {\n",
    "    # expects df to include three columns, chrom, start, end, name, commonName\n",
    "    # chrom.x, start.x, end.x should correspond to input coords (coords to liftOver)\n",
    "    \n",
    "    # open chain file to see what the name of chrs should be\n",
    "    # assumes these names are in the 3rd line, positions 3 and 8\n",
    "    chainData = strsplit(readLines(chain)[3], split = \" \")[[1]]\n",
    "    chr1 = paste(strsplit(chainData[3], split = \"_\")[[1]][-1], collapse = \"_\")\n",
    "    chr1_format = gsub(\"^chr\",\"\",strsplit(chainData[3], split = \"_\")[[1]][1])\n",
    "    if (length(grep(\"[0-9]\",chr1_format)) == 0) {\n",
    "        chr1_isroman = T\n",
    "    } else {\n",
    "        chr1_isroman = F\n",
    "    }\n",
    "    chr2 = paste(strsplit(chainData[8], split = \"_\")[[1]][-1], collapse = \"_\")\n",
    "    chr2_format = gsub(\"^chr\",\"\",strsplit(chainData[8], split = \"_\")[[1]][1])\n",
    "    if (length(grep(\"[0-9]\",chr2_format)) == 0) {\n",
    "        chr2_isroman = T\n",
    "    } else {\n",
    "        chr2_isroman = F\n",
    "    }\n",
    "    # modify chr1 names\n",
    "    if (chr1_isroman == F) {\n",
    "        if (length(chr1)>0) {\n",
    "            tmp_chr_names = paste(combined_df[,\"chrom.x\"], chr1, sep = \"_\")\n",
    "        } else {\n",
    "            tmp_chr_name = combined_df[,\"chrom.x\"]\n",
    "        }\n",
    "        \n",
    "    } else {\n",
    "        # convert to roman \n",
    "        tmp_chr_names = sapply(gsub(\"^chr\", \"\", combined_df[,\"chrom.x\"]),\n",
    "                               function(i){paste(\"chr\", as.roman(i), sep = \"\")})\n",
    "    }\n",
    "    # need write permission is current dir\n",
    "    write.table(cbind(tmp_chr_names,combined_df[,c(\"start.x\",\"end.x\",\"name\")]), \n",
    "                file=\"tmp_input.bed\",quote = F,row.names = F,col.names = F,sep = \" \")\n",
    "    # run liftOver\n",
    "    system(paste(\"liftOver tmp_input.bed\", chain, \"tmp_output.bed tmp_unlifted.bed\",sep=\" \"))\n",
    "    # read liftOver\n",
    "    lift_coords = read.table(\"tmp_output.bed\", sep = \"\\t\", header = F)\n",
    "    colnames(lift_coords) = c(\"chr\",\"start\",\"stop\",\"gene\")\n",
    "    combined_df_2 = merge(combined_df, lift_coords, by.x = \"commonName\", by.y = \"gene\")\n",
    "    # merge with combined_df1\n",
    "    combined_df_2 = merge(combined_df, lift_coords, by.x = \"name\", by.y = \"gene\")\n",
    "    score1 = (sum(combined_df_2$start.y == combined_df_2$start) \n",
    "             + sum(combined_df_2$stop.y == combined_df_2$stop))/(dim(combined_df_2)[1]*2)\n",
    "    score2 = (sum(abs(combined_df_2$start.y - combined_df_2$start)) \n",
    "             + sum(abs(combined_df_2$stop.y - combined_df_2$stop)))/(dim(combined_df_2)[1]*2)\n",
    "    o = list()\n",
    "    o$scoreABS = score1\n",
    "    o$scorePROX = score2\n",
    "    o$df = combined_df_2\n",
    "    return(o)\n",
    "}"
   ]
  },
  {
   "cell_type": "code",
   "execution_count": 55,
   "metadata": {
    "collapsed": false
   },
   "outputs": [
    {
     "ename": "ERROR",
     "evalue": "Error in read.table(\"tmp_output.bed\", sep = \"\\t\", header = F): no lines available in input\n",
     "output_type": "error",
     "traceback": [
      "Error in read.table(\"tmp_output.bed\", sep = \"\\t\", header = F): no lines available in input\n"
     ]
    },
    {
     "ename": "ERROR",
     "evalue": "Error in names(liftScores_sgd) = fs: object 'liftScores_sgd' not found\n",
     "output_type": "error",
     "traceback": [
      "Error in names(liftScores_sgd) = fs: object 'liftScores_sgd' not found\n"
     ]
    },
    {
     "ename": "ERROR",
     "evalue": "Error in read.table(\"tmp_output.bed\", sep = \"\\t\", header = F): no lines available in input\n",
     "output_type": "error",
     "traceback": [
      "Error in read.table(\"tmp_output.bed\", sep = \"\\t\", header = F): no lines available in input\n"
     ]
    },
    {
     "ename": "ERROR",
     "evalue": "Error in names(liftScores_zu) = fs: object 'liftScores_zu' not found\n",
     "output_type": "error",
     "traceback": [
      "Error in names(liftScores_zu) = fs: object 'liftScores_zu' not found\n"
     ]
    }
   ],
   "source": [
    "liftScores_sgd = lapply(fs,function(i){\n",
    "    perfomLiftOver(combined_gene_coords_sgd,i)\n",
    "})\n",
    "names(liftScores_sgd) = fs\n",
    "liftScores_zu = lapply(fs,function(i){\n",
    "    perfomLiftOver(combined_gene_coords_zu,i)\n",
    "})\n",
    "names(liftScores_zu) = fs"
   ]
  },
  {
   "cell_type": "code",
   "execution_count": 444,
   "metadata": {
    "collapsed": false,
    "scrolled": false
   },
   "outputs": [
    {
     "data": {
      "text/html": [
       "'/Users/brooks/Documents/steinmetz_local/yeast/genomes/liftover/V54_2006_10_06_V64_2011_02_03.over.chain'"
      ],
      "text/latex": [
       "'/Users/brooks/Documents/steinmetz_local/yeast/genomes/liftover/V54_2006_10_06_V64_2011_02_03.over.chain'"
      ],
      "text/markdown": [
       "'/Users/brooks/Documents/steinmetz_local/yeast/genomes/liftover/V54_2006_10_06_V64_2011_02_03.over.chain'"
      ],
      "text/plain": [
       "[1] \"/Users/brooks/Documents/steinmetz_local/yeast/genomes/liftover/V54_2006_10_06_V64_2011_02_03.over.chain\""
      ]
     },
     "execution_count": 444,
     "metadata": {},
     "output_type": "execute_result"
    }
   ],
   "source": [
    "all_scores = unlist(sapply(liftScores_zu,function(i){i$scorePROX}))\n",
    "minf = which(all_scores==min(all_scores))\n",
    "fs[minf+1]"
   ]
  },
  {
   "cell_type": "code",
   "execution_count": 445,
   "metadata": {
    "collapsed": false
   },
   "outputs": [],
   "source": [
    "# load in QTL data\n",
    "qtls = read.delim(\"../data/journal.pgen.1003803.s016.TXT\",sep=\"\\t\",skip=5)\n",
    "qtls = qtls[,c(\"chrom\",\"start\",\"stop\")]\n",
    "qtls = cbind(qtls,paste(\"QTL\",seq(1,dim(qtls)[1]), sep = \"_\"),paste(\"QTL\",seq(1,dim(qtls)[1]), sep = \"_\"))\n",
    "# rename columns\n",
    "colnames(qtls) = c(\"chrom.x\", \"start.x\", \"end.x\", \"name\",\"commonName\")"
   ]
  },
  {
   "cell_type": "code",
   "execution_count": 465,
   "metadata": {
    "collapsed": false
   },
   "outputs": [],
   "source": [
    "# convert QTL data\n",
    "#qtl_out = perfomLiftOver(qtls, fs[minf])\n",
    "qtl_out = perfomLiftOver(combined_gene_coords_zu, fs[minf])"
   ]
  },
  {
   "cell_type": "code",
   "execution_count": 463,
   "metadata": {
    "collapsed": false
   },
   "outputs": [
    {
     "data": {
      "text/html": [
       "<ol class=list-inline>\n",
       "\t<li>4</li>\n",
       "\t<li>8</li>\n",
       "</ol>\n"
      ],
      "text/latex": [
       "\\begin{enumerate*}\n",
       "\\item 4\n",
       "\\item 8\n",
       "\\end{enumerate*}\n"
      ],
      "text/markdown": [
       "1. 4\n",
       "2. 8\n",
       "\n",
       "\n"
      ],
      "text/plain": [
       "[1] 4 8"
      ]
     },
     "execution_count": 463,
     "metadata": {},
     "output_type": "execute_result"
    },
    {
     "data": {
      "text/html": [
       "<table>\n",
       "<thead><tr><th></th><th scope=col>name</th><th scope=col>chrom.x</th><th scope=col>start.x</th><th scope=col>end.x</th><th scope=col>commonName</th><th scope=col>chr</th><th scope=col>start</th><th scope=col>stop</th></tr></thead>\n",
       "<tbody>\n",
       "\t<tr><th scope=row>1</th><td>QTL_1</td><td>chr01</td><td>194689</td><td>194964</td><td>QTL_1</td><td>chr01_2011_02_03</td><td>194695</td><td>194970</td></tr>\n",
       "\t<tr><th scope=row>2</th><td>QTL_14</td><td>chr10</td><td>67942</td><td>68549</td><td>QTL_14</td><td>chr10_2011_02_03</td><td>67943</td><td>68550</td></tr>\n",
       "\t<tr><th scope=row>3</th><td>QTL_15</td><td>chr10</td><td>529710</td><td>529906</td><td>QTL_15</td><td>chr10_2011_02_03</td><td>529795</td><td>529991</td></tr>\n",
       "\t<tr><th scope=row>4</th><td>QTL_16</td><td>chr10</td><td>731061</td><td>731070</td><td>QTL_16</td><td>chr10_2011_02_03</td><td>731145</td><td>731154</td></tr>\n",
       "</tbody>\n",
       "</table>\n"
      ],
      "text/latex": [
       "\\begin{tabular}{r|llllllll}\n",
       "  & name & chrom.x & start.x & end.x & commonName & chr & start & stop\\\\\n",
       "\\hline\n",
       "\t1 & QTL_1 & chr01 & 194689 & 194964 & QTL_1 & chr01_2011_02_03 & 194695 & 194970\\\\\n",
       "\t2 & QTL_14 & chr10 & 67942 & 68549 & QTL_14 & chr10_2011_02_03 & 67943 & 68550\\\\\n",
       "\t3 & QTL_15 & chr10 & 529710 & 529906 & QTL_15 & chr10_2011_02_03 & 529795 & 529991\\\\\n",
       "\t4 & QTL_16 & chr10 & 731061 & 731070 & QTL_16 & chr10_2011_02_03 & 731145 & 731154\\\\\n",
       "\\end{tabular}\n"
      ],
      "text/plain": [
       "    name chrom.x start.x  end.x commonName              chr  start   stop\n",
       "1  QTL_1   chr01  194689 194964      QTL_1 chr01_2011_02_03 194695 194970\n",
       "2 QTL_14   chr10   67942  68549     QTL_14 chr10_2011_02_03  67943  68550\n",
       "3 QTL_15   chr10  529710 529906     QTL_15 chr10_2011_02_03 529795 529991\n",
       "4 QTL_16   chr10  731061 731070     QTL_16 chr10_2011_02_03 731145 731154"
      ]
     },
     "execution_count": 463,
     "metadata": {},
     "output_type": "execute_result"
    }
   ],
   "source": [
    "#qtl_out$df[order(qtl_out$df$name),]\n",
    "dim(qtl_out$df)\n",
    "qtl_out$df"
   ]
  },
  {
   "cell_type": "code",
   "execution_count": 460,
   "metadata": {
    "collapsed": false
   },
   "outputs": [
    {
     "data": {
      "text/html": [
       "<table>\n",
       "<thead><tr><th></th><th scope=col>chrom.x</th><th scope=col>start.x</th><th scope=col>end.x</th><th scope=col>name</th><th scope=col>commonName</th></tr></thead>\n",
       "<tbody>\n",
       "\t<tr><th scope=row>1</th><td>chr01</td><td>194689</td><td>194964</td><td>QTL_1</td><td>QTL_1</td></tr>\n",
       "\t<tr><th scope=row>2</th><td>chr02</td><td>164136</td><td>164249</td><td>QTL_2</td><td>QTL_2</td></tr>\n",
       "\t<tr><th scope=row>3</th><td>chr02</td><td>522911</td><td>552978</td><td>QTL_3</td><td>QTL_3</td></tr>\n",
       "\t<tr><th scope=row>4</th><td>chr02</td><td>669013</td><td>669013</td><td>QTL_4</td><td>QTL_4</td></tr>\n",
       "\t<tr><th scope=row>5</th><td>chr04</td><td>17940</td><td>22923</td><td>QTL_5</td><td>QTL_5</td></tr>\n",
       "\t<tr><th scope=row>6</th><td>chr04</td><td>1416729</td><td>1416729</td><td>QTL_6</td><td>QTL_6</td></tr>\n",
       "\t<tr><th scope=row>7</th><td>chr05</td><td>191729</td><td>192062</td><td>QTL_7</td><td>QTL_7</td></tr>\n",
       "\t<tr><th scope=row>8</th><td>chr05</td><td>336234</td><td>340922</td><td>QTL_8</td><td>QTL_8</td></tr>\n",
       "\t<tr><th scope=row>9</th><td>chr07</td><td>176331</td><td>176592</td><td>QTL_9</td><td>QTL_9</td></tr>\n",
       "\t<tr><th scope=row>10</th><td>chr07</td><td>809072</td><td>839419</td><td>QTL_10</td><td>QTL_10</td></tr>\n",
       "\t<tr><th scope=row>11</th><td>chr07</td><td>1059901</td><td>1069033</td><td>QTL_11</td><td>QTL_11</td></tr>\n",
       "\t<tr><th scope=row>12</th><td>chr09</td><td>271985</td><td>271985</td><td>QTL_12</td><td>QTL_12</td></tr>\n",
       "\t<tr><th scope=row>13</th><td>chr09</td><td>420934</td><td>423953</td><td>QTL_13</td><td>QTL_13</td></tr>\n",
       "\t<tr><th scope=row>14</th><td>chr10</td><td>67942</td><td>68549</td><td>QTL_14</td><td>QTL_14</td></tr>\n",
       "\t<tr><th scope=row>15</th><td>chr10</td><td>529710</td><td>529906</td><td>QTL_15</td><td>QTL_15</td></tr>\n",
       "\t<tr><th scope=row>16</th><td>chr10</td><td>731061</td><td>731070</td><td>QTL_16</td><td>QTL_16</td></tr>\n",
       "\t<tr><th scope=row>17</th><td>chr11</td><td>63715</td><td>63901</td><td>QTL_17</td><td>QTL_17</td></tr>\n",
       "\t<tr><th scope=row>18</th><td>chr11</td><td>231494</td><td>231494</td><td>QTL_18</td><td>QTL_18</td></tr>\n",
       "\t<tr><th scope=row>19</th><td>chr11</td><td>575206</td><td>575206</td><td>QTL_19</td><td>QTL_19</td></tr>\n",
       "\t<tr><th scope=row>20</th><td>chr12</td><td>582969</td><td>582978</td><td>QTL_20</td><td>QTL_20</td></tr>\n",
       "\t<tr><th scope=row>21</th><td>chr12</td><td>645025</td><td>645377</td><td>QTL_21</td><td>QTL_21</td></tr>\n",
       "\t<tr><th scope=row>22</th><td>chr13</td><td>26443</td><td>26443</td><td>QTL_22</td><td>QTL_22</td></tr>\n",
       "\t<tr><th scope=row>23</th><td>chr14</td><td>441876</td><td>491226</td><td>QTL_23</td><td>QTL_23</td></tr>\n",
       "\t<tr><th scope=row>24</th><td>chr15</td><td>487524</td><td>487533</td><td>QTL_24</td><td>QTL_24</td></tr>\n",
       "\t<tr><th scope=row>25</th><td>chr15</td><td>798654</td><td>798736</td><td>QTL_25</td><td>QTL_25</td></tr>\n",
       "\t<tr><th scope=row>26</th><td>chr16</td><td>723861</td><td>723872</td><td>QTL_26</td><td>QTL_26</td></tr>\n",
       "\t<tr><th scope=row>27</th><td>chr16</td><td>898658</td><td>898678</td><td>QTL_27</td><td>QTL_27</td></tr>\n",
       "</tbody>\n",
       "</table>\n"
      ],
      "text/latex": [
       "\\begin{tabular}{r|lllll}\n",
       "  & chrom.x & start.x & end.x & name & commonName\\\\\n",
       "\\hline\n",
       "\t1 & chr01 & 194689 & 194964 & QTL_1 & QTL_1\\\\\n",
       "\t2 & chr02 & 164136 & 164249 & QTL_2 & QTL_2\\\\\n",
       "\t3 & chr02 & 522911 & 552978 & QTL_3 & QTL_3\\\\\n",
       "\t4 & chr02 & 669013 & 669013 & QTL_4 & QTL_4\\\\\n",
       "\t5 & chr04 & 17940 & 22923 & QTL_5 & QTL_5\\\\\n",
       "\t6 & chr04 & 1416729 & 1416729 & QTL_6 & QTL_6\\\\\n",
       "\t7 & chr05 & 191729 & 192062 & QTL_7 & QTL_7\\\\\n",
       "\t8 & chr05 & 336234 & 340922 & QTL_8 & QTL_8\\\\\n",
       "\t9 & chr07 & 176331 & 176592 & QTL_9 & QTL_9\\\\\n",
       "\t10 & chr07 & 809072 & 839419 & QTL_10 & QTL_10\\\\\n",
       "\t11 & chr07 & 1059901 & 1069033 & QTL_11 & QTL_11\\\\\n",
       "\t12 & chr09 & 271985 & 271985 & QTL_12 & QTL_12\\\\\n",
       "\t13 & chr09 & 420934 & 423953 & QTL_13 & QTL_13\\\\\n",
       "\t14 & chr10 & 67942 & 68549 & QTL_14 & QTL_14\\\\\n",
       "\t15 & chr10 & 529710 & 529906 & QTL_15 & QTL_15\\\\\n",
       "\t16 & chr10 & 731061 & 731070 & QTL_16 & QTL_16\\\\\n",
       "\t17 & chr11 & 63715 & 63901 & QTL_17 & QTL_17\\\\\n",
       "\t18 & chr11 & 231494 & 231494 & QTL_18 & QTL_18\\\\\n",
       "\t19 & chr11 & 575206 & 575206 & QTL_19 & QTL_19\\\\\n",
       "\t20 & chr12 & 582969 & 582978 & QTL_20 & QTL_20\\\\\n",
       "\t21 & chr12 & 645025 & 645377 & QTL_21 & QTL_21\\\\\n",
       "\t22 & chr13 & 26443 & 26443 & QTL_22 & QTL_22\\\\\n",
       "\t23 & chr14 & 441876 & 491226 & QTL_23 & QTL_23\\\\\n",
       "\t24 & chr15 & 487524 & 487533 & QTL_24 & QTL_24\\\\\n",
       "\t25 & chr15 & 798654 & 798736 & QTL_25 & QTL_25\\\\\n",
       "\t26 & chr16 & 723861 & 723872 & QTL_26 & QTL_26\\\\\n",
       "\t27 & chr16 & 898658 & 898678 & QTL_27 & QTL_27\\\\\n",
       "\\end{tabular}\n"
      ],
      "text/plain": [
       "   chrom.x start.x   end.x   name commonName\n",
       "1    chr01  194689  194964  QTL_1      QTL_1\n",
       "2    chr02  164136  164249  QTL_2      QTL_2\n",
       "3    chr02  522911  552978  QTL_3      QTL_3\n",
       "4    chr02  669013  669013  QTL_4      QTL_4\n",
       "5    chr04   17940   22923  QTL_5      QTL_5\n",
       "6    chr04 1416729 1416729  QTL_6      QTL_6\n",
       "7    chr05  191729  192062  QTL_7      QTL_7\n",
       "8    chr05  336234  340922  QTL_8      QTL_8\n",
       "9    chr07  176331  176592  QTL_9      QTL_9\n",
       "10   chr07  809072  839419 QTL_10     QTL_10\n",
       "11   chr07 1059901 1069033 QTL_11     QTL_11\n",
       "12   chr09  271985  271985 QTL_12     QTL_12\n",
       "13   chr09  420934  423953 QTL_13     QTL_13\n",
       "14   chr10   67942   68549 QTL_14     QTL_14\n",
       "15   chr10  529710  529906 QTL_15     QTL_15\n",
       "16   chr10  731061  731070 QTL_16     QTL_16\n",
       "17   chr11   63715   63901 QTL_17     QTL_17\n",
       "18   chr11  231494  231494 QTL_18     QTL_18\n",
       "19   chr11  575206  575206 QTL_19     QTL_19\n",
       "20   chr12  582969  582978 QTL_20     QTL_20\n",
       "21   chr12  645025  645377 QTL_21     QTL_21\n",
       "22   chr13   26443   26443 QTL_22     QTL_22\n",
       "23   chr14  441876  491226 QTL_23     QTL_23\n",
       "24   chr15  487524  487533 QTL_24     QTL_24\n",
       "25   chr15  798654  798736 QTL_25     QTL_25\n",
       "26   chr16  723861  723872 QTL_26     QTL_26\n",
       "27   chr16  898658  898678 QTL_27     QTL_27"
      ]
     },
     "execution_count": 460,
     "metadata": {},
     "output_type": "execute_result"
    }
   ],
   "source": [
    "qtls"
   ]
  },
  {
   "cell_type": "code",
   "execution_count": null,
   "metadata": {
    "collapsed": true
   },
   "outputs": [],
   "source": []
  }
 ],
 "metadata": {
  "kernelspec": {
   "display_name": "R",
   "language": "R",
   "name": "ir"
  },
  "language_info": {
   "codemirror_mode": "r",
   "file_extension": ".r",
   "mimetype": "text/x-r-source",
   "name": "R",
   "pygments_lexer": "r",
   "version": "3.2.3"
  }
 },
 "nbformat": 4,
 "nbformat_minor": 0
}
