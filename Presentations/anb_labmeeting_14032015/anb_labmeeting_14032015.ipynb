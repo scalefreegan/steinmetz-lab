{
 "cells": [
  {
   "cell_type": "markdown",
   "metadata": {
    "slideshow": {
     "slide_type": "slide"
    }
   },
   "source": [
    "<h1><center>Quantitative genetics with\n",
    "<span style=\"color:red\">multi-omic</span> and <span style=\"color:red\">non-standard</span> phenotypes</center></h1>\n",
    "<br>\n",
    "<p><center>*Aaron Brooks*</center></p>\n",
    "<p><center>Steinmetz lab meeting</center></p>\n",
    "<p><center>14.03.2015</center></p>"
   ]
  },
  {
   "cell_type": "markdown",
   "metadata": {
    "slideshow": {
     "slide_type": "subslide"
    }
   },
   "source": [
    "<center><img src=\"./src/qtls4breakfast/qtl4breakfast-01.png\"></center>"
   ]
  },
  {
   "cell_type": "code",
   "execution_count": 204,
   "metadata": {
    "collapsed": false,
    "slideshow": {
     "slide_type": "skip"
    }
   },
   "outputs": [],
   "source": [
    "# load libraries and stuff\n",
    "options(repr.plot.width = 6)\n",
    "options(repr.plot.height = 5)\n",
    "library(ggplot2);\n",
    "library(plyr);\n",
    "library(dplyr);\n",
    "library(reshape2);\n",
    "library(LSD);\n",
    "library(qtl);\n",
    "library(pheatmap);\n",
    "library(parallel);\n",
    "options(mc.cores = 24);\n",
    "library(stringr);\n",
    "library(RColorBrewer);\n",
    "\n",
    "# load data\n",
    "endo_f = \"/g/steinmetz/project/GenPhen/data/endometabolome/data/endometabolite_full_12102015.rda\"\n",
    "load(endo_f)\n",
    "\n",
    "# use only relaitve data\n",
    "endometabolite = filter(endometabolite, time_format == \"relative\")\n",
    "\n",
    "#head(endometabolite)"
   ]
  },
  {
   "cell_type": "markdown",
   "metadata": {
    "slideshow": {
     "slide_type": "slide"
    }
   },
   "source": [
    "## Two projects:"
   ]
  },
  {
   "cell_type": "markdown",
   "metadata": {
    "slideshow": {
     "slide_type": "fragment"
    }
   },
   "source": [
    "- ### Multi-omic profiling of intermediate traits in SxY cross: GenPhen\n",
    "    - <u>Metabolomics</u>, transcriptomics, and proteomics\n",
    "    - Collaboration with <u>Chenchen</u> and Linster lab at University of Luxembourg"
   ]
  },
  {
   "cell_type": "markdown",
   "metadata": {
    "slideshow": {
     "slide_type": "fragment"
    }
   },
   "source": [
    "- ### **New** computational approach for QTL detection with non-standard phenotypes\n",
    "    - clustQTL: a clustering-based QTL detection method"
   ]
  },
  {
   "cell_type": "markdown",
   "metadata": {
    "slideshow": {
     "slide_type": "slide"
    }
   },
   "source": [
    "<h3><center>How do our genes and the environment make us who we are?</center></h3>\n",
    "<center><img src=\"./src/tall_short.jpg\" width=250px></center>"
   ]
  },
  {
   "cell_type": "markdown",
   "metadata": {
    "slideshow": {
     "slide_type": "fragment"
    }
   },
   "source": [
    "<center>Phenotype (P) = Genotype (G) + Environment (E)</center>"
   ]
  },
  {
   "cell_type": "markdown",
   "metadata": {
    "slideshow": {
     "slide_type": "subslide"
    }
   },
   "source": [
    "<center><img src=\"./src/g2p_blackbox.png\" height=\"500px\"></center>"
   ]
  },
  {
   "cell_type": "markdown",
   "metadata": {
    "slideshow": {
     "slide_type": "subslide"
    }
   },
   "source": [
    "<center><img src=\"./src/nrg3868-f1.jpg\" height=\"600px\"></center>\n"
   ]
  },
  {
   "cell_type": "markdown",
   "metadata": {
    "slideshow": {
     "slide_type": "subslide"
    }
   },
   "source": [
    "<center><img src=\"./src/g2p_multiomic.png\" height=\"500px\"></center>"
   ]
  },
  {
   "cell_type": "markdown",
   "metadata": {
    "slideshow": {
     "slide_type": "subslide"
    }
   },
   "source": [
    "<center><img src=\"./src/abrooks_talk.003.png\" height=\"600px\"></center>"
   ]
  },
  {
   "cell_type": "code",
   "execution_count": 169,
   "metadata": {
    "collapsed": true,
    "slideshow": {
     "slide_type": "skip"
    }
   },
   "outputs": [],
   "source": [
    "lodeffect = \n",
    "'<style>\n",
    "#wrapper1 { width: 1200px; height: 525px; padding: 0;  overflow: hidden;}\n",
    "#scaled-frame1 { width: 2000px; height: 1000px; border: 0px; }\n",
    "#scaled-frame1 {\n",
    "    zoom: 0.56;\n",
    "    -moz-transform: scale(0.56);\n",
    "    -moz-transform-origin: 0 0;\n",
    "    -o-transform: scale(0.56);\n",
    "    -o-transform-origin: 0 0;\n",
    "    -webkit-transform: scale(0.56);\n",
    "    -webkit-transform-origin: 0 0;\n",
    "}\n",
    "\n",
    "@media screen and (-webkit-min-device-pixel-ratio:0) {\n",
    " #scaled-frame1  { zoom: 1;  }\n",
    "}\n",
    "</style>\n",
    "\n",
    "<div id=\"wrapper1\"><iframe id=\"scaled-frame1\" src=\"http://www.biostat.wisc.edu/~kbroman/D3/lod_and_effect/\"></iframe></div>\n",
    "'"
   ]
  },
  {
   "cell_type": "markdown",
   "metadata": {
    "slideshow": {
     "slide_type": "slide"
    }
   },
   "source": [
    "<h2><center>What is a quantitative trait loci (QTL)?<center></h2>"
   ]
  },
  {
   "cell_type": "code",
   "execution_count": 170,
   "metadata": {
    "collapsed": false,
    "scrolled": false,
    "slideshow": {
     "slide_type": "subslide"
    }
   },
   "outputs": [
    {
     "data": {
      "text/html": [
       "<style>\n",
       "#wrapper1 { width: 1200px; height: 525px; padding: 0;  overflow: hidden;}\n",
       "#scaled-frame1 { width: 2000px; height: 1000px; border: 0px; }\n",
       "#scaled-frame1 {\n",
       "    zoom: 0.56;\n",
       "    -moz-transform: scale(0.56);\n",
       "    -moz-transform-origin: 0 0;\n",
       "    -o-transform: scale(0.56);\n",
       "    -o-transform-origin: 0 0;\n",
       "    -webkit-transform: scale(0.56);\n",
       "    -webkit-transform-origin: 0 0;\n",
       "}\n",
       "\n",
       "@media screen and (-webkit-min-device-pixel-ratio:0) {\n",
       " #scaled-frame1  { zoom: 1;  }\n",
       "}\n",
       "</style>\n",
       "\n",
       "<div id=\"wrapper1\"><iframe id=\"scaled-frame1\" src=\"http://www.biostat.wisc.edu/~kbroman/D3/lod_and_effect/\"></iframe></div>\n"
      ]
     },
     "metadata": {},
     "output_type": "display_data"
    }
   ],
   "source": [
    "IRdisplay::display_html(lodeffect)\n",
    "# from Karl Broman: https://www.biostat.wisc.edu/~kbroman/D3/lod_by_time/"
   ]
  },
  {
   "cell_type": "markdown",
   "metadata": {
    "slideshow": {
     "slide_type": "slide"
    }
   },
   "source": [
    "<h2><center>Metabolites of central metabolism: TCA cycle</center></h2>\n",
    "<center><img src=\"./src/parental_cycle-01.png\" width=600px></center>\n",
    "<h4><center>Are there differences between the parental strains?</center></h4>"
   ]
  },
  {
   "cell_type": "code",
   "execution_count": 171,
   "metadata": {
    "collapsed": false,
    "slideshow": {
     "slide_type": "skip"
    }
   },
   "outputs": [],
   "source": [
    "qtltimescan = \n",
    "'<style>\n",
    "#wrapper2 { width: 1000px; height: 525px; padding: 0; overflow: hidden; }\n",
    "#scaled-frame2 { width: 1500px; height: 1800px; border: 0px; }\n",
    "#scaled-frame2 {\n",
    "    zoom: 0.71;\n",
    "    -moz-transform: scale(0.71);\n",
    "    -moz-transform-origin: 0 0;\n",
    "    -o-transform: scale(0.71);\n",
    "    -o-transform-origin: 0 0;\n",
    "    -webkit-transform: scale(0.71);\n",
    "    -webkit-transform-origin: 0 0;\n",
    "}\n",
    "\n",
    "@media screen and (-webkit-min-device-pixel-ratio:0) {\n",
    " #scaled-frame2  { zoom: 1;  }\n",
    "}\n",
    "</style>\n",
    "\n",
    "<div id=\"wrapper2\"><iframe id=\"scaled-frame2\" src=\"https://www.biostat.wisc.edu/~kbroman/D3/lod_by_time/\"></iframe></div>\n",
    "'"
   ]
  },
  {
   "cell_type": "markdown",
   "metadata": {
    "slideshow": {
     "slide_type": "slide"
    }
   },
   "source": [
    "<h2><center>QTLs for dynamical data (function-valued traits)<center></h2>"
   ]
  },
  {
   "cell_type": "code",
   "execution_count": 172,
   "metadata": {
    "collapsed": false,
    "scrolled": false,
    "slideshow": {
     "slide_type": "slide"
    }
   },
   "outputs": [
    {
     "data": {
      "text/html": [
       "<style>\n",
       "#wrapper2 { width: 1000px; height: 525px; padding: 0; overflow: hidden; }\n",
       "#scaled-frame2 { width: 1500px; height: 1800px; border: 0px; }\n",
       "#scaled-frame2 {\n",
       "    zoom: 0.71;\n",
       "    -moz-transform: scale(0.71);\n",
       "    -moz-transform-origin: 0 0;\n",
       "    -o-transform: scale(0.71);\n",
       "    -o-transform-origin: 0 0;\n",
       "    -webkit-transform: scale(0.71);\n",
       "    -webkit-transform-origin: 0 0;\n",
       "}\n",
       "\n",
       "@media screen and (-webkit-min-device-pixel-ratio:0) {\n",
       " #scaled-frame2  { zoom: 1;  }\n",
       "}\n",
       "</style>\n",
       "\n",
       "<div id=\"wrapper2\"><iframe id=\"scaled-frame2\" src=\"https://www.biostat.wisc.edu/~kbroman/D3/lod_by_time/\"></iframe></div>\n"
      ]
     },
     "metadata": {},
     "output_type": "display_data"
    }
   ],
   "source": [
    "IRdisplay::display_html(qtltimescan)\n",
    "# from Karl Broman: https://www.biostat.wisc.edu/~kbroman/D3/lod_by_time/"
   ]
  },
  {
   "cell_type": "markdown",
   "metadata": {
    "slideshow": {
     "slide_type": "slide"
    }
   },
   "source": [
    "<h2><center>Metabolites of central metabolism: TCA cycle</center></h2>\n",
    "<center><img src=\"./src/parental_cycle-01.png\" width=600px></center>\n",
    "<h4><center>Are there differences between the parental strains?</center></h4>"
   ]
  },
  {
   "cell_type": "markdown",
   "metadata": {
    "slideshow": {
     "slide_type": "subslide"
    }
   },
   "source": [
    "<center><p><u><b style=\"color:red\">16</b></u> out of <b style=\"color:red\">26</b> metabolites that were detected in both parental strains are different between S288c and YJM789</p><center>\n",
    "<br>\n",
    "<small><center><em>One-way ANOVA as in [Breunig, J. S., et al. 2014](http://journals.plos.org/plosgenetics/article?id=10.1371/journal.pgen.1004142)</em></center></small>"
   ]
  },
  {
   "cell_type": "markdown",
   "metadata": {
    "slideshow": {
     "slide_type": "slide"
    }
   },
   "source": [
    "<h2><center>What is heritability?</center></h2>"
   ]
  },
  {
   "cell_type": "markdown",
   "metadata": {
    "slideshow": {
     "slide_type": "fragment"
    }
   },
   "source": [
    "<center>Phenotype (P) = Genotype (G) + Environment (E)</center>"
   ]
  },
  {
   "cell_type": "markdown",
   "metadata": {
    "slideshow": {
     "slide_type": "slide"
    }
   },
   "source": [
    "<h2><center>How is heritability calculated?</center></h2>"
   ]
  },
  {
   "cell_type": "markdown",
   "metadata": {
    "slideshow": {
     "slide_type": "fragment"
    }
   },
   "source": [
    "<center>$\\sigma^2_P = \\sigma^2_G + \\sigma^2_P$</center>"
   ]
  },
  {
   "cell_type": "markdown",
   "metadata": {
    "slideshow": {
     "slide_type": "fragment"
    }
   },
   "source": [
    "<center>Broad sense Heritability = $H^2$ = $\\frac{\\sigma^2_G}{\\sigma^2_P}$</center>\n",
    "\n",
    "<small><center><em>[Visscher, P. M., et al. 2008.](http://www.nature.com/nrg/journal/v9/n4/abs/nrg2322.html)</em></center></small>"
   ]
  },
  {
   "cell_type": "markdown",
   "metadata": {
    "slideshow": {
     "slide_type": "subslide"
    }
   },
   "source": [
    "<h2><center>Replicates can be used as a proxy for the environmental component</center></h2>"
   ]
  },
  {
   "cell_type": "markdown",
   "metadata": {
    "slideshow": {
     "slide_type": "fragment"
    }
   },
   "source": [
    "$$\\hat\\sigma^2_s=\\frac{\\sum_{r=1}^2 (X_{sr}-\\bar X_s)^2}{2} . \\frac{2}{2-1}$$"
   ]
  },
  {
   "cell_type": "markdown",
   "metadata": {
    "slideshow": {
     "slide_type": "fragment"
    }
   },
   "source": [
    "$$H^2=1-\\frac{\\sum_s^S 2 \\hat\\sigma_s^2}{\\sum_s^S \\sum_{r=1}^2 (X_{sr}-\\bar X)^2}$$\n",
    "\n",
    "<small><center><em>[Breunig, J. S., et al. 2014](http://journals.plos.org/plosgenetics/article?id=10.1371/journal.pgen.1004142)</em></center></small>"
   ]
  },
  {
   "cell_type": "markdown",
   "metadata": {
    "slideshow": {
     "slide_type": "subslide"
    }
   },
   "source": [
    "<center><img src=\"./src/H2.svg\" width=600px></center>"
   ]
  },
  {
   "cell_type": "markdown",
   "metadata": {
    "slideshow": {
     "slide_type": "subslide"
    }
   },
   "source": [
    "<center><img src=\"./src/broadsenseH2.svg\" width=600px></center>"
   ]
  },
  {
   "cell_type": "markdown",
   "metadata": {
    "slideshow": {
     "slide_type": "subslide"
    }
   },
   "source": [
    "<center><img src=\"http://journals.plos.org/plosgenetics/article/figure/image?size=large&id=info:doi/10.1371/journal.pgen.1004142.g009\" width=600px></center>"
   ]
  },
  {
   "cell_type": "code",
   "execution_count": 199,
   "metadata": {
    "collapsed": true,
    "slideshow": {
     "slide_type": "skip"
    }
   },
   "outputs": [],
   "source": [
    "mQTL = \n",
    "'<style>\n",
    "#wrapper3 { width: 1000px; height: 550px; padding: 0; }\n",
    "#scaled-frame3 { width: 1500px; height: 3000px; border: 0px; }\n",
    "#scaled-frame3 {\n",
    "    zoom: 0.8;\n",
    "    -moz-transform: scale(0.8);\n",
    "    -moz-transform-origin: 0 0;\n",
    "    -o-transform: scale(0.8);\n",
    "    -o-transform-origin: 0 0;\n",
    "    -webkit-transform: scale(0.8);\n",
    "    -webkit-transform-origin: 0 0;\n",
    "}\n",
    "\n",
    "@media screen and (-webkit-min-device-pixel-ratio:0) {\n",
    " #scaled-frame1  { zoom: 1;  }\n",
    "}\n",
    "</style>\n",
    "\n",
    "<div id=\"wrapper3\"><iframe id=\"scaled-frame3\" src=\"http://steinmetzlab.embl.de/shiny/mQTL/\"></iframe></div>\n",
    "'"
   ]
  },
  {
   "cell_type": "code",
   "execution_count": 200,
   "metadata": {
    "collapsed": false,
    "scrolled": true,
    "slideshow": {
     "slide_type": "slide"
    }
   },
   "outputs": [
    {
     "data": {
      "text/html": [
       "<style>\n",
       "#wrapper3 { width: 1000px; height: 550px; padding: 0; }\n",
       "#scaled-frame3 { width: 1500px; height: 3000px; border: 0px; }\n",
       "#scaled-frame3 {\n",
       "    zoom: 0.8;\n",
       "    -moz-transform: scale(0.8);\n",
       "    -moz-transform-origin: 0 0;\n",
       "    -o-transform: scale(0.8);\n",
       "    -o-transform-origin: 0 0;\n",
       "    -webkit-transform: scale(0.8);\n",
       "    -webkit-transform-origin: 0 0;\n",
       "}\n",
       "\n",
       "@media screen and (-webkit-min-device-pixel-ratio:0) {\n",
       " #scaled-frame1  { zoom: 1;  }\n",
       "}\n",
       "</style>\n",
       "\n",
       "<div id=\"wrapper3\"><iframe id=\"scaled-frame3\" src=\"http://steinmetzlab.embl.de/shiny/mQTL/\"></iframe></div>\n"
      ]
     },
     "metadata": {},
     "output_type": "display_data"
    }
   ],
   "source": [
    "IRdisplay::display_html(mQTL)"
   ]
  },
  {
   "cell_type": "markdown",
   "metadata": {
    "slideshow": {
     "slide_type": "slide"
    }
   },
   "source": [
    "<h2><center>QTL chr13 candidate: <u><span style=\"color:red\">BUL2</span></u></center></h2>"
   ]
  },
  {
   "cell_type": "markdown",
   "metadata": {
    "collapsed": true,
    "slideshow": {
     "slide_type": "subslide"
    }
   },
   "source": [
    "<center><img src=\"../anb_labmeeting_14032015/src/rsp5p.jpg\", width=\"700px\"></center>\n"
   ]
  },
  {
   "cell_type": "markdown",
   "metadata": {
    "collapsed": true,
    "slideshow": {
     "slide_type": "subslide"
    }
   },
   "source": [
    "<small><center><em>[Lauwers, E., Erpapazoglou, Z., Haguenauer-Tsapis, R., & André, B. (2010). The ubiquitin code of yeast permease trafficking. Trends in cell biology, 20(4), 196-204.](http://www.sciencedirect.com/science/article/pii/S096289241000005X)</em></center></small>"
   ]
  },
  {
   "cell_type": "markdown",
   "metadata": {
    "collapsed": false,
    "slideshow": {
     "slide_type": "subslide"
    }
   },
   "source": [
    "<center><img src=\"../anb_labmeeting_14032015/src/bul2_OE.jpg\", width=\"400px\"></center>\n",
    "\n",
    "<small><center><em>[Helliwell, S. B., Losko, S., & Kaiser, C. A. (2001). Components of a ubiquitin ligase complex specify polyubiquitination and intracellular trafficking of the general amino acid permease. The Journal of cell biology, 153(4), 649-662.](http://jcb.rupress.org/content/153/4/649.long)</em></center></small>\n"
   ]
  },
  {
   "cell_type": "markdown",
   "metadata": {
    "slideshow": {
     "slide_type": "subslide"
    }
   },
   "source": [
    "<h2><center>Don't be a Drumpf!</center></h2>\n",
    "<center><img src=https://media.giphy.com/media/l2JJzZfUZAHugzB6g/giphy.gif ></center>"
   ]
  }
 ],
 "metadata": {
  "celltoolbar": "Slideshow",
  "kernelspec": {
   "display_name": "R",
   "language": "R",
   "name": "ir"
  },
  "language_info": {
   "codemirror_mode": "r",
   "file_extension": ".r",
   "mimetype": "text/x-r-source",
   "name": "R",
   "pygments_lexer": "r",
   "version": "3.2.3"
  },
  "livereveal": {
   "data-transition-speed": "slow",
   "transition": "linear"
  }
 },
 "nbformat": 4,
 "nbformat_minor": 0
}
