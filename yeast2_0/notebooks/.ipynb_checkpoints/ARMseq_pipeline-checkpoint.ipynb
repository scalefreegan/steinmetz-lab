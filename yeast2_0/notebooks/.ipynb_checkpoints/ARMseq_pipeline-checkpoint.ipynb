{
 "cells": [
  {
   "cell_type": "markdown",
   "metadata": {},
   "source": [
    "# ARMseq Pipeline\n",
    "\n",
    "Getting ARMseq pipeline to work. Yeast data.\n",
    "\n",
    "Note: not all commands can be excuted from this script. See Preliminaries"
   ]
  },
  {
   "cell_type": "code",
   "execution_count": 1,
   "metadata": {
    "collapsed": true
   },
   "outputs": [],
   "source": [
    ".libPaths(\"~/R/x86_64-redhat-linux-gnu-library/3.2/\")\n",
    "options(repr.plot.width = 6)\n",
    "options(repr.plot.height = 5)\n",
    "options(jupyter.plot_mimetypes = 'image/png')"
   ]
  },
  {
   "cell_type": "code",
   "execution_count": 3,
   "metadata": {
    "collapsed": false
   },
   "outputs": [],
   "source": [
    "library(dplyr)\n",
    "library(rtracklayer)\n",
    "library(ggplot2)\n",
    "library(Rsamtools)\n",
    "library(Biostrings)\n",
    "library(seqinr)\n",
    "library(parallel)\n",
    "options(mc.cores = 24)"
   ]
  },
  {
   "cell_type": "code",
   "execution_count": 4,
   "metadata": {
    "collapsed": false
   },
   "outputs": [
    {
     "name": "stderr",
     "output_type": "stream",
     "text": [
      "SHA-1 hash of file is 6fe17c8884034964d9e1cf18339d08131743e322\n"
     ]
    }
   ],
   "source": [
    "devtools::source_url(\"https://raw.githubusercontent.com/scalefreegan/steinmetz-lab/master/yeast2_0/scripts/seqtools.R\")"
   ]
  },
  {
   "cell_type": "code",
   "execution_count": 5,
   "metadata": {
    "collapsed": false
   },
   "outputs": [],
   "source": [
    "genome = read.fasta(\"/g/steinmetz/genome/Saccharomyces_cerevisiae/S288c_ERCC/ver_20150412/fasta/S288c_complete_wERCC.fsa\")"
   ]
  },
  {
   "cell_type": "markdown",
   "metadata": {
    "collapsed": false
   },
   "source": [
    "## Preliminaries\n",
    "\n",
    "First you must download ARMseq datasets with SRA toolkit (`fastq-dump`), cut adapter sequences with `cutadapt`, and then align, sort, and index the reads using `bowtie2`. [This](processANDalign.txt) bash script does these steps. Final output are bam files."
   ]
  },
  {
   "cell_type": "markdown",
   "metadata": {},
   "source": [
    "## Remapping in R"
   ]
  },
  {
   "cell_type": "code",
   "execution_count": 6,
   "metadata": {
    "collapsed": true
   },
   "outputs": [],
   "source": [
    "# working directory\n",
    "setwd(\"/g/steinmetz/project/IESY/trna/ARMseq/\")"
   ]
  },
  {
   "cell_type": "markdown",
   "metadata": {},
   "source": [
    "### Load tRNA annotations from [GtRNAdb](http://gtrnadb.ucsc.edu/genomes/eukaryota/Scere3/)\n",
    "\n",
    "*Extend upstream and downstream regions with `window` parameter*"
   ]
  },
  {
   "cell_type": "code",
   "execution_count": 7,
   "metadata": {
    "collapsed": false
   },
   "outputs": [],
   "source": [
    "window = 50\n",
    "\n",
    "tRNA_annotations = read.delim(\n",
    "    \"../ARMseq/data/tRNA_isoforms_wleaders_4R.txt\", sep = \"\\t\", header = T, strip.white=TRUE)\n",
    "# switch start / end when end < start. denote strand instead\n",
    "tRNA_annotations = data.frame(do.call(rbind, apply(tRNA_annotations, 1, function(i){\n",
    "    #print(i[\"Start\"])\n",
    "    if (i[\"Chr\"] == \"chrM\") {\n",
    "        i[\"Chr\"] = \"chrMT\"\n",
    "    }\n",
    "    if (as.numeric(i[\"Start\"]) < as.numeric(i[\"End\"])) {\n",
    "        o = i\n",
    "        # modify upstream/downstream sequences based on window of interest\n",
    "        o$Upstream = paste(genome[[i[\"Chr\"]]][seq((as.numeric(i[\"Start\"]) - window),\n",
    "                                                          (as.numeric(i[\"Start\"]) - 1))], collapse = \"\")\n",
    "        o$Downstream = paste(genome[[i[\"Chr\"]]][seq((as.numeric(i[\"End\"]) + 1),\n",
    "                                                          (as.numeric(i[\"End\"]) + window))], collapse = \"\")\n",
    "        o$Start = as.numeric(i[\"Start\"])\n",
    "        o$End = as.numeric(i[\"End\"])\n",
    "        o$Strand = \"+\"\n",
    "    } else {\n",
    "        o = i\n",
    "        # modify upstream/downstream sequences based on window of interest\n",
    "        o$Upstream = tolower(as.character(reverseComplement(DNAString(paste(genome[[i[\"Chr\"]]][seq((as.numeric(i[\"Start\"]) + 1),\n",
    "                                                          (as.numeric(i[\"Start\"]) + window))], collapse = \"\")))))\n",
    "        o$Downstream = tolower(as.character(reverseComplement(DNAString(paste(genome[[i[\"Chr\"]]][seq((as.numeric(i[\"End\"]) - window),\n",
    "                                                          (as.numeric(i[\"End\"]) - 1))], collapse = \"\")))))\n",
    "        o$Start = as.numeric(i[\"End\"])\n",
    "        o$End = as.numeric(i[\"Start\"])\n",
    "        o$Strand = \"-\"\n",
    "    }\n",
    "    return(o)\n",
    "})))\n",
    "tRNA_annotations$Start = as.numeric(tRNA_annotations$Start)\n",
    "tRNA_annotations$End = as.numeric(tRNA_annotations$End)\n",
    "tRNA_annotations$End = as.numeric(tRNA_annotations$End)\n",
    "tRNA_annotations$tRNA.Number = as.numeric(tRNA_annotations$tRNA.Number)\n",
    "tRNA_annotations$tRNA.type = as.character(tRNA_annotations$tRNA.type)\n",
    "tRNA_annotations$Anticodon = unlist(tRNA_annotations$Anticodon)"
   ]
  },
  {
   "cell_type": "code",
   "execution_count": 8,
   "metadata": {
    "collapsed": false
   },
   "outputs": [
    {
     "data": {
      "text/html": [
       "<table>\n",
       "<thead><tr><th></th><th scope=col>Chr</th><th scope=col>tRNA.Number</th><th scope=col>Start</th><th scope=col>End</th><th scope=col>tRNA.type</th><th scope=col>Anticodon</th><th scope=col>Upstream</th><th scope=col>Downstream</th><th scope=col>Intron.Start</th><th scope=col>Intron.End</th><th scope=col>Cove</th><th scope=col>HMM</th><th scope=col>X2pStr</th><th scope=col>Hit.Origin</th><th scope=col>Strand</th></tr></thead>\n",
       "<tbody>\n",
       "\t<tr><th scope=row>1</th><td>chrIV</td><td>3</td><td>410379</td><td>410451</td><td>Ala</td><td>AGC</td><td>ttaagtgcaaacatgtaagaaagattctcggtaacgaccatacaaatatt</td><td>aattattttttactttccgcggtgccgagatgcagacgtggccaactgtg</td><td>      0</td><td>      0</td><td>74.48</td><td>50.69</td><td>23.79</td><td>Bo</td><td>+</td></tr>\n",
       "\t<tr><th scope=row>2</th><td>chrVI</td><td>6</td><td>204924</td><td>204996</td><td>Ala</td><td>AGC</td><td>tgtaaagtaaacctgtatcatttctgtttggaagatttcaacaaacgttc</td><td>tttaaatttttttattttttttgtcaaatctctctatctatagagataat</td><td>      0</td><td>      0</td><td>74.48</td><td>50.69</td><td>23.79</td><td>Bo</td><td>-</td></tr>\n",
       "\t<tr><th scope=row>3</th><td>chrVII</td><td>15</td><td>774349</td><td>774421</td><td>Ala</td><td>AGC</td><td>ttagatttacttcattattcttctctattctcccctttcatcaattaatt</td><td>aatttttttacttttaatgaggtatactggaatattacggctcttttttt</td><td>      0</td><td>      0</td><td>74.48</td><td>50.69</td><td>23.79</td><td>Bo</td><td>+</td></tr>\n",
       "\t<tr><th scope=row>4</th><td>chrVIII</td><td>8</td><td>146242</td><td>146314</td><td>Ala</td><td>AGC</td><td>acactccggtattactcgagcccgtaatacaacacattcaacaaatatca</td><td>atcttttttgttattaccataacagtactataaaggtctgttaatgtata</td><td>      0</td><td>      0</td><td>74.48</td><td>50.69</td><td>23.79</td><td>Bo</td><td>-</td></tr>\n",
       "\t<tr><th scope=row>5</th><td>chrX</td><td>22</td><td>197313</td><td>197385</td><td>Ala</td><td>AGC</td><td>tgtcatactgacgtatctcactttgataaacaacaatatcaataatatta</td><td>atttctttttgttctcaacgacaataataagaaaatcaacttaaatggaa</td><td>      0</td><td>      0</td><td>74.48</td><td>50.69</td><td>23.79</td><td>Bo</td><td>-</td></tr>\n",
       "\t<tr><th scope=row>6</th><td>chrXI</td><td>4</td><td>219895</td><td>219967</td><td>Ala</td><td>AGC</td><td>taaaagagcttgttatagtaatctaagtggaaatacactaacagtaaata</td><td>atctttttatacttattaataatttttttcctgccgttacttgcttttaa</td><td>      0</td><td>      0</td><td>74.48</td><td>50.69</td><td>23.79</td><td>Bo</td><td>+</td></tr>\n",
       "</tbody>\n",
       "</table>\n"
      ],
      "text/latex": [
       "\\begin{tabular}{r|lllllllllllllll}\n",
       "  & Chr & tRNA.Number & Start & End & tRNA.type & Anticodon & Upstream & Downstream & Intron.Start & Intron.End & Cove & HMM & X2pStr & Hit.Origin & Strand\\\\\n",
       "\\hline\n",
       "\t1 & chrIV & 3 & 410379 & 410451 & Ala & AGC & ttaagtgcaaacatgtaagaaagattctcggtaacgaccatacaaatatt & aattattttttactttccgcggtgccgagatgcagacgtggccaactgtg &       0 &       0 & 74.48 & 50.69 & 23.79 & Bo & +\\\\\n",
       "\t2 & chrVI & 6 & 204924 & 204996 & Ala & AGC & tgtaaagtaaacctgtatcatttctgtttggaagatttcaacaaacgttc & tttaaatttttttattttttttgtcaaatctctctatctatagagataat &       0 &       0 & 74.48 & 50.69 & 23.79 & Bo & -\\\\\n",
       "\t3 & chrVII & 15 & 774349 & 774421 & Ala & AGC & ttagatttacttcattattcttctctattctcccctttcatcaattaatt & aatttttttacttttaatgaggtatactggaatattacggctcttttttt &       0 &       0 & 74.48 & 50.69 & 23.79 & Bo & +\\\\\n",
       "\t4 & chrVIII & 8 & 146242 & 146314 & Ala & AGC & acactccggtattactcgagcccgtaatacaacacattcaacaaatatca & atcttttttgttattaccataacagtactataaaggtctgttaatgtata &       0 &       0 & 74.48 & 50.69 & 23.79 & Bo & -\\\\\n",
       "\t5 & chrX & 22 & 197313 & 197385 & Ala & AGC & tgtcatactgacgtatctcactttgataaacaacaatatcaataatatta & atttctttttgttctcaacgacaataataagaaaatcaacttaaatggaa &       0 &       0 & 74.48 & 50.69 & 23.79 & Bo & -\\\\\n",
       "\t6 & chrXI & 4 & 219895 & 219967 & Ala & AGC & taaaagagcttgttatagtaatctaagtggaaatacactaacagtaaata & atctttttatacttattaataatttttttcctgccgttacttgcttttaa &       0 &       0 & 74.48 & 50.69 & 23.79 & Bo & +\\\\\n",
       "\\end{tabular}\n"
      ],
      "text/plain": [
       "      Chr tRNA.Number  Start    End tRNA.type Anticodon\n",
       "1   chrIV           3 410379 410451       Ala       AGC\n",
       "2   chrVI           6 204924 204996       Ala       AGC\n",
       "3  chrVII          15 774349 774421       Ala       AGC\n",
       "4 chrVIII           8 146242 146314       Ala       AGC\n",
       "5    chrX          22 197313 197385       Ala       AGC\n",
       "6   chrXI           4 219895 219967       Ala       AGC\n",
       "                                            Upstream\n",
       "1 ttaagtgcaaacatgtaagaaagattctcggtaacgaccatacaaatatt\n",
       "2 tgtaaagtaaacctgtatcatttctgtttggaagatttcaacaaacgttc\n",
       "3 ttagatttacttcattattcttctctattctcccctttcatcaattaatt\n",
       "4 acactccggtattactcgagcccgtaatacaacacattcaacaaatatca\n",
       "5 tgtcatactgacgtatctcactttgataaacaacaatatcaataatatta\n",
       "6 taaaagagcttgttatagtaatctaagtggaaatacactaacagtaaata\n",
       "                                          Downstream Intron.Start Intron.End\n",
       "1 aattattttttactttccgcggtgccgagatgcagacgtggccaactgtg            0          0\n",
       "2 tttaaatttttttattttttttgtcaaatctctctatctatagagataat            0          0\n",
       "3 aatttttttacttttaatgaggtatactggaatattacggctcttttttt            0          0\n",
       "4 atcttttttgttattaccataacagtactataaaggtctgttaatgtata            0          0\n",
       "5 atttctttttgttctcaacgacaataataagaaaatcaacttaaatggaa            0          0\n",
       "6 atctttttatacttattaataatttttttcctgccgttacttgcttttaa            0          0\n",
       "   Cove   HMM X2pStr Hit.Origin Strand\n",
       "1 74.48 50.69  23.79         Bo      +\n",
       "2 74.48 50.69  23.79         Bo      -\n",
       "3 74.48 50.69  23.79         Bo      +\n",
       "4 74.48 50.69  23.79         Bo      -\n",
       "5 74.48 50.69  23.79         Bo      -\n",
       "6 74.48 50.69  23.79         Bo      +"
      ]
     },
     "execution_count": 8,
     "metadata": {},
     "output_type": "execute_result"
    }
   ],
   "source": [
    "head(tRNA_annotations)"
   ]
  },
  {
   "cell_type": "markdown",
   "metadata": {},
   "source": [
    "### Extract only reads aligned to these regions from bam files\n",
    "\n",
    "*Steps*\n",
    "1. Make GRanges object\n",
    "2. Convert to RangesList\n",
    "3. Use `scanBam` from `Rsamtools` to extract alignments\n",
    "4. Process bam file so that it can be combined with tRNA table above"
   ]
  },
  {
   "cell_type": "code",
   "execution_count": 9,
   "metadata": {
    "collapsed": false
   },
   "outputs": [],
   "source": [
    "window2 = 50\n",
    "\n",
    "gr <- GRanges(\n",
    "    seqnames = Rle(unlist(tRNA_annotations$Chr)),\n",
    "    ranges = IRanges(start = tRNA_annotations$Start - window2,\n",
    "                 end = tRNA_annotations$End + window2),\n",
    "    strand = Rle(unlist(tRNA_annotations$Strand)),\n",
    "    mcols = select(tRNA_annotations, tRNA.Number,tRNA.type, Upstream, Downstream)\n",
    ")"
   ]
  },
  {
   "cell_type": "code",
   "execution_count": 10,
   "metadata": {
    "collapsed": false
   },
   "outputs": [],
   "source": [
    "gr_list = RangesList(lapply(seq(1,length(gr)),function(i){ranges(gr[i,])}))\n",
    "names(gr_list) = seqnames(gr)"
   ]
  },
  {
   "cell_type": "markdown",
   "metadata": {},
   "source": [
    "Import bam files for the following samples/alignments:\n",
    "\n",
    "- AlkB treated\n",
    "- AlkB trated with very-sensitive, end-to-end alignment\n",
    "- Untreated\n",
    "- Untreated with very-sensitive, end-to-end alignment"
   ]
  },
  {
   "cell_type": "code",
   "execution_count": 11,
   "metadata": {
    "collapsed": false
   },
   "outputs": [
    {
     "name": "stderr",
     "output_type": "stream",
     "text": [
      "Warning message:\n",
      "In `levels<-`(`*tmp*`, value = if (nl == nL) as.character(labels) else paste0(labels, : duplicated levels in factors are deprecatedWarning message:\n",
      "In `levels<-`(`*tmp*`, value = if (nl == nL) as.character(labels) else paste0(labels, : duplicated levels in factors are deprecatedWarning message:\n",
      "In `levels<-`(`*tmp*`, value = if (nl == nL) as.character(labels) else paste0(labels, : duplicated levels in factors are deprecatedWarning message:\n",
      "In `levels<-`(`*tmp*`, value = if (nl == nL) as.character(labels) else paste0(labels, : duplicated levels in factors are deprecated"
     ]
    }
   ],
   "source": [
    "fdir = \"/g/steinmetz/project/IESY/trna/ARMseq/data/\" # where are the bam files\n",
    "what = c(\"qname\", \"rname\", \"strand\", \"pos\", \"mapq\", \"cigar\", \"seq\", \"qual\") # what to access from alignments\n",
    "tags = c(\"AS\", \"XS\", \"NM\")\n",
    "param = ScanBamParam(which = gr_list, what = what, tag = tags)\n",
    "\n",
    "\n",
    "untreated <- scanBam(paste0(fdir,\"untreated.bam\"), param=param, \n",
    "               index = paste0(fdir,\"untreated.bam.bai\"))\n",
    "#untreated_vse2e <- scanBam(paste0(fdir,\"untreated_vse2e.bam\"), param=param, \n",
    "#               index = paste0(fdir,\"untreated_vse2e.bam.bai\"))\n",
    "# alkB <- scanBam(paste0(fdir,\"treated.bam\"), param=param, \n",
    "#                index = paste0(fdir,\"treated.bam.bai\"))\n",
    "# alkB_vse2e <- scanBam(paste0(fdir,\"treated_vse2e.bam\"), param=param, \n",
    "#                index = paste0(fdir,\"treated_vse2e.bam.bai\"))"
   ]
  },
  {
   "cell_type": "markdown",
   "metadata": {},
   "source": [
    "Alter bam data.frame to make it compatible with tRNA data.frame"
   ]
  },
  {
   "cell_type": "code",
   "execution_count": 12,
   "metadata": {
    "collapsed": false
   },
   "outputs": [],
   "source": [
    "untreated = makeHappyBam(untreated, tRNA_annotations)\n",
    "#untreated_vse2e = makeHappyBam(untreated_vse2e, tRNA_annotations)\n",
    "#alkB = makeHappyBam(alkB)\n",
    "#alkB_vse2e = makeHappyBam(alkB_vse2e)"
   ]
  },
  {
   "cell_type": "markdown",
   "metadata": {},
   "source": [
    "### Try to assign counts for all reads (tRNAs)"
   ]
  },
  {
   "cell_type": "code",
   "execution_count": 13,
   "metadata": {
    "collapsed": true
   },
   "outputs": [],
   "source": [
    "filterMature = function(x, flip = FALSE) {\n",
    "  #' Filters reads to ensure that at least one base from the read overlaps\n",
    "  #' leader or trailer sequence. Categorize those that do not as likely\n",
    "  #' mature. Additionaly, categorizes those that have a trailer sequence\n",
    "  #' C, CC, CCA, or - on the other strand - G, G, GGA only as likely\n",
    "  #' mature sequences\n",
    "  #'\n",
    "  #' @param x data.frame. Merged reads and tRNA info for anticodon\n",
    "  #' @return data.frame with purely coding reads removed\n",
    "  x$mature = apply(cbind(abs(x$Start - x$pos), abs(x$End - x$pos)), 1, min) < (nchar(as.character(x$seq)) - 1)\n",
    "  if (flip) {\n",
    "    x = filter(x, mature == F)\n",
    "  } else {\n",
    "    x = filter(x, mature == T)\n",
    "  }\n",
    "  x$mature = NULL\n",
    "  return(x)\n",
    "}"
   ]
  },
  {
   "cell_type": "code",
   "execution_count": 22,
   "metadata": {
    "collapsed": false
   },
   "outputs": [
    {
     "data": {
      "text/html": [
       "<table>\n",
       "<thead><tr><th></th><th scope=col>Chr</th><th scope=col>Start</th><th scope=col>End</th><th scope=col>tRNA.Number</th><th scope=col>tRNA.type</th><th scope=col>Anticodon</th><th scope=col>Upstream</th><th scope=col>Downstream</th><th scope=col>Intron.Start</th><th scope=col>Intron.End</th><th scope=col>Cove</th><th scope=col>HMM</th><th scope=col>X2pStr</th><th scope=col>Hit.Origin</th><th scope=col>Strand</th><th scope=col>qname</th><th scope=col>rname</th><th scope=col>strand</th><th scope=col>pos</th><th scope=col>mapq</th><th scope=col>cigar</th><th scope=col>seq</th><th scope=col>qual</th><th scope=col>AS</th><th scope=col>XS</th><th scope=col>NM</th><th scope=col>toend</th><th scope=col>mature</th></tr></thead>\n",
       "<tbody>\n",
       "\t<tr><th scope=row>1</th><td>chrIV</td><td>410379</td><td>410451</td><td>3</td><td>Ala</td><td>AGC</td><td>ttaagtgcaaacatgtaagaaagattctcggtaacgaccatacaaatatt</td><td>aattattttttactttccgcggtgccgagatgcagacgtggccaactgtg</td><td>      0</td><td>      0</td><td>74.48</td><td>50.69</td><td>23.79</td><td>Bo</td><td>+</td><td>SRR1874045.878216</td><td>chrIV</td><td>+</td><td>410423</td><td>0</td><td>32M</td><td>GGTCTCCGGTTCGATTCCGGACTCGTCCACCA</td><td>AAAABFFBBBBBGGGGGGGGGGEHGHGGEGGH</td><td>-15</td><td>NA</td><td>3</td><td>3</td><td>FALSE</td></tr>\n",
       "\t<tr><th scope=row>2</th><td>chrVI</td><td>204924</td><td>204996</td><td>6</td><td>Ala</td><td>AGC</td><td>tgtaaagtaaacctgtatcatttctgtttggaagatttcaacaaacgttc</td><td>tttaaatttttttattttttttgtcaaatctctctatctatagagataat</td><td>      0</td><td>      0</td><td>74.48</td><td>50.69</td><td>23.79</td><td>Bo</td><td>-</td><td>SRR1874045.878216</td><td>chrVI</td><td>-</td><td>204921</td><td>0</td><td>32M</td><td>TGGTGGACGAGTCCGGAATCGAACCGGAGACC</td><td>HGGEGGHGHEGGGGGGGGGGBBBBBFFBAAAA</td><td>-15</td><td>NA</td><td>3</td><td>3</td><td>FALSE</td></tr>\n",
       "\t<tr><th scope=row>3</th><td>chrVII</td><td>774349</td><td>774421</td><td>15</td><td>Ala</td><td>AGC</td><td>ttagatttacttcattattcttctctattctcccctttcatcaattaatt</td><td>aatttttttacttttaatgaggtatactggaatattacggctcttttttt</td><td>      0</td><td>      0</td><td>74.48</td><td>50.69</td><td>23.79</td><td>Bo</td><td>+</td><td>SRR1874045.878216</td><td>chrVII</td><td>+</td><td>774393</td><td>0</td><td>32M</td><td>GGTCTCCGGTTCGATTCCGGACTCGTCCACCA</td><td>AAAABFFBBBBBGGGGGGGGGGEHGHGGEGGH</td><td>-15</td><td>NA</td><td>3</td><td>3</td><td>FALSE</td></tr>\n",
       "\t<tr><th scope=row>4</th><td>chrVIII</td><td>146242</td><td>146314</td><td>8</td><td>Ala</td><td>AGC</td><td>acactccggtattactcgagcccgtaatacaacacattcaacaaatatca</td><td>atcttttttgttattaccataacagtactataaaggtctgttaatgtata</td><td>      0</td><td>      0</td><td>74.48</td><td>50.69</td><td>23.79</td><td>Bo</td><td>-</td><td>SRR1874045.878216</td><td>chrVIII</td><td>-</td><td>146239</td><td>0</td><td>32M</td><td>TGGTGGACGAGTCCGGAATCGAACCGGAGACC</td><td>HGGEGGHGHEGGGGGGGGGGBBBBBFFBAAAA</td><td>-15</td><td>NA</td><td>3</td><td>3</td><td>FALSE</td></tr>\n",
       "\t<tr><th scope=row>5</th><td>chrX</td><td>197313</td><td>197385</td><td>22</td><td>Ala</td><td>AGC</td><td>tgtcatactgacgtatctcactttgataaacaacaatatcaataatatta</td><td>atttctttttgttctcaacgacaataataagaaaatcaacttaaatggaa</td><td>      0</td><td>      0</td><td>74.48</td><td>50.69</td><td>23.79</td><td>Bo</td><td>-</td><td>SRR1874045.878216</td><td>chrX</td><td>-</td><td>197310</td><td>0</td><td>32M</td><td>TGGTGGACGAGTCCGGAATCGAACCGGAGACC</td><td>HGGEGGHGHEGGGGGGGGGGBBBBBFFBAAAA</td><td>-15</td><td>NA</td><td>3</td><td>3</td><td>FALSE</td></tr>\n",
       "\t<tr><th scope=row>6</th><td>chrXI</td><td>219895</td><td>219967</td><td>4</td><td>Ala</td><td>AGC</td><td>taaaagagcttgttatagtaatctaagtggaaatacactaacagtaaata</td><td>atctttttatacttattaataatttttttcctgccgttacttgcttttaa</td><td>      0</td><td>      0</td><td>74.48</td><td>50.69</td><td>23.79</td><td>Bo</td><td>+</td><td>SRR1874045.878216</td><td>chrXI</td><td>+</td><td>219939</td><td>0</td><td>32M</td><td>GGTCTCCGGTTCGATTCCGGACTCGTCCACCA</td><td>AAAABFFBBBBBGGGGGGGGGGEHGHGGEGGH</td><td>-15</td><td>NA</td><td>3</td><td>3</td><td>FALSE</td></tr>\n",
       "</tbody>\n",
       "</table>\n"
      ],
      "text/latex": [
       "\\begin{tabular}{r|llllllllllllllllllllllllllll}\n",
       "  & Chr & Start & End & tRNA.Number & tRNA.type & Anticodon & Upstream & Downstream & Intron.Start & Intron.End & Cove & HMM & X2pStr & Hit.Origin & Strand & qname & rname & strand & pos & mapq & cigar & seq & qual & AS & XS & NM & toend & mature\\\\\n",
       "\\hline\n",
       "\t1 & chrIV & 410379 & 410451 & 3 & Ala & AGC & ttaagtgcaaacatgtaagaaagattctcggtaacgaccatacaaatatt & aattattttttactttccgcggtgccgagatgcagacgtggccaactgtg &       0 &       0 & 74.48 & 50.69 & 23.79 & Bo & + & SRR1874045.878216 & chrIV & + & 410423 & 0 & 32M & GGTCTCCGGTTCGATTCCGGACTCGTCCACCA & AAAABFFBBBBBGGGGGGGGGGEHGHGGEGGH & -15 & NA & 3 & 3 & FALSE\\\\\n",
       "\t2 & chrVI & 204924 & 204996 & 6 & Ala & AGC & tgtaaagtaaacctgtatcatttctgtttggaagatttcaacaaacgttc & tttaaatttttttattttttttgtcaaatctctctatctatagagataat &       0 &       0 & 74.48 & 50.69 & 23.79 & Bo & - & SRR1874045.878216 & chrVI & - & 204921 & 0 & 32M & TGGTGGACGAGTCCGGAATCGAACCGGAGACC & HGGEGGHGHEGGGGGGGGGGBBBBBFFBAAAA & -15 & NA & 3 & 3 & FALSE\\\\\n",
       "\t3 & chrVII & 774349 & 774421 & 15 & Ala & AGC & ttagatttacttcattattcttctctattctcccctttcatcaattaatt & aatttttttacttttaatgaggtatactggaatattacggctcttttttt &       0 &       0 & 74.48 & 50.69 & 23.79 & Bo & + & SRR1874045.878216 & chrVII & + & 774393 & 0 & 32M & GGTCTCCGGTTCGATTCCGGACTCGTCCACCA & AAAABFFBBBBBGGGGGGGGGGEHGHGGEGGH & -15 & NA & 3 & 3 & FALSE\\\\\n",
       "\t4 & chrVIII & 146242 & 146314 & 8 & Ala & AGC & acactccggtattactcgagcccgtaatacaacacattcaacaaatatca & atcttttttgttattaccataacagtactataaaggtctgttaatgtata &       0 &       0 & 74.48 & 50.69 & 23.79 & Bo & - & SRR1874045.878216 & chrVIII & - & 146239 & 0 & 32M & TGGTGGACGAGTCCGGAATCGAACCGGAGACC & HGGEGGHGHEGGGGGGGGGGBBBBBFFBAAAA & -15 & NA & 3 & 3 & FALSE\\\\\n",
       "\t5 & chrX & 197313 & 197385 & 22 & Ala & AGC & tgtcatactgacgtatctcactttgataaacaacaatatcaataatatta & atttctttttgttctcaacgacaataataagaaaatcaacttaaatggaa &       0 &       0 & 74.48 & 50.69 & 23.79 & Bo & - & SRR1874045.878216 & chrX & - & 197310 & 0 & 32M & TGGTGGACGAGTCCGGAATCGAACCGGAGACC & HGGEGGHGHEGGGGGGGGGGBBBBBFFBAAAA & -15 & NA & 3 & 3 & FALSE\\\\\n",
       "\t6 & chrXI & 219895 & 219967 & 4 & Ala & AGC & taaaagagcttgttatagtaatctaagtggaaatacactaacagtaaata & atctttttatacttattaataatttttttcctgccgttacttgcttttaa &       0 &       0 & 74.48 & 50.69 & 23.79 & Bo & + & SRR1874045.878216 & chrXI & + & 219939 & 0 & 32M & GGTCTCCGGTTCGATTCCGGACTCGTCCACCA & AAAABFFBBBBBGGGGGGGGGGEHGHGGEGGH & -15 & NA & 3 & 3 & FALSE\\\\\n",
       "\\end{tabular}\n"
      ],
      "text/plain": [
       "      Chr  Start    End tRNA.Number tRNA.type Anticodon\n",
       "1   chrIV 410379 410451           3       Ala       AGC\n",
       "2   chrVI 204924 204996           6       Ala       AGC\n",
       "3  chrVII 774349 774421          15       Ala       AGC\n",
       "4 chrVIII 146242 146314           8       Ala       AGC\n",
       "5    chrX 197313 197385          22       Ala       AGC\n",
       "6   chrXI 219895 219967           4       Ala       AGC\n",
       "                                            Upstream\n",
       "1 ttaagtgcaaacatgtaagaaagattctcggtaacgaccatacaaatatt\n",
       "2 tgtaaagtaaacctgtatcatttctgtttggaagatttcaacaaacgttc\n",
       "3 ttagatttacttcattattcttctctattctcccctttcatcaattaatt\n",
       "4 acactccggtattactcgagcccgtaatacaacacattcaacaaatatca\n",
       "5 tgtcatactgacgtatctcactttgataaacaacaatatcaataatatta\n",
       "6 taaaagagcttgttatagtaatctaagtggaaatacactaacagtaaata\n",
       "                                          Downstream Intron.Start Intron.End\n",
       "1 aattattttttactttccgcggtgccgagatgcagacgtggccaactgtg            0          0\n",
       "2 tttaaatttttttattttttttgtcaaatctctctatctatagagataat            0          0\n",
       "3 aatttttttacttttaatgaggtatactggaatattacggctcttttttt            0          0\n",
       "4 atcttttttgttattaccataacagtactataaaggtctgttaatgtata            0          0\n",
       "5 atttctttttgttctcaacgacaataataagaaaatcaacttaaatggaa            0          0\n",
       "6 atctttttatacttattaataatttttttcctgccgttacttgcttttaa            0          0\n",
       "   Cove   HMM X2pStr Hit.Origin Strand             qname   rname strand    pos\n",
       "1 74.48 50.69  23.79         Bo      + SRR1874045.878216   chrIV      + 410423\n",
       "2 74.48 50.69  23.79         Bo      - SRR1874045.878216   chrVI      - 204921\n",
       "3 74.48 50.69  23.79         Bo      + SRR1874045.878216  chrVII      + 774393\n",
       "4 74.48 50.69  23.79         Bo      - SRR1874045.878216 chrVIII      - 146239\n",
       "5 74.48 50.69  23.79         Bo      - SRR1874045.878216    chrX      - 197310\n",
       "6 74.48 50.69  23.79         Bo      + SRR1874045.878216   chrXI      + 219939\n",
       "  mapq cigar                              seq                             qual\n",
       "1    0   32M GGTCTCCGGTTCGATTCCGGACTCGTCCACCA AAAABFFBBBBBGGGGGGGGGGEHGHGGEGGH\n",
       "2    0   32M TGGTGGACGAGTCCGGAATCGAACCGGAGACC HGGEGGHGHEGGGGGGGGGGBBBBBFFBAAAA\n",
       "3    0   32M GGTCTCCGGTTCGATTCCGGACTCGTCCACCA AAAABFFBBBBBGGGGGGGGGGEHGHGGEGGH\n",
       "4    0   32M TGGTGGACGAGTCCGGAATCGAACCGGAGACC HGGEGGHGHEGGGGGGGGGGBBBBBFFBAAAA\n",
       "5    0   32M TGGTGGACGAGTCCGGAATCGAACCGGAGACC HGGEGGHGHEGGGGGGGGGGBBBBBFFBAAAA\n",
       "6    0   32M GGTCTCCGGTTCGATTCCGGACTCGTCCACCA AAAABFFBBBBBGGGGGGGGGGEHGHGGEGGH\n",
       "   AS XS NM toend mature\n",
       "1 -15 NA  3     3  FALSE\n",
       "2 -15 NA  3     3  FALSE\n",
       "3 -15 NA  3     3  FALSE\n",
       "4 -15 NA  3     3  FALSE\n",
       "5 -15 NA  3     3  FALSE\n",
       "6 -15 NA  3     3  FALSE"
      ]
     },
     "execution_count": 22,
     "metadata": {},
     "output_type": "execute_result"
    }
   ],
   "source": [
    "substrRight <- function(x, n) {\n",
    "    substr(x, nchar(x)-n+1, nchar(x))\n",
    "}\n",
    "mapped_reads = untreated\n",
    "anticodon = \"AGC\"\n",
    "tRNA_annotations = tRNA_annotations\n",
    "anticodon_tRNAs = filter(tRNA_annotations, Anticodon %in% anticodon)\n",
    "tRNA_read = merge(anticodon_tRNAs, mapped_reads, by = c(\"Chr\",\"Start\",\"End\"))\n",
    "x = tRNA_read\n",
    "x = sapply(seq(1,dim(x)[1]), function(i){\n",
    "    i = x[i,]\n",
    "    if (i$pos > i$Start) {\n",
    "        d_name = \"End\"\n",
    "    } else {\n",
    "        d_name = \"Start\"\n",
    "    }\n",
    "    #print(d_name)\n",
    "    if (i$strand == \"+\") {\n",
    "        if (d_name == \"Start\") {\n",
    "            i$toend = i$Start - i$pos\n",
    "            i$mature = i$toend <= 0\n",
    "        } else {\n",
    "            i$toend = i$pos + nchar(as.character(i$seq)) - 1 - i$End\n",
    "            # check for CCA\n",
    "            if(i$toend <= 3) {\n",
    "                lastchar = substrRight(i$seq, i$toend)\n",
    "                if (lastchar %in% c(\"C\",\"CC\",\"CCA\")) {\n",
    "                    i$mature = TRUE\n",
    "                } else {\n",
    "                    i$mature = FALSE\n",
    "                }\n",
    "            }\n",
    "        }\n",
    "        \n",
    "    } else if (i$strand == \"-\"){\n",
    "        if (d_name == \"Start\") {\n",
    "            i$toend = i$Start - i$pos\n",
    "            if(i$toend <= 3) {\n",
    "                lastchar = substr(i$seq, 1, i$toend)\n",
    "                if (lastchar %in% c(\"T\",\"TG\",\"TGG\")) {\n",
    "                    i$mature = TRUE\n",
    "                } else {\n",
    "                    i$mature = FALSE\n",
    "                }\n",
    "            }\n",
    "        } else {\n",
    "            i$toend = i$pos + nchar(as.character(i$seq)) - 1 - i$End)\n",
    "            i$mature = i$toend <= 0\n",
    "        }\n",
    "    }\n",
    "    return(i)\n",
    "})\n",
    "x$mature = x$toend <= 0\n",
    "head(x %>% filter(qname == \"SRR1874045.878216\"))"
   ]
  },
  {
   "cell_type": "code",
   "execution_count": 23,
   "metadata": {
    "collapsed": false
   },
   "outputs": [],
   "source": [
    "mapped_reads = untreated\n",
    "anticodon = \"AGC\"\n",
    "tRNA_annotations = tRNA_annotations\n",
    "anticodon_tRNAs = filter(tRNA_annotations, Anticodon %in% anticodon)\n",
    "tRNA_read = merge(anticodon_tRNAs, mapped_reads, by = c(\"Chr\",\"Start\",\"End\"))\n",
    "tRNA_read = filterReads(tRNA_read)\n",
    "#head(tRNA_read %>% filter(Chr == \"chrX\"))\n",
    "read = \"SRR1874045.352522\"\n",
    "thisreadset = filter(tRNA_read, qname == read)\n",
    "#print(thisreadset)\n",
    "oo = lapply(seq(1:dim(thisreadset)[1]), function(i) {\n",
    "    xx = thisreadset[i,]\n",
    "    ooo = as.numeric(remapRead(xx))\n",
    "    names(ooo) = paste(read, xx$Chr, xx$Start, sep=\":\")\n",
    "    return(unlist(ooo))\n",
    "})"
   ]
  },
  {
   "cell_type": "code",
   "execution_count": null,
   "metadata": {
    "collapsed": false
   },
   "outputs": [],
   "source": [
    "oo"
   ]
  },
  {
   "cell_type": "code",
   "execution_count": null,
   "metadata": {
    "collapsed": false
   },
   "outputs": [],
   "source": [
    "tmp = assignReads(untreated, tRNA_annotations, anticodon = \"AGC\", useBam = F, returnCounts = F)"
   ]
  },
  {
   "cell_type": "code",
   "execution_count": null,
   "metadata": {
    "collapsed": false
   },
   "outputs": [],
   "source": [
    "tmp2 = assignReads(untreated, tRNA_annotations, anticodon = \"AGC\", useBam = T, returnCounts = F)"
   ]
  },
  {
   "cell_type": "code",
   "execution_count": null,
   "metadata": {
    "collapsed": false
   },
   "outputs": [],
   "source": [
    "tmp3 = merge(data.frame(table(tmp$read)), data.frame(table(tmp2$read)), by = \"Var1\")"
   ]
  },
  {
   "cell_type": "code",
   "execution_count": null,
   "metadata": {
    "collapsed": false
   },
   "outputs": [],
   "source": [
    "cor(tmp3$Freq.x, tmp3$Freq.y, method = \"spearman\")"
   ]
  },
  {
   "cell_type": "code",
   "execution_count": null,
   "metadata": {
    "collapsed": false
   },
   "outputs": [],
   "source": [
    "tmp3"
   ]
  },
  {
   "cell_type": "code",
   "execution_count": null,
   "metadata": {
    "collapsed": false
   },
   "outputs": [],
   "source": [
    "tmp4 = merge(tmp, tmp2, by = \"read\")"
   ]
  },
  {
   "cell_type": "code",
   "execution_count": null,
   "metadata": {
    "collapsed": false
   },
   "outputs": [],
   "source": [
    "head(tmp4)"
   ]
  },
  {
   "cell_type": "code",
   "execution_count": null,
   "metadata": {
    "collapsed": false
   },
   "outputs": [],
   "source": [
    "tmp5 = filter(tmp4, read %in% names(which(table(tmp4$read) > 1))) \n",
    "tmp5[with(tmp5, order(-score.x, read)), ][1:19,]"
   ]
  },
  {
   "cell_type": "code",
   "execution_count": null,
   "metadata": {
    "collapsed": false
   },
   "outputs": [],
   "source": [
    "filter(tmp, read == \"SRR1874045.352522\")"
   ]
  },
  {
   "cell_type": "code",
   "execution_count": null,
   "metadata": {
    "collapsed": false
   },
   "outputs": [],
   "source": [
    "filter(tmp2, read == \"SRR1874045.352522\")"
   ]
  },
  {
   "cell_type": "code",
   "execution_count": null,
   "metadata": {
    "collapsed": false
   },
   "outputs": [],
   "source": [
    "ggplot(tmp3,aes(Freq.x, Freq.y)) + geom_point() +\n",
    "    #geom_smooth(method = \"lm\", se = FALSE, color = \"black\", lwd = .2, formula = y ~ 0 + x) +\n",
    "    geom_abline(slope = 1,intercept = 0)\n",
    "    xlab(\"# mappings, AB method\") + ylab(\"# mappings, Bowtie2\") + xlim(c(0,15)) + ylim(c(0,15))"
   ]
  },
  {
   "cell_type": "markdown",
   "metadata": {},
   "source": [
    "# Plots"
   ]
  },
  {
   "cell_type": "code",
   "execution_count": null,
   "metadata": {
    "collapsed": false,
    "scrolled": false
   },
   "outputs": [],
   "source": [
    "#  check distribution of all mapping points to the tRNA locus\n",
    "distance_dist = apply(cbind(abs(untreated$pos - untreated$Start), \n",
    "                            abs(untreated$pos - untreated$End)),1,min)\n",
    "options(repr.plot.width = 8)\n",
    "options(repr.plot.height = 4)\n",
    "plot(ecdf(distance_dist), main = \"Distance of read start to mature tRNA start/stop\", \n",
    "     xlab = \"Nucleotides\")"
   ]
  },
  {
   "cell_type": "markdown",
   "metadata": {
    "collapsed": false
   },
   "source": [
    "### Does the number of pre-tRNA reads scale with the # of reads aligning to mature sequence only?\n",
    "\n",
    "Note that this estimate could be off because I am missing reads that map to mature tRNA sequences with modifications. To get these I would need to run ARMseq pipeline"
   ]
  },
  {
   "cell_type": "code",
   "execution_count": null,
   "metadata": {
    "collapsed": false
   },
   "outputs": [],
   "source": [
    "all_merged = merge(tRNA_annotations, untreated, by = c(\"Chr\",\"Start\",\"End\"))\n",
    "tRNA_read_filtered = filterReads(all_merged, flip = F)\n",
    "tRNA_read_others = filterReads(all_merged, flip = T)"
   ]
  },
  {
   "cell_type": "code",
   "execution_count": null,
   "metadata": {
    "collapsed": false
   },
   "outputs": [],
   "source": [
    "nonpre = tRNA_read_others  %>% group_by(Anticodon) %>% do({data.frame(.$tRNA.type[1], counts = length(unique(.$qname)))})\n",
    "pre = tRNA_read_filtered  %>% group_by(Anticodon) %>% do({data.frame(.$tRNA.type[1], counts = length(unique(.$qname)))})"
   ]
  },
  {
   "cell_type": "code",
   "execution_count": null,
   "metadata": {
    "collapsed": true
   },
   "outputs": [],
   "source": [
    "preANDnonpre = merge(pre,nonpre,by=\"Anticodon\")"
   ]
  },
  {
   "cell_type": "code",
   "execution_count": null,
   "metadata": {
    "collapsed": false
   },
   "outputs": [],
   "source": [
    "ggplot(filter(preANDnonpre, counts.x < 15000), aes(x = counts.x, y = counts.y)) + \n",
    "    geom_point(aes(color = ..tRNA.type.1..x)) + \n",
    "    geom_smooth(method = \"lm\", se = FALSE, color = \"black\", lwd = .2, formula = y ~ 0 + x) +\n",
    "    xlab(\"# pre-tRNA Reads\") + ylab(\"# mature tRNA reads\")"
   ]
  }
 ],
 "metadata": {
  "kernelspec": {
   "display_name": "R",
   "language": "R",
   "name": "ir"
  },
  "language_info": {
   "codemirror_mode": "r",
   "file_extension": ".r",
   "mimetype": "text/x-r-source",
   "name": "R",
   "pygments_lexer": "r",
   "version": "3.2.2"
  }
 },
 "nbformat": 4,
 "nbformat_minor": 0
}
