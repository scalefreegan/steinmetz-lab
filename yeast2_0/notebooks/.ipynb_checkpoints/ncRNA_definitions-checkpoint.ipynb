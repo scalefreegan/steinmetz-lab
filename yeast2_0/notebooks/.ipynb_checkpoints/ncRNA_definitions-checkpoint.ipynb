{
 "cells": [
  {
   "cell_type": "markdown",
   "metadata": {},
   "source": [
    "## ncRNA definitions\n",
    "For ARM-seq pipeline"
   ]
  },
  {
   "cell_type": "code",
   "execution_count": null,
   "metadata": {
    "collapsed": true
   },
   "outputs": [],
   "source": [
    "# all ncRNAs according to http://www.gencodegenes.org/gencode_biotypes.html\n",
    "ncrna_definitions = c(\"rRNA\", \"scRNA\", \"snRNA\", \"snoRNA\", \"miRNA\", \"misc_RNA\", \"lincRNA\",\n",
    "                     \"snoRNA_pseudogene\", \"snRNA_pseudogene\", \"scRNA_pseudogene\",\n",
    "                      \"rRNA_pseudogene\", \"misc_RNA_pseudogene\", \"miRNA_pseudogene\")\n",
    "ncrna_biotypes = mcols(annotations)$gene_biotype %in% ncrna_definitions\n",
    "annotations_sub = annotations[ncrna_biotypes]\n",
    "export(annotations_sub, \"./pipeline/yeast-nontRNA-ncRNA.gtf\", format = \"gtf\")"
   ]
  }
 ],
 "metadata": {
  "kernelspec": {
   "display_name": "R",
   "language": "R",
   "name": "ir"
  },
  "language_info": {
   "codemirror_mode": "r",
   "file_extension": ".r",
   "mimetype": "text/x-r-source",
   "name": "R",
   "pygments_lexer": "r",
   "version": "3.2.2"
  }
 },
 "nbformat": 4,
 "nbformat_minor": 0
}
