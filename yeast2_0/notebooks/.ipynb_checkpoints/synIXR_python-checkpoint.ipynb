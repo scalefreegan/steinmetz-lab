{
 "cells": [
  {
   "cell_type": "markdown",
   "metadata": {},
   "source": [
    "###  Read native synIXR chromosome. Compile segments. Make scramble chromosome from segment config."
   ]
  },
  {
   "cell_type": "code",
   "execution_count": 1,
   "metadata": {
    "collapsed": false
   },
   "outputs": [],
   "source": [
    "from Bio import SeqIO\n",
    "import re\n",
    "import operator"
   ]
  },
  {
   "cell_type": "code",
   "execution_count": 2,
   "metadata": {
    "collapsed": true
   },
   "outputs": [],
   "source": [
    "gbfile = \"../synIXR/sequence.gb\""
   ]
  },
  {
   "cell_type": "code",
   "execution_count": 3,
   "metadata": {
    "collapsed": false
   },
   "outputs": [],
   "source": [
    "with open(gbfile, mode=\"r\") as f:\n",
    "    record = SeqIO.read(f, \"genbank\")"
   ]
  },
  {
   "cell_type": "markdown",
   "metadata": {},
   "source": [
    "Find features corresponding to loxP sites"
   ]
  },
  {
   "cell_type": "code",
   "execution_count": 4,
   "metadata": {
    "collapsed": false
   },
   "outputs": [],
   "source": [
    "loxPsites = {}\n",
    "p = re.compile(\"loxPsym\", re.IGNORECASE)\n",
    "for i in record.features:\n",
    "    if i.type == \"misc_feature\":\n",
    "        if re.search(p, i.qualifiers[\"note\"][0]):\n",
    "            n = i.qualifiers[\"note\"][0].partition(\" \")[2]\n",
    "            loxPsites[n] = i.location"
   ]
  },
  {
   "cell_type": "code",
   "execution_count": 10,
   "metadata": {
    "collapsed": false,
    "scrolled": true
   },
   "outputs": [],
   "source": [
    "# verify loxPsites\n",
    "#for k in loxPsites.keys():\n",
    "#    print record.seq[loxPsites[k].start.position:loxPsites[k].end.position]"
   ]
  },
  {
   "cell_type": "markdown",
   "metadata": {},
   "source": [
    "Need to shift the sequences to get proper segments. Find last instance of loxPsym site, shift to its location (so it is first bit of sequence)"
   ]
  },
  {
   "cell_type": "code",
   "execution_count": 6,
   "metadata": {
    "collapsed": false
   },
   "outputs": [],
   "source": [
    "lastInd, lastVal = max(enumerate([loxPsites[k].start.position for k in loxPsites.keys()]),key=operator.itemgetter(1))\n",
    "shift = len(record.seq)-lastVal\n",
    "tmp = record.seq\n",
    "record.seq = tmp[lastVal:len(tmp)]+tmp[0:len(tmp)-shift]"
   ]
  },
  {
   "cell_type": "code",
   "execution_count": 31,
   "metadata": {
    "collapsed": false
   },
   "outputs": [],
   "source": [
    "loxPseq = \"ATAACTTCGTATAATGTACATTATACGAAGTTAT\"\n",
    "segments = {(i):j for i, j in enumerate(record.seq[0:len(record.seq)].split(loxPseq)) if len(j)>0}"
   ]
  },
  {
   "cell_type": "code",
   "execution_count": 32,
   "metadata": {
    "collapsed": false
   },
   "outputs": [
    {
     "data": {
      "text/plain": [
       "{1: Seq('GCGGCCGCGGCCGGCCGCGATCGCTTTTTAAGCAAGGATTTTCTTAACTTCTTC...TTC', IUPACAmbiguousDNA()),\n",
       " 2: Seq('CGCATTCAATAACCTTATGTATTTTTACGCGTCACTGCGAACGGATGAATATTG...TTG', IUPACAmbiguousDNA()),\n",
       " 3: Seq('TGTTTATTTCGAATCTTTTTCTTGGGTAGAACTTTTAACGTTGTCAGACGGCAT...CTC', IUPACAmbiguousDNA()),\n",
       " 4: Seq('CTATCAAAAATCAGAATCTGAGCCCAGTATGTCATCTAATTCTGCGTTCGATAA...AAT', IUPACAmbiguousDNA()),\n",
       " 5: Seq('CTTATAAATAATATGTATGAATAAACTCTATAGTATGTATCAAGAGAGAAATAT...AGT', IUPACAmbiguousDNA()),\n",
       " 6: Seq('TAGCAATCATCTCTTGTATATTAAAAATTCAAAAATTCACTTTTTTTTATTATC...ATA', IUPACAmbiguousDNA()),\n",
       " 7: Seq('ATTTTTTCTTTCATCGCATATCTTATATTCATATAGCCTAGAAAAAAATAATCA...TAA', IUPACAmbiguousDNA()),\n",
       " 8: Seq('TATGTTTATTTTATTTTTTTCATATCCGCTCGAATATTGCCTTCGTTTAAGGTT...ACA', IUPACAmbiguousDNA()),\n",
       " 9: Seq('AAAATTGAACCAAAAGCTATAGTAGTCATATATATATATATACACCCTTTTTAT...CTG', IUPACAmbiguousDNA()),\n",
       " 10: Seq('GCTTAACGCTCTATTCATAGCAGCACGTATATACCGAGAAGAGCTGCCATAGGG...AAT', IUPACAmbiguousDNA()),\n",
       " 11: Seq('GGGTCAGAATCTGACAGTTCCGGTAAGTTCTTTGGGGATCCTTCTCTTAGTCCC...ATT', IUPACAmbiguousDNA()),\n",
       " 12: Seq('CAAGAAAGGAAAAGAAAAAAAATTACCAAAATGAAAAGAACGGAAAAAAAAGAT...TAA', IUPACAmbiguousDNA()),\n",
       " 13: Seq('ATATACATATATATATATTTATATGTAGATAGATGTGTGTATATATATGCTAGG...CGC', IUPACAmbiguousDNA()),\n",
       " 14: Seq('GGGTTACCTGCCCATGTTCCGTCTCTTAATGTCATTCAACAATTTCAAAGACTT...AGA', IUPACAmbiguousDNA()),\n",
       " 15: Seq('GAGAGAACTTCTTAATACTTATAAATACGTCATTGAACAGCTCAACTTTTGTAA...GAG', IUPACAmbiguousDNA()),\n",
       " 16: Seq('ACGTTAGTTTCCGACGAATTGAGCTGAAGCGGTGGACATTATCTCAAGGTACCG...GTA', IUPACAmbiguousDNA()),\n",
       " 17: Seq('TCATTAGAATACAACTGGAAGAGCGAGTAGCAACCACATAAAGTTTCCAAGAAC...TAA', IUPACAmbiguousDNA()),\n",
       " 18: Seq('ATATTAGTAAACAAACGAATACCTCCAAATCCATTGAATTGAAAATCCATTCCA...TAC', IUPACAmbiguousDNA()),\n",
       " 19: Seq('CCCGTCCTGCACGCCGTGGAACTGAGTCTAAGTTGACAAGGCTACGAATGAATT...TCC', IUPACAmbiguousDNA()),\n",
       " 20: Seq('TCTTATATAGCATGTAAATAGAAAGTACGTAAAAAAAAGCTACTATTGACTTTA...TAT', IUPACAmbiguousDNA()),\n",
       " 21: Seq('AAATAATAGCACATAAGTAAAAATGGAATACGGTAATAACTATATAGAAATATC...AGC', IUPACAmbiguousDNA()),\n",
       " 22: Seq('CTATTATAGAAATTTTGGGATTTTATCATGTTCTTTGGCGATTTCATTCAAATC...AAA', IUPACAmbiguousDNA()),\n",
       " 23: Seq('AATGCTCTCCTCAGCACCAAAATTCATCTATCTATTAAGATGTATACATACACA...TCT', IUPACAmbiguousDNA()),\n",
       " 24: Seq('AAGTTATCTATTTACTTTCTCGGATTCAAAATTAACCATGTTGGGCAAAGCAGT...TTT', IUPACAmbiguousDNA()),\n",
       " 25: Seq('AGTTTAACGTCTAGAATCAAGCAAAGTTTGACCCAATGGTGTTTTCGAGACTCC...ATA', IUPACAmbiguousDNA()),\n",
       " 26: Seq('AAAATCCCAATTTATTCTCTTACCAGTAGTGATCAGGAGAATTGATAATTTCTT...TAA', IUPACAmbiguousDNA()),\n",
       " 27: Seq('ATACTTAACTACTGTATATTTTAAACCAATGCACTCTTGGCACTTTAAAAGTAA...ATT', IUPACAmbiguousDNA()),\n",
       " 28: Seq('TATTTTTGTGAGTTGACAAATCTTATCATAGTGATTAGAATCTGTAAACCGATC...TAC', IUPACAmbiguousDNA()),\n",
       " 29: Seq('ATTCTATAATTTACTTAAGTCAACTGGTTTGGCACTTGGCTTAATAATTTCATC...GCA', IUPACAmbiguousDNA()),\n",
       " 30: Seq('GAATTAGATGATAATACAAACGTCGCCATCGCTGTAGTGTTCTTCCACACAGTC...TCT', IUPACAmbiguousDNA()),\n",
       " 31: Seq('GCTTTTTTACGTATATATATATATATATGTGTGTATAATGAAAAGACAGTACAC...TGT', IUPACAmbiguousDNA()),\n",
       " 32: Seq('AAATTACAATCTTGAAGATCTTTTAACACGAGCGCAATGTCTATCGAACAATTT...CTA', IUPACAmbiguousDNA()),\n",
       " 33: Seq('TCCTCAAGGCATAAAGTCCGCCAAGGCAGGGTCATTATAGCTCAAGTACTGTCC...TTA', IUPACAmbiguousDNA()),\n",
       " 34: Seq('GTATTAGCCCTGCACCGGCCCCAGTCGCTCATCGTTGTAGCGCAAGTATTGGCC...GCA', IUPACAmbiguousDNA()),\n",
       " 35: Seq('GGTCTTCTTCTTTTGAAGTTAGGTAAAGCTTAGTTTTCTTTTATATTTCCTGAT...AAC', IUPACAmbiguousDNA()),\n",
       " 36: Seq('GGTTTAGAAATTGCTACCTAAAGCACGCGCCTTTTCTTTGCTGGCGGCGTAGCT...GTA', IUPACAmbiguousDNA()),\n",
       " 37: Seq('AGACAAGAGATGAAAGTATTACAACAGAAAGATGGCACTTGTACTTATTAAAGT...CTC', IUPACAmbiguousDNA()),\n",
       " 38: Seq('TACTTATAAAAGAAAATAAGATATGAAGGACAATAATGAAAAGGAGAAAGAAGA...CAG', IUPACAmbiguousDNA()),\n",
       " 39: Seq('ACCTTAACAGTATACGACTCCCAACACACGTTTAATGTTGTACGAATTCAAGAG...AGA', IUPACAmbiguousDNA()),\n",
       " 40: Seq('CATGCCTTTACGAATGAGATTCCATAGACATTGAAAGTAACGAAAAAATGAAAT...GAG', IUPACAmbiguousDNA()),\n",
       " 41: Seq('TTTTCAGTTTGACAAGCTTTCTCTTATTGCTGCTATTCCTCTCTTTTGTTTGCC...TTT', IUPACAmbiguousDNA()),\n",
       " 42: Seq('TCATTAAAGACTTGTTACCACGGATTGTGCTTCTTTAACGTATGGCCATAGCTC...TTT', IUPACAmbiguousDNA()),\n",
       " 43: Seq('CCATCAGATGCTAAGTGGTAGCCATAATAGCATCCAGATGCGAAACGCTAAAGA...TGA', IUPACAmbiguousDNA())}"
      ]
     },
     "execution_count": 32,
     "metadata": {},
     "output_type": "execute_result"
    }
   ],
   "source": [
    "segments"
   ]
  },
  {
   "cell_type": "code",
   "execution_count": 21,
   "metadata": {
    "collapsed": false
   },
   "outputs": [],
   "source": [
    "def seg2seq(segments = segments, segmentOrder = [1,2,3]):\n",
    "    loxPseq = \"ATAACTTCGTATAATGTACATTATACGAAGTTAT\"\n",
    "    # assume loxPseq site before first base\n",
    "    fseq = loxPseq\n",
    "    for ind, val in enumerate(segmentOrder):\n",
    "        if ind == len(segmentOrder)-1:\n",
    "            fseq = fseq + segments[val]\n",
    "        else:\n",
    "            fseq = fseq + segments[val] + loxPseq\n",
    "    return fseq"
   ]
  },
  {
   "cell_type": "code",
   "execution_count": 34,
   "metadata": {
    "collapsed": false
   },
   "outputs": [],
   "source": [
    "tmp = seg2seq(segmentOrder = [3,2,1])"
   ]
  },
  {
   "cell_type": "code",
   "execution_count": 35,
   "metadata": {
    "collapsed": false
   },
   "outputs": [],
   "source": [
    "segments_check = {(i):j for i, j in enumerate(tmp[0:len(tmp)].split(loxPseq))}"
   ]
  },
  {
   "cell_type": "code",
   "execution_count": 36,
   "metadata": {
    "collapsed": false
   },
   "outputs": [
    {
     "data": {
      "text/plain": [
       "{0: Seq('', IUPACAmbiguousDNA()),\n",
       " 1: Seq('TGTTTATTTCGAATCTTTTTCTTGGGTAGAACTTTTAACGTTGTCAGACGGCAT...CTC', IUPACAmbiguousDNA()),\n",
       " 2: Seq('CGCATTCAATAACCTTATGTATTTTTACGCGTCACTGCGAACGGATGAATATTG...TTG', IUPACAmbiguousDNA()),\n",
       " 3: Seq('GCGGCCGCGGCCGGCCGCGATCGCTTTTTAAGCAAGGATTTTCTTAACTTCTTC...TTC', IUPACAmbiguousDNA())}"
      ]
     },
     "execution_count": 36,
     "metadata": {},
     "output_type": "execute_result"
    }
   ],
   "source": [
    "segments_check"
   ]
  },
  {
   "cell_type": "code",
   "execution_count": 37,
   "metadata": {
    "collapsed": false
   },
   "outputs": [
    {
     "data": {
      "text/plain": [
       "Seq('ATAACTTCGTATAATGTACATTATACGAAGTTATTGTTTATTTCGAATCTTTTT...TTC', IUPACAmbiguousDNA())"
      ]
     },
     "execution_count": 37,
     "metadata": {},
     "output_type": "execute_result"
    }
   ],
   "source": [
    "tmp"
   ]
  },
  {
   "cell_type": "code",
   "execution_count": null,
   "metadata": {
    "collapsed": true
   },
   "outputs": [],
   "source": []
  }
 ],
 "metadata": {
  "kernelspec": {
   "display_name": "Python 2",
   "language": "python",
   "name": "python2"
  },
  "language_info": {
   "codemirror_mode": {
    "name": "ipython",
    "version": 2
   },
   "file_extension": ".py",
   "mimetype": "text/x-python",
   "name": "python",
   "nbconvert_exporter": "python",
   "pygments_lexer": "ipython2",
   "version": "2.7.11"
  }
 },
 "nbformat": 4,
 "nbformat_minor": 0
}
