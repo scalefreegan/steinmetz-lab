{
 "cells": [
  {
   "cell_type": "markdown",
   "metadata": {},
   "source": [
    "# System commands to process ARMseq data"
   ]
  },
  {
   "cell_type": "markdown",
   "metadata": {},
   "source": [
    "## Download files"
   ]
  },
  {
   "cell_type": "markdown",
   "metadata": {},
   "source": [
    "### Yeast, untreated"
   ]
  },
  {
   "cell_type": "code",
   "execution_count": null,
   "metadata": {
    "collapsed": true
   },
   "outputs": [],
   "source": [
    "fastq-dump --gzip --split-files SRR1874045\n",
    "fastq-dump --gzip --split-files SRR1874048\n",
    "fastq-dump --gzip --split-files SRR1875056"
   ]
  },
  {
   "cell_type": "markdown",
   "metadata": {},
   "source": [
    "### Yeast, AlkB treated"
   ]
  },
  {
   "cell_type": "code",
   "execution_count": null,
   "metadata": {
    "collapsed": true
   },
   "outputs": [],
   "source": [
    "fastq-dump --gzip --split-files SRR1874029\n",
    "fastq-dump --gzip --split-files SRR1874032\n",
    "fastq-dump --gzip --split-files SRR1874034"
   ]
  },
  {
   "cell_type": "markdown",
   "metadata": {},
   "source": [
    "## Trim adapter sequences"
   ]
  },
  {
   "cell_type": "markdown",
   "metadata": {},
   "source": [
    "### untreated"
   ]
  },
  {
   "cell_type": "code",
   "execution_count": null,
   "metadata": {
    "collapsed": true
   },
   "outputs": [],
   "source": [
    "cutadapt -a AGATCGGAAGAGCACACG -m 15 --discard-untrimmed -o ../data/yeast_untreated/SRR1874045_trimmed.fastq.gz ../data/yeast_untreated/SRR1874045_1.fastq.gz\n",
    "cutadapt -a AGATCGGAAGAGCACACG -m 15 --discard-untrimmed -o ../data/yeast_untreated/SRR1874048_trimmed.fastq.gz ../data/yeast_untreated/SRR1874048_1.fastq.gz\n",
    "cutadapt -a AGATCGGAAGAGCACACG -m 15 --discard-untrimmed -o ../data/yeast_untreated/SRR1875056_trimmed.fastq.gz ../data/yeast_untreated/SRR1875056_1.fastq.gz"
   ]
  },
  {
   "cell_type": "markdown",
   "metadata": {},
   "source": [
    "### alkB treated"
   ]
  },
  {
   "cell_type": "code",
   "execution_count": null,
   "metadata": {
    "collapsed": true
   },
   "outputs": [],
   "source": [
    "cutadapt -a AGATCGGAAGAGCACACG -m 15 --discard-untrimmed -o ../data/yeast_AlkB/SRR1874029_trimmed.fastq.gz ../data/yeast_AlkB/SRR1874029_1.fastq.gz\n",
    "cutadapt -a AGATCGGAAGAGCACACG -m 15 --discard-untrimmed -o ../data/yeast_AlkB/SRR1874032_trimmed.fastq.gz ../data/yeast_AlkB/SRR1874032_1.fastq.gz\n",
    "cutadapt -a AGATCGGAAGAGCACACG -m 15 --discard-untrimmed -o ../data/yeast_AlkB/SRR1874034_trimmed.fastq.gz ../data/yeast_AlkB/SRR1874034_1.fastq.gz"
   ]
  },
  {
   "cell_type": "markdown",
   "metadata": {},
   "source": [
    "### align untreated"
   ]
  },
  {
   "cell_type": "code",
   "execution_count": null,
   "metadata": {
    "collapsed": true
   },
   "outputs": [],
   "source": [
    "untreated=(\"../data/yeast_untreated/SRR1874045_trimmed.fastq.gz\", \"../data/yeast_untreated/SRR1874048_trimmed.fastq.gz\", \"../data/yeast_untreated/SRR1875056_trimmed.fastq.gz\")\n",
    "bowtie2 -x /g/steinmetz/genome/Saccharomyces_cerevisiae/S288c_ERCC/ver_20150412/indexes/bowtie2/S288c_complete_wERCC -k 100 -U $untreated -p 10 | samtools view -bS | samtools sort -o untreated.bam\n",
    "samtools index untreated.bam"
   ]
  },
  {
   "cell_type": "markdown",
   "metadata": {},
   "source": [
    "### align untreated - very-sensitive, end-to-end"
   ]
  },
  {
   "cell_type": "code",
   "execution_count": null,
   "metadata": {
    "collapsed": true
   },
   "outputs": [],
   "source": [
    "untreated=(\"../data/yeast_untreated/SRR1874045_trimmed.fastq.gz\", \"../data/yeast_untreated/SRR1874048_trimmed.fastq.gz\", \"../data/yeast_untreated/SRR1875056_trimmed.fastq.gz\")\n",
    "bowtie2 -x /g/steinmetz/genome/Saccharomyces_cerevisiae/S288c_ERCC/ver_20150412/indexes/bowtie2/S288c_complete_wERCC -k 100 -U $untreated -p 10 --very-sensitive | samtools view -bS | samtools sort -o untreated_vse2e.bam\n",
    "samtools index untreated_vse2e.bam"
   ]
  },
  {
   "cell_type": "markdown",
   "metadata": {},
   "source": [
    "### align treated"
   ]
  },
  {
   "cell_type": "code",
   "execution_count": null,
   "metadata": {
    "collapsed": true
   },
   "outputs": [],
   "source": [
    "treated=(\"../data/yeast_AlkB/SRR1874029_trimmed.fastq.gz\", \"../data/yeast_AlkB/SRR1874032_trimmed.fastq.gz\", \"../data/yeast_AlkB/SRR1874034_trimmed.fastq.gz\")\n",
    "bowtie2 -x /g/steinmetz/genome/Saccharomyces_cerevisiae/S288c_ERCC/ver_20150412/indexes/bowtie2/S288c_complete_wERCC -k 100 -U $treated -p 10  | samtools view -bS | samtools sort -o treated.bam\n",
    "samtools index treated.bam"
   ]
  },
  {
   "cell_type": "markdown",
   "metadata": {},
   "source": [
    "### align untreated - very-sensitive, end-to-end"
   ]
  },
  {
   "cell_type": "code",
   "execution_count": null,
   "metadata": {
    "collapsed": true
   },
   "outputs": [],
   "source": [
    "treated=(\"../data/yeast_AlkB/SRR1874029_trimmed.fastq.gz\", \"../data/yeast_AlkB/SRR1874032_trimmed.fastq.gz\", \"../data/yeast_AlkB/SRR1874034_trimmed.fastq.gz\")\n",
    "bowtie2 -x /g/steinmetz/genome/Saccharomyces_cerevisiae/S288c_ERCC/ver_20150412/indexes/bowtie2/S288c_complete_wERCC -k 100 -U $treated -p 10 --very-sensitive | samtools view -bS | samtools sort -o treated_vse2e.bam\n",
    "samtools index treated_vse2e.bam"
   ]
  }
 ],
 "metadata": {
  "kernelspec": {
   "display_name": "Bash",
   "language": "bash",
   "name": "bash"
  },
  "language_info": {
   "codemirror_mode": "shell",
   "file_extension": ".sh",
   "mimetype": "text/x-sh",
   "name": "bash"
  }
 },
 "nbformat": 4,
 "nbformat_minor": 0
}
