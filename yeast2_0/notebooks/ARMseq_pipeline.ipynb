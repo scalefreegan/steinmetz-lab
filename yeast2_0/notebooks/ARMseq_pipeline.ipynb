{
 "cells": [
  {
   "cell_type": "markdown",
   "metadata": {},
   "source": [
    "# ARMseq Pipeline\n",
    "\n",
    "Getting ARMseq pipeline to work. Yeast data.\n",
    "\n",
    "Note: not all commands can be excuted from this script. See Preliminaries"
   ]
  },
  {
   "cell_type": "code",
   "execution_count": 1,
   "metadata": {
    "collapsed": true
   },
   "outputs": [],
   "source": [
    ".libPaths(\"~/R/x86_64-redhat-linux-gnu-library/3.2/\")\n",
    "options(repr.plot.width = 6)\n",
    "options(repr.plot.height = 5)\n",
    "options(jupyter.plot_mimetypes = 'image/png')"
   ]
  },
  {
   "cell_type": "code",
   "execution_count": 2,
   "metadata": {
    "collapsed": false
   },
   "outputs": [
    {
     "name": "stderr",
     "output_type": "stream",
     "text": [
      "\n",
      "Attaching package: ‘dplyr’\n",
      "\n",
      "The following objects are masked from ‘package:stats’:\n",
      "\n",
      "    filter, lag\n",
      "\n",
      "The following objects are masked from ‘package:base’:\n",
      "\n",
      "    intersect, setdiff, setequal, union\n",
      "\n",
      "Loading required package: GenomicRanges\n",
      "Loading required package: BiocGenerics\n",
      "Loading required package: parallel\n",
      "\n",
      "Attaching package: ‘BiocGenerics’\n",
      "\n",
      "The following objects are masked from ‘package:parallel’:\n",
      "\n",
      "    clusterApply, clusterApplyLB, clusterCall, clusterEvalQ,\n",
      "    clusterExport, clusterMap, parApply, parCapply, parLapply,\n",
      "    parLapplyLB, parRapply, parSapply, parSapplyLB\n",
      "\n",
      "The following objects are masked from ‘package:dplyr’:\n",
      "\n",
      "    combine, intersect, setdiff, union\n",
      "\n",
      "The following object is masked from ‘package:stats’:\n",
      "\n",
      "    xtabs\n",
      "\n",
      "The following objects are masked from ‘package:base’:\n",
      "\n",
      "    anyDuplicated, append, as.data.frame, as.vector, cbind, colnames,\n",
      "    do.call, duplicated, eval, evalq, Filter, Find, get, intersect,\n",
      "    is.unsorted, lapply, Map, mapply, match, mget, order, paste, pmax,\n",
      "    pmax.int, pmin, pmin.int, Position, rank, rbind, Reduce, rep.int,\n",
      "    rownames, sapply, setdiff, sort, table, tapply, union, unique,\n",
      "    unlist, unsplit\n",
      "\n",
      "Loading required package: S4Vectors\n",
      "Loading required package: stats4\n",
      "Creating a generic function for ‘nchar’ from package ‘base’ in package ‘S4Vectors’\n",
      "\n",
      "Attaching package: ‘S4Vectors’\n",
      "\n",
      "The following object is masked from ‘package:dplyr’:\n",
      "\n",
      "    rename\n",
      "\n",
      "Loading required package: IRanges\n",
      "\n",
      "Attaching package: ‘IRanges’\n",
      "\n",
      "The following objects are masked from ‘package:dplyr’:\n",
      "\n",
      "    collapse, desc, slice\n",
      "\n",
      "Loading required package: GenomeInfoDb\n",
      "Loading required package: XVector\n",
      "Loading required package: Biostrings\n",
      "Loading required package: ade4\n",
      "\n",
      "Attaching package: ‘ade4’\n",
      "\n",
      "The following object is masked from ‘package:Biostrings’:\n",
      "\n",
      "    score\n",
      "\n",
      "The following object is masked from ‘package:rtracklayer’:\n",
      "\n",
      "    score\n",
      "\n",
      "The following object is masked from ‘package:GenomicRanges’:\n",
      "\n",
      "    score\n",
      "\n",
      "The following object is masked from ‘package:IRanges’:\n",
      "\n",
      "    score\n",
      "\n",
      "The following object is masked from ‘package:BiocGenerics’:\n",
      "\n",
      "    score\n",
      "\n",
      "\n",
      "Attaching package: ‘seqinr’\n",
      "\n",
      "The following object is masked from ‘package:Biostrings’:\n",
      "\n",
      "    translate\n",
      "\n",
      "The following objects are masked from ‘package:dplyr’:\n",
      "\n",
      "    count, query\n",
      "\n"
     ]
    }
   ],
   "source": [
    "library(dplyr)\n",
    "library(rtracklayer)\n",
    "library(ggplot2)\n",
    "library(Rsamtools)\n",
    "library(Biostrings)\n",
    "library(seqinr)\n",
    "library(parallel)\n",
    "options(mc.cores = 24)"
   ]
  },
  {
   "cell_type": "code",
   "execution_count": 3,
   "metadata": {
    "collapsed": false
   },
   "outputs": [
    {
     "name": "stderr",
     "output_type": "stream",
     "text": [
      "SHA-1 hash of file is 7565259173739547b4f1cbdfab1ca6430db08508\n"
     ]
    }
   ],
   "source": [
    "devtools::source_url(\"https://raw.githubusercontent.com/scalefreegan/steinmetz-lab/master/yeast2_0/scripts/seqtools.R\")"
   ]
  },
  {
   "cell_type": "code",
   "execution_count": 4,
   "metadata": {
    "collapsed": false
   },
   "outputs": [],
   "source": [
    "genome = read.fasta(\"/g/steinmetz/genome/Saccharomyces_cerevisiae/S288c_ERCC/ver_20150412/fasta/S288c_complete_wERCC.fsa\")"
   ]
  },
  {
   "cell_type": "markdown",
   "metadata": {
    "collapsed": false
   },
   "source": [
    "## Preliminaries\n",
    "\n",
    "First you must download ARMseq datasets with SRA toolkit (`fastq-dump`), cut adapter sequences with `cutadapt`, and then align, sort, and index the reads using `bowtie2`. [This](processANDalign.txt) bash script does these steps. Final output are bam files."
   ]
  },
  {
   "cell_type": "markdown",
   "metadata": {},
   "source": [
    "## Remapping in R"
   ]
  },
  {
   "cell_type": "code",
   "execution_count": 5,
   "metadata": {
    "collapsed": true
   },
   "outputs": [],
   "source": [
    "# working directory\n",
    "setwd(\"/g/steinmetz/project/IESY/trna/ARMseq/\")"
   ]
  },
  {
   "cell_type": "markdown",
   "metadata": {},
   "source": [
    "### Load tRNA annotations from [GtRNAdb](http://gtrnadb.ucsc.edu/genomes/eukaryota/Scere3/)\n",
    "\n",
    "*Extend upstream and downstream regions with `window` parameter*"
   ]
  },
  {
   "cell_type": "code",
   "execution_count": 6,
   "metadata": {
    "collapsed": false
   },
   "outputs": [],
   "source": [
    "window = 50\n",
    "\n",
    "tRNA_annotations = read.delim(\n",
    "    \"../ARMseq/data/tRNA_isoforms_wleaders_4R.txt\", sep = \"\\t\", header = T, strip.white=TRUE)\n",
    "# switch start / end when end < start. denote strand instead\n",
    "tRNA_annotations = data.frame(do.call(rbind, apply(tRNA_annotations, 1, function(i){\n",
    "    #print(i[\"Start\"])\n",
    "    if (i[\"Chr\"] == \"chrM\") {\n",
    "        i[\"Chr\"] = \"chrMT\"\n",
    "    }\n",
    "    if (as.numeric(i[\"Start\"]) < as.numeric(i[\"End\"])) {\n",
    "        o = i\n",
    "        # modify upstream/downstream sequences based on window of interest\n",
    "        o$Upstream = paste(genome[[i[\"Chr\"]]][seq((as.numeric(i[\"Start\"]) - window),\n",
    "                                                          (as.numeric(i[\"Start\"]) - 1))], collapse = \"\")\n",
    "        o$Downstream = paste(genome[[i[\"Chr\"]]][seq((as.numeric(i[\"End\"]) + 1),\n",
    "                                                          (as.numeric(i[\"End\"]) + window))], collapse = \"\")\n",
    "        o$Start = as.numeric(i[\"Start\"])\n",
    "        o$End = as.numeric(i[\"End\"])\n",
    "        o$Strand = \"+\"\n",
    "    } else {\n",
    "        o = i\n",
    "        # modify upstream/downstream sequences based on window of interest\n",
    "        o$Upstream = tolower(as.character(reverseComplement(DNAString(paste(genome[[i[\"Chr\"]]][seq((as.numeric(i[\"Start\"]) + 1),\n",
    "                                                          (as.numeric(i[\"Start\"]) + window))], collapse = \"\")))))\n",
    "        o$Downstream = tolower(as.character(reverseComplement(DNAString(paste(genome[[i[\"Chr\"]]][seq((as.numeric(i[\"End\"]) - window),\n",
    "                                                          (as.numeric(i[\"End\"]) - 1))], collapse = \"\")))))\n",
    "        o$Start = as.numeric(i[\"End\"])\n",
    "        o$End = as.numeric(i[\"Start\"])\n",
    "        o$Strand = \"-\"\n",
    "    }\n",
    "    return(o)\n",
    "})))\n",
    "tRNA_annotations$Start = as.numeric(tRNA_annotations$Start)\n",
    "tRNA_annotations$End = as.numeric(tRNA_annotations$End)\n",
    "tRNA_annotations$End = as.numeric(tRNA_annotations$End)\n",
    "tRNA_annotations$tRNA.Number = as.numeric(tRNA_annotations$tRNA.Number)\n",
    "tRNA_annotations$tRNA.type = as.character(tRNA_annotations$tRNA.type)\n",
    "tRNA_annotations$Anticodon = unlist(tRNA_annotations$Anticodon)"
   ]
  },
  {
   "cell_type": "code",
   "execution_count": 7,
   "metadata": {
    "collapsed": false
   },
   "outputs": [
    {
     "data": {
      "text/html": [
       "<table>\n",
       "<thead><tr><th></th><th scope=col>Chr</th><th scope=col>tRNA.Number</th><th scope=col>Start</th><th scope=col>End</th><th scope=col>tRNA.type</th><th scope=col>Anticodon</th><th scope=col>Upstream</th><th scope=col>Downstream</th><th scope=col>Intron.Start</th><th scope=col>Intron.End</th><th scope=col>Cove</th><th scope=col>HMM</th><th scope=col>X2pStr</th><th scope=col>Hit.Origin</th><th scope=col>Strand</th></tr></thead>\n",
       "<tbody>\n",
       "\t<tr><th scope=row>1</th><td>chrIV</td><td>3</td><td>410379</td><td>410451</td><td>Ala</td><td>AGC</td><td>ttaagtgcaaacatgtaagaaagattctcggtaacgaccatacaaatatt</td><td>aattattttttactttccgcggtgccgagatgcagacgtggccaactgtg</td><td>      0</td><td>      0</td><td>74.48</td><td>50.69</td><td>23.79</td><td>Bo</td><td>+</td></tr>\n",
       "\t<tr><th scope=row>2</th><td>chrVI</td><td>6</td><td>204924</td><td>204996</td><td>Ala</td><td>AGC</td><td>tgtaaagtaaacctgtatcatttctgtttggaagatttcaacaaacgttc</td><td>tttaaatttttttattttttttgtcaaatctctctatctatagagataat</td><td>      0</td><td>      0</td><td>74.48</td><td>50.69</td><td>23.79</td><td>Bo</td><td>-</td></tr>\n",
       "\t<tr><th scope=row>3</th><td>chrVII</td><td>15</td><td>774349</td><td>774421</td><td>Ala</td><td>AGC</td><td>ttagatttacttcattattcttctctattctcccctttcatcaattaatt</td><td>aatttttttacttttaatgaggtatactggaatattacggctcttttttt</td><td>      0</td><td>      0</td><td>74.48</td><td>50.69</td><td>23.79</td><td>Bo</td><td>+</td></tr>\n",
       "\t<tr><th scope=row>4</th><td>chrVIII</td><td>8</td><td>146242</td><td>146314</td><td>Ala</td><td>AGC</td><td>acactccggtattactcgagcccgtaatacaacacattcaacaaatatca</td><td>atcttttttgttattaccataacagtactataaaggtctgttaatgtata</td><td>      0</td><td>      0</td><td>74.48</td><td>50.69</td><td>23.79</td><td>Bo</td><td>-</td></tr>\n",
       "\t<tr><th scope=row>5</th><td>chrX</td><td>22</td><td>197313</td><td>197385</td><td>Ala</td><td>AGC</td><td>tgtcatactgacgtatctcactttgataaacaacaatatcaataatatta</td><td>atttctttttgttctcaacgacaataataagaaaatcaacttaaatggaa</td><td>      0</td><td>      0</td><td>74.48</td><td>50.69</td><td>23.79</td><td>Bo</td><td>-</td></tr>\n",
       "\t<tr><th scope=row>6</th><td>chrXI</td><td>4</td><td>219895</td><td>219967</td><td>Ala</td><td>AGC</td><td>taaaagagcttgttatagtaatctaagtggaaatacactaacagtaaata</td><td>atctttttatacttattaataatttttttcctgccgttacttgcttttaa</td><td>      0</td><td>      0</td><td>74.48</td><td>50.69</td><td>23.79</td><td>Bo</td><td>+</td></tr>\n",
       "</tbody>\n",
       "</table>\n"
      ],
      "text/latex": [
       "\\begin{tabular}{r|lllllllllllllll}\n",
       "  & Chr & tRNA.Number & Start & End & tRNA.type & Anticodon & Upstream & Downstream & Intron.Start & Intron.End & Cove & HMM & X2pStr & Hit.Origin & Strand\\\\\n",
       "\\hline\n",
       "\t1 & chrIV & 3 & 410379 & 410451 & Ala & AGC & ttaagtgcaaacatgtaagaaagattctcggtaacgaccatacaaatatt & aattattttttactttccgcggtgccgagatgcagacgtggccaactgtg &       0 &       0 & 74.48 & 50.69 & 23.79 & Bo & +\\\\\n",
       "\t2 & chrVI & 6 & 204924 & 204996 & Ala & AGC & tgtaaagtaaacctgtatcatttctgtttggaagatttcaacaaacgttc & tttaaatttttttattttttttgtcaaatctctctatctatagagataat &       0 &       0 & 74.48 & 50.69 & 23.79 & Bo & -\\\\\n",
       "\t3 & chrVII & 15 & 774349 & 774421 & Ala & AGC & ttagatttacttcattattcttctctattctcccctttcatcaattaatt & aatttttttacttttaatgaggtatactggaatattacggctcttttttt &       0 &       0 & 74.48 & 50.69 & 23.79 & Bo & +\\\\\n",
       "\t4 & chrVIII & 8 & 146242 & 146314 & Ala & AGC & acactccggtattactcgagcccgtaatacaacacattcaacaaatatca & atcttttttgttattaccataacagtactataaaggtctgttaatgtata &       0 &       0 & 74.48 & 50.69 & 23.79 & Bo & -\\\\\n",
       "\t5 & chrX & 22 & 197313 & 197385 & Ala & AGC & tgtcatactgacgtatctcactttgataaacaacaatatcaataatatta & atttctttttgttctcaacgacaataataagaaaatcaacttaaatggaa &       0 &       0 & 74.48 & 50.69 & 23.79 & Bo & -\\\\\n",
       "\t6 & chrXI & 4 & 219895 & 219967 & Ala & AGC & taaaagagcttgttatagtaatctaagtggaaatacactaacagtaaata & atctttttatacttattaataatttttttcctgccgttacttgcttttaa &       0 &       0 & 74.48 & 50.69 & 23.79 & Bo & +\\\\\n",
       "\\end{tabular}\n"
      ],
      "text/plain": [
       "      Chr tRNA.Number  Start    End tRNA.type Anticodon\n",
       "1   chrIV           3 410379 410451       Ala       AGC\n",
       "2   chrVI           6 204924 204996       Ala       AGC\n",
       "3  chrVII          15 774349 774421       Ala       AGC\n",
       "4 chrVIII           8 146242 146314       Ala       AGC\n",
       "5    chrX          22 197313 197385       Ala       AGC\n",
       "6   chrXI           4 219895 219967       Ala       AGC\n",
       "                                            Upstream\n",
       "1 ttaagtgcaaacatgtaagaaagattctcggtaacgaccatacaaatatt\n",
       "2 tgtaaagtaaacctgtatcatttctgtttggaagatttcaacaaacgttc\n",
       "3 ttagatttacttcattattcttctctattctcccctttcatcaattaatt\n",
       "4 acactccggtattactcgagcccgtaatacaacacattcaacaaatatca\n",
       "5 tgtcatactgacgtatctcactttgataaacaacaatatcaataatatta\n",
       "6 taaaagagcttgttatagtaatctaagtggaaatacactaacagtaaata\n",
       "                                          Downstream Intron.Start Intron.End\n",
       "1 aattattttttactttccgcggtgccgagatgcagacgtggccaactgtg            0          0\n",
       "2 tttaaatttttttattttttttgtcaaatctctctatctatagagataat            0          0\n",
       "3 aatttttttacttttaatgaggtatactggaatattacggctcttttttt            0          0\n",
       "4 atcttttttgttattaccataacagtactataaaggtctgttaatgtata            0          0\n",
       "5 atttctttttgttctcaacgacaataataagaaaatcaacttaaatggaa            0          0\n",
       "6 atctttttatacttattaataatttttttcctgccgttacttgcttttaa            0          0\n",
       "   Cove   HMM X2pStr Hit.Origin Strand\n",
       "1 74.48 50.69  23.79         Bo      +\n",
       "2 74.48 50.69  23.79         Bo      -\n",
       "3 74.48 50.69  23.79         Bo      +\n",
       "4 74.48 50.69  23.79         Bo      -\n",
       "5 74.48 50.69  23.79         Bo      -\n",
       "6 74.48 50.69  23.79         Bo      +"
      ]
     },
     "execution_count": 7,
     "metadata": {},
     "output_type": "execute_result"
    }
   ],
   "source": [
    "head(tRNA_annotations)"
   ]
  },
  {
   "cell_type": "markdown",
   "metadata": {},
   "source": [
    "### Extract only reads aligned to these regions from bam files\n",
    "\n",
    "*Steps*\n",
    "1. Make GRanges object\n",
    "2. Convert to RangesList\n",
    "3. Use `scanBam` from `Rsamtools` to extract alignments\n",
    "4. Process bam file so that it can be combined with tRNA table above"
   ]
  },
  {
   "cell_type": "code",
   "execution_count": 8,
   "metadata": {
    "collapsed": false
   },
   "outputs": [],
   "source": [
    "window2 = 50\n",
    "\n",
    "gr <- GRanges(\n",
    "    seqnames = Rle(unlist(tRNA_annotations$Chr)),\n",
    "    ranges = IRanges(start = tRNA_annotations$Start - window2,\n",
    "                 end = tRNA_annotations$End + window2),\n",
    "    strand = Rle(unlist(tRNA_annotations$Strand)),\n",
    "    mcols = select(tRNA_annotations, tRNA.Number,tRNA.type, Upstream, Downstream)\n",
    ")"
   ]
  },
  {
   "cell_type": "code",
   "execution_count": 9,
   "metadata": {
    "collapsed": false
   },
   "outputs": [],
   "source": [
    "gr_list = RangesList(lapply(seq(1,length(gr)),function(i){ranges(gr[i,])}))\n",
    "names(gr_list) = seqnames(gr)"
   ]
  },
  {
   "cell_type": "markdown",
   "metadata": {},
   "source": [
    "Import bam files for the following samples/alignments:\n",
    "\n",
    "- AlkB treated\n",
    "- AlkB trated with very-sensitive, end-to-end alignment\n",
    "- Untreated\n",
    "- Untreated with very-sensitive, end-to-end alignment"
   ]
  },
  {
   "cell_type": "code",
   "execution_count": 10,
   "metadata": {
    "collapsed": false
   },
   "outputs": [
    {
     "name": "stderr",
     "output_type": "stream",
     "text": [
      "Warning message:\n",
      "In `levels<-`(`*tmp*`, value = if (nl == nL) as.character(labels) else paste0(labels, : duplicated levels in factors are deprecatedWarning message:\n",
      "In `levels<-`(`*tmp*`, value = if (nl == nL) as.character(labels) else paste0(labels, : duplicated levels in factors are deprecatedWarning message:\n",
      "In `levels<-`(`*tmp*`, value = if (nl == nL) as.character(labels) else paste0(labels, : duplicated levels in factors are deprecatedWarning message:\n",
      "In `levels<-`(`*tmp*`, value = if (nl == nL) as.character(labels) else paste0(labels, : duplicated levels in factors are deprecated"
     ]
    }
   ],
   "source": [
    "fdir = \"/g/steinmetz/project/IESY/trna/ARMseq/data/\" # where are the bam files\n",
    "what = c(\"qname\", \"rname\", \"strand\", \"pos\", \"mapq\", \"cigar\", \"seq\", \"qual\") # what to access from alignments\n",
    "tags = c(\"AS\", \"XS\", \"NM\")\n",
    "param = ScanBamParam(which = gr_list, what = what, tag = tags)\n",
    "\n",
    "\n",
    "untreated <- scanBam(paste0(fdir,\"untreated.bam\"), param=param, \n",
    "               index = paste0(fdir,\"untreated.bam.bai\"))\n",
    "#untreated_vse2e <- scanBam(paste0(fdir,\"untreated_vse2e.bam\"), param=param, \n",
    "#               index = paste0(fdir,\"untreated_vse2e.bam.bai\"))\n",
    "# alkB <- scanBam(paste0(fdir,\"treated.bam\"), param=param, \n",
    "#                index = paste0(fdir,\"treated.bam.bai\"))\n",
    "# alkB_vse2e <- scanBam(paste0(fdir,\"treated_vse2e.bam\"), param=param, \n",
    "#                index = paste0(fdir,\"treated_vse2e.bam.bai\"))"
   ]
  },
  {
   "cell_type": "markdown",
   "metadata": {},
   "source": [
    "Alter bam data.frame to make it compatible with tRNA data.frame"
   ]
  },
  {
   "cell_type": "code",
   "execution_count": 12,
   "metadata": {
    "collapsed": false
   },
   "outputs": [],
   "source": [
    "untreated = makeHappyBam(untreated, tRNA_annotations)\n",
    "#untreated_vse2e = makeHappyBam(untreated_vse2e, tRNA_annotations)\n",
    "#alkB = makeHappyBam(alkB)\n",
    "#alkB_vse2e = makeHappyBam(alkB_vse2e)"
   ]
  },
  {
   "cell_type": "code",
   "execution_count": 20,
   "metadata": {
    "collapsed": false
   },
   "outputs": [
    {
     "data": {
      "text/html": [
       "88"
      ],
      "text/latex": [
       "88"
      ],
      "text/markdown": [
       "88"
      ],
      "text/plain": [
       "[1] 88"
      ]
     },
     "execution_count": 20,
     "metadata": {},
     "output_type": "execute_result"
    }
   ],
   "source": [
    "nchar(as.character(untreated$seq[1]))"
   ]
  },
  {
   "cell_type": "code",
   "execution_count": 21,
   "metadata": {
    "collapsed": false
   },
   "outputs": [],
   "source": [
    "tmp = unlist(mclapply(untreated$seq,function(i){nchar(as.character(untreated$seq[i]))}))"
   ]
  },
  {
   "cell_type": "code",
   "execution_count": 23,
   "metadata": {
    "collapsed": false
   },
   "outputs": [
    {
     "data": {
      "image/png": "[encoded data removed]"
     },
     "metadata": {},
     "output_type": "display_data"
    }
   ],
   "source": [
    "hist(tmp)"
   ]
  },
  {
   "cell_type": "markdown",
   "metadata": {},
   "source": [
    "### Try to assign counts for all reads (tRNAs)"
   ]
  },
  {
   "cell_type": "code",
   "execution_count": 26,
   "metadata": {
    "collapsed": false
   },
   "outputs": [
    {
     "data": {
      "text/html": [
       "<table>\n",
       "<thead><tr><th></th><th scope=col>Chr</th><th scope=col>Start</th><th scope=col>End</th><th scope=col>tRNA.Number</th><th scope=col>tRNA.type</th><th scope=col>Anticodon</th><th scope=col>Upstream</th><th scope=col>Downstream</th><th scope=col>Intron.Start</th><th scope=col>Intron.End</th><th scope=col>Cove</th><th scope=col>HMM</th><th scope=col>X2pStr</th><th scope=col>Hit.Origin</th><th scope=col>Strand</th><th scope=col>qname</th><th scope=col>rname</th><th scope=col>strand</th><th scope=col>pos</th><th scope=col>mapq</th><th scope=col>cigar</th><th scope=col>seq</th><th scope=col>qual</th><th scope=col>AS</th><th scope=col>XS</th><th scope=col>NM</th></tr></thead>\n",
       "<tbody>\n",
       "\t<tr><th scope=row>1</th><td>chrIV</td><td>410379</td><td>410451</td><td>3</td><td>Ala</td><td>AGC</td><td>ttaagtgcaaacatgtaagaaagattctcggtaacgaccatacaaatatt</td><td>aattattttttactttccgcggtgccgagatgcagacgtggccaactgtg</td><td>      0</td><td>      0</td><td>74.48</td><td>50.69</td><td>23.79</td><td>Bo</td><td>+</td><td>SRR1874045.292256</td><td>chrIV</td><td>+</td><td>410430</td><td>0</td><td>25M</td><td>GGTTCGATTCCGGACTCGTCCACTA</td><td>BCABBCCFFFFFGGGGGGGGGEHHH</td><td>-15</td><td>NA</td><td>3</td></tr>\n",
       "\t<tr><th scope=row>2</th><td>chrVI</td><td>204924</td><td>204996</td><td>6</td><td>Ala</td><td>AGC</td><td>tgtaaagtaaacctgtatcatttctgtttggaagatttcaacaaacgttc</td><td>tttaaatttttttattttttttgtcaaatctctctatctatagagataat</td><td>      0</td><td>      0</td><td>74.48</td><td>50.69</td><td>23.79</td><td>Bo</td><td>-</td><td>SRR1874045.292256</td><td>chrVI</td><td>-</td><td>204921</td><td>0</td><td>25M</td><td>TAGTGGACGAGTCCGGAATCGAACC</td><td>HHHEGGGGGGGGGFFFFFCCBBACB</td><td>-10</td><td>NA</td><td>2</td></tr>\n",
       "\t<tr><th scope=row>3</th><td>chrVII</td><td>774349</td><td>774421</td><td>15</td><td>Ala</td><td>AGC</td><td>ttagatttacttcattattcttctctattctcccctttcatcaattaatt</td><td>aatttttttacttttaatgaggtatactggaatattacggctcttttttt</td><td>      0</td><td>      0</td><td>74.48</td><td>50.69</td><td>23.79</td><td>Bo</td><td>+</td><td>SRR1874045.292256</td><td>chrVII</td><td>+</td><td>774400</td><td>0</td><td>25M</td><td>GGTTCGATTCCGGACTCGTCCACTA</td><td>BCABBCCFFFFFGGGGGGGGGEHHH</td><td>-15</td><td>NA</td><td>3</td></tr>\n",
       "\t<tr><th scope=row>4</th><td>chrVIII</td><td>146242</td><td>146314</td><td>8</td><td>Ala</td><td>AGC</td><td>acactccggtattactcgagcccgtaatacaacacattcaacaaatatca</td><td>atcttttttgttattaccataacagtactataaaggtctgttaatgtata</td><td>      0</td><td>      0</td><td>74.48</td><td>50.69</td><td>23.79</td><td>Bo</td><td>-</td><td>SRR1874045.292256</td><td>chrVIII</td><td>-</td><td>146239</td><td>0</td><td>25M</td><td>TAGTGGACGAGTCCGGAATCGAACC</td><td>HHHEGGGGGGGGGFFFFFCCBBACB</td><td>-10</td><td>NA</td><td>2</td></tr>\n",
       "\t<tr><th scope=row>5</th><td>chrX</td><td>197313</td><td>197385</td><td>22</td><td>Ala</td><td>AGC</td><td>tgtcatactgacgtatctcactttgataaacaacaatatcaataatatta</td><td>atttctttttgttctcaacgacaataataagaaaatcaacttaaatggaa</td><td>      0</td><td>      0</td><td>74.48</td><td>50.69</td><td>23.79</td><td>Bo</td><td>-</td><td>SRR1874045.292256</td><td>chrX</td><td>-</td><td>197310</td><td>0</td><td>25M</td><td>TAGTGGACGAGTCCGGAATCGAACC</td><td>HHHEGGGGGGGGGFFFFFCCBBACB</td><td>-10</td><td>NA</td><td>2</td></tr>\n",
       "\t<tr><th scope=row>6</th><td>chrXI</td><td>219895</td><td>219967</td><td>4</td><td>Ala</td><td>AGC</td><td>taaaagagcttgttatagtaatctaagtggaaatacactaacagtaaata</td><td>atctttttatacttattaataatttttttcctgccgttacttgcttttaa</td><td>      0</td><td>      0</td><td>74.48</td><td>50.69</td><td>23.79</td><td>Bo</td><td>+</td><td>SRR1874045.292256</td><td>chrXI</td><td>+</td><td>219946</td><td>0</td><td>25M</td><td>GGTTCGATTCCGGACTCGTCCACTA</td><td>BCABBCCFFFFFGGGGGGGGGEHHH</td><td>-10</td><td>NA</td><td>2</td></tr>\n",
       "\t<tr><th scope=row>7</th><td>chrXI</td><td>517988</td><td>518060</td><td>9</td><td>Ala</td><td>AGC</td><td>gtaaaaatatatgatccaattcctaggacatcagaaaatatatctactat</td><td>ttttaaaatttctttttttttttttctctttccgtatgtaagcttttttc</td><td>      0</td><td>      0</td><td>74.48</td><td>50.69</td><td>23.79</td><td>Bo</td><td>+</td><td>SRR1874045.292256</td><td>chrXI</td><td>+</td><td>518039</td><td>0</td><td>25M</td><td>GGTTCGATTCCGGACTCGTCCACTA</td><td>BCABBCCFFFFFGGGGGGGGGEHHH</td><td>-10</td><td>NA</td><td>2</td></tr>\n",
       "\t<tr><th scope=row>8</th><td>chrXII</td><td>656934</td><td>657006</td><td>16</td><td>Ala</td><td>AGC</td><td>tatcatactgacgtaccccattctgaaacacaacagacaacaagaaaatt</td><td>agtaaatattttttgcaacttcttcaacctccaattattattcgatcatt</td><td>      0</td><td>      0</td><td>74.48</td><td>50.69</td><td>23.79</td><td>Bo</td><td>-</td><td>SRR1874045.292256</td><td>chrXII</td><td>-</td><td>656931</td><td>0</td><td>25M</td><td>TAGTGGACGAGTCCGGAATCGAACC</td><td>HHHEGGGGGGGGGFFFFFCCBBACB</td><td>-15</td><td>NA</td><td>3</td></tr>\n",
       "\t<tr><th scope=row>9</th><td>chrXIII</td><td>321147</td><td>321219</td><td>17</td><td>Ala</td><td>AGC</td><td>tatcctacatttatgttttctatacttcttcaaagtcttcaatacaaatc</td><td>ttttttatttttttggctaactaacccatatataacgtcttttacgaggt</td><td>      0</td><td>      0</td><td>74.48</td><td>50.69</td><td>23.79</td><td>Bo</td><td>-</td><td>SRR1874045.292256</td><td>chrXIII</td><td>-</td><td>321144</td><td>0</td><td>25M</td><td>TAGTGGACGAGTCCGGAATCGAACC</td><td>HHHEGGGGGGGGGFFFFFCCBBACB</td><td>-10</td><td>NA</td><td>2</td></tr>\n",
       "\t<tr><th scope=row>10</th><td>chrXIII</td><td>768369</td><td>768441</td><td>9</td><td>Ala</td><td>AGC</td><td>ttttaaactgatttcactttttacagtggctagaaattacaataagaaat</td><td>aattttttgctactttgcaattagtgtaacttcatatttaaaattatagt</td><td>      0</td><td>      0</td><td>74.48</td><td>50.69</td><td>23.79</td><td>Bo</td><td>-</td><td>SRR1874045.292256</td><td>chrXIII</td><td>-</td><td>768366</td><td>0</td><td>25M</td><td>TAGTGGACGAGTCCGGAATCGAACC</td><td>HHHEGGGGGGGGGFFFFFCCBBACB</td><td>-15</td><td>NA</td><td>3</td></tr>\n",
       "\t<tr><th scope=row>11</th><td>chrXVI</td><td>856902</td><td>856974</td><td>7</td><td>Ala</td><td>AGC</td><td>acactccggtattactcgagcccgtaatacaacaatttacaacaagattc</td><td>ttttaatttttgattatggaatacaaaatgtatatttcgtataaaattat</td><td>      0</td><td>      0</td><td>74.48</td><td>50.69</td><td>23.79</td><td>Bo</td><td>+</td><td>SRR1874045.292256</td><td>chrXVI</td><td>+</td><td>856953</td><td>0</td><td>25M</td><td>GGTTCGATTCCGGACTCGTCCACTA</td><td>BCABBCCFFFFFGGGGGGGGGEHHH</td><td>-10</td><td>NA</td><td>2</td></tr>\n",
       "</tbody>\n",
       "</table>\n"
      ],
      "text/latex": [
       "\\begin{tabular}{r|llllllllllllllllllllllllll}\n",
       "  & Chr & Start & End & tRNA.Number & tRNA.type & Anticodon & Upstream & Downstream & Intron.Start & Intron.End & Cove & HMM & X2pStr & Hit.Origin & Strand & qname & rname & strand & pos & mapq & cigar & seq & qual & AS & XS & NM\\\\\n",
       "\\hline\n",
       "\t1 & chrIV & 410379 & 410451 & 3 & Ala & AGC & ttaagtgcaaacatgtaagaaagattctcggtaacgaccatacaaatatt & aattattttttactttccgcggtgccgagatgcagacgtggccaactgtg &       0 &       0 & 74.48 & 50.69 & 23.79 & Bo & + & SRR1874045.292256 & chrIV & + & 410430 & 0 & 25M & GGTTCGATTCCGGACTCGTCCACTA & BCABBCCFFFFFGGGGGGGGGEHHH & -15 & NA & 3\\\\\n",
       "\t2 & chrVI & 204924 & 204996 & 6 & Ala & AGC & tgtaaagtaaacctgtatcatttctgtttggaagatttcaacaaacgttc & tttaaatttttttattttttttgtcaaatctctctatctatagagataat &       0 &       0 & 74.48 & 50.69 & 23.79 & Bo & - & SRR1874045.292256 & chrVI & - & 204921 & 0 & 25M & TAGTGGACGAGTCCGGAATCGAACC & HHHEGGGGGGGGGFFFFFCCBBACB & -10 & NA & 2\\\\\n",
       "\t3 & chrVII & 774349 & 774421 & 15 & Ala & AGC & ttagatttacttcattattcttctctattctcccctttcatcaattaatt & aatttttttacttttaatgaggtatactggaatattacggctcttttttt &       0 &       0 & 74.48 & 50.69 & 23.79 & Bo & + & SRR1874045.292256 & chrVII & + & 774400 & 0 & 25M & GGTTCGATTCCGGACTCGTCCACTA & BCABBCCFFFFFGGGGGGGGGEHHH & -15 & NA & 3\\\\\n",
       "\t4 & chrVIII & 146242 & 146314 & 8 & Ala & AGC & acactccggtattactcgagcccgtaatacaacacattcaacaaatatca & atcttttttgttattaccataacagtactataaaggtctgttaatgtata &       0 &       0 & 74.48 & 50.69 & 23.79 & Bo & - & SRR1874045.292256 & chrVIII & - & 146239 & 0 & 25M & TAGTGGACGAGTCCGGAATCGAACC & HHHEGGGGGGGGGFFFFFCCBBACB & -10 & NA & 2\\\\\n",
       "\t5 & chrX & 197313 & 197385 & 22 & Ala & AGC & tgtcatactgacgtatctcactttgataaacaacaatatcaataatatta & atttctttttgttctcaacgacaataataagaaaatcaacttaaatggaa &       0 &       0 & 74.48 & 50.69 & 23.79 & Bo & - & SRR1874045.292256 & chrX & - & 197310 & 0 & 25M & TAGTGGACGAGTCCGGAATCGAACC & HHHEGGGGGGGGGFFFFFCCBBACB & -10 & NA & 2\\\\\n",
       "\t6 & chrXI & 219895 & 219967 & 4 & Ala & AGC & taaaagagcttgttatagtaatctaagtggaaatacactaacagtaaata & atctttttatacttattaataatttttttcctgccgttacttgcttttaa &       0 &       0 & 74.48 & 50.69 & 23.79 & Bo & + & SRR1874045.292256 & chrXI & + & 219946 & 0 & 25M & GGTTCGATTCCGGACTCGTCCACTA & BCABBCCFFFFFGGGGGGGGGEHHH & -10 & NA & 2\\\\\n",
       "\t7 & chrXI & 517988 & 518060 & 9 & Ala & AGC & gtaaaaatatatgatccaattcctaggacatcagaaaatatatctactat & ttttaaaatttctttttttttttttctctttccgtatgtaagcttttttc &       0 &       0 & 74.48 & 50.69 & 23.79 & Bo & + & SRR1874045.292256 & chrXI & + & 518039 & 0 & 25M & GGTTCGATTCCGGACTCGTCCACTA & BCABBCCFFFFFGGGGGGGGGEHHH & -10 & NA & 2\\\\\n",
       "\t8 & chrXII & 656934 & 657006 & 16 & Ala & AGC & tatcatactgacgtaccccattctgaaacacaacagacaacaagaaaatt & agtaaatattttttgcaacttcttcaacctccaattattattcgatcatt &       0 &       0 & 74.48 & 50.69 & 23.79 & Bo & - & SRR1874045.292256 & chrXII & - & 656931 & 0 & 25M & TAGTGGACGAGTCCGGAATCGAACC & HHHEGGGGGGGGGFFFFFCCBBACB & -15 & NA & 3\\\\\n",
       "\t9 & chrXIII & 321147 & 321219 & 17 & Ala & AGC & tatcctacatttatgttttctatacttcttcaaagtcttcaatacaaatc & ttttttatttttttggctaactaacccatatataacgtcttttacgaggt &       0 &       0 & 74.48 & 50.69 & 23.79 & Bo & - & SRR1874045.292256 & chrXIII & - & 321144 & 0 & 25M & TAGTGGACGAGTCCGGAATCGAACC & HHHEGGGGGGGGGFFFFFCCBBACB & -10 & NA & 2\\\\\n",
       "\t10 & chrXIII & 768369 & 768441 & 9 & Ala & AGC & ttttaaactgatttcactttttacagtggctagaaattacaataagaaat & aattttttgctactttgcaattagtgtaacttcatatttaaaattatagt &       0 &       0 & 74.48 & 50.69 & 23.79 & Bo & - & SRR1874045.292256 & chrXIII & - & 768366 & 0 & 25M & TAGTGGACGAGTCCGGAATCGAACC & HHHEGGGGGGGGGFFFFFCCBBACB & -15 & NA & 3\\\\\n",
       "\t11 & chrXVI & 856902 & 856974 & 7 & Ala & AGC & acactccggtattactcgagcccgtaatacaacaatttacaacaagattc & ttttaatttttgattatggaatacaaaatgtatatttcgtataaaattat &       0 &       0 & 74.48 & 50.69 & 23.79 & Bo & + & SRR1874045.292256 & chrXVI & + & 856953 & 0 & 25M & GGTTCGATTCCGGACTCGTCCACTA & BCABBCCFFFFFGGGGGGGGGEHHH & -10 & NA & 2\\\\\n",
       "\\end{tabular}\n"
      ],
      "text/plain": [
       "       Chr  Start    End tRNA.Number tRNA.type Anticodon\n",
       "1    chrIV 410379 410451           3       Ala       AGC\n",
       "2    chrVI 204924 204996           6       Ala       AGC\n",
       "3   chrVII 774349 774421          15       Ala       AGC\n",
       "4  chrVIII 146242 146314           8       Ala       AGC\n",
       "5     chrX 197313 197385          22       Ala       AGC\n",
       "6    chrXI 219895 219967           4       Ala       AGC\n",
       "7    chrXI 517988 518060           9       Ala       AGC\n",
       "8   chrXII 656934 657006          16       Ala       AGC\n",
       "9  chrXIII 321147 321219          17       Ala       AGC\n",
       "10 chrXIII 768369 768441           9       Ala       AGC\n",
       "11  chrXVI 856902 856974           7       Ala       AGC\n",
       "                                             Upstream\n",
       "1  ttaagtgcaaacatgtaagaaagattctcggtaacgaccatacaaatatt\n",
       "2  tgtaaagtaaacctgtatcatttctgtttggaagatttcaacaaacgttc\n",
       "3  ttagatttacttcattattcttctctattctcccctttcatcaattaatt\n",
       "4  acactccggtattactcgagcccgtaatacaacacattcaacaaatatca\n",
       "5  tgtcatactgacgtatctcactttgataaacaacaatatcaataatatta\n",
       "6  taaaagagcttgttatagtaatctaagtggaaatacactaacagtaaata\n",
       "7  gtaaaaatatatgatccaattcctaggacatcagaaaatatatctactat\n",
       "8  tatcatactgacgtaccccattctgaaacacaacagacaacaagaaaatt\n",
       "9  tatcctacatttatgttttctatacttcttcaaagtcttcaatacaaatc\n",
       "10 ttttaaactgatttcactttttacagtggctagaaattacaataagaaat\n",
       "11 acactccggtattactcgagcccgtaatacaacaatttacaacaagattc\n",
       "                                           Downstream Intron.Start Intron.End\n",
       "1  aattattttttactttccgcggtgccgagatgcagacgtggccaactgtg            0          0\n",
       "2  tttaaatttttttattttttttgtcaaatctctctatctatagagataat            0          0\n",
       "3  aatttttttacttttaatgaggtatactggaatattacggctcttttttt            0          0\n",
       "4  atcttttttgttattaccataacagtactataaaggtctgttaatgtata            0          0\n",
       "5  atttctttttgttctcaacgacaataataagaaaatcaacttaaatggaa            0          0\n",
       "6  atctttttatacttattaataatttttttcctgccgttacttgcttttaa            0          0\n",
       "7  ttttaaaatttctttttttttttttctctttccgtatgtaagcttttttc            0          0\n",
       "8  agtaaatattttttgcaacttcttcaacctccaattattattcgatcatt            0          0\n",
       "9  ttttttatttttttggctaactaacccatatataacgtcttttacgaggt            0          0\n",
       "10 aattttttgctactttgcaattagtgtaacttcatatttaaaattatagt            0          0\n",
       "11 ttttaatttttgattatggaatacaaaatgtatatttcgtataaaattat            0          0\n",
       "    Cove   HMM X2pStr Hit.Origin Strand             qname   rname strand    pos\n",
       "1  74.48 50.69  23.79         Bo      + SRR1874045.292256   chrIV      + 410430\n",
       "2  74.48 50.69  23.79         Bo      - SRR1874045.292256   chrVI      - 204921\n",
       "3  74.48 50.69  23.79         Bo      + SRR1874045.292256  chrVII      + 774400\n",
       "4  74.48 50.69  23.79         Bo      - SRR1874045.292256 chrVIII      - 146239\n",
       "5  74.48 50.69  23.79         Bo      - SRR1874045.292256    chrX      - 197310\n",
       "6  74.48 50.69  23.79         Bo      + SRR1874045.292256   chrXI      + 219946\n",
       "7  74.48 50.69  23.79         Bo      + SRR1874045.292256   chrXI      + 518039\n",
       "8  74.48 50.69  23.79         Bo      - SRR1874045.292256  chrXII      - 656931\n",
       "9  74.48 50.69  23.79         Bo      - SRR1874045.292256 chrXIII      - 321144\n",
       "10 74.48 50.69  23.79         Bo      - SRR1874045.292256 chrXIII      - 768366\n",
       "11 74.48 50.69  23.79         Bo      + SRR1874045.292256  chrXVI      + 856953\n",
       "   mapq cigar                       seq                      qual  AS XS NM\n",
       "1     0   25M GGTTCGATTCCGGACTCGTCCACTA BCABBCCFFFFFGGGGGGGGGEHHH -15 NA  3\n",
       "2     0   25M TAGTGGACGAGTCCGGAATCGAACC HHHEGGGGGGGGGFFFFFCCBBACB -10 NA  2\n",
       "3     0   25M GGTTCGATTCCGGACTCGTCCACTA BCABBCCFFFFFGGGGGGGGGEHHH -15 NA  3\n",
       "4     0   25M TAGTGGACGAGTCCGGAATCGAACC HHHEGGGGGGGGGFFFFFCCBBACB -10 NA  2\n",
       "5     0   25M TAGTGGACGAGTCCGGAATCGAACC HHHEGGGGGGGGGFFFFFCCBBACB -10 NA  2\n",
       "6     0   25M GGTTCGATTCCGGACTCGTCCACTA BCABBCCFFFFFGGGGGGGGGEHHH -10 NA  2\n",
       "7     0   25M GGTTCGATTCCGGACTCGTCCACTA BCABBCCFFFFFGGGGGGGGGEHHH -10 NA  2\n",
       "8     0   25M TAGTGGACGAGTCCGGAATCGAACC HHHEGGGGGGGGGFFFFFCCBBACB -15 NA  3\n",
       "9     0   25M TAGTGGACGAGTCCGGAATCGAACC HHHEGGGGGGGGGFFFFFCCBBACB -10 NA  2\n",
       "10    0   25M TAGTGGACGAGTCCGGAATCGAACC HHHEGGGGGGGGGFFFFFCCBBACB -15 NA  3\n",
       "11    0   25M GGTTCGATTCCGGACTCGTCCACTA BCABBCCFFFFFGGGGGGGGGEHHH -10 NA  2"
      ]
     },
     "execution_count": 26,
     "metadata": {},
     "output_type": "execute_result"
    }
   ],
   "source": [
    "mapped_reads = untreated\n",
    "anticodon = \"AGC\"\n",
    "tRNA_annotations = tRNA_annotations\n",
    "anticodon_tRNAs = filter(tRNA_annotations, Anticodon %in% anticodon)\n",
    "tRNA_read = merge(anticodon_tRNAs, mapped_reads, by = c(\"Chr\",\"Start\",\"End\"))\n",
    "x = tRNA_read\n",
    "\n",
    "#head(filterMature(x %>% filter(qname = \"SRR1874045.362855\"), clean = T, flip = F))\n",
    "\n",
    "x %>% filter(qname == \"SRR1874045.292256\")"
   ]
  },
  {
   "cell_type": "code",
   "execution_count": 27,
   "metadata": {
    "collapsed": false
   },
   "outputs": [
    {
     "name": "stdout",
     "output_type": "stream",
     "text": [
      "43.42% of reads mapped uniquely\n"
     ]
    }
   ],
   "source": [
    "tmp = assignReads(untreated, tRNA_annotations, anticodon = \"AGC\", useBam = F, returnCounts = F)"
   ]
  },
  {
   "cell_type": "code",
   "execution_count": 33,
   "metadata": {
    "collapsed": false
   },
   "outputs": [
    {
     "name": "stdout",
     "output_type": "stream",
     "text": [
      "41.77% of reads mapped uniquely\n"
     ]
    }
   ],
   "source": [
    "tmp2 = assignReads(untreated, tRNA_annotations, anticodon = \"AGC\", useBam = T, returnCounts = F)"
   ]
  },
  {
   "cell_type": "code",
   "execution_count": null,
   "metadata": {
    "collapsed": false
   },
   "outputs": [],
   "source": [
    "tmp3 = merge(data.frame(table(tmp$read)), data.frame(table(tmp2$read)), by = \"Var1\")"
   ]
  },
  {
   "cell_type": "code",
   "execution_count": null,
   "metadata": {
    "collapsed": false
   },
   "outputs": [],
   "source": [
    "tmp %>% filter(read == \"SRR1874045.292256\")"
   ]
  },
  {
   "cell_type": "code",
   "execution_count": null,
   "metadata": {
    "collapsed": false
   },
   "outputs": [],
   "source": [
    "tmp2 %>% filter(read == \"SRR1874045.292256\")"
   ]
  },
  {
   "cell_type": "code",
   "execution_count": null,
   "metadata": {
    "collapsed": false
   },
   "outputs": [],
   "source": [
    "cor(tmp3$Freq.x, tmp3$Freq.y, method = \"spearman\")"
   ]
  },
  {
   "cell_type": "code",
   "execution_count": null,
   "metadata": {
    "collapsed": false
   },
   "outputs": [],
   "source": [
    "tmp4 = merge(tmp, tmp2, by = \"read\")"
   ]
  },
  {
   "cell_type": "code",
   "execution_count": null,
   "metadata": {
    "collapsed": false
   },
   "outputs": [],
   "source": [
    "#head(tmp4)"
   ]
  },
  {
   "cell_type": "code",
   "execution_count": null,
   "metadata": {
    "collapsed": false
   },
   "outputs": [],
   "source": [
    "#tmp5 = filter(tmp4, read %in% names(which(table(tmp4$read) > 1))) \n",
    "#tmp5[with(tmp5, order(-score.x, read)), ][1:19,]"
   ]
  },
  {
   "cell_type": "code",
   "execution_count": null,
   "metadata": {
    "collapsed": false
   },
   "outputs": [],
   "source": [
    "ggplot(tmp3,aes(Freq.x, Freq.y)) + geom_point() +\n",
    "    #geom_smooth(method = \"lm\", se = FALSE, color = \"black\", lwd = .2, formula = y ~ 0 + x) +\n",
    "    geom_abline(slope = 1,intercept = 0) +\n",
    "    xlab(\"# mappings, AB method\") + ylab(\"# mappings, Bowtie2\") + xlim(c(0,15)) + ylim(c(0,15))"
   ]
  },
  {
   "cell_type": "markdown",
   "metadata": {},
   "source": [
    "# Plots"
   ]
  },
  {
   "cell_type": "code",
   "execution_count": null,
   "metadata": {
    "collapsed": false,
    "scrolled": false
   },
   "outputs": [],
   "source": [
    "#  check distribution of all mapping points to the tRNA locus\n",
    "distance_dist = apply(cbind(abs(untreated$pos - untreated$Start), \n",
    "                            abs(untreated$pos - untreated$End)),1,min)\n",
    "options(repr.plot.width = 8)\n",
    "options(repr.plot.height = 4)\n",
    "plot(ecdf(distance_dist), main = \"Distance of read start to mature tRNA start/stop\", \n",
    "     xlab = \"Nucleotides\")"
   ]
  },
  {
   "cell_type": "markdown",
   "metadata": {
    "collapsed": false
   },
   "source": [
    "### Does the number of pre-tRNA reads scale with the # of reads aligning to mature sequence only?\n",
    "\n",
    "Note that this estimate could be off because I am missing reads that map to mature tRNA sequences with modifications. To get these I would need to run ARMseq pipeline"
   ]
  },
  {
   "cell_type": "code",
   "execution_count": null,
   "metadata": {
    "collapsed": false
   },
   "outputs": [],
   "source": [
    "all_merged = merge(tRNA_annotations, untreated, by = c(\"Chr\",\"Start\",\"End\"))\n",
    "tRNA_read_filtered = filterMature(all_merged, flip = F)\n",
    "tRNA_read_others = filterMature(all_merged, flip = T)"
   ]
  },
  {
   "cell_type": "code",
   "execution_count": null,
   "metadata": {
    "collapsed": false
   },
   "outputs": [],
   "source": [
    "nonpre = tRNA_read_others  %>% group_by(Anticodon) %>% do({data.frame(.$tRNA.type[1], counts = length(unique(.$qname)))})\n",
    "pre = tRNA_read_filtered  %>% group_by(Anticodon) %>% do({data.frame(.$tRNA.type[1], counts = length(unique(.$qname)))})"
   ]
  },
  {
   "cell_type": "code",
   "execution_count": null,
   "metadata": {
    "collapsed": false
   },
   "outputs": [],
   "source": [
    "preANDnonpre = merge(pre,nonpre,by=\"Anticodon\")"
   ]
  },
  {
   "cell_type": "code",
   "execution_count": null,
   "metadata": {
    "collapsed": false
   },
   "outputs": [],
   "source": [
    "ggplot(filter(preANDnonpre, counts.x < 15000), aes(x = counts.x, y = counts.y)) + \n",
    "    geom_point(aes(color = ..tRNA.type.1..x)) + \n",
    "    geom_smooth(method = \"lm\", se = FALSE, color = \"black\", lwd = .2, formula = y ~ 0 + x) +\n",
    "    xlab(\"# pre-tRNA Reads\") + ylab(\"# mature tRNA reads\") +\n",
    "    xlim(c(0,1000)) + ylim(c(0,1000))"
   ]
  },
  {
   "cell_type": "code",
   "execution_count": null,
   "metadata": {
    "collapsed": true
   },
   "outputs": [],
   "source": []
  }
 ],
 "metadata": {
  "kernelspec": {
   "display_name": "R",
   "language": "R",
   "name": "ir"
  },
  "language_info": {
   "codemirror_mode": "r",
   "file_extension": ".r",
   "mimetype": "text/x-r-source",
   "name": "R",
   "pygments_lexer": "r",
   "version": "3.2.2"
  }
 },
 "nbformat": 4,
 "nbformat_minor": 0
}
