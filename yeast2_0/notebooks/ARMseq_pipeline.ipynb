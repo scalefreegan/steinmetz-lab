{
 "cells": [
  {
   "cell_type": "markdown",
   "metadata": {},
   "source": [
    "# ARMseq Pipeline\n",
    "\n",
    "Getting ARMseq pipeline to work. Example from human data. \n",
    "\n",
    "Note: not all commands can be excuted from this script. See commented sections"
   ]
  },
  {
   "cell_type": "code",
   "execution_count": 24,
   "metadata": {
    "collapsed": true
   },
   "outputs": [],
   "source": [
    ".libPaths(\"~/R/x86_64-redhat-linux-gnu-library/3.2/\")"
   ]
  },
  {
   "cell_type": "code",
   "execution_count": 26,
   "metadata": {
    "collapsed": false
   },
   "outputs": [],
   "source": [
    "library(rtracklayer)"
   ]
  },
  {
   "cell_type": "code",
   "execution_count": 27,
   "metadata": {
    "collapsed": true
   },
   "outputs": [],
   "source": [
    "setwd(\"/g/steinmetz/project/IESY/trna/ARMseq/\")"
   ]
  },
  {
   "cell_type": "code",
   "execution_count": 18,
   "metadata": {
    "collapsed": false
   },
   "outputs": [],
   "source": [
    "# system commands\n",
    "# fastq-dump --accession SRR1874029\n",
    "# fastq-dump --accession SRR1874032\n",
    "# fastq-dump --accession SRR1874034"
   ]
  },
  {
   "cell_type": "code",
   "execution_count": 28,
   "metadata": {
    "collapsed": false
   },
   "outputs": [],
   "source": [
    "# load annotation gtf\n",
    "annotations = import(\"./pipeline/Homo_sapiens.GRCh37.82.gtf\")"
   ]
  },
  {
   "cell_type": "code",
   "execution_count": 50,
   "metadata": {
    "collapsed": false
   },
   "outputs": [],
   "source": [
    "# all ncRNAs according to http://www.gencodegenes.org/gencode_biotypes.html\n",
    "ncrna_definitions = c(\"rRNA\", \"scRNA\", \"snRNA\", \"snoRNA\", \"miRNA\", \"misc_RNA\", \"lincRNA\",\n",
    "                     \"snoRNA_pseudogene\", \"snRNA_pseudogene\", \"scRNA_pseudogene\",\n",
    "                      \"rRNA_pseudogene\", \"misc_RNA_pseudogene\", \"miRNA_pseudogene\")\n",
    "ncrna_biotypes = mcols(annotations)$gene_biotype %in% ncrna_definitions\n",
    "annotations_sub = annotations[ncrna_biotypes]\n",
    "export(annotations_sub, \"./pipeline/hg19-nontRNA-ncRNA.gtf\", format = \"gtf\")"
   ]
  },
  {
   "cell_type": "code",
   "execution_count": 52,
   "metadata": {
    "collapsed": false
   },
   "outputs": [],
   "source": []
  }
 ],
 "metadata": {
  "kernelspec": {
   "display_name": "R",
   "language": "R",
   "name": "ir"
  },
  "language_info": {
   "codemirror_mode": "r",
   "file_extension": ".r",
   "mimetype": "text/x-r-source",
   "name": "R",
   "pygments_lexer": "r",
   "version": "3.2.2"
  }
 },
 "nbformat": 4,
 "nbformat_minor": 0
}
