{
 "cells": [
  {
   "cell_type": "markdown",
   "metadata": {},
   "source": [
    "# ARMseq Pipeline\n",
    "\n",
    "Getting ARMseq pipeline to work. Yeast data.\n",
    "\n",
    "Note: not all commands can be excuted from this script. See commented sections"
   ]
  },
  {
   "cell_type": "code",
   "execution_count": 177,
   "metadata": {
    "collapsed": true
   },
   "outputs": [],
   "source": [
    ".libPaths(\"~/R/x86_64-redhat-linux-gnu-library/3.2/\")\n",
    "options(repr.plot.width = 6)\n",
    "options(repr.plot.height = 5)\n",
    "options(jupyter.plot_mimetypes = 'image/png')"
   ]
  },
  {
   "cell_type": "code",
   "execution_count": 3,
   "metadata": {
    "collapsed": false
   },
   "outputs": [],
   "source": [
    "library(dplyr)\n",
    "library(rtracklayer)\n",
    "library(ggplot2)\n",
    "library(Rsamtools)\n",
    "library(Biostrings)\n",
    "library(seqinr)"
   ]
  },
  {
   "cell_type": "code",
   "execution_count": 4,
   "metadata": {
    "collapsed": false
   },
   "outputs": [],
   "source": [
    "genome = read.fasta(\"/g/steinmetz/genome/Saccharomyces_cerevisiae/S288c_ERCC/ver_20150412/fasta/S288c_complete_wERCC.fsa\")"
   ]
  },
  {
   "cell_type": "code",
   "execution_count": 5,
   "metadata": {
    "collapsed": true
   },
   "outputs": [],
   "source": [
    "setwd(\"/g/steinmetz/project/IESY/trna/ARMseq/\")"
   ]
  },
  {
   "cell_type": "markdown",
   "metadata": {
    "collapsed": false
   },
   "source": [
    "First you must download ARMseq datasets with . [This](processANDalign.txt) bash script does these steps."
   ]
  },
  {
   "cell_type": "code",
   "execution_count": 7,
   "metadata": {
    "collapsed": false
   },
   "outputs": [
    {
     "name": "stderr",
     "output_type": "stream",
     "text": [
      "Warning message:\n",
      "In scan(file, what, nmax, sep, dec, quote, skip, nlines, na.strings, : EOF within quoted string"
     ]
    }
   ],
   "source": [
    "# load annotation gtf\n",
    "gtf_annotations = read.delim(\"../ARMseq/data/SGD_features.tab\", sep=\"\\t\", header = F)\n",
    "colnames(gtf_annotations) = c(\"ID\", \"Type\", \"Confidence\", \"Sys.Name\", \n",
    "                          \"Common.Name\", \"Alt.Name\", \"Location\", \"Alt.ID\", \"Chr\",\n",
    "                         \"Start\", \"Stop\", \"Strand\", \"Unknown.Loc\", \"Date.1\", \"Date.2\", \"Description\")\n",
    "gtf_tRNAs = gtf_annotations %>% filter(Type == \"tRNA_gene\") %>% select(Type, Sys.Name, Common.Name, Alt.Name, \n",
    "                                                               Chr, Start, Stop, Strand, Description)\n"
   ]
  },
  {
   "cell_type": "code",
   "execution_count": 383,
   "metadata": {
    "collapsed": false
   },
   "outputs": [],
   "source": [
    "window = 50\n",
    "\n",
    "tRNA_annotations = read.delim(\n",
    "    \"../ARMseq/data/tRNA_isoforms_wleaders_4R.txt\", sep = \"\\t\", header = T, strip.white=TRUE)\n",
    "# switch start / end when end < start. denote strand instead\n",
    "tRNA_annotations = data.frame(do.call(rbind, apply(tRNA_annotations, 1, function(i){\n",
    "    #print(i[\"Start\"])\n",
    "    if (i[\"Chr\"] == \"chrM\") {\n",
    "        i[\"Chr\"] = \"chrMT\"\n",
    "    }\n",
    "    if (as.numeric(i[\"Start\"]) < as.numeric(i[\"End\"])) {\n",
    "        o = i\n",
    "        # modify upstream/downstream sequences based on window of interest\n",
    "        o$Upstream = paste(genome[[i[\"Chr\"]]][seq((as.numeric(i[\"Start\"]) - window),\n",
    "                                                          (as.numeric(i[\"Start\"]) - 1))], collapse = \"\")\n",
    "        o$Downstream = paste(genome[[i[\"Chr\"]]][seq((as.numeric(i[\"End\"]) + 1),\n",
    "                                                          (as.numeric(i[\"End\"]) + window))], collapse = \"\")\n",
    "        o$Start = as.numeric(i[\"Start\"])\n",
    "        o$End = as.numeric(i[\"End\"])\n",
    "        o$Strand = \"+\"\n",
    "    } else {\n",
    "        o = i\n",
    "        # modify upstream/downstream sequences based on window of interest\n",
    "        o$Upstream = tolower(as.character(reverseComplement(DNAString(paste(genome[[i[\"Chr\"]]][seq((as.numeric(i[\"Start\"]) + 1),\n",
    "                                                          (as.numeric(i[\"Start\"]) + window))], collapse = \"\")))))\n",
    "        o$Downstream = tolower(as.character(reverseComplement(DNAString(paste(genome[[i[\"Chr\"]]][seq((as.numeric(i[\"End\"]) - window),\n",
    "                                                          (as.numeric(i[\"End\"]) - 1))], collapse = \"\")))))\n",
    "        o$Start = as.numeric(i[\"End\"])\n",
    "        o$End = as.numeric(i[\"Start\"])\n",
    "        o$Strand = \"-\"\n",
    "    }\n",
    "    return(o)\n",
    "})))\n",
    "tRNA_annotations$Start = as.numeric(tRNA_annotations$Start)\n",
    "tRNA_annotations$End = as.numeric(tRNA_annotations$End)\n",
    "tRNA_annotations$End = as.numeric(tRNA_annotations$End)\n",
    "tRNA_annotations$tRNA.Number = as.numeric(tRNA_annotations$tRNA.Number)\n",
    "tRNA_annotations$tRNA.type = as.character(tRNA_annotations$tRNA.type)\n",
    "\n",
    "\n"
   ]
  },
  {
   "cell_type": "code",
   "execution_count": 385,
   "metadata": {
    "collapsed": false
   },
   "outputs": [
    {
     "data": {
      "text/html": [
       "<table>\n",
       "<thead><tr><th></th><th scope=col>Chr</th><th scope=col>tRNA.Number</th><th scope=col>Start</th><th scope=col>End</th><th scope=col>tRNA.type</th><th scope=col>Anticodon</th><th scope=col>Upstream</th><th scope=col>Downstream</th><th scope=col>Intron.Start</th><th scope=col>Intron.End</th><th scope=col>Cove</th><th scope=col>HMM</th><th scope=col>X2pStr</th><th scope=col>Hit.Origin</th><th scope=col>Strand</th></tr></thead>\n",
       "<tbody>\n",
       "\t<tr><th scope=row>1</th><td>chrIV</td><td>3</td><td>410379</td><td>410451</td><td>Ala</td><td>AGC</td><td>ttaagtgcaaacatgtaagaaagattctcggtaacgaccatacaaatatt</td><td>aattattttttactttccgcggtgccgagatgcagacgtggccaactgtg</td><td>      0</td><td>      0</td><td>74.48</td><td>50.69</td><td>23.79</td><td>Bo</td><td>+</td></tr>\n",
       "\t<tr><th scope=row>2</th><td>chrVI</td><td>6</td><td>204924</td><td>204996</td><td>Ala</td><td>AGC</td><td>tgtaaagtaaacctgtatcatttctgtttggaagatttcaacaaacgttc</td><td>tttaaatttttttattttttttgtcaaatctctctatctatagagataat</td><td>      0</td><td>      0</td><td>74.48</td><td>50.69</td><td>23.79</td><td>Bo</td><td>-</td></tr>\n",
       "\t<tr><th scope=row>3</th><td>chrVII</td><td>15</td><td>774349</td><td>774421</td><td>Ala</td><td>AGC</td><td>ttagatttacttcattattcttctctattctcccctttcatcaattaatt</td><td>aatttttttacttttaatgaggtatactggaatattacggctcttttttt</td><td>      0</td><td>      0</td><td>74.48</td><td>50.69</td><td>23.79</td><td>Bo</td><td>+</td></tr>\n",
       "\t<tr><th scope=row>4</th><td>chrVIII</td><td>8</td><td>146242</td><td>146314</td><td>Ala</td><td>AGC</td><td>acactccggtattactcgagcccgtaatacaacacattcaacaaatatca</td><td>atcttttttgttattaccataacagtactataaaggtctgttaatgtata</td><td>      0</td><td>      0</td><td>74.48</td><td>50.69</td><td>23.79</td><td>Bo</td><td>-</td></tr>\n",
       "\t<tr><th scope=row>5</th><td>chrX</td><td>22</td><td>197313</td><td>197385</td><td>Ala</td><td>AGC</td><td>tgtcatactgacgtatctcactttgataaacaacaatatcaataatatta</td><td>atttctttttgttctcaacgacaataataagaaaatcaacttaaatggaa</td><td>      0</td><td>      0</td><td>74.48</td><td>50.69</td><td>23.79</td><td>Bo</td><td>-</td></tr>\n",
       "\t<tr><th scope=row>6</th><td>chrXI</td><td>4</td><td>219895</td><td>219967</td><td>Ala</td><td>AGC</td><td>taaaagagcttgttatagtaatctaagtggaaatacactaacagtaaata</td><td>atctttttatacttattaataatttttttcctgccgttacttgcttttaa</td><td>      0</td><td>      0</td><td>74.48</td><td>50.69</td><td>23.79</td><td>Bo</td><td>+</td></tr>\n",
       "</tbody>\n",
       "</table>\n"
      ],
      "text/latex": [
       "\\begin{tabular}{r|lllllllllllllll}\n",
       "  & Chr & tRNA.Number & Start & End & tRNA.type & Anticodon & Upstream & Downstream & Intron.Start & Intron.End & Cove & HMM & X2pStr & Hit.Origin & Strand\\\\\n",
       "\\hline\n",
       "\t1 & chrIV & 3 & 410379 & 410451 & Ala & AGC & ttaagtgcaaacatgtaagaaagattctcggtaacgaccatacaaatatt & aattattttttactttccgcggtgccgagatgcagacgtggccaactgtg &       0 &       0 & 74.48 & 50.69 & 23.79 & Bo & +\\\\\n",
       "\t2 & chrVI & 6 & 204924 & 204996 & Ala & AGC & tgtaaagtaaacctgtatcatttctgtttggaagatttcaacaaacgttc & tttaaatttttttattttttttgtcaaatctctctatctatagagataat &       0 &       0 & 74.48 & 50.69 & 23.79 & Bo & -\\\\\n",
       "\t3 & chrVII & 15 & 774349 & 774421 & Ala & AGC & ttagatttacttcattattcttctctattctcccctttcatcaattaatt & aatttttttacttttaatgaggtatactggaatattacggctcttttttt &       0 &       0 & 74.48 & 50.69 & 23.79 & Bo & +\\\\\n",
       "\t4 & chrVIII & 8 & 146242 & 146314 & Ala & AGC & acactccggtattactcgagcccgtaatacaacacattcaacaaatatca & atcttttttgttattaccataacagtactataaaggtctgttaatgtata &       0 &       0 & 74.48 & 50.69 & 23.79 & Bo & -\\\\\n",
       "\t5 & chrX & 22 & 197313 & 197385 & Ala & AGC & tgtcatactgacgtatctcactttgataaacaacaatatcaataatatta & atttctttttgttctcaacgacaataataagaaaatcaacttaaatggaa &       0 &       0 & 74.48 & 50.69 & 23.79 & Bo & -\\\\\n",
       "\t6 & chrXI & 4 & 219895 & 219967 & Ala & AGC & taaaagagcttgttatagtaatctaagtggaaatacactaacagtaaata & atctttttatacttattaataatttttttcctgccgttacttgcttttaa &       0 &       0 & 74.48 & 50.69 & 23.79 & Bo & +\\\\\n",
       "\\end{tabular}\n"
      ],
      "text/plain": [
       "      Chr tRNA.Number  Start    End tRNA.type Anticodon\n",
       "1   chrIV           3 410379 410451       Ala       AGC\n",
       "2   chrVI           6 204924 204996       Ala       AGC\n",
       "3  chrVII          15 774349 774421       Ala       AGC\n",
       "4 chrVIII           8 146242 146314       Ala       AGC\n",
       "5    chrX          22 197313 197385       Ala       AGC\n",
       "6   chrXI           4 219895 219967       Ala       AGC\n",
       "                                            Upstream\n",
       "1 ttaagtgcaaacatgtaagaaagattctcggtaacgaccatacaaatatt\n",
       "2 tgtaaagtaaacctgtatcatttctgtttggaagatttcaacaaacgttc\n",
       "3 ttagatttacttcattattcttctctattctcccctttcatcaattaatt\n",
       "4 acactccggtattactcgagcccgtaatacaacacattcaacaaatatca\n",
       "5 tgtcatactgacgtatctcactttgataaacaacaatatcaataatatta\n",
       "6 taaaagagcttgttatagtaatctaagtggaaatacactaacagtaaata\n",
       "                                          Downstream Intron.Start Intron.End\n",
       "1 aattattttttactttccgcggtgccgagatgcagacgtggccaactgtg            0          0\n",
       "2 tttaaatttttttattttttttgtcaaatctctctatctatagagataat            0          0\n",
       "3 aatttttttacttttaatgaggtatactggaatattacggctcttttttt            0          0\n",
       "4 atcttttttgttattaccataacagtactataaaggtctgttaatgtata            0          0\n",
       "5 atttctttttgttctcaacgacaataataagaaaatcaacttaaatggaa            0          0\n",
       "6 atctttttatacttattaataatttttttcctgccgttacttgcttttaa            0          0\n",
       "   Cove   HMM X2pStr Hit.Origin Strand\n",
       "1 74.48 50.69  23.79         Bo      +\n",
       "2 74.48 50.69  23.79         Bo      -\n",
       "3 74.48 50.69  23.79         Bo      +\n",
       "4 74.48 50.69  23.79         Bo      -\n",
       "5 74.48 50.69  23.79         Bo      -\n",
       "6 74.48 50.69  23.79         Bo      +"
      ]
     },
     "execution_count": 385,
     "metadata": {},
     "output_type": "execute_result"
    }
   ],
   "source": [
    "head(tRNA_annotations)"
   ]
  },
  {
   "cell_type": "code",
   "execution_count": 386,
   "metadata": {
    "collapsed": false
   },
   "outputs": [],
   "source": [
    "gr <- GRanges(seqnames = Rle(unlist(tRNA_annotations$Chr)), \n",
    "             ranges = IRanges(start = tRNA_annotations$Start-window,\n",
    "                             end = tRNA_annotations$End+window),\n",
    "             strand = Rle(unlist(tRNA_annotations$Strand)),\n",
    "             mcols = select(tRNA_annotations, tRNA.Number,tRNA.type, Upstream, Downstream))"
   ]
  },
  {
   "cell_type": "code",
   "execution_count": 387,
   "metadata": {
    "collapsed": false
   },
   "outputs": [],
   "source": [
    "gr_list = RangesList(lapply(seq(1,length(gr)),function(i){ranges(gr[i,])}))\n",
    "names(gr_list) = seqnames(gr)"
   ]
  },
  {
   "cell_type": "code",
   "execution_count": 388,
   "metadata": {
    "collapsed": false
   },
   "outputs": [],
   "source": [
    "what = c(\"qname\", \"flag\", \"rname\", \"strand\", \"pos\", \"mapq\", \"cigar\", \"seq\", \"qual\")"
   ]
  },
  {
   "cell_type": "code",
   "execution_count": 389,
   "metadata": {
    "collapsed": false
   },
   "outputs": [],
   "source": [
    "param = ScanBamParam(which = gr_list, what = what)"
   ]
  },
  {
   "cell_type": "code",
   "execution_count": 390,
   "metadata": {
    "collapsed": false
   },
   "outputs": [
    {
     "name": "stderr",
     "output_type": "stream",
     "text": [
      "Warning message:\n",
      "In `levels<-`(`*tmp*`, value = if (nl == nL) as.character(labels) else paste0(labels, : duplicated levels in factors are deprecatedWarning message:\n",
      "In `levels<-`(`*tmp*`, value = if (nl == nL) as.character(labels) else paste0(labels, : duplicated levels in factors are deprecatedWarning message:\n",
      "In `levels<-`(`*tmp*`, value = if (nl == nL) as.character(labels) else paste0(labels, : duplicated levels in factors are deprecatedWarning message:\n",
      "In `levels<-`(`*tmp*`, value = if (nl == nL) as.character(labels) else paste0(labels, : duplicated levels in factors are deprecated"
     ]
    }
   ],
   "source": [
    "fdir = \"/g/steinmetz/project/IESY/trna/ARMseq/data/\"\n",
    "bam <- scanBam(paste0(fdir,\"untreated.bam\"), param=param, \n",
    "               index = paste0(fdir,\"untreated.bam.bai\"))"
   ]
  },
  {
   "cell_type": "code",
   "execution_count": 391,
   "metadata": {
    "collapsed": false
   },
   "outputs": [],
   "source": [
    "# combine bam and tRNA infos\n",
    "happy_bam = do.call(rbind, lapply(bam, function(x){\n",
    "    x$seq = as.character(x$seq)\n",
    "    x$qual = as.character(x$qual)\n",
    "    o = data.frame(x)\n",
    "    return(o)\n",
    "    }))\n",
    "happy_bam$Chr = sapply(rownames(happy_bam), function(x) strsplit(x, \":\")[[1]][1])\n",
    "happy_bam$Start = sapply(rownames(happy_bam), function(x) {\n",
    "    x = strsplit(x, \":\")[[1]][2]\n",
    "    x = as.numeric(strsplit(x, \"-\")[[1]][1]) + window\n",
    "    })\n",
    "happy_bam$End = sapply(rownames(happy_bam), function(x) {\n",
    "    x = strsplit(x, \":\")[[1]][2]\n",
    "    x = strsplit(x, \"-\")[[1]][2]\n",
    "    x = as.numeric(strsplit(x, \"\\\\.\")[[1]][1]) - window\n",
    "    })"
   ]
  },
  {
   "cell_type": "code",
   "execution_count": 392,
   "metadata": {
    "collapsed": false
   },
   "outputs": [],
   "source": [
    "# quick check of distribution of all mapping points to the tRNA locus\n",
    "distance_dist = apply(cbind(abs(happy_bam$pos - happy_bam$Start), \n",
    "                            abs(happy_bam$pos - happy_bam$end)),1,min)"
   ]
  },
  {
   "cell_type": "code",
   "execution_count": 393,
   "metadata": {
    "collapsed": false,
    "scrolled": false
   },
   "outputs": [
    {
     "data": {
      "image/png": "[encoded data removed]"
     },
     "metadata": {},
     "output_type": "display_data"
    }
   ],
   "source": [
    "options(repr.plot.width = 8)\n",
    "options(repr.plot.height = 4)\n",
    "plot(ecdf(distance_dist), main = \"Distance of read start to mature tRNA start/stop\", \n",
    "     xlab = \"Nucleotides\")"
   ]
  },
  {
   "cell_type": "code",
   "execution_count": 394,
   "metadata": {
    "collapsed": false
   },
   "outputs": [],
   "source": [
    "# all isoacceptors\n",
    "this_anticodon = tRNA_annotations$Anticodon[1]\n",
    "anticodon_tRNAs = filter(tRNA_annotations, Anticodon %in% this_anticodon)\n",
    "anticodon_bams = bam[anticodon_names]\n",
    "# collpase reads\n",
    "# first convert \n",
    "anticodon_bams = lapply(anticodon_bams, function(x){\n",
    "    x$seq = as.character(x$seq)\n",
    "    x$qual = as.character(x$qual)\n",
    "    o = data.frame(x)\n",
    "    return(o)\n",
    "    })\n",
    "readsXisoform = \"X\"\n",
    "# tRNA\n",
    "this_tRNA = 1\n",
    "# Read\n",
    "this_read = 1\n",
    "\n",
    "#seqlen = abs(tRNA_annotations$Start[i]-bam[[i]]$pos[j])\n",
    "#s1 = bam[[i]]$seq[[j]][1:seqlen]\n",
    "#s2 = DNAString(tRNA_annotations[1,\"Upstream\"])"
   ]
  },
  {
   "cell_type": "code",
   "execution_count": 395,
   "metadata": {
    "collapsed": false
   },
   "outputs": [
    {
     "data": {
      "text/html": [
       "<ol class=list-inline>\n",
       "\t<li>'Chr'</li>\n",
       "\t<li>'tRNA.Number'</li>\n",
       "\t<li>'Start'</li>\n",
       "\t<li>'End'</li>\n",
       "\t<li>'tRNA.type'</li>\n",
       "\t<li>'Anticodon'</li>\n",
       "\t<li>'Upstream'</li>\n",
       "\t<li>'Downstream'</li>\n",
       "\t<li>'Intron.Start'</li>\n",
       "\t<li>'Intron.End'</li>\n",
       "\t<li>'Cove'</li>\n",
       "\t<li>'HMM'</li>\n",
       "\t<li>'X2pStr'</li>\n",
       "\t<li>'Hit.Origin'</li>\n",
       "\t<li>'Strand'</li>\n",
       "</ol>\n"
      ],
      "text/latex": [
       "\\begin{enumerate*}\n",
       "\\item 'Chr'\n",
       "\\item 'tRNA.Number'\n",
       "\\item 'Start'\n",
       "\\item 'End'\n",
       "\\item 'tRNA.type'\n",
       "\\item 'Anticodon'\n",
       "\\item 'Upstream'\n",
       "\\item 'Downstream'\n",
       "\\item 'Intron.Start'\n",
       "\\item 'Intron.End'\n",
       "\\item 'Cove'\n",
       "\\item 'HMM'\n",
       "\\item 'X2pStr'\n",
       "\\item 'Hit.Origin'\n",
       "\\item 'Strand'\n",
       "\\end{enumerate*}\n"
      ],
      "text/markdown": [
       "1. 'Chr'\n",
       "2. 'tRNA.Number'\n",
       "3. 'Start'\n",
       "4. 'End'\n",
       "5. 'tRNA.type'\n",
       "6. 'Anticodon'\n",
       "7. 'Upstream'\n",
       "8. 'Downstream'\n",
       "9. 'Intron.Start'\n",
       "10. 'Intron.End'\n",
       "11. 'Cove'\n",
       "12. 'HMM'\n",
       "13. 'X2pStr'\n",
       "14. 'Hit.Origin'\n",
       "15. 'Strand'\n",
       "\n",
       "\n"
      ],
      "text/plain": [
       " [1] \"Chr\"          \"tRNA.Number\"  \"Start\"        \"End\"          \"tRNA.type\"   \n",
       " [6] \"Anticodon\"    \"Upstream\"     \"Downstream\"   \"Intron.Start\" \"Intron.End\"  \n",
       "[11] \"Cove\"         \"HMM\"          \"X2pStr\"       \"Hit.Origin\"   \"Strand\"      "
      ]
     },
     "execution_count": 395,
     "metadata": {},
     "output_type": "execute_result"
    },
    {
     "data": {
      "text/html": [
       "<ol class=list-inline>\n",
       "\t<li>'qname'</li>\n",
       "\t<li>'flag'</li>\n",
       "\t<li>'rname'</li>\n",
       "\t<li>'strand'</li>\n",
       "\t<li>'pos'</li>\n",
       "\t<li>'mapq'</li>\n",
       "\t<li>'cigar'</li>\n",
       "\t<li>'seq'</li>\n",
       "\t<li>'qual'</li>\n",
       "\t<li>'Chr'</li>\n",
       "\t<li>'Start'</li>\n",
       "\t<li>'End'</li>\n",
       "</ol>\n"
      ],
      "text/latex": [
       "\\begin{enumerate*}\n",
       "\\item 'qname'\n",
       "\\item 'flag'\n",
       "\\item 'rname'\n",
       "\\item 'strand'\n",
       "\\item 'pos'\n",
       "\\item 'mapq'\n",
       "\\item 'cigar'\n",
       "\\item 'seq'\n",
       "\\item 'qual'\n",
       "\\item 'Chr'\n",
       "\\item 'Start'\n",
       "\\item 'End'\n",
       "\\end{enumerate*}\n"
      ],
      "text/markdown": [
       "1. 'qname'\n",
       "2. 'flag'\n",
       "3. 'rname'\n",
       "4. 'strand'\n",
       "5. 'pos'\n",
       "6. 'mapq'\n",
       "7. 'cigar'\n",
       "8. 'seq'\n",
       "9. 'qual'\n",
       "10. 'Chr'\n",
       "11. 'Start'\n",
       "12. 'End'\n",
       "\n",
       "\n"
      ],
      "text/plain": [
       " [1] \"qname\"  \"flag\"   \"rname\"  \"strand\" \"pos\"    \"mapq\"   \"cigar\"  \"seq\"   \n",
       " [9] \"qual\"   \"Chr\"    \"Start\"  \"End\"   "
      ]
     },
     "execution_count": 395,
     "metadata": {},
     "output_type": "execute_result"
    }
   ],
   "source": [
    "colnames(anticodon_tRNAs)\n",
    "colnames(happy_bam)"
   ]
  },
  {
   "cell_type": "code",
   "execution_count": 398,
   "metadata": {
    "collapsed": false
   },
   "outputs": [],
   "source": [
    "tmp = merge(anticodon_tRNAs, happy_bam, by = c(\"Chr\",\"Start\",\"End\"))"
   ]
  },
  {
   "cell_type": "code",
   "execution_count": 399,
   "metadata": {
    "collapsed": false
   },
   "outputs": [
    {
     "data": {
      "text/html": [
       "<table>\n",
       "<thead><tr><th></th><th scope=col>Chr</th><th scope=col>Start</th><th scope=col>End</th><th scope=col>tRNA.Number</th><th scope=col>tRNA.type</th><th scope=col>Anticodon</th><th scope=col>Upstream</th><th scope=col>Downstream</th><th scope=col>Intron.Start</th><th scope=col>Intron.End</th><th scope=col>Cove</th><th scope=col>HMM</th><th scope=col>X2pStr</th><th scope=col>Hit.Origin</th><th scope=col>Strand</th><th scope=col>qname</th><th scope=col>flag</th><th scope=col>rname</th><th scope=col>strand</th><th scope=col>pos</th><th scope=col>mapq</th><th scope=col>cigar</th><th scope=col>seq</th><th scope=col>qual</th></tr></thead>\n",
       "<tbody>\n",
       "\t<tr><th scope=row>1</th><td>chrIV</td><td>410379</td><td>410451</td><td>3</td><td>Ala</td><td>AGC</td><td>ttaagtgcaaacatgtaagaaagattctcggtaacgaccatacaaatatt</td><td>aattattttttactttccgcggtgccgagatgcagacgtggccaactgtg</td><td>      0</td><td>      0</td><td>74.48</td><td>50.69</td><td>23.79</td><td>Bo</td><td>+</td><td>SRR1874045.553080</td><td>256</td><td>chrIV</td><td>+</td><td>410416</td><td>1</td><td>34M</td><td>TGGGAGAGGTCTCCGGTTCGATTCCGGACTCGTC</td><td>BCCCCCCBCFFFGGGGGGGGGGHHHHGGGGHGFG</td></tr>\n",
       "\t<tr><th scope=row>2</th><td>chrIV</td><td>410379</td><td>410451</td><td>3</td><td>Ala</td><td>AGC</td><td>ttaagtgcaaacatgtaagaaagattctcggtaacgaccatacaaatatt</td><td>aattattttttactttccgcggtgccgagatgcagacgtggccaactgtg</td><td>      0</td><td>      0</td><td>74.48</td><td>50.69</td><td>23.79</td><td>Bo</td><td>+</td><td>SRR1874045.623350</td><td>256</td><td>chrIV</td><td>+</td><td>410416</td><td>1</td><td>34M</td><td>TGGGAGAGGTCTCCGGTTCGATTCCGGACTCGTC</td><td>DDDDDDCCCFFFGGGGGGGGGGHHHHGGGGHGHG</td></tr>\n",
       "\t<tr><th scope=row>3</th><td>chrIV</td><td>410379</td><td>410451</td><td>3</td><td>Ala</td><td>AGC</td><td>ttaagtgcaaacatgtaagaaagattctcggtaacgaccatacaaatatt</td><td>aattattttttactttccgcggtgccgagatgcagacgtggccaactgtg</td><td>      0</td><td>      0</td><td>74.48</td><td>50.69</td><td>23.79</td><td>Bo</td><td>+</td><td>SRR1874045.717897</td><td>256</td><td>chrIV</td><td>+</td><td>410416</td><td>1</td><td>34M</td><td>TGGGAGAGGTCTCCGGTTCGATTCCGGACTCGTC</td><td>AAAAAAAAA@FFGGGGGGGGCGHHHHGGGGHGGG</td></tr>\n",
       "\t<tr><th scope=row>4</th><td>chrIV</td><td>410379</td><td>410451</td><td>3</td><td>Ala</td><td>AGC</td><td>ttaagtgcaaacatgtaagaaagattctcggtaacgaccatacaaatatt</td><td>aattattttttactttccgcggtgccgagatgcagacgtggccaactgtg</td><td>      0</td><td>      0</td><td>74.48</td><td>50.69</td><td>23.79</td><td>Bo</td><td>+</td><td>SRR1874045.831740</td><td>256</td><td>chrIV</td><td>+</td><td>410416</td><td>1</td><td>35M</td><td>TGGGAGAGGTCTCCGGTTCGATTCCGGACTCGTCC</td><td>BAABBBBBBCCFFGGGGEFGGGGHHF2EEFHGHGG</td></tr>\n",
       "\t<tr><th scope=row>5</th><td>chrIV</td><td>410379</td><td>410451</td><td>3</td><td>Ala</td><td>AGC</td><td>ttaagtgcaaacatgtaagaaagattctcggtaacgaccatacaaatatt</td><td>aattattttttactttccgcggtgccgagatgcagacgtggccaactgtg</td><td>      0</td><td>      0</td><td>74.48</td><td>50.69</td><td>23.79</td><td>Bo</td><td>+</td><td>SRR1874045.860443</td><td>256</td><td>chrIV</td><td>+</td><td>410416</td><td>1</td><td>34M</td><td>TGGGAGAGGTCTCCGGTTCGATTCCGGACTCGTC</td><td>BBBBBBBBBFFFGGGFFGFGEGFFDGFGGGHGAE</td></tr>\n",
       "\t<tr><th scope=row>6</th><td>chrIV</td><td>410379</td><td>410451</td><td>3</td><td>Ala</td><td>AGC</td><td>ttaagtgcaaacatgtaagaaagattctcggtaacgaccatacaaatatt</td><td>aattattttttactttccgcggtgccgagatgcagacgtggccaactgtg</td><td>      0</td><td>      0</td><td>74.48</td><td>50.69</td><td>23.79</td><td>Bo</td><td>+</td><td>SRR1874045.928061</td><td>0</td><td>chrIV</td><td>+</td><td>410416</td><td>1</td><td>34M</td><td>TGGGAGAGGTCTCCGGTTCGATTCCGGACTCGTC</td><td>BAABBAAABFFFGCEGGGGECGCHG4EDGGGGHG</td></tr>\n",
       "</tbody>\n",
       "</table>\n"
      ],
      "text/latex": [
       "\\begin{tabular}{r|llllllllllllllllllllllll}\n",
       "  & Chr & Start & End & tRNA.Number & tRNA.type & Anticodon & Upstream & Downstream & Intron.Start & Intron.End & Cove & HMM & X2pStr & Hit.Origin & Strand & qname & flag & rname & strand & pos & mapq & cigar & seq & qual\\\\\n",
       "\\hline\n",
       "\t1 & chrIV & 410379 & 410451 & 3 & Ala & AGC & ttaagtgcaaacatgtaagaaagattctcggtaacgaccatacaaatatt & aattattttttactttccgcggtgccgagatgcagacgtggccaactgtg &       0 &       0 & 74.48 & 50.69 & 23.79 & Bo & + & SRR1874045.553080 & 256 & chrIV & + & 410416 & 1 & 34M & TGGGAGAGGTCTCCGGTTCGATTCCGGACTCGTC & BCCCCCCBCFFFGGGGGGGGGGHHHHGGGGHGFG\\\\\n",
       "\t2 & chrIV & 410379 & 410451 & 3 & Ala & AGC & ttaagtgcaaacatgtaagaaagattctcggtaacgaccatacaaatatt & aattattttttactttccgcggtgccgagatgcagacgtggccaactgtg &       0 &       0 & 74.48 & 50.69 & 23.79 & Bo & + & SRR1874045.623350 & 256 & chrIV & + & 410416 & 1 & 34M & TGGGAGAGGTCTCCGGTTCGATTCCGGACTCGTC & DDDDDDCCCFFFGGGGGGGGGGHHHHGGGGHGHG\\\\\n",
       "\t3 & chrIV & 410379 & 410451 & 3 & Ala & AGC & ttaagtgcaaacatgtaagaaagattctcggtaacgaccatacaaatatt & aattattttttactttccgcggtgccgagatgcagacgtggccaactgtg &       0 &       0 & 74.48 & 50.69 & 23.79 & Bo & + & SRR1874045.717897 & 256 & chrIV & + & 410416 & 1 & 34M & TGGGAGAGGTCTCCGGTTCGATTCCGGACTCGTC & AAAAAAAAA@FFGGGGGGGGCGHHHHGGGGHGGG\\\\\n",
       "\t4 & chrIV & 410379 & 410451 & 3 & Ala & AGC & ttaagtgcaaacatgtaagaaagattctcggtaacgaccatacaaatatt & aattattttttactttccgcggtgccgagatgcagacgtggccaactgtg &       0 &       0 & 74.48 & 50.69 & 23.79 & Bo & + & SRR1874045.831740 & 256 & chrIV & + & 410416 & 1 & 35M & TGGGAGAGGTCTCCGGTTCGATTCCGGACTCGTCC & BAABBBBBBCCFFGGGGEFGGGGHHF2EEFHGHGG\\\\\n",
       "\t5 & chrIV & 410379 & 410451 & 3 & Ala & AGC & ttaagtgcaaacatgtaagaaagattctcggtaacgaccatacaaatatt & aattattttttactttccgcggtgccgagatgcagacgtggccaactgtg &       0 &       0 & 74.48 & 50.69 & 23.79 & Bo & + & SRR1874045.860443 & 256 & chrIV & + & 410416 & 1 & 34M & TGGGAGAGGTCTCCGGTTCGATTCCGGACTCGTC & BBBBBBBBBFFFGGGFFGFGEGFFDGFGGGHGAE\\\\\n",
       "\t6 & chrIV & 410379 & 410451 & 3 & Ala & AGC & ttaagtgcaaacatgtaagaaagattctcggtaacgaccatacaaatatt & aattattttttactttccgcggtgccgagatgcagacgtggccaactgtg &       0 &       0 & 74.48 & 50.69 & 23.79 & Bo & + & SRR1874045.928061 & 0 & chrIV & + & 410416 & 1 & 34M & TGGGAGAGGTCTCCGGTTCGATTCCGGACTCGTC & BAABBAAABFFFGCEGGGGECGCHG4EDGGGGHG\\\\\n",
       "\\end{tabular}\n"
      ],
      "text/plain": [
       "    Chr  Start    End tRNA.Number tRNA.type Anticodon\n",
       "1 chrIV 410379 410451           3       Ala       AGC\n",
       "2 chrIV 410379 410451           3       Ala       AGC\n",
       "3 chrIV 410379 410451           3       Ala       AGC\n",
       "4 chrIV 410379 410451           3       Ala       AGC\n",
       "5 chrIV 410379 410451           3       Ala       AGC\n",
       "6 chrIV 410379 410451           3       Ala       AGC\n",
       "                                            Upstream\n",
       "1 ttaagtgcaaacatgtaagaaagattctcggtaacgaccatacaaatatt\n",
       "2 ttaagtgcaaacatgtaagaaagattctcggtaacgaccatacaaatatt\n",
       "3 ttaagtgcaaacatgtaagaaagattctcggtaacgaccatacaaatatt\n",
       "4 ttaagtgcaaacatgtaagaaagattctcggtaacgaccatacaaatatt\n",
       "5 ttaagtgcaaacatgtaagaaagattctcggtaacgaccatacaaatatt\n",
       "6 ttaagtgcaaacatgtaagaaagattctcggtaacgaccatacaaatatt\n",
       "                                          Downstream Intron.Start Intron.End\n",
       "1 aattattttttactttccgcggtgccgagatgcagacgtggccaactgtg            0          0\n",
       "2 aattattttttactttccgcggtgccgagatgcagacgtggccaactgtg            0          0\n",
       "3 aattattttttactttccgcggtgccgagatgcagacgtggccaactgtg            0          0\n",
       "4 aattattttttactttccgcggtgccgagatgcagacgtggccaactgtg            0          0\n",
       "5 aattattttttactttccgcggtgccgagatgcagacgtggccaactgtg            0          0\n",
       "6 aattattttttactttccgcggtgccgagatgcagacgtggccaactgtg            0          0\n",
       "   Cove   HMM X2pStr Hit.Origin Strand             qname flag rname strand\n",
       "1 74.48 50.69  23.79         Bo      + SRR1874045.553080  256 chrIV      +\n",
       "2 74.48 50.69  23.79         Bo      + SRR1874045.623350  256 chrIV      +\n",
       "3 74.48 50.69  23.79         Bo      + SRR1874045.717897  256 chrIV      +\n",
       "4 74.48 50.69  23.79         Bo      + SRR1874045.831740  256 chrIV      +\n",
       "5 74.48 50.69  23.79         Bo      + SRR1874045.860443  256 chrIV      +\n",
       "6 74.48 50.69  23.79         Bo      + SRR1874045.928061    0 chrIV      +\n",
       "     pos mapq cigar                                 seq\n",
       "1 410416    1   34M  TGGGAGAGGTCTCCGGTTCGATTCCGGACTCGTC\n",
       "2 410416    1   34M  TGGGAGAGGTCTCCGGTTCGATTCCGGACTCGTC\n",
       "3 410416    1   34M  TGGGAGAGGTCTCCGGTTCGATTCCGGACTCGTC\n",
       "4 410416    1   35M TGGGAGAGGTCTCCGGTTCGATTCCGGACTCGTCC\n",
       "5 410416    1   34M  TGGGAGAGGTCTCCGGTTCGATTCCGGACTCGTC\n",
       "6 410416    1   34M  TGGGAGAGGTCTCCGGTTCGATTCCGGACTCGTC\n",
       "                                 qual\n",
       "1  BCCCCCCBCFFFGGGGGGGGGGHHHHGGGGHGFG\n",
       "2  DDDDDDCCCFFFGGGGGGGGGGHHHHGGGGHGHG\n",
       "3  AAAAAAAAA@FFGGGGGGGGCGHHHHGGGGHGGG\n",
       "4 BAABBBBBBCCFFGGGGEFGGGGHHF2EEFHGHGG\n",
       "5  BBBBBBBBBFFFGGGFFGFGEGFFDGFGGGHGAE\n",
       "6  BAABBAAABFFFGCEGGGGECGCHG4EDGGGGHG"
      ]
     },
     "execution_count": 399,
     "metadata": {},
     "output_type": "execute_result"
    }
   ],
   "source": [
    "head(tmp)"
   ]
  },
  {
   "cell_type": "code",
   "execution_count": 366,
   "metadata": {
    "collapsed": false
   },
   "outputs": [
    {
     "data": {
      "text/plain": [
       "  A PhredQuality instance of length 1\n",
       "    width seq\n",
       "[1]    34 BCCCCCCBCFFFGGGGGGGGGGHHHHGGGGHGFG"
      ]
     },
     "execution_count": 366,
     "metadata": {},
     "output_type": "execute_result"
    }
   ],
   "source": [
    "PhredQuality(as.character(tmp$qual[1]))"
   ]
  },
  {
   "cell_type": "code",
   "execution_count": 422,
   "metadata": {
    "collapsed": false
   },
   "outputs": [
    {
     "data": {
      "text/html": [
       "<table>\n",
       "<thead><tr><th></th><th scope=col>Chr</th><th scope=col>Start</th><th scope=col>End</th><th scope=col>tRNA.Number</th><th scope=col>tRNA.type</th><th scope=col>Anticodon</th><th scope=col>Upstream</th><th scope=col>Downstream</th><th scope=col>Intron.Start</th><th scope=col>Intron.End</th><th scope=col>Cove</th><th scope=col>HMM</th><th scope=col>X2pStr</th><th scope=col>Hit.Origin</th><th scope=col>Strand</th><th scope=col>qname</th><th scope=col>flag</th><th scope=col>rname</th><th scope=col>strand</th><th scope=col>pos</th><th scope=col>mapq</th><th scope=col>cigar</th><th scope=col>seq</th><th scope=col>qual</th></tr></thead>\n",
       "<tbody>\n",
       "\t<tr><th scope=row>1</th><td>chrVI</td><td>204924</td><td>204996</td><td>6</td><td>Ala</td><td>AGC</td><td>tgtaaagtaaacctgtatcatttctgtttggaagatttcaacaaacgttc</td><td>tttaaatttttttattttttttgtcaaatctctctatctatagagataat</td><td>      0</td><td>      0</td><td>74.48</td><td>50.69</td><td>23.79</td><td>Bo</td><td>-</td><td>SRR1874045.494891</td><td>272</td><td>chrVI</td><td>-</td><td>204909</td><td>38</td><td>12M2I29M</td><td>AAAAAGAAATTTTAAAATGGACGAGTCCGGAATCGAACCGGAG</td><td>HHHHHHHHHHHHHHHHHGGGHGGGGGGGGGGFBBBAABBBBBB</td></tr>\n",
       "\t<tr><th scope=row>2</th><td>chrX</td><td>197313</td><td>197385</td><td>22</td><td>Ala</td><td>AGC</td><td>tgtcatactgacgtatctcactttgataaacaacaatatcaataatatta</td><td>atttctttttgttctcaacgacaataataagaaaatcaacttaaatggaa</td><td>      0</td><td>      0</td><td>74.48</td><td>50.69</td><td>23.79</td><td>Bo</td><td>-</td><td>SRR1874045.494891</td><td>272</td><td>chrX</td><td>-</td><td>197303</td><td>38</td><td>10M7I26M</td><td>AAAAAGAAATTTTAAAATGGACGAGTCCGGAATCGAACCGGAG</td><td>HHHHHHHHHHHHHHHHHGGGHGGGGGGGGGGFBBBAABBBBBB</td></tr>\n",
       "\t<tr><th scope=row>3</th><td>chrXI</td><td>517988</td><td>518060</td><td>9</td><td>Ala</td><td>AGC</td><td>gtaaaaatatatgatccaattcctaggacatcagaaaatatatctactat</td><td>ttttaaaatttctttttttttttttctctttccgtatgtaagcttttttc</td><td>      0</td><td>      0</td><td>74.48</td><td>50.69</td><td>23.79</td><td>Bo</td><td>+</td><td>SRR1874045.494891</td><td>0</td><td>chrXI</td><td>+</td><td>518035</td><td>38</td><td>43M</td><td>CTCCGGTTCGATTCCGGACTCGTCCATTTTAAAATTTCTTTTT</td><td>BBBBBBAABBBFGGGGGGGGGGHGGGHHHHHHHHHHHHHHHHH</td></tr>\n",
       "\t<tr><th scope=row>4</th><td>chrXIII</td><td>321147</td><td>321219</td><td>17</td><td>Ala</td><td>AGC</td><td>tatcctacatttatgttttctatacttcttcaaagtcttcaatacaaatc</td><td>ttttttatttttttggctaactaacccatatataacgtcttttacgaggt</td><td>      0</td><td>      0</td><td>74.48</td><td>50.69</td><td>23.79</td><td>Bo</td><td>-</td><td>SRR1874045.494891</td><td>272</td><td>chrXIII</td><td>-</td><td>321135</td><td>38</td><td>8M5I30M</td><td>AAAAAGAAATTTTAAAATGGACGAGTCCGGAATCGAACCGGAG</td><td>HHHHHHHHHHHHHHHHHGGGHGGGGGGGGGGFBBBAABBBBBB</td></tr>\n",
       "\t<tr><th scope=row>5</th><td>chrXVI</td><td>856902</td><td>856974</td><td>7</td><td>Ala</td><td>AGC</td><td>acactccggtattactcgagcccgtaatacaacaatttacaacaagattc</td><td>ttttaatttttgattatggaatacaaaatgtatatttcgtataaaattat</td><td>      0</td><td>      0</td><td>74.48</td><td>50.69</td><td>23.79</td><td>Bo</td><td>+</td><td>SRR1874045.494891</td><td>256</td><td>chrXVI</td><td>+</td><td>856949</td><td>38</td><td>32M6I5M</td><td>CTCCGGTTCGATTCCGGACTCGTCCATTTTAAAATTTCTTTTT</td><td>BBBBBBAABBBFGGGGGGGGGGHGGGHHHHHHHHHHHHHHHHH</td></tr>\n",
       "</tbody>\n",
       "</table>\n"
      ],
      "text/latex": [
       "\\begin{tabular}{r|llllllllllllllllllllllll}\n",
       "  & Chr & Start & End & tRNA.Number & tRNA.type & Anticodon & Upstream & Downstream & Intron.Start & Intron.End & Cove & HMM & X2pStr & Hit.Origin & Strand & qname & flag & rname & strand & pos & mapq & cigar & seq & qual\\\\\n",
       "\\hline\n",
       "\t1 & chrVI & 204924 & 204996 & 6 & Ala & AGC & tgtaaagtaaacctgtatcatttctgtttggaagatttcaacaaacgttc & tttaaatttttttattttttttgtcaaatctctctatctatagagataat &       0 &       0 & 74.48 & 50.69 & 23.79 & Bo & - & SRR1874045.494891 & 272 & chrVI & - & 204909 & 38 & 12M2I29M & AAAAAGAAATTTTAAAATGGACGAGTCCGGAATCGAACCGGAG & HHHHHHHHHHHHHHHHHGGGHGGGGGGGGGGFBBBAABBBBBB\\\\\n",
       "\t2 & chrX & 197313 & 197385 & 22 & Ala & AGC & tgtcatactgacgtatctcactttgataaacaacaatatcaataatatta & atttctttttgttctcaacgacaataataagaaaatcaacttaaatggaa &       0 &       0 & 74.48 & 50.69 & 23.79 & Bo & - & SRR1874045.494891 & 272 & chrX & - & 197303 & 38 & 10M7I26M & AAAAAGAAATTTTAAAATGGACGAGTCCGGAATCGAACCGGAG & HHHHHHHHHHHHHHHHHGGGHGGGGGGGGGGFBBBAABBBBBB\\\\\n",
       "\t3 & chrXI & 517988 & 518060 & 9 & Ala & AGC & gtaaaaatatatgatccaattcctaggacatcagaaaatatatctactat & ttttaaaatttctttttttttttttctctttccgtatgtaagcttttttc &       0 &       0 & 74.48 & 50.69 & 23.79 & Bo & + & SRR1874045.494891 & 0 & chrXI & + & 518035 & 38 & 43M & CTCCGGTTCGATTCCGGACTCGTCCATTTTAAAATTTCTTTTT & BBBBBBAABBBFGGGGGGGGGGHGGGHHHHHHHHHHHHHHHHH\\\\\n",
       "\t4 & chrXIII & 321147 & 321219 & 17 & Ala & AGC & tatcctacatttatgttttctatacttcttcaaagtcttcaatacaaatc & ttttttatttttttggctaactaacccatatataacgtcttttacgaggt &       0 &       0 & 74.48 & 50.69 & 23.79 & Bo & - & SRR1874045.494891 & 272 & chrXIII & - & 321135 & 38 & 8M5I30M & AAAAAGAAATTTTAAAATGGACGAGTCCGGAATCGAACCGGAG & HHHHHHHHHHHHHHHHHGGGHGGGGGGGGGGFBBBAABBBBBB\\\\\n",
       "\t5 & chrXVI & 856902 & 856974 & 7 & Ala & AGC & acactccggtattactcgagcccgtaatacaacaatttacaacaagattc & ttttaatttttgattatggaatacaaaatgtatatttcgtataaaattat &       0 &       0 & 74.48 & 50.69 & 23.79 & Bo & + & SRR1874045.494891 & 256 & chrXVI & + & 856949 & 38 & 32M6I5M & CTCCGGTTCGATTCCGGACTCGTCCATTTTAAAATTTCTTTTT & BBBBBBAABBBFGGGGGGGGGGHGGGHHHHHHHHHHHHHHHHH\\\\\n",
       "\\end{tabular}\n"
      ],
      "text/plain": [
       "      Chr  Start    End tRNA.Number tRNA.type Anticodon\n",
       "1   chrVI 204924 204996           6       Ala       AGC\n",
       "2    chrX 197313 197385          22       Ala       AGC\n",
       "3   chrXI 517988 518060           9       Ala       AGC\n",
       "4 chrXIII 321147 321219          17       Ala       AGC\n",
       "5  chrXVI 856902 856974           7       Ala       AGC\n",
       "                                            Upstream\n",
       "1 tgtaaagtaaacctgtatcatttctgtttggaagatttcaacaaacgttc\n",
       "2 tgtcatactgacgtatctcactttgataaacaacaatatcaataatatta\n",
       "3 gtaaaaatatatgatccaattcctaggacatcagaaaatatatctactat\n",
       "4 tatcctacatttatgttttctatacttcttcaaagtcttcaatacaaatc\n",
       "5 acactccggtattactcgagcccgtaatacaacaatttacaacaagattc\n",
       "                                          Downstream Intron.Start Intron.End\n",
       "1 tttaaatttttttattttttttgtcaaatctctctatctatagagataat            0          0\n",
       "2 atttctttttgttctcaacgacaataataagaaaatcaacttaaatggaa            0          0\n",
       "3 ttttaaaatttctttttttttttttctctttccgtatgtaagcttttttc            0          0\n",
       "4 ttttttatttttttggctaactaacccatatataacgtcttttacgaggt            0          0\n",
       "5 ttttaatttttgattatggaatacaaaatgtatatttcgtataaaattat            0          0\n",
       "   Cove   HMM X2pStr Hit.Origin Strand             qname flag   rname strand\n",
       "1 74.48 50.69  23.79         Bo      - SRR1874045.494891  272   chrVI      -\n",
       "2 74.48 50.69  23.79         Bo      - SRR1874045.494891  272    chrX      -\n",
       "3 74.48 50.69  23.79         Bo      + SRR1874045.494891    0   chrXI      +\n",
       "4 74.48 50.69  23.79         Bo      - SRR1874045.494891  272 chrXIII      -\n",
       "5 74.48 50.69  23.79         Bo      + SRR1874045.494891  256  chrXVI      +\n",
       "     pos mapq    cigar                                         seq\n",
       "1 204909   38 12M2I29M AAAAAGAAATTTTAAAATGGACGAGTCCGGAATCGAACCGGAG\n",
       "2 197303   38 10M7I26M AAAAAGAAATTTTAAAATGGACGAGTCCGGAATCGAACCGGAG\n",
       "3 518035   38      43M CTCCGGTTCGATTCCGGACTCGTCCATTTTAAAATTTCTTTTT\n",
       "4 321135   38  8M5I30M AAAAAGAAATTTTAAAATGGACGAGTCCGGAATCGAACCGGAG\n",
       "5 856949   38  32M6I5M CTCCGGTTCGATTCCGGACTCGTCCATTTTAAAATTTCTTTTT\n",
       "                                         qual\n",
       "1 HHHHHHHHHHHHHHHHHGGGHGGGGGGGGGGFBBBAABBBBBB\n",
       "2 HHHHHHHHHHHHHHHHHGGGHGGGGGGGGGGFBBBAABBBBBB\n",
       "3 BBBBBBAABBBFGGGGGGGGGGHGGGHHHHHHHHHHHHHHHHH\n",
       "4 HHHHHHHHHHHHHHHHHGGGHGGGGGGGGGGFBBBAABBBBBB\n",
       "5 BBBBBBAABBBFGGGGGGGGGGHGGGHHHHHHHHHHHHHHHHH"
      ]
     },
     "execution_count": 422,
     "metadata": {},
     "output_type": "execute_result"
    }
   ],
   "source": [
    "head(tmp2)"
   ]
  },
  {
   "cell_type": "code",
   "execution_count": 440,
   "metadata": {
    "collapsed": false
   },
   "outputs": [
    {
     "data": {
      "text/html": [
       "<table>\n",
       "<thead><tr><th></th><th scope=col>Chr</th><th scope=col>Start</th><th scope=col>End</th><th scope=col>tRNA.Number</th><th scope=col>tRNA.type</th><th scope=col>Anticodon</th><th scope=col>Upstream</th><th scope=col>Downstream</th><th scope=col>Intron.Start</th><th scope=col>Intron.End</th><th scope=col>Cove</th><th scope=col>HMM</th><th scope=col>X2pStr</th><th scope=col>Hit.Origin</th><th scope=col>Strand</th><th scope=col>qname</th><th scope=col>flag</th><th scope=col>rname</th><th scope=col>strand</th><th scope=col>pos</th><th scope=col>mapq</th><th scope=col>cigar</th><th scope=col>seq</th><th scope=col>qual</th></tr></thead>\n",
       "<tbody>\n",
       "\t<tr><th scope=row>3</th><td>chrXI</td><td>517988</td><td>518060</td><td>9</td><td>Ala</td><td>AGC</td><td>gtaaaaatatatgatccaattcctaggacatcagaaaatatatctactat</td><td>ttttaaaatttctttttttttttttctctttccgtatgtaagcttttttc</td><td>      0</td><td>      0</td><td>74.48</td><td>50.69</td><td>23.79</td><td>Bo</td><td>+</td><td>SRR1874045.494891</td><td>0</td><td>chrXI</td><td>+</td><td>518035</td><td>38</td><td>43M</td><td>CTCCGGTTCGATTCCGGACTCGTCCATTTTAAAATTTCTTTTT</td><td>BBBBBBAABBBFGGGGGGGGGGHGGGHHHHHHHHHHHHHHHHH</td></tr>\n",
       "</tbody>\n",
       "</table>\n"
      ],
      "text/latex": [
       "\\begin{tabular}{r|llllllllllllllllllllllll}\n",
       "  & Chr & Start & End & tRNA.Number & tRNA.type & Anticodon & Upstream & Downstream & Intron.Start & Intron.End & Cove & HMM & X2pStr & Hit.Origin & Strand & qname & flag & rname & strand & pos & mapq & cigar & seq & qual\\\\\n",
       "\\hline\n",
       "\t3 & chrXI & 517988 & 518060 & 9 & Ala & AGC & gtaaaaatatatgatccaattcctaggacatcagaaaatatatctactat & ttttaaaatttctttttttttttttctctttccgtatgtaagcttttttc &       0 &       0 & 74.48 & 50.69 & 23.79 & Bo & + & SRR1874045.494891 & 0 & chrXI & + & 518035 & 38 & 43M & CTCCGGTTCGATTCCGGACTCGTCCATTTTAAAATTTCTTTTT & BBBBBBAABBBFGGGGGGGGGGHGGGHHHHHHHHHHHHHHHHH\\\\\n",
       "\\end{tabular}\n"
      ],
      "text/plain": [
       "    Chr  Start    End tRNA.Number tRNA.type Anticodon\n",
       "3 chrXI 517988 518060           9       Ala       AGC\n",
       "                                            Upstream\n",
       "3 gtaaaaatatatgatccaattcctaggacatcagaaaatatatctactat\n",
       "                                          Downstream Intron.Start Intron.End\n",
       "3 ttttaaaatttctttttttttttttctctttccgtatgtaagcttttttc            0          0\n",
       "   Cove   HMM X2pStr Hit.Origin Strand             qname flag rname strand\n",
       "3 74.48 50.69  23.79         Bo      + SRR1874045.494891    0 chrXI      +\n",
       "     pos mapq cigar                                         seq\n",
       "3 518035   38   43M CTCCGGTTCGATTCCGGACTCGTCCATTTTAAAATTTCTTTTT\n",
       "                                         qual\n",
       "3 BBBBBBAABBBFGGGGGGGGGGHGGGHHHHHHHHHHHHHHHHH"
      ]
     },
     "execution_count": 440,
     "metadata": {},
     "output_type": "execute_result"
    }
   ],
   "source": [
    "filter(tmp, qname == \"SRR1874045.494891\")[3,]\n"
   ]
  },
  {
   "cell_type": "code",
   "execution_count": 458,
   "metadata": {
    "collapsed": false
   },
   "outputs": [
    {
     "data": {
      "text/html": [
       "'CTCCG'"
      ],
      "text/latex": [
       "'CTCCG'"
      ],
      "text/markdown": [
       "'CTCCG'"
      ],
      "text/plain": [
       "[1] \"CTCCG\""
      ]
     },
     "execution_count": 458,
     "metadata": {},
     "output_type": "execute_result"
    }
   ],
   "source": [
    "subseq(as.character(x$seq[[1]]),1,5)"
   ]
  },
  {
   "cell_type": "code",
   "execution_count": 496,
   "metadata": {
    "collapsed": false
   },
   "outputs": [
    {
     "data": {
      "text/html": [
       "<table>\n",
       "<thead><tr><th></th><th scope=col>Chr</th><th scope=col>Start</th><th scope=col>End</th><th scope=col>tRNA.Number</th><th scope=col>tRNA.type</th><th scope=col>Anticodon</th><th scope=col>Upstream</th><th scope=col>Downstream</th><th scope=col>Intron.Start</th><th scope=col>Intron.End</th><th scope=col>Cove</th><th scope=col>HMM</th><th scope=col>X2pStr</th><th scope=col>Hit.Origin</th><th scope=col>Strand</th><th scope=col>qname</th><th scope=col>flag</th><th scope=col>rname</th><th scope=col>strand</th><th scope=col>pos</th><th scope=col>mapq</th><th scope=col>cigar</th><th scope=col>seq</th><th scope=col>qual</th></tr></thead>\n",
       "<tbody>\n",
       "\t<tr><th scope=row>1</th><td>chrVI</td><td>204924</td><td>204996</td><td>6</td><td>Ala</td><td>AGC</td><td>tgtaaagtaaacctgtatcatttctgtttggaagatttcaacaaacgttc</td><td>tttaaatttttttattttttttgtcaaatctctctatctatagagataat</td><td>      0</td><td>      0</td><td>74.48</td><td>50.69</td><td>23.79</td><td>Bo</td><td>-</td><td>SRR1874045.494891</td><td>272</td><td>chrVI</td><td>-</td><td>204909</td><td>38</td><td>12M2I29M</td><td>AAAAAGAAATTTTAAAATGGACGAGTCCGGAATCGAACCGGAG</td><td>HHHHHHHHHHHHHHHHHGGGHGGGGGGGGGGFBBBAABBBBBB</td></tr>\n",
       "\t<tr><th scope=row>2</th><td>chrX</td><td>197313</td><td>197385</td><td>22</td><td>Ala</td><td>AGC</td><td>tgtcatactgacgtatctcactttgataaacaacaatatcaataatatta</td><td>atttctttttgttctcaacgacaataataagaaaatcaacttaaatggaa</td><td>      0</td><td>      0</td><td>74.48</td><td>50.69</td><td>23.79</td><td>Bo</td><td>-</td><td>SRR1874045.494891</td><td>272</td><td>chrX</td><td>-</td><td>197303</td><td>38</td><td>10M7I26M</td><td>AAAAAGAAATTTTAAAATGGACGAGTCCGGAATCGAACCGGAG</td><td>HHHHHHHHHHHHHHHHHGGGHGGGGGGGGGGFBBBAABBBBBB</td></tr>\n",
       "\t<tr><th scope=row>3</th><td>chrXI</td><td>517988</td><td>518060</td><td>9</td><td>Ala</td><td>AGC</td><td>gtaaaaatatatgatccaattcctaggacatcagaaaatatatctactat</td><td>ttttaaaatttctttttttttttttctctttccgtatgtaagcttttttc</td><td>      0</td><td>      0</td><td>74.48</td><td>50.69</td><td>23.79</td><td>Bo</td><td>+</td><td>SRR1874045.494891</td><td>0</td><td>chrXI</td><td>+</td><td>518035</td><td>38</td><td>43M</td><td>CTCCGGTTCGATTCCGGACTCGTCCATTTTAAAATTTCTTTTT</td><td>BBBBBBAABBBFGGGGGGGGGGHGGGHHHHHHHHHHHHHHHHH</td></tr>\n",
       "\t<tr><th scope=row>4</th><td>chrXIII</td><td>321147</td><td>321219</td><td>17</td><td>Ala</td><td>AGC</td><td>tatcctacatttatgttttctatacttcttcaaagtcttcaatacaaatc</td><td>ttttttatttttttggctaactaacccatatataacgtcttttacgaggt</td><td>      0</td><td>      0</td><td>74.48</td><td>50.69</td><td>23.79</td><td>Bo</td><td>-</td><td>SRR1874045.494891</td><td>272</td><td>chrXIII</td><td>-</td><td>321135</td><td>38</td><td>8M5I30M</td><td>AAAAAGAAATTTTAAAATGGACGAGTCCGGAATCGAACCGGAG</td><td>HHHHHHHHHHHHHHHHHGGGHGGGGGGGGGGFBBBAABBBBBB</td></tr>\n",
       "\t<tr><th scope=row>5</th><td>chrXVI</td><td>856902</td><td>856974</td><td>7</td><td>Ala</td><td>AGC</td><td>acactccggtattactcgagcccgtaatacaacaatttacaacaagattc</td><td>ttttaatttttgattatggaatacaaaatgtatatttcgtataaaattat</td><td>      0</td><td>      0</td><td>74.48</td><td>50.69</td><td>23.79</td><td>Bo</td><td>+</td><td>SRR1874045.494891</td><td>256</td><td>chrXVI</td><td>+</td><td>856949</td><td>38</td><td>32M6I5M</td><td>CTCCGGTTCGATTCCGGACTCGTCCATTTTAAAATTTCTTTTT</td><td>BBBBBBAABBBFGGGGGGGGGGHGGGHHHHHHHHHHHHHHHHH</td></tr>\n",
       "</tbody>\n",
       "</table>\n"
      ],
      "text/latex": [
       "\\begin{tabular}{r|llllllllllllllllllllllll}\n",
       "  & Chr & Start & End & tRNA.Number & tRNA.type & Anticodon & Upstream & Downstream & Intron.Start & Intron.End & Cove & HMM & X2pStr & Hit.Origin & Strand & qname & flag & rname & strand & pos & mapq & cigar & seq & qual\\\\\n",
       "\\hline\n",
       "\t1 & chrVI & 204924 & 204996 & 6 & Ala & AGC & tgtaaagtaaacctgtatcatttctgtttggaagatttcaacaaacgttc & tttaaatttttttattttttttgtcaaatctctctatctatagagataat &       0 &       0 & 74.48 & 50.69 & 23.79 & Bo & - & SRR1874045.494891 & 272 & chrVI & - & 204909 & 38 & 12M2I29M & AAAAAGAAATTTTAAAATGGACGAGTCCGGAATCGAACCGGAG & HHHHHHHHHHHHHHHHHGGGHGGGGGGGGGGFBBBAABBBBBB\\\\\n",
       "\t2 & chrX & 197313 & 197385 & 22 & Ala & AGC & tgtcatactgacgtatctcactttgataaacaacaatatcaataatatta & atttctttttgttctcaacgacaataataagaaaatcaacttaaatggaa &       0 &       0 & 74.48 & 50.69 & 23.79 & Bo & - & SRR1874045.494891 & 272 & chrX & - & 197303 & 38 & 10M7I26M & AAAAAGAAATTTTAAAATGGACGAGTCCGGAATCGAACCGGAG & HHHHHHHHHHHHHHHHHGGGHGGGGGGGGGGFBBBAABBBBBB\\\\\n",
       "\t3 & chrXI & 517988 & 518060 & 9 & Ala & AGC & gtaaaaatatatgatccaattcctaggacatcagaaaatatatctactat & ttttaaaatttctttttttttttttctctttccgtatgtaagcttttttc &       0 &       0 & 74.48 & 50.69 & 23.79 & Bo & + & SRR1874045.494891 & 0 & chrXI & + & 518035 & 38 & 43M & CTCCGGTTCGATTCCGGACTCGTCCATTTTAAAATTTCTTTTT & BBBBBBAABBBFGGGGGGGGGGHGGGHHHHHHHHHHHHHHHHH\\\\\n",
       "\t4 & chrXIII & 321147 & 321219 & 17 & Ala & AGC & tatcctacatttatgttttctatacttcttcaaagtcttcaatacaaatc & ttttttatttttttggctaactaacccatatataacgtcttttacgaggt &       0 &       0 & 74.48 & 50.69 & 23.79 & Bo & - & SRR1874045.494891 & 272 & chrXIII & - & 321135 & 38 & 8M5I30M & AAAAAGAAATTTTAAAATGGACGAGTCCGGAATCGAACCGGAG & HHHHHHHHHHHHHHHHHGGGHGGGGGGGGGGFBBBAABBBBBB\\\\\n",
       "\t5 & chrXVI & 856902 & 856974 & 7 & Ala & AGC & acactccggtattactcgagcccgtaatacaacaatttacaacaagattc & ttttaatttttgattatggaatacaaaatgtatatttcgtataaaattat &       0 &       0 & 74.48 & 50.69 & 23.79 & Bo & + & SRR1874045.494891 & 256 & chrXVI & + & 856949 & 38 & 32M6I5M & CTCCGGTTCGATTCCGGACTCGTCCATTTTAAAATTTCTTTTT & BBBBBBAABBBFGGGGGGGGGGHGGGHHHHHHHHHHHHHHHHH\\\\\n",
       "\\end{tabular}\n"
      ],
      "text/plain": [
       "      Chr  Start    End tRNA.Number tRNA.type Anticodon\n",
       "1   chrVI 204924 204996           6       Ala       AGC\n",
       "2    chrX 197313 197385          22       Ala       AGC\n",
       "3   chrXI 517988 518060           9       Ala       AGC\n",
       "4 chrXIII 321147 321219          17       Ala       AGC\n",
       "5  chrXVI 856902 856974           7       Ala       AGC\n",
       "                                            Upstream\n",
       "1 tgtaaagtaaacctgtatcatttctgtttggaagatttcaacaaacgttc\n",
       "2 tgtcatactgacgtatctcactttgataaacaacaatatcaataatatta\n",
       "3 gtaaaaatatatgatccaattcctaggacatcagaaaatatatctactat\n",
       "4 tatcctacatttatgttttctatacttcttcaaagtcttcaatacaaatc\n",
       "5 acactccggtattactcgagcccgtaatacaacaatttacaacaagattc\n",
       "                                          Downstream Intron.Start Intron.End\n",
       "1 tttaaatttttttattttttttgtcaaatctctctatctatagagataat            0          0\n",
       "2 atttctttttgttctcaacgacaataataagaaaatcaacttaaatggaa            0          0\n",
       "3 ttttaaaatttctttttttttttttctctttccgtatgtaagcttttttc            0          0\n",
       "4 ttttttatttttttggctaactaacccatatataacgtcttttacgaggt            0          0\n",
       "5 ttttaatttttgattatggaatacaaaatgtatatttcgtataaaattat            0          0\n",
       "   Cove   HMM X2pStr Hit.Origin Strand             qname flag   rname strand\n",
       "1 74.48 50.69  23.79         Bo      - SRR1874045.494891  272   chrVI      -\n",
       "2 74.48 50.69  23.79         Bo      - SRR1874045.494891  272    chrX      -\n",
       "3 74.48 50.69  23.79         Bo      + SRR1874045.494891    0   chrXI      +\n",
       "4 74.48 50.69  23.79         Bo      - SRR1874045.494891  272 chrXIII      -\n",
       "5 74.48 50.69  23.79         Bo      + SRR1874045.494891  256  chrXVI      +\n",
       "     pos mapq    cigar                                         seq\n",
       "1 204909   38 12M2I29M AAAAAGAAATTTTAAAATGGACGAGTCCGGAATCGAACCGGAG\n",
       "2 197303   38 10M7I26M AAAAAGAAATTTTAAAATGGACGAGTCCGGAATCGAACCGGAG\n",
       "3 518035   38      43M CTCCGGTTCGATTCCGGACTCGTCCATTTTAAAATTTCTTTTT\n",
       "4 321135   38  8M5I30M AAAAAGAAATTTTAAAATGGACGAGTCCGGAATCGAACCGGAG\n",
       "5 856949   38  32M6I5M CTCCGGTTCGATTCCGGACTCGTCCATTTTAAAATTTCTTTTT\n",
       "                                         qual\n",
       "1 HHHHHHHHHHHHHHHHHGGGHGGGGGGGGGGFBBBAABBBBBB\n",
       "2 HHHHHHHHHHHHHHHHHGGGHGGGGGGGGGGFBBBAABBBBBB\n",
       "3 BBBBBBAABBBFGGGGGGGGGGHGGGHHHHHHHHHHHHHHHHH\n",
       "4 HHHHHHHHHHHHHHHHHGGGHGGGGGGGGGGFBBBAABBBBBB\n",
       "5 BBBBBBAABBBFGGGGGGGGGGHGGGHHHHHHHHHHHHHHHHH"
      ]
     },
     "execution_count": 496,
     "metadata": {},
     "output_type": "execute_result"
    }
   ],
   "source": [
    "filter(tmp, qname == \"SRR1874045.494891\")"
   ]
  },
  {
   "cell_type": "code",
   "execution_count": 602,
   "metadata": {
    "collapsed": false
   },
   "outputs": [],
   "source": [
    "remapRead = function(x) {\n",
    "    #print(x)\n",
    "    tRNA_strand = x$Strand\n",
    "    read_strand = x$strand\n",
    "    seq = as.character(x$seq)\n",
    "    quality = as.character(x$qual)\n",
    "    upstream = x$Upstream[[1]]\n",
    "    downstream = x$Downstream[[1]]\n",
    "    # do tRNA strand and mapped read strand agree?\n",
    "    if (tRNA_strand != read_strand) {\n",
    "        cat(\"tRNA and read strand do not agree\")\n",
    "    }\n",
    "    #print(read_strand)\n",
    "    if ((tRNA_strand == \"+\") && (read_strand == \"+\")) {\n",
    "        # easy case\n",
    "        # is read start closer to upstream or downstream region\n",
    "        if (x$pos > x$Start) {\n",
    "            d_name = \"End\"\n",
    "        } else {\n",
    "            d_name = \"Start\"\n",
    "        }\n",
    "        #print(d_name)\n",
    "        if (d_name == \"End\") {\n",
    "            # read should be aligned to downstream region\n",
    "            # take only end region of read for alignment\n",
    "            read_subseq = subseq(seq, abs(x$pos - x$End) + 2,nchar(seq))\n",
    "            read_quality = subseq(quality, abs(x$pos - x$End) + 2,nchar(quality))\n",
    "            pattern = DNAString(downstream)\n",
    "            #print(seq)\n",
    "            #print(DNAString(read_subseq))\n",
    "            #print(pattern)\n",
    "\n",
    "        } else if (d_name == \"Start\") {\n",
    "            # read should be aligned to upstream region\n",
    "            # take only start region of read for alignment\n",
    "            read_subseq = subseq(seq, 1, abs(x$Start - x$pos))\n",
    "            read_quality = subseq(quality, 1, abs(x$Start - x$pos))\n",
    "            pattern = DNAString(upstream)\n",
    "            #print(seq)\n",
    "            #print(DNAString(read_subseq))\n",
    "            #print(pattern)  \n",
    "        }\n",
    "    } else if ((tRNA_strand == \"-\") && (read_strand == \"-\")) {\n",
    "        # is read start closer to upstream or downstream region\n",
    "        # note orientation is reversed due to limitations in reading bam file with Ramtools\n",
    "        if (x$pos < x$Start) {\n",
    "            d_name = \"End\"\n",
    "        } else {\n",
    "            d_name = \"Start\"\n",
    "        }\n",
    "        #print(d_name)\n",
    "        if (d_name == \"End\") {\n",
    "            # read should be aligned to downstream region\n",
    "            # take only end region of read for alignment\n",
    "            read_subseq = as.character(reverseComplement(DNAString(subseq(seq, 1, abs(x$pos - x$Start)))))\n",
    "            read_quality = reverse(subseq(quality, 1, abs(x$pos - x$Start)))\n",
    "            pattern = DNAString(downstream)\n",
    "            #print(seq)\n",
    "            #print(DNAString(read_subseq))\n",
    "            #print(pattern)\n",
    "\n",
    "        } else if (d_name == \"Start\") {\n",
    "            # read should be aligned to upstream region\n",
    "            # take only start region of read for alignment\n",
    "            read_subseq = as.character(reverseComplement(DNAString(subseq(seq, abs(x$pos - x$End) + 2, nchar(seq)))))\n",
    "            read_quality = reverse(subseq(quality, abs(x$pos - x$End) + 2, nchar(seq)))\n",
    "            pattern = DNAString(upstream)\n",
    "            #print(seq)\n",
    "            #print(DNAString(read_subseq))\n",
    "            #print(pattern)  \n",
    "        }\n",
    "    }\n",
    "    o = pairwiseAlignment(pattern = pattern, subject = DNAString(read_subseq),\n",
    "                          subjectQuality = PhredQuality(read_quality),\n",
    "                          gapOpening = 0, gapExtension = -5, type = \"overlap\", \n",
    "                          scoreOnly = T)\n",
    "    return(o)\n",
    "}"
   ]
  },
  {
   "cell_type": "code",
   "execution_count": 635,
   "metadata": {
    "collapsed": false
   },
   "outputs": [],
   "source": [
    "read = \"SRR1874045.717800\"\n",
    "rs = lapply(seq(1:dim(filter(tmp, qname == read))[1]), function(i) {\n",
    "    x = filter(tmp, qname == read)[i,]\n",
    "    o = as.numeric(remapRead(x))\n",
    "    names(o) = paste(x$Chr,x$Start,sep=\":\")\n",
    "    return(o)\n",
    "})\n"
   ]
  },
  {
   "cell_type": "code",
   "execution_count": 636,
   "metadata": {
    "collapsed": false
   },
   "outputs": [
    {
     "data": {
      "text/html": [
       "<ol>\n",
       "\t<li><strong>chrIV:410379:</strong> 7.96232461929321</li>\n",
       "\t<li><strong>chrVI:204924:</strong> 1.9905811548233</li>\n",
       "\t<li><strong>chrVII:774349:</strong> 21.8949642181396</li>\n",
       "\t<li><strong>chrVIII:146242:</strong> 7.96118068695068</li>\n",
       "\t<li><strong>chrX:197313:</strong> 9.90438175201416</li>\n",
       "\t<li><strong>chrXI:219895:</strong> 1.9905811548233</li>\n",
       "\t<li><strong>chrXI:517988:</strong> 3.98059034347534</li>\n",
       "\t<li><strong>chrXII:656934:</strong> 1.9905811548233</li>\n",
       "\t<li><strong>chrXIII:321147:</strong> 5.97088527679443</li>\n",
       "\t<li><strong>chrXIII:768369:</strong> 3.98116230964661</li>\n",
       "\t<li><strong>chrXVI:856902:</strong> 0.970885515213013</li>\n",
       "</ol>\n"
      ],
      "text/latex": [
       "\\begin{enumerate}\n",
       "\\item \\textbf{chrIV:410379:} 7.96232461929321\n",
       "\\item \\textbf{chrVI:204924:} 1.9905811548233\n",
       "\\item \\textbf{chrVII:774349:} 21.8949642181396\n",
       "\\item \\textbf{chrVIII:146242:} 7.96118068695068\n",
       "\\item \\textbf{chrX:197313:} 9.90438175201416\n",
       "\\item \\textbf{chrXI:219895:} 1.9905811548233\n",
       "\\item \\textbf{chrXI:517988:} 3.98059034347534\n",
       "\\item \\textbf{chrXII:656934:} 1.9905811548233\n",
       "\\item \\textbf{chrXIII:321147:} 5.97088527679443\n",
       "\\item \\textbf{chrXIII:768369:} 3.98116230964661\n",
       "\\item \\textbf{chrXVI:856902:} 0.970885515213013\n",
       "\\end{enumerate}\n"
      ],
      "text/markdown": [
       "1. **chrIV:410379:** 7.96232461929321\n",
       "2. **chrVI:204924:** 1.9905811548233\n",
       "3. **chrVII:774349:** 21.8949642181396\n",
       "4. **chrVIII:146242:** 7.96118068695068\n",
       "5. **chrX:197313:** 9.90438175201416\n",
       "6. **chrXI:219895:** 1.9905811548233\n",
       "7. **chrXI:517988:** 3.98059034347534\n",
       "8. **chrXII:656934:** 1.9905811548233\n",
       "9. **chrXIII:321147:** 5.97088527679443\n",
       "10. **chrXIII:768369:** 3.98116230964661\n",
       "11. **chrXVI:856902:** 0.970885515213013\n",
       "\n",
       "\n"
      ],
      "text/plain": [
       "[[1]]\n",
       "chrIV:410379 \n",
       "    7.962325 \n",
       "\n",
       "[[2]]\n",
       "chrVI:204924 \n",
       "    1.990581 \n",
       "\n",
       "[[3]]\n",
       "chrVII:774349 \n",
       "     21.89496 \n",
       "\n",
       "[[4]]\n",
       "chrVIII:146242 \n",
       "      7.961181 \n",
       "\n",
       "[[5]]\n",
       "chrX:197313 \n",
       "   9.904382 \n",
       "\n",
       "[[6]]\n",
       "chrXI:219895 \n",
       "    1.990581 \n",
       "\n",
       "[[7]]\n",
       "chrXI:517988 \n",
       "     3.98059 \n",
       "\n",
       "[[8]]\n",
       "chrXII:656934 \n",
       "     1.990581 \n",
       "\n",
       "[[9]]\n",
       "chrXIII:321147 \n",
       "      5.970885 \n",
       "\n",
       "[[10]]\n",
       "chrXIII:768369 \n",
       "      3.981162 \n",
       "\n",
       "[[11]]\n",
       "chrXVI:856902 \n",
       "    0.9708855 \n"
      ]
     },
     "execution_count": 636,
     "metadata": {},
     "output_type": "execute_result"
    }
   ],
   "source": [
    "rs"
   ]
  },
  {
   "cell_type": "code",
   "execution_count": 620,
   "metadata": {
    "collapsed": false
   },
   "outputs": [
    {
     "data": {
      "image/png": "[encoded data removed]"
     },
     "metadata": {},
     "output_type": "display_data"
    }
   ],
   "source": [
    "plot(sort(unlist(rs), decreasing = T))"
   ]
  },
  {
   "cell_type": "code",
   "execution_count": 275,
   "metadata": {
    "collapsed": false
   },
   "outputs": [
    {
     "data": {
      "text/plain": [
       "  43-letter \"DNAString\" instance\n",
       "seq: CTCCGGTTCGATTCCGGACTCGTCCATTTTAAAATTTCTTTTT"
      ]
     },
     "execution_count": 275,
     "metadata": {},
     "output_type": "execute_result"
    }
   ],
   "source": [
    "reverseComplement(s2)"
   ]
  },
  {
   "cell_type": "code",
   "execution_count": 59,
   "metadata": {
    "collapsed": false
   },
   "outputs": [
    {
     "ename": "ERROR",
     "evalue": "Error in UseMethod(\"score\"): no applicable method for 'score' applied to an object of class \"c('PairwiseAlignmentsSingleSubject', 'PairwiseAlignments')\"\n",
     "output_type": "error",
     "traceback": [
      "Error in UseMethod(\"score\"): no applicable method for 'score' applied to an object of class \"c('PairwiseAlignmentsSingleSubject', 'PairwiseAlignments')\"\n"
     ]
    }
   ],
   "source": [
    "score(globalAligns1s2)"
   ]
  },
  {
   "cell_type": "code",
   "execution_count": null,
   "metadata": {
    "collapsed": true
   },
   "outputs": [],
   "source": []
  }
 ],
 "metadata": {
  "kernelspec": {
   "display_name": "R",
   "language": "R",
   "name": "ir"
  },
  "language_info": {
   "codemirror_mode": "r",
   "file_extension": ".r",
   "mimetype": "text/x-r-source",
   "name": "R",
   "pygments_lexer": "r",
   "version": "3.2.2"
  }
 },
 "nbformat": 4,
 "nbformat_minor": 0
}
