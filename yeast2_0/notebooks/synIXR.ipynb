{
 "cells": [
  {
   "cell_type": "markdown",
   "metadata": {},
   "source": [
    "###  Read native synIXR chromosome. Compile segments. Make scramble chromosome from segment config."
   ]
  },
  {
   "cell_type": "code",
   "execution_count": 1,
   "metadata": {
    "collapsed": true
   },
   "outputs": [],
   "source": [
    "library(ape)"
   ]
  },
  {
   "cell_type": "markdown",
   "metadata": {},
   "source": [
    "#### Read sequence file"
   ]
  },
  {
   "cell_type": "code",
   "execution_count": 26,
   "metadata": {
    "collapsed": false
   },
   "outputs": [],
   "source": [
    "#wwwloc = \"https://raw.githubusercontent.com/scalefreegan/steinmetz-lab/master/yeast2_0/synIXR/sequence.gb\"\n",
    "synIXR = read.GenBank(\"JN020955.1\", seq.names = \"JN020955.1\", species.names = TRUE,\n",
    "             gene.names = FALSE, as.character = TRUE)"
   ]
  },
  {
   "cell_type": "code",
   "execution_count": 28,
   "metadata": {
    "collapsed": false
   },
   "outputs": [
    {
     "data": {
      "text/html": [
       "<ol class=list-inline>\n",
       "\t<li>'g'</li>\n",
       "\t<li>'g'</li>\n",
       "\t<li>'c'</li>\n",
       "\t<li>'c'</li>\n",
       "\t<li>'g'</li>\n",
       "</ol>\n"
      ],
      "text/latex": [
       "\\begin{enumerate*}\n",
       "\\item 'g'\n",
       "\\item 'g'\n",
       "\\item 'c'\n",
       "\\item 'c'\n",
       "\\item 'g'\n",
       "\\end{enumerate*}\n"
      ],
      "text/markdown": [
       "1. 'g'\n",
       "2. 'g'\n",
       "3. 'c'\n",
       "4. 'c'\n",
       "5. 'g'\n",
       "\n",
       "\n"
      ],
      "text/plain": [
       "[1] \"g\" \"g\" \"c\" \"c\" \"g\""
      ]
     },
     "execution_count": 28,
     "metadata": {},
     "output_type": "execute_result"
    }
   ],
   "source": [
    "synIXR$JN020955.1[1:5]\n"
   ]
  },
  {
   "cell_type": "code",
   "execution_count": 33,
   "metadata": {
    "collapsed": false
   },
   "outputs": [
    {
     "name": "stdout",
     "output_type": "stream",
     "text": [
      "List of 1\n",
      " $ JN020955.1: chr [1:91010] \"g\" \"g\" \"c\" \"c\" ...\n",
      " - attr(*, \"species\")= chr \"synthetic_construct\"\n"
     ]
    }
   ],
   "source": [
    "str(synIXR)"
   ]
  },
  {
   "cell_type": "code",
   "execution_count": null,
   "metadata": {
    "collapsed": true
   },
   "outputs": [],
   "source": []
  }
 ],
 "metadata": {
  "kernelspec": {
   "display_name": "R",
   "language": "R",
   "name": "ir"
  },
  "language_info": {
   "codemirror_mode": "r",
   "file_extension": ".r",
   "mimetype": "text/x-r-source",
   "name": "R",
   "pygments_lexer": "r",
   "version": "3.2.2"
  }
 },
 "nbformat": 4,
 "nbformat_minor": 0
}
