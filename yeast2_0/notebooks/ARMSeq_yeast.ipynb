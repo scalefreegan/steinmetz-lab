{
 "cells": [
  {
   "cell_type": "markdown",
   "metadata": {},
   "source": [
    "# ARMseq pipeline yeast"
   ]
  },
  {
   "cell_type": "code",
   "execution_count": null,
   "metadata": {
    "collapsed": false
   },
   "outputs": [],
   "source": [
    "cd /g/steinmetz/project/IESY/trna/ARMseq/yeast/ARM-Seq/\n",
    "source activate py27"
   ]
  },
  {
   "cell_type": "code",
   "execution_count": null,
   "metadata": {
    "collapsed": false
   },
   "outputs": [],
   "source": [
    "#Create the tRNA database\n",
    "# Params\n",
    "# 1. tRNA database name\n",
    "# 2. tRNAscan-SE output file\n",
    "# 3. Fasta file of reference genome\n",
    "echo \"Creating tRNA database\"\n",
    "./maketrnadb.bash sacCer3 sacCer3-tRNAs.out Saccharomyces_cerevisiae.R64-1-1.dna.toplevel.fa"
   ]
  },
  {
   "cell_type": "code",
   "execution_count": null,
   "metadata": {
    "collapsed": true
   },
   "outputs": [],
   "source": [
    "#Map the tRNAreads\n",
    "# Params\n",
    "# 1. Name of experiments\n",
    "# 2. tRNA database name\n",
    "# 3. Tab-delimited file specifying the samples and fastq files\n",
    "# 4. Number of threads for running bowtie2 \n",
    "#echo \"Mapping reads to tRNA database\"\n",
    "./mapreads.bash TestTrnas sacCer3 TrnaSamples.txt yeast-nontRNA-ncRNA.gtf 4"
   ]
  }
 ],
 "metadata": {
  "kernelspec": {
   "display_name": "Bash",
   "language": "bash",
   "name": "bash"
  },
  "language_info": {
   "codemirror_mode": "shell",
   "file_extension": ".sh",
   "mimetype": "text/x-sh",
   "name": "bash"
  }
 },
 "nbformat": 4,
 "nbformat_minor": 0
}
