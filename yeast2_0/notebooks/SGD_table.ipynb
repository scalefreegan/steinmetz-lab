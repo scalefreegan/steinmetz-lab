{
 "cells": [
  {
   "cell_type": "markdown",
   "metadata": {},
   "source": [
    "# Loading SGD features table"
   ]
  },
  {
   "cell_type": "code",
   "execution_count": 1,
   "metadata": {
    "collapsed": true
   },
   "outputs": [],
   "source": [
    ".libPaths(\"~/R/x86_64-redhat-linux-gnu-library/3.2/\")\n",
    "options(repr.plot.width = 6)\n",
    "options(repr.plot.height = 5)\n",
    "options(jupyter.plot_mimetypes = 'image/png')"
   ]
  },
  {
   "cell_type": "code",
   "execution_count": 2,
   "metadata": {
    "collapsed": false
   },
   "outputs": [
    {
     "name": "stderr",
     "output_type": "stream",
     "text": [
      "\n",
      "Attaching package: ‘dplyr’\n",
      "\n",
      "The following objects are masked from ‘package:stats’:\n",
      "\n",
      "    filter, lag\n",
      "\n",
      "The following objects are masked from ‘package:base’:\n",
      "\n",
      "    intersect, setdiff, setequal, union\n",
      "\n"
     ]
    }
   ],
   "source": [
    "library(dplyr)"
   ]
  },
  {
   "cell_type": "code",
   "execution_count": 5,
   "metadata": {
    "collapsed": false
   },
   "outputs": [
    {
     "name": "stderr",
     "output_type": "stream",
     "text": [
      "Warning message:\n",
      "In scan(file, what, nmax, sep, dec, quote, skip, nlines, na.strings, : EOF within quoted string"
     ]
    }
   ],
   "source": [
    "# load annotation gtf\n",
    "gtf_annotations = read.delim(\"/g/steinmetz/project/IESY/trna/ARMseq/data/SGD_features.tab\", sep=\"\\t\", header = F)\n",
    "colnames(gtf_annotations) = c(\"ID\", \"Type\", \"Confidence\", \"Sys.Name\", \n",
    "                          \"Common.Name\", \"Alt.Name\", \"Location\", \"Alt.ID\", \"Chr\",\n",
    "                         \"Start\", \"Stop\", \"Strand\", \"Unknown.Loc\", \"Date.1\", \"Date.2\", \"Description\")\n",
    "gtf_tRNAs = gtf_annotations %>% filter(Type == \"tRNA_gene\") %>% select(Type, Sys.Name, Common.Name, Alt.Name, \n",
    "                                                               Chr, Start, Stop, Strand, Description)\n"
   ]
  },
  {
   "cell_type": "code",
   "execution_count": 6,
   "metadata": {
    "collapsed": false
   },
   "outputs": [
    {
     "data": {
      "text/html": [
       "<table>\n",
       "<thead><tr><th></th><th scope=col>ID</th><th scope=col>Type</th><th scope=col>Confidence</th><th scope=col>Sys.Name</th><th scope=col>Common.Name</th><th scope=col>Alt.Name</th><th scope=col>Location</th><th scope=col>Alt.ID</th><th scope=col>Chr</th><th scope=col>Start</th><th scope=col>Stop</th><th scope=col>Strand</th><th scope=col>Unknown.Loc</th><th scope=col>Date.1</th><th scope=col>Date.2</th><th scope=col>Description</th></tr></thead>\n",
       "<tbody>\n",
       "\t<tr><th scope=row>1</th><td>S000002143</td><td>ORF</td><td>Dubious</td><td>YAL069W</td><td></td><td></td><td>chromosome 1</td><td></td><td>1</td><td>335</td><td>649</td><td>W</td><td>NA</td><td>1996-07-31</td><td>1996-07-31</td><td>Dubious open reading frame; unlikely to encode a functional protein, based on available experimental and comparative sequence data</td></tr>\n",
       "\t<tr><th scope=row>2</th><td>S000031098</td><td>CDS</td><td></td><td></td><td></td><td></td><td>YAL069W</td><td></td><td>1</td><td>335</td><td>649</td><td>W</td><td>NA</td><td>1996-07-31</td><td>1996-07-31</td><td></td></tr>\n",
       "\t<tr><th scope=row>3</th><td>S000028594</td><td>ORF</td><td>Dubious</td><td>YAL068W-A</td><td></td><td></td><td>chromosome 1</td><td></td><td>1</td><td>538</td><td>792</td><td>W</td><td>NA</td><td>2003-07-29</td><td>2003-07-29</td><td>Dubious open reading frame; unlikely to encode a functional protein, based on available experimental and comparative sequence data; identified by gene-trapping, microarray-based expression analysis, and genome-wide homology searching</td></tr>\n",
       "\t<tr><th scope=row>4</th><td>S000031372</td><td>CDS</td><td></td><td></td><td></td><td></td><td>YAL068W-A</td><td></td><td>1</td><td>538</td><td>792</td><td>W</td><td>NA</td><td>2003-07-29</td><td>2003-07-29</td><td></td></tr>\n",
       "\t<tr><th scope=row>5</th><td>S000121252</td><td>ARS</td><td></td><td>ARS102</td><td></td><td>ARSI-1</td><td>chromosome 1</td><td></td><td>1</td><td>707</td><td>776</td><td></td><td>NA</td><td>2014-11-18</td><td>2014-11-18|2007-03-07</td><td>Autonomously Replicating Sequence</td></tr>\n",
       "\t<tr><th scope=row>6</th><td>S000028862</td><td>telomere</td><td></td><td>TEL01L</td><td></td><td></td><td>chromosome 1</td><td></td><td>1</td><td>801</td><td>1</td><td>C</td><td>-64</td><td>2003-09-09</td><td>2003-09-09</td><td>Telomeric region on the left arm of Chromosome I; composed of an X element core sequence, X element combinatorial repeats, and a short terminal stretch of telomeric repeats</td></tr>\n",
       "</tbody>\n",
       "</table>\n"
      ],
      "text/latex": [
       "\\begin{tabular}{r|llllllllllllllll}\n",
       "  & ID & Type & Confidence & Sys.Name & Common.Name & Alt.Name & Location & Alt.ID & Chr & Start & Stop & Strand & Unknown.Loc & Date.1 & Date.2 & Description\\\\\n",
       "\\hline\n",
       "\t1 & S000002143 & ORF & Dubious & YAL069W &  &  & chromosome 1 &  & 1 & 335 & 649 & W & NA & 1996-07-31 & 1996-07-31 & Dubious open reading frame; unlikely to encode a functional protein, based on available experimental and comparative sequence data\\\\\n",
       "\t2 & S000031098 & CDS &  &  &  &  & YAL069W &  & 1 & 335 & 649 & W & NA & 1996-07-31 & 1996-07-31 & \\\\\n",
       "\t3 & S000028594 & ORF & Dubious & YAL068W-A &  &  & chromosome 1 &  & 1 & 538 & 792 & W & NA & 2003-07-29 & 2003-07-29 & Dubious open reading frame; unlikely to encode a functional protein, based on available experimental and comparative sequence data; identified by gene-trapping, microarray-based expression analysis, and genome-wide homology searching\\\\\n",
       "\t4 & S000031372 & CDS &  &  &  &  & YAL068W-A &  & 1 & 538 & 792 & W & NA & 2003-07-29 & 2003-07-29 & \\\\\n",
       "\t5 & S000121252 & ARS &  & ARS102 &  & ARSI-1 & chromosome 1 &  & 1 & 707 & 776 &  & NA & 2014-11-18 & 2014-11-18|2007-03-07 & Autonomously Replicating Sequence\\\\\n",
       "\t6 & S000028862 & telomere &  & TEL01L &  &  & chromosome 1 &  & 1 & 801 & 1 & C & -64 & 2003-09-09 & 2003-09-09 & Telomeric region on the left arm of Chromosome I; composed of an X element core sequence, X element combinatorial repeats, and a short terminal stretch of telomeric repeats\\\\\n",
       "\\end{tabular}\n"
      ],
      "text/plain": [
       "          ID     Type Confidence  Sys.Name Common.Name Alt.Name     Location\n",
       "1 S000002143      ORF    Dubious   YAL069W                      chromosome 1\n",
       "2 S000031098      CDS                                                YAL069W\n",
       "3 S000028594      ORF    Dubious YAL068W-A                      chromosome 1\n",
       "4 S000031372      CDS                                              YAL068W-A\n",
       "5 S000121252      ARS               ARS102               ARSI-1 chromosome 1\n",
       "6 S000028862 telomere               TEL01L                      chromosome 1\n",
       "  Alt.ID Chr Start Stop Strand Unknown.Loc     Date.1                Date.2\n",
       "1          1   335  649      W          NA 1996-07-31            1996-07-31\n",
       "2          1   335  649      W          NA 1996-07-31            1996-07-31\n",
       "3          1   538  792      W          NA 2003-07-29            2003-07-29\n",
       "4          1   538  792      W          NA 2003-07-29            2003-07-29\n",
       "5          1   707  776                 NA 2014-11-18 2014-11-18|2007-03-07\n",
       "6          1   801    1      C         -64 2003-09-09            2003-09-09\n",
       "                                                                                                                                                                                                                                Description\n",
       "1                                                                                                        Dubious open reading frame; unlikely to encode a functional protein, based on available experimental and comparative sequence data\n",
       "2                                                                                                                                                                                                                                          \n",
       "3 Dubious open reading frame; unlikely to encode a functional protein, based on available experimental and comparative sequence data; identified by gene-trapping, microarray-based expression analysis, and genome-wide homology searching\n",
       "4                                                                                                                                                                                                                                          \n",
       "5                                                                                                                                                                                                         Autonomously Replicating Sequence\n",
       "6                                                              Telomeric region on the left arm of Chromosome I; composed of an X element core sequence, X element combinatorial repeats, and a short terminal stretch of telomeric repeats"
      ]
     },
     "execution_count": 6,
     "metadata": {},
     "output_type": "execute_result"
    }
   ],
   "source": [
    "head(gtf_annotations)"
   ]
  },
  {
   "cell_type": "code",
   "execution_count": null,
   "metadata": {
    "collapsed": true
   },
   "outputs": [],
   "source": []
  }
 ],
 "metadata": {
  "kernelspec": {
   "display_name": "R",
   "language": "R",
   "name": "ir"
  },
  "language_info": {
   "codemirror_mode": "r",
   "file_extension": ".r",
   "mimetype": "text/x-r-source",
   "name": "R",
   "pygments_lexer": "r",
   "version": "3.2.2"
  }
 },
 "nbformat": 4,
 "nbformat_minor": 0
}
