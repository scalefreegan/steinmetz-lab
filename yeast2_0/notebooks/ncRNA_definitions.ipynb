{
 "cells": [
  {
   "cell_type": "markdown",
   "metadata": {},
   "source": [
    "## ncRNA definitions\n",
    "For ARM-seq pipeline"
   ]
  },
  {
   "cell_type": "code",
   "execution_count": 5,
   "metadata": {
    "collapsed": false
   },
   "outputs": [],
   "source": [
    ".libPaths(\"~/R/x86_64-redhat-linux-gnu-library/3.2/\")\n",
    "library(rtracklayer)\n",
    "library(dplyr)"
   ]
  },
  {
   "cell_type": "code",
   "execution_count": 3,
   "metadata": {
    "collapsed": true
   },
   "outputs": [],
   "source": [
    "annotations = import(\"/g/steinmetz/project/IESY/trna/ARMseq/yeast/ARM-Seq/Saccharomyces_cerevisiae.R64-1-1.84.gtf\")"
   ]
  },
  {
   "cell_type": "code",
   "execution_count": 4,
   "metadata": {
    "collapsed": false
   },
   "outputs": [
    {
     "data": {
      "text/plain": [
       "GRanges object with 6 ranges and 15 metadata columns:\n",
       "      seqnames       ranges strand |   source        type     score     phase\n",
       "         <Rle>    <IRanges>  <Rle> | <factor>    <factor> <numeric> <integer>\n",
       "  [1]       IV [1802, 2953]      + |  ensembl        gene      <NA>      <NA>\n",
       "  [2]       IV [1802, 2953]      + |  ensembl  transcript      <NA>      <NA>\n",
       "  [3]       IV [1802, 2953]      + |  ensembl        exon      <NA>      <NA>\n",
       "  [4]       IV [1802, 2950]      + |  ensembl         CDS      <NA>         0\n",
       "  [5]       IV [1802, 1804]      + |  ensembl start_codon      <NA>         0\n",
       "  [6]       IV [2951, 2953]      + |  ensembl  stop_codon      <NA>         0\n",
       "          gene_id   gene_name gene_source   gene_biotype transcript_id\n",
       "      <character> <character> <character>    <character>   <character>\n",
       "  [1]     YDL248W        COS7     ensembl protein_coding          <NA>\n",
       "  [2]     YDL248W        COS7     ensembl protein_coding       YDL248W\n",
       "  [3]     YDL248W        COS7     ensembl protein_coding       YDL248W\n",
       "  [4]     YDL248W        COS7     ensembl protein_coding       YDL248W\n",
       "  [5]     YDL248W        COS7     ensembl protein_coding       YDL248W\n",
       "  [6]     YDL248W        COS7     ensembl protein_coding       YDL248W\n",
       "      transcript_name transcript_source transcript_biotype exon_number\n",
       "          <character>       <character>        <character>   <numeric>\n",
       "  [1]            <NA>              <NA>               <NA>        <NA>\n",
       "  [2]            COS7           ensembl     protein_coding        <NA>\n",
       "  [3]            COS7           ensembl     protein_coding           1\n",
       "  [4]            COS7           ensembl     protein_coding           1\n",
       "  [5]            COS7           ensembl     protein_coding           1\n",
       "  [6]            COS7           ensembl     protein_coding           1\n",
       "          exon_id  protein_id\n",
       "      <character> <character>\n",
       "  [1]        <NA>        <NA>\n",
       "  [2]        <NA>        <NA>\n",
       "  [3]   YDL248W.1        <NA>\n",
       "  [4]        <NA>     YDL248W\n",
       "  [5]        <NA>        <NA>\n",
       "  [6]        <NA>        <NA>\n",
       "  -------\n",
       "  seqinfo: 17 sequences from an unspecified genome; no seqlengths"
      ]
     },
     "execution_count": 4,
     "metadata": {},
     "output_type": "execute_result"
    }
   ],
   "source": [
    "head(annotations)"
   ]
  },
  {
   "cell_type": "code",
   "execution_count": 6,
   "metadata": {
    "collapsed": true
   },
   "outputs": [],
   "source": [
    "# all ncRNAs according to http://www.gencodegenes.org/gencode_biotypes.html\n",
    "ncrna_definitions = c(\"rRNA\", \"scRNA\", \"snRNA\", \"snoRNA\", \"miRNA\", \"misc_RNA\", \"lincRNA\",\n",
    "                     \"snoRNA_pseudogene\", \"snRNA_pseudogene\", \"scRNA_pseudogene\",\n",
    "                      \"rRNA_pseudogene\", \"misc_RNA_pseudogene\", \"miRNA_pseudogene\")\n",
    "ncrna_biotypes = mcols(annotations)$gene_biotype %in% ncrna_definitions\n",
    "annotations_sub = annotations[ncrna_biotypes]\n",
    "export(annotations_sub, \"/g/steinmetz/project/IESY/trna/ARMseq/yeast/ARM-Seq/yeast-nontRNA-ncRNA.gtf\", format = \"gtf\")"
   ]
  },
  {
   "cell_type": "code",
   "execution_count": 7,
   "metadata": {
    "collapsed": false
   },
   "outputs": [
    {
     "data": {
      "text/plain": [
       "GRanges object with 6 ranges and 15 metadata columns:\n",
       "      seqnames           ranges strand |   source       type     score\n",
       "         <Rle>        <IRanges>  <Rle> | <factor>   <factor> <numeric>\n",
       "  [1]       IV [323217, 323471]      - |  ensembl       gene      <NA>\n",
       "  [2]       IV [323217, 323471]      - |  ensembl transcript      <NA>\n",
       "  [3]       IV [323217, 323471]      - |  ensembl       exon      <NA>\n",
       "  [4]       IV [541602, 541700]      - |  ensembl       gene      <NA>\n",
       "  [5]       IV [541602, 541700]      - |  ensembl transcript      <NA>\n",
       "  [6]       IV [541602, 541700]      - |  ensembl       exon      <NA>\n",
       "          phase     gene_id   gene_name gene_source gene_biotype transcript_id\n",
       "      <integer> <character> <character> <character>  <character>   <character>\n",
       "  [1]      <NA>       snR63       SNR63     ensembl       snoRNA          <NA>\n",
       "  [2]      <NA>       snR63       SNR63     ensembl       snoRNA         snR63\n",
       "  [3]      <NA>       snR63       SNR63     ensembl       snoRNA         snR63\n",
       "  [4]      <NA>       snR47       SNR47     ensembl       snoRNA          <NA>\n",
       "  [5]      <NA>       snR47       SNR47     ensembl       snoRNA         snR47\n",
       "  [6]      <NA>       snR47       SNR47     ensembl       snoRNA         snR47\n",
       "      transcript_name transcript_source transcript_biotype exon_number\n",
       "          <character>       <character>        <character>   <numeric>\n",
       "  [1]            <NA>              <NA>               <NA>        <NA>\n",
       "  [2]           SNR63           ensembl             snoRNA        <NA>\n",
       "  [3]           SNR63           ensembl             snoRNA           1\n",
       "  [4]            <NA>              <NA>               <NA>        <NA>\n",
       "  [5]           SNR47           ensembl             snoRNA        <NA>\n",
       "  [6]           SNR47           ensembl             snoRNA           1\n",
       "          exon_id  protein_id\n",
       "      <character> <character>\n",
       "  [1]        <NA>        <NA>\n",
       "  [2]        <NA>        <NA>\n",
       "  [3]     snR63.1        <NA>\n",
       "  [4]        <NA>        <NA>\n",
       "  [5]        <NA>        <NA>\n",
       "  [6]     snR47.1        <NA>\n",
       "  -------\n",
       "  seqinfo: 17 sequences from an unspecified genome; no seqlengths"
      ]
     },
     "execution_count": 7,
     "metadata": {},
     "output_type": "execute_result"
    }
   ],
   "source": [
    "head(annotations_sub)"
   ]
  },
  {
   "cell_type": "code",
   "execution_count": null,
   "metadata": {
    "collapsed": true
   },
   "outputs": [],
   "source": []
  }
 ],
 "metadata": {
  "kernelspec": {
   "display_name": "R",
   "language": "R",
   "name": "ir"
  },
  "language_info": {
   "codemirror_mode": "r",
   "file_extension": ".r",
   "mimetype": "text/x-r-source",
   "name": "R",
   "pygments_lexer": "r",
   "version": "3.2.2"
  }
 },
 "nbformat": 4,
 "nbformat_minor": 0
}
