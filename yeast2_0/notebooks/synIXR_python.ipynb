{
 "cells": [
  {
   "cell_type": "markdown",
   "metadata": {},
   "source": [
    "This is now done by [translate_JS94assembly_origin(\"taiji:8000/g/steinmetz/project/IESY/scripts/notebooks/translate_JS94assembly_origin.ipynb\")"
   ]
  },
  {
   "cell_type": "markdown",
   "metadata": {},
   "source": [
    "###  Read native synIXR chromosome. Compile segments. Make scramble chromosome from segment config."
   ]
  },
  {
   "cell_type": "code",
   "execution_count": 1,
   "metadata": {
    "collapsed": false
   },
   "outputs": [],
   "source": [
    "from Bio import SeqIO\n",
    "from Bio.SeqRecord import SeqRecord\n",
    "import re\n",
    "import operator\n",
    "import pandas as pd"
   ]
  },
  {
   "cell_type": "markdown",
   "metadata": {},
   "source": [
    "Location of the synIXR sequence file"
   ]
  },
  {
   "cell_type": "code",
   "execution_count": 9,
   "metadata": {
    "collapsed": true
   },
   "outputs": [],
   "source": [
    "gbfile = \"/g/steinmetz/brooks/git/steinmetz-lab/yeast2_0/synIXR/sequence.gb\""
   ]
  },
  {
   "cell_type": "code",
   "execution_count": 10,
   "metadata": {
    "collapsed": false
   },
   "outputs": [],
   "source": [
    "with open(gbfile, mode=\"r\") as f:\n",
    "    record = SeqIO.read(f, \"genbank\")"
   ]
  },
  {
   "cell_type": "markdown",
   "metadata": {},
   "source": [
    "Location of the scramble strains"
   ]
  },
  {
   "cell_type": "code",
   "execution_count": 16,
   "metadata": {
    "collapsed": true
   },
   "outputs": [],
   "source": [
    "#sfile = \"/g/steinmetz/brooks/git/steinmetz-lab/yeast2_0/synIXR/scramble_wpacbio.xlsx\"\n",
    "sfile = \"/g/steinmetz/brooks/git/steinmetz-lab/yeast2_0/synIXR/scramble_wpacbio.txt\""
   ]
  },
  {
   "cell_type": "code",
   "execution_count": 17,
   "metadata": {
    "collapsed": false
   },
   "outputs": [],
   "source": [
    "# with open(sfile, mode=\"r\") as f:\n",
    "#     scramble = pd.read_excel(f, sheetname = \"Sheet1\")\n",
    "with open(sfile, mode=\"r\") as f:\n",
    "    scramble = pd.read_table(f)\n",
    "# only keep synIXR chr\n",
    "scramble = scramble.loc[scramble.loc[:,u'Synthetic chromosome'] == \"9R\",:]"
   ]
  },
  {
   "cell_type": "code",
   "execution_count": 21,
   "metadata": {
    "collapsed": false
   },
   "outputs": [
    {
     "data": {
      "text/plain": [
       "'1-44'"
      ]
     },
     "execution_count": 21,
     "metadata": {},
     "output_type": "execute_result"
    }
   ],
   "source": [
    "scramble.loc[0,u'solutions']"
   ]
  },
  {
   "cell_type": "markdown",
   "metadata": {},
   "source": [
    "Compile dict of fragment orders for all scramble strains"
   ]
  },
  {
   "cell_type": "code",
   "execution_count": 22,
   "metadata": {
    "collapsed": false
   },
   "outputs": [],
   "source": [
    "scrambleSEQ = {}\n",
    "for i1, v1 in enumerate(scramble.loc[:,u'solutions']):\n",
    "    scrambleSEQ[scramble.loc[i1,u'Strain ID']] = {}\n",
    "    for i2, v2 in enumerate(v1.split(\"\\n\")):\n",
    "        if len(v2.split(\",\")) > 1:\n",
    "            scrambleSEQ[scramble.loc[i1,u'Strain ID']][i2+1] = [int(i) for i in v2.split(\",\") if i != '44' and i != '-44']\n",
    "        else:\n",
    "            scrambleSEQ[scramble.loc[i1,u'Strain ID']][i2+1] = range(int(v2.split(\"-\")[0]),int(v2.split(\"-\")[1]),1)"
   ]
  },
  {
   "cell_type": "markdown",
   "metadata": {},
   "source": [
    "Find features corresponding to loxP sites"
   ]
  },
  {
   "cell_type": "code",
   "execution_count": 80,
   "metadata": {
    "collapsed": false
   },
   "outputs": [],
   "source": [
    "loxPsites = {}\n",
    "p = re.compile(\"loxPsym\", re.IGNORECASE)\n",
    "for i in record.features:\n",
    "    if i.type == \"misc_feature\":\n",
    "        if re.search(p, i.qualifiers[\"note\"][0]):\n",
    "            n = i.qualifiers[\"note\"][0].partition(\" \")[2]\n",
    "            loxPsites[n] = i.location"
   ]
  },
  {
   "cell_type": "code",
   "execution_count": 81,
   "metadata": {
    "collapsed": false,
    "scrolled": true
   },
   "outputs": [],
   "source": [
    "# verify loxPsites\n",
    "#for k in loxPsites.keys():\n",
    "#    print record.seq[loxPsites[k].start.position:loxPsites[k].end.position]"
   ]
  },
  {
   "cell_type": "markdown",
   "metadata": {},
   "source": [
    "Need to shift the sequences to get proper segments. Find last instance of loxPsym site, shift to its location (so it is first bit of sequence)"
   ]
  },
  {
   "cell_type": "code",
   "execution_count": 82,
   "metadata": {
    "collapsed": false
   },
   "outputs": [],
   "source": [
    "lastInd, lastVal = max(enumerate([loxPsites[k].start.position for k in loxPsites.keys()]),key=operator.itemgetter(1))\n",
    "shift = len(record.seq)-lastVal\n",
    "tmp = record.seq\n",
    "record.seq = tmp[lastVal:len(tmp)]+tmp[0:len(tmp)-shift]"
   ]
  },
  {
   "cell_type": "code",
   "execution_count": 83,
   "metadata": {
    "collapsed": false
   },
   "outputs": [],
   "source": [
    "loxPseq = \"ATAACTTCGTATAATGTACATTATACGAAGTTAT\"\n",
    "segments = {(i):j for i, j in enumerate(record.seq[0:len(record.seq)].split(loxPseq)) if len(j)>0}"
   ]
  },
  {
   "cell_type": "code",
   "execution_count": 91,
   "metadata": {
    "collapsed": false
   },
   "outputs": [],
   "source": [
    "def seg2seq(segments = segments, segmentOrder = [1,2,3], file = None, sname = \"\", sid = \"\", desc = \"\"):\n",
    "    loxPseq = \"ATAACTTCGTATAATGTACATTATACGAAGTTAT\"\n",
    "    # assume loxPseq site before first base\n",
    "    fseq = loxPseq\n",
    "    for ind, val in enumerate(segmentOrder):\n",
    "        thisseq = segments[abs(val)]\n",
    "        if val < 0:\n",
    "            # inversion\n",
    "            thisseq = thisseq[::-1]\n",
    "        if ind == len(segmentOrder)-1:\n",
    "            fseq = fseq + thisseq\n",
    "        else:\n",
    "            fseq = fseq + thisseq + loxPseq\n",
    "    r = SeqIO.SeqRecord(fseq, id=sid, name=sname,\n",
    "                 description=desc)\n",
    "    if file is not None:\n",
    "        with open(file, \"w\") as f:\n",
    "            SeqIO.write(r, f, \"fasta\")\n",
    "    return fseq"
   ]
  },
  {
   "cell_type": "markdown",
   "metadata": {},
   "source": [
    "### Write .fa files"
   ]
  },
  {
   "cell_type": "code",
   "execution_count": 144,
   "metadata": {
    "collapsed": false
   },
   "outputs": [],
   "source": [
    "dir = \"/g/steinmetz/brooks/git/steinmetz-lab/yeast2_0/scramble/seq/\"\n",
    "for k in scrambleSEQ.keys():\n",
    "    for k2 in scrambleSEQ[k].keys():\n",
    "        n = k + \"_\" + str(k2)\n",
    "        tmp = seg2seq(segmentOrder = scrambleSEQ[k][k2], file = dir + n + \".fasta\", sid = n, \n",
    "              desc = \"Sequence starts at loxPsym_3_3_YIL002C, left loxPsym site flanking Segment 1\")"
   ]
  }
 ],
 "metadata": {
  "kernelspec": {
   "display_name": "Python 3",
   "language": "python",
   "name": "python3"
  },
  "language_info": {
   "codemirror_mode": {
    "name": "ipython",
    "version": 3
   },
   "file_extension": ".py",
   "mimetype": "text/x-python",
   "name": "python",
   "nbconvert_exporter": "python",
   "pygments_lexer": "ipython3",
   "version": "3.5.1"
  }
 },
 "nbformat": 4,
 "nbformat_minor": 0
}
