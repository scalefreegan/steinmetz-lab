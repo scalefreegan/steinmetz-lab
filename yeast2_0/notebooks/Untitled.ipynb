{
 "cells": [
  {
   "cell_type": "code",
   "execution_count": 17,
   "metadata": {
    "collapsed": false
   },
   "outputs": [],
   "source": [
    "y = lapply(1:10, function(i){\n",
    "    i = list()\n",
    "    i$a = sample(seq(1,10),1)\n",
    "    i$b = sample(seq(1,10),1)\n",
    "    return(i)\n",
    "})"
   ]
  },
  {
   "cell_type": "code",
   "execution_count": 23,
   "metadata": {
    "collapsed": false
   },
   "outputs": [
    {
     "data": {
      "text/html": [
       "<table>\n",
       "<thead><tr><th></th><th scope=col>a</th><th scope=col>b</th></tr></thead>\n",
       "<tbody>\n",
       "\t<tr><th scope=row>1</th><td>6</td><td>10</td></tr>\n",
       "\t<tr><th scope=row>2</th><td>5</td><td>4</td></tr>\n",
       "\t<tr><th scope=row>3</th><td>6</td><td>1</td></tr>\n",
       "\t<tr><th scope=row>4</th><td>7</td><td>9</td></tr>\n",
       "\t<tr><th scope=row>5</th><td>9</td><td>6</td></tr>\n",
       "\t<tr><th scope=row>6</th><td>4</td><td>7</td></tr>\n",
       "\t<tr><th scope=row>7</th><td>5</td><td>5</td></tr>\n",
       "\t<tr><th scope=row>8</th><td>2</td><td>6</td></tr>\n",
       "\t<tr><th scope=row>9</th><td>10</td><td>8</td></tr>\n",
       "\t<tr><th scope=row>10</th><td>10</td><td>7</td></tr>\n",
       "</tbody>\n",
       "</table>\n"
      ],
      "text/latex": [
       "\\begin{tabular}{r|ll}\n",
       "  & a & b\\\\\n",
       "\\hline\n",
       "\t1 & 6 & 10\\\\\n",
       "\t2 & 5 & 4\\\\\n",
       "\t3 & 6 & 1\\\\\n",
       "\t4 & 7 & 9\\\\\n",
       "\t5 & 9 & 6\\\\\n",
       "\t6 & 4 & 7\\\\\n",
       "\t7 & 5 & 5\\\\\n",
       "\t8 & 2 & 6\\\\\n",
       "\t9 & 10 & 8\\\\\n",
       "\t10 & 10 & 7\\\\\n",
       "\\end{tabular}\n"
      ],
      "text/plain": [
       "    a  b\n",
       "1   6 10\n",
       "2   5  4\n",
       "3   6  1\n",
       "4   7  9\n",
       "5   9  6\n",
       "6   4  7\n",
       "7   5  5\n",
       "8   2  6\n",
       "9  10  8\n",
       "10 10  7"
      ]
     },
     "execution_count": 23,
     "metadata": {},
     "output_type": "execute_result"
    }
   ],
   "source": [
    "cnames = names(y[[1]])\n",
    "\n",
    "o = data.frame(matrix(unlist(y), nrow=length(y)),stringsAsFactors = F)\n",
    "colnames(o) = cnames\n",
    "o"
   ]
  },
  {
   "cell_type": "code",
   "execution_count": 12,
   "metadata": {
    "collapsed": false
   },
   "outputs": [
    {
     "data": {
      "text/html": [
       "6"
      ],
      "text/latex": [
       "6"
      ],
      "text/markdown": [
       "6"
      ],
      "text/plain": [
       "[1] 6"
      ]
     },
     "execution_count": 12,
     "metadata": {},
     "output_type": "execute_result"
    }
   ],
   "source": [
    "sample(seq(1,10),1)"
   ]
  },
  {
   "cell_type": "code",
   "execution_count": null,
   "metadata": {
    "collapsed": true
   },
   "outputs": [],
   "source": []
  }
 ],
 "metadata": {
  "kernelspec": {
   "display_name": "R",
   "language": "R",
   "name": "ir"
  },
  "language_info": {
   "codemirror_mode": "r",
   "file_extension": ".r",
   "mimetype": "text/x-r-source",
   "name": "R",
   "pygments_lexer": "r",
   "version": "3.2.2"
  }
 },
 "nbformat": 4,
 "nbformat_minor": 0
}
