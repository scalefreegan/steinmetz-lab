{
 "cells": [
  {
   "cell_type": "markdown",
   "metadata": {},
   "source": [
    "## Scramble mapper test\n",
    "\n",
    "<script>\n",
    "code_show=true; \n",
    "function code_toggle() {\n",
    " if (code_show){\n",
    " $('div.input').hide();\n",
    " } else {\n",
    " $('div.input').show();\n",
    " }\n",
    " code_show = !code_show\n",
    "} \n",
    "$( document ).ready(code_toggle);\n",
    "</script>\n",
    "<form action=\"javascript:code_toggle()\"><input type=\"submit\" value=\"Click here to toggle code on/off.\"></form>"
   ]
  },
  {
   "cell_type": "code",
   "execution_count": 17,
   "metadata": {
    "collapsed": false
   },
   "outputs": [],
   "source": [
    "from Bio import SeqIO\n",
    "import pandas as pd\n",
    "from importlib.machinery import SourceFileLoader\n",
    "import sys\n",
    "import os\n",
    "import numpy as np\n",
    "# add conda packages path\n",
    "sys.path.append(\"/g/steinmetz/brooks/anaconda/envs/py35/lib/python3.5/site-packages/\")\n",
    "scrambleMap = SourceFileLoader(\"scrambleMap\", \"/g/steinmetz/brooks/git/steinmetz-lab/yeast2_0/scripts/scrambleMapper.py\").load_module()"
   ]
  },
  {
   "cell_type": "code",
   "execution_count": 18,
   "metadata": {
    "collapsed": false
   },
   "outputs": [],
   "source": [
    "# important paths\n",
    "ref = {\n",
    "    \"fa\" : ('/g/steinmetz/project/IESY/genomes/annotations/scramble/genomes/S288C_reference_genome_R64-2-1_20150113/'\n",
    "          'S288C_reference_sequence_R64-2-1_20150113.fsa'),\n",
    "    \"gff\" : ('/g/steinmetz/project/IESY/genomes/annotations/scramble/genomes/S288C_reference_genome_R64-2-1_20150113/'\n",
    "          'saccharomyces_cerevisiae_R64-2-1_20150113_annotation_only.gff')}\n",
    "\n",
    "query = {\n",
    "    \"fa\" : ('/g/steinmetz/project/IESY/genomes/annotations/scramble/genomes/'\n",
    "            'JS710.fa'),\n",
    "    \"gff\" : ('/g/steinmetz/project/IESY/genomes/annotations/scramble/genomes/'\n",
    "            'test_JS710.gff')\n",
    "}"
   ]
  },
  {
   "cell_type": "code",
   "execution_count": 19,
   "metadata": {
    "collapsed": false
   },
   "outputs": [
    {
     "name": "stdout",
     "output_type": "stream",
     "text": [
      "Using tqdm\n",
      "  S1    E1     S2     E2 LEN_1 LEN_2  %_IDY LEN_R   LEN_Q FRM NAME_R NAME_Q\n",
      "0  1  3968  24000  27967  3968  3968  100.0  3968  230218   1   chrI   chrI\n"
     ]
    }
   ],
   "source": [
    "df = scrambleMap.readGFF(ref['gff'])\n",
    "seq = scrambleMap.readFASTA_SeqIO(ref[\"fa\"])\n",
    "#df[\"feature\"].unique()\n",
    "#thisentry = df.loc[(df.index.get_level_values('seqname') == \"chrIX\") & (df.index.get_level_values('start') > 355745)]\n",
    "#thisentry = thisentry[thisentry['attribute'].str.contains('DAL4')]\n",
    "thisentry = df\n",
    "annotations2keep = [\n",
    "        'gene',\n",
    "        'ncRNA_gene',\n",
    "        'tRNA_gene',\n",
    "        'centromere',\n",
    "        'rRNA_gene'\n",
    "        ]\n",
    "#annotations2keep = [\"tRNA_gene\",'rRNA_gene']\n",
    "thisentry = thisentry[thisentry['feature'].isin(annotations2keep)]\n",
    "\n",
    "# thisentry = df.loc[(df.index.get_level_values('seqname') == \"chrII\")]\n",
    "thisentry = thisentry[thisentry['attribute'].str.contains('YAL063C;')]\n",
    "#out = scrambleMap.mapGFF(ref['fa'],thisentry.iloc[[0]], query['fa'])\n",
    "out = scrambleMap.mapMultipleGFF(ref['fa'],thisentry, query['fa'])\n",
    "# scrambleMap.writeGFF(out,\"JS710.gff\")"
   ]
  },
  {
   "cell_type": "code",
   "execution_count": 20,
   "metadata": {
    "collapsed": false
   },
   "outputs": [
    {
     "data": {
      "text/html": [
       "<div>\n",
       "<table border=\"1\" class=\"dataframe\">\n",
       "  <thead>\n",
       "    <tr style=\"text-align: right;\">\n",
       "      <th></th>\n",
       "      <th></th>\n",
       "      <th></th>\n",
       "      <th>source</th>\n",
       "      <th>feature</th>\n",
       "      <th>score</th>\n",
       "      <th>strand</th>\n",
       "      <th>frame</th>\n",
       "      <th>attribute</th>\n",
       "    </tr>\n",
       "    <tr>\n",
       "      <th>seqname</th>\n",
       "      <th>start</th>\n",
       "      <th>end</th>\n",
       "      <th></th>\n",
       "      <th></th>\n",
       "      <th></th>\n",
       "      <th></th>\n",
       "      <th></th>\n",
       "      <th></th>\n",
       "    </tr>\n",
       "  </thead>\n",
       "  <tbody>\n",
       "    <tr>\n",
       "      <th>chrI</th>\n",
       "      <th>24000</th>\n",
       "      <th>27967</th>\n",
       "      <td>SGD</td>\n",
       "      <td>gene</td>\n",
       "      <td>.</td>\n",
       "      <td>+</td>\n",
       "      <td>.</td>\n",
       "      <td>ID=YAL063C;Name=YAL063C;gene=FLO9;Alias=FLO9,f...</td>\n",
       "    </tr>\n",
       "  </tbody>\n",
       "</table>\n",
       "</div>"
      ],
      "text/plain": [
       "                    source feature score strand frame  \\\n",
       "seqname start end                                       \n",
       "chrI    24000 27967    SGD    gene     .      +     .   \n",
       "\n",
       "                                                             attribute  \n",
       "seqname start end                                                       \n",
       "chrI    24000 27967  ID=YAL063C;Name=YAL063C;gene=FLO9;Alias=FLO9,f...  "
      ]
     },
     "execution_count": 20,
     "metadata": {},
     "output_type": "execute_result"
    }
   ],
   "source": [
    "out"
   ]
  },
  {
   "cell_type": "code",
   "execution_count": null,
   "metadata": {
    "collapsed": false
   },
   "outputs": [],
   "source": [
    "out.apply(lambda x : x[\"NAME_R\"] == x[\"NAME_Q\"], axis=1).any()"
   ]
  },
  {
   "cell_type": "code",
   "execution_count": null,
   "metadata": {
    "collapsed": false
   },
   "outputs": [],
   "source": [
    "out[out.apply(lambda x : x[\"NAME_R\"] == x[\"NAME_Q\"], axis=1)]"
   ]
  },
  {
   "cell_type": "code",
   "execution_count": null,
   "metadata": {
    "collapsed": false
   },
   "outputs": [],
   "source": [
    "thisentry.iloc[[0]].feature[0]==\"tRNA_gene\""
   ]
  },
  {
   "cell_type": "code",
   "execution_count": null,
   "metadata": {
    "collapsed": false
   },
   "outputs": [],
   "source": [
    "import multiprocessing as mp\n",
    "pool = mp.Pool(processes=20)\n",
    "results = [pool.apply(scrambleMap.mapGFF, args=(ref['fa'],thisentry.iloc[[x]], query['fa'])) for x in range(1,7)]"
   ]
  },
  {
   "cell_type": "code",
   "execution_count": null,
   "metadata": {
    "collapsed": false
   },
   "outputs": [],
   "source": [
    "import pandas as pd\n",
    "results[0]"
   ]
  },
  {
   "cell_type": "code",
   "execution_count": null,
   "metadata": {
    "collapsed": false
   },
   "outputs": [],
   "source": [
    "test = pd.concat(results)"
   ]
  },
  {
   "cell_type": "code",
   "execution_count": null,
   "metadata": {
    "collapsed": false
   },
   "outputs": [],
   "source": [
    "test"
   ]
  },
  {
   "cell_type": "code",
   "execution_count": null,
   "metadata": {
    "collapsed": true
   },
   "outputs": [],
   "source": [
    "a = '\"blah\"'"
   ]
  },
  {
   "cell_type": "code",
   "execution_count": null,
   "metadata": {
    "collapsed": false
   },
   "outputs": [],
   "source": [
    "a"
   ]
  },
  {
   "cell_type": "code",
   "execution_count": null,
   "metadata": {
    "collapsed": false
   },
   "outputs": [],
   "source": [
    "a.rstrip('\"').lstrip('\"')"
   ]
  },
  {
   "cell_type": "code",
   "execution_count": null,
   "metadata": {
    "collapsed": true
   },
   "outputs": [],
   "source": []
  }
 ],
 "metadata": {
  "kernelspec": {
   "display_name": "Python 3",
   "language": "python",
   "name": "python3"
  },
  "language_info": {
   "codemirror_mode": {
    "name": "ipython",
    "version": 3
   },
   "file_extension": ".py",
   "mimetype": "text/x-python",
   "name": "python",
   "nbconvert_exporter": "python",
   "pygments_lexer": "ipython3",
   "version": "3.5.1"
  }
 },
 "nbformat": 4,
 "nbformat_minor": 0
}
