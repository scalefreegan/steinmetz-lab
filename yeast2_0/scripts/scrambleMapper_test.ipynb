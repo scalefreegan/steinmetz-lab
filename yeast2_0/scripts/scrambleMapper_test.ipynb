{
 "cells": [
  {
   "cell_type": "markdown",
   "metadata": {},
   "source": [
    "## Scramble mapper test\n",
    "\n",
    "<script>\n",
    "code_show=true; \n",
    "function code_toggle() {\n",
    " if (code_show){\n",
    " $('div.input').hide();\n",
    " } else {\n",
    " $('div.input').show();\n",
    " }\n",
    " code_show = !code_show\n",
    "} \n",
    "$( document ).ready(code_toggle);\n",
    "</script>\n",
    "<form action=\"javascript:code_toggle()\"><input type=\"submit\" value=\"Click here to toggle code on/off.\"></form>"
   ]
  },
  {
   "cell_type": "code",
   "execution_count": 13,
   "metadata": {
    "collapsed": false
   },
   "outputs": [],
   "source": [
    "from Bio import SeqIO\n",
    "import pandas as pd\n",
    "from importlib.machinery import SourceFileLoader\n",
    "import sys\n",
    "import os\n",
    "import numpy as np\n",
    "# add conda packages path\n",
    "sys.path.append(\"/g/steinmetz/brooks/anaconda/envs/py35/lib/python3.5/site-packages/\")\n",
    "scrambleMap = SourceFileLoader(\"scrambleMap\", \"/g/steinmetz/brooks/git/steinmetz-lab/yeast2_0/scripts/scrambleMapper.py\").load_module()"
   ]
  },
  {
   "cell_type": "code",
   "execution_count": 7,
   "metadata": {
    "collapsed": false
   },
   "outputs": [],
   "source": [
    "# important paths\n",
    "ref = {\n",
    "    \"fa\" : ('/g/steinmetz/project/IESY/genomes/annotations/scramble/genomes/S288C_reference_genome_R64-2-1_20150113/'\n",
    "          'S288C_reference_sequence_R64-2-1_20150113.fsa'),\n",
    "    \"gff\" : ('/g/steinmetz/project/IESY/genomes/annotations/scramble/genomes/S288C_reference_genome_R64-2-1_20150113/'\n",
    "          'saccharomyces_cerevisiae_R64-2-1_20150113_annotation_only.gff')}\n",
    "\n",
    "query = {\n",
    "    \"fa\" : ('/g/steinmetz/project/IESY/genomes/annotations/scramble/genomes/'\n",
    "            'JS710.fa'),\n",
    "    \"gff\" : ('/g/steinmetz/project/IESY/genomes/annotations/scramble/genomes/'\n",
    "            'test.gff')\n",
    "}"
   ]
  },
  {
   "cell_type": "code",
   "execution_count": 8,
   "metadata": {
    "collapsed": false
   },
   "outputs": [],
   "source": [
    "df = scrambleMap.readGFF(ref['gff'])\n",
    "seq = scrambleMap.readFASTA_SeqIO(ref[\"fa\"])\n",
    "#df[\"feature\"].unique()\n",
    "#thisentry3 = df.loc[(df.index.get_level_values('seqname') == \"chrIX\") & (df.index.get_level_values('start') > 173365)]\n",
    "#thisentry = thisentry[thisentry['attribute'].str.contains('DAL4')]\n",
    "thisentry = df\n",
    "annotations2keep = [\n",
    "        'gene',\n",
    "        'ncRNA_gene',\n",
    "        'tRNA_gene',\n",
    "        'centromere',\n",
    "        'rRNA_gene'\n",
    "        ]\n",
    "#annotations2keep = [\"tRNA_gene\",'rRNA_gene']\n",
    "thisentry = thisentry[thisentry['feature'].isin(annotations2keep)]\n",
    "\n",
    "# thisentry = df.loc[(df.index.get_level_values('seqname') == \"chrII\")]\n",
    "#thisentry = thisentry[thisentry['attribute'].str.contains('YIR017C|YIR018W')]\n",
    "#thisentry = thisentry[thisentry['attribute'].str.contains('YIR017C')]\n",
    "#thisentry2 = thisentry[thisentry['attribute'].str.contains('tT%28AGU%29I1')]\n",
    "thisentry3 = thisentry[thisentry['attribute'].str.contains('YIR034C')]\n",
    "\n",
    "#out = scrambleMap.mapGFF(ref['fa'],thisentry.iloc[[0]], query['fa'])\n",
    "#out = scrambleMap.mapMultipleGFF(ref['fa'],thisentry, query['fa'])\n",
    "#out2= scrambleMap.mapMultipleGFF(ref['fa'],thisentry2, query['fa'])\n",
    "#out3= scrambleMap.mapMultipleGFF(ref['fa'],thisentry3, query['fa'])\n",
    "# scrambleMap.writeGFF(out,\"JS710.gff\")"
   ]
  },
  {
   "cell_type": "code",
   "execution_count": 9,
   "metadata": {
    "collapsed": false
   },
   "outputs": [],
   "source": [
    "to_fa = query[\"fa\"]\n",
    "seg_file = \"/g/steinmetz/brooks/git/steinmetz-lab/yeast2_0/scramble/SynIXR_segmentTable.txt\"\n",
    "nproc=32"
   ]
  },
  {
   "cell_type": "code",
   "execution_count": 10,
   "metadata": {
    "collapsed": false
   },
   "outputs": [
    {
     "ename": "TypeError",
     "evalue": "unhashable type: 'list'",
     "output_type": "error",
     "traceback": [
      "\u001b[1;31m---------------------------------------------------------------------------\u001b[0m",
      "\u001b[1;31mTypeError\u001b[0m                                 Traceback (most recent call last)",
      "\u001b[1;32m<ipython-input-10-1fcfd8e86d70>\u001b[0m in \u001b[0;36m<module>\u001b[1;34m()\u001b[0m\n\u001b[1;32m----> 1\u001b[1;33m \u001b[0mtmp\u001b[0m \u001b[1;33m=\u001b[0m \u001b[0mscrambleMap\u001b[0m\u001b[1;33m.\u001b[0m\u001b[0maddSeg\u001b[0m\u001b[1;33m(\u001b[0m\u001b[0mto_fa\u001b[0m\u001b[1;33m,\u001b[0m\u001b[0mseg_file\u001b[0m\u001b[1;33m)\u001b[0m\u001b[1;33m\u001b[0m\u001b[0m\n\u001b[0m",
      "\u001b[1;32m/g/steinmetz/brooks/git/steinmetz-lab/yeast2_0/scripts/scrambleMapper.py\u001b[0m in \u001b[0;36maddSeg\u001b[1;34m(to_fa, seg_file, gff, nproc)\u001b[0m\n\u001b[0;32m    444\u001b[0m         \u001b[0mpool\u001b[0m \u001b[1;33m=\u001b[0m \u001b[0mmp\u001b[0m\u001b[1;33m.\u001b[0m\u001b[0mPool\u001b[0m\u001b[1;33m(\u001b[0m\u001b[0mprocesses\u001b[0m\u001b[1;33m=\u001b[0m\u001b[0mnproc\u001b[0m\u001b[1;33m)\u001b[0m\u001b[1;33m\u001b[0m\u001b[0m\n\u001b[0;32m    445\u001b[0m         \u001b[1;31m#gff_arg = [gff_in.iloc[[x]] for x in range(0,gff_in.shape[0])]\u001b[0m\u001b[1;33m\u001b[0m\u001b[1;33m\u001b[0m\u001b[0m\n\u001b[1;32m--> 446\u001b[1;33m         \u001b[0mresults\u001b[0m \u001b[1;33m=\u001b[0m \u001b[0mpool\u001b[0m\u001b[1;33m.\u001b[0m\u001b[0mstarmap\u001b[0m\u001b[1;33m(\u001b[0m\u001b[0mmapGFF\u001b[0m\u001b[1;33m,\u001b[0m \u001b[0mzip\u001b[0m\u001b[1;33m(\u001b[0m\u001b[0mgff_arg\u001b[0m\u001b[1;33m,\u001b[0m\u001b[0mrepeat\u001b[0m\u001b[1;33m(\u001b[0m\u001b[0mto_fa\u001b[0m\u001b[1;33m)\u001b[0m\u001b[1;33m,\u001b[0m\u001b[1;33m[\u001b[0m\u001b[0mthisfrom\u001b[0m\u001b[1;33m[\u001b[0m\u001b[1;33m[\u001b[0m\u001b[0ms\u001b[0m\u001b[1;33m]\u001b[0m\u001b[1;33m]\u001b[0m \u001b[1;32mfor\u001b[0m \u001b[0ms\u001b[0m \u001b[1;32min\u001b[0m \u001b[0msegments\u001b[0m\u001b[1;33m]\u001b[0m\u001b[1;33m)\u001b[0m\u001b[1;33m)\u001b[0m\u001b[1;33m\u001b[0m\u001b[0m\n\u001b[0m\u001b[0;32m    447\u001b[0m         \u001b[0mout\u001b[0m \u001b[1;33m=\u001b[0m \u001b[0mpd\u001b[0m\u001b[1;33m.\u001b[0m\u001b[0mconcat\u001b[0m\u001b[1;33m(\u001b[0m\u001b[0mresults\u001b[0m\u001b[1;33m)\u001b[0m\u001b[1;33m\u001b[0m\u001b[0m\n\u001b[0;32m    448\u001b[0m         \u001b[1;31m# for i in tqdm(range(0,len(segments))):\u001b[0m\u001b[1;33m\u001b[0m\u001b[1;33m\u001b[0m\u001b[0m\n",
      "\u001b[1;32m/g/steinmetz/brooks/git/steinmetz-lab/yeast2_0/scripts/scrambleMapper.py\u001b[0m in \u001b[0;36m<listcomp>\u001b[1;34m(.0)\u001b[0m\n\u001b[0;32m    444\u001b[0m         \u001b[0mpool\u001b[0m \u001b[1;33m=\u001b[0m \u001b[0mmp\u001b[0m\u001b[1;33m.\u001b[0m\u001b[0mPool\u001b[0m\u001b[1;33m(\u001b[0m\u001b[0mprocesses\u001b[0m\u001b[1;33m=\u001b[0m\u001b[0mnproc\u001b[0m\u001b[1;33m)\u001b[0m\u001b[1;33m\u001b[0m\u001b[0m\n\u001b[0;32m    445\u001b[0m         \u001b[1;31m#gff_arg = [gff_in.iloc[[x]] for x in range(0,gff_in.shape[0])]\u001b[0m\u001b[1;33m\u001b[0m\u001b[1;33m\u001b[0m\u001b[0m\n\u001b[1;32m--> 446\u001b[1;33m         \u001b[0mresults\u001b[0m \u001b[1;33m=\u001b[0m \u001b[0mpool\u001b[0m\u001b[1;33m.\u001b[0m\u001b[0mstarmap\u001b[0m\u001b[1;33m(\u001b[0m\u001b[0mmapGFF\u001b[0m\u001b[1;33m,\u001b[0m \u001b[0mzip\u001b[0m\u001b[1;33m(\u001b[0m\u001b[0mgff_arg\u001b[0m\u001b[1;33m,\u001b[0m\u001b[0mrepeat\u001b[0m\u001b[1;33m(\u001b[0m\u001b[0mto_fa\u001b[0m\u001b[1;33m)\u001b[0m\u001b[1;33m,\u001b[0m\u001b[1;33m[\u001b[0m\u001b[0mthisfrom\u001b[0m\u001b[1;33m[\u001b[0m\u001b[1;33m[\u001b[0m\u001b[0ms\u001b[0m\u001b[1;33m]\u001b[0m\u001b[1;33m]\u001b[0m \u001b[1;32mfor\u001b[0m \u001b[0ms\u001b[0m \u001b[1;32min\u001b[0m \u001b[0msegments\u001b[0m\u001b[1;33m]\u001b[0m\u001b[1;33m)\u001b[0m\u001b[1;33m)\u001b[0m\u001b[1;33m\u001b[0m\u001b[0m\n\u001b[0m\u001b[0;32m    447\u001b[0m         \u001b[0mout\u001b[0m \u001b[1;33m=\u001b[0m \u001b[0mpd\u001b[0m\u001b[1;33m.\u001b[0m\u001b[0mconcat\u001b[0m\u001b[1;33m(\u001b[0m\u001b[0mresults\u001b[0m\u001b[1;33m)\u001b[0m\u001b[1;33m\u001b[0m\u001b[0m\n\u001b[0;32m    448\u001b[0m         \u001b[1;31m# for i in tqdm(range(0,len(segments))):\u001b[0m\u001b[1;33m\u001b[0m\u001b[1;33m\u001b[0m\u001b[0m\n",
      "\u001b[1;31mTypeError\u001b[0m: unhashable type: 'list'"
     ]
    }
   ],
   "source": [
    "tmp = scrambleMap.addSeg(to_fa,seg_file)"
   ]
  },
  {
   "cell_type": "code",
   "execution_count": null,
   "metadata": {
    "collapsed": true
   },
   "outputs": [],
   "source": [
    "out = []\n",
    "out.append(\"a\")"
   ]
  },
  {
   "cell_type": "code",
   "execution_count": null,
   "metadata": {
    "collapsed": false
   },
   "outputs": [],
   "source": [
    "out"
   ]
  },
  {
   "cell_type": "code",
   "execution_count": null,
   "metadata": {
    "collapsed": true
   },
   "outputs": [],
   "source": [
    "from Bio import SeqIO\n",
    "import os\n",
    "import tempfile\n",
    "import uuid\n",
    "import pandas as pd\n",
    "from tqdm import tqdm\n",
    "import multiprocessing as mp\n",
    "from itertools import repeat\n",
    "if os.path.isfile(seg_file):\n",
    "    with open(seg_file,'r') as f:\n",
    "        df = pd.DataFrame.from_csv(f,sep='\\t')\n",
    "    temp_file = tempfile.TemporaryFile(mode='w')\n",
    "    temp_file = str(uuid.uuid4())\n",
    "    with open(temp_file,'w') as f2:\n",
    "        for i in df.index.get_level_values(\"number\"):\n",
    "            f2.write(\">\"+str(i) + \"\\n\")\n",
    "            f2.write(str(df.loc[i].seq)+\"\\n\")\n",
    "    dummy_gff = pd.DataFrame.from_records([{\n",
    "        \"seqname\":\"dummy\",\n",
    "        \"start\":1,\n",
    "        \"end\":1,\n",
    "        \"source\":\"ANB\",\n",
    "        \"feature\":\"engineered_region\",\n",
    "        \"score\":\".\",\n",
    "        \"strand\":\"+\",\n",
    "        \"frame\":\".\",\n",
    "        \"attribute\":\"ID=;\"\n",
    "    }],index=(\"seqname\",\"start\",\"end\"))\n",
    "    thisfrom = scrambleMap.readFASTA_SeqIO(temp_file)\n",
    "    #out = pd.DataFrame()\n",
    "    results = []\n",
    "    segments = [x for x in thisfrom.keys()]\n",
    "    gff_arg = dummy_gff\n",
    "    for i in range(0,len(segments)):\n",
    "        ii = segments[i]\n",
    "        if i == 0:\n",
    "            gff_arg.iloc[i].attribute = \"ID=\" + str(ii) + \";\"\n",
    "        else:\n",
    "            gff_arg = gff_arg.append(dummy_gff)\n",
    "            gff_arg.iloc[i].attribute = \"ID=\" + str(ii) + \";\"\n",
    "    gff_arg = [gff_arg.iloc[[x]] for x in range(0,gff_arg.shape[0])]\n",
    "    pool = mp.Pool(processes=nproc)\n",
    "    #gff_arg = [gff_in.iloc[[x]] for x in range(0,gff_in.shape[0])]\n",
    "    results = pool.starmap(scrambleMap.mapGFF_direct, zip(gff_arg,repeat(to_fa),[thisfrom[s] for s in segments]))\n",
    "    out = pd.concat(results)"
   ]
  }
 ],
 "metadata": {
  "kernelspec": {
   "display_name": "Python 3",
   "language": "python",
   "name": "python3"
  },
  "language_info": {
   "codemirror_mode": {
    "name": "ipython",
    "version": 3
   },
   "file_extension": ".py",
   "mimetype": "text/x-python",
   "name": "python",
   "nbconvert_exporter": "python",
   "pygments_lexer": "ipython3",
   "version": "3.5.1"
  }
 },
 "nbformat": 4,
 "nbformat_minor": 0
}
