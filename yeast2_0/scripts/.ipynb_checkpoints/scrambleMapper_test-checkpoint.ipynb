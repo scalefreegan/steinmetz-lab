{
 "cells": [
  {
   "cell_type": "markdown",
   "metadata": {},
   "source": [
    "## Scramble mapper test\n",
    "\n",
    "<script>\n",
    "code_show=true; \n",
    "function code_toggle() {\n",
    " if (code_show){\n",
    " $('div.input').hide();\n",
    " } else {\n",
    " $('div.input').show();\n",
    " }\n",
    " code_show = !code_show\n",
    "} \n",
    "$( document ).ready(code_toggle);\n",
    "</script>\n",
    "<form action=\"javascript:code_toggle()\"><input type=\"submit\" value=\"Click here to toggle code on/off.\"></form>"
   ]
  },
  {
   "cell_type": "code",
   "execution_count": 366,
   "metadata": {
    "collapsed": false
   },
   "outputs": [],
   "source": [
    "from Bio import SeqIO\n",
    "import pandas as pd\n",
    "from importlib.machinery import SourceFileLoader\n",
    "import sys\n",
    "import os\n",
    "import numpy as np\n",
    "# add conda packages path\n",
    "sys.path.append(\"/g/steinmetz/brooks/anaconda/envs/py35/lib/python3.5/site-packages/\")\n",
    "scrambleMap = SourceFileLoader(\"scrambleMap\", \"/g/steinmetz/brooks/git/steinmetz-lab/yeast2_0/scripts/scrambleMapper.py\").load_module()"
   ]
  },
  {
   "cell_type": "code",
   "execution_count": 367,
   "metadata": {
    "collapsed": false
   },
   "outputs": [],
   "source": [
    "# important paths\n",
    "ref = {\n",
    "    \"fa\" : ('/g/steinmetz/project/IESY/genomes/annotations/scramble/genomes/S288C_reference_genome_R64-2-1_20150113/'\n",
    "          'S288C_reference_sequence_R64-2-1_20150113.fsa'),\n",
    "    \"gff\" : ('/g/steinmetz/project/IESY/genomes/annotations/scramble/genomes/S288C_reference_genome_R64-2-1_20150113/'\n",
    "          'saccharomyces_cerevisiae_R64-2-1_20150113_annotation_only.gff')}\n",
    "\n",
    "query = {\n",
    "    \"fa\" : ('/g/steinmetz/project/IESY/genomes/annotations/scramble/genomes/'\n",
    "            'JS710.fa'),\n",
    "    \"gff\" : ('/g/steinmetz/project/IESY/genomes/annotations/scramble/genomes/'\n",
    "            'test_JS710.gff')\n",
    "}"
   ]
  },
  {
   "cell_type": "code",
   "execution_count": 358,
   "metadata": {
    "collapsed": false
   },
   "outputs": [],
   "source": [
    "df = scrambleMap.readGFF(ref['gff'])\n",
    "seq = scrambleMap.readFASTA_SeqIO(ref[\"fa\"])\n",
    "#df[\"feature\"].unique()\n",
    "#thisentry = df.loc[(df.index.get_level_values('seqname') == \"chrIX\") & (df.index.get_level_values('start') > 355745)]\n",
    "#thisentry = thisentry[thisentry['attribute'].str.contains('DAL4')]\n",
    "thisentry = df\n",
    "annotations2keep = [\n",
    "        'gene',\n",
    "        'ncRNA_gene',\n",
    "        'tRNA_gene',\n",
    "        'centromere',\n",
    "        'rRNA_gene'\n",
    "        ]\n",
    "\n",
    "thisentry = thisentry[thisentry['feature'].isin(annotations2keep)]\n",
    "\n",
    "# thisentry = df.loc[(df.index.get_level_values('seqname') == \"chrII\")]\n",
    "# thisentry = thisentry[thisentry['attribute'].str.contains('GAL1;')]\n",
    "out = scrambleMap.mapMultipleGFF(ref['fa'],sub_gff, query['fa'])\n",
    "scrambleMap.writeGFF(out,\"JS710.gff\")"
   ]
  },
  {
   "cell_type": "code",
   "execution_count": 365,
   "metadata": {
    "collapsed": false
   },
   "outputs": [],
   "source": []
  },
  {
   "cell_type": "code",
   "execution_count": null,
   "metadata": {
    "collapsed": true
   },
   "outputs": [],
   "source": []
  }
 ],
 "metadata": {
  "kernelspec": {
   "display_name": "Python 3",
   "language": "python",
   "name": "python3"
  },
  "language_info": {
   "codemirror_mode": {
    "name": "ipython",
    "version": 3
   },
   "file_extension": ".py",
   "mimetype": "text/x-python",
   "name": "python",
   "nbconvert_exporter": "python",
   "pygments_lexer": "ipython3",
   "version": "3.5.1"
  }
 },
 "nbformat": 4,
 "nbformat_minor": 0
}
