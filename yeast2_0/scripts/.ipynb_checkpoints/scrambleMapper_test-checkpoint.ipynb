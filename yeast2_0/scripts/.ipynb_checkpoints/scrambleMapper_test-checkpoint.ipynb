{
 "cells": [
  {
   "cell_type": "markdown",
   "metadata": {},
   "source": [
    "## Scramble mapper test\n",
    "\n",
    "<script>\n",
    "code_show=true; \n",
    "function code_toggle() {\n",
    " if (code_show){\n",
    " $('div.input').hide();\n",
    " } else {\n",
    " $('div.input').show();\n",
    " }\n",
    " code_show = !code_show\n",
    "} \n",
    "$( document ).ready(code_toggle);\n",
    "</script>\n",
    "<form action=\"javascript:code_toggle()\"><input type=\"submit\" value=\"Click here to toggle code on/off.\"></form>"
   ]
  },
  {
   "cell_type": "code",
   "execution_count": 6,
   "metadata": {
    "collapsed": false
   },
   "outputs": [],
   "source": [
    "from Bio import SeqIO\n",
    "import pandas as pd\n",
    "from importlib.machinery import SourceFileLoader\n",
    "import sys\n",
    "import os\n",
    "import numpy as np\n",
    "# add conda packages path\n",
    "sys.path.append(\"/g/steinmetz/brooks/anaconda/envs/py35/lib/python3.5/site-packages/\")\n",
    "scrambleMap = SourceFileLoader(\"scrambleMap\", \"/g/steinmetz/brooks/git/steinmetz-lab/yeast2_0/scripts/scrambleMapper.py\").load_module()"
   ]
  },
  {
   "cell_type": "code",
   "execution_count": 7,
   "metadata": {
    "collapsed": false
   },
   "outputs": [],
   "source": [
    "# important paths\n",
    "ref = {\n",
    "    \"fa\" : ('/g/steinmetz/project/IESY/genomes/annotations/scramble/genomes/S288C_reference_genome_R64-2-1_20150113/'\n",
    "          'S288C_reference_sequence_R64-2-1_20150113.fsa'),\n",
    "    \"gff\" : ('/g/steinmetz/project/IESY/genomes/annotations/scramble/genomes/S288C_reference_genome_R64-2-1_20150113/'\n",
    "          'saccharomyces_cerevisiae_R64-2-1_20150113_annotation_only.gff')}\n",
    "\n",
    "query = {\n",
    "    \"fa\" : ('/g/steinmetz/project/IESY/genomes/annotations/scramble/genomes/'\n",
    "            'JS710.fa'),\n",
    "    \"gff\" : ('/g/steinmetz/project/IESY/genomes/annotations/scramble/genomes/'\n",
    "            'test.gff')\n",
    "}"
   ]
  },
  {
   "cell_type": "code",
   "execution_count": 8,
   "metadata": {
    "collapsed": false
   },
   "outputs": [],
   "source": [
    "df = scrambleMap.readGFF(ref['gff'])\n",
    "seq = scrambleMap.readFASTA_SeqIO(ref[\"fa\"])\n",
    "#df[\"feature\"].unique()\n",
    "#thisentry3 = df.loc[(df.index.get_level_values('seqname') == \"chrIX\") & (df.index.get_level_values('start') > 173365)]\n",
    "#thisentry = thisentry[thisentry['attribute'].str.contains('DAL4')]\n",
    "thisentry = df\n",
    "annotations2keep = [\n",
    "        'gene',\n",
    "        'ncRNA_gene',\n",
    "        'tRNA_gene',\n",
    "        'centromere',\n",
    "        'rRNA_gene'\n",
    "        ]\n",
    "#annotations2keep = [\"tRNA_gene\",'rRNA_gene']\n",
    "thisentry = thisentry[thisentry['feature'].isin(annotations2keep)]\n",
    "\n",
    "# thisentry = df.loc[(df.index.get_level_values('seqname') == \"chrII\")]\n",
    "#thisentry = thisentry[thisentry['attribute'].str.contains('YIR017C|YIR018W')]\n",
    "#thisentry = thisentry[thisentry['attribute'].str.contains('YIR017C')]\n",
    "#thisentry2 = thisentry[thisentry['attribute'].str.contains('tT%28AGU%29I1')]\n",
    "thisentry3 = thisentry[thisentry['attribute'].str.contains('YIR034C')]\n",
    "\n",
    "#out = scrambleMap.mapGFF(ref['fa'],thisentry.iloc[[0]], query['fa'])\n",
    "#out = scrambleMap.mapMultipleGFF(ref['fa'],thisentry, query['fa'])\n",
    "#out2= scrambleMap.mapMultipleGFF(ref['fa'],thisentry2, query['fa'])\n",
    "#out3= scrambleMap.mapMultipleGFF(ref['fa'],thisentry3, query['fa'])\n",
    "# scrambleMap.writeGFF(out,\"JS710.gff\")"
   ]
  },
  {
   "cell_type": "code",
   "execution_count": 1,
   "metadata": {
    "collapsed": false
   },
   "outputs": [
    {
     "ename": "NameError",
     "evalue": "name 'query' is not defined",
     "output_type": "error",
     "traceback": [
      "\u001b[1;31m---------------------------------------------------------------------------\u001b[0m",
      "\u001b[1;31mNameError\u001b[0m                                 Traceback (most recent call last)",
      "\u001b[1;32m<ipython-input-1-8c8612facc4f>\u001b[0m in \u001b[0;36m<module>\u001b[1;34m()\u001b[0m\n\u001b[1;32m----> 1\u001b[1;33m \u001b[0mto_fa\u001b[0m \u001b[1;33m=\u001b[0m \u001b[0mquery\u001b[0m\u001b[1;33m[\u001b[0m\u001b[1;34m\"fa\"\u001b[0m\u001b[1;33m]\u001b[0m\u001b[1;33m\u001b[0m\u001b[0m\n\u001b[0m\u001b[0;32m      2\u001b[0m \u001b[0mseg_file\u001b[0m \u001b[1;33m=\u001b[0m \u001b[1;34m\"/g/steinmetz/brooks/git/steinmetz-lab/yeast2_0/scramble/SynIXR_segmentTable.txt\"\u001b[0m\u001b[1;33m\u001b[0m\u001b[0m\n\u001b[0;32m      3\u001b[0m \u001b[0mnproc\u001b[0m\u001b[1;33m=\u001b[0m\u001b[1;36m32\u001b[0m\u001b[1;33m\u001b[0m\u001b[0m\n",
      "\u001b[1;31mNameError\u001b[0m: name 'query' is not defined"
     ]
    }
   ],
   "source": [
    "to_fa = query[\"fa\"]\n",
    "seg_file = \"/g/steinmetz/brooks/git/steinmetz-lab/yeast2_0/scramble/SynIXR_segmentTable.txt\"\n",
    "nproc=32"
   ]
  },
  {
   "cell_type": "code",
   "execution_count": null,
   "metadata": {
    "collapsed": false
   },
   "outputs": [
    {
     "name": "stderr",
     "output_type": "stream",
     "text": [
      " 20%|██        | 9/44 [00:23<01:32,  2.65s/it]"
     ]
    }
   ],
   "source": [
    "tmp = scrambleMap.addSeg(to_fa,seg_file)"
   ]
  },
  {
   "cell_type": "code",
   "execution_count": null,
   "metadata": {
    "collapsed": true
   },
   "outputs": [],
   "source": [
    "out = []\n",
    "out.append(\"a\")"
   ]
  },
  {
   "cell_type": "code",
   "execution_count": null,
   "metadata": {
    "collapsed": false
   },
   "outputs": [],
   "source": [
    "out"
   ]
  },
  {
   "cell_type": "code",
   "execution_count": null,
   "metadata": {
    "collapsed": true
   },
   "outputs": [],
   "source": [
    "with open(seg_file,'r') as f:\n",
    "    df = pd.DataFrame.from_csv(f,sep='\\t')\n",
    "temp_file = tempfile.TemporaryFile(mode='w')\n",
    "temp_file = str(uuid.uuid4())\n",
    "with open(temp_file,'w') as f2:\n",
    "    for i in df.index.get_level_values(\"number\"):\n",
    "        f2.write(\">\"+str(i) + \"\\n\")\n",
    "        f2.write(str(df.loc[i].seq)+\"\\n\")\n",
    "dummy_gff = pd.DataFrame.from_records([{\n",
    "    \"seqname\":\"dummy\",\n",
    "    \"start\":1,\n",
    "    \"end\":1,\n",
    "    \"source\":\"ANB\",\n",
    "    \"feature\":\"engineered_region\",\n",
    "    \"score\":\".\",\n",
    "    \"strand\":\"+\",\n",
    "    \"frame\":\".\",\n",
    "    \"attribute\":\"ID=;\"\n",
    "}],index=(\"seqname\",\"start\",\"end\"))\n",
    "thisfrom = scrambleMap.readFASTA_SeqIO(temp_file)\n",
    "#out = pd.DataFrame()\n",
    "results = []\n",
    "segments = [x for x in thisfrom.keys()]\n",
    "gff_arg = []\n",
    "for i in range(0,len(segments)):\n",
    "    ii = segments[i]\n",
    "    dummy_gff.iloc[0].attribute = \"ID=\" + str(ii) + \";\"\n",
    "    gff_arg.append(dummy_gff)\n",
    "pool = mp.Pool(processes=nproc)"
   ]
  }
 ],
 "metadata": {
  "kernelspec": {
   "display_name": "Python 3",
   "language": "python",
   "name": "python3"
  },
  "language_info": {
   "codemirror_mode": {
    "name": "ipython",
    "version": 3
   },
   "file_extension": ".py",
   "mimetype": "text/x-python",
   "name": "python",
   "nbconvert_exporter": "python",
   "pygments_lexer": "ipython3",
   "version": "3.5.1"
  }
 },
 "nbformat": 4,
 "nbformat_minor": 0
}
