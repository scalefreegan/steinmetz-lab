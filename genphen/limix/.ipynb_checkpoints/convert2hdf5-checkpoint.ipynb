{
 "cells": [
  {
   "cell_type": "code",
   "execution_count": 41,
   "metadata": {
    "collapsed": false
   },
   "outputs": [],
   "source": [
    "import h5py \n",
    "import scipy as sp\n",
    "import re\n",
    "import pdb\n",
    "import os"
   ]
  },
  {
   "cell_type": "code",
   "execution_count": 39,
   "metadata": {
    "collapsed": false
   },
   "outputs": [],
   "source": [
    "###########################################################\n",
    "#\n",
    "# BYxRM cross. Example\n",
    "#\n",
    "###########################################################\n",
    "geno = sp.loadtxt('./BYxRM/BYxRM_GenoData.txt',dtype='str')\n",
    "pheno = sp.loadtxt('./BYxRM/BYxRM_PhenoData.txt',dtype='str')\n",
    "#parse genotype markers\n",
    "pattern=re.compile('(.*)_chr(.*?)_(.*?)_(.*?)_(.*?$)')\n",
    "alleles = []\n",
    "pos     = []\n",
    "chrom   = []\n",
    "for marker in geno[1::,0]:\n",
    "    p = pattern.match(marker)\n",
    "    pos.append(p.group(3))\n",
    "    chrom.append(p.group(2))\n",
    "    _alleles = [p.group(4),p.group(5)]\n",
    "    alleles.append(_alleles)\n",
    "pos = sp.array(pos,dtype='int')\n",
    "chrom = sp.array(chrom,dtype='int')\n",
    "alleles = sp.array(alleles)\n",
    "\n",
    "\n",
    "Mgeno = sp.array(1.0*(geno[1::,1::]=='R'),dtype='uint8')\n",
    "geno_ID = geno[0,1::]\n",
    "pheno_ID = pheno[1::,0]\n",
    "\n",
    "Mpheno = pheno[1::,1::]\n",
    "Mpheno[Mpheno=='NA']='NAN'\n",
    "Mpheno = sp.array(Mpheno,dtype='float')\n",
    "phenotype_names = pheno[0,1::]\n",
    "\n",
    "f = h5py.File('./BYxRM/BYxRM.hdf5','w')\n",
    "f_geno = f.create_group('genotype')\n",
    "f_pheno = f.create_group('phenotype')\n",
    "f_geno.create_group('col_header')\n",
    "f_geno.create_group('row_header')\n",
    "f_geno.create_dataset(name='matrix',data=Mgeno.T,chunks=(Mgeno.shape[1],1000),compression='gzip')\n",
    "f_geno['row_header'].create_dataset(name='sample_ID',data=geno_ID)\n",
    "f_geno['col_header'].create_dataset(name='chrom',data=chrom)\n",
    "f_geno['col_header'].create_dataset(name='pos',data=pos)\n",
    "f_geno['col_header'].create_dataset(name='alleles',data=alleles)\n",
    "\n",
    "f_pheno.create_group('col_header')\n",
    "f_pheno.create_group('row_header')\n",
    "f_pheno.create_dataset(name='matrix',data=Mpheno,compression='gzip')\n",
    "f_pheno['row_header'].create_dataset(name='sample_ID',data=pheno_ID)\n",
    "f_pheno['col_header'].create_dataset(name='phenotype_ID',data=phenotype_names)\n",
    "f.close()"
   ]
  },
  {
   "cell_type": "code",
   "execution_count": 40,
   "metadata": {
    "collapsed": false
   },
   "outputs": [],
   "source": [
    "###########################################################\n",
    "#\n",
    "# S288CxYJM789 cross\n",
    "#\n",
    "###########################################################\n",
    "geno = sp.loadtxt('/Users/brooks/Documents/git/steinmetz-lab/general/S288CxYJM789.txt',dtype='str')\n",
    "pheno = sp.loadtxt('/Users/brooks/Documents/git/steinmetz-lab/general/phenotype_metabolites.txt',dtype='str')\n",
    "#parse genotype markers\n",
    "pattern=re.compile('(.*)_chr(.*?)_(.*?)_(.*?)_(.*?$)')\n",
    "alleles = []\n",
    "pos     = []\n",
    "chrom   = []\n",
    "for marker in geno[1::,0]:\n",
    "    p = pattern.match(marker)\n",
    "    pos.append(p.group(3))\n",
    "    chrom.append(p.group(2))\n",
    "    _alleles = [p.group(4),p.group(5)]\n",
    "    alleles.append(_alleles)\n",
    "pos = sp.array(pos,dtype='int')\n",
    "chrom = sp.array(chrom,dtype='int')\n",
    "alleles = sp.array(alleles)\n",
    "\n",
    "\n",
    "Mgeno = sp.array(1.0*(geno[1::,1::]=='1'),dtype='uint8')\n",
    "geno_ID = geno[0,1::]\n",
    "pheno_ID = pheno[1::,0]\n",
    "\n",
    "Mpheno = pheno[1::,1::]\n",
    "Mpheno[Mpheno=='NA']='NAN'\n",
    "Mpheno = sp.array(Mpheno,dtype='float')\n",
    "phenotype_names = pheno[0,1::]\n",
    "\n",
    "f = h5py.File('/Users/brooks/Documents/git/steinmetz-lab/general/S288CxYJM789.hdf5','w')\n",
    "f_geno = f.create_group('genotype')\n",
    "f_pheno = f.create_group('phenotype')\n",
    "f_geno.create_group('col_header')\n",
    "f_geno.create_group('row_header')\n",
    "f_geno.create_dataset(name='matrix',data=Mgeno.T,chunks=(Mgeno.shape[1],1000),compression='gzip')\n",
    "f_geno['row_header'].create_dataset(name='sample_ID',data=geno_ID)\n",
    "f_geno['col_header'].create_dataset(name='chrom',data=chrom)\n",
    "f_geno['col_header'].create_dataset(name='pos',data=pos)\n",
    "f_geno['col_header'].create_dataset(name='alleles',data=alleles)\n",
    "\n",
    "f_pheno.create_group('col_header')\n",
    "f_pheno.create_group('row_header')\n",
    "f_pheno.create_dataset(name='matrix',data=Mpheno,compression='gzip')\n",
    "f_pheno['row_header'].create_dataset(name='sample_ID',data=pheno_ID)\n",
    "f_pheno['col_header'].create_dataset(name='phenotype_ID',data=phenotype_names)\n",
    "f.close()"
   ]
  },
  {
   "cell_type": "code",
   "execution_count": 42,
   "metadata": {
    "collapsed": false
   },
   "outputs": [
    {
     "ename": "NameError",
     "evalue": "name 'gr' is not defined",
     "output_type": "error",
     "traceback": [
      "\u001b[0;31m---------------------------------------------------------------------------\u001b[0m",
      "\u001b[0;31mNameError\u001b[0m                                 Traceback (most recent call last)",
      "\u001b[0;32m<ipython-input-42-c4355f86e7f7>\u001b[0m in \u001b[0;36m<module>\u001b[0;34m()\u001b[0m\n\u001b[1;32m      1\u001b[0m \u001b[0mfile_name\u001b[0m \u001b[0;34m=\u001b[0m \u001b[0;34m\"/Users/brooks/Documents/git/steinmetz-lab/general/S288CxYJM789.hdf5\"\u001b[0m\u001b[0;34m\u001b[0m\u001b[0m\n\u001b[0;32m----> 2\u001b[0;31m \u001b[0mgeno_reader_BYxRM\u001b[0m  \u001b[0;34m=\u001b[0m \u001b[0mgr\u001b[0m\u001b[0;34m.\u001b[0m\u001b[0mgenotype_reader_tables\u001b[0m\u001b[0;34m(\u001b[0m\u001b[0mfile_name\u001b[0m\u001b[0;34m)\u001b[0m\u001b[0;34m\u001b[0m\u001b[0m\n\u001b[0m\u001b[1;32m      3\u001b[0m \u001b[0;31m# M is a binary matrix [samples,genotypes]\u001b[0m\u001b[0;34m\u001b[0m\u001b[0;34m\u001b[0m\u001b[0m\n\u001b[1;32m      4\u001b[0m \u001b[0mMBYxRM\u001b[0m \u001b[0;34m=\u001b[0m \u001b[0mgeno_reader_BYxRM\u001b[0m\u001b[0;34m.\u001b[0m\u001b[0mgetGenotypes\u001b[0m\u001b[0;34m(\u001b[0m\u001b[0;34m)\u001b[0m\u001b[0;34m\u001b[0m\u001b[0m\n\u001b[1;32m      5\u001b[0m \u001b[0mposBYxRM\u001b[0m \u001b[0;34m=\u001b[0m \u001b[0mgeno_reader_BYxRM\u001b[0m\u001b[0;34m.\u001b[0m\u001b[0mgetPos\u001b[0m\u001b[0;34m(\u001b[0m\u001b[0;34m)\u001b[0m\u001b[0;34m[\u001b[0m\u001b[0;34m'pos'\u001b[0m\u001b[0;34m]\u001b[0m\u001b[0;34m\u001b[0m\u001b[0m\n",
      "\u001b[0;31mNameError\u001b[0m: name 'gr' is not defined"
     ]
    }
   ],
   "source": [
    "file_name = \"/Users/brooks/Documents/git/steinmetz-lab/general/S288CxYJM789.hdf5\"\n",
    "geno_reader_BYxRM  = gr.genotype_reader_tables(file_name)\n",
    "# M is a binary matrix [samples,genotypes]\n",
    "MBYxRM = geno_reader_BYxRM.getGenotypes()\n",
    "posBYxRM = geno_reader_BYxRM.getPos()['pos']\n",
    "K = sp.dot(MBYxRM,MBYxRM.T)\n",
    "K2 = sp.dot(MBYxRM[:,0:2],MBYxRM[:,0:2].T)"
   ]
  },
  {
   "cell_type": "code",
   "execution_count": null,
   "metadata": {
    "collapsed": true
   },
   "outputs": [],
   "source": []
  }
 ],
 "metadata": {
  "kernelspec": {
   "display_name": "Python 2",
   "language": "python",
   "name": "python2"
  },
  "language_info": {
   "codemirror_mode": {
    "name": "ipython",
    "version": 2
   },
   "file_extension": ".py",
   "mimetype": "text/x-python",
   "name": "python",
   "nbconvert_exporter": "python",
   "pygments_lexer": "ipython2",
   "version": "2.7.11"
  }
 },
 "nbformat": 4,
 "nbformat_minor": 0
}
