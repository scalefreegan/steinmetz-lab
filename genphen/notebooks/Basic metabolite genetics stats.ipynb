{
 "cells": [
  {
   "cell_type": "markdown",
   "metadata": {},
   "source": [
    "## Basic stats regarding genetic basis on metabolite levels in SxY cross\n",
    "\n",
    "Including: \n",
    "- \\# metabolites/timepoints significantly different between parental strains, \n",
    "- transgressive segregation \n",
    "- and directional genetics"
   ]
  },
  {
   "cell_type": "code",
   "execution_count": 223,
   "metadata": {
    "collapsed": false
   },
   "outputs": [],
   "source": [
    ".libPaths(\"~/R/x86_64-redhat-linux-gnu-library/3.2/\")\n",
    "# config opts and libraries\n",
    "options(repr.plot.width = 6)\n",
    "options(repr.plot.height = 5)\n",
    "library(ggplot2);\n",
    "library(plyr);\n",
    "library(dplyr);\n",
    "library(reshape2);\n",
    "library(LSD);\n",
    "library(qtl);\n",
    "library(pheatmap);\n",
    "library(parallel);\n",
    "options(mc.cores = 24);\n",
    "library(stringr);\n",
    "library(RColorBrewer);"
   ]
  },
  {
   "cell_type": "markdown",
   "metadata": {},
   "source": [
    "### Metabolites/timepoints significantly different between parental strains\n",
    "\n",
    "How many metabolites (timepoints) differ significantly between two parental strains\n",
    "\n",
    "As in [Breunig JS, Hackett SR, Rabinowitz JD, Kruglyak L (2014) Genetic Basis of Metabolome Variation in Yeast. PLoS Genet 10(3): e1004142](http://journals.plos.org/plosgenetics/article?id=10.1371/journal.pgen.1004142)"
   ]
  },
  {
   "cell_type": "code",
   "execution_count": 224,
   "metadata": {
    "collapsed": true
   },
   "outputs": [],
   "source": [
    "# load parental data\n",
    "endo_f = \"/g/steinmetz/project/GenPhen/data/endometabolome/data/endometabolite_full_12102015.rda\"\n",
    "load(endo_f)"
   ]
  },
  {
   "cell_type": "code",
   "execution_count": 152,
   "metadata": {
    "collapsed": false
   },
   "outputs": [
    {
     "data": {
      "text/html": [
       "<table>\n",
       "<thead><tr><th></th><th scope=col>strain</th><th scope=col>parent</th><th scope=col>time</th><th scope=col>metabolite</th><th scope=col>endo_quant</th><th scope=col>endo_quant_log</th><th scope=col>exo_quant</th><th scope=col>exo_quant_log</th><th scope=col>cellconc_1.ml</th><th scope=col>biovolume_ul.ml</th><th scope=col>singlecellvol_fl</th><th scope=col>endo_quant_log_normalized</th><th scope=col>exo_quant_log_normalized</th><th scope=col>endo_quant_rel</th><th scope=col>exo_quant_rel</th><th scope=col>endo_rate</th><th scope=col>exo_rate</th></tr></thead>\n",
       "<tbody>\n",
       "\t<tr><th scope=row>1</th><td>S1</td><td>S288c</td><td>16</td><td>CIT</td><td>3844.5</td><td>11.90858</td><td>142.43</td><td>7.154109</td><td>13763600</td><td>0.794721</td><td>57.74</td><td>12.2062</td><td>7.049826</td><td>1</td><td>1</td><td>NA</td><td>NA</td></tr>\n",
       "\t<tr><th scope=row>2</th><td>S1</td><td>S288c</td><td>17</td><td>CIT</td><td>2575.07</td><td>11.3304</td><td>144.88</td><td>7.178715</td><td>20412000</td><td>1.128718</td><td>55.3</td><td>11.69755</td><td>7.075077</td><td>0.9583284</td><td>1.003582</td><td>-0.5086517</td><td>0.02525106</td></tr>\n",
       "\t<tr><th scope=row>3</th><td>S1</td><td>S288c</td><td>18</td><td>CIT</td><td>2579.87</td><td>11.33308</td><td>139.83</td><td>7.12753</td><td>33698000</td><td>1.680631</td><td>49.87</td><td>11.521</td><td>6.951486</td><td>0.9438643</td><td>0.9860507</td><td>-0.1765525</td><td>-0.123591</td></tr>\n",
       "\t<tr><th scope=row>4</th><td>S1</td><td>S288c</td><td>19</td><td>CIT</td><td>2153.68</td><td>11.07259</td><td>151.57</td><td>7.24384</td><td>47319300</td><td>2.299066</td><td>48.59</td><td>11.28718</td><td>7.156562</td><td>0.9247086</td><td>1.01514</td><td>-0.2338181</td><td>0.2050763</td></tr>\n",
       "\t<tr><th scope=row>5</th><td>S1</td><td>S288c</td><td>20</td><td>CIT</td><td>1609.98</td><td>10.65283</td><td>142.05</td><td>7.150255</td><td>72192000</td><td>3.173397</td><td>43.96</td><td>10.84166</td><td>7.475629</td><td>0.8882089</td><td>1.060399</td><td>-0.4455226</td><td>0.3190664</td></tr>\n",
       "\t<tr><th scope=row>6</th><td>S2</td><td>S288c</td><td>16</td><td>CIT</td><td>3584.21</td><td>11.80744</td><td>143.05</td><td>7.160376</td><td>13303800</td><td>0.7479802</td><td>56.22</td><td>11.88108</td><td>7.04624</td><td>1</td><td>1</td><td>NA</td><td>NA</td></tr>\n",
       "</tbody>\n",
       "</table>\n"
      ],
      "text/latex": [
       "\\begin{tabular}{r|lllllllllllllllll}\n",
       "  & strain & parent & time & metabolite & endo_quant & endo_quant_log & exo_quant & exo_quant_log & cellconc_1.ml & biovolume_ul.ml & singlecellvol_fl & endo_quant_log_normalized & exo_quant_log_normalized & endo_quant_rel & exo_quant_rel & endo_rate & exo_rate\\\\\n",
       "\\hline\n",
       "\t1 & S1 & S288c & 16 & CIT & 3844.5 & 11.90858 & 142.43 & 7.154109 & 13763600 & 0.794721 & 57.74 & 12.2062 & 7.049826 & 1 & 1 & NA & NA\\\\\n",
       "\t2 & S1 & S288c & 17 & CIT & 2575.07 & 11.3304 & 144.88 & 7.178715 & 20412000 & 1.128718 & 55.3 & 11.69755 & 7.075077 & 0.9583284 & 1.003582 & -0.5086517 & 0.02525106\\\\\n",
       "\t3 & S1 & S288c & 18 & CIT & 2579.87 & 11.33308 & 139.83 & 7.12753 & 33698000 & 1.680631 & 49.87 & 11.521 & 6.951486 & 0.9438643 & 0.9860507 & -0.1765525 & -0.123591\\\\\n",
       "\t4 & S1 & S288c & 19 & CIT & 2153.68 & 11.07259 & 151.57 & 7.24384 & 47319300 & 2.299066 & 48.59 & 11.28718 & 7.156562 & 0.9247086 & 1.01514 & -0.2338181 & 0.2050763\\\\\n",
       "\t5 & S1 & S288c & 20 & CIT & 1609.98 & 10.65283 & 142.05 & 7.150255 & 72192000 & 3.173397 & 43.96 & 10.84166 & 7.475629 & 0.8882089 & 1.060399 & -0.4455226 & 0.3190664\\\\\n",
       "\t6 & S2 & S288c & 16 & CIT & 3584.21 & 11.80744 & 143.05 & 7.160376 & 13303800 & 0.7479802 & 56.22 & 11.88108 & 7.04624 & 1 & 1 & NA & NA\\\\\n",
       "\\end{tabular}\n"
      ],
      "text/plain": [
       "Source: local data frame [6 x 17]\n",
       "Groups: metabolite [1]\n",
       "\n",
       "  strain parent   time metabolite endo_quant endo_quant_log exo_quant\n",
       "  (fctr) (fctr) (fctr)     (fctr)      (dbl)          (dbl)     (dbl)\n",
       "1     S1  S288c     16        CIT    3844.50       11.90858    142.43\n",
       "2     S1  S288c     17        CIT    2575.07       11.33040    144.88\n",
       "3     S1  S288c     18        CIT    2579.87       11.33308    139.83\n",
       "4     S1  S288c     19        CIT    2153.68       11.07259    151.57\n",
       "5     S1  S288c     20        CIT    1609.98       10.65283    142.05\n",
       "6     S2  S288c     16        CIT    3584.21       11.80744    143.05\n",
       "Variables not shown: exo_quant_log (dbl), cellconc_1.ml (dbl), biovolume_ul.ml\n",
       "  (dbl), singlecellvol_fl (dbl), endo_quant_log_normalized (dbl),\n",
       "  exo_quant_log_normalized (dbl), endo_quant_rel (dbl), exo_quant_rel (dbl),\n",
       "  endo_rate (dbl), exo_rate (dbl)"
      ]
     },
     "execution_count": 152,
     "metadata": {},
     "output_type": "execute_result"
    }
   ],
   "source": [
    "head(parents)"
   ]
  },
  {
   "cell_type": "markdown",
   "metadata": {},
   "source": [
    "### How many metabolites are different in parental strains? (one-way ANOVA)\n",
    "\n",
    "I am using a one-way ANOVA to be consistent with [Breunig JS et al 2014](http://journals.plos.org/plosgenetics/article?id=10.1371/journal.pgen.1004142), though it isn't clear to me why they use ANOVA rather than a t-test..."
   ]
  },
  {
   "cell_type": "code",
   "execution_count": 155,
   "metadata": {
    "collapsed": false
   },
   "outputs": [],
   "source": [
    "parent_diff_anova = parents %>% group_by(metabolite) %>% do({\n",
    "    thismetabolite = .$metabolite[1]\n",
    "    test = try({aov(formula = endo_quant_log ~ parent, data = .)}, silent = T)\n",
    "    if (!(class(test)==\"try-error\")[1]) {  \n",
    "        anova_p = summary(test)[[1]][[\"Pr(>F)\"]][1]\n",
    "        return(data.frame(metabolite = thismetabolite, anova = anova_p))\n",
    "    } else {\n",
    "        return(data.frame())\n",
    "    }\n",
    "})\n",
    "#replications(formula = endo_quant_log ~ parent, data = tmp)\n",
    "parent_diff_anova$anova_BH = p.adjust(parent_diff_anova$anova, method = \"BH\")\n",
    "# restrict to metabolites in segregrant study\n",
    "common_m = intersect(levels(parent_diff_anova$metabolite),levels(endometabolite$metabolite))\n",
    "parent_diff_anova = filter(parent_diff_anova, metabolite %in% common_m)"
   ]
  },
  {
   "cell_type": "code",
   "execution_count": 156,
   "metadata": {
    "collapsed": false
   },
   "outputs": [
    {
     "name": "stdout",
     "output_type": "stream",
     "text": [
      "16 out of 26 metabolites that were detected in both parental strains are different between S288c and YJM789"
     ]
    }
   ],
   "source": [
    "cat(sum(parent_diff_anova$anova_BH <= 0.05), \"out of\", \n",
    "      dim(parent_diff_anova)[1], \"metabolites that were detected\",\n",
    "    \"in both parental strains are different between S288c and YJM789\")"
   ]
  },
  {
   "cell_type": "markdown",
   "metadata": {},
   "source": [
    "### How many metabolites are different in parental strains at at least 1 timepoint? (one-way ANOVA)"
   ]
  },
  {
   "cell_type": "code",
   "execution_count": 157,
   "metadata": {
    "collapsed": false
   },
   "outputs": [],
   "source": [
    "parent_diff_anova_pertime = parents %>% group_by(metabolite, time) %>% do({\n",
    "    thismetabolite = .$metabolite[1]\n",
    "    thistime = .$time[1]\n",
    "    test = try({aov(formula = endo_quant_log ~ parent, data = .)}, silent = T)\n",
    "    if (!(class(test)==\"try-error\")[1]) {  \n",
    "        anova_p = summary(test)[[1]][[\"Pr(>F)\"]][1]\n",
    "        return(data.frame(metabolite = thismetabolite, anova = anova_p))\n",
    "    } else {\n",
    "        return(data.frame())\n",
    "    }\n",
    "})\n",
    "#replications(formula = endo_quant_log ~ parent, data = tmp)\n",
    "parent_diff_anova_pertime$anova_BH = p.adjust(parent_diff_anova_pertime$anova, method = \"BH\")\n",
    "# restrict to metabolites in segregrant study\n",
    "common_m = intersect(levels(parent_diff_anova_pertime$metabolite),\n",
    "                     levels(endometabolite$metabolite))\n",
    "parent_diff_anova_pertime = filter(parent_diff_anova_pertime, metabolite %in% common_m)"
   ]
  },
  {
   "cell_type": "code",
   "execution_count": 158,
   "metadata": {
    "collapsed": false
   },
   "outputs": [
    {
     "name": "stdout",
     "output_type": "stream",
     "text": [
      "25 out of 26 metabolites that were detected in both parental strains are different between S288c and YJM789 at at least 1 timepoint"
     ]
    }
   ],
   "source": [
    "parent_diff_anova_pertime_summary = parent_diff_anova_pertime %>% group_by(metabolite) %>% \n",
    "    summarise(sigtimepoint = sum(anova_BH <= 0.05))\n",
    "\n",
    "cat(sum(parent_diff_anova_pertime_summary$sigtimepoint > 0), \"out of\", \n",
    "      dim(parent_diff_anova_pertime_summary)[1], \"metabolites that were detected\",\n",
    "    \"in both parental strains are different between S288c and YJM789 at at least 1 timepoint\")"
   ]
  },
  {
   "cell_type": "markdown",
   "metadata": {},
   "source": [
    "### \\# of metabolites for which a mQTL is detected"
   ]
  },
  {
   "cell_type": "code",
   "execution_count": 159,
   "metadata": {
    "collapsed": true
   },
   "outputs": [],
   "source": [
    "# load genotype and markers files\n",
    "genotype_f = \"/g/steinmetz/brooks/yeast/genomes/S288CxYJM789/genotypes_S288c_R64.rda\"\n",
    "load(genotype_f)"
   ]
  },
  {
   "cell_type": "code",
   "execution_count": 160,
   "metadata": {
    "collapsed": true
   },
   "outputs": [],
   "source": [
    "# load normalized QTLs\n",
    "load(\"/g/steinmetz/brooks/genphen//metabolome/qtls/mQTLs_comball_funqtl_2014.rda\")"
   ]
  },
  {
   "cell_type": "code",
   "execution_count": 170,
   "metadata": {
    "collapsed": false
   },
   "outputs": [],
   "source": [
    "type = \"mlod\"\n",
    "co = .1 # 10% FDR\n",
    "bayesint = .95 # 95% Bayesian confidence interval around QTL\n",
    "\n",
    "# normalized data\n",
    "data = mQTLs_funqtl_2014\n",
    "qtls_norm = do.call(rbind,lapply(names(data), function(i){\n",
    "    o = try({\n",
    "    #print(i)\n",
    "    m = i\n",
    "    type = type\n",
    "    chrs = unique(data[[m]]$qtls_alt[data[[m]]$qtls_alt[,type]>=\n",
    "                                     summary(data[[m]]$permout[,type],co)[1],\"chr\"])\n",
    "    chrs = levels(chrs)[chrs]\n",
    "    lodcolumn = if(type==\"mlod\"){ 2 } else { 1 }\n",
    "    qtl_intervals = list()\n",
    "    if (length(chrs)>0) {\n",
    "      for (i in chrs) {\n",
    "        qtl_intervals[[i]] = try(\n",
    "            mrk[rownames(bayesint(data[[m]]$qtls_alt, \n",
    "                                  chr = str_pad(i, 2, pad = \"0\"), \n",
    "                                  prob=bayesint, lodcolumn=lodcolumn))],silent = T)\n",
    "        if (class(qtl_intervals[[i]])==\"try-error\") {\n",
    "          qtl_intervals[[i]] = NULL\n",
    "        } else {\n",
    "          nn = sapply(as.character(seqnames(qtl_intervals[[i]])),function(i){\n",
    "            paste(substr(i,1,3),as.roman(substr(i,4,5)),sep=\"\")\n",
    "          })\n",
    "          qtl_intervals[[i]] = renameSeqlevels(qtl_intervals[[i]],nn)\n",
    "          qtl_intervals[[i]] = keepSeqlevels(qtl_intervals[[i]],unique(nn))\n",
    "          qtl_intervals[[i]] = range(qtl_intervals[[i]])\n",
    "        }\n",
    "      }\n",
    "    }\n",
    "    if (length(qtl_intervals) > 1) {\n",
    "        qtl_df = do.call(rbind,qtl_intervals)\n",
    "    } else {\n",
    "        qtl_df = as.data.frame(qtl_intervals[[1]])\n",
    "    }\n",
    "    qtl_df = cbind(metabolite = m, qtl_df)\n",
    "    })\n",
    "    if (class(o)!=\"try-error\") {\n",
    "        return(o)\n",
    "    } else {\n",
    "        return(NULL)\n",
    "    }\n",
    "}))"
   ]
  },
  {
   "cell_type": "code",
   "execution_count": 171,
   "metadata": {
    "collapsed": false
   },
   "outputs": [
    {
     "name": "stdout",
     "output_type": "stream",
     "text": [
      "A QTL is identified for 10 metabolites out of 16 with a difference between parental strains"
     ]
    }
   ],
   "source": [
    "cat(\"A QTL is identified for\", sum(qtls_norm$metabolite %in% common_m), \n",
    "    \"metabolites out of\", sum(parent_diff_anova$anova_BH <= 0.05), \n",
    "    \"with a difference between parental strains\")"
   ]
  },
  {
   "cell_type": "markdown",
   "metadata": {},
   "source": [
    "### Transgressive segregation\n",
    "\n",
    "Range of phenotype in the segregants significantly exceeds that spanned by the parent strains\n",
    "\n",
    "*Calculated according to [Brem et al 2005](http://www.pnas.org/content/102/5/1572)*\n",
    "\n",
    "\"Transgressive Test. We defined transgressive segregation in terms of the pooled standard deviation, σ (28), of both parents. Given a cutoff, d, we tabulated for each transcript the number, j, of segregants whose expression level lay at least dσ higher than the mean expression level of the higher parent or dσ lower than the mean expression level of the lower parent. To determine significance, for each transcript we combined all BY, RM, and segregant phenotype values, then reassigned values to null parents and null segregants at random from this pool and tabulated j in each such null transcript. The total number of such null traits with j greater than a given threshold j 0 represented the genome-wide false positive count at j 0. The FDR was computed as the ratio between the estimated false positive count at j 0 and the number of real transcripts with j > j 0. Results were averaged over 10 permutations. The FDR = 0.05 cutoff corresponded to j = 58 segregants for d = 1.0, j = 35 segregants for d = 1.5, j = 21 segregants for d = 2.0, j = 13 segregants for d = 2.5, and j = 8 segregants for d = 3.0. Simulations, described in Supporting Text, indicated that the test with d = 2.0 gave approximately maximal power under a range of transgressive models, as shown in Fig. 5, which is published as supporting information on the PNAS web site; results from real data in the text were obtained with this test. For power results given in the text, we ran 10 simulations of additive models for each of n = 2, 4, 6, and 8 using the heritability-based approach as above, except that at half the loci, the “high” allele conferred a decrease in expression instead of an increase.\""
   ]
  },
  {
   "cell_type": "code",
   "execution_count": 178,
   "metadata": {
    "collapsed": false
   },
   "outputs": [
    {
     "data": {
      "text/html": [
       "<table>\n",
       "<thead><tr><th></th><th scope=col>strain</th><th scope=col>parent</th><th scope=col>time</th><th scope=col>metabolite</th><th scope=col>endo_quant</th><th scope=col>endo_quant_log</th><th scope=col>exo_quant</th><th scope=col>exo_quant_log</th><th scope=col>cellconc_1.ml</th><th scope=col>biovolume_ul.ml</th><th scope=col>singlecellvol_fl</th><th scope=col>endo_quant_log_normalized</th><th scope=col>exo_quant_log_normalized</th><th scope=col>endo_quant_rel</th><th scope=col>exo_quant_rel</th><th scope=col>endo_rate</th><th scope=col>exo_rate</th></tr></thead>\n",
       "<tbody>\n",
       "\t<tr><th scope=row>1</th><td>S1</td><td>S288c</td><td>16</td><td>CIT</td><td>3844.5</td><td>11.90858</td><td>142.43</td><td>7.154109</td><td>13763600</td><td>0.794721</td><td>57.74</td><td>12.2062</td><td>7.049826</td><td>1</td><td>1</td><td>NA</td><td>NA</td></tr>\n",
       "\t<tr><th scope=row>2</th><td>S1</td><td>S288c</td><td>17</td><td>CIT</td><td>2575.07</td><td>11.3304</td><td>144.88</td><td>7.178715</td><td>20412000</td><td>1.128718</td><td>55.3</td><td>11.69755</td><td>7.075077</td><td>0.9583284</td><td>1.003582</td><td>-0.5086517</td><td>0.02525106</td></tr>\n",
       "\t<tr><th scope=row>3</th><td>S1</td><td>S288c</td><td>18</td><td>CIT</td><td>2579.87</td><td>11.33308</td><td>139.83</td><td>7.12753</td><td>33698000</td><td>1.680631</td><td>49.87</td><td>11.521</td><td>6.951486</td><td>0.9438643</td><td>0.9860507</td><td>-0.1765525</td><td>-0.123591</td></tr>\n",
       "\t<tr><th scope=row>4</th><td>S1</td><td>S288c</td><td>19</td><td>CIT</td><td>2153.68</td><td>11.07259</td><td>151.57</td><td>7.24384</td><td>47319300</td><td>2.299066</td><td>48.59</td><td>11.28718</td><td>7.156562</td><td>0.9247086</td><td>1.01514</td><td>-0.2338181</td><td>0.2050763</td></tr>\n",
       "\t<tr><th scope=row>5</th><td>S1</td><td>S288c</td><td>20</td><td>CIT</td><td>1609.98</td><td>10.65283</td><td>142.05</td><td>7.150255</td><td>72192000</td><td>3.173397</td><td>43.96</td><td>10.84166</td><td>7.475629</td><td>0.8882089</td><td>1.060399</td><td>-0.4455226</td><td>0.3190664</td></tr>\n",
       "\t<tr><th scope=row>6</th><td>S2</td><td>S288c</td><td>16</td><td>CIT</td><td>3584.21</td><td>11.80744</td><td>143.05</td><td>7.160376</td><td>13303800</td><td>0.7479802</td><td>56.22</td><td>11.88108</td><td>7.04624</td><td>1</td><td>1</td><td>NA</td><td>NA</td></tr>\n",
       "</tbody>\n",
       "</table>\n"
      ],
      "text/latex": [
       "\\begin{tabular}{r|lllllllllllllllll}\n",
       "  & strain & parent & time & metabolite & endo_quant & endo_quant_log & exo_quant & exo_quant_log & cellconc_1.ml & biovolume_ul.ml & singlecellvol_fl & endo_quant_log_normalized & exo_quant_log_normalized & endo_quant_rel & exo_quant_rel & endo_rate & exo_rate\\\\\n",
       "\\hline\n",
       "\t1 & S1 & S288c & 16 & CIT & 3844.5 & 11.90858 & 142.43 & 7.154109 & 13763600 & 0.794721 & 57.74 & 12.2062 & 7.049826 & 1 & 1 & NA & NA\\\\\n",
       "\t2 & S1 & S288c & 17 & CIT & 2575.07 & 11.3304 & 144.88 & 7.178715 & 20412000 & 1.128718 & 55.3 & 11.69755 & 7.075077 & 0.9583284 & 1.003582 & -0.5086517 & 0.02525106\\\\\n",
       "\t3 & S1 & S288c & 18 & CIT & 2579.87 & 11.33308 & 139.83 & 7.12753 & 33698000 & 1.680631 & 49.87 & 11.521 & 6.951486 & 0.9438643 & 0.9860507 & -0.1765525 & -0.123591\\\\\n",
       "\t4 & S1 & S288c & 19 & CIT & 2153.68 & 11.07259 & 151.57 & 7.24384 & 47319300 & 2.299066 & 48.59 & 11.28718 & 7.156562 & 0.9247086 & 1.01514 & -0.2338181 & 0.2050763\\\\\n",
       "\t5 & S1 & S288c & 20 & CIT & 1609.98 & 10.65283 & 142.05 & 7.150255 & 72192000 & 3.173397 & 43.96 & 10.84166 & 7.475629 & 0.8882089 & 1.060399 & -0.4455226 & 0.3190664\\\\\n",
       "\t6 & S2 & S288c & 16 & CIT & 3584.21 & 11.80744 & 143.05 & 7.160376 & 13303800 & 0.7479802 & 56.22 & 11.88108 & 7.04624 & 1 & 1 & NA & NA\\\\\n",
       "\\end{tabular}\n"
      ],
      "text/plain": [
       "Source: local data frame [6 x 17]\n",
       "Groups: metabolite [1]\n",
       "\n",
       "  strain parent   time metabolite endo_quant endo_quant_log exo_quant\n",
       "  (fctr) (fctr) (fctr)     (fctr)      (dbl)          (dbl)     (dbl)\n",
       "1     S1  S288c     16        CIT    3844.50       11.90858    142.43\n",
       "2     S1  S288c     17        CIT    2575.07       11.33040    144.88\n",
       "3     S1  S288c     18        CIT    2579.87       11.33308    139.83\n",
       "4     S1  S288c     19        CIT    2153.68       11.07259    151.57\n",
       "5     S1  S288c     20        CIT    1609.98       10.65283    142.05\n",
       "6     S2  S288c     16        CIT    3584.21       11.80744    143.05\n",
       "Variables not shown: exo_quant_log (dbl), cellconc_1.ml (dbl), biovolume_ul.ml\n",
       "  (dbl), singlecellvol_fl (dbl), endo_quant_log_normalized (dbl),\n",
       "  exo_quant_log_normalized (dbl), endo_quant_rel (dbl), exo_quant_rel (dbl),\n",
       "  endo_rate (dbl), exo_rate (dbl)"
      ]
     },
     "execution_count": 178,
     "metadata": {},
     "output_type": "execute_result"
    }
   ],
   "source": [
    "head(parents)"
   ]
  },
  {
   "cell_type": "code",
   "execution_count": 177,
   "metadata": {
    "collapsed": false
   },
   "outputs": [
    {
     "data": {
      "text/html": [
       "<table>\n",
       "<thead><tr><th></th><th scope=col>strain</th><th scope=col>metabolite</th><th scope=col>replicate</th><th scope=col>time_format</th><th scope=col>time</th><th scope=col>value</th><th scope=col>value.log2</th><th scope=col>relative.log2</th><th scope=col>derivative.log2</th><th scope=col>cellconc</th><th scope=col>biovol</th><th scope=col>singlecellvol</th><th scope=col>peakarea</th><th scope=col>batch</th></tr></thead>\n",
       "<tbody>\n",
       "\t<tr><th scope=row>1</th><td>01B</td><td>AKG</td><td>1</td><td>relative</td><td>1</td><td>64.62115</td><td>6.036089</td><td>1</td><td>NA</td><td>NA</td><td>NA</td><td>NA</td><td>NA</td><td>1</td></tr>\n",
       "\t<tr><th scope=row>2</th><td>01B</td><td>AKG</td><td>1</td><td>relative</td><td>2</td><td>75.42941</td><td>6.256056</td><td>1.036442</td><td>0.219967</td><td>NA</td><td>NA</td><td>NA</td><td>NA</td><td>1</td></tr>\n",
       "\t<tr><th scope=row>3</th><td>01B</td><td>AKG</td><td>1</td><td>relative</td><td>3</td><td>46.9538</td><td>5.583573</td><td>0.9250316</td><td>-0.6724827</td><td>NA</td><td>NA</td><td>NA</td><td>NA</td><td>1</td></tr>\n",
       "\t<tr><th scope=row>4</th><td>01B</td><td>AKG</td><td>1</td><td>relative</td><td>4</td><td>57.4146</td><td>5.868257</td><td>0.9721952</td><td>0.2846837</td><td>NA</td><td>NA</td><td>NA</td><td>NA</td><td>1</td></tr>\n",
       "\t<tr><th scope=row>5</th><td>01B</td><td>AKG</td><td>1</td><td>absolute</td><td>16</td><td>NA</td><td>NA</td><td>NA</td><td>NA</td><td>5684000</td><td>0.4440871</td><td>78.12934</td><td>9410409</td><td>1</td></tr>\n",
       "\t<tr><th scope=row>6</th><td>01B</td><td>AKG</td><td>1</td><td>absolute</td><td>17</td><td>64.62115</td><td>6.036089</td><td>1</td><td>NA</td><td>11097400</td><td>0.7791921</td><td>70.21393</td><td>10713460</td><td>1</td></tr>\n",
       "</tbody>\n",
       "</table>\n"
      ],
      "text/latex": [
       "\\begin{tabular}{r|llllllllllllll}\n",
       "  & strain & metabolite & replicate & time_format & time & value & value.log2 & relative.log2 & derivative.log2 & cellconc & biovol & singlecellvol & peakarea & batch\\\\\n",
       "\\hline\n",
       "\t1 & 01B & AKG & 1 & relative & 1 & 64.62115 & 6.036089 & 1 & NA & NA & NA & NA & NA & 1\\\\\n",
       "\t2 & 01B & AKG & 1 & relative & 2 & 75.42941 & 6.256056 & 1.036442 & 0.219967 & NA & NA & NA & NA & 1\\\\\n",
       "\t3 & 01B & AKG & 1 & relative & 3 & 46.9538 & 5.583573 & 0.9250316 & -0.6724827 & NA & NA & NA & NA & 1\\\\\n",
       "\t4 & 01B & AKG & 1 & relative & 4 & 57.4146 & 5.868257 & 0.9721952 & 0.2846837 & NA & NA & NA & NA & 1\\\\\n",
       "\t5 & 01B & AKG & 1 & absolute & 16 & NA & NA & NA & NA & 5684000 & 0.4440871 & 78.12934 & 9410409 & 1\\\\\n",
       "\t6 & 01B & AKG & 1 & absolute & 17 & 64.62115 & 6.036089 & 1 & NA & 11097400 & 0.7791921 & 70.21393 & 10713460 & 1\\\\\n",
       "\\end{tabular}\n"
      ],
      "text/plain": [
       "Source: local data frame [6 x 14]\n",
       "\n",
       "  strain metabolite replicate time_format  time    value value.log2\n",
       "   (chr)     (fctr)    (fctr)      (fctr) (dbl)    (dbl)      (dbl)\n",
       "1    01B        AKG         1    relative     1 64.62115   6.036089\n",
       "2    01B        AKG         1    relative     2 75.42941   6.256056\n",
       "3    01B        AKG         1    relative     3 46.95380   5.583573\n",
       "4    01B        AKG         1    relative     4 57.41460   5.868257\n",
       "5    01B        AKG         1    absolute    16       NA         NA\n",
       "6    01B        AKG         1    absolute    17 64.62115   6.036089\n",
       "Variables not shown: relative.log2 (dbl), derivative.log2 (dbl), cellconc\n",
       "  (dbl), biovol (dbl), singlecellvol (dbl), peakarea (dbl), batch (fctr)"
      ]
     },
     "execution_count": 177,
     "metadata": {},
     "output_type": "execute_result"
    }
   ],
   "source": [
    "head(endometabolite)"
   ]
  },
  {
   "cell_type": "code",
   "execution_count": 212,
   "metadata": {
    "collapsed": false
   },
   "outputs": [],
   "source": [
    "\n",
    "thismetabolite = \"AKG\"\n",
    "thistime = 2\n",
    ". =  endometabolite %>% filter(time_format==\"relative\",metabolite==thismetabolite, time==thistime)\n",
    "slevels =  group_by(., strain) %>% do({data.frame(mean = mean(.$value.log2, na.rm = T))})\n",
    "#print(slevels)\n",
    "psum = parents %>% filter(metabolite == thismetabolite, time == thistime + 15) %>% \n",
    "    group_by(parent) %>% \n",
    "    do({data.frame(mean = mean(.$endo_quant_log, na.rm = T),sd = sd(.$endo_quant_log, na.rm = T))})\n",
    "d = 2\n",
    "hm = which(psum$mean == max(psum$mean))\n",
    "lm = which(psum$mean == min(psum$mean))\n",
    "#print(psum$mean[hm])\n",
    "sh = sum(slevels$mean >= (psum$mean[hm] + d*psum$sd[hm]), na.rm = T)\n",
    "sl = sum(slevels$mean <= (psum$mean[lm] - d*psum$sd[lm]), na.rm = T)"
   ]
  },
  {
   "cell_type": "code",
   "execution_count": 220,
   "metadata": {
    "collapsed": false
   },
   "outputs": [
    {
     "data": {
      "text/html": [
       "7.03582441042213"
      ],
      "text/latex": [
       "7.03582441042213"
      ],
      "text/markdown": [
       "7.03582441042213"
      ],
      "text/plain": [
       "[1] 7.035824"
      ]
     },
     "execution_count": 220,
     "metadata": {},
     "output_type": "execute_result"
    },
    {
     "data": {
      "text/html": [
       "5.18942707806807"
      ],
      "text/latex": [
       "5.18942707806807"
      ],
      "text/markdown": [
       "5.18942707806807"
      ],
      "text/plain": [
       "[1] 5.189427"
      ]
     },
     "execution_count": 220,
     "metadata": {},
     "output_type": "execute_result"
    },
    {
     "data": {
      "text/html": [
       "0"
      ],
      "text/latex": [
       "0"
      ],
      "text/markdown": [
       "0"
      ],
      "text/plain": [
       "[1] 0"
      ]
     },
     "execution_count": 220,
     "metadata": {},
     "output_type": "execute_result"
    },
    {
     "data": {
      "text/html": [
       "65"
      ],
      "text/latex": [
       "65"
      ],
      "text/markdown": [
       "65"
      ],
      "text/plain": [
       "[1] 65"
      ]
     },
     "execution_count": 220,
     "metadata": {},
     "output_type": "execute_result"
    },
    {
     "data": {
      "text/html": [
       "<table>\n",
       "<thead><tr><th></th><th scope=col>strain</th><th scope=col>mean</th></tr></thead>\n",
       "<tbody>\n",
       "\t<tr><th scope=row>1</th><td>01B</td><td>6.116058</td></tr>\n",
       "\t<tr><th scope=row>2</th><td>01C</td><td>4.275285</td></tr>\n",
       "\t<tr><th scope=row>3</th><td>01D</td><td>5.069528</td></tr>\n",
       "\t<tr><th scope=row>4</th><td>02C</td><td>5.353073</td></tr>\n",
       "\t<tr><th scope=row>5</th><td>02D</td><td>4.437408</td></tr>\n",
       "\t<tr><th scope=row>6</th><td>03A</td><td>3.297931</td></tr>\n",
       "\t<tr><th scope=row>7</th><td>03C</td><td>5.31716</td></tr>\n",
       "\t<tr><th scope=row>8</th><td>03D</td><td>4.968925</td></tr>\n",
       "\t<tr><th scope=row>9</th><td>04B</td><td>4.435724</td></tr>\n",
       "\t<tr><th scope=row>10</th><td>04C</td><td>3.987236</td></tr>\n",
       "\t<tr><th scope=row>11</th><td>05C</td><td>5.705114</td></tr>\n",
       "\t<tr><th scope=row>12</th><td>05D</td><td>5.810161</td></tr>\n",
       "\t<tr><th scope=row>13</th><td>06D</td><td>4.595764</td></tr>\n",
       "\t<tr><th scope=row>14</th><td>07A</td><td>4.160369</td></tr>\n",
       "\t<tr><th scope=row>15</th><td>07B</td><td>4.724039</td></tr>\n",
       "\t<tr><th scope=row>16</th><td>07C</td><td>4.54105</td></tr>\n",
       "\t<tr><th scope=row>17</th><td>07D</td><td>5.81496</td></tr>\n",
       "\t<tr><th scope=row>18</th><td>08B</td><td>3.794781</td></tr>\n",
       "\t<tr><th scope=row>19</th><td>08C</td><td>5.659632</td></tr>\n",
       "\t<tr><th scope=row>20</th><td>09A</td><td>5.510078</td></tr>\n",
       "\t<tr><th scope=row>21</th><td>09C</td><td>5.348324</td></tr>\n",
       "\t<tr><th scope=row>22</th><td>10A</td><td>4.885692</td></tr>\n",
       "\t<tr><th scope=row>23</th><td>10C</td><td>4.884371</td></tr>\n",
       "\t<tr><th scope=row>24</th><td>10D</td><td>5.228328</td></tr>\n",
       "\t<tr><th scope=row>25</th><td>11A</td><td>3.507336</td></tr>\n",
       "\t<tr><th scope=row>26</th><td>11C</td><td>4.835126</td></tr>\n",
       "\t<tr><th scope=row>27</th><td>12A</td><td>5.929121</td></tr>\n",
       "\t<tr><th scope=row>28</th><td>12C</td><td>4.262277</td></tr>\n",
       "\t<tr><th scope=row>29</th><td>12D</td><td>3.684444</td></tr>\n",
       "\t<tr><th scope=row>30</th><td>13A</td><td>3.857567</td></tr>\n",
       "\t<tr><th scope=row>31</th><td>13B</td><td>3.506212</td></tr>\n",
       "\t<tr><th scope=row>32</th><td>13D</td><td>5.39935</td></tr>\n",
       "\t<tr><th scope=row>33</th><td>14A</td><td>4.391188</td></tr>\n",
       "\t<tr><th scope=row>34</th><td>14D</td><td>4.95814</td></tr>\n",
       "\t<tr><th scope=row>35</th><td>15A</td><td>NaN</td></tr>\n",
       "\t<tr><th scope=row>36</th><td>15B</td><td>5.294768</td></tr>\n",
       "\t<tr><th scope=row>37</th><td>16A</td><td>5.450337</td></tr>\n",
       "\t<tr><th scope=row>38</th><td>16B</td><td>4.623508</td></tr>\n",
       "\t<tr><th scope=row>39</th><td>17A</td><td>5.406089</td></tr>\n",
       "\t<tr><th scope=row>40</th><td>17B</td><td>5.606529</td></tr>\n",
       "\t<tr><th scope=row>41</th><td>18A</td><td>5.212905</td></tr>\n",
       "\t<tr><th scope=row>42</th><td>18C</td><td>5.631491</td></tr>\n",
       "\t<tr><th scope=row>43</th><td>19A</td><td>5.571373</td></tr>\n",
       "\t<tr><th scope=row>44</th><td>19B</td><td>4.717354</td></tr>\n",
       "\t<tr><th scope=row>45</th><td>19C</td><td>5.965351</td></tr>\n",
       "\t<tr><th scope=row>46</th><td>20B</td><td>6.547669</td></tr>\n",
       "\t<tr><th scope=row>47</th><td>20C</td><td>4.328808</td></tr>\n",
       "\t<tr><th scope=row>48</th><td>20D</td><td>3.079218</td></tr>\n",
       "\t<tr><th scope=row>49</th><td>21A</td><td>3.676709</td></tr>\n",
       "\t<tr><th scope=row>50</th><td>21C</td><td>6.079072</td></tr>\n",
       "\t<tr><th scope=row>51</th><td>21D</td><td>3.944958</td></tr>\n",
       "\t<tr><th scope=row>52</th><td>22A</td><td>4.566037</td></tr>\n",
       "\t<tr><th scope=row>53</th><td>22D</td><td>5.254031</td></tr>\n",
       "\t<tr><th scope=row>54</th><td>23A</td><td>5.773419</td></tr>\n",
       "\t<tr><th scope=row>55</th><td>24A</td><td>4.060501</td></tr>\n",
       "\t<tr><th scope=row>56</th><td>24B</td><td>3.471808</td></tr>\n",
       "\t<tr><th scope=row>57</th><td>24C</td><td>3.617356</td></tr>\n",
       "\t<tr><th scope=row>58</th><td>24D</td><td>3.275281</td></tr>\n",
       "\t<tr><th scope=row>59</th><td>25A</td><td>5.424064</td></tr>\n",
       "\t<tr><th scope=row>60</th><td>25B</td><td>5.517561</td></tr>\n",
       "\t<tr><th scope=row>61</th><td>25D</td><td>3.66802</td></tr>\n",
       "\t<tr><th scope=row>62</th><td>26A</td><td>3.963491</td></tr>\n",
       "\t<tr><th scope=row>63</th><td>26C</td><td>NaN</td></tr>\n",
       "\t<tr><th scope=row>64</th><td>26D</td><td>4.349349</td></tr>\n",
       "\t<tr><th scope=row>65</th><td>27A</td><td>4.213023</td></tr>\n",
       "\t<tr><th scope=row>66</th><td>27B</td><td>5.761913</td></tr>\n",
       "\t<tr><th scope=row>67</th><td>27D</td><td>4.379241</td></tr>\n",
       "\t<tr><th scope=row>68</th><td>28A</td><td>4.418905</td></tr>\n",
       "\t<tr><th scope=row>69</th><td>28B</td><td>3.895573</td></tr>\n",
       "\t<tr><th scope=row>70</th><td>28C</td><td>3.828664</td></tr>\n",
       "\t<tr><th scope=row>71</th><td>28D</td><td>2.463697</td></tr>\n",
       "\t<tr><th scope=row>72</th><td>29B</td><td>3.764828</td></tr>\n",
       "\t<tr><th scope=row>73</th><td>29C</td><td>NaN</td></tr>\n",
       "\t<tr><th scope=row>74</th><td>29D</td><td>4.206827</td></tr>\n",
       "\t<tr><th scope=row>75</th><td>30A</td><td>5.567645</td></tr>\n",
       "\t<tr><th scope=row>76</th><td>30C</td><td>5.044645</td></tr>\n",
       "\t<tr><th scope=row>77</th><td>30D</td><td>4.423801</td></tr>\n",
       "\t<tr><th scope=row>78</th><td>31B</td><td>4.433017</td></tr>\n",
       "\t<tr><th scope=row>79</th><td>31C</td><td>4.923091</td></tr>\n",
       "\t<tr><th scope=row>80</th><td>31D</td><td>3.648597</td></tr>\n",
       "\t<tr><th scope=row>81</th><td>32D</td><td>5.374841</td></tr>\n",
       "\t<tr><th scope=row>82</th><td>33A</td><td>5.053354</td></tr>\n",
       "\t<tr><th scope=row>83</th><td>33B</td><td>4.788171</td></tr>\n",
       "\t<tr><th scope=row>84</th><td>33C</td><td>3.645963</td></tr>\n",
       "\t<tr><th scope=row>85</th><td>33D</td><td>4.842558</td></tr>\n",
       "\t<tr><th scope=row>86</th><td>34A</td><td>4.459366</td></tr>\n",
       "\t<tr><th scope=row>87</th><td>34B</td><td>3.651481</td></tr>\n",
       "\t<tr><th scope=row>88</th><td>34D</td><td>5.589717</td></tr>\n",
       "\t<tr><th scope=row>89</th><td>35B</td><td>4.81085</td></tr>\n",
       "\t<tr><th scope=row>90</th><td>35C</td><td>4.332693</td></tr>\n",
       "\t<tr><th scope=row>91</th><td>36A</td><td>5.65155</td></tr>\n",
       "\t<tr><th scope=row>92</th><td>36B</td><td>4.633243</td></tr>\n",
       "\t<tr><th scope=row>93</th><td>37B</td><td>4.722159</td></tr>\n",
       "\t<tr><th scope=row>94</th><td>37C</td><td>5.597972</td></tr>\n",
       "\t<tr><th scope=row>95</th><td>37D</td><td>4.564228</td></tr>\n",
       "\t<tr><th scope=row>96</th><td>38C</td><td>6.050178</td></tr>\n",
       "\t<tr><th scope=row>97</th><td>38D</td><td>4.990949</td></tr>\n",
       "\t<tr><th scope=row>98</th><td>39A</td><td>5.242746</td></tr>\n",
       "\t<tr><th scope=row>99</th><td>39D</td><td>6.353621</td></tr>\n",
       "\t<tr><th scope=row>100</th><td>40A</td><td>5.596741</td></tr>\n",
       "\t<tr><th scope=row>101</th><td>40C</td><td>4.599358</td></tr>\n",
       "\t<tr><th scope=row>102</th><td>41B</td><td>5.081365</td></tr>\n",
       "\t<tr><th scope=row>103</th><td>44B</td><td>4.329684</td></tr>\n",
       "\t<tr><th scope=row>104</th><td>46B</td><td>2.285073</td></tr>\n",
       "</tbody>\n",
       "</table>\n"
      ],
      "text/latex": [
       "\\begin{tabular}{r|ll}\n",
       "  & strain & mean\\\\\n",
       "\\hline\n",
       "\t1 & 01B & 6.116058\\\\\n",
       "\t2 & 01C & 4.275285\\\\\n",
       "\t3 & 01D & 5.069528\\\\\n",
       "\t4 & 02C & 5.353073\\\\\n",
       "\t5 & 02D & 4.437408\\\\\n",
       "\t6 & 03A & 3.297931\\\\\n",
       "\t7 & 03C & 5.31716\\\\\n",
       "\t8 & 03D & 4.968925\\\\\n",
       "\t9 & 04B & 4.435724\\\\\n",
       "\t10 & 04C & 3.987236\\\\\n",
       "\t11 & 05C & 5.705114\\\\\n",
       "\t12 & 05D & 5.810161\\\\\n",
       "\t13 & 06D & 4.595764\\\\\n",
       "\t14 & 07A & 4.160369\\\\\n",
       "\t15 & 07B & 4.724039\\\\\n",
       "\t16 & 07C & 4.54105\\\\\n",
       "\t17 & 07D & 5.81496\\\\\n",
       "\t18 & 08B & 3.794781\\\\\n",
       "\t19 & 08C & 5.659632\\\\\n",
       "\t20 & 09A & 5.510078\\\\\n",
       "\t21 & 09C & 5.348324\\\\\n",
       "\t22 & 10A & 4.885692\\\\\n",
       "\t23 & 10C & 4.884371\\\\\n",
       "\t24 & 10D & 5.228328\\\\\n",
       "\t25 & 11A & 3.507336\\\\\n",
       "\t26 & 11C & 4.835126\\\\\n",
       "\t27 & 12A & 5.929121\\\\\n",
       "\t28 & 12C & 4.262277\\\\\n",
       "\t29 & 12D & 3.684444\\\\\n",
       "\t30 & 13A & 3.857567\\\\\n",
       "\t31 & 13B & 3.506212\\\\\n",
       "\t32 & 13D & 5.39935\\\\\n",
       "\t33 & 14A & 4.391188\\\\\n",
       "\t34 & 14D & 4.95814\\\\\n",
       "\t35 & 15A & NaN\\\\\n",
       "\t36 & 15B & 5.294768\\\\\n",
       "\t37 & 16A & 5.450337\\\\\n",
       "\t38 & 16B & 4.623508\\\\\n",
       "\t39 & 17A & 5.406089\\\\\n",
       "\t40 & 17B & 5.606529\\\\\n",
       "\t41 & 18A & 5.212905\\\\\n",
       "\t42 & 18C & 5.631491\\\\\n",
       "\t43 & 19A & 5.571373\\\\\n",
       "\t44 & 19B & 4.717354\\\\\n",
       "\t45 & 19C & 5.965351\\\\\n",
       "\t46 & 20B & 6.547669\\\\\n",
       "\t47 & 20C & 4.328808\\\\\n",
       "\t48 & 20D & 3.079218\\\\\n",
       "\t49 & 21A & 3.676709\\\\\n",
       "\t50 & 21C & 6.079072\\\\\n",
       "\t51 & 21D & 3.944958\\\\\n",
       "\t52 & 22A & 4.566037\\\\\n",
       "\t53 & 22D & 5.254031\\\\\n",
       "\t54 & 23A & 5.773419\\\\\n",
       "\t55 & 24A & 4.060501\\\\\n",
       "\t56 & 24B & 3.471808\\\\\n",
       "\t57 & 24C & 3.617356\\\\\n",
       "\t58 & 24D & 3.275281\\\\\n",
       "\t59 & 25A & 5.424064\\\\\n",
       "\t60 & 25B & 5.517561\\\\\n",
       "\t61 & 25D & 3.66802\\\\\n",
       "\t62 & 26A & 3.963491\\\\\n",
       "\t63 & 26C & NaN\\\\\n",
       "\t64 & 26D & 4.349349\\\\\n",
       "\t65 & 27A & 4.213023\\\\\n",
       "\t66 & 27B & 5.761913\\\\\n",
       "\t67 & 27D & 4.379241\\\\\n",
       "\t68 & 28A & 4.418905\\\\\n",
       "\t69 & 28B & 3.895573\\\\\n",
       "\t70 & 28C & 3.828664\\\\\n",
       "\t71 & 28D & 2.463697\\\\\n",
       "\t72 & 29B & 3.764828\\\\\n",
       "\t73 & 29C & NaN\\\\\n",
       "\t74 & 29D & 4.206827\\\\\n",
       "\t75 & 30A & 5.567645\\\\\n",
       "\t76 & 30C & 5.044645\\\\\n",
       "\t77 & 30D & 4.423801\\\\\n",
       "\t78 & 31B & 4.433017\\\\\n",
       "\t79 & 31C & 4.923091\\\\\n",
       "\t80 & 31D & 3.648597\\\\\n",
       "\t81 & 32D & 5.374841\\\\\n",
       "\t82 & 33A & 5.053354\\\\\n",
       "\t83 & 33B & 4.788171\\\\\n",
       "\t84 & 33C & 3.645963\\\\\n",
       "\t85 & 33D & 4.842558\\\\\n",
       "\t86 & 34A & 4.459366\\\\\n",
       "\t87 & 34B & 3.651481\\\\\n",
       "\t88 & 34D & 5.589717\\\\\n",
       "\t89 & 35B & 4.81085\\\\\n",
       "\t90 & 35C & 4.332693\\\\\n",
       "\t91 & 36A & 5.65155\\\\\n",
       "\t92 & 36B & 4.633243\\\\\n",
       "\t93 & 37B & 4.722159\\\\\n",
       "\t94 & 37C & 5.597972\\\\\n",
       "\t95 & 37D & 4.564228\\\\\n",
       "\t96 & 38C & 6.050178\\\\\n",
       "\t97 & 38D & 4.990949\\\\\n",
       "\t98 & 39A & 5.242746\\\\\n",
       "\t99 & 39D & 6.353621\\\\\n",
       "\t100 & 40A & 5.596741\\\\\n",
       "\t101 & 40C & 4.599358\\\\\n",
       "\t102 & 41B & 5.081365\\\\\n",
       "\t103 & 44B & 4.329684\\\\\n",
       "\t104 & 46B & 2.285073\\\\\n",
       "\\end{tabular}\n"
      ],
      "text/plain": [
       "Source: local data frame [104 x 2]\n",
       "Groups: strain [104]\n",
       "\n",
       "   strain     mean\n",
       "    (chr)    (dbl)\n",
       "1     01B 6.116058\n",
       "2     01C 4.275285\n",
       "3     01D 5.069528\n",
       "4     02C 5.353073\n",
       "5     02D 4.437408\n",
       "6     03A 3.297931\n",
       "7     03C 5.317160\n",
       "8     03D 4.968925\n",
       "9     04B 4.435724\n",
       "10    04C 3.987236\n",
       "..    ...      ..."
      ]
     },
     "execution_count": 220,
     "metadata": {},
     "output_type": "execute_result"
    }
   ],
   "source": [
    "(psum$mean[hm] + d*psum$sd[hm])\n",
    "(psum$mean[lm] - d*psum$sd[lm])\n",
    "sh\n",
    "sl\n",
    "slevels"
   ]
  },
  {
   "cell_type": "code",
   "execution_count": 221,
   "metadata": {
    "collapsed": false
   },
   "outputs": [],
   "source": [
    "# average the replicates\n",
    "tseg = endometabolite %>% filter(time_format==\"relative\") %>% group_by(metabolite, time) %>% do({\n",
    "    thismetabolite = levels(.$metabolite)[.$metabolite[1]]\n",
    "    thistime = .$time[1]\n",
    "    slevels =  group_by(., strain) %>% do({data.frame(mean = mean(.$value.log2, na.rm = T))})\n",
    "    #print(slevels)\n",
    "    psum = parents %>% filter(metabolite == thismetabolite, time == thistime + 15) %>% \n",
    "        group_by(parent) %>% \n",
    "        do({data.frame(mean = mean(.$endo_quant_log, na.rm = T),sd = sd(.$endo_quant_log, na.rm = T))})\n",
    "    d = 2\n",
    "    hm = which(psum$mean == max(psum$mean))\n",
    "    lm = which(psum$mean == min(psum$mean))\n",
    "    #print(psum$mean[hm])\n",
    "    sh = sum(slevels$mean >= (psum$mean[hm] + d*psum$sd[hm]), na.rm = T)\n",
    "    sl = sum(slevels$mean <= (psum$mean[lm] - d*psum$sd[lm]), na.rm = T)\n",
    "    return(data.frame(sh, sl))    \n",
    "})"
   ]
  },
  {
   "cell_type": "code",
   "execution_count": 222,
   "metadata": {
    "collapsed": false
   },
   "outputs": [
    {
     "data": {
      "text/html": [
       "<table>\n",
       "<thead><tr><th></th><th scope=col>metabolite</th><th scope=col>time</th><th scope=col>sh</th><th scope=col>sl</th></tr></thead>\n",
       "<tbody>\n",
       "\t<tr><th scope=row>1</th><td>AKG</td><td>1</td><td>11</td><td>12</td></tr>\n",
       "\t<tr><th scope=row>2</th><td>AKG</td><td>2</td><td>0</td><td>65</td></tr>\n",
       "\t<tr><th scope=row>3</th><td>AKG</td><td>3</td><td>0</td><td>0</td></tr>\n",
       "\t<tr><th scope=row>4</th><td>AKG</td><td>4</td><td>0</td><td>75</td></tr>\n",
       "\t<tr><th scope=row>5</th><td>CAN</td><td>1</td><td>28</td><td>12</td></tr>\n",
       "\t<tr><th scope=row>6</th><td>CAN</td><td>2</td><td>24</td><td>24</td></tr>\n",
       "\t<tr><th scope=row>7</th><td>CAN</td><td>3</td><td>27</td><td>4</td></tr>\n",
       "\t<tr><th scope=row>8</th><td>CAN</td><td>4</td><td>41</td><td>1</td></tr>\n",
       "\t<tr><th scope=row>9</th><td>CIT</td><td>1</td><td>10</td><td>41</td></tr>\n",
       "\t<tr><th scope=row>10</th><td>CIT</td><td>2</td><td>8</td><td>58</td></tr>\n",
       "\t<tr><th scope=row>11</th><td>CIT</td><td>3</td><td>4</td><td>49</td></tr>\n",
       "\t<tr><th scope=row>12</th><td>CIT</td><td>4</td><td>21</td><td>33</td></tr>\n",
       "\t<tr><th scope=row>13</th><td>GLUC</td><td>1</td><td>0</td><td>0</td></tr>\n",
       "\t<tr><th scope=row>14</th><td>GLUC</td><td>2</td><td>0</td><td>0</td></tr>\n",
       "\t<tr><th scope=row>15</th><td>GLUC</td><td>3</td><td>0</td><td>0</td></tr>\n",
       "\t<tr><th scope=row>16</th><td>GLUC</td><td>4</td><td>0</td><td>0</td></tr>\n",
       "\t<tr><th scope=row>17</th><td>FUM</td><td>1</td><td>0</td><td>15</td></tr>\n",
       "\t<tr><th scope=row>18</th><td>FUM</td><td>2</td><td>1</td><td>85</td></tr>\n",
       "\t<tr><th scope=row>19</th><td>FUM</td><td>3</td><td>1</td><td>43</td></tr>\n",
       "\t<tr><th scope=row>20</th><td>FUM</td><td>4</td><td>0</td><td>22</td></tr>\n",
       "\t<tr><th scope=row>21</th><td>MAL</td><td>1</td><td>0</td><td>55</td></tr>\n",
       "\t<tr><th scope=row>22</th><td>MAL</td><td>2</td><td>0</td><td>100</td></tr>\n",
       "\t<tr><th scope=row>23</th><td>MAL</td><td>3</td><td>0</td><td>99</td></tr>\n",
       "\t<tr><th scope=row>24</th><td>MAL</td><td>4</td><td>0</td><td>75</td></tr>\n",
       "\t<tr><th scope=row>25</th><td>PEP</td><td>1</td><td>0</td><td>0</td></tr>\n",
       "\t<tr><th scope=row>26</th><td>PEP</td><td>2</td><td>0</td><td>0</td></tr>\n",
       "\t<tr><th scope=row>27</th><td>PEP</td><td>3</td><td>0</td><td>0</td></tr>\n",
       "\t<tr><th scope=row>28</th><td>PEP</td><td>4</td><td>0</td><td>0</td></tr>\n",
       "\t<tr><th scope=row>29</th><td>PYR</td><td>1</td><td>0</td><td>75</td></tr>\n",
       "\t<tr><th scope=row>30</th><td>PYR</td><td>2</td><td>0</td><td>66</td></tr>\n",
       "\t<tr><th scope=row>31</th><td>PYR</td><td>3</td><td>0</td><td>64</td></tr>\n",
       "\t<tr><th scope=row>32</th><td>PYR</td><td>4</td><td>0</td><td>46</td></tr>\n",
       "\t<tr><th scope=row>33</th><td>SUC</td><td>1</td><td>3</td><td>0</td></tr>\n",
       "\t<tr><th scope=row>34</th><td>SUC</td><td>2</td><td>27</td><td>44</td></tr>\n",
       "\t<tr><th scope=row>35</th><td>SUC</td><td>3</td><td>38</td><td>27</td></tr>\n",
       "\t<tr><th scope=row>36</th><td>SUC</td><td>4</td><td>37</td><td>9</td></tr>\n",
       "\t<tr><th scope=row>37</th><td>ALA</td><td>1</td><td>0</td><td>47</td></tr>\n",
       "\t<tr><th scope=row>38</th><td>ALA</td><td>2</td><td>0</td><td>49</td></tr>\n",
       "\t<tr><th scope=row>39</th><td>ALA</td><td>3</td><td>0</td><td>49</td></tr>\n",
       "\t<tr><th scope=row>40</th><td>ALA</td><td>4</td><td>3</td><td>64</td></tr>\n",
       "\t<tr><th scope=row>41</th><td>ARG</td><td>1</td><td>2</td><td>65</td></tr>\n",
       "\t<tr><th scope=row>42</th><td>ARG</td><td>2</td><td>0</td><td>71</td></tr>\n",
       "\t<tr><th scope=row>43</th><td>ARG</td><td>3</td><td>0</td><td>72</td></tr>\n",
       "\t<tr><th scope=row>44</th><td>ARG</td><td>4</td><td>3</td><td>70</td></tr>\n",
       "\t<tr><th scope=row>45</th><td>ASN</td><td>1</td><td>0</td><td>35</td></tr>\n",
       "\t<tr><th scope=row>46</th><td>ASN</td><td>2</td><td>0</td><td>81</td></tr>\n",
       "\t<tr><th scope=row>47</th><td>ASN</td><td>3</td><td>0</td><td>38</td></tr>\n",
       "\t<tr><th scope=row>48</th><td>ASN</td><td>4</td><td>2</td><td>29</td></tr>\n",
       "\t<tr><th scope=row>49</th><td>ASP</td><td>1</td><td>1</td><td>45</td></tr>\n",
       "\t<tr><th scope=row>50</th><td>ASP</td><td>2</td><td>0</td><td>88</td></tr>\n",
       "\t<tr><th scope=row>51</th><td>ASP</td><td>3</td><td>2</td><td>77</td></tr>\n",
       "\t<tr><th scope=row>52</th><td>ASP</td><td>4</td><td>4</td><td>49</td></tr>\n",
       "\t<tr><th scope=row>53</th><td>CYS</td><td>1</td><td>0</td><td>34</td></tr>\n",
       "\t<tr><th scope=row>54</th><td>CYS</td><td>2</td><td>0</td><td>39</td></tr>\n",
       "\t<tr><th scope=row>55</th><td>CYS</td><td>3</td><td>1</td><td>7</td></tr>\n",
       "\t<tr><th scope=row>56</th><td>CYS</td><td>4</td><td>0</td><td>6</td></tr>\n",
       "\t<tr><th scope=row>57</th><td>GLN</td><td>1</td><td>0</td><td>89</td></tr>\n",
       "\t<tr><th scope=row>58</th><td>GLN</td><td>2</td><td>0</td><td>101</td></tr>\n",
       "\t<tr><th scope=row>59</th><td>GLN</td><td>3</td><td>0</td><td>103</td></tr>\n",
       "\t<tr><th scope=row>60</th><td>GLN</td><td>4</td><td>0</td><td>100</td></tr>\n",
       "\t<tr><th scope=row>61</th><td>GLU</td><td>1</td><td>0</td><td>0</td></tr>\n",
       "\t<tr><th scope=row>62</th><td>GLU</td><td>2</td><td>0</td><td>0</td></tr>\n",
       "\t<tr><th scope=row>63</th><td>GLU</td><td>3</td><td>0</td><td>0</td></tr>\n",
       "\t<tr><th scope=row>64</th><td>GLU</td><td>4</td><td>0</td><td>0</td></tr>\n",
       "\t<tr><th scope=row>65</th><td>GLY</td><td>1</td><td>0</td><td>42</td></tr>\n",
       "\t<tr><th scope=row>66</th><td>GLY</td><td>2</td><td>0</td><td>94</td></tr>\n",
       "\t<tr><th scope=row>67</th><td>GLY</td><td>3</td><td>0</td><td>61</td></tr>\n",
       "\t<tr><th scope=row>68</th><td>GLY</td><td>4</td><td>0</td><td>76</td></tr>\n",
       "\t<tr><th scope=row>69</th><td>HIS</td><td>1</td><td>2</td><td>42</td></tr>\n",
       "\t<tr><th scope=row>70</th><td>HIS</td><td>2</td><td>0</td><td>59</td></tr>\n",
       "\t<tr><th scope=row>71</th><td>HIS</td><td>3</td><td>0</td><td>42</td></tr>\n",
       "\t<tr><th scope=row>72</th><td>HIS</td><td>4</td><td>1</td><td>48</td></tr>\n",
       "\t<tr><th scope=row>73</th><td>HSE</td><td>1</td><td>11</td><td>33</td></tr>\n",
       "\t<tr><th scope=row>74</th><td>HSE</td><td>2</td><td>19</td><td>58</td></tr>\n",
       "\t<tr><th scope=row>75</th><td>HSE</td><td>3</td><td>19</td><td>48</td></tr>\n",
       "\t<tr><th scope=row>76</th><td>HSE</td><td>4</td><td>27</td><td>28</td></tr>\n",
       "\t<tr><th scope=row>77</th><td>ILE</td><td>1</td><td>0</td><td>77</td></tr>\n",
       "\t<tr><th scope=row>78</th><td>ILE</td><td>2</td><td>0</td><td>98</td></tr>\n",
       "\t<tr><th scope=row>79</th><td>ILE</td><td>3</td><td>0</td><td>99</td></tr>\n",
       "\t<tr><th scope=row>80</th><td>ILE</td><td>4</td><td>0</td><td>89</td></tr>\n",
       "\t<tr><th scope=row>81</th><td>LEU</td><td>1</td><td>68</td><td>0</td></tr>\n",
       "\t<tr><th scope=row>82</th><td>LEU</td><td>2</td><td>73</td><td>0</td></tr>\n",
       "\t<tr><th scope=row>83</th><td>LEU</td><td>3</td><td>85</td><td>0</td></tr>\n",
       "\t<tr><th scope=row>84</th><td>LEU</td><td>4</td><td>83</td><td>0</td></tr>\n",
       "\t<tr><th scope=row>85</th><td>LYS</td><td>1</td><td>6</td><td>53</td></tr>\n",
       "\t<tr><th scope=row>86</th><td>LYS</td><td>2</td><td>1</td><td>73</td></tr>\n",
       "\t<tr><th scope=row>87</th><td>LYS</td><td>3</td><td>11</td><td>69</td></tr>\n",
       "\t<tr><th scope=row>88</th><td>LYS</td><td>4</td><td>13</td><td>34</td></tr>\n",
       "\t<tr><th scope=row>89</th><td>MET</td><td>1</td><td>0</td><td>12</td></tr>\n",
       "\t<tr><th scope=row>90</th><td>MET</td><td>2</td><td>0</td><td>48</td></tr>\n",
       "\t<tr><th scope=row>91</th><td>MET</td><td>3</td><td>2</td><td>39</td></tr>\n",
       "\t<tr><th scope=row>92</th><td>MET</td><td>4</td><td>15</td><td>58</td></tr>\n",
       "\t<tr><th scope=row>93</th><td>PHE</td><td>1</td><td>1</td><td>10</td></tr>\n",
       "\t<tr><th scope=row>94</th><td>PHE</td><td>2</td><td>2</td><td>42</td></tr>\n",
       "\t<tr><th scope=row>95</th><td>PHE</td><td>3</td><td>1</td><td>0</td></tr>\n",
       "\t<tr><th scope=row>96</th><td>PHE</td><td>4</td><td>23</td><td>6</td></tr>\n",
       "\t<tr><th scope=row>97</th><td>PRO</td><td>1</td><td>12</td><td>14</td></tr>\n",
       "\t<tr><th scope=row>98</th><td>PRO</td><td>2</td><td>6</td><td>37</td></tr>\n",
       "\t<tr><th scope=row>99</th><td>PRO</td><td>3</td><td>6</td><td>49</td></tr>\n",
       "\t<tr><th scope=row>100</th><td>PRO</td><td>4</td><td>13</td><td>55</td></tr>\n",
       "\t<tr><th scope=row>101</th><td>SER</td><td>1</td><td>1</td><td>32</td></tr>\n",
       "\t<tr><th scope=row>102</th><td>SER</td><td>2</td><td>2</td><td>60</td></tr>\n",
       "\t<tr><th scope=row>103</th><td>SER</td><td>3</td><td>1</td><td>65</td></tr>\n",
       "\t<tr><th scope=row>104</th><td>SER</td><td>4</td><td>24</td><td>55</td></tr>\n",
       "\t<tr><th scope=row>105</th><td>TRP</td><td>1</td><td>0</td><td>24</td></tr>\n",
       "\t<tr><th scope=row>106</th><td>TRP</td><td>2</td><td>1</td><td>65</td></tr>\n",
       "\t<tr><th scope=row>107</th><td>TRP</td><td>3</td><td>27</td><td>32</td></tr>\n",
       "\t<tr><th scope=row>108</th><td>TRP</td><td>4</td><td>18</td><td>34</td></tr>\n",
       "\t<tr><th scope=row>109</th><td>TYR</td><td>1</td><td>0</td><td>47</td></tr>\n",
       "\t<tr><th scope=row>110</th><td>TYR</td><td>2</td><td>5</td><td>64</td></tr>\n",
       "\t<tr><th scope=row>111</th><td>TYR</td><td>3</td><td>9</td><td>13</td></tr>\n",
       "\t<tr><th scope=row>112</th><td>TYR</td><td>4</td><td>26</td><td>22</td></tr>\n",
       "\t<tr><th scope=row>113</th><td>VAL</td><td>1</td><td>1</td><td>5</td></tr>\n",
       "\t<tr><th scope=row>114</th><td>VAL</td><td>2</td><td>1</td><td>22</td></tr>\n",
       "\t<tr><th scope=row>115</th><td>VAL</td><td>3</td><td>12</td><td>3</td></tr>\n",
       "\t<tr><th scope=row>116</th><td>VAL</td><td>4</td><td>7</td><td>16</td></tr>\n",
       "</tbody>\n",
       "</table>\n"
      ],
      "text/latex": [
       "\\begin{tabular}{r|llll}\n",
       "  & metabolite & time & sh & sl\\\\\n",
       "\\hline\n",
       "\t1 & AKG & 1 & 11 & 12\\\\\n",
       "\t2 & AKG & 2 & 0 & 65\\\\\n",
       "\t3 & AKG & 3 & 0 & 0\\\\\n",
       "\t4 & AKG & 4 & 0 & 75\\\\\n",
       "\t5 & CAN & 1 & 28 & 12\\\\\n",
       "\t6 & CAN & 2 & 24 & 24\\\\\n",
       "\t7 & CAN & 3 & 27 & 4\\\\\n",
       "\t8 & CAN & 4 & 41 & 1\\\\\n",
       "\t9 & CIT & 1 & 10 & 41\\\\\n",
       "\t10 & CIT & 2 & 8 & 58\\\\\n",
       "\t11 & CIT & 3 & 4 & 49\\\\\n",
       "\t12 & CIT & 4 & 21 & 33\\\\\n",
       "\t13 & GLUC & 1 & 0 & 0\\\\\n",
       "\t14 & GLUC & 2 & 0 & 0\\\\\n",
       "\t15 & GLUC & 3 & 0 & 0\\\\\n",
       "\t16 & GLUC & 4 & 0 & 0\\\\\n",
       "\t17 & FUM & 1 & 0 & 15\\\\\n",
       "\t18 & FUM & 2 & 1 & 85\\\\\n",
       "\t19 & FUM & 3 & 1 & 43\\\\\n",
       "\t20 & FUM & 4 & 0 & 22\\\\\n",
       "\t21 & MAL & 1 & 0 & 55\\\\\n",
       "\t22 & MAL & 2 & 0 & 100\\\\\n",
       "\t23 & MAL & 3 & 0 & 99\\\\\n",
       "\t24 & MAL & 4 & 0 & 75\\\\\n",
       "\t25 & PEP & 1 & 0 & 0\\\\\n",
       "\t26 & PEP & 2 & 0 & 0\\\\\n",
       "\t27 & PEP & 3 & 0 & 0\\\\\n",
       "\t28 & PEP & 4 & 0 & 0\\\\\n",
       "\t29 & PYR & 1 & 0 & 75\\\\\n",
       "\t30 & PYR & 2 & 0 & 66\\\\\n",
       "\t31 & PYR & 3 & 0 & 64\\\\\n",
       "\t32 & PYR & 4 & 0 & 46\\\\\n",
       "\t33 & SUC & 1 & 3 & 0\\\\\n",
       "\t34 & SUC & 2 & 27 & 44\\\\\n",
       "\t35 & SUC & 3 & 38 & 27\\\\\n",
       "\t36 & SUC & 4 & 37 & 9\\\\\n",
       "\t37 & ALA & 1 & 0 & 47\\\\\n",
       "\t38 & ALA & 2 & 0 & 49\\\\\n",
       "\t39 & ALA & 3 & 0 & 49\\\\\n",
       "\t40 & ALA & 4 & 3 & 64\\\\\n",
       "\t41 & ARG & 1 & 2 & 65\\\\\n",
       "\t42 & ARG & 2 & 0 & 71\\\\\n",
       "\t43 & ARG & 3 & 0 & 72\\\\\n",
       "\t44 & ARG & 4 & 3 & 70\\\\\n",
       "\t45 & ASN & 1 & 0 & 35\\\\\n",
       "\t46 & ASN & 2 & 0 & 81\\\\\n",
       "\t47 & ASN & 3 & 0 & 38\\\\\n",
       "\t48 & ASN & 4 & 2 & 29\\\\\n",
       "\t49 & ASP & 1 & 1 & 45\\\\\n",
       "\t50 & ASP & 2 & 0 & 88\\\\\n",
       "\t51 & ASP & 3 & 2 & 77\\\\\n",
       "\t52 & ASP & 4 & 4 & 49\\\\\n",
       "\t53 & CYS & 1 & 0 & 34\\\\\n",
       "\t54 & CYS & 2 & 0 & 39\\\\\n",
       "\t55 & CYS & 3 & 1 & 7\\\\\n",
       "\t56 & CYS & 4 & 0 & 6\\\\\n",
       "\t57 & GLN & 1 & 0 & 89\\\\\n",
       "\t58 & GLN & 2 & 0 & 101\\\\\n",
       "\t59 & GLN & 3 & 0 & 103\\\\\n",
       "\t60 & GLN & 4 & 0 & 100\\\\\n",
       "\t61 & GLU & 1 & 0 & 0\\\\\n",
       "\t62 & GLU & 2 & 0 & 0\\\\\n",
       "\t63 & GLU & 3 & 0 & 0\\\\\n",
       "\t64 & GLU & 4 & 0 & 0\\\\\n",
       "\t65 & GLY & 1 & 0 & 42\\\\\n",
       "\t66 & GLY & 2 & 0 & 94\\\\\n",
       "\t67 & GLY & 3 & 0 & 61\\\\\n",
       "\t68 & GLY & 4 & 0 & 76\\\\\n",
       "\t69 & HIS & 1 & 2 & 42\\\\\n",
       "\t70 & HIS & 2 & 0 & 59\\\\\n",
       "\t71 & HIS & 3 & 0 & 42\\\\\n",
       "\t72 & HIS & 4 & 1 & 48\\\\\n",
       "\t73 & HSE & 1 & 11 & 33\\\\\n",
       "\t74 & HSE & 2 & 19 & 58\\\\\n",
       "\t75 & HSE & 3 & 19 & 48\\\\\n",
       "\t76 & HSE & 4 & 27 & 28\\\\\n",
       "\t77 & ILE & 1 & 0 & 77\\\\\n",
       "\t78 & ILE & 2 & 0 & 98\\\\\n",
       "\t79 & ILE & 3 & 0 & 99\\\\\n",
       "\t80 & ILE & 4 & 0 & 89\\\\\n",
       "\t81 & LEU & 1 & 68 & 0\\\\\n",
       "\t82 & LEU & 2 & 73 & 0\\\\\n",
       "\t83 & LEU & 3 & 85 & 0\\\\\n",
       "\t84 & LEU & 4 & 83 & 0\\\\\n",
       "\t85 & LYS & 1 & 6 & 53\\\\\n",
       "\t86 & LYS & 2 & 1 & 73\\\\\n",
       "\t87 & LYS & 3 & 11 & 69\\\\\n",
       "\t88 & LYS & 4 & 13 & 34\\\\\n",
       "\t89 & MET & 1 & 0 & 12\\\\\n",
       "\t90 & MET & 2 & 0 & 48\\\\\n",
       "\t91 & MET & 3 & 2 & 39\\\\\n",
       "\t92 & MET & 4 & 15 & 58\\\\\n",
       "\t93 & PHE & 1 & 1 & 10\\\\\n",
       "\t94 & PHE & 2 & 2 & 42\\\\\n",
       "\t95 & PHE & 3 & 1 & 0\\\\\n",
       "\t96 & PHE & 4 & 23 & 6\\\\\n",
       "\t97 & PRO & 1 & 12 & 14\\\\\n",
       "\t98 & PRO & 2 & 6 & 37\\\\\n",
       "\t99 & PRO & 3 & 6 & 49\\\\\n",
       "\t100 & PRO & 4 & 13 & 55\\\\\n",
       "\t101 & SER & 1 & 1 & 32\\\\\n",
       "\t102 & SER & 2 & 2 & 60\\\\\n",
       "\t103 & SER & 3 & 1 & 65\\\\\n",
       "\t104 & SER & 4 & 24 & 55\\\\\n",
       "\t105 & TRP & 1 & 0 & 24\\\\\n",
       "\t106 & TRP & 2 & 1 & 65\\\\\n",
       "\t107 & TRP & 3 & 27 & 32\\\\\n",
       "\t108 & TRP & 4 & 18 & 34\\\\\n",
       "\t109 & TYR & 1 & 0 & 47\\\\\n",
       "\t110 & TYR & 2 & 5 & 64\\\\\n",
       "\t111 & TYR & 3 & 9 & 13\\\\\n",
       "\t112 & TYR & 4 & 26 & 22\\\\\n",
       "\t113 & VAL & 1 & 1 & 5\\\\\n",
       "\t114 & VAL & 2 & 1 & 22\\\\\n",
       "\t115 & VAL & 3 & 12 & 3\\\\\n",
       "\t116 & VAL & 4 & 7 & 16\\\\\n",
       "\\end{tabular}\n"
      ],
      "text/plain": [
       "Source: local data frame [116 x 4]\n",
       "Groups: metabolite, time [116]\n",
       "\n",
       "   metabolite  time    sh    sl\n",
       "       (fctr) (dbl) (int) (int)\n",
       "1         AKG     1    11    12\n",
       "2         AKG     2     0    65\n",
       "3         AKG     3     0     0\n",
       "4         AKG     4     0    75\n",
       "5         CAN     1    28    12\n",
       "6         CAN     2    24    24\n",
       "7         CAN     3    27     4\n",
       "8         CAN     4    41     1\n",
       "9         CIT     1    10    41\n",
       "10        CIT     2     8    58\n",
       "..        ...   ...   ...   ..."
      ]
     },
     "execution_count": 222,
     "metadata": {},
     "output_type": "execute_result"
    }
   ],
   "source": [
    "tseg"
   ]
  },
  {
   "cell_type": "markdown",
   "metadata": {},
   "source": [
    "### Directional genetics\n",
    "\n",
    "Range of phenotype in the segregants is intermediate between the parent strains\n",
    "\n",
    "*Calculated according to [Brem et al 2005](http://www.pnas.org/content/102/5/1572)*\n",
    "\n",
    "\"Directional Test. In a Mendelian trait, on average 50% of segregant trait values will fall between those of the parents. To identify transcripts that significantly exceeded this expectation, we identified 2,790 transcripts differentially expressed between the parents at FDR = 0.05, using methods described in ref. 17. For each such transcript, we counted the number of segregants with trait values between parental means and then assessed significance, P, by means of a cumulative binomial test with an underlying probability of 0.5. We used the Bonferroni correction to estimate false positives; the FDR = 0.05 cutoff, computed as above, corresponded to P = 0.0084. For simulated data, we applied the binomial test to transcripts simulated under additive genetic models as above, using the FDR = 0.05 significance cutoff from the real data. Power for n = 2 was 98% and for all higher n was 100%.\""
   ]
  },
  {
   "cell_type": "markdown",
   "metadata": {},
   "source": [
    "### Power calculations"
   ]
  },
  {
   "cell_type": "code",
   "execution_count": 175,
   "metadata": {
    "collapsed": false
   },
   "outputs": [
    {
     "data": {
      "text/plain": [
       "\n",
       "     Two-sample t test power calculation \n",
       "\n",
       "              n = 20\n",
       "          delta = 0.1\n",
       "             sd = 1\n",
       "      sig.level = 0.05\n",
       "          power = 0.04930484\n",
       "    alternative = two.sided\n",
       "\n",
       "NOTE: n is number in *each* group\n"
      ]
     },
     "execution_count": 175,
     "metadata": {},
     "output_type": "execute_result"
    }
   ],
   "source": [
    "power.t.test(n = 20, delta = .1)"
   ]
  },
  {
   "cell_type": "code",
   "execution_count": null,
   "metadata": {
    "collapsed": true
   },
   "outputs": [],
   "source": []
  }
 ],
 "metadata": {
  "kernelspec": {
   "display_name": "R",
   "language": "R",
   "name": "ir"
  },
  "language_info": {
   "codemirror_mode": "r",
   "file_extension": ".r",
   "mimetype": "text/x-r-source",
   "name": "R",
   "pygments_lexer": "r",
   "version": "3.2.2"
  }
 },
 "nbformat": 4,
 "nbformat_minor": 0
}
