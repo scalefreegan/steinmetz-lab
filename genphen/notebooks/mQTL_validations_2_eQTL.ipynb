{
 "cells": [
  {
   "cell_type": "markdown",
   "metadata": {},
   "source": [
    "# Determine whether candidates for mQTL validation are supported by an eQTL"
   ]
  },
  {
   "cell_type": "code",
   "execution_count": 2,
   "metadata": {
    "collapsed": false
   },
   "outputs": [],
   "source": [
    ".libPaths(\"~/R/x86_64-redhat-linux-gnu-library/3.2/\")\n",
    "# config opts and libraries\n",
    "options(repr.plot.width = 6)\n",
    "options(repr.plot.height = 5)\n",
    "library(ggplot2);\n",
    "library(plyr);\n",
    "library(dplyr);\n",
    "library(reshape2);\n",
    "library(LSD);\n",
    "library(pheatmap);\n",
    "library(parallel);\n",
    "options(mc.cores = 24);\n",
    "library(stringr);\n",
    "library(RColorBrewer);\n",
    "library(qtl);\n",
    "library(funqtl);"
   ]
  },
  {
   "cell_type": "code",
   "execution_count": 3,
   "metadata": {
    "collapsed": true
   },
   "outputs": [],
   "source": [
    "# load eQTLs\n",
    "load(\"/g/steinmetz/brooks/genphen/transcriptome/qtl/eQTL_08032016.rda\")"
   ]
  },
  {
   "cell_type": "markdown",
   "metadata": {},
   "source": [
    "mQTL candidates were selected with <a href=\"http://steinmetzlab.embl.de/shiny/mQTL/\">mQTL Explorer</a> manually. Uploaded to an excel sheet. The excel sheet was exported as tab-delimted text"
   ]
  },
  {
   "cell_type": "code",
   "execution_count": 10,
   "metadata": {
    "collapsed": false
   },
   "outputs": [],
   "source": [
    "f = \"/g/steinmetz/brooks/genphen/validation/mQTL_candidates_ANB.txt\"\n",
    "mQTL_candidates = read.delim(f, sep = \"\\t\")\n",
    "# to correct for re-running script\n",
    "mQTL_candidates = mQTL_candidates %>% select(\n",
    "    Metabolite, \n",
    "    Suggest.Selection,\n",
    "    Detailed.Analysis,\n",
    "    Bayesian.Confidence.Interval,\n",
    "    FDR,\n",
    "    Sys.Name,\n",
    "    Name,\n",
    "    STITCH,\n",
    "    SNPs,\n",
    "    InDels,\n",
    "    Upstream,\n",
    "    Downstream,\n",
    "    Introns,\n",
    "    Coding,\n",
    "    High.Consequence,\n",
    "    Moderate.Consequence,\n",
    "    Low.Consequence,\n",
    "    Chr,\n",
    "    Start,\n",
    "    End,\n",
    "    Strand)"
   ]
  },
  {
   "cell_type": "code",
   "execution_count": 12,
   "metadata": {
    "collapsed": false
   },
   "outputs": [],
   "source": [
    "mQTL_eQTL_overlap = mQTL_candidates %>% rowwise() %>% do({\n",
    "    thisgene = levels(.$Sys.Name)[.$Sys.Name]\n",
    "    thischr = levels(.$Chr)[.$Chr]\n",
    "    thisstart = .$Start\n",
    "    thisend = .$End\n",
    "    thisgeneqtls = eQTL_table %>% filter(gene == thisgene, seqnames == thischr)\n",
    "    thisgeneqtls_all = eQTL_table %>% filter(gene == thisgene)\n",
    "    if (dim(thisgeneqtls)[1]>0) {\n",
    "        qtlranges = lapply(seq(1,dim(thisgeneqtls)[1]), function(i){\n",
    "            seq(thisgeneqtls[i,\"start\"],thisgeneqtls[i,\"end\"],by = 1)\n",
    "        })\n",
    "        generange = seq(thisstart,thisend,by = 1)\n",
    "        overlap = lapply(seq(1,length(qtlranges)), function(i){\n",
    "            thisoverlap = length(intersect(generange, qtlranges[[i]]))\n",
    "            if (thisoverlap > 0) {\n",
    "                return(T)\n",
    "            } else {\n",
    "                return(F)\n",
    "            }\n",
    "        })\n",
    "        if (T %in% unlist(overlap)) {\n",
    "            cis.eqtl = T\n",
    "        }\n",
    "    } else {\n",
    "        cis.eqtl = F\n",
    "    }\n",
    "    if (dim(thisgeneqtls_all)[1]>0) {\n",
    "        any.eqtl = T\n",
    "    } else {\n",
    "        any.eqtl = F\n",
    "    }\n",
    "    return(data.frame(., cis.eqtl, any.eqtl))\n",
    "}) "
   ]
  },
  {
   "cell_type": "code",
   "execution_count": 14,
   "metadata": {
    "collapsed": false
   },
   "outputs": [
    {
     "data": {
      "text/html": [
       "<table>\n",
       "<thead><tr><th></th><th scope=col>Metabolite</th><th scope=col>Suggest.Selection</th><th scope=col>Detailed.Analysis</th><th scope=col>Bayesian.Confidence.Interval</th><th scope=col>FDR</th><th scope=col>Sys.Name</th><th scope=col>Name</th><th scope=col>STITCH</th><th scope=col>SNPs</th><th scope=col>InDels</th><th scope=col>Upstream</th><th scope=col>Downstream</th><th scope=col>Introns</th><th scope=col>Coding</th><th scope=col>High.Consequence</th><th scope=col>Moderate.Consequence</th><th scope=col>Low.Consequence</th><th scope=col>Chr</th><th scope=col>Start</th><th scope=col>End</th><th scope=col>Strand</th><th scope=col>cis.eqtl</th><th scope=col>any.eqtl</th></tr></thead>\n",
       "<tbody>\n",
       "\t<tr><th scope=row>1</th><td>GLY_LEU_AKG_PYR_HSE_MET</td><td>NA</td><td></td><td>0.9</td><td>0.05</td><td>YML089C</td><td></td><td>NA</td><td>1</td><td>0</td><td>0</td><td>0</td><td>0</td><td>1</td><td>0</td><td>0</td><td>1</td><td>chrXIII</td><td>91041</td><td>91409</td><td>-</td><td>FALSE</td><td>FALSE</td></tr>\n",
       "\t<tr><th scope=row>2</th><td>GLY_LEU_AKG_PYR_HSE_MET</td><td>NA</td><td></td><td>0.9</td><td>0.05</td><td>YML090W</td><td></td><td>NA</td><td>2</td><td>0</td><td>0</td><td>0</td><td>0</td><td>2</td><td>0</td><td>1</td><td>1</td><td>chrXIII</td><td>90744</td><td>91130</td><td>+</td><td>FALSE</td><td>FALSE</td></tr>\n",
       "\t<tr><th scope=row>3</th><td>GLY_LEU_AKG_PYR_HSE_MET</td><td>NA</td><td></td><td>0.9</td><td>0.05</td><td>YML091C</td><td>RPM2</td><td>NA</td><td>21</td><td>0</td><td>0</td><td>0</td><td>0</td><td>21</td><td>0</td><td>11</td><td>10</td><td>chrXIII</td><td>87123</td><td>90731</td><td>-</td><td>TRUE</td><td>TRUE</td></tr>\n",
       "\t<tr><th scope=row>4</th><td>GLY_LEU_AKG_PYR_HSE_MET</td><td>NA</td><td></td><td>0.9</td><td>0.05</td><td>YML092C</td><td>PRE8</td><td>NA</td><td>1</td><td>0</td><td>0</td><td>0</td><td>0</td><td>1</td><td>0</td><td>1</td><td>0</td><td>chrXIII</td><td>85987</td><td>86739</td><td>-</td><td>FALSE</td><td>FALSE</td></tr>\n",
       "\t<tr><th scope=row>5</th><td>GLY_LEU_AKG_PYR_HSE_MET</td><td>NA</td><td></td><td>0.9</td><td>0.05</td><td>YML093W</td><td>UTP14</td><td>NA</td><td>10</td><td>0</td><td>0</td><td>0</td><td>0</td><td>10</td><td>0</td><td>3</td><td>7</td><td>chrXIII</td><td>83090</td><td>85789</td><td>+</td><td>FALSE</td><td>FALSE</td></tr>\n",
       "\t<tr><th scope=row>6</th><td>GLY_LEU_AKG_PYR_HSE_MET</td><td>NA</td><td></td><td>0.9</td><td>0.05</td><td>YML094C-A</td><td></td><td>NA</td><td>1</td><td>0</td><td>0</td><td>0</td><td>0</td><td>1</td><td>0</td><td>0</td><td>1</td><td>chrXIII</td><td>82219</td><td>82620</td><td>-</td><td>FALSE</td><td>FALSE</td></tr>\n",
       "</tbody>\n",
       "</table>\n"
      ],
      "text/latex": [
       "\\begin{tabular}{r|lllllllllllllllllllllll}\n",
       "  & Metabolite & Suggest.Selection & Detailed.Analysis & Bayesian.Confidence.Interval & FDR & Sys.Name & Name & STITCH & SNPs & InDels & Upstream & Downstream & Introns & Coding & High.Consequence & Moderate.Consequence & Low.Consequence & Chr & Start & End & Strand & cis.eqtl & any.eqtl\\\\\n",
       "\\hline\n",
       "\t1 & GLY_LEU_AKG_PYR_HSE_MET & NA &  & 0.9 & 0.05 & YML089C &  & NA & 1 & 0 & 0 & 0 & 0 & 1 & 0 & 0 & 1 & chrXIII & 91041 & 91409 & - & FALSE & FALSE\\\\\n",
       "\t2 & GLY_LEU_AKG_PYR_HSE_MET & NA &  & 0.9 & 0.05 & YML090W &  & NA & 2 & 0 & 0 & 0 & 0 & 2 & 0 & 1 & 1 & chrXIII & 90744 & 91130 & + & FALSE & FALSE\\\\\n",
       "\t3 & GLY_LEU_AKG_PYR_HSE_MET & NA &  & 0.9 & 0.05 & YML091C & RPM2 & NA & 21 & 0 & 0 & 0 & 0 & 21 & 0 & 11 & 10 & chrXIII & 87123 & 90731 & - & TRUE & TRUE\\\\\n",
       "\t4 & GLY_LEU_AKG_PYR_HSE_MET & NA &  & 0.9 & 0.05 & YML092C & PRE8 & NA & 1 & 0 & 0 & 0 & 0 & 1 & 0 & 1 & 0 & chrXIII & 85987 & 86739 & - & FALSE & FALSE\\\\\n",
       "\t5 & GLY_LEU_AKG_PYR_HSE_MET & NA &  & 0.9 & 0.05 & YML093W & UTP14 & NA & 10 & 0 & 0 & 0 & 0 & 10 & 0 & 3 & 7 & chrXIII & 83090 & 85789 & + & FALSE & FALSE\\\\\n",
       "\t6 & GLY_LEU_AKG_PYR_HSE_MET & NA &  & 0.9 & 0.05 & YML094C-A &  & NA & 1 & 0 & 0 & 0 & 0 & 1 & 0 & 0 & 1 & chrXIII & 82219 & 82620 & - & FALSE & FALSE\\\\\n",
       "\\end{tabular}\n"
      ],
      "text/plain": [
       "Source: local data frame [6 x 23]\n",
       "\n",
       "               Metabolite Suggest.Selection Detailed.Analysis\n",
       "                   <fctr>             <lgl>            <fctr>\n",
       "1 GLY_LEU_AKG_PYR_HSE_MET                NA                  \n",
       "2 GLY_LEU_AKG_PYR_HSE_MET                NA                  \n",
       "3 GLY_LEU_AKG_PYR_HSE_MET                NA                  \n",
       "4 GLY_LEU_AKG_PYR_HSE_MET                NA                  \n",
       "5 GLY_LEU_AKG_PYR_HSE_MET                NA                  \n",
       "6 GLY_LEU_AKG_PYR_HSE_MET                NA                  \n",
       "Variables not shown: Bayesian.Confidence.Interval <dbl>, FDR <dbl>, Sys.Name\n",
       "  <fctr>, Name <fctr>, STITCH <dbl>, SNPs <int>, InDels <int>, Upstream <int>,\n",
       "  Downstream <int>, Introns <int>, Coding <int>, High.Consequence <int>,\n",
       "  Moderate.Consequence <int>, Low.Consequence <int>, Chr <fctr>, Start <int>,\n",
       "  End <int>, Strand <fctr>, cis.eqtl <lgl>, any.eqtl <lgl>."
      ]
     },
     "execution_count": 14,
     "metadata": {},
     "output_type": "execute_result"
    }
   ],
   "source": [
    "head(mQTL_eQTL_overlap)"
   ]
  },
  {
   "cell_type": "code",
   "execution_count": 15,
   "metadata": {
    "collapsed": false
   },
   "outputs": [],
   "source": [
    "write.table(mQTL_eQTL_overlap, sep = \"\\t\", file = f, quote = F, row.names = F)"
   ]
  },
  {
   "cell_type": "code",
   "execution_count": null,
   "metadata": {
    "collapsed": true
   },
   "outputs": [],
   "source": []
  }
 ],
 "metadata": {
  "kernelspec": {
   "display_name": "R",
   "language": "R",
   "name": "ir"
  },
  "language_info": {
   "codemirror_mode": "r",
   "file_extension": ".r",
   "mimetype": "text/x-r-source",
   "name": "R",
   "pygments_lexer": "r",
   "version": "3.2.2"
  }
 },
 "nbformat": 4,
 "nbformat_minor": 0
}
