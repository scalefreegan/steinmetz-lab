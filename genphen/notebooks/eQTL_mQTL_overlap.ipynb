{
 "cells": [
  {
   "cell_type": "markdown",
   "metadata": {},
   "source": [
    "# eQTL mQTL overlap"
   ]
  },
  {
   "cell_type": "markdown",
   "metadata": {},
   "source": [
    "How many eQTLs are also mQTLs and vice versa"
   ]
  },
  {
   "cell_type": "code",
   "execution_count": 2,
   "metadata": {
    "collapsed": false
   },
   "outputs": [],
   "source": [
    ".libPaths(\"~/R/x86_64-redhat-linux-gnu-library/3.2/\")\n",
    "# config opts and libraries\n",
    "options(repr.plot.width = 6)\n",
    "options(repr.plot.height = 5)\n",
    "library(ggplot2);\n",
    "library(plyr);\n",
    "library(dplyr);\n",
    "library(reshape2);\n",
    "library(LSD);\n",
    "library(pheatmap);\n",
    "library(parallel);\n",
    "options(mc.cores = 24);\n",
    "library(stringr);\n",
    "library(RColorBrewer);\n",
    "library(qtl);\n",
    "library(funqtl);"
   ]
  },
  {
   "cell_type": "code",
   "execution_count": 3,
   "metadata": {
    "collapsed": false
   },
   "outputs": [],
   "source": [
    "# load mQTLs\n",
    "load(\"/g/steinmetz/brooks/genphen//metabolome/qtls/mQTLs_comball_funqtl_2014.rda\")\n",
    "mQTLs_funqtl_2014_class = sapply(mQTLs_funqtl_2014,class)\n",
    "mQTLs_funqtl_2014 = mQTLs_funqtl_2014[mQTLs_funqtl_2014_class!=\"try-error\"]\n",
    "\n"
   ]
  },
  {
   "cell_type": "code",
   "execution_count": 4,
   "metadata": {
    "collapsed": true
   },
   "outputs": [],
   "source": [
    "# load eQTLs\n",
    "load(\"/g/steinmetz/brooks/genphen/transcriptome/qtl/eQTL_08032016.rda\")"
   ]
  },
  {
   "cell_type": "code",
   "execution_count": 5,
   "metadata": {
    "collapsed": true
   },
   "outputs": [],
   "source": [
    "# load transcript annotation\n",
    "load(\"/g/steinmetz/brooks/genphen/transcriptome/data/trx_df.rda\")"
   ]
  },
  {
   "cell_type": "code",
   "execution_count": 6,
   "metadata": {
    "collapsed": true
   },
   "outputs": [],
   "source": [
    "# load genotype and markers files\n",
    "genotype_f = \"/g/steinmetz/brooks/yeast/genomes/S288CxYJM789/genotypes_S288c_R64.rda\"\n",
    "load(genotype_f)"
   ]
  },
  {
   "cell_type": "code",
   "execution_count": 7,
   "metadata": {
    "collapsed": true
   },
   "outputs": [],
   "source": [
    "# load data\n",
    "endo_f = \"/g/steinmetz/project/GenPhen/data/endometabolome/data/endometabolite_full_12102015.rda\"\n",
    "load(endo_f)\n",
    "\n",
    "# use only relaitve data\n",
    "endometabolite = filter(endometabolite, time_format == \"relative\")\n",
    "\n",
    "#head(endometabolite)"
   ]
  },
  {
   "cell_type": "code",
   "execution_count": 8,
   "metadata": {
    "collapsed": true
   },
   "outputs": [],
   "source": [
    "# load expression data\n",
    "load(\"/g/steinmetz/brooks/genphen/transcriptome/data/trx_df.rda\")"
   ]
  },
  {
   "cell_type": "code",
   "execution_count": 9,
   "metadata": {
    "collapsed": false
   },
   "outputs": [
    {
     "data": {
      "text/html": [
       "<table>\n",
       "<thead><tr><th></th><th scope=col>strain</th><th scope=col>metabolite</th><th scope=col>replicate</th><th scope=col>time_format</th><th scope=col>time</th><th scope=col>value</th><th scope=col>value.log2</th><th scope=col>relative.log2</th><th scope=col>derivative.log2</th><th scope=col>cellconc</th><th scope=col>biovol</th><th scope=col>singlecellvol</th><th scope=col>peakarea</th><th scope=col>batch</th></tr></thead>\n",
       "<tbody>\n",
       "\t<tr><th scope=row>1</th><td>01B</td><td>AKG</td><td>1</td><td>relative</td><td>1</td><td>64.62115</td><td>6.036089</td><td>1</td><td>NA</td><td>NA</td><td>NA</td><td>NA</td><td>NA</td><td>dM1</td></tr>\n",
       "\t<tr><th scope=row>2</th><td>01B</td><td>AKG</td><td>1</td><td>relative</td><td>2</td><td>75.42941</td><td>6.256056</td><td>1.036442</td><td>0.219967</td><td>NA</td><td>NA</td><td>NA</td><td>NA</td><td>dM1</td></tr>\n",
       "\t<tr><th scope=row>3</th><td>01B</td><td>AKG</td><td>1</td><td>relative</td><td>3</td><td>46.9538</td><td>5.583573</td><td>0.9250316</td><td>-0.6724827</td><td>NA</td><td>NA</td><td>NA</td><td>NA</td><td>dM1</td></tr>\n",
       "\t<tr><th scope=row>4</th><td>01B</td><td>AKG</td><td>1</td><td>relative</td><td>4</td><td>57.4146</td><td>5.868257</td><td>0.9721952</td><td>0.2846837</td><td>NA</td><td>NA</td><td>NA</td><td>NA</td><td>dM1</td></tr>\n",
       "\t<tr><th scope=row>5</th><td>01B</td><td>AKG</td><td>2</td><td>relative</td><td>1</td><td>65.08506</td><td>6.046252</td><td>1</td><td>NA</td><td>NA</td><td>NA</td><td>NA</td><td>NA</td><td>dM1</td></tr>\n",
       "\t<tr><th scope=row>6</th><td>01B</td><td>AKG</td><td>2</td><td>relative</td><td>2</td><td>61.94676</td><td>5.97606</td><td>0.9883908</td><td>-0.07019202</td><td>NA</td><td>NA</td><td>NA</td><td>NA</td><td>dM1</td></tr>\n",
       "</tbody>\n",
       "</table>\n"
      ],
      "text/latex": [
       "\\begin{tabular}{r|llllllllllllll}\n",
       "  & strain & metabolite & replicate & time_format & time & value & value.log2 & relative.log2 & derivative.log2 & cellconc & biovol & singlecellvol & peakarea & batch\\\\\n",
       "\\hline\n",
       "\t1 & 01B & AKG & 1 & relative & 1 & 64.62115 & 6.036089 & 1 & NA & NA & NA & NA & NA & dM1\\\\\n",
       "\t2 & 01B & AKG & 1 & relative & 2 & 75.42941 & 6.256056 & 1.036442 & 0.219967 & NA & NA & NA & NA & dM1\\\\\n",
       "\t3 & 01B & AKG & 1 & relative & 3 & 46.9538 & 5.583573 & 0.9250316 & -0.6724827 & NA & NA & NA & NA & dM1\\\\\n",
       "\t4 & 01B & AKG & 1 & relative & 4 & 57.4146 & 5.868257 & 0.9721952 & 0.2846837 & NA & NA & NA & NA & dM1\\\\\n",
       "\t5 & 01B & AKG & 2 & relative & 1 & 65.08506 & 6.046252 & 1 & NA & NA & NA & NA & NA & dM1\\\\\n",
       "\t6 & 01B & AKG & 2 & relative & 2 & 61.94676 & 5.97606 & 0.9883908 & -0.07019202 & NA & NA & NA & NA & dM1\\\\\n",
       "\\end{tabular}\n"
      ],
      "text/plain": [
       "Source: local data frame [6 x 14]\n",
       "\n",
       "  strain metabolite replicate time_format  time    value value.log2\n",
       "   (chr)     (fctr)    (fctr)      (fctr) (dbl)    (dbl)      (dbl)\n",
       "1    01B        AKG         1    relative     1 64.62115   6.036089\n",
       "2    01B        AKG         1    relative     2 75.42941   6.256056\n",
       "3    01B        AKG         1    relative     3 46.95380   5.583573\n",
       "4    01B        AKG         1    relative     4 57.41460   5.868257\n",
       "5    01B        AKG         2    relative     1 65.08506   6.046252\n",
       "6    01B        AKG         2    relative     2 61.94676   5.976060\n",
       "Variables not shown: relative.log2 (dbl), derivative.log2 (dbl), cellconc\n",
       "  (dbl), biovol (dbl), singlecellvol (dbl), peakarea (dbl), batch (fctr)"
      ]
     },
     "execution_count": 9,
     "metadata": {},
     "output_type": "execute_result"
    }
   ],
   "source": [
    "head(endometabolite)"
   ]
  },
  {
   "cell_type": "code",
   "execution_count": 10,
   "metadata": {
    "collapsed": false
   },
   "outputs": [
    {
     "name": "stderr",
     "output_type": "stream",
     "text": [
      "Loading required package: GenomicRanges\n",
      "Loading required package: BiocGenerics\n",
      "\n",
      "Attaching package: ‘BiocGenerics’\n",
      "\n",
      "The following object is masked from ‘package:Matrix’:\n",
      "\n",
      "    as.vector\n",
      "\n",
      "The following objects are masked from ‘package:spam’:\n",
      "\n",
      "    as.vector, cbind, rbind\n",
      "\n",
      "The following objects are masked from ‘package:parallel’:\n",
      "\n",
      "    clusterApply, clusterApplyLB, clusterCall, clusterEvalQ,\n",
      "    clusterExport, clusterMap, parApply, parCapply, parLapply,\n",
      "    parLapplyLB, parRapply, parSapply, parSapplyLB\n",
      "\n",
      "The following objects are masked from ‘package:dplyr’:\n",
      "\n",
      "    combine, intersect, setdiff, union\n",
      "\n",
      "The following object is masked from ‘package:stats’:\n",
      "\n",
      "    xtabs\n",
      "\n",
      "The following objects are masked from ‘package:base’:\n",
      "\n",
      "    anyDuplicated, append, as.data.frame, as.vector, cbind, colnames,\n",
      "    do.call, duplicated, eval, evalq, Filter, Find, get, intersect,\n",
      "    is.unsorted, lapply, Map, mapply, match, mget, order, paste, pmax,\n",
      "    pmax.int, pmin, pmin.int, Position, rank, rbind, Reduce, rep.int,\n",
      "    rownames, sapply, setdiff, sort, table, tapply, union, unique,\n",
      "    unlist, unsplit\n",
      "\n",
      "Loading required package: S4Vectors\n",
      "Loading required package: stats4\n",
      "\n",
      "Attaching package: ‘stats4’\n",
      "\n",
      "The following object is masked from ‘package:spam’:\n",
      "\n",
      "    mle\n",
      "\n",
      "Creating a generic function for ‘nchar’ from package ‘base’ in package ‘S4Vectors’\n",
      "\n",
      "Attaching package: ‘S4Vectors’\n",
      "\n",
      "The following object is masked from ‘package:dplyr’:\n",
      "\n",
      "    rename\n",
      "\n",
      "The following object is masked from ‘package:plyr’:\n",
      "\n",
      "    rename\n",
      "\n",
      "Loading required package: IRanges\n",
      "\n",
      "Attaching package: ‘IRanges’\n",
      "\n",
      "The following object is masked from ‘package:Matrix’:\n",
      "\n",
      "    expand\n",
      "\n",
      "The following objects are masked from ‘package:dplyr’:\n",
      "\n",
      "    collapse, desc, slice\n",
      "\n",
      "The following object is masked from ‘package:plyr’:\n",
      "\n",
      "    desc\n",
      "\n",
      "Loading required package: GenomeInfoDb\n"
     ]
    }
   ],
   "source": [
    "if (!exists(\"mQTL_table\")) {\n",
    "    mQTL_table = do.call(rbind, lapply(names(mQTLs_funqtl_2014),function(m) {\n",
    "        interval = mQTLs_funqtl_2014[[m]]$qtl_intervals\n",
    "        if (length(interval)>0) {\n",
    "            do.call(rbind, lapply(seq(1:length(interval)), function(z){\n",
    "                thisinterval = interval[[z]]\n",
    "                highmrk = names(thisinterval[2])\n",
    "                data.frame(metabolite = m, \n",
    "                   as.data.frame(range(thisinterval)),\n",
    "                   maxlod = mQTLs_funqtl_2014[[m]]$qtls_alt[highmrk,\"mlod\"], \n",
    "                   maxmrk = names(thisinterval[2]))\n",
    "            }))          \n",
    "        } else {\n",
    "            data.frame()\n",
    "        }\n",
    "    }))\n",
    "    mQTL_table$seqnames = sapply(mQTL_table$seqnames,function(x){\n",
    "        paste(substr(x,1,3),as.roman(substr(x,4,5)),sep=\"\")})\n",
    "}"
   ]
  },
  {
   "cell_type": "code",
   "execution_count": 11,
   "metadata": {
    "collapsed": false
   },
   "outputs": [
    {
     "data": {
      "text/html": [
       "<table>\n",
       "<thead><tr><th></th><th scope=col>gene</th><th scope=col>seqnames</th><th scope=col>start</th><th scope=col>end</th><th scope=col>width</th><th scope=col>strand</th><th scope=col>maxlod</th><th scope=col>maxmrk</th></tr></thead>\n",
       "<tbody>\n",
       "\t<tr><th scope=row>01</th><td>SUT433</td><td>chrI</td><td>1505</td><td>29279</td><td>27775</td><td>*</td><td>18.85243</td><td>mrk_79</td></tr>\n",
       "\t<tr><th scope=row>08</th><td>SUT433</td><td>chrVIII</td><td>309963</td><td>469661</td><td>159699</td><td>*</td><td>4.47395</td><td>mrk_23688</td></tr>\n",
       "\t<tr><th scope=row>3</th><td>CUT437</td><td>chrI</td><td>1505</td><td>44588</td><td>43084</td><td>*</td><td>7.199353</td><td>mrk_96</td></tr>\n",
       "\t<tr><th scope=row>4</th><td>SUT434</td><td>chrII</td><td>427719</td><td>515157</td><td>87439</td><td>*</td><td>3.679556</td><td>mrk_4238</td></tr>\n",
       "\t<tr><th scope=row>5</th><td>SUT435</td><td>chrI</td><td>32556</td><td>52164</td><td>19609</td><td>*</td><td>7.917256</td><td>mrk_99</td></tr>\n",
       "\t<tr><th scope=row>6</th><td>CUT439</td><td>chrXIV</td><td>42770</td><td>780902</td><td>738133</td><td>*</td><td>2.760089</td><td>mrk_42223</td></tr>\n",
       "</tbody>\n",
       "</table>\n"
      ],
      "text/latex": [
       "\\begin{tabular}{r|llllllll}\n",
       "  & gene & seqnames & start & end & width & strand & maxlod & maxmrk\\\\\n",
       "\\hline\n",
       "\t01 & SUT433 & chrI & 1505 & 29279 & 27775 & * & 18.85243 & mrk_79\\\\\n",
       "\t08 & SUT433 & chrVIII & 309963 & 469661 & 159699 & * & 4.47395 & mrk_23688\\\\\n",
       "\t3 & CUT437 & chrI & 1505 & 44588 & 43084 & * & 7.199353 & mrk_96\\\\\n",
       "\t4 & SUT434 & chrII & 427719 & 515157 & 87439 & * & 3.679556 & mrk_4238\\\\\n",
       "\t5 & SUT435 & chrI & 32556 & 52164 & 19609 & * & 7.917256 & mrk_99\\\\\n",
       "\t6 & CUT439 & chrXIV & 42770 & 780902 & 738133 & * & 2.760089 & mrk_42223\\\\\n",
       "\\end{tabular}\n"
      ],
      "text/plain": [
       "     gene seqnames  start    end  width strand    maxlod    maxmrk\n",
       "01 SUT433     chrI   1505  29279  27775      * 18.852431    mrk_79\n",
       "08 SUT433  chrVIII 309963 469661 159699      *  4.473950 mrk_23688\n",
       "3  CUT437     chrI   1505  44588  43084      *  7.199353    mrk_96\n",
       "4  SUT434    chrII 427719 515157  87439      *  3.679556  mrk_4238\n",
       "5  SUT435     chrI  32556  52164  19609      *  7.917256    mrk_99\n",
       "6  CUT439   chrXIV  42770 780902 738133      *  2.760089 mrk_42223"
      ]
     },
     "execution_count": 11,
     "metadata": {},
     "output_type": "execute_result"
    }
   ],
   "source": [
    "head(eQTL_table)"
   ]
  },
  {
   "cell_type": "code",
   "execution_count": 12,
   "metadata": {
    "collapsed": false
   },
   "outputs": [],
   "source": [
    "mQTL_ranges = GRanges(seqnames = mQTL_table$seqnames, \n",
    "              ranges = IRanges(start = mQTL_table$start, end = mQTL_table$end, width = mQTL_table$width))\n",
    "eQTL_ranges = GRanges(seqnames = eQTL_table$seqnames, \n",
    "              ranges = IRanges(start = eQTL_table$start, end = eQTL_table$end, width = eQTL_table$width))"
   ]
  },
  {
   "cell_type": "code",
   "execution_count": 30,
   "metadata": {
    "collapsed": false
   },
   "outputs": [],
   "source": [
    "f = \"ge_me.rda\"\n",
    "if (file.exists(f)) {\n",
    "    load(f)\n",
    "} else {\n",
    "    ge = trx_df %>% group_by(name, strain) %>% summarize(value = median(log2(value + 1)))\n",
    "    me = endometabolite %>% group_by(metabolite, strain, time ) %>% summarize(value = median(value.log2))\n",
    "    save(ge, me, file = f)\n",
    "}\n",
    "# only keep ORFs\n",
    "orfgenes = unique(filter(trx_df, type==\"ORFs\")$name)\n",
    "ge = filter(ge, name %in% orfgenes)"
   ]
  },
  {
   "cell_type": "markdown",
   "metadata": {},
   "source": [
    "# First test how many mQTLs are also eQTLs"
   ]
  },
  {
   "cell_type": "code",
   "execution_count": 33,
   "metadata": {
    "collapsed": false
   },
   "outputs": [
    {
     "data": {
      "text/html": [
       "<table>\n",
       "<thead><tr><th></th><th scope=col>name</th><th scope=col>strain</th><th scope=col>value</th></tr></thead>\n",
       "<tbody>\n",
       "\t<tr><th scope=row>1</th><td>YAL067C</td><td>01C</td><td>0</td></tr>\n",
       "\t<tr><th scope=row>2</th><td>YAL067C</td><td>02B</td><td>0.2443326</td></tr>\n",
       "\t<tr><th scope=row>3</th><td>YAL067C</td><td>02C</td><td>0</td></tr>\n",
       "\t<tr><th scope=row>4</th><td>YAL067C</td><td>02D</td><td>0</td></tr>\n",
       "\t<tr><th scope=row>5</th><td>YAL067C</td><td>03A</td><td>0</td></tr>\n",
       "\t<tr><th scope=row>6</th><td>YAL067C</td><td>03C</td><td>0.2292453</td></tr>\n",
       "</tbody>\n",
       "</table>\n"
      ],
      "text/latex": [
       "\\begin{tabular}{r|lll}\n",
       "  & name & strain & value\\\\\n",
       "\\hline\n",
       "\t1 & YAL067C & 01C & 0\\\\\n",
       "\t2 & YAL067C & 02B & 0.2443326\\\\\n",
       "\t3 & YAL067C & 02C & 0\\\\\n",
       "\t4 & YAL067C & 02D & 0\\\\\n",
       "\t5 & YAL067C & 03A & 0\\\\\n",
       "\t6 & YAL067C & 03C & 0.2292453\\\\\n",
       "\\end{tabular}\n"
      ],
      "text/plain": [
       "Source: local data frame [6 x 3]\n",
       "Groups: name [1]\n",
       "\n",
       "     name strain     value\n",
       "   (fctr) (fctr)     (dbl)\n",
       "1 YAL067C    01C 0.0000000\n",
       "2 YAL067C    02B 0.2443326\n",
       "3 YAL067C    02C 0.0000000\n",
       "4 YAL067C    02D 0.0000000\n",
       "5 YAL067C    03A 0.0000000\n",
       "6 YAL067C    03C 0.2292453"
      ]
     },
     "execution_count": 33,
     "metadata": {},
     "output_type": "execute_result"
    }
   ],
   "source": [
    "head(ge)"
   ]
  },
  {
   "cell_type": "code",
   "execution_count": 24,
   "metadata": {
    "collapsed": false
   },
   "outputs": [
    {
     "data": {
      "text/html": [
       "<table>\n",
       "<thead><tr><th></th><th scope=col>strain</th><th scope=col>rep</th><th scope=col>name</th><th scope=col>type</th><th scope=col>chr</th><th scope=col>start</th><th scope=col>end</th><th scope=col>strand</th><th scope=col>value</th></tr></thead>\n",
       "<tbody>\n",
       "\t<tr><th scope=row>X14C_biorep1</th><td>14C</td><td>biorep1</td><td>SUT432</td><td>SUTs</td><td>chr01</td><td>4875</td><td>5275</td><td>-</td><td>196.7108</td></tr>\n",
       "\t<tr><th scope=row>X17C_biorep1</th><td>17C</td><td>biorep1</td><td>SUT432</td><td>SUTs</td><td>chr01</td><td>4875</td><td>5275</td><td>-</td><td>125.5987</td></tr>\n",
       "\t<tr><th scope=row>X17D_biorep1</th><td>17D</td><td>biorep1</td><td>SUT432</td><td>SUTs</td><td>chr01</td><td>4875</td><td>5275</td><td>-</td><td>4.924066</td></tr>\n",
       "\t<tr><th scope=row>X18C_biorep1</th><td>18C</td><td>biorep1</td><td>SUT432</td><td>SUTs</td><td>chr01</td><td>4875</td><td>5275</td><td>-</td><td>0</td></tr>\n",
       "\t<tr><th scope=row>X18D_biorep1</th><td>18D</td><td>biorep1</td><td>SUT432</td><td>SUTs</td><td>chr01</td><td>4875</td><td>5275</td><td>-</td><td>0</td></tr>\n",
       "\t<tr><th scope=row>X19C_biorep1</th><td>19C</td><td>biorep1</td><td>SUT432</td><td>SUTs</td><td>chr01</td><td>4875</td><td>5275</td><td>-</td><td>0</td></tr>\n",
       "</tbody>\n",
       "</table>\n"
      ],
      "text/latex": [
       "\\begin{tabular}{r|lllllllll}\n",
       "  & strain & rep & name & type & chr & start & end & strand & value\\\\\n",
       "\\hline\n",
       "\tX14C_biorep1 & 14C & biorep1 & SUT432 & SUTs & chr01 & 4875 & 5275 & - & 196.7108\\\\\n",
       "\tX17C_biorep1 & 17C & biorep1 & SUT432 & SUTs & chr01 & 4875 & 5275 & - & 125.5987\\\\\n",
       "\tX17D_biorep1 & 17D & biorep1 & SUT432 & SUTs & chr01 & 4875 & 5275 & - & 4.924066\\\\\n",
       "\tX18C_biorep1 & 18C & biorep1 & SUT432 & SUTs & chr01 & 4875 & 5275 & - & 0\\\\\n",
       "\tX18D_biorep1 & 18D & biorep1 & SUT432 & SUTs & chr01 & 4875 & 5275 & - & 0\\\\\n",
       "\tX19C_biorep1 & 19C & biorep1 & SUT432 & SUTs & chr01 & 4875 & 5275 & - & 0\\\\\n",
       "\\end{tabular}\n"
      ],
      "text/plain": [
       "             strain     rep   name type   chr start  end strand      value\n",
       "X14C_biorep1    14C biorep1 SUT432 SUTs chr01  4875 5275      - 196.710788\n",
       "X17C_biorep1    17C biorep1 SUT432 SUTs chr01  4875 5275      - 125.598734\n",
       "X17D_biorep1    17D biorep1 SUT432 SUTs chr01  4875 5275      -   4.924066\n",
       "X18C_biorep1    18C biorep1 SUT432 SUTs chr01  4875 5275      -   0.000000\n",
       "X18D_biorep1    18D biorep1 SUT432 SUTs chr01  4875 5275      -   0.000000\n",
       "X19C_biorep1    19C biorep1 SUT432 SUTs chr01  4875 5275      -   0.000000"
      ]
     },
     "execution_count": 24,
     "metadata": {},
     "output_type": "execute_result"
    }
   ],
   "source": [
    "head(trx_df)"
   ]
  },
  {
   "cell_type": "code",
   "execution_count": 34,
   "metadata": {
    "collapsed": false
   },
   "outputs": [
    {
     "name": "stdout",
     "output_type": "stream",
     "text": [
      "[1] 1\n",
      "[1] 2\n",
      "[1] 3\n",
      "[1] 4\n",
      "[1] 5\n",
      "[1] 6\n",
      "[1] 7\n",
      "[1] 8\n",
      "[1] 9\n"
     ]
    }
   ],
   "source": [
    "ge_mqtl = do.call(rbind,lapply(seq(1,dim(mQTL_table)[1]),function(i){\n",
    "    print(i)\n",
    "    metabolite = mQTL_table[i,\"metabolite\"]\n",
    "    maxmrk = mQTL_table[i,\"maxmrk\"]\n",
    "    genodf = data.frame(geno = geno[maxmrk,], strain = names(geno[maxmrk,]))\n",
    "    o = merge(ge, genodf, by = \"strain\" ) %>% group_by(name) %>% do({\n",
    "        cortest = cor.test(.$value, .$geno, method = \"pearson\", use=\"pair\")\n",
    "        data.frame(estimate = cortest$estimate, pval = cortest$p.value)\n",
    "    })\n",
    "    o$metabolite = metabolite\n",
    "    o$maxmrk = maxmrk\n",
    "    return(o)\n",
    "}))\n",
    "ge_mqtl$pval = p.adjust(ge_mqtl$pval)"
   ]
  },
  {
   "cell_type": "code",
   "execution_count": 20,
   "metadata": {
    "collapsed": false
   },
   "outputs": [
    {
     "name": "stderr",
     "output_type": "stream",
     "text": [
      "Warning message:\n",
      "In cor(x, y): the standard deviation is zeroWarning message:\n",
      "In cor(x, y): the standard deviation is zeroWarning message:\n",
      "In cor(x, y): the standard deviation is zeroWarning message:\n",
      "In cor(x, y): the standard deviation is zero"
     ]
    }
   ],
   "source": [
    "i = 1\n",
    "metabolite = mQTL_table[i,\"metabolite\"]\n",
    "maxmrk = mQTL_table[i,\"maxmrk\"]\n",
    "genodf = data.frame(geno = geno[maxmrk,], strain = names(geno[maxmrk,]))\n",
    "ge_mqtl = merge(ge, genodf, by = \"strain\" ) %>% group_by(name) %>% do({\n",
    "    cortest = cor.test(.$value, .$geno, method = \"pearson\", use=\"pair\")\n",
    "    data.frame(estimate = cortest$estimate, pval = cortest$p.value)\n",
    "})\n",
    "ge_mqtl$metabolite = metabolite\n",
    "ge_mqtl$maxmrk = maxmrk"
   ]
  },
  {
   "cell_type": "code",
   "execution_count": 46,
   "metadata": {
    "collapsed": false
   },
   "outputs": [
    {
     "data": {
      "text/html": [
       "<table>\n",
       "<thead><tr><th></th><th scope=col>name</th><th scope=col>estimate</th><th scope=col>pval</th><th scope=col>metabolite</th><th scope=col>maxmrk</th></tr></thead>\n",
       "<tbody>\n",
       "\t<tr><th scope=row>1</th><td>YAL067C</td><td>0.1556179</td><td>1</td><td>AKG</td><td>mrk_37228</td></tr>\n",
       "\t<tr><th scope=row>2</th><td>YAL054C</td><td>-0.06836896</td><td>1</td><td>AKG</td><td>mrk_37228</td></tr>\n",
       "\t<tr><th scope=row>3</th><td>YAL049C</td><td>0.06459199</td><td>1</td><td>AKG</td><td>mrk_37228</td></tr>\n",
       "\t<tr><th scope=row>4</th><td>YAL048C</td><td>-0.02167676</td><td>1</td><td>AKG</td><td>mrk_37228</td></tr>\n",
       "\t<tr><th scope=row>5</th><td>YAL047C</td><td>0.005228904</td><td>1</td><td>AKG</td><td>mrk_37228</td></tr>\n",
       "\t<tr><th scope=row>6</th><td>YAL046C</td><td>-0.2257095</td><td>1</td><td>AKG</td><td>mrk_37228</td></tr>\n",
       "</tbody>\n",
       "</table>\n"
      ],
      "text/latex": [
       "\\begin{tabular}{r|lllll}\n",
       "  & name & estimate & pval & metabolite & maxmrk\\\\\n",
       "\\hline\n",
       "\t1 & YAL067C & 0.1556179 & 1 & AKG & mrk_37228\\\\\n",
       "\t2 & YAL054C & -0.06836896 & 1 & AKG & mrk_37228\\\\\n",
       "\t3 & YAL049C & 0.06459199 & 1 & AKG & mrk_37228\\\\\n",
       "\t4 & YAL048C & -0.02167676 & 1 & AKG & mrk_37228\\\\\n",
       "\t5 & YAL047C & 0.005228904 & 1 & AKG & mrk_37228\\\\\n",
       "\t6 & YAL046C & -0.2257095 & 1 & AKG & mrk_37228\\\\\n",
       "\\end{tabular}\n"
      ],
      "text/plain": [
       "Source: local data frame [6 x 5]\n",
       "Groups: name [6]\n",
       "\n",
       "     name     estimate  pval metabolite    maxmrk\n",
       "   (fctr)        (dbl) (dbl)     (fctr)    (fctr)\n",
       "1 YAL067C  0.155617881     1        AKG mrk_37228\n",
       "2 YAL054C -0.068368957     1        AKG mrk_37228\n",
       "3 YAL049C  0.064591986     1        AKG mrk_37228\n",
       "4 YAL048C -0.021676760     1        AKG mrk_37228\n",
       "5 YAL047C  0.005228904     1        AKG mrk_37228\n",
       "6 YAL046C -0.225709463     1        AKG mrk_37228"
      ]
     },
     "execution_count": 46,
     "metadata": {},
     "output_type": "execute_result"
    }
   ],
   "source": [
    "head(ge_mqtl)"
   ]
  },
  {
   "cell_type": "code",
   "execution_count": null,
   "metadata": {
    "collapsed": true
   },
   "outputs": [],
   "source": []
  }
 ],
 "metadata": {
  "kernelspec": {
   "display_name": "R",
   "language": "R",
   "name": "ir"
  },
  "language_info": {
   "codemirror_mode": "r",
   "file_extension": ".r",
   "mimetype": "text/x-r-source",
   "name": "R",
   "pygments_lexer": "r",
   "version": "3.2.2"
  }
 },
 "nbformat": 4,
 "nbformat_minor": 0
}
