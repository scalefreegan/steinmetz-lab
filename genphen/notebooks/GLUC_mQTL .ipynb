{
 "cells": [
  {
   "cell_type": "markdown",
   "metadata": {},
   "source": [
    "# Glucose mQTL\n",
    "\n",
    "Candidate list for glucose mQTL\n",
    "\n",
    "These two genes were identified by their location relative to the QTL peaks AND (importantly) a high STITCH score. Glucose mQTL has two peaks on chrVII @ FDR ~15%. MIG1 is located under the minor peak and CTT1 under the major peak\n",
    "\n",
    "<img src=\"src/gluc_mqtl.png\" width=\"1000px\"></img>\n",
    "\n",
    "Both MIG1 and CTT1 have at least 1 SNP with \"moderate\" impact"
   ]
  },
  {
   "cell_type": "markdown",
   "metadata": {},
   "source": [
    "## MIG1\n",
    "\n",
    "From SGD:\n",
    "\n",
    "Transcription factor involved in glucose repression; sequence specific DNA binding protein containing two Cys2His2 zinc finger motifs; regulated by the SNF1 kinase and the GLC7 phosphatase; regulates filamentous growth along with Mig2p in response to glucose depletion; activated in stochastic pulses of nuclear localization, shuttling between cytosol and nucleus depending on external glucose levels and its phosphorylation state\n",
    "\n",
    "Papers linking MIG1 to glucose metabolism\n",
    "\n",
    "<a href=\"http://www.ncbi.nlm.nih.gov/pubmed/8757741\">Glucose-triggered signalling in Saccharomyces cerevisiae: different requirements for sugar phosphorylation between cells grown on glucose and those grown on non-fermentable carbon sources.\n",
    "</a>\n",
    "\n",
    "<img src=\"http://www.ncbi.nlm.nih.gov/pmc/articles/PMC2515871/bin/molbiolevolmsn138f02_ht.jpg\">\n",
    "\n",
    "<img src=\"http://www.ncbi.nlm.nih.gov/pmc/articles/PMC2515871/bin/molbiolevolmsn138f03_lw.jpg\" width=\"500px\">\n",
    "\n",
    "Mig1 mRNA expression levels are different between BY and YJM789 (qRT-PCR)\n",
    "\n"
   ]
  },
  {
   "cell_type": "markdown",
   "metadata": {},
   "source": [
    "## CTT1\n",
    "\n",
    "Cytosolic catalase T; has a role in protection from oxidative damage by hydrogen peroxide\n",
    "\n",
    "Papers linking gene to glucose metabolism.\n",
    "\n",
    "<a href=\"http://www.ncbi.nlm.nih.gov/pubmed/8757741\">Glucose-triggered signalling in Saccharomyces cerevisiae: different requirements for sugar phosphorylation between cells grown on glucose and those grown on non-fermentable carbon sources.\n",
    "</a>"
   ]
  },
  {
   "cell_type": "markdown",
   "metadata": {},
   "source": []
  },
  {
   "cell_type": "code",
   "execution_count": null,
   "metadata": {
    "collapsed": true
   },
   "outputs": [],
   "source": []
  }
 ],
 "metadata": {
  "kernelspec": {
   "display_name": "R",
   "language": "R",
   "name": "ir"
  },
  "language_info": {
   "codemirror_mode": "r",
   "file_extension": ".r",
   "mimetype": "text/x-r-source",
   "name": "R",
   "pygments_lexer": "r",
   "version": "3.2.2"
  }
 },
 "nbformat": 4,
 "nbformat_minor": 0
}
