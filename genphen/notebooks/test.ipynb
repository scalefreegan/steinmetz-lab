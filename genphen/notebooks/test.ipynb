{
 "cells": [
  {
   "cell_type": "markdown",
   "metadata": {},
   "source": [
    "Testing the jupyter R kernel"
   ]
  },
  {
   "cell_type": "markdown",
   "metadata": {},
   "source": [
    "# Install packages"
   ]
  },
  {
   "cell_type": "markdown",
   "metadata": {},
   "source": [
    "Where is iPython notebook kernel?"
   ]
  },
  {
   "cell_type": "code",
   "execution_count": 1,
   "metadata": {
    "collapsed": false
   },
   "outputs": [
    {
     "data": {
      "text/html": [
       "'/g/steinmetz/brooks/anaconda/envs/py27/lib/R/library'"
      ],
      "text/latex": [
       "'/g/steinmetz/brooks/anaconda/envs/py27/lib/R/library'"
      ],
      "text/markdown": [
       "'/g/steinmetz/brooks/anaconda/envs/py27/lib/R/library'"
      ],
      "text/plain": [
       "[1] \"/g/steinmetz/brooks/anaconda/envs/py27/lib/R/library\""
      ]
     },
     "execution_count": 1,
     "metadata": {},
     "output_type": "execute_result"
    }
   ],
   "source": [
    ".libPaths()"
   ]
  },
  {
   "cell_type": "code",
   "execution_count": 3,
   "metadata": {
    "collapsed": true
   },
   "outputs": [],
   "source": [
    "packages = c(\n",
    "    \"xlsx\",\n",
    "    \"ggplot2\",\n",
    "    \"plyr\",\n",
    "    \"dplyr\",\n",
    "    \"reshape2\",\n",
    "    \"LSD\",\n",
    "    \"qtl\",\n",
    "    \"pheatmap\",\n",
    "    \"funqtl\",\n",
    "    \"parallel\",\n",
    "    \"snow\",\n",
    "    \"igraph\",\n",
    "    \"stringr\",\n",
    "    \"devtools\",\n",
    "    \"Matrix\"\n",
    ")"
   ]
  },
  {
   "cell_type": "code",
   "execution_count": null,
   "metadata": {
    "collapsed": false
   },
   "outputs": [],
   "source": [
    "install.packages(packages, repos = \"http://cran.fhcrc.org/\", dependencies = T)"
   ]
  },
  {
   "cell_type": "code",
   "execution_count": null,
   "metadata": {
    "collapsed": false
   },
   "outputs": [],
   "source": [
    "library(\"devtools\")\n",
    "install_github(\"ikwak2/funqtl\")"
   ]
  },
  {
   "cell_type": "code",
   "execution_count": 3,
   "metadata": {
    "collapsed": false
   },
   "outputs": [
    {
     "name": "stdout",
     "output_type": "stream",
     "text": [
      "\n",
      "The downloaded source packages are in\n",
      "\t‘/tmp/Rtmpq4CJ7O/downloaded_packages’\n"
     ]
    },
    {
     "name": "stderr",
     "output_type": "stream",
     "text": [
      "Updating HTML index of packages in '.Library'\n",
      "Making 'packages.html' ... done\n"
     ]
    }
   ],
   "source": [
    "install.packages(\"RColorBrewer\", repos = \"http://cran.fhcrc.org/\", dependencies = T)"
   ]
  },
  {
   "cell_type": "code",
   "execution_count": null,
   "metadata": {
    "collapsed": true
   },
   "outputs": [],
   "source": []
  }
 ],
 "metadata": {
  "kernelspec": {
   "display_name": "R",
   "language": "R",
   "name": "ir"
  },
  "language_info": {
   "codemirror_mode": "r",
   "file_extension": ".r",
   "mimetype": "text/x-r-source",
   "name": "R",
   "pygments_lexer": "r",
   "version": "3.2.2"
  }
 },
 "nbformat": 4,
 "nbformat_minor": 0
}
