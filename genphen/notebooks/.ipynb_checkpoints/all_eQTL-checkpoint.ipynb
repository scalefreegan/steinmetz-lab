{
 "cells": [
  {
   "cell_type": "markdown",
   "metadata": {},
   "source": [
    "# eQTL chr13 overlapping mQTL chr13"
   ]
  },
  {
   "cell_type": "markdown",
   "metadata": {},
   "source": [
    "Table of all eQTLs"
   ]
  },
  {
   "cell_type": "code",
   "execution_count": 3,
   "metadata": {
    "collapsed": false
   },
   "outputs": [],
   "source": [
    ".libPaths(\"~/R/x86_64-redhat-linux-gnu-library/3.2/\")\n",
    "# config opts and libraries\n",
    "options(repr.plot.width = 6)\n",
    "options(repr.plot.height = 5)\n",
    "library(ggplot2);\n",
    "library(plyr);\n",
    "library(dplyr);\n",
    "library(reshape2);\n",
    "library(LSD);\n",
    "library(pheatmap);\n",
    "library(parallel);\n",
    "options(mc.cores = 5);\n",
    "library(stringr);\n",
    "library(RColorBrewer);\n",
    "library(qtl);\n",
    "library(GenomicRanges);"
   ]
  },
  {
   "cell_type": "code",
   "execution_count": 2,
   "metadata": {
    "collapsed": true
   },
   "outputs": [],
   "source": [
    "# load normalized QTLs\n",
    "load(\"/g/steinmetz/brooks/genphen//metabolome/qtls/mQTLs_comball_funqtl_2014.rda\")\n",
    "mQTLs_funqtl_2014_class = sapply(mQTLs_funqtl_2014,class)\n",
    "mQTLs_funqtl_2014 = mQTLs_funqtl_2014[mQTLs_funqtl_2014_class!=\"try-error\"]"
   ]
  },
  {
   "cell_type": "code",
   "execution_count": 4,
   "metadata": {
    "collapsed": true
   },
   "outputs": [],
   "source": [
    "# load eQTLs\n",
    "load(\"/g/steinmetz/brooks/genphen/transcriptome/qtl/eQTL_08032016.rda\")"
   ]
  },
  {
   "cell_type": "code",
   "execution_count": 4,
   "metadata": {
    "collapsed": true
   },
   "outputs": [],
   "source": [
    "# load genotype and markers files\n",
    "genotype_f = \"/g/steinmetz/brooks/yeast/genomes/S288CxYJM789/genotypes_S288c_R64.rda\"\n",
    "load(genotype_f)"
   ]
  },
  {
   "cell_type": "code",
   "execution_count": 31,
   "metadata": {
    "collapsed": true
   },
   "outputs": [],
   "source": [
    "# load transcript annotation\n",
    "load(\"/g/steinmetz/brooks/genphen/transcriptome/data/trx_df.rda\")"
   ]
  },
  {
   "cell_type": "code",
   "execution_count": 9,
   "metadata": {
    "collapsed": false
   },
   "outputs": [
    {
     "data": {
      "text/html": [
       "7247"
      ],
      "text/latex": [
       "7247"
      ],
      "text/markdown": [
       "7247"
      ],
      "text/plain": [
       "[1] 7247"
      ]
     },
     "execution_count": 9,
     "metadata": {},
     "output_type": "execute_result"
    }
   ],
   "source": [
    "length(unique(trx_df$name))"
   ]
  },
  {
   "cell_type": "code",
   "execution_count": 23,
   "metadata": {
    "collapsed": false
   },
   "outputs": [],
   "source": [
    "thisfile = \"/g/steinmetz/brooks/genphen/transcriptome/qtl/eQTL_08032016.rda\"\n",
    "co = .1 # 10% FDR\n",
    "bayesint = .95 # 95% Bayesian confidence interval around QTL\n",
    "if (file.exists(thisfile)) {\n",
    "    load(thisfile)\n",
    "} else {\n",
    "    # normalized data\n",
    "    genes = colnames(eQTL$qtls)[c(-1,-2)]\n",
    "    genes_i = seq(3, dim(eQTL$qtls)[2])\n",
    "    qtltable = do.call(rbind,lapply(genes_i, function(i){\n",
    "        g = genes[i]\n",
    "        o = try({\n",
    "            #print(i)\n",
    "            m = i\n",
    "            d = data.frame(as.matrix(eQTL$qtls[,1:2]), lod = eQTL$qtls[, i+2])\n",
    "            chrs = unique(d[d$lod >= summary(eQTL$resamples[[i]], alpha = co)[1],][,\"chr\"])\n",
    "            qtl_intervals = list()\n",
    "            if (length(chrs)>0) {\n",
    "              for (j in chrs) {\n",
    "                bi = bayesint(eQTL$qtls, chr = str_pad(j, 2, pad = \"0\"), prob=bayesint, lodcolumn = i)\n",
    "                lod = max(bi[,i+2])\n",
    "                maxmrk = rownames(bi)[which(bi[,i+2]==lod)]\n",
    "                #print(lod)\n",
    "                qtl_intervals[[j]] = try(mrk[rownames(bi)],silent = T)\n",
    "                if (class(qtl_intervals[[j]])==\"try-error\") {\n",
    "                  qtl_intervals[[j]] = NULL\n",
    "                } else {\n",
    "                  nn = sapply(as.character(seqnames(qtl_intervals[[j]])),function(x){\n",
    "                    paste(substr(x,1,3),as.roman(substr(x,4,5)),sep=\"\")\n",
    "                  })\n",
    "                  qtl_intervals[[j]] = renameSeqlevels(qtl_intervals[[j]],nn)\n",
    "                  qtl_intervals[[j]] = keepSeqlevels(qtl_intervals[[j]],unique(nn))\n",
    "                  qtl_intervals[[j]] = range(qtl_intervals[[j]])\n",
    "                  qtl_intervals[[j]]$maxlod = lod\n",
    "                  qtl_intervals[[j]]$maxmrk = maxmrk\n",
    "                  qtl_intervals[[j]] = as.data.frame(qtl_intervals[[j]])\n",
    "                }\n",
    "                #print(qtl_intervals)\n",
    "              }\n",
    "            }\n",
    "            if (length(qtl_intervals) > 1) {\n",
    "                qtl_df = do.call(rbind,qtl_intervals)\n",
    "            } else {\n",
    "                qtl_df = as.data.frame(qtl_intervals[[1]])\n",
    "            }\n",
    "            qtl_df = cbind(gene = g, qtl_df)\n",
    "            })\n",
    "            if (class(o)!=\"try-error\") {\n",
    "                return(o)\n",
    "            } else {\n",
    "                return(NULL)\n",
    "            }\n",
    "    }))\n",
    "    # load eQTLs\n",
    "    save(eQTL, qtltable,file = \"/g/steinmetz/brooks/genphen/transcriptome/qtl/eQTL_08032016.rda\")\n",
    "}"
   ]
  },
  {
   "cell_type": "code",
   "execution_count": 24,
   "metadata": {
    "collapsed": false
   },
   "outputs": [
    {
     "name": "stdout",
     "output_type": "stream",
     "text": [
      "Number of eQTLs: 4150 @ FDR: 0.1 all genes"
     ]
    }
   ],
   "source": [
    "cat(\"Number of eQTLs:\", dim(qtltable)[1], \"@ FDR:\", co, \"all genes\")"
   ]
  },
  {
   "cell_type": "code",
   "execution_count": 26,
   "metadata": {
    "collapsed": false
   },
   "outputs": [
    {
     "name": "stdout",
     "output_type": "stream",
     "text": [
      "Number of eQTLs: 3068 8 @ FDR: 0.1 ORFs"
     ]
    }
   ],
   "source": [
    "orfs_only = filter(trx_df,type==\"ORFs\")\n",
    "cat(\"Number of eQTLs:\", dim(filter(qtltable,gene%in%unique(orfs_only$name))), \"@ FDR:\", co, \"ORFs\")"
   ]
  },
  {
   "cell_type": "code",
   "execution_count": 16,
   "metadata": {
    "collapsed": false
   },
   "outputs": [
    {
     "name": "stdout",
     "output_type": "stream",
     "text": [
      "Number of transcripts with at least 1 eQTL: 3350 @ FDR: 0.1"
     ]
    }
   ],
   "source": [
    "cat(\"Number of transcripts with at least 1 eQTL:\", length(levels(qtltable$gene)), \"@ FDR:\", co)"
   ]
  },
  {
   "cell_type": "code",
   "execution_count": 32,
   "metadata": {
    "collapsed": false
   },
   "outputs": [],
   "source": [
    "# remove duplicates\n",
    "trx_df = trx_df %>% select(name,chr,start,end,type)"
   ]
  },
  {
   "cell_type": "code",
   "execution_count": 33,
   "metadata": {
    "collapsed": false
   },
   "outputs": [],
   "source": [
    "trx_df = trx_df[!duplicated(trx_df),]"
   ]
  },
  {
   "cell_type": "code",
   "execution_count": 34,
   "metadata": {
    "collapsed": false
   },
   "outputs": [],
   "source": [
    "g2qtl = merge(qtltable, trx_df, by.x = \"gene\", by.y = \"name\")"
   ]
  },
  {
   "cell_type": "code",
   "execution_count": 81,
   "metadata": {
    "collapsed": false
   },
   "outputs": [],
   "source": [
    "# determine number of cis/trans eQTL\n",
    "# 10 kb region around gene promoter\n",
    "cutoffs = c(1000, 10000, 25000, 50000)\n",
    "localQTL = c() \n",
    "for (x in 1:length(cutoffs)) {\n",
    "    cutoff = cutoffs[x]\n",
    "    this.local = apply(g2qtl, 1, function(i){\n",
    "        chr = as.roman(as.numeric(gsub(\"^chr\",\"\",i[\"chr\"])))\n",
    "        if (paste(\"chr\",chr,sep = \"\") != i[\"seqnames\"]) {\n",
    "            return(F)\n",
    "        } else {\n",
    "            sum((seq(as.numeric(i[\"start.x\"]), as.numeric(i[\"end.x\"]), by = 1) %in% \n",
    "             seq(as.numeric(i[\"start.y\"])-cutoff, as.numeric(i[\"end.y\"])+cutoff, by = 1)) > 0) > 0\n",
    "        }\n",
    "    })\n",
    "    this.local = data.frame(gene = g2qtl$gene, cis = this.local)\n",
    "    localQTL[x] = sum(this.local$cis)\n",
    "}\n",
    "names(localQTL) = cutoffs"
   ]
  },
  {
   "cell_type": "code",
   "execution_count": 85,
   "metadata": {
    "collapsed": false
   },
   "outputs": [
    {
     "data": {
      "image/png": "[encoded data removed]",
      "image/svg+xml": [
       "<?xml version=\"1.0\" encoding=\"UTF-8\"?>\n",
       "<svg xmlns=\"http://www.w3.org/2000/svg\" xmlns:xlink=\"http://www.w3.org/1999/xlink\" width=\"432pt\" height=\"360pt\" viewBox=\"0 0 432 360\" version=\"1.1\">\n",
       "<defs>\n",
       "<g>\n",
       "<symbol overflow=\"visible\" id=\"glyph0-0\">\n",
       "<path style=\"stroke:none;\" d=\"\"/>\n",
       "</symbol>\n",
       "<symbol overflow=\"visible\" id=\"glyph0-1\">\n",
       "<path style=\"stroke:none;\" d=\"M 3.109375 -6.0625 L 3.109375 0 L 4.15625 0 L 4.15625 -8.515625 L 3.46875 -8.515625 C 3.09375 -7.203125 2.859375 -7.015625 1.21875 -6.8125 L 1.21875 -6.0625 Z \"/>\n",
       "</symbol>\n",
       "<symbol overflow=\"visible\" id=\"glyph0-2\">\n",
       "<path style=\"stroke:none;\" d=\"M 3.296875 -8.515625 C 2.515625 -8.515625 1.78125 -8.15625 1.34375 -7.578125 C 0.796875 -6.828125 0.515625 -5.6875 0.515625 -4.109375 C 0.515625 -1.25 1.46875 0.28125 3.296875 0.28125 C 5.09375 0.28125 6.078125 -1.25 6.078125 -4.046875 C 6.078125 -5.703125 5.8125 -6.796875 5.25 -7.578125 C 4.8125 -8.171875 4.109375 -8.515625 3.296875 -8.515625 Z M 3.296875 -7.578125 C 4.4375 -7.578125 5 -6.421875 5 -4.140625 C 5 -1.734375 4.453125 -0.59375 3.28125 -0.59375 C 2.15625 -0.59375 1.59375 -1.78125 1.59375 -4.109375 C 1.59375 -6.4375 2.15625 -7.578125 3.296875 -7.578125 Z \"/>\n",
       "</symbol>\n",
       "<symbol overflow=\"visible\" id=\"glyph0-3\">\n",
       "<path style=\"stroke:none;\" d=\"M 6.078125 -1.046875 L 1.59375 -1.046875 C 1.703125 -1.734375 2.09375 -2.1875 3.125 -2.796875 L 4.328125 -3.4375 C 5.515625 -4.09375 6.125 -4.96875 6.125 -6.015625 C 6.125 -6.71875 5.84375 -7.375 5.34375 -7.84375 C 4.84375 -8.296875 4.21875 -8.515625 3.40625 -8.515625 C 2.328125 -8.515625 1.53125 -8.125 1.0625 -7.40625 C 0.75 -6.953125 0.625 -6.421875 0.59375 -5.5625 L 1.65625 -5.5625 C 1.6875 -6.125 1.765625 -6.484375 1.90625 -6.75 C 2.1875 -7.265625 2.734375 -7.578125 3.375 -7.578125 C 4.328125 -7.578125 5.046875 -6.90625 5.046875 -5.984375 C 5.046875 -5.3125 4.65625 -4.734375 3.90625 -4.3125 L 2.796875 -3.6875 C 1.015625 -2.671875 0.5 -1.875 0.40625 0 L 6.078125 0 Z \"/>\n",
       "</symbol>\n",
       "<symbol overflow=\"visible\" id=\"glyph0-4\">\n",
       "<path style=\"stroke:none;\" d=\"M 5.71875 -8.515625 L 1.3125 -8.515625 L 0.6875 -3.875 L 1.65625 -3.875 C 2.140625 -4.46875 2.5625 -4.671875 3.21875 -4.671875 C 4.359375 -4.671875 5.078125 -3.890625 5.078125 -2.625 C 5.078125 -1.40625 4.375 -0.65625 3.21875 -0.65625 C 2.296875 -0.65625 1.734375 -1.125 1.46875 -2.09375 L 0.421875 -2.09375 C 0.5625 -1.390625 0.6875 -1.0625 0.9375 -0.75 C 1.421875 -0.09375 2.28125 0.28125 3.234375 0.28125 C 4.953125 0.28125 6.15625 -0.96875 6.15625 -2.765625 C 6.15625 -4.453125 5.046875 -5.609375 3.40625 -5.609375 C 2.8125 -5.609375 2.328125 -5.453125 1.84375 -5.09375 L 2.171875 -7.46875 L 5.71875 -7.46875 Z \"/>\n",
       "</symbol>\n",
       "<symbol overflow=\"visible\" id=\"glyph0-5\">\n",
       "<path style=\"stroke:none;\" d=\"M 1.0625 0 L 4.4375 0 C 6.640625 0 8 -1.65625 8 -4.375 C 8 -7.09375 6.65625 -8.75 4.4375 -8.75 L 1.0625 -8.75 Z M 2.1875 -0.984375 L 2.1875 -7.765625 L 4.25 -7.765625 C 5.96875 -7.765625 6.890625 -6.59375 6.890625 -4.375 C 6.890625 -2.15625 5.96875 -0.984375 4.25 -0.984375 Z \"/>\n",
       "</symbol>\n",
       "<symbol overflow=\"visible\" id=\"glyph0-6\">\n",
       "<path style=\"stroke:none;\" d=\"M 1.796875 -6.28125 L 0.796875 -6.28125 L 0.796875 0 L 1.796875 0 Z M 1.796875 -8.75 L 0.796875 -8.75 L 0.796875 -7.484375 L 1.796875 -7.484375 Z \"/>\n",
       "</symbol>\n",
       "<symbol overflow=\"visible\" id=\"glyph0-7\">\n",
       "<path style=\"stroke:none;\" d=\"M 5.25 -4.53125 C 5.25 -5.765625 4.421875 -6.46875 2.96875 -6.46875 C 1.515625 -6.46875 0.5625 -5.71875 0.5625 -4.546875 C 0.5625 -3.5625 1.0625 -3.09375 2.5625 -2.734375 L 3.484375 -2.515625 C 4.1875 -2.34375 4.46875 -2.09375 4.46875 -1.625 C 4.46875 -1.046875 3.875 -0.640625 3 -0.640625 C 2.453125 -0.640625 2 -0.796875 1.75 -1.0625 C 1.59375 -1.25 1.53125 -1.421875 1.46875 -1.875 L 0.40625 -1.875 C 0.453125 -0.421875 1.265625 0.28125 2.921875 0.28125 C 4.5 0.28125 5.515625 -0.5 5.515625 -1.71875 C 5.515625 -2.65625 4.984375 -3.171875 3.734375 -3.46875 L 2.765625 -3.703125 C 1.953125 -3.890625 1.609375 -4.15625 1.609375 -4.59375 C 1.609375 -5.171875 2.125 -5.546875 2.9375 -5.546875 C 3.75 -5.546875 4.171875 -5.203125 4.203125 -4.53125 Z \"/>\n",
       "</symbol>\n",
       "<symbol overflow=\"visible\" id=\"glyph0-8\">\n",
       "<path style=\"stroke:none;\" d=\"M 3.046875 -6.28125 L 2.015625 -6.28125 L 2.015625 -8.015625 L 1.015625 -8.015625 L 1.015625 -6.28125 L 0.171875 -6.28125 L 0.171875 -5.46875 L 1.015625 -5.46875 L 1.015625 -0.71875 C 1.015625 -0.078125 1.453125 0.28125 2.234375 0.28125 C 2.46875 0.28125 2.71875 0.25 3.046875 0.1875 L 3.046875 -0.640625 C 2.921875 -0.609375 2.765625 -0.59375 2.5625 -0.59375 C 2.140625 -0.59375 2.015625 -0.71875 2.015625 -1.15625 L 2.015625 -5.46875 L 3.046875 -5.46875 Z \"/>\n",
       "</symbol>\n",
       "<symbol overflow=\"visible\" id=\"glyph0-9\">\n",
       "<path style=\"stroke:none;\" d=\"M 6.421875 -0.59375 C 6.3125 -0.5625 6.265625 -0.5625 6.203125 -0.5625 C 5.859375 -0.5625 5.65625 -0.75 5.65625 -1.0625 L 5.65625 -4.75 C 5.65625 -5.875 4.84375 -6.46875 3.296875 -6.46875 C 2.390625 -6.46875 1.625 -6.203125 1.21875 -5.734375 C 0.921875 -5.40625 0.796875 -5.046875 0.78125 -4.421875 L 1.78125 -4.421875 C 1.875 -5.203125 2.328125 -5.546875 3.265625 -5.546875 C 4.15625 -5.546875 4.671875 -5.203125 4.671875 -4.609375 L 4.671875 -4.34375 C 4.671875 -3.921875 4.421875 -3.75 3.625 -3.640625 C 2.203125 -3.46875 1.984375 -3.421875 1.609375 -3.265625 C 0.875 -2.96875 0.5 -2.40625 0.5 -1.578125 C 0.5 -0.4375 1.296875 0.28125 2.5625 0.28125 C 3.359375 0.28125 4 0 4.703125 -0.640625 C 4.78125 -0.015625 5.09375 0.28125 5.734375 0.28125 C 5.9375 0.28125 6.09375 0.25 6.421875 0.171875 Z M 4.671875 -1.984375 C 4.671875 -1.640625 4.578125 -1.4375 4.265625 -1.15625 C 3.859375 -0.796875 3.375 -0.59375 2.78125 -0.59375 C 2 -0.59375 1.546875 -0.96875 1.546875 -1.609375 C 1.546875 -2.265625 1.984375 -2.609375 3.0625 -2.765625 C 4.109375 -2.90625 4.328125 -2.953125 4.671875 -3.109375 Z \"/>\n",
       "</symbol>\n",
       "<symbol overflow=\"visible\" id=\"glyph0-10\">\n",
       "<path style=\"stroke:none;\" d=\"M 0.84375 -6.28125 L 0.84375 0 L 1.84375 0 L 1.84375 -3.46875 C 1.84375 -4.75 2.515625 -5.59375 3.546875 -5.59375 C 4.34375 -5.59375 4.84375 -5.109375 4.84375 -4.359375 L 4.84375 0 L 5.84375 0 L 5.84375 -4.75 C 5.84375 -5.796875 5.0625 -6.46875 3.859375 -6.46875 C 2.921875 -6.46875 2.3125 -6.109375 1.765625 -5.234375 L 1.765625 -6.28125 Z \"/>\n",
       "</symbol>\n",
       "<symbol overflow=\"visible\" id=\"glyph0-11\">\n",
       "<path style=\"stroke:none;\" d=\"M 5.65625 -4.171875 C 5.609375 -4.78125 5.46875 -5.1875 5.234375 -5.53125 C 4.796875 -6.125 4.046875 -6.46875 3.171875 -6.46875 C 1.46875 -6.46875 0.375 -5.125 0.375 -3.03125 C 0.375 -1.015625 1.453125 0.28125 3.15625 0.28125 C 4.65625 0.28125 5.609375 -0.625 5.71875 -2.15625 L 4.71875 -2.15625 C 4.546875 -1.15625 4.03125 -0.640625 3.1875 -0.640625 C 2.078125 -0.640625 1.421875 -1.546875 1.421875 -3.03125 C 1.421875 -4.609375 2.0625 -5.546875 3.15625 -5.546875 C 4 -5.546875 4.53125 -5.046875 4.640625 -4.171875 Z \"/>\n",
       "</symbol>\n",
       "<symbol overflow=\"visible\" id=\"glyph0-12\">\n",
       "<path style=\"stroke:none;\" d=\"M 6.15625 -2.8125 C 6.15625 -3.765625 6.078125 -4.34375 5.90625 -4.8125 C 5.5 -5.84375 4.53125 -6.46875 3.359375 -6.46875 C 1.609375 -6.46875 0.484375 -5.125 0.484375 -3.0625 C 0.484375 -1 1.578125 0.28125 3.34375 0.28125 C 4.78125 0.28125 5.765625 -0.546875 6.03125 -1.90625 L 5.015625 -1.90625 C 4.734375 -1.078125 4.171875 -0.640625 3.375 -0.640625 C 2.734375 -0.640625 2.203125 -0.9375 1.859375 -1.46875 C 1.625 -1.828125 1.53125 -2.1875 1.53125 -2.8125 Z M 1.546875 -3.625 C 1.625 -4.78125 2.34375 -5.546875 3.34375 -5.546875 C 4.328125 -5.546875 5.09375 -4.734375 5.09375 -3.703125 C 5.09375 -3.671875 5.09375 -3.640625 5.078125 -3.625 Z \"/>\n",
       "</symbol>\n",
       "<symbol overflow=\"visible\" id=\"glyph0-13\">\n",
       "<path style=\"stroke:none;\" d=\"\"/>\n",
       "</symbol>\n",
       "<symbol overflow=\"visible\" id=\"glyph0-14\">\n",
       "<path style=\"stroke:none;\" d=\"M 3.09375 -6.28125 L 2.046875 -6.28125 L 2.046875 -7.265625 C 2.046875 -7.6875 2.296875 -7.90625 2.75 -7.90625 C 2.828125 -7.90625 2.875 -7.90625 3.09375 -7.890625 L 3.09375 -8.71875 C 2.875 -8.765625 2.734375 -8.78125 2.53125 -8.78125 C 1.609375 -8.78125 1.0625 -8.25 1.0625 -7.359375 L 1.0625 -6.28125 L 0.21875 -6.28125 L 0.21875 -5.46875 L 1.0625 -5.46875 L 1.0625 0 L 2.046875 0 L 2.046875 -5.46875 L 3.09375 -5.46875 Z \"/>\n",
       "</symbol>\n",
       "<symbol overflow=\"visible\" id=\"glyph0-15\">\n",
       "<path style=\"stroke:none;\" d=\"M 0.828125 -6.28125 L 0.828125 0 L 1.84375 0 L 1.84375 -3.265625 C 1.84375 -4.15625 2.0625 -4.75 2.546875 -5.09375 C 2.859375 -5.328125 3.15625 -5.40625 3.859375 -5.40625 L 3.859375 -6.4375 C 3.6875 -6.453125 3.59375 -6.46875 3.46875 -6.46875 C 2.8125 -6.46875 2.328125 -6.078125 1.75 -5.140625 L 1.75 -6.28125 Z \"/>\n",
       "</symbol>\n",
       "<symbol overflow=\"visible\" id=\"glyph0-16\">\n",
       "<path style=\"stroke:none;\" d=\"M 3.265625 -6.46875 C 1.5 -6.46875 0.4375 -5.203125 0.4375 -3.09375 C 0.4375 -0.984375 1.484375 0.28125 3.28125 0.28125 C 5.046875 0.28125 6.125 -0.984375 6.125 -3.046875 C 6.125 -5.21875 5.078125 -6.46875 3.265625 -6.46875 Z M 3.28125 -5.546875 C 4.40625 -5.546875 5.078125 -4.625 5.078125 -3.0625 C 5.078125 -1.578125 4.375 -0.640625 3.28125 -0.640625 C 2.15625 -0.640625 1.46875 -1.578125 1.46875 -3.09375 C 1.46875 -4.609375 2.15625 -5.546875 3.28125 -5.546875 Z \"/>\n",
       "</symbol>\n",
       "<symbol overflow=\"visible\" id=\"glyph0-17\">\n",
       "<path style=\"stroke:none;\" d=\"M 0.84375 -6.28125 L 0.84375 0 L 1.84375 0 L 1.84375 -3.953125 C 1.84375 -4.859375 2.515625 -5.59375 3.328125 -5.59375 C 4.0625 -5.59375 4.484375 -5.140625 4.484375 -4.328125 L 4.484375 0 L 5.5 0 L 5.5 -3.953125 C 5.5 -4.859375 6.15625 -5.59375 6.96875 -5.59375 C 7.703125 -5.59375 8.140625 -5.125 8.140625 -4.328125 L 8.140625 0 L 9.140625 0 L 9.140625 -4.71875 C 9.140625 -5.84375 8.5 -6.46875 7.3125 -6.46875 C 6.484375 -6.46875 5.96875 -6.21875 5.390625 -5.515625 C 5.015625 -6.1875 4.515625 -6.46875 3.703125 -6.46875 C 2.859375 -6.46875 2.296875 -6.15625 1.765625 -5.40625 L 1.765625 -6.28125 Z \"/>\n",
       "</symbol>\n",
       "<symbol overflow=\"visible\" id=\"glyph0-18\">\n",
       "<path style=\"stroke:none;\" d=\"M 0.640625 2.609375 L 1.65625 2.609375 L 1.65625 -0.65625 C 2.1875 -0.015625 2.765625 0.28125 3.59375 0.28125 C 5.203125 0.28125 6.28125 -1.03125 6.28125 -3.03125 C 6.28125 -5.140625 5.25 -6.46875 3.578125 -6.46875 C 2.71875 -6.46875 2.046875 -6.078125 1.578125 -5.34375 L 1.578125 -6.28125 L 0.640625 -6.28125 Z M 3.40625 -5.53125 C 4.515625 -5.53125 5.234375 -4.5625 5.234375 -3.0625 C 5.234375 -1.625 4.5 -0.65625 3.40625 -0.65625 C 2.359375 -0.65625 1.65625 -1.625 1.65625 -3.09375 C 1.65625 -4.578125 2.359375 -5.53125 3.40625 -5.53125 Z \"/>\n",
       "</symbol>\n",
       "<symbol overflow=\"visible\" id=\"glyph0-19\">\n",
       "<path style=\"stroke:none;\" d=\"M 2.828125 -8.75 C 1.625 -7.171875 0.875 -4.984375 0.875 -3.109375 C 0.875 -1.21875 1.625 0.96875 2.828125 2.546875 L 3.484375 2.546875 C 2.4375 0.828125 1.84375 -1.1875 1.84375 -3.109375 C 1.84375 -5.015625 2.4375 -7.046875 3.484375 -8.75 Z \"/>\n",
       "</symbol>\n",
       "<symbol overflow=\"visible\" id=\"glyph0-20\">\n",
       "<path style=\"stroke:none;\" d=\"M 0.640625 -8.75 L 0.640625 0 L 1.546875 0 L 1.546875 -0.796875 C 2.03125 -0.078125 2.65625 0.28125 3.546875 0.28125 C 5.203125 0.28125 6.28125 -1.078125 6.28125 -3.171875 C 6.28125 -5.203125 5.25 -6.46875 3.59375 -6.46875 C 2.71875 -6.46875 2.109375 -6.140625 1.640625 -5.4375 L 1.640625 -8.75 Z M 3.390625 -5.53125 C 4.515625 -5.53125 5.234375 -4.5625 5.234375 -3.0625 C 5.234375 -1.625 4.484375 -0.65625 3.390625 -0.65625 C 2.34375 -0.65625 1.640625 -1.625 1.640625 -3.09375 C 1.640625 -4.578125 2.34375 -5.53125 3.390625 -5.53125 Z \"/>\n",
       "</symbol>\n",
       "<symbol overflow=\"visible\" id=\"glyph0-21\">\n",
       "<path style=\"stroke:none;\" d=\"M 1.109375 2.546875 C 2.3125 0.96875 3.078125 -1.21875 3.078125 -3.09375 C 3.078125 -4.984375 2.3125 -7.171875 1.109375 -8.75 L 0.453125 -8.75 C 1.515625 -7.03125 2.09375 -5.015625 2.09375 -3.09375 C 2.09375 -1.1875 1.515625 0.84375 0.453125 2.546875 Z \"/>\n",
       "</symbol>\n",
       "<symbol overflow=\"visible\" id=\"glyph1-0\">\n",
       "<path style=\"stroke:none;\" d=\"\"/>\n",
       "</symbol>\n",
       "<symbol overflow=\"visible\" id=\"glyph1-1\">\n",
       "<path style=\"stroke:none;\" d=\"M -8.359375 -5.8125 L -8.359375 -4.890625 L -6.015625 -4.46875 L -6.015625 -2.96875 L -8.359375 -3.40625 L -8.359375 -2.5 L -6.015625 -2.0625 L -6.015625 -0.609375 L -5.203125 -0.609375 L -5.203125 -1.90625 L -3.109375 -1.53125 L -3.109375 -0.171875 L -2.296875 -0.171875 L -2.296875 -1.375 L 0.234375 -0.921875 L 0.234375 -1.84375 L -2.296875 -2.296875 L -2.296875 -3.796875 L 0.234375 -3.34375 L 0.234375 -4.25 L -2.296875 -4.71875 L -2.296875 -6.125 L -3.109375 -6.125 L -3.109375 -4.859375 L -5.203125 -5.234375 L -5.203125 -6.5 L -6.015625 -6.5 L -6.015625 -5.390625 Z M -5.203125 -4.3125 L -3.109375 -3.953125 L -3.109375 -2.453125 L -5.203125 -2.828125 Z \"/>\n",
       "</symbol>\n",
       "<symbol overflow=\"visible\" id=\"glyph1-2\">\n",
       "<path style=\"stroke:none;\" d=\"\"/>\n",
       "</symbol>\n",
       "<symbol overflow=\"visible\" id=\"glyph1-3\">\n",
       "<path style=\"stroke:none;\" d=\"M -2.8125 -6.15625 C -3.765625 -6.15625 -4.34375 -6.078125 -4.8125 -5.90625 C -5.84375 -5.5 -6.46875 -4.53125 -6.46875 -3.359375 C -6.46875 -1.609375 -5.125 -0.484375 -3.0625 -0.484375 C -1 -0.484375 0.28125 -1.578125 0.28125 -3.34375 C 0.28125 -4.78125 -0.546875 -5.765625 -1.90625 -6.03125 L -1.90625 -5.015625 C -1.078125 -4.734375 -0.640625 -4.171875 -0.640625 -3.375 C -0.640625 -2.734375 -0.9375 -2.203125 -1.46875 -1.859375 C -1.828125 -1.625 -2.1875 -1.53125 -2.8125 -1.53125 Z M -3.625 -1.546875 C -4.78125 -1.625 -5.546875 -2.34375 -5.546875 -3.34375 C -5.546875 -4.328125 -4.734375 -5.09375 -3.703125 -5.09375 C -3.671875 -5.09375 -3.640625 -5.09375 -3.625 -5.078125 Z \"/>\n",
       "</symbol>\n",
       "<symbol overflow=\"visible\" id=\"glyph1-4\">\n",
       "<path style=\"stroke:none;\" d=\"M 0.015625 -8.796875 L -0.90625 -7.671875 C -1.828125 -8.5 -2.953125 -8.90625 -4.328125 -8.90625 C -7.046875 -8.90625 -8.890625 -7.203125 -8.890625 -4.6875 C -8.890625 -2.15625 -7.046875 -0.453125 -4.3125 -0.453125 C -1.578125 -0.453125 0.28125 -2.15625 0.28125 -4.6875 C 0.28125 -5.546875 0.078125 -6.265625 -0.34375 -6.96875 L 0.703125 -8.234375 Z M -2.453125 -5.765625 L -1.78125 -5.21875 L -1.046875 -6.109375 C -0.796875 -5.59375 -0.703125 -5.203125 -0.703125 -4.671875 C -0.703125 -2.8125 -2.140625 -1.578125 -4.3125 -1.578125 C -6.46875 -1.578125 -7.90625 -2.8125 -7.90625 -4.6875 C -7.90625 -6.546875 -6.46875 -7.78125 -4.3125 -7.78125 C -3.1875 -7.78125 -2.3125 -7.484375 -1.578125 -6.84375 Z \"/>\n",
       "</symbol>\n",
       "<symbol overflow=\"visible\" id=\"glyph1-5\">\n",
       "<path style=\"stroke:none;\" d=\"M -7.765625 -4.25 L -7.765625 -7.109375 L -8.75 -7.109375 L -8.75 -0.25 L -7.765625 -0.25 L -7.765625 -3.125 L 0 -3.125 L 0 -4.25 Z \"/>\n",
       "</symbol>\n",
       "<symbol overflow=\"visible\" id=\"glyph1-6\">\n",
       "<path style=\"stroke:none;\" d=\"M -8.75 -2.078125 L -8.75 -0.953125 L 0 -0.953125 L 0 -6.390625 L -0.984375 -6.390625 L -0.984375 -2.078125 Z \"/>\n",
       "</symbol>\n",
       "<symbol overflow=\"visible\" id=\"glyph1-7\">\n",
       "<path style=\"stroke:none;\" d=\"M -4.53125 -5.25 C -5.765625 -5.25 -6.46875 -4.421875 -6.46875 -2.96875 C -6.46875 -1.515625 -5.71875 -0.5625 -4.546875 -0.5625 C -3.5625 -0.5625 -3.09375 -1.0625 -2.734375 -2.5625 L -2.515625 -3.484375 C -2.34375 -4.1875 -2.09375 -4.46875 -1.625 -4.46875 C -1.046875 -4.46875 -0.640625 -3.875 -0.640625 -3 C -0.640625 -2.453125 -0.796875 -2 -1.0625 -1.75 C -1.25 -1.59375 -1.421875 -1.53125 -1.875 -1.46875 L -1.875 -0.40625 C -0.421875 -0.453125 0.28125 -1.265625 0.28125 -2.921875 C 0.28125 -4.5 -0.5 -5.515625 -1.71875 -5.515625 C -2.65625 -5.515625 -3.171875 -4.984375 -3.46875 -3.734375 L -3.703125 -2.765625 C -3.890625 -1.953125 -4.15625 -1.609375 -4.59375 -1.609375 C -5.171875 -1.609375 -5.546875 -2.125 -5.546875 -2.9375 C -5.546875 -3.75 -5.203125 -4.171875 -4.53125 -4.203125 Z \"/>\n",
       "</symbol>\n",
       "<symbol overflow=\"visible\" id=\"glyph1-8\">\n",
       "<path style=\"stroke:none;\" d=\"M -8.515625 -3.296875 C -8.515625 -2.515625 -8.15625 -1.78125 -7.578125 -1.34375 C -6.828125 -0.796875 -5.6875 -0.515625 -4.109375 -0.515625 C -1.25 -0.515625 0.28125 -1.46875 0.28125 -3.296875 C 0.28125 -5.09375 -1.25 -6.078125 -4.046875 -6.078125 C -5.703125 -6.078125 -6.796875 -5.8125 -7.578125 -5.25 C -8.171875 -4.8125 -8.515625 -4.109375 -8.515625 -3.296875 Z M -7.578125 -3.296875 C -7.578125 -4.4375 -6.421875 -5 -4.140625 -5 C -1.734375 -5 -0.59375 -4.453125 -0.59375 -3.28125 C -0.59375 -2.15625 -1.78125 -1.59375 -4.109375 -1.59375 C -6.4375 -1.59375 -7.578125 -2.15625 -7.578125 -3.296875 Z \"/>\n",
       "</symbol>\n",
       "<symbol overflow=\"visible\" id=\"glyph1-9\">\n",
       "<path style=\"stroke:none;\" d=\"M -1.046875 -6.078125 L -1.046875 -1.59375 C -1.734375 -1.703125 -2.1875 -2.09375 -2.796875 -3.125 L -3.4375 -4.328125 C -4.09375 -5.515625 -4.96875 -6.125 -6.015625 -6.125 C -6.71875 -6.125 -7.375 -5.84375 -7.84375 -5.34375 C -8.296875 -4.84375 -8.515625 -4.21875 -8.515625 -3.40625 C -8.515625 -2.328125 -8.125 -1.53125 -7.40625 -1.0625 C -6.953125 -0.75 -6.421875 -0.625 -5.5625 -0.59375 L -5.5625 -1.65625 C -6.125 -1.6875 -6.484375 -1.765625 -6.75 -1.90625 C -7.265625 -2.1875 -7.578125 -2.734375 -7.578125 -3.375 C -7.578125 -4.328125 -6.90625 -5.046875 -5.984375 -5.046875 C -5.3125 -5.046875 -4.734375 -4.65625 -4.3125 -3.90625 L -3.6875 -2.796875 C -2.671875 -1.015625 -1.875 -0.5 0 -0.40625 L 0 -6.078125 Z \"/>\n",
       "</symbol>\n",
       "<symbol overflow=\"visible\" id=\"glyph1-10\">\n",
       "<path style=\"stroke:none;\" d=\"M -2.046875 -3.921875 L 0 -3.921875 L 0 -4.984375 L -2.046875 -4.984375 L -2.046875 -6.234375 L -2.984375 -6.234375 L -2.984375 -4.984375 L -8.515625 -4.984375 L -8.515625 -4.203125 L -3.15625 -0.34375 L -2.046875 -0.34375 Z M -2.984375 -3.921875 L -2.984375 -1.265625 L -6.703125 -3.921875 Z \"/>\n",
       "</symbol>\n",
       "<symbol overflow=\"visible\" id=\"glyph1-11\">\n",
       "<path style=\"stroke:none;\" d=\"M -6.28125 -5.96875 C -7.6875 -5.765625 -8.515625 -4.859375 -8.515625 -3.5625 C -8.515625 -2.625 -8.046875 -1.78125 -7.296875 -1.28125 C -6.46875 -0.75 -5.421875 -0.515625 -3.875 -0.515625 C -2.453125 -0.515625 -1.53125 -0.734375 -0.78125 -1.234375 C -0.09375 -1.6875 0.28125 -2.4375 0.28125 -3.375 C 0.28125 -4.984375 -0.921875 -6.15625 -2.59375 -6.15625 C -4.171875 -6.15625 -5.296875 -5.078125 -5.296875 -3.546875 C -5.296875 -2.71875 -4.96875 -2.046875 -4.34375 -1.59375 C -6.421875 -1.609375 -7.578125 -2.28125 -7.578125 -3.484375 C -7.578125 -4.234375 -7.109375 -4.75 -6.28125 -4.921875 Z M -4.359375 -3.421875 C -4.359375 -4.4375 -3.640625 -5.078125 -2.515625 -5.078125 C -1.4375 -5.078125 -0.65625 -4.359375 -0.65625 -3.390625 C -0.65625 -2.40625 -1.46875 -1.65625 -2.5625 -1.65625 C -3.625 -1.65625 -4.359375 -2.375 -4.359375 -3.421875 Z \"/>\n",
       "</symbol>\n",
       "<symbol overflow=\"visible\" id=\"glyph1-12\">\n",
       "<path style=\"stroke:none;\" d=\"M -4.46875 -4.6875 C -5 -5.5625 -5.4375 -5.859375 -6.234375 -5.859375 C -7.578125 -5.859375 -8.515625 -4.8125 -8.515625 -3.296875 C -8.515625 -1.796875 -7.578125 -0.75 -6.234375 -0.75 C -5.453125 -0.75 -5.015625 -1.03125 -4.46875 -1.890625 C -4.015625 -0.921875 -3.296875 -0.4375 -2.359375 -0.4375 C -0.796875 -0.4375 0.28125 -1.625 0.28125 -3.296875 C 0.28125 -4.984375 -0.796875 -6.15625 -2.359375 -6.15625 C -3.296875 -6.15625 -4.015625 -5.671875 -4.46875 -4.6875 Z M -7.578125 -3.296875 C -7.578125 -4.203125 -7.046875 -4.78125 -6.21875 -4.78125 C -5.421875 -4.78125 -4.890625 -4.1875 -4.890625 -3.296875 C -4.890625 -2.40625 -5.421875 -1.828125 -6.234375 -1.828125 C -7.046875 -1.828125 -7.578125 -2.40625 -7.578125 -3.296875 Z M -4.015625 -3.296875 C -4.015625 -4.359375 -3.34375 -5.078125 -2.34375 -5.078125 C -1.328125 -5.078125 -0.65625 -4.359375 -0.65625 -3.28125 C -0.65625 -2.25 -1.34375 -1.53125 -2.34375 -1.53125 C -3.34375 -1.53125 -4.015625 -2.25 -4.015625 -3.296875 Z \"/>\n",
       "</symbol>\n",
       "<symbol overflow=\"visible\" id=\"glyph1-13\">\n",
       "<path style=\"stroke:none;\" d=\"M -6.0625 -3.109375 L 0 -3.109375 L 0 -4.15625 L -8.515625 -4.15625 L -8.515625 -3.46875 C -7.203125 -3.09375 -7.015625 -2.859375 -6.8125 -1.21875 L -6.0625 -1.21875 Z \"/>\n",
       "</symbol>\n",
       "</g>\n",
       "</defs>\n",
       "<g id=\"surface80\">\n",
       "<rect x=\"0\" y=\"0\" width=\"432\" height=\"360\" style=\"fill:rgb(100%,100%,100%);fill-opacity:1;stroke:none;\"/>\n",
       "<path style=\"fill-rule:nonzero;fill:rgb(74.509804%,74.509804%,74.509804%);fill-opacity:1;stroke-width:0.75;stroke-linecap:round;stroke-linejoin:round;stroke:rgb(0%,0%,0%);stroke-opacity:1;stroke-miterlimit:10;\" d=\"M 71.734375 286.558594 L 140.71875 286.558594 L 140.71875 98.398438 L 71.734375 98.398438 Z \"/>\n",
       "<path style=\"fill-rule:nonzero;fill:rgb(74.509804%,74.509804%,74.509804%);fill-opacity:1;stroke-width:0.75;stroke-linecap:round;stroke-linejoin:round;stroke:rgb(0%,0%,0%);stroke-opacity:1;stroke-miterlimit:10;\" d=\"M 154.515625 286.558594 L 223.5 286.558594 L 223.5 90.664062 L 154.515625 90.664062 Z \"/>\n",
       "<path style=\"fill-rule:nonzero;fill:rgb(74.509804%,74.509804%,74.509804%);fill-opacity:1;stroke-width:0.75;stroke-linecap:round;stroke-linejoin:round;stroke:rgb(0%,0%,0%);stroke-opacity:1;stroke-miterlimit:10;\" d=\"M 237.296875 286.558594 L 306.28125 286.558594 L 306.28125 86.796875 L 237.296875 86.796875 Z \"/>\n",
       "<path style=\"fill-rule:nonzero;fill:rgb(74.509804%,74.509804%,74.509804%);fill-opacity:1;stroke-width:0.75;stroke-linecap:round;stroke-linejoin:round;stroke:rgb(0%,0%,0%);stroke-opacity:1;stroke-miterlimit:10;\" d=\"M 320.082031 286.558594 L 389.066406 286.558594 L 389.066406 83.15625 L 320.082031 83.15625 Z \"/>\n",
       "<g style=\"fill:rgb(0%,0%,0%);fill-opacity:1;\">\n",
       "  <use xlink:href=\"#glyph0-1\" x=\"92.726562\" y=\"311.916016\"/>\n",
       "  <use xlink:href=\"#glyph0-2\" x=\"99.398438\" y=\"311.916016\"/>\n",
       "  <use xlink:href=\"#glyph0-2\" x=\"106.070312\" y=\"311.916016\"/>\n",
       "  <use xlink:href=\"#glyph0-2\" x=\"112.742188\" y=\"311.916016\"/>\n",
       "</g>\n",
       "<g style=\"fill:rgb(0%,0%,0%);fill-opacity:1;\">\n",
       "  <use xlink:href=\"#glyph0-1\" x=\"172.007812\" y=\"311.916016\"/>\n",
       "  <use xlink:href=\"#glyph0-2\" x=\"178.679688\" y=\"311.916016\"/>\n",
       "  <use xlink:href=\"#glyph0-2\" x=\"185.351562\" y=\"311.916016\"/>\n",
       "  <use xlink:href=\"#glyph0-2\" x=\"192.023438\" y=\"311.916016\"/>\n",
       "  <use xlink:href=\"#glyph0-2\" x=\"198.695312\" y=\"311.916016\"/>\n",
       "</g>\n",
       "<g style=\"fill:rgb(0%,0%,0%);fill-opacity:1;\">\n",
       "  <use xlink:href=\"#glyph0-3\" x=\"254.792969\" y=\"311.916016\"/>\n",
       "  <use xlink:href=\"#glyph0-4\" x=\"261.464844\" y=\"311.916016\"/>\n",
       "  <use xlink:href=\"#glyph0-2\" x=\"268.136719\" y=\"311.916016\"/>\n",
       "  <use xlink:href=\"#glyph0-2\" x=\"274.808594\" y=\"311.916016\"/>\n",
       "  <use xlink:href=\"#glyph0-2\" x=\"281.480469\" y=\"311.916016\"/>\n",
       "</g>\n",
       "<g style=\"fill:rgb(0%,0%,0%);fill-opacity:1;\">\n",
       "  <use xlink:href=\"#glyph0-4\" x=\"337.574219\" y=\"311.916016\"/>\n",
       "  <use xlink:href=\"#glyph0-2\" x=\"344.246094\" y=\"311.916016\"/>\n",
       "  <use xlink:href=\"#glyph0-2\" x=\"350.917969\" y=\"311.916016\"/>\n",
       "  <use xlink:href=\"#glyph0-2\" x=\"357.589844\" y=\"311.916016\"/>\n",
       "  <use xlink:href=\"#glyph0-2\" x=\"364.261719\" y=\"311.916016\"/>\n",
       "</g>\n",
       "<g style=\"fill:rgb(0%,0%,0%);fill-opacity:1;\">\n",
       "  <use xlink:href=\"#glyph0-5\" x=\"154.898438\" y=\"340.716797\"/>\n",
       "  <use xlink:href=\"#glyph0-6\" x=\"163.5625\" y=\"340.716797\"/>\n",
       "  <use xlink:href=\"#glyph0-7\" x=\"166.226562\" y=\"340.716797\"/>\n",
       "  <use xlink:href=\"#glyph0-8\" x=\"172.226562\" y=\"340.716797\"/>\n",
       "  <use xlink:href=\"#glyph0-9\" x=\"175.5625\" y=\"340.716797\"/>\n",
       "  <use xlink:href=\"#glyph0-10\" x=\"182.234375\" y=\"340.716797\"/>\n",
       "  <use xlink:href=\"#glyph0-11\" x=\"188.90625\" y=\"340.716797\"/>\n",
       "  <use xlink:href=\"#glyph0-12\" x=\"194.90625\" y=\"340.716797\"/>\n",
       "  <use xlink:href=\"#glyph0-13\" x=\"201.578125\" y=\"340.716797\"/>\n",
       "  <use xlink:href=\"#glyph0-14\" x=\"204.914062\" y=\"340.716797\"/>\n",
       "  <use xlink:href=\"#glyph0-15\" x=\"208.25\" y=\"340.716797\"/>\n",
       "  <use xlink:href=\"#glyph0-16\" x=\"212.246094\" y=\"340.716797\"/>\n",
       "  <use xlink:href=\"#glyph0-17\" x=\"218.917969\" y=\"340.716797\"/>\n",
       "  <use xlink:href=\"#glyph0-13\" x=\"228.914062\" y=\"340.716797\"/>\n",
       "  <use xlink:href=\"#glyph0-18\" x=\"232.25\" y=\"340.716797\"/>\n",
       "  <use xlink:href=\"#glyph0-15\" x=\"238.921875\" y=\"340.716797\"/>\n",
       "  <use xlink:href=\"#glyph0-16\" x=\"242.917969\" y=\"340.716797\"/>\n",
       "  <use xlink:href=\"#glyph0-17\" x=\"249.589844\" y=\"340.716797\"/>\n",
       "  <use xlink:href=\"#glyph0-16\" x=\"259.585938\" y=\"340.716797\"/>\n",
       "  <use xlink:href=\"#glyph0-8\" x=\"266.257812\" y=\"340.716797\"/>\n",
       "  <use xlink:href=\"#glyph0-12\" x=\"269.59375\" y=\"340.716797\"/>\n",
       "  <use xlink:href=\"#glyph0-15\" x=\"276.265625\" y=\"340.716797\"/>\n",
       "  <use xlink:href=\"#glyph0-13\" x=\"280.261719\" y=\"340.716797\"/>\n",
       "  <use xlink:href=\"#glyph0-19\" x=\"283.597656\" y=\"340.716797\"/>\n",
       "  <use xlink:href=\"#glyph0-20\" x=\"287.59375\" y=\"340.716797\"/>\n",
       "  <use xlink:href=\"#glyph0-18\" x=\"294.265625\" y=\"340.716797\"/>\n",
       "  <use xlink:href=\"#glyph0-21\" x=\"300.9375\" y=\"340.716797\"/>\n",
       "</g>\n",
       "<g style=\"fill:rgb(0%,0%,0%);fill-opacity:1;\">\n",
       "  <use xlink:href=\"#glyph1-1\" x=\"12.396484\" y=\"196.300781\"/>\n",
       "  <use xlink:href=\"#glyph1-2\" x=\"12.396484\" y=\"189.628906\"/>\n",
       "  <use xlink:href=\"#glyph1-3\" x=\"12.396484\" y=\"186.292969\"/>\n",
       "  <use xlink:href=\"#glyph1-4\" x=\"12.396484\" y=\"179.621094\"/>\n",
       "  <use xlink:href=\"#glyph1-5\" x=\"12.396484\" y=\"170.285156\"/>\n",
       "  <use xlink:href=\"#glyph1-6\" x=\"12.396484\" y=\"162.953125\"/>\n",
       "  <use xlink:href=\"#glyph1-7\" x=\"12.396484\" y=\"156.28125\"/>\n",
       "</g>\n",
       "<path style=\"fill:none;stroke-width:0.75;stroke-linecap:round;stroke-linejoin:round;stroke:rgb(0%,0%,0%);stroke-opacity:1;stroke-miterlimit:10;\" d=\"M 59.039062 286.558594 L 59.039062 59.039062 \"/>\n",
       "<path style=\"fill:none;stroke-width:0.75;stroke-linecap:round;stroke-linejoin:round;stroke:rgb(0%,0%,0%);stroke-opacity:1;stroke-miterlimit:10;\" d=\"M 59.039062 286.558594 L 51.839844 286.558594 \"/>\n",
       "<path style=\"fill:none;stroke-width:0.75;stroke-linecap:round;stroke-linejoin:round;stroke:rgb(0%,0%,0%);stroke-opacity:1;stroke-miterlimit:10;\" d=\"M 59.039062 241.054688 L 51.839844 241.054688 \"/>\n",
       "<path style=\"fill:none;stroke-width:0.75;stroke-linecap:round;stroke-linejoin:round;stroke:rgb(0%,0%,0%);stroke-opacity:1;stroke-miterlimit:10;\" d=\"M 59.039062 195.550781 L 51.839844 195.550781 \"/>\n",
       "<path style=\"fill:none;stroke-width:0.75;stroke-linecap:round;stroke-linejoin:round;stroke:rgb(0%,0%,0%);stroke-opacity:1;stroke-miterlimit:10;\" d=\"M 59.039062 150.046875 L 51.839844 150.046875 \"/>\n",
       "<path style=\"fill:none;stroke-width:0.75;stroke-linecap:round;stroke-linejoin:round;stroke:rgb(0%,0%,0%);stroke-opacity:1;stroke-miterlimit:10;\" d=\"M 59.039062 104.542969 L 51.839844 104.542969 \"/>\n",
       "<path style=\"fill:none;stroke-width:0.75;stroke-linecap:round;stroke-linejoin:round;stroke:rgb(0%,0%,0%);stroke-opacity:1;stroke-miterlimit:10;\" d=\"M 59.039062 59.039062 L 51.839844 59.039062 \"/>\n",
       "<g style=\"fill:rgb(0%,0%,0%);fill-opacity:1;\">\n",
       "  <use xlink:href=\"#glyph1-8\" x=\"41.197266\" y=\"290.058594\"/>\n",
       "</g>\n",
       "<g style=\"fill:rgb(0%,0%,0%);fill-opacity:1;\">\n",
       "  <use xlink:href=\"#glyph1-9\" x=\"41.197266\" y=\"251.554688\"/>\n",
       "  <use xlink:href=\"#glyph1-8\" x=\"41.197266\" y=\"244.882812\"/>\n",
       "  <use xlink:href=\"#glyph1-8\" x=\"41.197266\" y=\"238.210938\"/>\n",
       "</g>\n",
       "<g style=\"fill:rgb(0%,0%,0%);fill-opacity:1;\">\n",
       "  <use xlink:href=\"#glyph1-10\" x=\"41.197266\" y=\"206.050781\"/>\n",
       "  <use xlink:href=\"#glyph1-8\" x=\"41.197266\" y=\"199.378906\"/>\n",
       "  <use xlink:href=\"#glyph1-8\" x=\"41.197266\" y=\"192.707031\"/>\n",
       "</g>\n",
       "<g style=\"fill:rgb(0%,0%,0%);fill-opacity:1;\">\n",
       "  <use xlink:href=\"#glyph1-11\" x=\"41.197266\" y=\"160.546875\"/>\n",
       "  <use xlink:href=\"#glyph1-8\" x=\"41.197266\" y=\"153.875\"/>\n",
       "  <use xlink:href=\"#glyph1-8\" x=\"41.197266\" y=\"147.203125\"/>\n",
       "</g>\n",
       "<g style=\"fill:rgb(0%,0%,0%);fill-opacity:1;\">\n",
       "  <use xlink:href=\"#glyph1-12\" x=\"41.197266\" y=\"115.042969\"/>\n",
       "  <use xlink:href=\"#glyph1-8\" x=\"41.197266\" y=\"108.371094\"/>\n",
       "  <use xlink:href=\"#glyph1-8\" x=\"41.197266\" y=\"101.699219\"/>\n",
       "</g>\n",
       "<g style=\"fill:rgb(0%,0%,0%);fill-opacity:1;\">\n",
       "  <use xlink:href=\"#glyph1-13\" x=\"41.197266\" y=\"72.539062\"/>\n",
       "  <use xlink:href=\"#glyph1-8\" x=\"41.197266\" y=\"65.867188\"/>\n",
       "  <use xlink:href=\"#glyph1-8\" x=\"41.197266\" y=\"59.195312\"/>\n",
       "  <use xlink:href=\"#glyph1-8\" x=\"41.197266\" y=\"52.523438\"/>\n",
       "</g>\n",
       "</g>\n",
       "</svg>\n"
      ],
      "text/plain": [
       "plot without title"
      ]
     },
     "metadata": {
      "image/svg+xml": {
       "isolated": true
      }
     },
     "output_type": "display_data"
    }
   ],
   "source": [
    "barplot(localQTL, ylab = \"# eQTLs\", xlab = \"Distance from promoter (bp)\", ylim = c(0,1000))"
   ]
  },
  {
   "cell_type": "code",
   "execution_count": null,
   "metadata": {
    "collapsed": false
   },
   "outputs": [
    {
     "ename": "ERROR",
     "evalue": "Error in unique(unlist(lapply(dots, methods:::.class1))): error in evaluating the argument 'x' in selecting a method for function 'unique': Error in cat(\"Number of eQTLs:\", dim(filter(qtltable, gene %in% unique(orfs_only$name))),  : \n  object 'co' not found\n\n",
     "output_type": "error",
     "traceback": [
      "Error in unique(unlist(lapply(dots, methods:::.class1))): error in evaluating the argument 'x' in selecting a method for function 'unique': Error in cat(\"Number of eQTLs:\", dim(filter(qtltable, gene %in% unique(orfs_only$name))),  : \n  object 'co' not found\n\n"
     ]
    },
    {
     "ename": "ERROR",
     "evalue": "Error in data.frame(gene = g2qtl$gene, cis = this.local): object 'this.local' not found\n",
     "output_type": "error",
     "traceback": [
      "Error in data.frame(gene = g2qtl$gene, cis = this.local): object 'this.local' not found\n"
     ]
    }
   ],
   "source": [
    "cutoff = 25000\n",
    "this.local.all = apply(g2qtl, 1, function(i){\n",
    "        chr = as.roman(as.numeric(gsub(\"^chr\",\"\",i[\"chr\"])))\n",
    "        if (paste(\"chr\",chr,sep = \"\") != i[\"seqnames\"]) {\n",
    "            return(F)\n",
    "        } else {\n",
    "            sum((seq(as.numeric(i[\"start.x\"]), as.numeric(i[\"end.x\"]), by = 1) %in% \n",
    "             seq(as.numeric(i[\"start.y\"])-cutoff, as.numeric(i[\"end.y\"])+cutoff, by = 1)) > 0) > 0\n",
    "        }\n",
    "    })\n",
    "this.local.all = data.frame(gene = g2qtl$gene, cis = this.local)\n",
    "\n",
    "g2qtl.orf = filter(g2qtl, type == \"ORFs\")\n",
    "this.local.orfs = apply(g2qtl.orf, 1, function(i){\n",
    "        chr = as.roman(as.numeric(gsub(\"^chr\",\"\",i[\"chr\"])))\n",
    "        if (paste(\"chr\",chr,sep = \"\") != i[\"seqnames\"]) {\n",
    "            return(F)\n",
    "        } else {\n",
    "            sum((seq(as.numeric(i[\"start.x\"]), as.numeric(i[\"end.x\"]), by = 1) %in% \n",
    "             seq(as.numeric(i[\"start.y\"])-cutoff, as.numeric(i[\"end.y\"])+cutoff, by = 1)) > 0) > 0\n",
    "        }\n",
    "    })\n",
    "this.local.orfs = data.frame(gene = g2qtl.orf$gene, cis = this.local)"
   ]
  },
  {
   "cell_type": "code",
   "execution_count": 91,
   "metadata": {
    "collapsed": false
   },
   "outputs": [
    {
     "name": "stdout",
     "output_type": "stream",
     "text": [
      "Local eQTLs: 878"
     ]
    }
   ],
   "source": [
    "cat(\"Local eQTLs:\", sum(this.local.all$cis))"
   ]
  },
  {
   "cell_type": "markdown",
   "metadata": {},
   "source": [
    "eQTL 95% confidence interval within 25kb of gene promoter"
   ]
  },
  {
   "cell_type": "code",
   "execution_count": 92,
   "metadata": {
    "collapsed": false
   },
   "outputs": [
    {
     "name": "stdout",
     "output_type": "stream",
     "text": [
      "Distal eQTLs: 2986"
     ]
    }
   ],
   "source": [
    "cat(\"Distal eQTLs:\", sum(!this.local.all$cis))"
   ]
  },
  {
   "cell_type": "markdown",
   "metadata": {},
   "source": [
    "eQTL 95% confidence interval more than 25kb from gene promoter"
   ]
  }
 ],
 "metadata": {
  "kernelspec": {
   "display_name": "R",
   "language": "R",
   "name": "ir"
  },
  "language_info": {
   "codemirror_mode": "r",
   "file_extension": ".r",
   "mimetype": "text/x-r-source",
   "name": "R",
   "pygments_lexer": "r",
   "version": "3.2.2"
  }
 },
 "nbformat": 4,
 "nbformat_minor": 0
}
