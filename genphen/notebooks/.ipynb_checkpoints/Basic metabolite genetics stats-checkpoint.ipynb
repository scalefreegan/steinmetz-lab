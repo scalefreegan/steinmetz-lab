{
 "cells": [
  {
   "cell_type": "markdown",
   "metadata": {},
   "source": [
    "## Basic stats regarding genetic basis on metabolite levels in SxY cross\n",
    "\n",
    "Including: \n",
    "- \\# metabolites/timepoints significantly different between parental strains, \n",
    "- transgressive segregation \n",
    "- and directional genetics"
   ]
  },
  {
   "cell_type": "code",
   "execution_count": 2,
   "metadata": {
    "collapsed": false
   },
   "outputs": [],
   "source": [
    ".libPaths(\"~/R/x86_64-redhat-linux-gnu-library/3.2/\")\n",
    "# config opts and libraries\n",
    "options(repr.plot.width = 6)\n",
    "options(repr.plot.height = 5)\n",
    "library(ggplot2);\n",
    "library(plyr);\n",
    "library(dplyr);\n",
    "library(reshape2);\n",
    "library(LSD);\n",
    "library(qtl);\n",
    "library(pheatmap);\n",
    "library(parallel);\n",
    "options(mc.cores = 24);\n",
    "library(stringr);\n",
    "library(RColorBrewer);"
   ]
  },
  {
   "cell_type": "markdown",
   "metadata": {},
   "source": [
    "### Metabolites/timepoints significantly different between parental strains\n",
    "\n",
    "How many metabolites (timepoints) differ significantly between two parental strains\n",
    "\n",
    "As in [Breunig JS, Hackett SR, Rabinowitz JD, Kruglyak L (2014) Genetic Basis of Metabolome Variation in Yeast. PLoS Genet 10(3): e1004142](http://journals.plos.org/plosgenetics/article?id=10.1371/journal.pgen.1004142)"
   ]
  },
  {
   "cell_type": "code",
   "execution_count": 151,
   "metadata": {
    "collapsed": true
   },
   "outputs": [],
   "source": [
    "# load parental data\n",
    "endo_f = \"/g/steinmetz/project/GenPhen/data/endometabolome/data/endometabolite_full_12102015.rda\"\n",
    "load(endo_f)"
   ]
  },
  {
   "cell_type": "code",
   "execution_count": 152,
   "metadata": {
    "collapsed": false
   },
   "outputs": [
    {
     "data": {
      "text/html": [
       "<table>\n",
       "<thead><tr><th></th><th scope=col>strain</th><th scope=col>parent</th><th scope=col>time</th><th scope=col>metabolite</th><th scope=col>endo_quant</th><th scope=col>endo_quant_log</th><th scope=col>exo_quant</th><th scope=col>exo_quant_log</th><th scope=col>cellconc_1.ml</th><th scope=col>biovolume_ul.ml</th><th scope=col>singlecellvol_fl</th><th scope=col>endo_quant_log_normalized</th><th scope=col>exo_quant_log_normalized</th><th scope=col>endo_quant_rel</th><th scope=col>exo_quant_rel</th><th scope=col>endo_rate</th><th scope=col>exo_rate</th></tr></thead>\n",
       "<tbody>\n",
       "\t<tr><th scope=row>1</th><td>S1</td><td>S288c</td><td>16</td><td>CIT</td><td>3844.5</td><td>11.90858</td><td>142.43</td><td>7.154109</td><td>13763600</td><td>0.794721</td><td>57.74</td><td>12.2062</td><td>7.049826</td><td>1</td><td>1</td><td>NA</td><td>NA</td></tr>\n",
       "\t<tr><th scope=row>2</th><td>S1</td><td>S288c</td><td>17</td><td>CIT</td><td>2575.07</td><td>11.3304</td><td>144.88</td><td>7.178715</td><td>20412000</td><td>1.128718</td><td>55.3</td><td>11.69755</td><td>7.075077</td><td>0.9583284</td><td>1.003582</td><td>-0.5086517</td><td>0.02525106</td></tr>\n",
       "\t<tr><th scope=row>3</th><td>S1</td><td>S288c</td><td>18</td><td>CIT</td><td>2579.87</td><td>11.33308</td><td>139.83</td><td>7.12753</td><td>33698000</td><td>1.680631</td><td>49.87</td><td>11.521</td><td>6.951486</td><td>0.9438643</td><td>0.9860507</td><td>-0.1765525</td><td>-0.123591</td></tr>\n",
       "\t<tr><th scope=row>4</th><td>S1</td><td>S288c</td><td>19</td><td>CIT</td><td>2153.68</td><td>11.07259</td><td>151.57</td><td>7.24384</td><td>47319300</td><td>2.299066</td><td>48.59</td><td>11.28718</td><td>7.156562</td><td>0.9247086</td><td>1.01514</td><td>-0.2338181</td><td>0.2050763</td></tr>\n",
       "\t<tr><th scope=row>5</th><td>S1</td><td>S288c</td><td>20</td><td>CIT</td><td>1609.98</td><td>10.65283</td><td>142.05</td><td>7.150255</td><td>72192000</td><td>3.173397</td><td>43.96</td><td>10.84166</td><td>7.475629</td><td>0.8882089</td><td>1.060399</td><td>-0.4455226</td><td>0.3190664</td></tr>\n",
       "\t<tr><th scope=row>6</th><td>S2</td><td>S288c</td><td>16</td><td>CIT</td><td>3584.21</td><td>11.80744</td><td>143.05</td><td>7.160376</td><td>13303800</td><td>0.7479802</td><td>56.22</td><td>11.88108</td><td>7.04624</td><td>1</td><td>1</td><td>NA</td><td>NA</td></tr>\n",
       "</tbody>\n",
       "</table>\n"
      ],
      "text/latex": [
       "\\begin{tabular}{r|lllllllllllllllll}\n",
       "  & strain & parent & time & metabolite & endo_quant & endo_quant_log & exo_quant & exo_quant_log & cellconc_1.ml & biovolume_ul.ml & singlecellvol_fl & endo_quant_log_normalized & exo_quant_log_normalized & endo_quant_rel & exo_quant_rel & endo_rate & exo_rate\\\\\n",
       "\\hline\n",
       "\t1 & S1 & S288c & 16 & CIT & 3844.5 & 11.90858 & 142.43 & 7.154109 & 13763600 & 0.794721 & 57.74 & 12.2062 & 7.049826 & 1 & 1 & NA & NA\\\\\n",
       "\t2 & S1 & S288c & 17 & CIT & 2575.07 & 11.3304 & 144.88 & 7.178715 & 20412000 & 1.128718 & 55.3 & 11.69755 & 7.075077 & 0.9583284 & 1.003582 & -0.5086517 & 0.02525106\\\\\n",
       "\t3 & S1 & S288c & 18 & CIT & 2579.87 & 11.33308 & 139.83 & 7.12753 & 33698000 & 1.680631 & 49.87 & 11.521 & 6.951486 & 0.9438643 & 0.9860507 & -0.1765525 & -0.123591\\\\\n",
       "\t4 & S1 & S288c & 19 & CIT & 2153.68 & 11.07259 & 151.57 & 7.24384 & 47319300 & 2.299066 & 48.59 & 11.28718 & 7.156562 & 0.9247086 & 1.01514 & -0.2338181 & 0.2050763\\\\\n",
       "\t5 & S1 & S288c & 20 & CIT & 1609.98 & 10.65283 & 142.05 & 7.150255 & 72192000 & 3.173397 & 43.96 & 10.84166 & 7.475629 & 0.8882089 & 1.060399 & -0.4455226 & 0.3190664\\\\\n",
       "\t6 & S2 & S288c & 16 & CIT & 3584.21 & 11.80744 & 143.05 & 7.160376 & 13303800 & 0.7479802 & 56.22 & 11.88108 & 7.04624 & 1 & 1 & NA & NA\\\\\n",
       "\\end{tabular}\n"
      ],
      "text/plain": [
       "Source: local data frame [6 x 17]\n",
       "Groups: metabolite [1]\n",
       "\n",
       "  strain parent   time metabolite endo_quant endo_quant_log exo_quant\n",
       "  (fctr) (fctr) (fctr)     (fctr)      (dbl)          (dbl)     (dbl)\n",
       "1     S1  S288c     16        CIT    3844.50       11.90858    142.43\n",
       "2     S1  S288c     17        CIT    2575.07       11.33040    144.88\n",
       "3     S1  S288c     18        CIT    2579.87       11.33308    139.83\n",
       "4     S1  S288c     19        CIT    2153.68       11.07259    151.57\n",
       "5     S1  S288c     20        CIT    1609.98       10.65283    142.05\n",
       "6     S2  S288c     16        CIT    3584.21       11.80744    143.05\n",
       "Variables not shown: exo_quant_log (dbl), cellconc_1.ml (dbl), biovolume_ul.ml\n",
       "  (dbl), singlecellvol_fl (dbl), endo_quant_log_normalized (dbl),\n",
       "  exo_quant_log_normalized (dbl), endo_quant_rel (dbl), exo_quant_rel (dbl),\n",
       "  endo_rate (dbl), exo_rate (dbl)"
      ]
     },
     "execution_count": 152,
     "metadata": {},
     "output_type": "execute_result"
    }
   ],
   "source": [
    "head(parents)"
   ]
  },
  {
   "cell_type": "markdown",
   "metadata": {},
   "source": [
    "### How many metabolites are different in parental strains? (one-way ANOVA)\n",
    "\n",
    "I am using a one-way ANOVA to be consistent with [Breunig JS et al 2014](http://journals.plos.org/plosgenetics/article?id=10.1371/journal.pgen.1004142), though it isn't clear to me why they use ANOVA rather than a t-test..."
   ]
  },
  {
   "cell_type": "code",
   "execution_count": 155,
   "metadata": {
    "collapsed": false
   },
   "outputs": [],
   "source": [
    "parent_diff_anova = parents %>% group_by(metabolite) %>% do({\n",
    "    thismetabolite = .$metabolite[1]\n",
    "    test = try({aov(formula = endo_quant_log ~ parent, data = .)}, silent = T)\n",
    "    if (!(class(test)==\"try-error\")[1]) {  \n",
    "        anova_p = summary(test)[[1]][[\"Pr(>F)\"]][1]\n",
    "        return(data.frame(metabolite = thismetabolite, anova = anova_p))\n",
    "    } else {\n",
    "        return(data.frame())\n",
    "    }\n",
    "})\n",
    "#replications(formula = endo_quant_log ~ parent, data = tmp)\n",
    "parent_diff_anova$anova_BH = p.adjust(parent_diff_anova$anova, method = \"BH\")\n",
    "# restrict to metabolites in segregrant study\n",
    "common_m = intersect(levels(parent_diff_anova$metabolite),levels(endometabolite$metabolite))\n",
    "parent_diff_anova = filter(parent_diff_anova, metabolite %in% common_m)"
   ]
  },
  {
   "cell_type": "code",
   "execution_count": 156,
   "metadata": {
    "collapsed": false
   },
   "outputs": [
    {
     "name": "stdout",
     "output_type": "stream",
     "text": [
      "16 out of 26 metabolites that were detected in both parental strains are different between S288c and YJM789"
     ]
    }
   ],
   "source": [
    "cat(sum(parent_diff_anova$anova_BH <= 0.05), \"out of\", \n",
    "      dim(parent_diff_anova)[1], \"metabolites that were detected\",\n",
    "    \"in both parental strains are different between S288c and YJM789\")"
   ]
  },
  {
   "cell_type": "markdown",
   "metadata": {},
   "source": [
    "### How many metabolites are different in parental strains at at least 1 timepoint? (one-way ANOVA)"
   ]
  },
  {
   "cell_type": "code",
   "execution_count": 157,
   "metadata": {
    "collapsed": false
   },
   "outputs": [],
   "source": [
    "parent_diff_anova_pertime = parents %>% group_by(metabolite, time) %>% do({\n",
    "    thismetabolite = .$metabolite[1]\n",
    "    thistime = .$time[1]\n",
    "    test = try({aov(formula = endo_quant_log ~ parent, data = .)}, silent = T)\n",
    "    if (!(class(test)==\"try-error\")[1]) {  \n",
    "        anova_p = summary(test)[[1]][[\"Pr(>F)\"]][1]\n",
    "        return(data.frame(metabolite = thismetabolite, anova = anova_p))\n",
    "    } else {\n",
    "        return(data.frame())\n",
    "    }\n",
    "})\n",
    "#replications(formula = endo_quant_log ~ parent, data = tmp)\n",
    "parent_diff_anova_pertime$anova_BH = p.adjust(parent_diff_anova_pertime$anova, method = \"BH\")\n",
    "# restrict to metabolites in segregrant study\n",
    "common_m = intersect(levels(parent_diff_anova_pertime$metabolite),\n",
    "                     levels(endometabolite$metabolite))\n",
    "parent_diff_anova_pertime = filter(parent_diff_anova_pertime, metabolite %in% common_m)"
   ]
  },
  {
   "cell_type": "code",
   "execution_count": 158,
   "metadata": {
    "collapsed": false
   },
   "outputs": [
    {
     "name": "stdout",
     "output_type": "stream",
     "text": [
      "25 out of 26 metabolites that were detected in both parental strains are different between S288c and YJM789 at at least 1 timepoint"
     ]
    }
   ],
   "source": [
    "parent_diff_anova_pertime_summary = parent_diff_anova_pertime %>% group_by(metabolite) %>% \n",
    "    summarise(sigtimepoint = sum(anova_BH <= 0.05))\n",
    "\n",
    "cat(sum(parent_diff_anova_pertime_summary$sigtimepoint > 0), \"out of\", \n",
    "      dim(parent_diff_anova_pertime_summary)[1], \"metabolites that were detected\",\n",
    "    \"in both parental strains are different between S288c and YJM789 at at least 1 timepoint\")"
   ]
  },
  {
   "cell_type": "markdown",
   "metadata": {},
   "source": [
    "### \\# of metabolites for which a mQTL is detected"
   ]
  },
  {
   "cell_type": "code",
   "execution_count": 159,
   "metadata": {
    "collapsed": true
   },
   "outputs": [],
   "source": [
    "# load genotype and markers files\n",
    "genotype_f = \"/g/steinmetz/brooks/yeast/genomes/S288CxYJM789/genotypes_S288c_R64.rda\"\n",
    "load(genotype_f)"
   ]
  },
  {
   "cell_type": "code",
   "execution_count": 160,
   "metadata": {
    "collapsed": true
   },
   "outputs": [],
   "source": [
    "# load normalized QTLs\n",
    "load(\"/g/steinmetz/brooks/genphen//metabolome/qtls/mQTLs_comball_funqtl_2014.rda\")"
   ]
  },
  {
   "cell_type": "code",
   "execution_count": 170,
   "metadata": {
    "collapsed": false
   },
   "outputs": [],
   "source": [
    "type = \"mlod\"\n",
    "co = .1 # 10% FDR\n",
    "bayesint = .95 # 95% Bayesian confidence interval around QTL\n",
    "\n",
    "# normalized data\n",
    "data = mQTLs_funqtl_2014\n",
    "qtls_norm = do.call(rbind,lapply(names(data), function(i){\n",
    "    o = try({\n",
    "    #print(i)\n",
    "    m = i\n",
    "    type = type\n",
    "    chrs = unique(data[[m]]$qtls_alt[data[[m]]$qtls_alt[,type]>=\n",
    "                                     summary(data[[m]]$permout[,type],co)[1],\"chr\"])\n",
    "    chrs = levels(chrs)[chrs]\n",
    "    lodcolumn = if(type==\"mlod\"){ 2 } else { 1 }\n",
    "    qtl_intervals = list()\n",
    "    if (length(chrs)>0) {\n",
    "      for (i in chrs) {\n",
    "        qtl_intervals[[i]] = try(\n",
    "            mrk[rownames(bayesint(data[[m]]$qtls_alt, \n",
    "                                  chr = str_pad(i, 2, pad = \"0\"), \n",
    "                                  prob=bayesint, lodcolumn=lodcolumn))],silent = T)\n",
    "        if (class(qtl_intervals[[i]])==\"try-error\") {\n",
    "          qtl_intervals[[i]] = NULL\n",
    "        } else {\n",
    "          nn = sapply(as.character(seqnames(qtl_intervals[[i]])),function(i){\n",
    "            paste(substr(i,1,3),as.roman(substr(i,4,5)),sep=\"\")\n",
    "          })\n",
    "          qtl_intervals[[i]] = renameSeqlevels(qtl_intervals[[i]],nn)\n",
    "          qtl_intervals[[i]] = keepSeqlevels(qtl_intervals[[i]],unique(nn))\n",
    "          qtl_intervals[[i]] = range(qtl_intervals[[i]])\n",
    "        }\n",
    "      }\n",
    "    }\n",
    "    if (length(qtl_intervals) > 1) {\n",
    "        qtl_df = do.call(rbind,qtl_intervals)\n",
    "    } else {\n",
    "        qtl_df = as.data.frame(qtl_intervals[[1]])\n",
    "    }\n",
    "    qtl_df = cbind(metabolite = m, qtl_df)\n",
    "    })\n",
    "    if (class(o)!=\"try-error\") {\n",
    "        return(o)\n",
    "    } else {\n",
    "        return(NULL)\n",
    "    }\n",
    "}))"
   ]
  },
  {
   "cell_type": "code",
   "execution_count": 171,
   "metadata": {
    "collapsed": false
   },
   "outputs": [
    {
     "name": "stdout",
     "output_type": "stream",
     "text": [
      "A QTL is identified for 10 metabolites out of 16 with a difference between parental strains"
     ]
    }
   ],
   "source": [
    "cat(\"A QTL is identified for\", sum(qtls_norm$metabolite %in% common_m), \n",
    "    \"metabolites out of\", sum(parent_diff_anova$anova_BH <= 0.05), \n",
    "    \"with a difference between parental strains\")"
   ]
  },
  {
   "cell_type": "markdown",
   "metadata": {},
   "source": [
    "### Transgressive segregation\n",
    "\n",
    "Range of phenotype in the segregants significantly exceeds that spanned by the parent strains\n",
    "\n",
    "*Calculated accroding to [Brem et al 2005](http://www.pnas.org/content/102/5/1572)*"
   ]
  },
  {
   "cell_type": "markdown",
   "metadata": {},
   "source": [
    "### Directional genetics\n",
    "\n",
    "Range of phenotype in the segregants is intermediate between the parent strains"
   ]
  },
  {
   "cell_type": "code",
   "execution_count": null,
   "metadata": {
    "collapsed": true
   },
   "outputs": [],
   "source": []
  }
 ],
 "metadata": {
  "kernelspec": {
   "display_name": "R",
   "language": "R",
   "name": "ir"
  },
  "language_info": {
   "codemirror_mode": "r",
   "file_extension": ".r",
   "mimetype": "text/x-r-source",
   "name": "R",
   "pygments_lexer": "r",
   "version": "3.2.2"
  }
 },
 "nbformat": 4,
 "nbformat_minor": 0
}
