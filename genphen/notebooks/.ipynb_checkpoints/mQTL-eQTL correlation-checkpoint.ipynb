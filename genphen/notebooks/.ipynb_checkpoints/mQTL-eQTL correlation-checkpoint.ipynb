{
 "cells": [
  {
   "cell_type": "markdown",
   "metadata": {},
   "source": [
    "## mQTL-eQTL correlation\n"
   ]
  },
  {
   "cell_type": "markdown",
   "metadata": {},
   "source": [
    "### Run stuff"
   ]
  },
  {
   "cell_type": "code",
   "execution_count": 123,
   "metadata": {
    "collapsed": false
   },
   "outputs": [
    {
     "name": "stderr",
     "output_type": "stream",
     "text": [
      "SHA-1 hash of file is 5dfc0f3e6aa1c2f849de825db2c0588ff5aa9736\n"
     ]
    }
   ],
   "source": [
    ".libPaths(\"~/R/x86_64-redhat-linux-gnu-library/3.2/\")\n",
    "# config opts and libraries\n",
    "options(repr.plot.width = 6)\n",
    "options(repr.plot.height = 5)\n",
    "options(jupyter.plot_mimetypes = 'image/png')\n",
    "library(ggplot2);\n",
    "library(plyr);\n",
    "library(dplyr);\n",
    "library(reshape2);\n",
    "library(LSD);\n",
    "library(qtl);\n",
    "library(pheatmap);\n",
    "library(funqtl);\n",
    "library(parallel);\n",
    "options(mc.cores = 24);\n",
    "library(snow);\n",
    "library(igraph);\n",
    "library(stringr);\n",
    "library(RColorBrewer);\n",
    "library(jpeg);\n",
    "library(pheatmap);\n",
    "\n",
    "# source rQTL utilities\n",
    "devtools::source_url(\"https://raw.githubusercontent.com/scalefreegan/steinmetz-lab/master/QTL/rQTL.R\")"
   ]
  },
  {
   "cell_type": "code",
   "execution_count": 57,
   "metadata": {
    "collapsed": false
   },
   "outputs": [],
   "source": [
    "# load mQTLs\n",
    "load(\"/g/steinmetz/brooks/genphen//metabolome/qtls/mQTLs_comball_funqtl_2014.rda\")"
   ]
  },
  {
   "cell_type": "code",
   "execution_count": 11,
   "metadata": {
    "collapsed": true
   },
   "outputs": [],
   "source": [
    "# load eQTLs\n",
    "load(\"/g/steinmetz/brooks/genphen/transcriptome/qtl/eQTL.rda\")"
   ]
  },
  {
   "cell_type": "code",
   "execution_count": 58,
   "metadata": {
    "collapsed": false
   },
   "outputs": [],
   "source": [
    "mQTLs_funqtl_2014_class = sapply(mQTLs_funqtl_2014,class)"
   ]
  },
  {
   "cell_type": "code",
   "execution_count": 60,
   "metadata": {
    "collapsed": false
   },
   "outputs": [],
   "source": [
    "mQTLs_funqtl_2014 = mQTLs_funqtl_2014[mQTLs_funqtl_2014_class!=\"try-error\"]"
   ]
  },
  {
   "cell_type": "code",
   "execution_count": 61,
   "metadata": {
    "collapsed": false
   },
   "outputs": [],
   "source": [
    "# modify mQTLs for comparison\n",
    "mQTLs = do.call(cbind,lapply(names(mQTLs_funqtl_2014), function(i) {\n",
    "    if (class(mQTLs_funqtl_2014[[i]])!=\"try-error\") {\n",
    "         a = mQTLs_funqtl_2014[[i]]$qtls_alt[,\"mlod\"]\n",
    "    }\n",
    "}))\n",
    "rownames(mQTLs) = rownames(mQTLs_funqtl_2014[[1]]$qtls_alt)\n",
    "colnames(mQTLs) = names(mQTLs_funqtl_2014)"
   ]
  },
  {
   "cell_type": "code",
   "execution_count": 118,
   "metadata": {
    "collapsed": false
   },
   "outputs": [
    {
     "name": "stderr",
     "output_type": "stream",
     "text": [
      "Warning message:\n",
      "In cor(mQTLs, eQTL$qtls[, 3:dim(eQTL$qtls)[2]]): the standard deviation is zero"
     ]
    }
   ],
   "source": [
    "mQTL_eQTL_cor = cor(mQTLs, eQTL$qtls[,3:dim(eQTL$qtls)[2]])"
   ]
  },
  {
   "cell_type": "code",
   "execution_count": 119,
   "metadata": {
    "collapsed": false
   },
   "outputs": [],
   "source": [
    "mQTL_eQTL_cor = melt(mQTL_eQTL_cor, varnames = c(\"metabolite\",\"gene\"), value.name = \"cor\")\n",
    "save(mQTL_eQTL_cor, file = \"/g/steinmetz/brooks/genphen//metabolome/qtls/mQTL_eQTL_cor.RData\")"
   ]
  },
  {
   "cell_type": "markdown",
   "metadata": {},
   "source": [
    "## Results"
   ]
  },
  {
   "cell_type": "markdown",
   "metadata": {},
   "source": [
    "### mQTL-eQTL LOD correlations"
   ]
  },
  {
   "cell_type": "code",
   "execution_count": 112,
   "metadata": {
    "collapsed": false
   },
   "outputs": [],
   "source": [
    "#top5p = quantile(mQTL_eQTL_cor$cor, na.rm=T, prob = 0.995)\n",
    "#top5p"
   ]
  },
  {
   "cell_type": "code",
   "execution_count": 124,
   "metadata": {
    "collapsed": false
   },
   "outputs": [],
   "source": [
    "high_cor_mXe = mQTL_eQTL_cor %>% filter(cor >= .5)"
   ]
  },
  {
   "cell_type": "code",
   "execution_count": 164,
   "metadata": {
    "collapsed": false
   },
   "outputs": [
    {
     "data": {
      "text/html": [
       "<table>\n",
       "<thead><tr><th scope=col>MET</th><th scope=col>HSE</th><th scope=col>PYR</th><th scope=col>AKG</th><th scope=col>LEU</th><th scope=col>GLY</th><th scope=col>TRP</th><th scope=col>GLU</th><th scope=col>ALA</th><th scope=col>ARG</th><th scope=col>ASN</th><th scope=col>ASP</th><th scope=col>CAN</th><th scope=col>CIT</th><th scope=col>CYS</th><th scope=col>FUM</th><th scope=col>GLN</th><th scope=col>GLUC</th><th scope=col>ILE</th><th scope=col>LYS</th><th scope=col>MAL</th><th scope=col>PEP</th><th scope=col>PHE</th><th scope=col>PRO</th><th scope=col>SER</th><th scope=col>SUC</th><th scope=col>TYR</th><th scope=col>VAL</th></tr></thead>\n",
       "<tbody>\n",
       "\t<tr><td>18</td><td>17</td><td>15</td><td>11</td><td>10</td><td> 7</td><td> 5</td><td> 2</td><td> 0</td><td> 0</td><td> 0</td><td> 0</td><td> 0</td><td> 0</td><td> 0</td><td> 0</td><td> 0</td><td> 0</td><td> 0</td><td> 0</td><td> 0</td><td> 0</td><td> 0</td><td> 0</td><td> 0</td><td> 0</td><td> 0</td><td> 0</td></tr>\n",
       "</tbody>\n",
       "</table>\n"
      ],
      "text/latex": [
       "\\begin{tabular}{llllllllllllllllllllllllllll}\n",
       " MET & HSE & PYR & AKG & LEU & GLY & TRP & GLU & ALA & ARG & ASN & ASP & CAN & CIT & CYS & FUM & GLN & GLUC & ILE & LYS & MAL & PEP & PHE & PRO & SER & SUC & TYR & VAL\\\\\n",
       "\\hline\n",
       "\t 18 & 17 & 15 & 11 & 10 &  7 &  5 &  2 &  0 &  0 &  0 &  0 &  0 &  0 &  0 &  0 &  0 &  0 &  0 &  0 &  0 &  0 &  0 &  0 &  0 &  0 &  0 &  0\\\\\n",
       "\\end{tabular}\n"
      ],
      "text/markdown": [
       "1. 18\n",
       "2. 17\n",
       "3. 15\n",
       "4. 11\n",
       "5. 10\n",
       "6. 7\n",
       "7. 5\n",
       "8. 2\n",
       "9. 0\n",
       "10. 0\n",
       "11. 0\n",
       "12. 0\n",
       "13. 0\n",
       "14. 0\n",
       "15. 0\n",
       "16. 0\n",
       "17. 0\n",
       "18. 0\n",
       "19. 0\n",
       "20. 0\n",
       "21. 0\n",
       "22. 0\n",
       "23. 0\n",
       "24. 0\n",
       "25. 0\n",
       "26. 0\n",
       "27. 0\n",
       "28. 0\n",
       "\n",
       "\n"
      ],
      "text/plain": [
       "      \n",
       "       MET HSE PYR AKG LEU GLY TRP GLU ALA ARG ASN ASP CAN CIT CYS FUM GLN GLUC\n",
       "  [1,]  18  17  15  11  10   7   5   2   0   0   0   0   0   0   0   0   0    0\n",
       "      \n",
       "       ILE LYS MAL PEP PHE PRO SER SUC TYR VAL\n",
       "  [1,]   0   0   0   0   0   0   0   0   0   0"
      ]
     },
     "execution_count": 164,
     "metadata": {},
     "output_type": "execute_result"
    }
   ],
   "source": [
    "t(sort(table(high_cor_mXe$metabolite),decreasing=T))"
   ]
  },
  {
   "cell_type": "code",
   "execution_count": 165,
   "metadata": {
    "collapsed": false
   },
   "outputs": [
    {
     "data": {
      "text/html": [
       "<table>\n",
       "<thead><tr><th scope=col>YLR438W</th><th scope=col>SUT716</th><th scope=col>YML056C.2CsnR54</th><th scope=col>YML112W</th><th scope=col>YML098W</th><th scope=col>SUT292</th><th scope=col>YPL111W</th><th scope=col>CUT758</th><th scope=col>SUT289</th><th scope=col>YML060W</th><th scope=col>YCL064C</th><th scope=col>YOL058W</th><th scope=col>YML091C</th><th scope=col>YML111W</th><th scope=col>CUT287</th><th scope=col>YML072C</th><th scope=col>YMR205C</th><th scope=col>CUT792</th><th scope=col>CUT793</th><th scope=col>YML080W</th></tr></thead>\n",
       "<tbody>\n",
       "\t<tr><td>7</td><td>6</td><td>6</td><td>6</td><td>6</td><td>6</td><td>6</td><td>5</td><td>5</td><td>5</td><td>4</td><td>4</td><td>3</td><td>3</td><td>3</td><td>2</td><td>1</td><td>1</td><td>1</td><td>1</td></tr>\n",
       "</tbody>\n",
       "</table>\n"
      ],
      "text/latex": [
       "\\begin{tabular}{llllllllllllllllllll}\n",
       " YLR438W & SUT716 & YML056C.2CsnR54 & YML112W & YML098W & SUT292 & YPL111W & CUT758 & SUT289 & YML060W & YCL064C & YOL058W & YML091C & YML111W & CUT287 & YML072C & YMR205C & CUT792 & CUT793 & YML080W\\\\\n",
       "\\hline\n",
       "\t 7 & 6 & 6 & 6 & 6 & 6 & 6 & 5 & 5 & 5 & 4 & 4 & 3 & 3 & 3 & 2 & 1 & 1 & 1 & 1\\\\\n",
       "\\end{tabular}\n"
      ],
      "text/markdown": [
       "1. 7\n",
       "2. 6\n",
       "3. 6\n",
       "4. 6\n",
       "5. 6\n",
       "6. 6\n",
       "7. 6\n",
       "8. 5\n",
       "9. 5\n",
       "10. 5\n",
       "11. 4\n",
       "12. 4\n",
       "13. 3\n",
       "14. 3\n",
       "15. 3\n",
       "16. 2\n",
       "17. 1\n",
       "18. 1\n",
       "19. 1\n",
       "20. 1\n",
       "\n",
       "\n"
      ],
      "text/plain": [
       "      \n",
       "       YLR438W SUT716 YML056C.2CsnR54 YML112W YML098W SUT292 YPL111W CUT758\n",
       "  [1,]       7      6               6       6       6      6       6      5\n",
       "      \n",
       "       SUT289 YML060W YCL064C YOL058W YML091C YML111W CUT287 YML072C YMR205C\n",
       "  [1,]      5       5       4       4       3       3      3       2       1\n",
       "      \n",
       "       CUT792 CUT793 YML080W\n",
       "  [1,]      1      1       1"
      ]
     },
     "execution_count": 165,
     "metadata": {},
     "output_type": "execute_result"
    }
   ],
   "source": [
    "t(sort(table(high_cor_mXe$gene),decreasing = T)[1:20])"
   ]
  },
  {
   "cell_type": "code",
   "execution_count": 134,
   "metadata": {
    "collapsed": true
   },
   "outputs": [],
   "source": [
    "mnames = names(sort(table(tmpg$metabolite),decreasing=T))\n",
    "gnames = sort(table(high_cor_mXe$gene),decreasing = T)\n",
    "gnames = names(gnames[gnames>=2])"
   ]
  },
  {
   "cell_type": "code",
   "execution_count": 166,
   "metadata": {
    "collapsed": false
   },
   "outputs": [],
   "source": [
    "plotd = mQTL_eQTL_cor %>% filter(metabolite %in% mnames, gene %in% gnames)\n",
    "#head(plotd)"
   ]
  },
  {
   "cell_type": "code",
   "execution_count": 159,
   "metadata": {
    "collapsed": false
   },
   "outputs": [],
   "source": [
    "plotd = acast(plotd,formula = metabolite ~ gene, value.var = \"cor\")"
   ]
  },
  {
   "cell_type": "code",
   "execution_count": null,
   "metadata": {
    "collapsed": true
   },
   "outputs": [],
   "source": [
    "# make annotation data.frame\n"
   ]
  },
  {
   "cell_type": "markdown",
   "metadata": {},
   "source": [
    "### mQTL-eQTL correlation scores for genes with cor > 0.5 for at least two meatabolites"
   ]
  },
  {
   "cell_type": "code",
   "execution_count": 163,
   "metadata": {
    "collapsed": false
   },
   "outputs": [
    {
     "data": {
      "image/png": "[encoded data removed]"
     },
     "metadata": {},
     "output_type": "display_data"
    }
   ],
   "source": [
    "pheatmap(t(plotd), breaks = seq(-1,1,length.out = 100),title=\"HI\")"
   ]
  },
  {
   "cell_type": "markdown",
   "metadata": {},
   "source": [
    "### Check if it is the same subset of strains with mQTL/eQTL"
   ]
  },
  {
   "cell_type": "code",
   "execution_count": null,
   "metadata": {
    "collapsed": true
   },
   "outputs": [],
   "source": []
  }
 ],
 "metadata": {
  "kernelspec": {
   "display_name": "R",
   "language": "R",
   "name": "ir"
  },
  "language_info": {
   "codemirror_mode": "r",
   "file_extension": ".r",
   "mimetype": "text/x-r-source",
   "name": "R",
   "pygments_lexer": "r",
   "version": "3.2.2"
  }
 },
 "nbformat": 4,
 "nbformat_minor": 0
}
