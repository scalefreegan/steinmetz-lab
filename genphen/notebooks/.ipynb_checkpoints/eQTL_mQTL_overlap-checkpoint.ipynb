{
 "cells": [
  {
   "cell_type": "markdown",
   "metadata": {},
   "source": [
    "# eQTL mQTL overlap"
   ]
  },
  {
   "cell_type": "markdown",
   "metadata": {},
   "source": [
    "How many eQTLs are also mQTLs and vice versa"
   ]
  },
  {
   "cell_type": "code",
   "execution_count": 5,
   "metadata": {
    "collapsed": false
   },
   "outputs": [],
   "source": [
    ".libPaths(\"~/R/x86_64-redhat-linux-gnu-library/3.2/\")\n",
    "# config opts and libraries\n",
    "options(repr.plot.width = 6)\n",
    "options(repr.plot.height = 5)\n",
    "library(ggplot2);\n",
    "library(plyr);\n",
    "library(dplyr);\n",
    "library(reshape2);\n",
    "library(LSD);\n",
    "library(pheatmap);\n",
    "library(parallel);\n",
    "options(mc.cores = 24);\n",
    "library(stringr);\n",
    "library(RColorBrewer);\n",
    "library(qtl);\n",
    "library(funqtl);"
   ]
  },
  {
   "cell_type": "code",
   "execution_count": 6,
   "metadata": {
    "collapsed": false
   },
   "outputs": [],
   "source": [
    "# load mQTLs\n",
    "load(\"/g/steinmetz/brooks/genphen//metabolome/qtls/mQTLs_comball_funqtl_2014.rda\")\n",
    "mQTLs_funqtl_2014_class = sapply(mQTLs_funqtl_2014,class)\n",
    "mQTLs_funqtl_2014 = mQTLs_funqtl_2014[mQTLs_funqtl_2014_class!=\"try-error\"]\n",
    "\n"
   ]
  },
  {
   "cell_type": "code",
   "execution_count": 7,
   "metadata": {
    "collapsed": true
   },
   "outputs": [],
   "source": [
    "# load eQTLs\n",
    "load(\"/g/steinmetz/brooks/genphen/transcriptome/qtl/eQTL_08032016.rda\")"
   ]
  },
  {
   "cell_type": "code",
   "execution_count": 8,
   "metadata": {
    "collapsed": true
   },
   "outputs": [],
   "source": [
    "# load transcript annotation\n",
    "load(\"/g/steinmetz/brooks/genphen/transcriptome/data/trx_df.rda\")"
   ]
  },
  {
   "cell_type": "code",
   "execution_count": 146,
   "metadata": {
    "collapsed": true
   },
   "outputs": [],
   "source": [
    "# load genotype and markers files\n",
    "genotype_f = \"/g/steinmetz/brooks/yeast/genomes/S288CxYJM789/genotypes_S288c_R64.rda\"\n",
    "load(genotype_f)"
   ]
  },
  {
   "cell_type": "code",
   "execution_count": 147,
   "metadata": {
    "collapsed": true
   },
   "outputs": [],
   "source": [
    "# load data\n",
    "endo_f = \"/g/steinmetz/project/GenPhen/data/endometabolome/data/endometabolite_full_12102015.rda\"\n",
    "load(endo_f)\n",
    "\n",
    "# use only relaitve data\n",
    "endometabolite = filter(endometabolite, time_format == \"relative\")\n",
    "\n",
    "#head(endometabolite)"
   ]
  },
  {
   "cell_type": "code",
   "execution_count": 148,
   "metadata": {
    "collapsed": true
   },
   "outputs": [],
   "source": [
    "# load expression data\n",
    "load(\"/g/steinmetz/brooks/genphen/transcriptome/data/trx_df.rda\")"
   ]
  },
  {
   "cell_type": "code",
   "execution_count": 166,
   "metadata": {
    "collapsed": false
   },
   "outputs": [
    {
     "data": {
      "text/html": [
       "<table>\n",
       "<thead><tr><th></th><th scope=col>strain</th><th scope=col>metabolite</th><th scope=col>replicate</th><th scope=col>time_format</th><th scope=col>time</th><th scope=col>value</th><th scope=col>value.log2</th><th scope=col>relative.log2</th><th scope=col>derivative.log2</th><th scope=col>cellconc</th><th scope=col>biovol</th><th scope=col>singlecellvol</th><th scope=col>peakarea</th><th scope=col>batch</th></tr></thead>\n",
       "<tbody>\n",
       "\t<tr><th scope=row>1</th><td>01B</td><td>AKG</td><td>1</td><td>relative</td><td>1</td><td>64.62115</td><td>6.036089</td><td>1</td><td>NA</td><td>NA</td><td>NA</td><td>NA</td><td>NA</td><td>dM1</td></tr>\n",
       "\t<tr><th scope=row>2</th><td>01B</td><td>AKG</td><td>1</td><td>relative</td><td>2</td><td>75.42941</td><td>6.256056</td><td>1.036442</td><td>0.219967</td><td>NA</td><td>NA</td><td>NA</td><td>NA</td><td>dM1</td></tr>\n",
       "\t<tr><th scope=row>3</th><td>01B</td><td>AKG</td><td>1</td><td>relative</td><td>3</td><td>46.9538</td><td>5.583573</td><td>0.9250316</td><td>-0.6724827</td><td>NA</td><td>NA</td><td>NA</td><td>NA</td><td>dM1</td></tr>\n",
       "\t<tr><th scope=row>4</th><td>01B</td><td>AKG</td><td>1</td><td>relative</td><td>4</td><td>57.4146</td><td>5.868257</td><td>0.9721952</td><td>0.2846837</td><td>NA</td><td>NA</td><td>NA</td><td>NA</td><td>dM1</td></tr>\n",
       "\t<tr><th scope=row>5</th><td>01B</td><td>AKG</td><td>2</td><td>relative</td><td>1</td><td>65.08506</td><td>6.046252</td><td>1</td><td>NA</td><td>NA</td><td>NA</td><td>NA</td><td>NA</td><td>dM1</td></tr>\n",
       "\t<tr><th scope=row>6</th><td>01B</td><td>AKG</td><td>2</td><td>relative</td><td>2</td><td>61.94676</td><td>5.97606</td><td>0.9883908</td><td>-0.07019202</td><td>NA</td><td>NA</td><td>NA</td><td>NA</td><td>dM1</td></tr>\n",
       "</tbody>\n",
       "</table>\n"
      ],
      "text/latex": [
       "\\begin{tabular}{r|llllllllllllll}\n",
       "  & strain & metabolite & replicate & time_format & time & value & value.log2 & relative.log2 & derivative.log2 & cellconc & biovol & singlecellvol & peakarea & batch\\\\\n",
       "\\hline\n",
       "\t1 & 01B & AKG & 1 & relative & 1 & 64.62115 & 6.036089 & 1 & NA & NA & NA & NA & NA & dM1\\\\\n",
       "\t2 & 01B & AKG & 1 & relative & 2 & 75.42941 & 6.256056 & 1.036442 & 0.219967 & NA & NA & NA & NA & dM1\\\\\n",
       "\t3 & 01B & AKG & 1 & relative & 3 & 46.9538 & 5.583573 & 0.9250316 & -0.6724827 & NA & NA & NA & NA & dM1\\\\\n",
       "\t4 & 01B & AKG & 1 & relative & 4 & 57.4146 & 5.868257 & 0.9721952 & 0.2846837 & NA & NA & NA & NA & dM1\\\\\n",
       "\t5 & 01B & AKG & 2 & relative & 1 & 65.08506 & 6.046252 & 1 & NA & NA & NA & NA & NA & dM1\\\\\n",
       "\t6 & 01B & AKG & 2 & relative & 2 & 61.94676 & 5.97606 & 0.9883908 & -0.07019202 & NA & NA & NA & NA & dM1\\\\\n",
       "\\end{tabular}\n"
      ],
      "text/plain": [
       "Source: local data frame [6 x 14]\n",
       "\n",
       "  strain metabolite replicate time_format  time    value value.log2\n",
       "   (chr)     (fctr)    (fctr)      (fctr) (dbl)    (dbl)      (dbl)\n",
       "1    01B        AKG         1    relative     1 64.62115   6.036089\n",
       "2    01B        AKG         1    relative     2 75.42941   6.256056\n",
       "3    01B        AKG         1    relative     3 46.95380   5.583573\n",
       "4    01B        AKG         1    relative     4 57.41460   5.868257\n",
       "5    01B        AKG         2    relative     1 65.08506   6.046252\n",
       "6    01B        AKG         2    relative     2 61.94676   5.976060\n",
       "Variables not shown: relative.log2 (dbl), derivative.log2 (dbl), cellconc\n",
       "  (dbl), biovol (dbl), singlecellvol (dbl), peakarea (dbl), batch (fctr)"
      ]
     },
     "execution_count": 166,
     "metadata": {},
     "output_type": "execute_result"
    }
   ],
   "source": [
    "head(endometabolite)"
   ]
  },
  {
   "cell_type": "code",
   "execution_count": 122,
   "metadata": {
    "collapsed": false
   },
   "outputs": [],
   "source": [
    "if (!exists(\"mQTL_table\")) {\n",
    "    mQTL_table = do.call(rbind, lapply(names(mQTLs_funqtl_2014),function(m) {\n",
    "        interval = mQTLs_funqtl_2014[[m]]$qtl_intervals\n",
    "        if (length(interval)>0) {\n",
    "            do.call(rbind, lapply(seq(1:length(interval)), function(z){\n",
    "                thisinterval = interval[[z]]\n",
    "                highmrk = names(thisinterval[2])\n",
    "                data.frame(metabolite = m, \n",
    "                   as.data.frame(range(thisinterval)),\n",
    "                   maxlod = mQTLs_funqtl_2014[[m]]$qtls_alt[highmrk,\"mlod\"], \n",
    "                   maxmrk = names(thisinterval[2]))\n",
    "            }))          \n",
    "        } else {\n",
    "            data.frame()\n",
    "        }\n",
    "    }))\n",
    "    mQTL_table$seqnames = sapply(mQTL_table$seqnames,function(x){\n",
    "        paste(substr(x,1,3),as.roman(substr(x,4,5)),sep=\"\")})\n",
    "}"
   ]
  },
  {
   "cell_type": "code",
   "execution_count": 204,
   "metadata": {
    "collapsed": false
   },
   "outputs": [
    {
     "data": {
      "text/html": [
       "<table>\n",
       "<thead><tr><th></th><th scope=col>gene</th><th scope=col>seqnames</th><th scope=col>start</th><th scope=col>end</th><th scope=col>width</th><th scope=col>strand</th><th scope=col>maxlod</th><th scope=col>maxmrk</th></tr></thead>\n",
       "<tbody>\n",
       "\t<tr><th scope=row>01</th><td>SUT433</td><td>chrI</td><td>1505</td><td>29279</td><td>27775</td><td>*</td><td>18.85243</td><td>mrk_79</td></tr>\n",
       "\t<tr><th scope=row>08</th><td>SUT433</td><td>chrVIII</td><td>309963</td><td>469661</td><td>159699</td><td>*</td><td>4.47395</td><td>mrk_23688</td></tr>\n",
       "\t<tr><th scope=row>3</th><td>CUT437</td><td>chrI</td><td>1505</td><td>44588</td><td>43084</td><td>*</td><td>7.199353</td><td>mrk_96</td></tr>\n",
       "\t<tr><th scope=row>4</th><td>SUT434</td><td>chrII</td><td>427719</td><td>515157</td><td>87439</td><td>*</td><td>3.679556</td><td>mrk_4238</td></tr>\n",
       "\t<tr><th scope=row>5</th><td>SUT435</td><td>chrI</td><td>32556</td><td>52164</td><td>19609</td><td>*</td><td>7.917256</td><td>mrk_99</td></tr>\n",
       "\t<tr><th scope=row>6</th><td>CUT439</td><td>chrXIV</td><td>42770</td><td>780902</td><td>738133</td><td>*</td><td>2.760089</td><td>mrk_42223</td></tr>\n",
       "</tbody>\n",
       "</table>\n"
      ],
      "text/latex": [
       "\\begin{tabular}{r|llllllll}\n",
       "  & gene & seqnames & start & end & width & strand & maxlod & maxmrk\\\\\n",
       "\\hline\n",
       "\t01 & SUT433 & chrI & 1505 & 29279 & 27775 & * & 18.85243 & mrk_79\\\\\n",
       "\t08 & SUT433 & chrVIII & 309963 & 469661 & 159699 & * & 4.47395 & mrk_23688\\\\\n",
       "\t3 & CUT437 & chrI & 1505 & 44588 & 43084 & * & 7.199353 & mrk_96\\\\\n",
       "\t4 & SUT434 & chrII & 427719 & 515157 & 87439 & * & 3.679556 & mrk_4238\\\\\n",
       "\t5 & SUT435 & chrI & 32556 & 52164 & 19609 & * & 7.917256 & mrk_99\\\\\n",
       "\t6 & CUT439 & chrXIV & 42770 & 780902 & 738133 & * & 2.760089 & mrk_42223\\\\\n",
       "\\end{tabular}\n"
      ],
      "text/plain": [
       "     gene seqnames  start    end  width strand    maxlod    maxmrk\n",
       "01 SUT433     chrI   1505  29279  27775      * 18.852431    mrk_79\n",
       "08 SUT433  chrVIII 309963 469661 159699      *  4.473950 mrk_23688\n",
       "3  CUT437     chrI   1505  44588  43084      *  7.199353    mrk_96\n",
       "4  SUT434    chrII 427719 515157  87439      *  3.679556  mrk_4238\n",
       "5  SUT435     chrI  32556  52164  19609      *  7.917256    mrk_99\n",
       "6  CUT439   chrXIV  42770 780902 738133      *  2.760089 mrk_42223"
      ]
     },
     "execution_count": 204,
     "metadata": {},
     "output_type": "execute_result"
    }
   ],
   "source": [
    "head(eQTL_table)"
   ]
  },
  {
   "cell_type": "code",
   "execution_count": 135,
   "metadata": {
    "collapsed": false
   },
   "outputs": [],
   "source": [
    "mQTL_ranges = GRanges(seqnames = mQTL_table$seqnames, \n",
    "              ranges = IRanges(start = mQTL_table$start, end = mQTL_table$end, width = mQTL_table$width))\n",
    "eQTL_ranges = GRanges(seqnames = eQTL_table$seqnames, \n",
    "              ranges = IRanges(start = eQTL_table$start, end = eQTL_table$end, width = eQTL_table$width))"
   ]
  },
  {
   "cell_type": "code",
   "execution_count": 145,
   "metadata": {
    "collapsed": false
   },
   "outputs": [
    {
     "data": {
      "text/html": [
       "<ol class=list-inline>\n",
       "\t<li>FALSE</li>\n",
       "\t<li>FALSE</li>\n",
       "\t<li>FALSE</li>\n",
       "\t<li>FALSE</li>\n",
       "\t<li>FALSE</li>\n",
       "\t<li>FALSE</li>\n",
       "</ol>\n"
      ],
      "text/latex": [
       "\\begin{enumerate*}\n",
       "\\item FALSE\n",
       "\\item FALSE\n",
       "\\item FALSE\n",
       "\\item FALSE\n",
       "\\item FALSE\n",
       "\\item FALSE\n",
       "\\end{enumerate*}\n"
      ],
      "text/markdown": [
       "1. FALSE\n",
       "2. FALSE\n",
       "3. FALSE\n",
       "4. FALSE\n",
       "5. FALSE\n",
       "6. FALSE\n",
       "\n",
       "\n"
      ],
      "text/plain": [
       "[1] FALSE FALSE FALSE FALSE FALSE FALSE"
      ]
     },
     "execution_count": 145,
     "metadata": {},
     "output_type": "execute_result"
    }
   ],
   "source": []
  },
  {
   "cell_type": "code",
   "execution_count": 144,
   "metadata": {
    "collapsed": false
   },
   "outputs": [
    {
     "data": {
      "text/html": [
       "1"
      ],
      "text/latex": [
       "1"
      ],
      "text/markdown": [
       "1"
      ],
      "text/plain": [
       "[1] 1"
      ]
     },
     "execution_count": 144,
     "metadata": {},
     "output_type": "execute_result"
    }
   ],
   "source": [
    "sum(mQTL_table$maxmrk%in%eQTL_table$maxmrk)"
   ]
  },
  {
   "cell_type": "code",
   "execution_count": 140,
   "metadata": {
    "collapsed": false
   },
   "outputs": [
    {
     "data": {
      "text/html": [
       "<ol class=list-inline>\n",
       "\t<li>59</li>\n",
       "\t<li>132</li>\n",
       "\t<li>53</li>\n",
       "\t<li>127</li>\n",
       "\t<li>59</li>\n",
       "\t<li>194</li>\n",
       "\t<li>59</li>\n",
       "\t<li>132</li>\n",
       "\t<li>20</li>\n",
       "</ol>\n"
      ],
      "text/latex": [
       "\\begin{enumerate*}\n",
       "\\item 59\n",
       "\\item 132\n",
       "\\item 53\n",
       "\\item 127\n",
       "\\item 59\n",
       "\\item 194\n",
       "\\item 59\n",
       "\\item 132\n",
       "\\item 20\n",
       "\\end{enumerate*}\n"
      ],
      "text/markdown": [
       "1. 59\n",
       "2. 132\n",
       "3. 53\n",
       "4. 127\n",
       "5. 59\n",
       "6. 194\n",
       "7. 59\n",
       "8. 132\n",
       "9. 20\n",
       "\n",
       "\n"
      ],
      "text/plain": [
       "[1]  59 132  53 127  59 194  59 132  20"
      ]
     },
     "execution_count": 140,
     "metadata": {},
     "output_type": "execute_result"
    }
   ],
   "source": [
    "countOverlaps(mQTL_ranges, eQTL_ranges)"
   ]
  },
  {
   "cell_type": "code",
   "execution_count": 212,
   "metadata": {
    "collapsed": false
   },
   "outputs": [
    {
     "data": {
      "text/html": [
       "<ol class=list-inline>\n",
       "\t<li>2.07900910694877</li>\n",
       "\t<li>0</li>\n",
       "</ol>\n"
      ],
      "text/latex": [
       "\\begin{enumerate*}\n",
       "\\item 2.07900910694877\n",
       "\\item 0\n",
       "\\end{enumerate*}\n"
      ],
      "text/markdown": [
       "1. 2.07900910694877\n",
       "2. 0\n",
       "\n",
       "\n"
      ],
      "text/plain": [
       "[1] 2.079009 0.000000"
      ]
     },
     "execution_count": 212,
     "metadata": {},
     "output_type": "execute_result"
    }
   ],
   "source": [
    "log2(filter(trx_df, name == \"SUT432\", strain == \"02B\")$value + 1)"
   ]
  },
  {
   "cell_type": "code",
   "execution_count": 57,
   "metadata": {
    "collapsed": false
   },
   "outputs": [
    {
     "data": {
      "text/html": [
       "<table>\n",
       "<thead><tr><th></th><th scope=col>chr</th><th scope=col>pos</th><th scope=col>slod</th><th scope=col>mlod</th></tr></thead>\n",
       "<tbody>\n",
       "\t<tr><th scope=row>mrk_37228</th><td>13</td><td>1065</td><td>3.960293</td><td>4.736386</td></tr>\n",
       "</tbody>\n",
       "</table>\n"
      ],
      "text/latex": [
       "\\begin{tabular}{r|llll}\n",
       "  & chr & pos & slod & mlod\\\\\n",
       "\\hline\n",
       "\tmrk_37228 & 13 & 1065 & 3.960293 & 4.736386\\\\\n",
       "\\end{tabular}\n"
      ],
      "text/plain": [
       "          chr  pos     slod     mlod\n",
       "mrk_37228  13 1065 3.960293 4.736386"
      ]
     },
     "execution_count": 57,
     "metadata": {},
     "output_type": "execute_result"
    }
   ],
   "source": [
    "mQTLs_funqtl_2014[[m]]$qtls_alt[highmrk,\"mlod\"]"
   ]
  },
  {
   "cell_type": "code",
   "execution_count": 207,
   "metadata": {
    "collapsed": false
   },
   "outputs": [],
   "source": [
    "f = \"ge_me.rda\"\n",
    "if (file.exists(f)) {\n",
    "    load(f)\n",
    "} else {\n",
    "    ge = trx_df %>% group_by(name, strain) %>% summarize(value = median(log2(value + 1)))\n",
    "    me = endometabolite %>% group_by(metabolite, strain, time ) %>% summarize(value = median(value.log2))\n",
    "    save(ge, me, file = f)\n",
    "}\n"
   ]
  },
  {
   "cell_type": "code",
   "execution_count": 208,
   "metadata": {
    "collapsed": false
   },
   "outputs": [
    {
     "data": {
      "text/html": [
       "<table>\n",
       "<thead><tr><th></th><th scope=col>name</th><th scope=col>strain</th><th scope=col>value</th></tr></thead>\n",
       "<tbody>\n",
       "\t<tr><th scope=row>1</th><td>SUT432</td><td>01C</td><td>0.464358</td></tr>\n",
       "\t<tr><th scope=row>2</th><td>SUT432</td><td>02B</td><td>-Inf</td></tr>\n",
       "\t<tr><th scope=row>3</th><td>SUT432</td><td>02C</td><td>-Inf</td></tr>\n",
       "\t<tr><th scope=row>4</th><td>SUT432</td><td>02D</td><td>2.077627</td></tr>\n",
       "\t<tr><th scope=row>5</th><td>SUT432</td><td>03A</td><td>-Inf</td></tr>\n",
       "\t<tr><th scope=row>6</th><td>SUT432</td><td>03C</td><td>-Inf</td></tr>\n",
       "</tbody>\n",
       "</table>\n"
      ],
      "text/latex": [
       "\\begin{tabular}{r|lll}\n",
       "  & name & strain & value\\\\\n",
       "\\hline\n",
       "\t1 & SUT432 & 01C & 0.464358\\\\\n",
       "\t2 & SUT432 & 02B & -Inf\\\\\n",
       "\t3 & SUT432 & 02C & -Inf\\\\\n",
       "\t4 & SUT432 & 02D & 2.077627\\\\\n",
       "\t5 & SUT432 & 03A & -Inf\\\\\n",
       "\t6 & SUT432 & 03C & -Inf\\\\\n",
       "\\end{tabular}\n"
      ],
      "text/plain": [
       "Source: local data frame [6 x 3]\n",
       "Groups: name [1]\n",
       "\n",
       "    name strain    value\n",
       "  (fctr) (fctr)    (dbl)\n",
       "1 SUT432    01C 0.464358\n",
       "2 SUT432    02B     -Inf\n",
       "3 SUT432    02C     -Inf\n",
       "4 SUT432    02D 2.077627\n",
       "5 SUT432    03A     -Inf\n",
       "6 SUT432    03C     -Inf"
      ]
     },
     "execution_count": 208,
     "metadata": {},
     "output_type": "execute_result"
    }
   ],
   "source": [
    "head(ge)"
   ]
  },
  {
   "cell_type": "code",
   "execution_count": 205,
   "metadata": {
    "collapsed": false
   },
   "outputs": [
    {
     "data": {
      "text/html": [
       "<table>\n",
       "<thead><tr><th></th><th scope=col>strain</th><th scope=col>metabolite</th><th scope=col>time</th><th scope=col>value</th><th scope=col>geno</th></tr></thead>\n",
       "<tbody>\n",
       "\t<tr><th scope=row>1</th><td>01B</td><td>HSE</td><td>2</td><td>11.64172</td><td>2</td></tr>\n",
       "\t<tr><th scope=row>2</th><td>01C</td><td>HSE</td><td>2</td><td>9.07838</td><td>1</td></tr>\n",
       "\t<tr><th scope=row>3</th><td>01D</td><td>HSE</td><td>2</td><td>8.944617</td><td>NA</td></tr>\n",
       "\t<tr><th scope=row>4</th><td>02C</td><td>HSE</td><td>2</td><td>10.24209</td><td>1</td></tr>\n",
       "\t<tr><th scope=row>5</th><td>02D</td><td>HSE</td><td>2</td><td>10.13415</td><td>2</td></tr>\n",
       "\t<tr><th scope=row>6</th><td>03A</td><td>HSE</td><td>2</td><td>9.640158</td><td>2</td></tr>\n",
       "</tbody>\n",
       "</table>\n"
      ],
      "text/latex": [
       "\\begin{tabular}{r|lllll}\n",
       "  & strain & metabolite & time & value & geno\\\\\n",
       "\\hline\n",
       "\t1 & 01B & HSE & 2 & 11.64172 & 2\\\\\n",
       "\t2 & 01C & HSE & 2 & 9.07838 & 1\\\\\n",
       "\t3 & 01D & HSE & 2 & 8.944617 & NA\\\\\n",
       "\t4 & 02C & HSE & 2 & 10.24209 & 1\\\\\n",
       "\t5 & 02D & HSE & 2 & 10.13415 & 2\\\\\n",
       "\t6 & 03A & HSE & 2 & 9.640158 & 2\\\\\n",
       "\\end{tabular}\n"
      ],
      "text/plain": [
       "  strain metabolite time     value geno\n",
       "1    01B        HSE    2 11.641716    2\n",
       "2    01C        HSE    2  9.078380    1\n",
       "3    01D        HSE    2  8.944617   NA\n",
       "4    02C        HSE    2 10.242090    1\n",
       "5    02D        HSE    2 10.134151    2\n",
       "6    03A        HSE    2  9.640158    2"
      ]
     },
     "execution_count": 205,
     "metadata": {},
     "output_type": "execute_result"
    },
    {
     "data": {
      "text/plain": [
       "\n",
       "\tPearson's product-moment correlation\n",
       "\n",
       "data:  me_tmp$value and me_tmp$geno\n",
       "t = 0.089584, df = 80, p-value = 0.9288\n",
       "alternative hypothesis: true correlation is not equal to 0\n",
       "95 percent confidence interval:\n",
       " -0.2074427  0.2265301\n",
       "sample estimates:\n",
       "       cor \n",
       "0.01001531 \n"
      ]
     },
     "execution_count": 205,
     "metadata": {},
     "output_type": "execute_result"
    }
   ],
   "source": [
    "m = \"mrk_4238\"\n",
    "\n",
    "genodf = data.frame(geno = geno[m,], strain = names(geno[m,]))\n",
    "\n",
    "me_tmp = merge(me, genodf, by = \"strain\" ) %>% filter(metabolite==\"HSE\",time==2)\n",
    "#x = filter(ge, )\n",
    "#cor(ge,geno[m,],method =\"pearson\")\n",
    "cor.test(me_tmp$value, me_tmp$geno, method = \"pearson\", use=\"pair\")"
   ]
  },
  {
   "cell_type": "code",
   "execution_count": null,
   "metadata": {
    "collapsed": true
   },
   "outputs": [],
   "source": []
  }
 ],
 "metadata": {
  "kernelspec": {
   "display_name": "R",
   "language": "R",
   "name": "ir"
  },
  "language_info": {
   "codemirror_mode": "r",
   "file_extension": ".r",
   "mimetype": "text/x-r-source",
   "name": "R",
   "pygments_lexer": "r",
   "version": "3.2.2"
  }
 },
 "nbformat": 4,
 "nbformat_minor": 0
}
