{
 "cells": [
  {
   "cell_type": "markdown",
   "metadata": {},
   "source": [
    "Testing the jupyter R kernel"
   ]
  },
  {
   "cell_type": "markdown",
   "metadata": {},
   "source": [
    "# Install packages"
   ]
  },
  {
   "cell_type": "markdown",
   "metadata": {},
   "source": [
    "Where is iPython notebook kernel?"
   ]
  },
  {
   "cell_type": "code",
   "execution_count": null,
   "metadata": {
    "collapsed": false
   },
   "outputs": [],
   "source": [
    ".libPaths()"
   ]
  },
  {
   "cell_type": "code",
   "execution_count": 3,
   "metadata": {
    "collapsed": true
   },
   "outputs": [],
   "source": [
    "packages = c(\n",
    "    \"xlsx\",\n",
    "    \"ggplot2\",\n",
    "    \"plyr\",\n",
    "    \"dplyr\",\n",
    "    \"reshape2\",\n",
    "    \"LSD\",\n",
    "    \"qtl\",\n",
    "    \"pheatmap\",\n",
    "    \"funqtl\",\n",
    "    \"parallel\",\n",
    "    \"snow\",\n",
    "    \"igraph\",\n",
    "    \"stringr\",\n",
    "    \"devtools\",\n",
    "    \"Matrix\"\n",
    ")"
   ]
  },
  {
   "cell_type": "code",
   "execution_count": null,
   "metadata": {
    "collapsed": false
   },
   "outputs": [],
   "source": [
    "install.packages(packages, repos = \"http://cran.fhcrc.org/\", dependencies = T)"
   ]
  },
  {
   "cell_type": "code",
   "execution_count": null,
   "metadata": {
    "collapsed": false
   },
   "outputs": [],
   "source": [
    "library(\"devtools\")\n",
    "install_github(\"ikwak2/funqtl\")"
   ]
  },
  {
   "cell_type": "code",
   "execution_count": 6,
   "metadata": {
    "collapsed": false
   },
   "outputs": [
    {
     "ename": "ERROR",
     "evalue": "Error in library(i): there is no package called ‘i’\n",
     "output_type": "error",
     "traceback": [
      "Error in library(i): there is no package called ‘i’\n"
     ]
    }
   ],
   "source": [
    "i = \"igraph\"\n",
    "library(i)"
   ]
  },
  {
   "cell_type": "code",
   "execution_count": null,
   "metadata": {
    "collapsed": true
   },
   "outputs": [],
   "source": []
  }
 ],
 "metadata": {
  "kernelspec": {
   "display_name": "R",
   "language": "R",
   "name": "ir"
  },
  "language_info": {
   "codemirror_mode": "r",
   "file_extension": ".r",
   "mimetype": "text/x-r-source",
   "name": "R",
   "pygments_lexer": "r",
   "version": "3.2.2"
  }
 },
 "nbformat": 4,
 "nbformat_minor": 0
}
