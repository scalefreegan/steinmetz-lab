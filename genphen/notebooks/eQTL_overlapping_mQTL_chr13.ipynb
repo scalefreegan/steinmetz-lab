{
 "cells": [
  {
   "cell_type": "markdown",
   "metadata": {},
   "source": [
    "# eQTL chr13 overlapping mQTL chr13"
   ]
  },
  {
   "cell_type": "markdown",
   "metadata": {},
   "source": [
    "Table of eQTLs (cis and trans) overlapping the mQTL hotspot on chr13"
   ]
  },
  {
   "cell_type": "code",
   "execution_count": 1,
   "metadata": {
    "collapsed": false
   },
   "outputs": [
    {
     "name": "stderr",
     "output_type": "stream",
     "text": [
      "\n",
      "Attaching package: ‘dplyr’\n",
      "\n",
      "The following objects are masked from ‘package:plyr’:\n",
      "\n",
      "    arrange, count, desc, failwith, id, mutate, rename, summarise,\n",
      "    summarize\n",
      "\n",
      "The following objects are masked from ‘package:stats’:\n",
      "\n",
      "    filter, lag\n",
      "\n",
      "The following objects are masked from ‘package:base’:\n",
      "\n",
      "    intersect, setdiff, setequal, union\n",
      "\n",
      "\n",
      "Attaching package: ‘LSD’\n",
      "\n",
      "The following object is masked from ‘package:ggplot2’:\n",
      "\n",
      "    plotmatrix\n",
      "\n",
      "Warning message:\n",
      ": package ‘qtl’ was built under R version 3.2.3"
     ]
    }
   ],
   "source": [
    ".libPaths(\"~/R/x86_64-redhat-linux-gnu-library/3.2/\")\n",
    "# config opts and libraries\n",
    "options(repr.plot.width = 6)\n",
    "options(repr.plot.height = 5)\n",
    "library(ggplot2);\n",
    "library(plyr);\n",
    "library(dplyr);\n",
    "library(reshape2);\n",
    "library(LSD);\n",
    "library(pheatmap);\n",
    "library(parallel);\n",
    "options(mc.cores = 24);\n",
    "library(stringr);\n",
    "library(RColorBrewer);\n",
    "library(qtl);"
   ]
  },
  {
   "cell_type": "code",
   "execution_count": 2,
   "metadata": {
    "collapsed": true
   },
   "outputs": [],
   "source": [
    "# load mQTLs\n",
    "load(\"/g/steinmetz/brooks/genphen//metabolome/qtls/mQTLs_comball_funqtl_2014.rda\")\n",
    "mQTLs_funqtl_2014_class = sapply(mQTLs_funqtl_2014,class)\n",
    "mQTLs_funqtl_2014 = mQTLs_funqtl_2014[mQTLs_funqtl_2014_class!=\"try-error\"]"
   ]
  },
  {
   "cell_type": "code",
   "execution_count": 3,
   "metadata": {
    "collapsed": true
   },
   "outputs": [],
   "source": [
    "# load eQTLs\n",
    "load(\"/g/steinmetz/brooks/genphen/transcriptome/qtl/eQTL_08032016.rda\")"
   ]
  },
  {
   "cell_type": "code",
   "execution_count": 4,
   "metadata": {
    "collapsed": true
   },
   "outputs": [],
   "source": [
    "# load transcript annotation\n",
    "load(\"/g/steinmetz/brooks/genphen/transcriptome/data/trx_df.rda\")"
   ]
  },
  {
   "cell_type": "code",
   "execution_count": 5,
   "metadata": {
    "collapsed": false
   },
   "outputs": [],
   "source": [
    "# chr13 mQTL interval, 24134::169765\n",
    "# metabolites: AKG, GLY, HSE, LEU, MET, PYR\n",
    "\n",
    "mQTL_start = 24134\n",
    "mQTL_end = 169765\n",
    "chr13_eQTL = qtltable %>% filter(seqnames == \"chrXIII\", \n",
    "                                 (start <= mQTL_start && end <= mQTL_end ) |\n",
    "                                 (start >= mQTL_start && end <= mQTL_end) | \n",
    "                                 (start >= mQTL_start && end >= mQTL_end) |\n",
    "                                 (start <= mQTL_start && end >= mQTL_end))\n",
    "#thisstartend = .$start, .$end\n",
    "#start >= mQTL_start | end <= mQTL_end )"
   ]
  },
  {
   "cell_type": "code",
   "execution_count": 6,
   "metadata": {
    "collapsed": false
   },
   "outputs": [
    {
     "name": "stdout",
     "output_type": "stream",
     "text": [
      "Number of eQTLs colocalizaed with mQTL on chr13: 132"
     ]
    }
   ],
   "source": [
    "cat(\"Number of eQTLs colocalizaed with mQTL on chr13:\", dim(chr13_eQTL)[1])"
   ]
  },
  {
   "cell_type": "code",
   "execution_count": 7,
   "metadata": {
    "collapsed": false
   },
   "outputs": [
    {
     "name": "stdout",
     "output_type": "stream",
     "text": [
      "Number of transcripts with at least one eQTL colocalizaed with mQTL on chr13: 132"
     ]
    }
   ],
   "source": [
    "cat(\"Number of transcripts with at least one eQTL colocalizaed with mQTL on chr13:\", \n",
    "    length(levels(chr13_eQTL$gene)[chr13_eQTL$gene]))"
   ]
  },
  {
   "cell_type": "code",
   "execution_count": 8,
   "metadata": {
    "collapsed": true
   },
   "outputs": [],
   "source": [
    "genes_chr13 = trx_df %>% filter(chr == \"chr13\")"
   ]
  },
  {
   "cell_type": "code",
   "execution_count": 9,
   "metadata": {
    "collapsed": false
   },
   "outputs": [],
   "source": [
    "chr13_CISeQTL = chr13_eQTL %>% filter(gene %in% genes_chr13$name)\n",
    "chr13_CISeQTL = chr13_CISeQTL[order(chr13_CISeQTL$start,decreasing = F),]"
   ]
  },
  {
   "cell_type": "code",
   "execution_count": 10,
   "metadata": {
    "collapsed": false
   },
   "outputs": [
    {
     "data": {
      "text/html": [
       "<table>\n",
       "<thead><tr><th></th><th scope=col>gene</th><th scope=col>seqnames</th><th scope=col>start</th><th scope=col>end</th><th scope=col>width</th><th scope=col>strand</th><th scope=col>maxlod</th><th scope=col>maxmrk</th></tr></thead>\n",
       "<tbody>\n",
       "\t<tr><th scope=row>5</th><td>YML091C</td><td>chrXIII</td><td>9746</td><td>169814</td><td>160069</td><td>*</td><td>4.468042</td><td>mrk_37116</td></tr>\n",
       "\t<tr><th scope=row>28</th><td>YML121W</td><td>chrXIII</td><td>9746</td><td>845058</td><td>835313</td><td>*</td><td>3.511824</td><td>mrk_37157</td></tr>\n",
       "\t<tr><th scope=row>61</th><td>YMR215W</td><td>chrXIII</td><td>9746</td><td>915435</td><td>905690</td><td>*</td><td>3.350485</td><td>mrk_37037</td></tr>\n",
       "\t<tr><th scope=row>17</th><td>YMR205C</td><td>chrXIII</td><td>22768</td><td>214914</td><td>192147</td><td>*</td><td>3.766641</td><td>mrk_37745</td></tr>\n",
       "\t<tr><th scope=row>1</th><td>YML123C</td><td>chrXIII</td><td>24997</td><td>138066</td><td>113070</td><td>*</td><td>3.788935</td><td>mrk_37075</td></tr>\n",
       "\t<tr><th scope=row>34</th><td>SUT290</td><td>chrXIII</td><td>30303</td><td>169814</td><td>139512</td><td>*</td><td>3.446727</td><td>mrk_37404</td></tr>\n",
       "</tbody>\n",
       "</table>\n"
      ],
      "text/latex": [
       "\\begin{tabular}{r|llllllll}\n",
       "  & gene & seqnames & start & end & width & strand & maxlod & maxmrk\\\\\n",
       "\\hline\n",
       "\t5 & YML091C & chrXIII & 9746 & 169814 & 160069 & * & 4.468042 & mrk_37116\\\\\n",
       "\t28 & YML121W & chrXIII & 9746 & 845058 & 835313 & * & 3.511824 & mrk_37157\\\\\n",
       "\t61 & YMR215W & chrXIII & 9746 & 915435 & 905690 & * & 3.350485 & mrk_37037\\\\\n",
       "\t17 & YMR205C & chrXIII & 22768 & 214914 & 192147 & * & 3.766641 & mrk_37745\\\\\n",
       "\t1 & YML123C & chrXIII & 24997 & 138066 & 113070 & * & 3.788935 & mrk_37075\\\\\n",
       "\t34 & SUT290 & chrXIII & 30303 & 169814 & 139512 & * & 3.446727 & mrk_37404\\\\\n",
       "\\end{tabular}\n"
      ],
      "text/plain": [
       "      gene seqnames start    end  width strand   maxlod    maxmrk\n",
       "5  YML091C  chrXIII  9746 169814 160069      * 4.468042 mrk_37116\n",
       "28 YML121W  chrXIII  9746 845058 835313      * 3.511824 mrk_37157\n",
       "61 YMR215W  chrXIII  9746 915435 905690      * 3.350485 mrk_37037\n",
       "17 YMR205C  chrXIII 22768 214914 192147      * 3.766641 mrk_37745\n",
       "1  YML123C  chrXIII 24997 138066 113070      * 3.788935 mrk_37075\n",
       "34  SUT290  chrXIII 30303 169814 139512      * 3.446727 mrk_37404"
      ]
     },
     "execution_count": 10,
     "metadata": {},
     "output_type": "execute_result"
    }
   ],
   "source": [
    "head(chr13_CISeQTL)"
   ]
  },
  {
   "cell_type": "code",
   "execution_count": 11,
   "metadata": {
    "collapsed": false
   },
   "outputs": [
    {
     "data": {
      "text/html": [
       "TRUE"
      ],
      "text/latex": [
       "TRUE"
      ],
      "text/markdown": [
       "TRUE"
      ],
      "text/plain": [
       "[1] TRUE"
      ]
     },
     "execution_count": 11,
     "metadata": {},
     "output_type": "execute_result"
    }
   ],
   "source": [
    "# Is Bul2 a QTL gene?\n",
    "\"YML111W\" %in% chr13_CISeQTL$gene"
   ]
  },
  {
   "cell_type": "code",
   "execution_count": 37,
   "metadata": {
    "collapsed": false
   },
   "outputs": [
    {
     "data": {
      "text/html": [
       "<table>\n",
       "<thead><tr><th></th><th scope=col>gene</th><th scope=col>seqnames</th><th scope=col>start</th><th scope=col>end</th><th scope=col>width</th><th scope=col>strand</th><th scope=col>maxlod</th><th scope=col>maxmrk</th></tr></thead>\n",
       "<tbody>\n",
       "\t<tr><th scope=row>1</th><td>YML111W</td><td>chrXIII</td><td>45908</td><td>170785</td><td>124878</td><td>*</td><td>3.732769</td><td>mrk_37242</td></tr>\n",
       "</tbody>\n",
       "</table>\n"
      ],
      "text/latex": [
       "\\begin{tabular}{r|llllllll}\n",
       "  & gene & seqnames & start & end & width & strand & maxlod & maxmrk\\\\\n",
       "\\hline\n",
       "\t1 & YML111W & chrXIII & 45908 & 170785 & 124878 & * & 3.732769 & mrk_37242\\\\\n",
       "\\end{tabular}\n"
      ],
      "text/plain": [
       "     gene seqnames start    end  width strand   maxlod    maxmrk\n",
       "1 YML111W  chrXIII 45908 170785 124878      * 3.732769 mrk_37242"
      ]
     },
     "execution_count": 37,
     "metadata": {},
     "output_type": "execute_result"
    }
   ],
   "source": [
    "filter(chr13_eQTL, gene == \"YML111W\")"
   ]
  },
  {
   "cell_type": "code",
   "execution_count": 42,
   "metadata": {
    "collapsed": false
   },
   "outputs": [
    {
     "data": {
      "text/html": [
       "<table>\n",
       "<thead><tr><th></th><th scope=col>gene</th><th scope=col>maxmrk</th><th scope=col>mrkdist</th></tr></thead>\n",
       "<tbody>\n",
       "\t<tr><th scope=row>3</th><td>YCL064C</td><td>37138</td><td>6</td></tr>\n",
       "\t<tr><th scope=row>16</th><td>YML112W</td><td>37140</td><td>8</td></tr>\n",
       "\t<tr><th scope=row>11</th><td>CUT758</td><td>37144</td><td>12</td></tr>\n",
       "\t<tr><th scope=row>14</th><td>YML091C</td><td>37116</td><td>16</td></tr>\n",
       "\t<tr><th scope=row>12</th><td>SUT716</td><td>37151</td><td>19</td></tr>\n",
       "\t<tr><th scope=row>5</th><td>YDR502C</td><td>37157</td><td>25</td></tr>\n",
       "\t<tr><th scope=row>15</th><td>YML121W</td><td>37157</td><td>25</td></tr>\n",
       "\t<tr><th scope=row>2</th><td>SUT015</td><td>37097</td><td>35</td></tr>\n",
       "\t<tr><th scope=row>13</th><td>YML103C</td><td>37171</td><td>39</td></tr>\n",
       "\t<tr><th scope=row>8</th><td>YIL051C</td><td>37172</td><td>40</td></tr>\n",
       "\t<tr><th scope=row>18</th><td>YOR375C</td><td>37084</td><td>48</td></tr>\n",
       "\t<tr><th scope=row>9</th><td>YLR438W</td><td>37188</td><td>56</td></tr>\n",
       "\t<tr><th scope=row>10</th><td>YML123C</td><td>37075</td><td>57</td></tr>\n",
       "\t<tr><th scope=row>6</th><td>snR4</td><td>37064</td><td>68</td></tr>\n",
       "\t<tr><th scope=row>7</th><td>YGR197C</td><td>37202</td><td>70</td></tr>\n",
       "\t<tr><th scope=row>4</th><td>YDR046C</td><td>37038</td><td>94</td></tr>\n",
       "\t<tr><th scope=row>17</th><td>YMR215W</td><td>37037</td><td>95</td></tr>\n",
       "\t<tr><th scope=row>1</th><td>YBR067C</td><td>37036</td><td>96</td></tr>\n",
       "</tbody>\n",
       "</table>\n"
      ],
      "text/latex": [
       "\\begin{tabular}{r|lll}\n",
       "  & gene & maxmrk & mrkdist\\\\\n",
       "\\hline\n",
       "\t3 & YCL064C & 37138 & 6\\\\\n",
       "\t16 & YML112W & 37140 & 8\\\\\n",
       "\t11 & CUT758 & 37144 & 12\\\\\n",
       "\t14 & YML091C & 37116 & 16\\\\\n",
       "\t12 & SUT716 & 37151 & 19\\\\\n",
       "\t5 & YDR502C & 37157 & 25\\\\\n",
       "\t15 & YML121W & 37157 & 25\\\\\n",
       "\t2 & SUT015 & 37097 & 35\\\\\n",
       "\t13 & YML103C & 37171 & 39\\\\\n",
       "\t8 & YIL051C & 37172 & 40\\\\\n",
       "\t18 & YOR375C & 37084 & 48\\\\\n",
       "\t9 & YLR438W & 37188 & 56\\\\\n",
       "\t10 & YML123C & 37075 & 57\\\\\n",
       "\t6 & snR4 & 37064 & 68\\\\\n",
       "\t7 & YGR197C & 37202 & 70\\\\\n",
       "\t4 & YDR046C & 37038 & 94\\\\\n",
       "\t17 & YMR215W & 37037 & 95\\\\\n",
       "\t1 & YBR067C & 37036 & 96\\\\\n",
       "\\end{tabular}\n"
      ],
      "text/plain": [
       "      gene maxmrk mrkdist\n",
       "3  YCL064C  37138       6\n",
       "16 YML112W  37140       8\n",
       "11  CUT758  37144      12\n",
       "14 YML091C  37116      16\n",
       "12  SUT716  37151      19\n",
       "5  YDR502C  37157      25\n",
       "15 YML121W  37157      25\n",
       "2   SUT015  37097      35\n",
       "13 YML103C  37171      39\n",
       "8  YIL051C  37172      40\n",
       "18 YOR375C  37084      48\n",
       "9  YLR438W  37188      56\n",
       "10 YML123C  37075      57\n",
       "6     snR4  37064      68\n",
       "7  YGR197C  37202      70\n",
       "4  YDR046C  37038      94\n",
       "17 YMR215W  37037      95\n",
       "1  YBR067C  37036      96"
      ]
     },
     "execution_count": 42,
     "metadata": {},
     "output_type": "execute_result"
    }
   ],
   "source": [
    "# How many peaks within x markers of putative BUL2 polymorphism?\n",
    "bul2_mrk = 37132\n",
    "mrks = as.numeric(sapply(chr13_eQTL$maxmrk,function(i){strsplit(i,split=\"_\")[[1]][2]}))\n",
    "mrks = data.frame(gene = chr13_eQTL$gene, maxmrk = mrks)\n",
    "distance = 100\n",
    "bul2_associated_mrks = mrks %>% filter(maxmrk %in% seq((bul2_mrk-distance),(bul2_mrk+distance)))\n",
    "bul2_associated_mrks$mrkdist = abs(bul2_associated_mrks$maxmrk-bul2_mrk)\n",
    "bul2_associated_mrks[order(bul2_associated_mrks$mrkdist,decreasing = F),]"
   ]
  }
 ],
 "metadata": {
  "kernelspec": {
   "display_name": "R",
   "language": "R",
   "name": "ir"
  },
  "language_info": {
   "codemirror_mode": "r",
   "file_extension": ".r",
   "mimetype": "text/x-r-source",
   "name": "R",
   "pygments_lexer": "r",
   "version": "3.2.2"
  }
 },
 "nbformat": 4,
 "nbformat_minor": 0
}
