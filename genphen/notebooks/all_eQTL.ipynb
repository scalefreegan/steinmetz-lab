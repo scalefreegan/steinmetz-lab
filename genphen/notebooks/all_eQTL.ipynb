{
 "cells": [
  {
   "cell_type": "markdown",
   "metadata": {},
   "source": [
    "# eQTL chr13 overlapping mQTL chr13"
   ]
  },
  {
   "cell_type": "markdown",
   "metadata": {},
   "source": [
    "Table of all eQTLs"
   ]
  },
  {
   "cell_type": "code",
   "execution_count": 17,
   "metadata": {
    "collapsed": false
   },
   "outputs": [],
   "source": [
    ".libPaths(\"~/R/x86_64-redhat-linux-gnu-library/3.2/\")\n",
    "# config opts and libraries\n",
    "options(repr.plot.width = 6)\n",
    "options(repr.plot.height = 5)\n",
    "library(ggplot2);\n",
    "library(plyr);\n",
    "library(dplyr);\n",
    "library(reshape2);\n",
    "library(LSD);\n",
    "library(pheatmap);\n",
    "library(parallel);\n",
    "options(mc.cores = 5);\n",
    "library(stringr);\n",
    "library(RColorBrewer);\n",
    "library(qtl);\n",
    "library(GenomicRanges);"
   ]
  },
  {
   "cell_type": "code",
   "execution_count": 2,
   "metadata": {
    "collapsed": true
   },
   "outputs": [],
   "source": [
    "# load normalized QTLs\n",
    "load(\"/g/steinmetz/brooks/genphen//metabolome/qtls/mQTLs_comball_funqtl_2014.rda\")\n",
    "mQTLs_funqtl_2014_class = sapply(mQTLs_funqtl_2014,class)\n",
    "mQTLs_funqtl_2014 = mQTLs_funqtl_2014[mQTLs_funqtl_2014_class!=\"try-error\"]"
   ]
  },
  {
   "cell_type": "code",
   "execution_count": 3,
   "metadata": {
    "collapsed": true
   },
   "outputs": [],
   "source": [
    "# load eQTLs\n",
    "load(\"/g/steinmetz/brooks/genphen/transcriptome/qtl/eQTL_08032016.rda\")"
   ]
  },
  {
   "cell_type": "code",
   "execution_count": 4,
   "metadata": {
    "collapsed": true
   },
   "outputs": [],
   "source": [
    "# load genotype and markers files\n",
    "genotype_f = \"/g/steinmetz/brooks/yeast/genomes/S288CxYJM789/genotypes_S288c_R64.rda\"\n",
    "load(genotype_f)"
   ]
  },
  {
   "cell_type": "code",
   "execution_count": null,
   "metadata": {
    "collapsed": false
   },
   "outputs": [],
   "source": [
    "co = .1 # 10% FDR\n",
    "bayesint = .95 # 95% Bayesian confidence interval around QTL\n",
    "\n",
    "# normalized data\n",
    "genes = colnames(eQTL$qtls)[c(-1,-2)]\n",
    "genes_i = seq(3, dim(eQTL$qtls)[2])\n",
    "qtltable = do.call(rbind,lapply(genes_i, function(i){\n",
    "    g = genes[i]\n",
    "    o = try({\n",
    "        #print(i)\n",
    "        m = i\n",
    "        d = data.frame(as.matrix(eQTL$qtls[,1:2]), lod = eQTL$qtls[, i+2])\n",
    "        chrs = unique(d[d$lod >= summary(eQTL$resamples[[i]], alpha = co)[1],][,\"chr\"])\n",
    "        qtl_intervals = list()\n",
    "        if (length(chrs)>0) {\n",
    "          for (j in chrs) {\n",
    "            bi = bayesint(eQTL$qtls, chr = str_pad(j, 2, pad = \"0\"), prob=bayesint, lodcolumn = i)\n",
    "            lod = max(bi[,i+2])\n",
    "            maxmrk = rownames(bi)[which(bi[,i+2]==lod)]\n",
    "            #print(lod)\n",
    "            qtl_intervals[[j]] = try(mrk[rownames(bi)],silent = T)\n",
    "            if (class(qtl_intervals[[j]])==\"try-error\") {\n",
    "              qtl_intervals[[j]] = NULL\n",
    "            } else {\n",
    "              nn = sapply(as.character(seqnames(qtl_intervals[[j]])),function(x){\n",
    "                paste(substr(x,1,3),as.roman(substr(x,4,5)),sep=\"\")\n",
    "              })\n",
    "              qtl_intervals[[j]] = renameSeqlevels(qtl_intervals[[j]],nn)\n",
    "              qtl_intervals[[j]] = keepSeqlevels(qtl_intervals[[j]],unique(nn))\n",
    "              qtl_intervals[[j]] = range(qtl_intervals[[j]])\n",
    "              qtl_intervals[[j]]$maxlod = lod\n",
    "              qtl_intervals[[j]]$maxmrk = maxmrk\n",
    "              qtl_intervals[[j]] = as.data.frame(qtl_intervals[[j]])\n",
    "            }\n",
    "            #print(qtl_intervals)\n",
    "          }\n",
    "        }\n",
    "        if (length(qtl_intervals) > 1) {\n",
    "            qtl_df = do.call(rbind,qtl_intervals)\n",
    "        } else {\n",
    "            qtl_df = as.data.frame(qtl_intervals[[1]])\n",
    "        }\n",
    "        qtl_df = cbind(gene = g, qtl_df)\n",
    "        })\n",
    "        if (class(o)!=\"try-error\") {\n",
    "            return(o)\n",
    "        } else {\n",
    "            return(NULL)\n",
    "        }\n",
    "}))\n",
    "# load eQTLs\n",
    "save(eQTL, qtltable,file = \"/g/steinmetz/brooks/genphen/transcriptome/qtl/eQTL_08032016.rda\")"
   ]
  },
  {
   "cell_type": "code",
   "execution_count": 14,
   "metadata": {
    "collapsed": false
   },
   "outputs": [
    {
     "name": "stdout",
     "output_type": "stream",
     "text": [
      "Number of eQTLs: 4150 @ FDR: 0.1"
     ]
    }
   ],
   "source": [
    "cat(\"Number of eQTLs:\", dim(qtltable)[1], \"@ FDR:\", co)"
   ]
  },
  {
   "cell_type": "code",
   "execution_count": 16,
   "metadata": {
    "collapsed": false
   },
   "outputs": [
    {
     "name": "stdout",
     "output_type": "stream",
     "text": [
      "Number of transcripts with at least 1 eQTL: 3350 @ FDR: 0.1"
     ]
    }
   ],
   "source": [
    "cat(\"Number of transcripts with at least 1 eQTL:\", length(levels(qtltable$gene)), \"@ FDR:\", co)"
   ]
  },
  {
   "cell_type": "code",
   "execution_count": null,
   "metadata": {
    "collapsed": true
   },
   "outputs": [],
   "source": []
  }
 ],
 "metadata": {
  "kernelspec": {
   "display_name": "R",
   "language": "R",
   "name": "ir"
  },
  "language_info": {
   "codemirror_mode": "r",
   "file_extension": ".r",
   "mimetype": "text/x-r-source",
   "name": "R",
   "pygments_lexer": "r",
   "version": "3.2.2"
  }
 },
 "nbformat": 4,
 "nbformat_minor": 0
}
