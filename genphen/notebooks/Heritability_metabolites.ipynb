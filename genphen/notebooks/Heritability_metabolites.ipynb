{
 "cells": [
  {
   "cell_type": "markdown",
   "metadata": {},
   "source": [
    "Calculate heritability for each metabolite as in [Breunig JS, Hackett SR, Rabinowitz JD, Kruglyak L (2014) Genetic Basis of Metabolome Variation in Yeast. PLoS Genet 10(3): e1004142](http://journals.plos.org/plosgenetics/article?id=10.1371/journal.pgen.1004142)"
   ]
  },
  {
   "cell_type": "markdown",
   "metadata": {},
   "source": [
    "\"For each metabolite, segregants with two quantifiable biological replicates were isolated and the variance within replicates was compared to the total across all samples. This is effectively subtracting the environmental variance from the total phenotypic variance to yield the genetic variance. The ratio of genetic variance to phenotypic variance is the broad sense heritability (equation 1)\""
   ]
  },
  {
   "cell_type": "markdown",
   "metadata": {},
   "source": [
    "$$\\hat\\sigma^2_s=\\frac{\\sum_{r=1}^2 (X_{sr}-\\bar X_s)^2}{2} . \\frac{2}{2-1} $$\n",
    "\n",
    "$$H^2=1-\\frac{\\sum_s^S 2 \\hat\\sigma_s^2}{\\sum_s^S \\sum_{r=1}^2 (X_{sr}-\\bar X)^2} $$"
   ]
  },
  {
   "cell_type": "code",
   "execution_count": 5,
   "metadata": {
    "collapsed": false
   },
   "outputs": [],
   "source": [
    "# config opts and libraries\n",
    "options(repr.plot.width = 6)\n",
    "options(repr.plot.height = 5)\n",
    "library(ggplot2);\n",
    "library(plyr);\n",
    "library(dplyr);\n",
    "library(reshape2);\n",
    "library(LSD);\n",
    "library(qtl);\n",
    "library(pheatmap);\n",
    "library(funqtl);\n",
    "library(parallel);\n",
    "options(mc.cores = 24);\n",
    "library(snow);\n",
    "library(igraph);\n",
    "library(stringr);\n",
    "library(RColorBrewer);"
   ]
  },
  {
   "cell_type": "code",
   "execution_count": 18,
   "metadata": {
    "collapsed": false,
    "scrolled": true
   },
   "outputs": [],
   "source": [
    "# load data\n",
    "endo_f = \"/g/steinmetz/project/GenPhen/data/endometabolome/data/endometabolite_full_12102015.rda\"\n",
    "load(endo_f)\n",
    "#head(endometabolite)"
   ]
  },
  {
   "cell_type": "code",
   "execution_count": 17,
   "metadata": {
    "collapsed": false
   },
   "outputs": [
    {
     "data": {
      "text/html": [
       "104"
      ],
      "text/latex": [
       "104"
      ],
      "text/markdown": [
       "104"
      ],
      "text/plain": [
       "[1] 104"
      ]
     },
     "execution_count": 17,
     "metadata": {},
     "output_type": "execute_result"
    }
   ],
   "source": [
    "tmp = endometabolite %>% filter(time_format == \"relative\", metabolite == \"AKG\")\n",
    "length(unique(endometabolite$strain))"
   ]
  },
  {
   "cell_type": "code",
   "execution_count": 31,
   "metadata": {
    "collapsed": false
   },
   "outputs": [
    {
     "data": {
      "text/html": [
       "<table>\n",
       "<thead><tr><th></th><th scope=col>metabolite</th><th scope=col>time</th><th scope=col>mean</th></tr></thead>\n",
       "<tbody>\n",
       "\t<tr><th scope=row>1</th><td>AKG</td><td>1</td><td>28.12393</td></tr>\n",
       "\t<tr><th scope=row>2</th><td>CAN</td><td>1</td><td>12.32951</td></tr>\n",
       "\t<tr><th scope=row>3</th><td>CIT</td><td>1</td><td>2238.648</td></tr>\n",
       "\t<tr><th scope=row>4</th><td>GLUC</td><td>1</td><td>265.5263</td></tr>\n",
       "\t<tr><th scope=row>5</th><td>FUM</td><td>1</td><td>68.27573</td></tr>\n",
       "\t<tr><th scope=row>6</th><td>MAL</td><td>1</td><td>364.2321</td></tr>\n",
       "\t<tr><th scope=row>7</th><td>PEP</td><td>1</td><td>18.05307</td></tr>\n",
       "\t<tr><th scope=row>8</th><td>PYR</td><td>1</td><td>716.4063</td></tr>\n",
       "\t<tr><th scope=row>9</th><td>SUC</td><td>1</td><td>144.9005</td></tr>\n",
       "\t<tr><th scope=row>10</th><td>ALA</td><td>1</td><td>1817.228</td></tr>\n",
       "\t<tr><th scope=row>11</th><td>ARG</td><td>1</td><td>6167.406</td></tr>\n",
       "\t<tr><th scope=row>12</th><td>ASN</td><td>1</td><td>1494.584</td></tr>\n",
       "\t<tr><th scope=row>13</th><td>ASP</td><td>1</td><td>15595.28</td></tr>\n",
       "\t<tr><th scope=row>14</th><td>CYS</td><td>1</td><td>95.06069</td></tr>\n",
       "\t<tr><th scope=row>15</th><td>GLN</td><td>1</td><td>1890.967</td></tr>\n",
       "\t<tr><th scope=row>16</th><td>GLU</td><td>1</td><td>14059.96</td></tr>\n",
       "\t<tr><th scope=row>17</th><td>GLY</td><td>1</td><td>1920.587</td></tr>\n",
       "\t<tr><th scope=row>18</th><td>HIS</td><td>1</td><td>2992.605</td></tr>\n",
       "\t<tr><th scope=row>19</th><td>HSE</td><td>1</td><td>1148.222</td></tr>\n",
       "\t<tr><th scope=row>20</th><td>ILE</td><td>1</td><td>1246.694</td></tr>\n",
       "\t<tr><th scope=row>21</th><td>LEU</td><td>1</td><td>4566.287</td></tr>\n",
       "\t<tr><th scope=row>22</th><td>LYS</td><td>1</td><td>8063.36</td></tr>\n",
       "\t<tr><th scope=row>23</th><td>MET</td><td>1</td><td>862.136</td></tr>\n",
       "\t<tr><th scope=row>24</th><td>PHE</td><td>1</td><td>805.1707</td></tr>\n",
       "\t<tr><th scope=row>25</th><td>PRO</td><td>1</td><td>1202.354</td></tr>\n",
       "\t<tr><th scope=row>26</th><td>SER</td><td>1</td><td>2597.367</td></tr>\n",
       "\t<tr><th scope=row>27</th><td>TRP</td><td>1</td><td>682.3731</td></tr>\n",
       "\t<tr><th scope=row>28</th><td>TYR</td><td>1</td><td>709.9572</td></tr>\n",
       "\t<tr><th scope=row>29</th><td>VAL</td><td>1</td><td>1323.559</td></tr>\n",
       "</tbody>\n",
       "</table>\n"
      ],
      "text/latex": [
       "\\begin{tabular}{r|lll}\n",
       "  & metabolite & time & mean\\\\\n",
       "\\hline\n",
       "\t1 & AKG & 1 & 28.12393\\\\\n",
       "\t2 & CAN & 1 & 12.32951\\\\\n",
       "\t3 & CIT & 1 & 2238.648\\\\\n",
       "\t4 & GLUC & 1 & 265.5263\\\\\n",
       "\t5 & FUM & 1 & 68.27573\\\\\n",
       "\t6 & MAL & 1 & 364.2321\\\\\n",
       "\t7 & PEP & 1 & 18.05307\\\\\n",
       "\t8 & PYR & 1 & 716.4063\\\\\n",
       "\t9 & SUC & 1 & 144.9005\\\\\n",
       "\t10 & ALA & 1 & 1817.228\\\\\n",
       "\t11 & ARG & 1 & 6167.406\\\\\n",
       "\t12 & ASN & 1 & 1494.584\\\\\n",
       "\t13 & ASP & 1 & 15595.28\\\\\n",
       "\t14 & CYS & 1 & 95.06069\\\\\n",
       "\t15 & GLN & 1 & 1890.967\\\\\n",
       "\t16 & GLU & 1 & 14059.96\\\\\n",
       "\t17 & GLY & 1 & 1920.587\\\\\n",
       "\t18 & HIS & 1 & 2992.605\\\\\n",
       "\t19 & HSE & 1 & 1148.222\\\\\n",
       "\t20 & ILE & 1 & 1246.694\\\\\n",
       "\t21 & LEU & 1 & 4566.287\\\\\n",
       "\t22 & LYS & 1 & 8063.36\\\\\n",
       "\t23 & MET & 1 & 862.136\\\\\n",
       "\t24 & PHE & 1 & 805.1707\\\\\n",
       "\t25 & PRO & 1 & 1202.354\\\\\n",
       "\t26 & SER & 1 & 2597.367\\\\\n",
       "\t27 & TRP & 1 & 682.3731\\\\\n",
       "\t28 & TYR & 1 & 709.9572\\\\\n",
       "\t29 & VAL & 1 & 1323.559\\\\\n",
       "\\end{tabular}\n"
      ],
      "text/plain": [
       "Source: local data frame [29 x 3]\n",
       "Groups: metabolite, time [29]\n",
       "\n",
       "   metabolite  time       mean\n",
       "       (fctr) (dbl)      (dbl)\n",
       "1         AKG     1   28.12393\n",
       "2         CAN     1   12.32951\n",
       "3         CIT     1 2238.64817\n",
       "4        GLUC     1  265.52626\n",
       "5         FUM     1   68.27573\n",
       "6         MAL     1  364.23207\n",
       "7         PEP     1   18.05307\n",
       "8         PYR     1  716.40631\n",
       "9         SUC     1  144.90046\n",
       "10        ALA     1 1817.22811\n",
       "..        ...   ...        ..."
      ]
     },
     "execution_count": 31,
     "metadata": {},
     "output_type": "execute_result"
    }
   ],
   "source": [
    "all_var = endometabolite %>% filter(time_format == \"relative\", time == 1) %>% \n",
    "    group_by(metabolite, time) %>% do({\n",
    "        metabolite = .$metabolite[1]\n",
    "        time = .$time[1]\n",
    "        big_mean = mean(.$value, na.rm = T)\n",
    "        df = data.frame(metabolite = metabolite, time = time, mean = big_mean)\n",
    "        return(df)\n",
    "})\n",
    "all_var"
   ]
  },
  {
   "cell_type": "code",
   "execution_count": 7,
   "metadata": {
    "collapsed": false,
    "scrolled": false
   },
   "outputs": [
    {
     "name": "stderr",
     "output_type": "stream",
     "text": [
      "Warning message:\n",
      "In rbind_all(out[[1]]): Unequal factor levels: coercing to character"
     ]
    }
   ],
   "source": [
    "# use relative time_format\n",
    "strain_var = endometabolite %>% filter(time_format == \"relative\") %>% \n",
    "    group_by(metabolite, time, strain) %>% do({\n",
    "        metabolite = .$metabolite[1]\n",
    "        strain = .$strain[1]\n",
    "        time = .$time[1]\n",
    "        small_mean = mean(.$value)\n",
    "        var = (sum((.$value - small_mean)^2)/2) * 2\n",
    "        #var_big = sum((.$value - filter(all_var, metabolite == metabolite, time == time)$mean)^2)\n",
    "        df = data.frame(metabolite = metabolite, strain = strain, time = time, var = var)\n",
    "        return(df)\n",
    "})"
   ]
  },
  {
   "cell_type": "code",
   "execution_count": null,
   "metadata": {
    "collapsed": true
   },
   "outputs": [],
   "source": [
    "H2 = strain_var %>% group_by(., metabolite, time) %>% do({\n",
    "    sum(.$var,na.rm=T)\n",
    "})"
   ]
  },
  {
   "cell_type": "code",
   "execution_count": 30,
   "metadata": {
    "collapsed": false
   },
   "outputs": [
    {
     "data": {
      "text/html": [
       "<table>\n",
       "<thead><tr><th></th><th scope=col>metabolite</th><th scope=col>strain</th><th scope=col>time</th><th scope=col>var</th></tr></thead>\n",
       "<tbody>\n",
       "\t<tr><th scope=row>1</th><td>AKG</td><td>01B</td><td>1</td><td>0.1076056</td></tr>\n",
       "\t<tr><th scope=row>2</th><td>AKG</td><td>01C</td><td>1</td><td>0.3629404</td></tr>\n",
       "\t<tr><th scope=row>3</th><td>AKG</td><td>01D</td><td>1</td><td>17.87012</td></tr>\n",
       "\t<tr><th scope=row>4</th><td>AKG</td><td>02C</td><td>1</td><td>77.27674</td></tr>\n",
       "\t<tr><th scope=row>5</th><td>AKG</td><td>02D</td><td>1</td><td>3.86483</td></tr>\n",
       "\t<tr><th scope=row>6</th><td>AKG</td><td>03A</td><td>1</td><td>5.022146</td></tr>\n",
       "</tbody>\n",
       "</table>\n"
      ],
      "text/latex": [
       "\\begin{tabular}{r|llll}\n",
       "  & metabolite & strain & time & var\\\\\n",
       "\\hline\n",
       "\t1 & AKG & 01B & 1 & 0.1076056\\\\\n",
       "\t2 & AKG & 01C & 1 & 0.3629404\\\\\n",
       "\t3 & AKG & 01D & 1 & 17.87012\\\\\n",
       "\t4 & AKG & 02C & 1 & 77.27674\\\\\n",
       "\t5 & AKG & 02D & 1 & 3.86483\\\\\n",
       "\t6 & AKG & 03A & 1 & 5.022146\\\\\n",
       "\\end{tabular}\n"
      ],
      "text/plain": [
       "Source: local data frame [6 x 4]\n",
       "Groups: metabolite, time, strain [6]\n",
       "\n",
       "  metabolite strain  time        var\n",
       "      (fctr)  (chr) (dbl)      (dbl)\n",
       "1        AKG    01B     1  0.1076056\n",
       "2        AKG    01C     1  0.3629404\n",
       "3        AKG    01D     1 17.8701246\n",
       "4        AKG    02C     1 77.2767420\n",
       "5        AKG    02D     1  3.8648303\n",
       "6        AKG    03A     1  5.0221464"
      ]
     },
     "execution_count": 30,
     "metadata": {},
     "output_type": "execute_result"
    }
   ],
   "source": [
    "head(strain_var)"
   ]
  },
  {
   "cell_type": "code",
   "execution_count": null,
   "metadata": {
    "collapsed": true
   },
   "outputs": [],
   "source": []
  }
 ],
 "metadata": {
  "kernelspec": {
   "display_name": "R",
   "language": "R",
   "name": "ir"
  },
  "language_info": {
   "codemirror_mode": "r",
   "file_extension": ".r",
   "mimetype": "text/x-r-source",
   "name": "R",
   "pygments_lexer": "r",
   "version": "3.2.2"
  }
 },
 "nbformat": 4,
 "nbformat_minor": 0
}
