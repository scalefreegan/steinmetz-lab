{
 "cells": [
  {
   "cell_type": "markdown",
   "metadata": {},
   "source": [
    "What volume of SIRVs to use as spike in..."
   ]
  },
  {
   "cell_type": "markdown",
   "metadata": {},
   "source": [
    "\\begin{align}\n",
    "\\ m_{SIRV} = F_{SIRV reads} * F_{target RNA} * m_{RNA input} \\\\ \\\\\n",
    "\\ V_{SIRV} = \\frac{m_{SIRV}}{C_{SIRV}} = \\frac{F_{SIRV reads} * F_{target RNA} * m_{RNA input}}{C_{SIRV}} \\\\\n",
    "\\end{align}"
   ]
  },
  {
   "cell_type": "markdown",
   "metadata": {},
   "source": [
    "Aiming for 1% of SIRV reads. [5% of yeast RNA is mRNA](http://bionumbers.hms.harvard.edu//bionumber.aspx?&id=100264&ver=5), therefore:"
   ]
  },
  {
   "cell_type": "code",
   "execution_count": 4,
   "metadata": {},
   "outputs": [
    {
     "data": {
      "text/plain": [
       "0.5"
      ]
     },
     "execution_count": 4,
     "metadata": {},
     "output_type": "execute_result"
    }
   ],
   "source": [
    ".01 * .05 * 1000"
   ]
  },
  {
   "cell_type": "markdown",
   "metadata": {},
   "source": [
    "We need .5 ng (500 pg) of SIRVs/ERCCs\n",
    "\n",
    "We follow assumption of Lexogen SIRV Spike-In User Guide, which notes that since SIRVs/ERCCs are similar in size to endogenous mRNA (~1 kb) we can use mass ratio rather than molar ratio. Normally for single-molecule approaches you would want to use the molar ratio.\n",
    "\n",
    "Thus, assuming a 1:200 diltuion of SIRV-Set 3, which is a concentration of 151.5 pg/ul:"
   ]
  },
  {
   "cell_type": "code",
   "execution_count": 6,
   "metadata": {},
   "outputs": [
    {
     "data": {
      "text/plain": [
       "3.3003300330033003"
      ]
     },
     "execution_count": 6,
     "metadata": {},
     "output_type": "execute_result"
    }
   ],
   "source": [
    "500/151.5"
   ]
  },
  {
   "cell_type": "markdown",
   "metadata": {},
   "source": [
    "Thus we should use 1.98 ul of a 1:200 diltuion of SIRV-Set 3 for 1ug of input RNA"
   ]
  },
  {
   "cell_type": "code",
   "execution_count": null,
   "metadata": {
    "collapsed": true
   },
   "outputs": [],
   "source": []
  }
 ],
 "metadata": {
  "kernelspec": {
   "display_name": "Python 3",
   "language": "python",
   "name": "python3"
  },
  "language_info": {
   "codemirror_mode": {
    "name": "ipython",
    "version": 3
   },
   "file_extension": ".py",
   "mimetype": "text/x-python",
   "name": "python",
   "nbconvert_exporter": "python",
   "pygments_lexer": "ipython3",
   "version": "3.5.3"
  }
 },
 "nbformat": 4,
 "nbformat_minor": 2
}
