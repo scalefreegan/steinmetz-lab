{
 "cells": [
  {
   "cell_type": "markdown",
   "metadata": {},
   "source": [
    "# How to Sleuth\n",
    "\n",
    "[Sleuth](http://pachterlab.github.io/sleuth/) computes differential expression from RNA-seq experiments. I used it to test for differentially expressed tRNAs following quantification with [Salmon](http://salmon.readthedocs.io/en/latest/).\n",
    "\n",
    "Sleuth has an interactive feature using Shiny. Here I'll describe how to get that up and running. "
   ]
  },
  {
   "cell_type": "markdown",
   "metadata": {},
   "source": [
    "## 1: Install the sleuth R packages\n",
    "\n",
    "Run the following commands in an active R session to install required packages.\n",
    "\n",
    "```\n",
    "source(\"http://bioconductor.org/biocLite.R\")\n",
    "biocLite(\"rhdf5\")\n",
    "install.packages(\"shiny\")\n",
    "install.packages(\"devtools\")\n",
    "devtools::install_github(\"pachterlab/sleuth\")\n",
    "```"
   ]
  },
  {
   "cell_type": "markdown",
   "metadata": {},
   "source": [
    "## 2. Load sleuth data and start the webserver\n",
    "\n",
    "Again run the following commands in an active R session"
   ]
  },
  {
   "cell_type": "code",
   "execution_count": null,
   "metadata": {
    "collapsed": false
   },
   "outputs": [
    {
     "name": "stderr",
     "output_type": "stream",
     "text": [
      "Loading required package: ggplot2\n",
      "Loading required package: dplyr\n",
      "\n",
      "Attaching package: ‘dplyr’\n",
      "\n",
      "The following objects are masked from ‘package:stats’:\n",
      "\n",
      "    filter, lag\n",
      "\n",
      "The following objects are masked from ‘package:base’:\n",
      "\n",
      "    intersect, setdiff, setequal, union\n",
      "\n",
      "Loading required package: shiny\n",
      "\n",
      "Listening on http://127.0.0.1:42427\n"
     ]
    }
   ],
   "source": [
    "# load sleuth \n",
    "library(\"sleuth\")\n",
    "library(\"devtools\")\n",
    "\n",
    "# load sleuth results\n",
    "githubURL = \"http://scalefreegan.github.io/sleuth_results.rda\"\n",
    "load(url(githubURL))\n",
    "# the results are in a variable called `so`\n",
    "\n",
    "# start shiny server\n",
    "sleuth_live(so)"
   ]
  },
  {
   "cell_type": "markdown",
   "metadata": {},
   "source": [
    "That's it! Enjoy!"
   ]
  }
 ],
 "metadata": {
  "kernelspec": {
   "display_name": "R",
   "language": "R",
   "name": "ir"
  },
  "language_info": {
   "codemirror_mode": "r",
   "file_extension": ".r",
   "mimetype": "text/x-r-source",
   "name": "R",
   "pygments_lexer": "r",
   "version": "3.2.3"
  }
 },
 "nbformat": 4,
 "nbformat_minor": 0
}
