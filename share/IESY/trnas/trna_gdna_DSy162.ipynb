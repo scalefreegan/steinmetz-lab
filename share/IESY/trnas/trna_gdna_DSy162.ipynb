{
 "cells": [
  {
   "cell_type": "markdown",
   "metadata": {},
   "source": [
    "# DSy162 gDNA\n",
    "\n",
    "Question: Is the \"correct\" tRNA neochr in strain DSy162 \n",
    "\n",
    "Deep gDNA sequencing of strain DSy162. Combined data from two experiments. First sequencing of 12 strains together MiSeq, paired end 250 bp. In second round, DFy162 sequenced alone on MiSeq with 250 bp PE reads\n",
    "\n",
    "<script>\n",
    "code_show=true; \n",
    "function code_toggle() {\n",
    " if (code_show){\n",
    " $('div.input').hide();\n",
    " } else {\n",
    " $('div.input').show();\n",
    " }\n",
    " code_show = !code_show\n",
    "} \n",
    "$( document ).ready(code_toggle);\n",
    "</script>\n",
    "<form action=\"javascript:code_toggle()\"><input type=\"submit\" value=\"Click here to toggle code on/off.\"></form>\n"
   ]
  },
  {
   "cell_type": "code",
   "execution_count": 17,
   "metadata": {},
   "outputs": [],
   "source": [
    "from IPython.core.display import HTML\n",
    "%matplotlib inline\n",
    "import matplotlib\n",
    "import numpy as np\n",
    "import matplotlib.pyplot as plt\n",
    "from importlib.machinery import SourceFileLoader\n",
    "import sys, os\n",
    "import site\n",
    "# add conda packages path\n",
    "sys.path.append(\"/g/steinmetz/brooks/anaconda/envs/nanopore/lib/python3.6/site-packages/\")\n",
    "site.addsitedir(\"/g/steinmetz/brooks/anaconda/envs/nanopore/lib/python3.6/site-packages/\")\n",
    "sys.path.insert(0,\"/g/steinmetz/brooks/git/pyGenomeTracks/\")\n",
    "import pickle\n",
    "import pandas as pd\n",
    "import seaborn as sns\n",
    "import matplotlib.ticker as ticker\n",
    "import matplotlib.patches as mpatches\n",
    "from multiprocessing import Pool\n",
    "\n",
    "font = {'family' : 'normal',\n",
    "        'weight' : 'normal',\n",
    "        'size'   : 16}"
   ]
  },
  {
   "cell_type": "markdown",
   "metadata": {},
   "source": [
    "## Chr coverage\n",
    "\n",
    "First thing to note is that coverage on the neochr is way lower than on other chromosomes. This suggests to me that there may be a bias against purifying the neochr? \n",
    "\n",
    "This afffect lowers effective coverage. While other chrs are covered >>100X-1000X, neochr is only average 80X"
   ]
  },
  {
   "cell_type": "code",
   "execution_count": 2,
   "metadata": {},
   "outputs": [
    {
     "name": "stdout",
     "output_type": "stream",
     "text": [
      "Sample: DSy162\n",
      "Alignment file: /g/steinmetz/project/IESY/sequencing/Results/Illumina/trna_neochr/gdna/DSy162_04192018/results/alignment/DSy162_dedup_rg_recal.bam\n",
      "\n",
      "32144342 + 0 in total (QC-passed reads + QC-failed reads)\n",
      "0 + 0 secondary\n",
      "20192 + 0 supplementary\n",
      "476773 + 0 duplicates\n",
      "32104516 + 0 mapped (99.88% : N/A)\n",
      "32124150 + 0 paired in sequencing\n",
      "16062075 + 0 read1\n",
      "16062075 + 0 read2\n",
      "31996484 + 0 properly paired (99.60% : N/A)\n",
      "32059824 + 0 with itself and mate mapped\n",
      "24500 + 0 singletons (0.08% : N/A)\n",
      "37084 + 0 with mate mapped to a different chr\n",
      "26288 + 0 with mate mapped to a different chr (mapQ>=5)\n",
      "\n",
      "reference_sequence_name sequence_length mapped_reads unmapped_reads\n",
      "2-micron\t6318\t12850\t10\n",
      "chr01\t230222\t726548\t522\n",
      "chr02\t813185\t2083130\t1544\n",
      "chr03\t305936\t926042\t717\n",
      "chr04\t1531932\t2978024\t2217\n",
      "chr05\t575777\t1632072\t1247\n",
      "chr06\t270161\t837887\t621\n",
      "chr07\t1090940\t2573318\t2052\n",
      "chr08\t562641\t1648471\t1217\n",
      "chr09\t439891\t1291378\t993\n",
      "chr10\t745751\t1967960\t1585\n",
      "chr11\t666818\t1792090\t1391\n",
      "chr12\t1075778\t3408474\t2765\n",
      "chr13\t924428\t2326135\t1791\n",
      "chr14\t784331\t2041129\t1475\n",
      "chr15\t1091101\t2621103\t2044\n",
      "chr16\t948066\t2297598\t1700\n",
      "chr17\t85781\t879558\t533\n",
      "pRS415\t6021\t602\t3\n",
      "Neochr\t186802\t60147\t73\n",
      "*\t0\t0\t15326\n"
     ]
    }
   ],
   "source": [
    "%%bash\n",
    "cat /g/steinmetz/project/IESY/sequencing/Results/Illumina/trna_neochr/gdna/DSy162_04192018/results/alignment/DSy162_stats.txt"
   ]
  },
  {
   "cell_type": "markdown",
   "metadata": {},
   "source": [
    "## Structural variants (only for neochr)\n",
    "\n",
    "Called with Delly"
   ]
  },
  {
   "cell_type": "code",
   "execution_count": 3,
   "metadata": {},
   "outputs": [
    {
     "name": "stdout",
     "output_type": "stream",
     "text": [
      "/g/steinmetz/project/IESY/sequencing/Results/Illumina/trna_neochr/gdna/DSy162_04192018/results/delly/merge/vcf/BND.vcf:Neochr\t1\tBND00000036\tT\t]pRS415:155]T\t.\tLowQual\n"
     ]
    }
   ],
   "source": [
    "%%bash\n",
    "grep \"^Neochr\" \\\n",
    "/g/steinmetz/project/IESY/sequencing/Results/Illumina/trna_neochr/gdna/DSy162_04192018/results/delly/merge/vcf/*.vcf \\\n",
    "| cut -f 1,2,3,4,5,6,7"
   ]
  },
  {
   "cell_type": "markdown",
   "metadata": {},
   "source": [
    "A tiny bit of evidence (13 reads with low mapping quality) for translocation between neochr and pRS415. I don't believe it."
   ]
  },
  {
   "cell_type": "markdown",
   "metadata": {},
   "source": [
    "## Small variants (only for neochr)\n",
    "\n",
    "Called with GATK"
   ]
  },
  {
   "cell_type": "code",
   "execution_count": 4,
   "metadata": {},
   "outputs": [
    {
     "name": "stdout",
     "output_type": "stream",
     "text": [
      "##contig=<ID=Neochr,length=186802>\n",
      "Neochr\t117\t.\tC\tG\t966\t.\n",
      "Neochr\t372\t.\tC\tCA\t1115.97\t.\n",
      "Neochr\t828\t.\tC\tG\t1782\t.\n",
      "Neochr\t829\t.\tT\tG\t1782\t.\n",
      "Neochr\t832\t.\tC\tCCGT\t1715.97\t.\n",
      "Neochr\t1432\t.\tA\tG\t2014\t.\n",
      "Neochr\t1878\t.\tTCGCG\tT\t1081.97\t.\n",
      "Neochr\t2204\t.\tTA\tT\t2054.97\t.\n",
      "Neochr\t38794\t.\tTA\tT\t2352.97\t.\n",
      "Neochr\t145723\t.\tT\tC\t3248\t.\n",
      "Neochr\t145845\t.\tT\tTA\t2471.97\t.\n",
      "Neochr\t145984\t.\tT\tG\t4050\t.\n",
      "Neochr\t145985\t.\tA\tC\t4050\t.\n",
      "Neochr\t164709\t.\tTA\tT\t1213.97\t.\n",
      "Neochr\t167187\t.\tC\tA\t2252\t.\n",
      "Neochr\t177636\t.\tG\tC\t2183\t.\n",
      "Neochr\t178245\t.\tG\tC\t1625\t.\n",
      "Neochr\t179537\t.\tT\tA\t3001\t.\n",
      "Neochr\t180793\t.\tT\tA\t1934\t.\n",
      "Neochr\t184122\t.\tG\tC\t1366\t.\n",
      "Neochr\t184169\t.\tG\tC\t1194\t.\n"
     ]
    }
   ],
   "source": [
    "%%bash\n",
    "grep \"Neochr\" \\\n",
    "/g/steinmetz/project/IESY/sequencing/Results/Illumina/trna_neochr/gdna/DSy162_04192018/results/vcf/trna_neo_snp.vcf \\\n",
    "| cut -f1,2,3,4,5,6,7"
   ]
  },
  {
   "cell_type": "markdown",
   "metadata": {},
   "source": [
    "A number of SNPs. I think most of these are real (high quality) relative to designed sequence. "
   ]
  },
  {
   "cell_type": "markdown",
   "metadata": {},
   "source": [
    "## Read Coverage\n",
    "\n",
    "Some weird areas wrt read coverage. It drops off in a couple of areas. \n",
    "\n",
    "Most are small deletions @ 1878, 2204, 164709. These are reported above too.\n",
    "\n",
    "Some others would be consistent with chr break points. I'm think that the circular neochr is being linearized preferentially in some places before sequencing. Is this possible? i.e. fragile points."
   ]
  },
  {
   "cell_type": "code",
   "execution_count": 5,
   "metadata": {},
   "outputs": [],
   "source": [
    "f = \"/g/steinmetz/project/IESY/sequencing/Results/Illumina/trna_neochr/gdna/DSy162_04192018/results/bed/DSy162_dedup_rg_recal.bedgraph\"\n",
    "bed = pd.DataFrame.from_csv(f,header=None,sep=\"\\t\")"
   ]
  },
  {
   "cell_type": "code",
   "execution_count": 6,
   "metadata": {},
   "outputs": [
    {
     "data": {
      "text/plain": [
       "[<matplotlib.lines.Line2D at 0x7f40f4c52c88>]"
      ]
     },
     "execution_count": 6,
     "metadata": {},
     "output_type": "execute_result"
    },
    {
     "name": "stderr",
     "output_type": "stream",
     "text": [
      "/root/anaconda3/envs/jupyter/lib/python3.5/site-packages/matplotlib/font_manager.py:1328: UserWarning: findfont: Font family ['normal'] not found. Falling back to DejaVu Sans\n",
      "  (prop.get_family(), self.defaultFamily[fontext]))\n"
     ]
    },
    {
     "data": {
      "image/png": "[encoded data removed]",
      "text/plain": [
       "<Figure size 1440x360 with 1 Axes>"
      ]
     },
     "metadata": {},
     "output_type": "display_data"
    }
   ],
   "source": [
    "fig = plt.figure(figsize=(20, 5))\n",
    "fig.suptitle('Neochr read depth', fontsize=14, fontweight='bold')\n",
    "ax = fig.add_subplot(111)\n",
    "ax.set_xlabel(\"Neochr position (bp)\",**font)\n",
    "ax.set_ylabel(\"log2(read depth)\", **font)\n",
    "ax.plot(list(bed.loc[\"Neochr\"][1]), np.log2(np.array(bed.loc[\"Neochr\"][3])), data=None)"
   ]
  },
  {
   "cell_type": "markdown",
   "metadata": {},
   "source": [
    "Here are some IGV screen shoots from the affected areas and ranges with coverage < 10"
   ]
  },
  {
   "cell_type": "code",
   "execution_count": 12,
   "metadata": {},
   "outputs": [
    {
     "data": {
      "text/html": [
       "<div>\n",
       "<style>\n",
       "    .dataframe thead tr:only-child th {\n",
       "        text-align: right;\n",
       "    }\n",
       "\n",
       "    .dataframe thead th {\n",
       "        text-align: left;\n",
       "    }\n",
       "\n",
       "    .dataframe tbody tr th {\n",
       "        vertical-align: top;\n",
       "    }\n",
       "</style>\n",
       "<table border=\"1\" class=\"dataframe\">\n",
       "  <thead>\n",
       "    <tr style=\"text-align: right;\">\n",
       "      <th></th>\n",
       "      <th>1</th>\n",
       "      <th>2</th>\n",
       "      <th>3</th>\n",
       "    </tr>\n",
       "    <tr>\n",
       "      <th>0</th>\n",
       "      <th></th>\n",
       "      <th></th>\n",
       "      <th></th>\n",
       "    </tr>\n",
       "  </thead>\n",
       "  <tbody>\n",
       "    <tr>\n",
       "      <th>Neochr</th>\n",
       "      <td>1878</td>\n",
       "      <td>1882</td>\n",
       "      <td>1</td>\n",
       "    </tr>\n",
       "    <tr>\n",
       "      <th>Neochr</th>\n",
       "      <td>32645</td>\n",
       "      <td>32648</td>\n",
       "      <td>1</td>\n",
       "    </tr>\n",
       "    <tr>\n",
       "      <th>Neochr</th>\n",
       "      <td>32640</td>\n",
       "      <td>32645</td>\n",
       "      <td>2</td>\n",
       "    </tr>\n",
       "    <tr>\n",
       "      <th>Neochr</th>\n",
       "      <td>32648</td>\n",
       "      <td>32651</td>\n",
       "      <td>2</td>\n",
       "    </tr>\n",
       "    <tr>\n",
       "      <th>Neochr</th>\n",
       "      <td>2204</td>\n",
       "      <td>2205</td>\n",
       "      <td>2</td>\n",
       "    </tr>\n",
       "    <tr>\n",
       "      <th>Neochr</th>\n",
       "      <td>32636</td>\n",
       "      <td>32640</td>\n",
       "      <td>3</td>\n",
       "    </tr>\n",
       "    <tr>\n",
       "      <th>Neochr</th>\n",
       "      <td>164709</td>\n",
       "      <td>164710</td>\n",
       "      <td>3</td>\n",
       "    </tr>\n",
       "    <tr>\n",
       "      <th>Neochr</th>\n",
       "      <td>32651</td>\n",
       "      <td>32663</td>\n",
       "      <td>3</td>\n",
       "    </tr>\n",
       "    <tr>\n",
       "      <th>Neochr</th>\n",
       "      <td>38794</td>\n",
       "      <td>38795</td>\n",
       "      <td>4</td>\n",
       "    </tr>\n",
       "    <tr>\n",
       "      <th>Neochr</th>\n",
       "      <td>32621</td>\n",
       "      <td>32636</td>\n",
       "      <td>4</td>\n",
       "    </tr>\n",
       "    <tr>\n",
       "      <th>Neochr</th>\n",
       "      <td>32663</td>\n",
       "      <td>32672</td>\n",
       "      <td>4</td>\n",
       "    </tr>\n",
       "    <tr>\n",
       "      <th>Neochr</th>\n",
       "      <td>32618</td>\n",
       "      <td>32621</td>\n",
       "      <td>5</td>\n",
       "    </tr>\n",
       "    <tr>\n",
       "      <th>Neochr</th>\n",
       "      <td>32672</td>\n",
       "      <td>32688</td>\n",
       "      <td>5</td>\n",
       "    </tr>\n",
       "    <tr>\n",
       "      <th>Neochr</th>\n",
       "      <td>32688</td>\n",
       "      <td>32703</td>\n",
       "      <td>6</td>\n",
       "    </tr>\n",
       "    <tr>\n",
       "      <th>Neochr</th>\n",
       "      <td>32614</td>\n",
       "      <td>32618</td>\n",
       "      <td>6</td>\n",
       "    </tr>\n",
       "    <tr>\n",
       "      <th>Neochr</th>\n",
       "      <td>32605</td>\n",
       "      <td>32614</td>\n",
       "      <td>7</td>\n",
       "    </tr>\n",
       "    <tr>\n",
       "      <th>Neochr</th>\n",
       "      <td>32703</td>\n",
       "      <td>32705</td>\n",
       "      <td>7</td>\n",
       "    </tr>\n",
       "    <tr>\n",
       "      <th>Neochr</th>\n",
       "      <td>32705</td>\n",
       "      <td>32706</td>\n",
       "      <td>8</td>\n",
       "    </tr>\n",
       "    <tr>\n",
       "      <th>Neochr</th>\n",
       "      <td>32596</td>\n",
       "      <td>32605</td>\n",
       "      <td>8</td>\n",
       "    </tr>\n",
       "    <tr>\n",
       "      <th>Neochr</th>\n",
       "      <td>32706</td>\n",
       "      <td>32707</td>\n",
       "      <td>9</td>\n",
       "    </tr>\n",
       "    <tr>\n",
       "      <th>Neochr</th>\n",
       "      <td>32595</td>\n",
       "      <td>32596</td>\n",
       "      <td>9</td>\n",
       "    </tr>\n",
       "    <tr>\n",
       "      <th>Neochr</th>\n",
       "      <td>32593</td>\n",
       "      <td>32595</td>\n",
       "      <td>10</td>\n",
       "    </tr>\n",
       "    <tr>\n",
       "      <th>Neochr</th>\n",
       "      <td>32707</td>\n",
       "      <td>32710</td>\n",
       "      <td>10</td>\n",
       "    </tr>\n",
       "  </tbody>\n",
       "</table>\n",
       "</div>"
      ],
      "text/plain": [
       "             1       2   3\n",
       "0                         \n",
       "Neochr    1878    1882   1\n",
       "Neochr   32645   32648   1\n",
       "Neochr   32640   32645   2\n",
       "Neochr   32648   32651   2\n",
       "Neochr    2204    2205   2\n",
       "Neochr   32636   32640   3\n",
       "Neochr  164709  164710   3\n",
       "Neochr   32651   32663   3\n",
       "Neochr   38794   38795   4\n",
       "Neochr   32621   32636   4\n",
       "Neochr   32663   32672   4\n",
       "Neochr   32618   32621   5\n",
       "Neochr   32672   32688   5\n",
       "Neochr   32688   32703   6\n",
       "Neochr   32614   32618   6\n",
       "Neochr   32605   32614   7\n",
       "Neochr   32703   32705   7\n",
       "Neochr   32705   32706   8\n",
       "Neochr   32596   32605   8\n",
       "Neochr   32706   32707   9\n",
       "Neochr   32595   32596   9\n",
       "Neochr   32593   32595  10\n",
       "Neochr   32707   32710  10"
      ]
     },
     "execution_count": 12,
     "metadata": {},
     "output_type": "execute_result"
    }
   ],
   "source": [
    "neochr_cov = bed.loc[\"Neochr\"].sort_values(3)\n",
    "neochr_cov.loc[neochr_cov[3]<=10]"
   ]
  },
  {
   "cell_type": "code",
   "execution_count": 19,
   "metadata": {},
   "outputs": [
    {
     "data": {
      "text/html": [
       "<img src='../data/neochr1.png', style='width: 800px;'/>"
      ],
      "text/plain": [
       "<IPython.core.display.HTML object>"
      ]
     },
     "execution_count": 19,
     "metadata": {},
     "output_type": "execute_result"
    }
   ],
   "source": [
    "HTML(\"<img src='../data/neochr1.png', style='width: 800px;'/>\")"
   ]
  },
  {
   "cell_type": "code",
   "execution_count": 20,
   "metadata": {},
   "outputs": [
    {
     "data": {
      "text/html": [
       "<img src='../data/neochr2.png', style='width: 800px;'/>"
      ],
      "text/plain": [
       "<IPython.core.display.HTML object>"
      ]
     },
     "execution_count": 20,
     "metadata": {},
     "output_type": "execute_result"
    }
   ],
   "source": [
    "HTML(\"<img src='../data/neochr2.png', style='width: 800px;'/>\")"
   ]
  },
  {
   "cell_type": "code",
   "execution_count": 21,
   "metadata": {},
   "outputs": [
    {
     "data": {
      "text/html": [
       "<img src='../data/neochr3.png', style='width: 800px;'/>"
      ],
      "text/plain": [
       "<IPython.core.display.HTML object>"
      ]
     },
     "execution_count": 21,
     "metadata": {},
     "output_type": "execute_result"
    }
   ],
   "source": [
    "HTML(\"<img src='../data/neochr3.png', style='width: 800px;'/>\")"
   ]
  },
  {
   "cell_type": "markdown",
   "metadata": {},
   "source": [
    "Strange, huh? What do you think?"
   ]
  }
 ],
 "metadata": {
  "kernelspec": {
   "display_name": "Python 3",
   "language": "python",
   "name": "python3"
  },
  "language_info": {
   "codemirror_mode": {
    "name": "ipython",
    "version": 3
   },
   "file_extension": ".py",
   "mimetype": "text/x-python",
   "name": "python",
   "nbconvert_exporter": "python",
   "pygments_lexer": "ipython3",
   "version": "3.5.4"
  }
 },
 "nbformat": 4,
 "nbformat_minor": 2
}
